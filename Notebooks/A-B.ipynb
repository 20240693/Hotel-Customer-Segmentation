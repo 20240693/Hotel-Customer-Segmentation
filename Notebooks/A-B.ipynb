{
 "cells": [
  {
   "cell_type": "markdown",
   "metadata": {},
   "source": [
    "**<h1 align=\"center\" > Business Cases with Data Science - Case 1</h1>**\n"
   ]
  },
  {
   "cell_type": "markdown",
   "metadata": {},
   "source": [
    "**Group members:**<br> \n",
    "Chloé Deschanel - 20240693 <br>\n",
    "Diogo Carvalho - 20240694 <br>\n",
    "Ingrid Lopez - 20240692 <br>\n",
    "Ruben Marques- 20240352"
   ]
  },
  {
   "cell_type": "markdown",
   "metadata": {},
   "source": [
    "# Introduction"
   ]
  },
  {
   "cell_type": "markdown",
   "metadata": {},
   "source": [
    "Lisbon, Portugal, has experienced remarkable growth in its tourism and hospitality sector over the past decade. As one of Europe’s most sought-after travel destinations, Lisbon attracts a diverse mix of travelers, including leisure tourists, business professionals, digital nomads, and event attendees. The rise of online booking platforms, changing customer expectations, and an increasing emphasis on personalized experiences has significantly impacted the way hotels operate and strategize their market positioning.\n",
    "\n",
    "Traditional segmentation methods—often based on distribution channels (e.g., direct, OTA, corporate bookings)—fail to capture the complexity of modern traveler behaviors. The evolving landscape of hospitality requires a more data-driven approach to customer segmentation, allowing hotels to tailor their services, optimize pricing strategies, and improve customer retention.\n",
    "\n",
    "By leveraging the data provided, we can redefine customer segmentation beyond just how a booking was made. Instead, we can incorporate demographic, behavioral, and spending characteristics to classify customers in a way that aligns with modern hospitality needs, ultimately enhancing revenue management, marketing effectiveness, and guest satisfaction."
   ]
  },
  {
   "cell_type": "markdown",
   "metadata": {},
   "source": [
    "# 1. EDA"
   ]
  },
  {
   "cell_type": "markdown",
   "metadata": {},
   "source": [
    "## 1.1. Imports"
   ]
  },
  {
   "cell_type": "code",
   "execution_count": 163,
   "metadata": {},
   "outputs": [],
   "source": [
    "import numpy as np\n",
    "import pandas as pd\n",
    "import matplotlib.pyplot as plt\n",
    "import seaborn as sns\n",
    "import geopandas as gpd\n",
    "import folium\n",
    "import geodatasets\n",
    "import mapclassify\n",
    "import pycountry_convert as pc\n",
    "from sklearn.preprocessing import MinMaxScaler\n",
    "from sklearn.decomposition import PCA\n",
    "from sklearn.cluster import KMeans\n",
    "\n",
    "# Set display options to show all rows\n",
    "pd.set_option('display.max_rows', None)\n",
    "\n",
    "# Set display options to show all columns\n",
    "pd.set_option('display.max_columns', None)"
   ]
  },
  {
   "cell_type": "markdown",
   "metadata": {},
   "source": [
    "## 1.2 Loading Data"
   ]
  },
  {
   "cell_type": "code",
   "execution_count": 2,
   "metadata": {},
   "outputs": [],
   "source": [
    "data = pd.read_csv(\"../Data/Case1_HotelCustomerSegmentation.csv\", sep=\";\")"
   ]
  },
  {
   "cell_type": "code",
   "execution_count": 3,
   "metadata": {},
   "outputs": [
    {
     "data": {
      "text/html": [
       "<div>\n",
       "<style scoped>\n",
       "    .dataframe tbody tr th:only-of-type {\n",
       "        vertical-align: middle;\n",
       "    }\n",
       "\n",
       "    .dataframe tbody tr th {\n",
       "        vertical-align: top;\n",
       "    }\n",
       "\n",
       "    .dataframe thead th {\n",
       "        text-align: right;\n",
       "    }\n",
       "</style>\n",
       "<table border=\"1\" class=\"dataframe\">\n",
       "  <thead>\n",
       "    <tr style=\"text-align: right;\">\n",
       "      <th></th>\n",
       "      <th>ID</th>\n",
       "      <th>Nationality</th>\n",
       "      <th>Age</th>\n",
       "      <th>DaysSinceCreation</th>\n",
       "      <th>NameHash</th>\n",
       "      <th>DocIDHash</th>\n",
       "      <th>AverageLeadTime</th>\n",
       "      <th>LodgingRevenue</th>\n",
       "      <th>OtherRevenue</th>\n",
       "      <th>BookingsCanceled</th>\n",
       "      <th>BookingsNoShowed</th>\n",
       "      <th>BookingsCheckedIn</th>\n",
       "      <th>PersonsNights</th>\n",
       "      <th>RoomNights</th>\n",
       "      <th>DistributionChannel</th>\n",
       "      <th>MarketSegment</th>\n",
       "      <th>SRHighFloor</th>\n",
       "      <th>SRLowFloor</th>\n",
       "      <th>SRAccessibleRoom</th>\n",
       "      <th>SRMediumFloor</th>\n",
       "      <th>SRBathtub</th>\n",
       "      <th>SRShower</th>\n",
       "      <th>SRCrib</th>\n",
       "      <th>SRKingSizeBed</th>\n",
       "      <th>SRTwinBed</th>\n",
       "      <th>SRNearElevator</th>\n",
       "      <th>SRAwayFromElevator</th>\n",
       "      <th>SRNoAlcoholInMiniBar</th>\n",
       "      <th>SRQuietRoom</th>\n",
       "    </tr>\n",
       "  </thead>\n",
       "  <tbody>\n",
       "    <tr>\n",
       "      <th>17160</th>\n",
       "      <td>17161</td>\n",
       "      <td>GBR</td>\n",
       "      <td>59.0</td>\n",
       "      <td>1086</td>\n",
       "      <td>0xC74DF7B1B157C464F1F1DD1CF84EEF0768244D7D0F27...</td>\n",
       "      <td>0xC0E6D389C219AD2DEBDBEF29A17309F4093C5E0CFF32...</td>\n",
       "      <td>1</td>\n",
       "      <td>111.33</td>\n",
       "      <td>14.0</td>\n",
       "      <td>0</td>\n",
       "      <td>0</td>\n",
       "      <td>1</td>\n",
       "      <td>2</td>\n",
       "      <td>1</td>\n",
       "      <td>Direct</td>\n",
       "      <td>Direct</td>\n",
       "      <td>0</td>\n",
       "      <td>0</td>\n",
       "      <td>0</td>\n",
       "      <td>0</td>\n",
       "      <td>0</td>\n",
       "      <td>0</td>\n",
       "      <td>0</td>\n",
       "      <td>0</td>\n",
       "      <td>0</td>\n",
       "      <td>0</td>\n",
       "      <td>0</td>\n",
       "      <td>0</td>\n",
       "      <td>0</td>\n",
       "    </tr>\n",
       "    <tr>\n",
       "      <th>39855</th>\n",
       "      <td>39856</td>\n",
       "      <td>PRT</td>\n",
       "      <td>NaN</td>\n",
       "      <td>719</td>\n",
       "      <td>0x15EB3316B4838229D545EC37422263406B543C01E347...</td>\n",
       "      <td>0xE3B0C44298FC1C149AFBF4C8996FB92427AE41E4649B...</td>\n",
       "      <td>19</td>\n",
       "      <td>482.60</td>\n",
       "      <td>68.0</td>\n",
       "      <td>0</td>\n",
       "      <td>0</td>\n",
       "      <td>2</td>\n",
       "      <td>8</td>\n",
       "      <td>4</td>\n",
       "      <td>Direct</td>\n",
       "      <td>Direct</td>\n",
       "      <td>0</td>\n",
       "      <td>0</td>\n",
       "      <td>0</td>\n",
       "      <td>0</td>\n",
       "      <td>0</td>\n",
       "      <td>0</td>\n",
       "      <td>0</td>\n",
       "      <td>1</td>\n",
       "      <td>0</td>\n",
       "      <td>0</td>\n",
       "      <td>0</td>\n",
       "      <td>0</td>\n",
       "      <td>0</td>\n",
       "    </tr>\n",
       "    <tr>\n",
       "      <th>91380</th>\n",
       "      <td>91381</td>\n",
       "      <td>CHE</td>\n",
       "      <td>27.0</td>\n",
       "      <td>204</td>\n",
       "      <td>0xD315E952B67E841977BE5B5B041A23CA9DE5E63CD514...</td>\n",
       "      <td>0xE84A8D35726F0005F8AD318887426A6677B4213EB456...</td>\n",
       "      <td>0</td>\n",
       "      <td>0.00</td>\n",
       "      <td>0.0</td>\n",
       "      <td>0</td>\n",
       "      <td>0</td>\n",
       "      <td>0</td>\n",
       "      <td>0</td>\n",
       "      <td>0</td>\n",
       "      <td>Travel Agent/Operator</td>\n",
       "      <td>Other</td>\n",
       "      <td>0</td>\n",
       "      <td>0</td>\n",
       "      <td>0</td>\n",
       "      <td>0</td>\n",
       "      <td>0</td>\n",
       "      <td>0</td>\n",
       "      <td>0</td>\n",
       "      <td>0</td>\n",
       "      <td>1</td>\n",
       "      <td>0</td>\n",
       "      <td>0</td>\n",
       "      <td>0</td>\n",
       "      <td>0</td>\n",
       "    </tr>\n",
       "    <tr>\n",
       "      <th>35566</th>\n",
       "      <td>35567</td>\n",
       "      <td>GBR</td>\n",
       "      <td>40.0</td>\n",
       "      <td>776</td>\n",
       "      <td>0xC11F04A564DA97F92536F2E01176FC2C8CC745419D44...</td>\n",
       "      <td>0xF6E370005CE9B3DD846317F95BF446F5B7602D40C0E3...</td>\n",
       "      <td>209</td>\n",
       "      <td>396.00</td>\n",
       "      <td>24.5</td>\n",
       "      <td>0</td>\n",
       "      <td>0</td>\n",
       "      <td>1</td>\n",
       "      <td>8</td>\n",
       "      <td>4</td>\n",
       "      <td>Travel Agent/Operator</td>\n",
       "      <td>Other</td>\n",
       "      <td>0</td>\n",
       "      <td>0</td>\n",
       "      <td>0</td>\n",
       "      <td>0</td>\n",
       "      <td>0</td>\n",
       "      <td>0</td>\n",
       "      <td>0</td>\n",
       "      <td>0</td>\n",
       "      <td>0</td>\n",
       "      <td>0</td>\n",
       "      <td>0</td>\n",
       "      <td>0</td>\n",
       "      <td>0</td>\n",
       "    </tr>\n",
       "    <tr>\n",
       "      <th>81681</th>\n",
       "      <td>81682</td>\n",
       "      <td>DEU</td>\n",
       "      <td>60.0</td>\n",
       "      <td>314</td>\n",
       "      <td>0x95D0BF1ED8DA48D1F6D29C06E5DE2C8E0622118E54ED...</td>\n",
       "      <td>0x339364A7E238113346B4B31FB066D41789E35EFEC9C8...</td>\n",
       "      <td>0</td>\n",
       "      <td>0.00</td>\n",
       "      <td>0.0</td>\n",
       "      <td>0</td>\n",
       "      <td>0</td>\n",
       "      <td>0</td>\n",
       "      <td>0</td>\n",
       "      <td>0</td>\n",
       "      <td>Travel Agent/Operator</td>\n",
       "      <td>Other</td>\n",
       "      <td>0</td>\n",
       "      <td>0</td>\n",
       "      <td>0</td>\n",
       "      <td>0</td>\n",
       "      <td>0</td>\n",
       "      <td>0</td>\n",
       "      <td>0</td>\n",
       "      <td>1</td>\n",
       "      <td>0</td>\n",
       "      <td>0</td>\n",
       "      <td>0</td>\n",
       "      <td>0</td>\n",
       "      <td>0</td>\n",
       "    </tr>\n",
       "  </tbody>\n",
       "</table>\n",
       "</div>"
      ],
      "text/plain": [
       "          ID Nationality   Age  DaysSinceCreation  \\\n",
       "17160  17161         GBR  59.0               1086   \n",
       "39855  39856         PRT   NaN                719   \n",
       "91380  91381         CHE  27.0                204   \n",
       "35566  35567         GBR  40.0                776   \n",
       "81681  81682         DEU  60.0                314   \n",
       "\n",
       "                                                NameHash  \\\n",
       "17160  0xC74DF7B1B157C464F1F1DD1CF84EEF0768244D7D0F27...   \n",
       "39855  0x15EB3316B4838229D545EC37422263406B543C01E347...   \n",
       "91380  0xD315E952B67E841977BE5B5B041A23CA9DE5E63CD514...   \n",
       "35566  0xC11F04A564DA97F92536F2E01176FC2C8CC745419D44...   \n",
       "81681  0x95D0BF1ED8DA48D1F6D29C06E5DE2C8E0622118E54ED...   \n",
       "\n",
       "                                               DocIDHash  AverageLeadTime  \\\n",
       "17160  0xC0E6D389C219AD2DEBDBEF29A17309F4093C5E0CFF32...                1   \n",
       "39855  0xE3B0C44298FC1C149AFBF4C8996FB92427AE41E4649B...               19   \n",
       "91380  0xE84A8D35726F0005F8AD318887426A6677B4213EB456...                0   \n",
       "35566  0xF6E370005CE9B3DD846317F95BF446F5B7602D40C0E3...              209   \n",
       "81681  0x339364A7E238113346B4B31FB066D41789E35EFEC9C8...                0   \n",
       "\n",
       "       LodgingRevenue  OtherRevenue  BookingsCanceled  BookingsNoShowed  \\\n",
       "17160          111.33          14.0                 0                 0   \n",
       "39855          482.60          68.0                 0                 0   \n",
       "91380            0.00           0.0                 0                 0   \n",
       "35566          396.00          24.5                 0                 0   \n",
       "81681            0.00           0.0                 0                 0   \n",
       "\n",
       "       BookingsCheckedIn  PersonsNights  RoomNights    DistributionChannel  \\\n",
       "17160                  1              2           1                 Direct   \n",
       "39855                  2              8           4                 Direct   \n",
       "91380                  0              0           0  Travel Agent/Operator   \n",
       "35566                  1              8           4  Travel Agent/Operator   \n",
       "81681                  0              0           0  Travel Agent/Operator   \n",
       "\n",
       "      MarketSegment  SRHighFloor  SRLowFloor  SRAccessibleRoom  SRMediumFloor  \\\n",
       "17160        Direct            0           0                 0              0   \n",
       "39855        Direct            0           0                 0              0   \n",
       "91380         Other            0           0                 0              0   \n",
       "35566         Other            0           0                 0              0   \n",
       "81681         Other            0           0                 0              0   \n",
       "\n",
       "       SRBathtub  SRShower  SRCrib  SRKingSizeBed  SRTwinBed  SRNearElevator  \\\n",
       "17160          0         0       0              0          0               0   \n",
       "39855          0         0       0              1          0               0   \n",
       "91380          0         0       0              0          1               0   \n",
       "35566          0         0       0              0          0               0   \n",
       "81681          0         0       0              1          0               0   \n",
       "\n",
       "       SRAwayFromElevator  SRNoAlcoholInMiniBar  SRQuietRoom  \n",
       "17160                   0                     0            0  \n",
       "39855                   0                     0            0  \n",
       "91380                   0                     0            0  \n",
       "35566                   0                     0            0  \n",
       "81681                   0                     0            0  "
      ]
     },
     "execution_count": 3,
     "metadata": {},
     "output_type": "execute_result"
    }
   ],
   "source": [
    "# Display a sample of the dataset\n",
    "data.sample(5)"
   ]
  },
  {
   "cell_type": "code",
   "execution_count": 4,
   "metadata": {},
   "outputs": [],
   "source": [
    "# Set ID as index\n",
    "data.set_index('ID', inplace=True)"
   ]
  },
  {
   "cell_type": "markdown",
   "metadata": {},
   "source": [
    "| #   | Column Name        | Description                                                                                       |\n",
    "|:----|:-------------------|:--------------------------------------------------------------------------------------------------|\n",
    "| 1   | ID        | Customer ID customer. |\n",
    "| 2   | Nationality    | Nationality of the customer in ISO 3166-1 (Alpha 3) format. |\n",
    "| 3   | Age       | Age of the customer. |\n",
    "| 4   | DaysSinceCreation       | Number of elapsed days since the customer was created. |\n",
    "| 5   | NameHash | Hash of the customer's name. |\n",
    "| 6   | DocIDHash | Hash of the customer’s personal document identification number (usually a passport or ID card). |\n",
    "| 7   | AverageLeadTime | Average number of days before arrival date the customer makes bookings. |\n",
    "| 8   | LodgingRevenue | Total amount of lodging revenue paid by the customer so far. |\n",
    "| 9   | OtherRevenue | Total amount of other revenue (e.g., food & beverage, spa, etc.) paid by the customer so far. |\n",
    "| 10  | BookingsCanceled | Number of bookings the customer made but subsequently canceled. |\n",
    "| 11  | BookingsNoShowed | Number of bookings the customer made but subsequently made a \"no-show\". |\n",
    "| 12  | BookingsCheckedin | Number of bookings the customer made, which actually ended up staying. |\n",
    "| 13  | PersonNights | Total person/nights the customer has stayed at the hotel so far. Persons/Nights are the sum of Adults and Children in each booking, multiplied by the number of Nights (Length-of-stay) of the booking. |\n",
    "| 14  | RoomNights | Total of room/nights the customer has stayed at the hotel so far. Room/Nights are the multiplication of the number of rooms of each booking by the the number of Nights (Length-of- stay) of the booking. |\n",
    "| 15  | DistributionChannel | Distribution channel normally used by the customer to make bookings at the hotel. |\n",
    "| 16  | MarketSegment | Current market segment of the customer. |\n",
    "| 17  | SRHighFloor | Indication if the customer usually asks for a room in a higher floor (0: No, 1: Yes). |\n",
    "| 18  | RLowFloor  | Indication if the customer usually asks for a room in a lower floor (0: No, 1: Yes).  | \n",
    "| 19  | SRAccessibleRoom | Indication if the customer usually asks for an accessible room (0: No, 1: Yes). |\n",
    "| 20  | SRMediumFloor | Indication if the customer usually asks for a room in a middle floor (0: No, 1: Yes). |\n",
    "| 21  | SRBathtub | Indication if the customer usually asks for a room with a bathtub (0: No, 1: Yes). |\n",
    "| 22  | SRShower | Indication if the customer usually asks for a room with a shower (0: No, 1: Yes). |\n",
    "| 23  | SRCrib  | Indication if the customer usually asks for a crib (0: No, 1: Yes). |\n",
    "| 24  | SRKingSizeBed | Indication if the customer usually asks for a room with a king size bed (0: No, 1: Yes). |\n",
    "| 25  | SRTwinBed | Indication if the customer usually asks for a room with a twin bed (0: No, 1: Yes). |\n",
    "| 26  | SRNearElevator | Indication if the customer usually asks for a room near the elevator (0: No, 1: Yes). |\n",
    "| 27  | SRAwayFromElevator | Indication if the customer usually asks for a room away from the elevator (0: No, 1: Yes). |\n",
    "| 28  | SRNoAlcoholInMiniBar | Indication if the customer usually asks for a room with no alcohol in the mini bar (0: No, 1: Yes). |\n",
    "| 29  | SRQuietRoom | Indication if the customer usually asks for a room away from the noise (0: No, 1: Yes). |\n"
   ]
  },
  {
   "cell_type": "markdown",
   "metadata": {},
   "source": [
    "## 1.3 Initial analysis\n",
    "\n",
    "**Insights:**\n",
    "\n",
    "- There were 111 duplicated rows that have been removed.\n",
    "- There are two rows with missing values: Age(4092), DocIDHash(932)\n",
    "- The categorical columns are: Nationality, NameHash, DocIDHash, DistributionChannel, MarketSegment\n",
    "- There are 5 categorical columns: Nationality, NameHash, DocIDHash, DistributionChannel, MarketSegment \n",
    "- The remaining 23 columns are numerical."
   ]
  },
  {
   "cell_type": "markdown",
   "metadata": {},
   "source": [
    "### 1.3.1 Types"
   ]
  },
  {
   "cell_type": "code",
   "execution_count": 5,
   "metadata": {},
   "outputs": [
    {
     "name": "stdout",
     "output_type": "stream",
     "text": [
      "<class 'pandas.core.frame.DataFrame'>\n",
      "Index: 111733 entries, 1 to 111733\n",
      "Data columns (total 28 columns):\n",
      " #   Column                Non-Null Count   Dtype  \n",
      "---  ------                --------------   -----  \n",
      " 0   Nationality           111733 non-null  object \n",
      " 1   Age                   107561 non-null  float64\n",
      " 2   DaysSinceCreation     111733 non-null  int64  \n",
      " 3   NameHash              111733 non-null  object \n",
      " 4   DocIDHash             110732 non-null  object \n",
      " 5   AverageLeadTime       111733 non-null  int64  \n",
      " 6   LodgingRevenue        111733 non-null  float64\n",
      " 7   OtherRevenue          111733 non-null  float64\n",
      " 8   BookingsCanceled      111733 non-null  int64  \n",
      " 9   BookingsNoShowed      111733 non-null  int64  \n",
      " 10  BookingsCheckedIn     111733 non-null  int64  \n",
      " 11  PersonsNights         111733 non-null  int64  \n",
      " 12  RoomNights            111733 non-null  int64  \n",
      " 13  DistributionChannel   111733 non-null  object \n",
      " 14  MarketSegment         111733 non-null  object \n",
      " 15  SRHighFloor           111733 non-null  int64  \n",
      " 16  SRLowFloor            111733 non-null  int64  \n",
      " 17  SRAccessibleRoom      111733 non-null  int64  \n",
      " 18  SRMediumFloor         111733 non-null  int64  \n",
      " 19  SRBathtub             111733 non-null  int64  \n",
      " 20  SRShower              111733 non-null  int64  \n",
      " 21  SRCrib                111733 non-null  int64  \n",
      " 22  SRKingSizeBed         111733 non-null  int64  \n",
      " 23  SRTwinBed             111733 non-null  int64  \n",
      " 24  SRNearElevator        111733 non-null  int64  \n",
      " 25  SRAwayFromElevator    111733 non-null  int64  \n",
      " 26  SRNoAlcoholInMiniBar  111733 non-null  int64  \n",
      " 27  SRQuietRoom           111733 non-null  int64  \n",
      "dtypes: float64(3), int64(20), object(5)\n",
      "memory usage: 24.7+ MB\n"
     ]
    }
   ],
   "source": [
    "data.info()"
   ]
  },
  {
   "cell_type": "markdown",
   "metadata": {},
   "source": [
    "### 1.3.2 Duplicates"
   ]
  },
  {
   "cell_type": "code",
   "execution_count": 6,
   "metadata": {},
   "outputs": [
    {
     "name": "stdout",
     "output_type": "stream",
     "text": [
      "Number of duplicates: 111\n"
     ]
    },
    {
     "data": {
      "text/html": [
       "<div>\n",
       "<style scoped>\n",
       "    .dataframe tbody tr th:only-of-type {\n",
       "        vertical-align: middle;\n",
       "    }\n",
       "\n",
       "    .dataframe tbody tr th {\n",
       "        vertical-align: top;\n",
       "    }\n",
       "\n",
       "    .dataframe thead th {\n",
       "        text-align: right;\n",
       "    }\n",
       "</style>\n",
       "<table border=\"1\" class=\"dataframe\">\n",
       "  <thead>\n",
       "    <tr style=\"text-align: right;\">\n",
       "      <th></th>\n",
       "      <th>Nationality</th>\n",
       "      <th>Age</th>\n",
       "      <th>DaysSinceCreation</th>\n",
       "      <th>NameHash</th>\n",
       "      <th>DocIDHash</th>\n",
       "      <th>AverageLeadTime</th>\n",
       "      <th>LodgingRevenue</th>\n",
       "      <th>OtherRevenue</th>\n",
       "      <th>BookingsCanceled</th>\n",
       "      <th>BookingsNoShowed</th>\n",
       "      <th>BookingsCheckedIn</th>\n",
       "      <th>PersonsNights</th>\n",
       "      <th>RoomNights</th>\n",
       "      <th>DistributionChannel</th>\n",
       "      <th>MarketSegment</th>\n",
       "      <th>SRHighFloor</th>\n",
       "      <th>SRLowFloor</th>\n",
       "      <th>SRAccessibleRoom</th>\n",
       "      <th>SRMediumFloor</th>\n",
       "      <th>SRBathtub</th>\n",
       "      <th>SRShower</th>\n",
       "      <th>SRCrib</th>\n",
       "      <th>SRKingSizeBed</th>\n",
       "      <th>SRTwinBed</th>\n",
       "      <th>SRNearElevator</th>\n",
       "      <th>SRAwayFromElevator</th>\n",
       "      <th>SRNoAlcoholInMiniBar</th>\n",
       "      <th>SRQuietRoom</th>\n",
       "    </tr>\n",
       "    <tr>\n",
       "      <th>ID</th>\n",
       "      <th></th>\n",
       "      <th></th>\n",
       "      <th></th>\n",
       "      <th></th>\n",
       "      <th></th>\n",
       "      <th></th>\n",
       "      <th></th>\n",
       "      <th></th>\n",
       "      <th></th>\n",
       "      <th></th>\n",
       "      <th></th>\n",
       "      <th></th>\n",
       "      <th></th>\n",
       "      <th></th>\n",
       "      <th></th>\n",
       "      <th></th>\n",
       "      <th></th>\n",
       "      <th></th>\n",
       "      <th></th>\n",
       "      <th></th>\n",
       "      <th></th>\n",
       "      <th></th>\n",
       "      <th></th>\n",
       "      <th></th>\n",
       "      <th></th>\n",
       "      <th></th>\n",
       "      <th></th>\n",
       "      <th></th>\n",
       "    </tr>\n",
       "  </thead>\n",
       "  <tbody>\n",
       "    <tr>\n",
       "      <th>2745</th>\n",
       "      <td>DZA</td>\n",
       "      <td>40.0</td>\n",
       "      <td>1315</td>\n",
       "      <td>0x70F878B0A1F454A5C02127A21DE02177AD972702F3D3...</td>\n",
       "      <td>0x316A22DB1AF015A0447D9B137FD4E0676D202B425A00...</td>\n",
       "      <td>0</td>\n",
       "      <td>0.0</td>\n",
       "      <td>0.0</td>\n",
       "      <td>0</td>\n",
       "      <td>0</td>\n",
       "      <td>0</td>\n",
       "      <td>0</td>\n",
       "      <td>0</td>\n",
       "      <td>Travel Agent/Operator</td>\n",
       "      <td>Groups</td>\n",
       "      <td>0</td>\n",
       "      <td>0</td>\n",
       "      <td>0</td>\n",
       "      <td>0</td>\n",
       "      <td>0</td>\n",
       "      <td>0</td>\n",
       "      <td>0</td>\n",
       "      <td>0</td>\n",
       "      <td>0</td>\n",
       "      <td>0</td>\n",
       "      <td>0</td>\n",
       "      <td>0</td>\n",
       "      <td>0</td>\n",
       "    </tr>\n",
       "    <tr>\n",
       "      <th>64059</th>\n",
       "      <td>PRT</td>\n",
       "      <td>NaN</td>\n",
       "      <td>458</td>\n",
       "      <td>0xF1465EC9E2D0027094B7C3D72772A862A635E461FFFC...</td>\n",
       "      <td>NaN</td>\n",
       "      <td>0</td>\n",
       "      <td>0.0</td>\n",
       "      <td>0.0</td>\n",
       "      <td>0</td>\n",
       "      <td>0</td>\n",
       "      <td>0</td>\n",
       "      <td>0</td>\n",
       "      <td>0</td>\n",
       "      <td>Travel Agent/Operator</td>\n",
       "      <td>Other</td>\n",
       "      <td>0</td>\n",
       "      <td>0</td>\n",
       "      <td>0</td>\n",
       "      <td>0</td>\n",
       "      <td>0</td>\n",
       "      <td>0</td>\n",
       "      <td>0</td>\n",
       "      <td>0</td>\n",
       "      <td>0</td>\n",
       "      <td>0</td>\n",
       "      <td>0</td>\n",
       "      <td>0</td>\n",
       "      <td>0</td>\n",
       "    </tr>\n",
       "    <tr>\n",
       "      <th>83685</th>\n",
       "      <td>PRT</td>\n",
       "      <td>NaN</td>\n",
       "      <td>289</td>\n",
       "      <td>0x690CD2C7BD471B712ABB1014A63353E68583848F4CAE...</td>\n",
       "      <td>NaN</td>\n",
       "      <td>0</td>\n",
       "      <td>0.0</td>\n",
       "      <td>0.0</td>\n",
       "      <td>0</td>\n",
       "      <td>0</td>\n",
       "      <td>0</td>\n",
       "      <td>0</td>\n",
       "      <td>0</td>\n",
       "      <td>Travel Agent/Operator</td>\n",
       "      <td>Other</td>\n",
       "      <td>0</td>\n",
       "      <td>0</td>\n",
       "      <td>0</td>\n",
       "      <td>0</td>\n",
       "      <td>0</td>\n",
       "      <td>0</td>\n",
       "      <td>0</td>\n",
       "      <td>0</td>\n",
       "      <td>0</td>\n",
       "      <td>0</td>\n",
       "      <td>0</td>\n",
       "      <td>0</td>\n",
       "      <td>0</td>\n",
       "    </tr>\n",
       "    <tr>\n",
       "      <th>69450</th>\n",
       "      <td>FRA</td>\n",
       "      <td>28.0</td>\n",
       "      <td>418</td>\n",
       "      <td>0x0FE0F538E382A213D384E3D6E22899288D5B161DF736...</td>\n",
       "      <td>0xA4D1F883AEF391C99A967110924E7F8144B4A69D3CB0...</td>\n",
       "      <td>0</td>\n",
       "      <td>0.0</td>\n",
       "      <td>0.0</td>\n",
       "      <td>0</td>\n",
       "      <td>0</td>\n",
       "      <td>0</td>\n",
       "      <td>0</td>\n",
       "      <td>0</td>\n",
       "      <td>Direct</td>\n",
       "      <td>Direct</td>\n",
       "      <td>0</td>\n",
       "      <td>0</td>\n",
       "      <td>0</td>\n",
       "      <td>0</td>\n",
       "      <td>0</td>\n",
       "      <td>0</td>\n",
       "      <td>0</td>\n",
       "      <td>0</td>\n",
       "      <td>0</td>\n",
       "      <td>0</td>\n",
       "      <td>0</td>\n",
       "      <td>0</td>\n",
       "      <td>0</td>\n",
       "    </tr>\n",
       "    <tr>\n",
       "      <th>84040</th>\n",
       "      <td>GBR</td>\n",
       "      <td>67.0</td>\n",
       "      <td>287</td>\n",
       "      <td>0x5C672E986ECCDF9C915883A86FDBD4BF87DDAD8C0963...</td>\n",
       "      <td>0xF8B1EC1D0B301753E1649BF3F87833762419769E1FC1...</td>\n",
       "      <td>0</td>\n",
       "      <td>0.0</td>\n",
       "      <td>0.0</td>\n",
       "      <td>0</td>\n",
       "      <td>0</td>\n",
       "      <td>0</td>\n",
       "      <td>0</td>\n",
       "      <td>0</td>\n",
       "      <td>Travel Agent/Operator</td>\n",
       "      <td>Travel Agent/Operator</td>\n",
       "      <td>0</td>\n",
       "      <td>0</td>\n",
       "      <td>0</td>\n",
       "      <td>0</td>\n",
       "      <td>0</td>\n",
       "      <td>0</td>\n",
       "      <td>0</td>\n",
       "      <td>0</td>\n",
       "      <td>0</td>\n",
       "      <td>0</td>\n",
       "      <td>0</td>\n",
       "      <td>0</td>\n",
       "      <td>0</td>\n",
       "    </tr>\n",
       "  </tbody>\n",
       "</table>\n",
       "</div>"
      ],
      "text/plain": [
       "      Nationality   Age  DaysSinceCreation  \\\n",
       "ID                                           \n",
       "2745          DZA  40.0               1315   \n",
       "64059         PRT   NaN                458   \n",
       "83685         PRT   NaN                289   \n",
       "69450         FRA  28.0                418   \n",
       "84040         GBR  67.0                287   \n",
       "\n",
       "                                                NameHash  \\\n",
       "ID                                                         \n",
       "2745   0x70F878B0A1F454A5C02127A21DE02177AD972702F3D3...   \n",
       "64059  0xF1465EC9E2D0027094B7C3D72772A862A635E461FFFC...   \n",
       "83685  0x690CD2C7BD471B712ABB1014A63353E68583848F4CAE...   \n",
       "69450  0x0FE0F538E382A213D384E3D6E22899288D5B161DF736...   \n",
       "84040  0x5C672E986ECCDF9C915883A86FDBD4BF87DDAD8C0963...   \n",
       "\n",
       "                                               DocIDHash  AverageLeadTime  \\\n",
       "ID                                                                          \n",
       "2745   0x316A22DB1AF015A0447D9B137FD4E0676D202B425A00...                0   \n",
       "64059                                                NaN                0   \n",
       "83685                                                NaN                0   \n",
       "69450  0xA4D1F883AEF391C99A967110924E7F8144B4A69D3CB0...                0   \n",
       "84040  0xF8B1EC1D0B301753E1649BF3F87833762419769E1FC1...                0   \n",
       "\n",
       "       LodgingRevenue  OtherRevenue  BookingsCanceled  BookingsNoShowed  \\\n",
       "ID                                                                        \n",
       "2745              0.0           0.0                 0                 0   \n",
       "64059             0.0           0.0                 0                 0   \n",
       "83685             0.0           0.0                 0                 0   \n",
       "69450             0.0           0.0                 0                 0   \n",
       "84040             0.0           0.0                 0                 0   \n",
       "\n",
       "       BookingsCheckedIn  PersonsNights  RoomNights    DistributionChannel  \\\n",
       "ID                                                                           \n",
       "2745                   0              0           0  Travel Agent/Operator   \n",
       "64059                  0              0           0  Travel Agent/Operator   \n",
       "83685                  0              0           0  Travel Agent/Operator   \n",
       "69450                  0              0           0                 Direct   \n",
       "84040                  0              0           0  Travel Agent/Operator   \n",
       "\n",
       "               MarketSegment  SRHighFloor  SRLowFloor  SRAccessibleRoom  \\\n",
       "ID                                                                        \n",
       "2745                  Groups            0           0                 0   \n",
       "64059                  Other            0           0                 0   \n",
       "83685                  Other            0           0                 0   \n",
       "69450                 Direct            0           0                 0   \n",
       "84040  Travel Agent/Operator            0           0                 0   \n",
       "\n",
       "       SRMediumFloor  SRBathtub  SRShower  SRCrib  SRKingSizeBed  SRTwinBed  \\\n",
       "ID                                                                            \n",
       "2745               0          0         0       0              0          0   \n",
       "64059              0          0         0       0              0          0   \n",
       "83685              0          0         0       0              0          0   \n",
       "69450              0          0         0       0              0          0   \n",
       "84040              0          0         0       0              0          0   \n",
       "\n",
       "       SRNearElevator  SRAwayFromElevator  SRNoAlcoholInMiniBar  SRQuietRoom  \n",
       "ID                                                                            \n",
       "2745                0                   0                     0            0  \n",
       "64059               0                   0                     0            0  \n",
       "83685               0                   0                     0            0  \n",
       "69450               0                   0                     0            0  \n",
       "84040               0                   0                     0            0  "
      ]
     },
     "execution_count": 6,
     "metadata": {},
     "output_type": "execute_result"
    }
   ],
   "source": [
    "# Check for duplicates\n",
    "duplicates = data.duplicated()\n",
    "print(f\"Number of duplicates: {duplicates.sum()}\")\n",
    "data[duplicates].sample(5)"
   ]
  },
  {
   "cell_type": "code",
   "execution_count": 7,
   "metadata": {},
   "outputs": [
    {
     "name": "stdout",
     "output_type": "stream",
     "text": [
      "There are 0 duplicates left in the dataset.\n"
     ]
    }
   ],
   "source": [
    "# Drop duplicates\n",
    "data.drop_duplicates(inplace=True)\n",
    "print(f'There are {data.duplicated().sum()} duplicates left in the dataset.')"
   ]
  },
  {
   "cell_type": "markdown",
   "metadata": {},
   "source": [
    "### 1.3.3 Missing Values"
   ]
  },
  {
   "cell_type": "code",
   "execution_count": 8,
   "metadata": {},
   "outputs": [
    {
     "data": {
      "text/plain": [
       "Age          4092\n",
       "DocIDHash     932\n",
       "dtype: int64"
      ]
     },
     "execution_count": 8,
     "metadata": {},
     "output_type": "execute_result"
    }
   ],
   "source": [
    "# Check missing values per columns\n",
    "missing_values = data.isnull().sum()\n",
    "missing_values = missing_values[missing_values > 0]\n",
    "missing_values"
   ]
  },
  {
   "cell_type": "markdown",
   "metadata": {},
   "source": [
    "### 1.3.4 Statistics"
   ]
  },
  {
   "cell_type": "code",
   "execution_count": 9,
   "metadata": {},
   "outputs": [],
   "source": [
    "# Separate numerical and categorical columns\n",
    "numerical_columns = data.select_dtypes(include=np.number).columns.tolist()\n",
    "categorical_columns = data.select_dtypes(include='object').columns.tolist()"
   ]
  },
  {
   "cell_type": "code",
   "execution_count": 10,
   "metadata": {},
   "outputs": [
    {
     "name": "stdout",
     "output_type": "stream",
     "text": [
      "There are 5 categorical columns: Nationality, NameHash, DocIDHash, DistributionChannel, MarketSegment\n"
     ]
    }
   ],
   "source": [
    "# print the categorical columns\n",
    "print(f'There are {len(categorical_columns)} categorical columns: {\", \".join(map(str, categorical_columns))}')"
   ]
  },
  {
   "cell_type": "code",
   "execution_count": 11,
   "metadata": {},
   "outputs": [
    {
     "name": "stdout",
     "output_type": "stream",
     "text": [
      "There are 23 numerical columns: Age, DaysSinceCreation, AverageLeadTime, LodgingRevenue, OtherRevenue, BookingsCanceled, BookingsNoShowed, BookingsCheckedIn, PersonsNights, RoomNights, SRHighFloor, SRLowFloor, SRAccessibleRoom, SRMediumFloor, SRBathtub, SRShower, SRCrib, SRKingSizeBed, SRTwinBed, SRNearElevator, SRAwayFromElevator, SRNoAlcoholInMiniBar, SRQuietRoom\n"
     ]
    }
   ],
   "source": [
    "# print the numerical columns\n",
    "print(f'There are {len(numerical_columns)} numerical columns: {\", \".join(map(str, numerical_columns))}')"
   ]
  },
  {
   "cell_type": "markdown",
   "metadata": {},
   "source": [
    "## 1.4 Dataset cleaning"
   ]
  },
  {
   "cell_type": "markdown",
   "metadata": {},
   "source": [
    "### 1.4.1 Drop MarketSegment"
   ]
  },
  {
   "cell_type": "code",
   "execution_count": 12,
   "metadata": {},
   "outputs": [
    {
     "name": "stdout",
     "output_type": "stream",
     "text": [
      "The 7 unique market segments are: Corporate, Travel Agent/Operator, Other, Direct, Complementary, Groups, Aviation.\n"
     ]
    }
   ],
   "source": [
    "# Check the unique market segments\n",
    "marketsegments = data['MarketSegment'].unique()\n",
    "print(f'The {len(marketsegments)} unique market segments are: {\", \".join(map(str, marketsegments))}.')"
   ]
  },
  {
   "cell_type": "markdown",
   "metadata": {},
   "source": [
    "After getting the initial segments into a list, the MarketSegment feature will be dropped, as we aim to develop a new customer segmentation model. Retaining this feature would not contribute to our analysis."
   ]
  },
  {
   "cell_type": "code",
   "execution_count": 13,
   "metadata": {},
   "outputs": [],
   "source": [
    "# Dropping the MarketSegment feature\n",
    "data.drop('MarketSegment', axis=1, inplace=True)"
   ]
  },
  {
   "cell_type": "markdown",
   "metadata": {},
   "source": [
    "### 1.4.2 Drop duplicates in DocIDHash"
   ]
  },
  {
   "cell_type": "code",
   "execution_count": 14,
   "metadata": {},
   "outputs": [
    {
     "name": "stdout",
     "output_type": "stream",
     "text": [
      "There are 8141 duplicates in the DocIDHash column.\n"
     ]
    }
   ],
   "source": [
    "# Check the number of duplicates in DocIDHash\n",
    "data['DocIDHash'].duplicated().sum()\n",
    "print(f'There are {data[\"DocIDHash\"].duplicated().sum()} duplicates in the DocIDHash column.')"
   ]
  },
  {
   "cell_type": "code",
   "execution_count": 15,
   "metadata": {},
   "outputs": [],
   "source": [
    "# Drop features where DocIDHash is duplicated\n",
    "data.drop_duplicates(subset='DocIDHash',\n",
    "                     keep='first',\n",
    "                     inplace=True) # Keep the first occurrence of the duplicated value  "
   ]
  },
  {
   "cell_type": "markdown",
   "metadata": {},
   "source": [
    "### 1.4.3 Drop features DocIDHash and NameHash"
   ]
  },
  {
   "cell_type": "markdown",
   "metadata": {},
   "source": [
    "After removing duplicates based on DocIDHash, we will drop both NameHash and DocIDHash, as these are solely identification features and do not contribute to the segmentation."
   ]
  },
  {
   "cell_type": "code",
   "execution_count": 16,
   "metadata": {},
   "outputs": [],
   "source": [
    "# Drop columns relative to identification (NameHash, DocIDHash)\n",
    "data.drop(['NameHash', 'DocIDHash'], axis=1, inplace=True)"
   ]
  },
  {
   "cell_type": "markdown",
   "metadata": {},
   "source": [
    "### 1.4.4 Create feature TotalRevenue"
   ]
  },
  {
   "cell_type": "markdown",
   "metadata": {},
   "source": [
    "We will create a new feature, TotalRevenue, to distinguish customers (those who have spent) from registered accounts (those who have not). <br>\n",
    "This will allow us to filter the dataset accordingly and focus our efforts on the customers."
   ]
  },
  {
   "cell_type": "code",
   "execution_count": 17,
   "metadata": {},
   "outputs": [],
   "source": [
    "# Create a feature called TotalRevenue which is the sum of LodgingRevenue and OtherRevenue\n",
    "data['TotalRevenue'] = data['LodgingRevenue'] + data['OtherRevenue']"
   ]
  },
  {
   "cell_type": "code",
   "execution_count": 18,
   "metadata": {},
   "outputs": [
    {
     "name": "stdout",
     "output_type": "stream",
     "text": [
      "There are 31349 customers with no spending data, which is 30.29% of the dataset.\n"
     ]
    }
   ],
   "source": [
    "# Check how many customers have a TotalRevenue of 0 and how many have bigger than zero\n",
    "nospendingdata = data[data['TotalRevenue']==0].shape[0]\n",
    "print(f'There are {nospendingdata} customers with no spending data, which is {nospendingdata/data.shape[0]*100:.2f}% of the dataset.')"
   ]
  },
  {
   "cell_type": "markdown",
   "metadata": {},
   "source": [
    "Approximately 30% of the dataset comprises accounts with zero spending. To focus solely on actual customers, we will filter the dataset using TotalRevenue, retaining only accounts that have made transactions at the hotel. This refined dataset will be used for all subsequent analyses."
   ]
  },
  {
   "cell_type": "markdown",
   "metadata": {},
   "source": [
    "### 1.4.5 Check if there's any incoherence in the dataset"
   ]
  },
  {
   "cell_type": "code",
   "execution_count": 19,
   "metadata": {},
   "outputs": [
    {
     "name": "stdout",
     "output_type": "stream",
     "text": [
      "(4, 26)\n"
     ]
    }
   ],
   "source": [
    "print(data[data['BookingsCheckedIn']>data['PersonsNights']].shape)"
   ]
  },
  {
   "cell_type": "markdown",
   "metadata": {},
   "source": [
    "There's 4 rows where this happens"
   ]
  },
  {
   "cell_type": "code",
   "execution_count": 20,
   "metadata": {},
   "outputs": [],
   "source": [
    "data = data[data['BookingsCheckedIn']<data['PersonsNights']]"
   ]
  },
  {
   "cell_type": "code",
   "execution_count": 21,
   "metadata": {},
   "outputs": [
    {
     "name": "stdout",
     "output_type": "stream",
     "text": [
      "(10, 26)\n"
     ]
    }
   ],
   "source": [
    "print(data[data['RoomNights']>data['PersonsNights']].shape)"
   ]
  },
  {
   "cell_type": "markdown",
   "metadata": {},
   "source": [
    "There's 18 rows where this happen"
   ]
  },
  {
   "cell_type": "code",
   "execution_count": 22,
   "metadata": {},
   "outputs": [],
   "source": [
    "data = data[data['RoomNights']<data['PersonsNights']]"
   ]
  },
  {
   "cell_type": "markdown",
   "metadata": {},
   "source": [
    "### 1.4.6 Create dataframe customers"
   ]
  },
  {
   "cell_type": "code",
   "execution_count": 23,
   "metadata": {},
   "outputs": [],
   "source": [
    "# Create a dataframe with only customers who have spent\n",
    "customers = data[data['TotalRevenue']>0]"
   ]
  },
  {
   "cell_type": "code",
   "execution_count": 24,
   "metadata": {},
   "outputs": [],
   "source": [
    "# Separate numerical and categorical columns\n",
    "customers_numerical = customers.select_dtypes(exclude = 'object')\n",
    "customers_categorical = customers.select_dtypes(include='object')"
   ]
  },
  {
   "cell_type": "code",
   "execution_count": 25,
   "metadata": {},
   "outputs": [
    {
     "data": {
      "text/html": [
       "<div>\n",
       "<style scoped>\n",
       "    .dataframe tbody tr th:only-of-type {\n",
       "        vertical-align: middle;\n",
       "    }\n",
       "\n",
       "    .dataframe tbody tr th {\n",
       "        vertical-align: top;\n",
       "    }\n",
       "\n",
       "    .dataframe thead th {\n",
       "        text-align: right;\n",
       "    }\n",
       "</style>\n",
       "<table border=\"1\" class=\"dataframe\">\n",
       "  <thead>\n",
       "    <tr style=\"text-align: right;\">\n",
       "      <th></th>\n",
       "      <th>count</th>\n",
       "      <th>mean</th>\n",
       "      <th>std</th>\n",
       "      <th>min</th>\n",
       "      <th>25%</th>\n",
       "      <th>50%</th>\n",
       "      <th>75%</th>\n",
       "      <th>max</th>\n",
       "    </tr>\n",
       "  </thead>\n",
       "  <tbody>\n",
       "    <tr>\n",
       "      <th>Age</th>\n",
       "      <td>56616.0</td>\n",
       "      <td>48.154038</td>\n",
       "      <td>15.703972</td>\n",
       "      <td>-9.0</td>\n",
       "      <td>36.00</td>\n",
       "      <td>49.0</td>\n",
       "      <td>59.00</td>\n",
       "      <td>115.00</td>\n",
       "    </tr>\n",
       "    <tr>\n",
       "      <th>DaysSinceCreation</th>\n",
       "      <td>56761.0</td>\n",
       "      <td>697.629869</td>\n",
       "      <td>376.213488</td>\n",
       "      <td>36.0</td>\n",
       "      <td>391.00</td>\n",
       "      <td>730.0</td>\n",
       "      <td>1021.00</td>\n",
       "      <td>1385.00</td>\n",
       "    </tr>\n",
       "    <tr>\n",
       "      <th>AverageLeadTime</th>\n",
       "      <td>56761.0</td>\n",
       "      <td>97.265852</td>\n",
       "      <td>91.196560</td>\n",
       "      <td>-1.0</td>\n",
       "      <td>26.00</td>\n",
       "      <td>71.0</td>\n",
       "      <td>147.00</td>\n",
       "      <td>588.00</td>\n",
       "    </tr>\n",
       "    <tr>\n",
       "      <th>LodgingRevenue</th>\n",
       "      <td>56761.0</td>\n",
       "      <td>425.367468</td>\n",
       "      <td>375.631247</td>\n",
       "      <td>0.0</td>\n",
       "      <td>217.08</td>\n",
       "      <td>332.0</td>\n",
       "      <td>506.96</td>\n",
       "      <td>14044.80</td>\n",
       "    </tr>\n",
       "    <tr>\n",
       "      <th>OtherRevenue</th>\n",
       "      <td>56761.0</td>\n",
       "      <td>105.826474</td>\n",
       "      <td>131.688573</td>\n",
       "      <td>0.0</td>\n",
       "      <td>42.00</td>\n",
       "      <td>71.5</td>\n",
       "      <td>131.00</td>\n",
       "      <td>8859.25</td>\n",
       "    </tr>\n",
       "    <tr>\n",
       "      <th>BookingsCanceled</th>\n",
       "      <td>56761.0</td>\n",
       "      <td>0.000969</td>\n",
       "      <td>0.071595</td>\n",
       "      <td>0.0</td>\n",
       "      <td>0.00</td>\n",
       "      <td>0.0</td>\n",
       "      <td>0.00</td>\n",
       "      <td>15.00</td>\n",
       "    </tr>\n",
       "    <tr>\n",
       "      <th>BookingsNoShowed</th>\n",
       "      <td>56761.0</td>\n",
       "      <td>0.000194</td>\n",
       "      <td>0.013920</td>\n",
       "      <td>0.0</td>\n",
       "      <td>0.00</td>\n",
       "      <td>0.0</td>\n",
       "      <td>0.00</td>\n",
       "      <td>1.00</td>\n",
       "    </tr>\n",
       "    <tr>\n",
       "      <th>BookingsCheckedIn</th>\n",
       "      <td>56761.0</td>\n",
       "      <td>1.026286</td>\n",
       "      <td>0.443471</td>\n",
       "      <td>1.0</td>\n",
       "      <td>1.00</td>\n",
       "      <td>1.0</td>\n",
       "      <td>1.00</td>\n",
       "      <td>76.00</td>\n",
       "    </tr>\n",
       "    <tr>\n",
       "      <th>PersonsNights</th>\n",
       "      <td>56761.0</td>\n",
       "      <td>7.295678</td>\n",
       "      <td>4.284033</td>\n",
       "      <td>2.0</td>\n",
       "      <td>4.00</td>\n",
       "      <td>6.0</td>\n",
       "      <td>9.00</td>\n",
       "      <td>99.00</td>\n",
       "    </tr>\n",
       "    <tr>\n",
       "      <th>RoomNights</th>\n",
       "      <td>56761.0</td>\n",
       "      <td>3.303483</td>\n",
       "      <td>1.791739</td>\n",
       "      <td>1.0</td>\n",
       "      <td>2.00</td>\n",
       "      <td>3.0</td>\n",
       "      <td>4.00</td>\n",
       "      <td>88.00</td>\n",
       "    </tr>\n",
       "    <tr>\n",
       "      <th>SRHighFloor</th>\n",
       "      <td>56761.0</td>\n",
       "      <td>0.048431</td>\n",
       "      <td>0.214677</td>\n",
       "      <td>0.0</td>\n",
       "      <td>0.00</td>\n",
       "      <td>0.0</td>\n",
       "      <td>0.00</td>\n",
       "      <td>1.00</td>\n",
       "    </tr>\n",
       "    <tr>\n",
       "      <th>SRLowFloor</th>\n",
       "      <td>56761.0</td>\n",
       "      <td>0.001480</td>\n",
       "      <td>0.038441</td>\n",
       "      <td>0.0</td>\n",
       "      <td>0.00</td>\n",
       "      <td>0.0</td>\n",
       "      <td>0.00</td>\n",
       "      <td>1.00</td>\n",
       "    </tr>\n",
       "    <tr>\n",
       "      <th>SRAccessibleRoom</th>\n",
       "      <td>56761.0</td>\n",
       "      <td>0.000282</td>\n",
       "      <td>0.016787</td>\n",
       "      <td>0.0</td>\n",
       "      <td>0.00</td>\n",
       "      <td>0.0</td>\n",
       "      <td>0.00</td>\n",
       "      <td>1.00</td>\n",
       "    </tr>\n",
       "    <tr>\n",
       "      <th>SRMediumFloor</th>\n",
       "      <td>56761.0</td>\n",
       "      <td>0.000758</td>\n",
       "      <td>0.027514</td>\n",
       "      <td>0.0</td>\n",
       "      <td>0.00</td>\n",
       "      <td>0.0</td>\n",
       "      <td>0.00</td>\n",
       "      <td>1.00</td>\n",
       "    </tr>\n",
       "    <tr>\n",
       "      <th>SRBathtub</th>\n",
       "      <td>56761.0</td>\n",
       "      <td>0.003400</td>\n",
       "      <td>0.058213</td>\n",
       "      <td>0.0</td>\n",
       "      <td>0.00</td>\n",
       "      <td>0.0</td>\n",
       "      <td>0.00</td>\n",
       "      <td>1.00</td>\n",
       "    </tr>\n",
       "    <tr>\n",
       "      <th>SRShower</th>\n",
       "      <td>56761.0</td>\n",
       "      <td>0.002026</td>\n",
       "      <td>0.044966</td>\n",
       "      <td>0.0</td>\n",
       "      <td>0.00</td>\n",
       "      <td>0.0</td>\n",
       "      <td>0.00</td>\n",
       "      <td>1.00</td>\n",
       "    </tr>\n",
       "    <tr>\n",
       "      <th>SRCrib</th>\n",
       "      <td>56761.0</td>\n",
       "      <td>0.013266</td>\n",
       "      <td>0.114413</td>\n",
       "      <td>0.0</td>\n",
       "      <td>0.00</td>\n",
       "      <td>0.0</td>\n",
       "      <td>0.00</td>\n",
       "      <td>1.00</td>\n",
       "    </tr>\n",
       "    <tr>\n",
       "      <th>SRKingSizeBed</th>\n",
       "      <td>56761.0</td>\n",
       "      <td>0.380543</td>\n",
       "      <td>0.485525</td>\n",
       "      <td>0.0</td>\n",
       "      <td>0.00</td>\n",
       "      <td>0.0</td>\n",
       "      <td>1.00</td>\n",
       "      <td>1.00</td>\n",
       "    </tr>\n",
       "    <tr>\n",
       "      <th>SRTwinBed</th>\n",
       "      <td>56761.0</td>\n",
       "      <td>0.182308</td>\n",
       "      <td>0.386102</td>\n",
       "      <td>0.0</td>\n",
       "      <td>0.00</td>\n",
       "      <td>0.0</td>\n",
       "      <td>0.00</td>\n",
       "      <td>1.00</td>\n",
       "    </tr>\n",
       "    <tr>\n",
       "      <th>SRNearElevator</th>\n",
       "      <td>56761.0</td>\n",
       "      <td>0.000300</td>\n",
       "      <td>0.017304</td>\n",
       "      <td>0.0</td>\n",
       "      <td>0.00</td>\n",
       "      <td>0.0</td>\n",
       "      <td>0.00</td>\n",
       "      <td>1.00</td>\n",
       "    </tr>\n",
       "    <tr>\n",
       "      <th>SRAwayFromElevator</th>\n",
       "      <td>56761.0</td>\n",
       "      <td>0.003999</td>\n",
       "      <td>0.063113</td>\n",
       "      <td>0.0</td>\n",
       "      <td>0.00</td>\n",
       "      <td>0.0</td>\n",
       "      <td>0.00</td>\n",
       "      <td>1.00</td>\n",
       "    </tr>\n",
       "    <tr>\n",
       "      <th>SRNoAlcoholInMiniBar</th>\n",
       "      <td>56761.0</td>\n",
       "      <td>0.000159</td>\n",
       "      <td>0.012591</td>\n",
       "      <td>0.0</td>\n",
       "      <td>0.00</td>\n",
       "      <td>0.0</td>\n",
       "      <td>0.00</td>\n",
       "      <td>1.00</td>\n",
       "    </tr>\n",
       "    <tr>\n",
       "      <th>SRQuietRoom</th>\n",
       "      <td>56761.0</td>\n",
       "      <td>0.094836</td>\n",
       "      <td>0.292991</td>\n",
       "      <td>0.0</td>\n",
       "      <td>0.00</td>\n",
       "      <td>0.0</td>\n",
       "      <td>0.00</td>\n",
       "      <td>1.00</td>\n",
       "    </tr>\n",
       "    <tr>\n",
       "      <th>TotalRevenue</th>\n",
       "      <td>56761.0</td>\n",
       "      <td>531.193942</td>\n",
       "      <td>454.529883</td>\n",
       "      <td>2.0</td>\n",
       "      <td>282.00</td>\n",
       "      <td>418.0</td>\n",
       "      <td>632.65</td>\n",
       "      <td>16936.30</td>\n",
       "    </tr>\n",
       "  </tbody>\n",
       "</table>\n",
       "</div>"
      ],
      "text/plain": [
       "                        count        mean         std   min     25%    50%  \\\n",
       "Age                   56616.0   48.154038   15.703972  -9.0   36.00   49.0   \n",
       "DaysSinceCreation     56761.0  697.629869  376.213488  36.0  391.00  730.0   \n",
       "AverageLeadTime       56761.0   97.265852   91.196560  -1.0   26.00   71.0   \n",
       "LodgingRevenue        56761.0  425.367468  375.631247   0.0  217.08  332.0   \n",
       "OtherRevenue          56761.0  105.826474  131.688573   0.0   42.00   71.5   \n",
       "BookingsCanceled      56761.0    0.000969    0.071595   0.0    0.00    0.0   \n",
       "BookingsNoShowed      56761.0    0.000194    0.013920   0.0    0.00    0.0   \n",
       "BookingsCheckedIn     56761.0    1.026286    0.443471   1.0    1.00    1.0   \n",
       "PersonsNights         56761.0    7.295678    4.284033   2.0    4.00    6.0   \n",
       "RoomNights            56761.0    3.303483    1.791739   1.0    2.00    3.0   \n",
       "SRHighFloor           56761.0    0.048431    0.214677   0.0    0.00    0.0   \n",
       "SRLowFloor            56761.0    0.001480    0.038441   0.0    0.00    0.0   \n",
       "SRAccessibleRoom      56761.0    0.000282    0.016787   0.0    0.00    0.0   \n",
       "SRMediumFloor         56761.0    0.000758    0.027514   0.0    0.00    0.0   \n",
       "SRBathtub             56761.0    0.003400    0.058213   0.0    0.00    0.0   \n",
       "SRShower              56761.0    0.002026    0.044966   0.0    0.00    0.0   \n",
       "SRCrib                56761.0    0.013266    0.114413   0.0    0.00    0.0   \n",
       "SRKingSizeBed         56761.0    0.380543    0.485525   0.0    0.00    0.0   \n",
       "SRTwinBed             56761.0    0.182308    0.386102   0.0    0.00    0.0   \n",
       "SRNearElevator        56761.0    0.000300    0.017304   0.0    0.00    0.0   \n",
       "SRAwayFromElevator    56761.0    0.003999    0.063113   0.0    0.00    0.0   \n",
       "SRNoAlcoholInMiniBar  56761.0    0.000159    0.012591   0.0    0.00    0.0   \n",
       "SRQuietRoom           56761.0    0.094836    0.292991   0.0    0.00    0.0   \n",
       "TotalRevenue          56761.0  531.193942  454.529883   2.0  282.00  418.0   \n",
       "\n",
       "                          75%       max  \n",
       "Age                     59.00    115.00  \n",
       "DaysSinceCreation     1021.00   1385.00  \n",
       "AverageLeadTime        147.00    588.00  \n",
       "LodgingRevenue         506.96  14044.80  \n",
       "OtherRevenue           131.00   8859.25  \n",
       "BookingsCanceled         0.00     15.00  \n",
       "BookingsNoShowed         0.00      1.00  \n",
       "BookingsCheckedIn        1.00     76.00  \n",
       "PersonsNights            9.00     99.00  \n",
       "RoomNights               4.00     88.00  \n",
       "SRHighFloor              0.00      1.00  \n",
       "SRLowFloor               0.00      1.00  \n",
       "SRAccessibleRoom         0.00      1.00  \n",
       "SRMediumFloor            0.00      1.00  \n",
       "SRBathtub                0.00      1.00  \n",
       "SRShower                 0.00      1.00  \n",
       "SRCrib                   0.00      1.00  \n",
       "SRKingSizeBed            1.00      1.00  \n",
       "SRTwinBed                0.00      1.00  \n",
       "SRNearElevator           0.00      1.00  \n",
       "SRAwayFromElevator       0.00      1.00  \n",
       "SRNoAlcoholInMiniBar     0.00      1.00  \n",
       "SRQuietRoom              0.00      1.00  \n",
       "TotalRevenue           632.65  16936.30  "
      ]
     },
     "execution_count": 25,
     "metadata": {},
     "output_type": "execute_result"
    }
   ],
   "source": [
    "customers_numerical.describe().T"
   ]
  },
  {
   "cell_type": "code",
   "execution_count": 26,
   "metadata": {},
   "outputs": [
    {
     "data": {
      "text/html": [
       "<div>\n",
       "<style scoped>\n",
       "    .dataframe tbody tr th:only-of-type {\n",
       "        vertical-align: middle;\n",
       "    }\n",
       "\n",
       "    .dataframe tbody tr th {\n",
       "        vertical-align: top;\n",
       "    }\n",
       "\n",
       "    .dataframe thead th {\n",
       "        text-align: right;\n",
       "    }\n",
       "</style>\n",
       "<table border=\"1\" class=\"dataframe\">\n",
       "  <thead>\n",
       "    <tr style=\"text-align: right;\">\n",
       "      <th></th>\n",
       "      <th>count</th>\n",
       "      <th>unique</th>\n",
       "      <th>top</th>\n",
       "      <th>freq</th>\n",
       "    </tr>\n",
       "  </thead>\n",
       "  <tbody>\n",
       "    <tr>\n",
       "      <th>Nationality</th>\n",
       "      <td>56761</td>\n",
       "      <td>173</td>\n",
       "      <td>FRA</td>\n",
       "      <td>9627</td>\n",
       "    </tr>\n",
       "    <tr>\n",
       "      <th>DistributionChannel</th>\n",
       "      <td>56761</td>\n",
       "      <td>4</td>\n",
       "      <td>Travel Agent/Operator</td>\n",
       "      <td>48664</td>\n",
       "    </tr>\n",
       "  </tbody>\n",
       "</table>\n",
       "</div>"
      ],
      "text/plain": [
       "                     count unique                    top   freq\n",
       "Nationality          56761    173                    FRA   9627\n",
       "DistributionChannel  56761      4  Travel Agent/Operator  48664"
      ]
     },
     "execution_count": 26,
     "metadata": {},
     "output_type": "execute_result"
    }
   ],
   "source": [
    "customers_categorical.describe().T"
   ]
  },
  {
   "cell_type": "markdown",
   "metadata": {},
   "source": [
    "## 1.5 Individual Variable Analysis"
   ]
  },
  {
   "cell_type": "markdown",
   "metadata": {},
   "source": [
    "### 1.5.1 Categorical Variables"
   ]
  },
  {
   "cell_type": "markdown",
   "metadata": {},
   "source": [
    "#### 1.5.1.1 Nationality\n",
    "\n",
    "Key take aways:\n",
    "- Nationality is a categorical variables that has high cardinality, with 185 classes (185 different nationalities);\n",
    "- The top20 of those nationalities by frequency represent ~91% of the total customers;\n",
    "- The top nation is France, with 11228 customers, accounting for ~16% of total customers;\n",
    "- There are 96 nationalities with less than 10 occurrences; <br>\n",
    "`Nationality has a correlation with LodgingRevenue of 0.96`"
   ]
  },
  {
   "cell_type": "code",
   "execution_count": 27,
   "metadata": {},
   "outputs": [
    {
     "name": "stdout",
     "output_type": "stream",
     "text": [
      "There are 173 unique nationalities.\n"
     ]
    }
   ],
   "source": [
    "# Print count of unique values in Nationality\n",
    "customers['Nationality'].nunique()\n",
    "print(f'There are {customers[\"Nationality\"].nunique()} unique nationalities.')"
   ]
  },
  {
   "cell_type": "code",
   "execution_count": 28,
   "metadata": {},
   "outputs": [
    {
     "name": "stdout",
     "output_type": "stream",
     "text": [
      "The top 20 nationalities are ['FRA', 'DEU', 'GBR', 'PRT', 'ESP', 'USA', 'BEL', 'ITA', 'BRA', 'NLD', 'IRL', 'CHE', 'CAN', 'AUT', 'SWE', 'ISR', 'CHN', 'AUS', 'NOR', 'POL'].\n"
     ]
    }
   ],
   "source": [
    "# Put the top20 nationalities in a list\n",
    "top20_nationalities = customers['Nationality'].value_counts().head(20).index.tolist()\n",
    "print(f'The top 20 nationalities are {top20_nationalities}.')"
   ]
  },
  {
   "cell_type": "code",
   "execution_count": 29,
   "metadata": {},
   "outputs": [
    {
     "data": {
      "text/html": [
       "<div>\n",
       "<style scoped>\n",
       "    .dataframe tbody tr th:only-of-type {\n",
       "        vertical-align: middle;\n",
       "    }\n",
       "\n",
       "    .dataframe tbody tr th {\n",
       "        vertical-align: top;\n",
       "    }\n",
       "\n",
       "    .dataframe thead th {\n",
       "        text-align: right;\n",
       "    }\n",
       "</style>\n",
       "<table border=\"1\" class=\"dataframe\">\n",
       "  <thead>\n",
       "    <tr style=\"text-align: right;\">\n",
       "      <th></th>\n",
       "      <th>Nationality</th>\n",
       "      <th>Percentage</th>\n",
       "    </tr>\n",
       "  </thead>\n",
       "  <tbody>\n",
       "    <tr>\n",
       "      <th>0</th>\n",
       "      <td>FRA</td>\n",
       "      <td>16.96</td>\n",
       "    </tr>\n",
       "    <tr>\n",
       "      <th>1</th>\n",
       "      <td>DEU</td>\n",
       "      <td>14.13</td>\n",
       "    </tr>\n",
       "    <tr>\n",
       "      <th>2</th>\n",
       "      <td>GBR</td>\n",
       "      <td>11.26</td>\n",
       "    </tr>\n",
       "    <tr>\n",
       "      <th>3</th>\n",
       "      <td>PRT</td>\n",
       "      <td>8.14</td>\n",
       "    </tr>\n",
       "    <tr>\n",
       "      <th>4</th>\n",
       "      <td>ESP</td>\n",
       "      <td>5.46</td>\n",
       "    </tr>\n",
       "    <tr>\n",
       "      <th>5</th>\n",
       "      <td>USA</td>\n",
       "      <td>4.49</td>\n",
       "    </tr>\n",
       "    <tr>\n",
       "      <th>6</th>\n",
       "      <td>BEL</td>\n",
       "      <td>4.14</td>\n",
       "    </tr>\n",
       "    <tr>\n",
       "      <th>7</th>\n",
       "      <td>ITA</td>\n",
       "      <td>4.13</td>\n",
       "    </tr>\n",
       "    <tr>\n",
       "      <th>8</th>\n",
       "      <td>BRA</td>\n",
       "      <td>3.59</td>\n",
       "    </tr>\n",
       "    <tr>\n",
       "      <th>9</th>\n",
       "      <td>NLD</td>\n",
       "      <td>3.57</td>\n",
       "    </tr>\n",
       "    <tr>\n",
       "      <th>10</th>\n",
       "      <td>IRL</td>\n",
       "      <td>2.84</td>\n",
       "    </tr>\n",
       "    <tr>\n",
       "      <th>11</th>\n",
       "      <td>CHE</td>\n",
       "      <td>2.68</td>\n",
       "    </tr>\n",
       "    <tr>\n",
       "      <th>12</th>\n",
       "      <td>CAN</td>\n",
       "      <td>1.97</td>\n",
       "    </tr>\n",
       "    <tr>\n",
       "      <th>13</th>\n",
       "      <td>AUT</td>\n",
       "      <td>1.88</td>\n",
       "    </tr>\n",
       "    <tr>\n",
       "      <th>14</th>\n",
       "      <td>SWE</td>\n",
       "      <td>1.43</td>\n",
       "    </tr>\n",
       "    <tr>\n",
       "      <th>15</th>\n",
       "      <td>ISR</td>\n",
       "      <td>1.05</td>\n",
       "    </tr>\n",
       "    <tr>\n",
       "      <th>16</th>\n",
       "      <td>CHN</td>\n",
       "      <td>1.02</td>\n",
       "    </tr>\n",
       "    <tr>\n",
       "      <th>17</th>\n",
       "      <td>AUS</td>\n",
       "      <td>0.97</td>\n",
       "    </tr>\n",
       "    <tr>\n",
       "      <th>18</th>\n",
       "      <td>NOR</td>\n",
       "      <td>0.92</td>\n",
       "    </tr>\n",
       "    <tr>\n",
       "      <th>19</th>\n",
       "      <td>POL</td>\n",
       "      <td>0.89</td>\n",
       "    </tr>\n",
       "  </tbody>\n",
       "</table>\n",
       "</div>"
      ],
      "text/plain": [
       "   Nationality  Percentage\n",
       "0          FRA       16.96\n",
       "1          DEU       14.13\n",
       "2          GBR       11.26\n",
       "3          PRT        8.14\n",
       "4          ESP        5.46\n",
       "5          USA        4.49\n",
       "6          BEL        4.14\n",
       "7          ITA        4.13\n",
       "8          BRA        3.59\n",
       "9          NLD        3.57\n",
       "10         IRL        2.84\n",
       "11         CHE        2.68\n",
       "12         CAN        1.97\n",
       "13         AUT        1.88\n",
       "14         SWE        1.43\n",
       "15         ISR        1.05\n",
       "16         CHN        1.02\n",
       "17         AUS        0.97\n",
       "18         NOR        0.92\n",
       "19         POL        0.89"
      ]
     },
     "execution_count": 29,
     "metadata": {},
     "output_type": "execute_result"
    }
   ],
   "source": [
    "# Get the value counts for each nationality\n",
    "nationality_counts = customers['Nationality'].value_counts()\n",
    "\n",
    "# Get the total count of all nationalities\n",
    "total_count = nationality_counts.sum()\n",
    "\n",
    "# Compute the percentage representation of the top 20 nationalities\n",
    "top20_percentages = round((nationality_counts.loc[top20_nationalities] / total_count) * 100,2)\n",
    "\n",
    "# Display the results in a DataFrame\n",
    "top20_df = pd.DataFrame({'Nationality': top20_nationalities, 'Percentage': top20_percentages.values})\n",
    "\n",
    "top20_df"
   ]
  },
  {
   "cell_type": "code",
   "execution_count": 30,
   "metadata": {},
   "outputs": [
    {
     "data": {
      "text/plain": [
       "Nationality\n",
       "FRA    9627\n",
       "DEU    8021\n",
       "GBR    6389\n",
       "PRT    4620\n",
       "ESP    3097\n",
       "USA    2550\n",
       "BEL    2352\n",
       "ITA    2347\n",
       "BRA    2040\n",
       "NLD    2026\n",
       "IRL    1612\n",
       "CHE    1519\n",
       "CAN    1117\n",
       "AUT    1068\n",
       "SWE     811\n",
       "ISR     597\n",
       "CHN     581\n",
       "AUS     552\n",
       "NOR     524\n",
       "POL     506\n",
       "Name: count, dtype: int64"
      ]
     },
     "execution_count": 30,
     "metadata": {},
     "output_type": "execute_result"
    }
   ],
   "source": [
    "nationality_counts.loc[top20_nationalities]"
   ]
  },
  {
   "cell_type": "code",
   "execution_count": 31,
   "metadata": {},
   "outputs": [
    {
     "name": "stdout",
     "output_type": "stream",
     "text": [
      "The top 20 nationalities represent 91.52% of the total market share\n"
     ]
    }
   ],
   "source": [
    "# Sum the percentages in the top 10 nationalities\n",
    "top20_marketshare = top20_df['Percentage'].sum()\n",
    "print(f'The top 20 nationalities represent {round(top20_marketshare,2)}% of the total market share')"
   ]
  },
  {
   "cell_type": "code",
   "execution_count": 32,
   "metadata": {},
   "outputs": [
    {
     "data": {
      "image/png": "[encoded data removed]",
      "text/plain": [
       "<Figure size 1200x600 with 1 Axes>"
      ]
     },
     "metadata": {},
     "output_type": "display_data"
    }
   ],
   "source": [
    "# Plot the top20 nationalities\n",
    "plt.figure(figsize=(12, 6))\n",
    "sns.countplot(data=customers, y='Nationality', order=top20_nationalities)\n",
    "plt.title('Top 20 Nationalities')\n",
    "plt.show()"
   ]
  },
  {
   "cell_type": "code",
   "execution_count": 33,
   "metadata": {},
   "outputs": [
    {
     "name": "stdout",
     "output_type": "stream",
     "text": [
      "There are 95 nationalities with less than 10 occurrences\n"
     ]
    }
   ],
   "source": [
    "# check how many nationalities have less than 10 occurrences\n",
    "nationalities_less_than_10 = nationality_counts[nationality_counts < 10].index\n",
    "print(f'There are {nationalities_less_than_10.shape[0]} nationalities with less than 10 occurrences')"
   ]
  },
  {
   "cell_type": "code",
   "execution_count": 34,
   "metadata": {},
   "outputs": [
    {
     "data": {
      "text/plain": [
       "TotalRevenue            1.000000\n",
       "LodgingRevenue          0.967444\n",
       "OtherRevenue            0.691993\n",
       "PersonsNights           0.606386\n",
       "RoomNights              0.569899\n",
       "BookingsCheckedIn       0.101141\n",
       "SRQuietRoom             0.070483\n",
       "AverageLeadTime         0.049221\n",
       "SRCrib                  0.025102\n",
       "SRKingSizeBed           0.025080\n",
       "SRHighFloor             0.019162\n",
       "BookingsCanceled        0.018797\n",
       "SRShower                0.013557\n",
       "SRAwayFromElevator      0.012933\n",
       "SRLowFloor              0.008240\n",
       "SRMediumFloor           0.006323\n",
       "SRNoAlcoholInMiniBar    0.006271\n",
       "SRBathtub               0.005020\n",
       "BookingsNoShowed        0.004315\n",
       "SRTwinBed               0.003790\n",
       "SRNearElevator          0.000294\n",
       "SRAccessibleRoom       -0.002693\n",
       "Age                    -0.047708\n",
       "DaysSinceCreation      -0.132445\n",
       "Name: TotalRevenue, dtype: float64"
      ]
     },
     "execution_count": 34,
     "metadata": {},
     "output_type": "execute_result"
    }
   ],
   "source": [
    "# check for correlation between nationality and other columns\n",
    "customers.select_dtypes(include=[np.number]).corr()['TotalRevenue'].sort_values(ascending=False)"
   ]
  },
  {
   "cell_type": "code",
   "execution_count": 35,
   "metadata": {},
   "outputs": [],
   "source": [
    "# # Revenue per country\n",
    "# list_of_countries_revenue = customers.groupby('Nationality')['TotalRevenue'].sum().reset_index()\n",
    "# list_of_countries_revenue.set_index('Nationality', inplace=True)\n",
    "\n",
    "# number_of_clients = data['Nationality'].value_counts().reset_index()\n",
    "# number_of_clients.set_index('Nationality', inplace=True)"
   ]
  },
  {
   "cell_type": "code",
   "execution_count": 36,
   "metadata": {},
   "outputs": [],
   "source": [
    "\n",
    "# country_counts = customers['Nationality'].value_counts().reset_index()\n",
    "# country_counts.columns = ['ISO_A3', 'clients']\n",
    "\n",
    "# world = gpd.read_file(\"../ne_10m_admin_0_countries/ne_10m_admin_0_countries.shp\")"
   ]
  },
  {
   "cell_type": "code",
   "execution_count": 37,
   "metadata": {},
   "outputs": [],
   "source": [
    "# Merge the world map with client data\n",
    "# world = world.merge(country_counts, how=\"left\", left_on=\"ISO_A3_EH\", right_on=\"ISO_A3\")\n",
    "\n",
    "# Fill missing values with 0 (countries with no clients)\n",
    "# world[\"clients\"] = world[\"clients\"].apply(lambda x: 0 if x < 1 else x)"
   ]
  },
  {
   "cell_type": "code",
   "execution_count": 38,
   "metadata": {},
   "outputs": [],
   "source": [
    "# world = world.dropna(subset='clients')"
   ]
  },
  {
   "cell_type": "code",
   "execution_count": 39,
   "metadata": {},
   "outputs": [],
   "source": [
    "#country_counts"
   ]
  },
  {
   "cell_type": "code",
   "execution_count": 40,
   "metadata": {},
   "outputs": [],
   "source": [
    "#country_counts['ISO_A3'].value_counts()"
   ]
  },
  {
   "cell_type": "code",
   "execution_count": 41,
   "metadata": {},
   "outputs": [],
   "source": [
    "# columns_to_keep_worldviz = ['ISO_A3_EH', 'clients', 'geometry', 'NAME']\n",
    "# more_collumns_to_keep = ['TotalRevenue']\n",
    "# world_viz= world[columns_to_keep_worldviz]\n",
    "# world_viz.set_index('ISO_A3_EH', inplace=True)\n",
    "# world_viz[more_collumns_to_keep] = list_of_countries_revenue[more_collumns_to_keep]\n",
    "# world_viz.reset_index(inplace=True)"
   ]
  },
  {
   "cell_type": "code",
   "execution_count": 42,
   "metadata": {},
   "outputs": [],
   "source": [
    "# Please choose a better set of colours\n",
    "\n",
    "# m = world_viz.explore(column='clients', cmap='hot', legend=False, edgecolor='black', linewidth=0.8, legend_name='Number of Clients')"
   ]
  },
  {
   "cell_type": "code",
   "execution_count": 43,
   "metadata": {},
   "outputs": [],
   "source": [
    "#m"
   ]
  },
  {
   "cell_type": "markdown",
   "metadata": {},
   "source": [
    "#### 1.5.1.2 DistributionChannel"
   ]
  },
  {
   "cell_type": "markdown",
   "metadata": {},
   "source": [
    "**Insights:**\n",
    "\n",
    "- Most bookings are made through a Travel Agent/Operator (~84%)\n",
    "- Only 13% of the bookings are made directly with the hotel."
   ]
  },
  {
   "cell_type": "code",
   "execution_count": 44,
   "metadata": {},
   "outputs": [
    {
     "data": {
      "text/plain": [
       "DistributionChannel\n",
       "Travel Agent/Operator    48664\n",
       "Direct                    7537\n",
       "Corporate                  513\n",
       "GDS Systems                 47\n",
       "Name: count, dtype: int64"
      ]
     },
     "execution_count": 44,
     "metadata": {},
     "output_type": "execute_result"
    }
   ],
   "source": [
    "# Check the distribution of DistributionChannel\n",
    "distribution_channel = customers[\"DistributionChannel\"].value_counts()\n",
    "distribution_channel"
   ]
  },
  {
   "cell_type": "code",
   "execution_count": 45,
   "metadata": {},
   "outputs": [
    {
     "data": {
      "text/plain": [
       "DistributionChannel\n",
       "Travel Agent/Operator    85.73\n",
       "Direct                   13.28\n",
       "Corporate                 0.90\n",
       "GDS Systems               0.08\n",
       "Name: count, dtype: float64"
      ]
     },
     "execution_count": 45,
     "metadata": {},
     "output_type": "execute_result"
    }
   ],
   "source": [
    "# Compute the percentages of each distribution channel\n",
    "distribution_channel_percentages = round(distribution_channel/customers.shape[0]*100,2)\n",
    "distribution_channel_percentages"
   ]
  },
  {
   "cell_type": "code",
   "execution_count": 46,
   "metadata": {},
   "outputs": [
    {
     "data": {
      "image/png": "[encoded data removed]",
      "text/plain": [
       "<Figure size 1200x600 with 1 Axes>"
      ]
     },
     "metadata": {},
     "output_type": "display_data"
    }
   ],
   "source": [
    "# Plot a bar chart \n",
    "plt.figure(figsize=(12, 6))\n",
    "distribution_channel.plot(kind=\"bar\", edgecolor=\"black\")\n",
    "plt.title(\"Distribution Channel\", fontsize=16)\n",
    "plt.ylabel(\"Customer Count\", fontsize=12)\n",
    "plt.xticks(rotation=0)\n",
    "plt.show()"
   ]
  },
  {
   "cell_type": "markdown",
   "metadata": {},
   "source": [
    "### 1.5.2 Numerical Variables"
   ]
  },
  {
   "cell_type": "markdown",
   "metadata": {},
   "source": [
    "#### 1.5.2.1 Age"
   ]
  },
  {
   "cell_type": "markdown",
   "metadata": {},
   "source": [
    "**Insights:**\n",
    "\n",
    "- There were 218 missing values;\n",
    "- Only 0.01% (10) of customers are above 90 years old. We decided to drop them, as we considered them outliers.\n",
    "- Cases where age was negative were turn into NaN.\n",
    "- Missing values were filled using KNN Imputer for the 5 nearners neighbors. <br>\n",
    "\n",
    "`The average age is 48.53 and the median age is 48.0.`"
   ]
  },
  {
   "cell_type": "code",
   "execution_count": 47,
   "metadata": {},
   "outputs": [
    {
     "name": "stdout",
     "output_type": "stream",
     "text": [
      "There are 145 missing values in the Age column.\n"
     ]
    }
   ],
   "source": [
    "# Check missing values in age column\n",
    "missing_age = customers['Age'].isnull().sum()\n",
    "print(f'There are {missing_age} missing values in the Age column.')"
   ]
  },
  {
   "cell_type": "code",
   "execution_count": 48,
   "metadata": {},
   "outputs": [
    {
     "name": "stdout",
     "output_type": "stream",
     "text": [
      "The minimum age is -9.0 and the maximum age is 115.0.\n"
     ]
    }
   ],
   "source": [
    "# Check the min and max values of Age\n",
    "min_age = customers['Age'].min()\n",
    "max_age = customers['Age'].max()\n",
    "print(f'The minimum age is {min_age} and the maximum age is {max_age}.')"
   ]
  },
  {
   "cell_type": "code",
   "execution_count": 49,
   "metadata": {},
   "outputs": [
    {
     "data": {
      "text/plain": [
       "Age                     1.000000\n",
       "AverageLeadTime         0.244571\n",
       "OtherRevenue            0.067943\n",
       "SRTwinBed               0.052724\n",
       "DaysSinceCreation       0.047497\n",
       "SRLowFloor              0.016834\n",
       "SRNearElevator          0.015930\n",
       "SRQuietRoom             0.013793\n",
       "BookingsCheckedIn       0.013550\n",
       "SRMediumFloor           0.008957\n",
       "SRAwayFromElevator      0.008704\n",
       "BookingsNoShowed        0.006561\n",
       "BookingsCanceled        0.005543\n",
       "SRShower                0.004729\n",
       "SRAccessibleRoom        0.002779\n",
       "RoomNights             -0.003115\n",
       "SRNoAlcoholInMiniBar   -0.006547\n",
       "SRKingSizeBed          -0.022162\n",
       "SRBathtub              -0.022302\n",
       "SRHighFloor            -0.031224\n",
       "PersonsNights          -0.033966\n",
       "TotalRevenue           -0.047708\n",
       "SRCrib                 -0.080374\n",
       "LodgingRevenue         -0.081543\n",
       "Name: Age, dtype: float64"
      ]
     },
     "execution_count": 49,
     "metadata": {},
     "output_type": "execute_result"
    }
   ],
   "source": [
    "# Check age correlation with other columns \n",
    "customers.select_dtypes(include=[np.number]).corr()['Age'].sort_values(ascending=False)"
   ]
  },
  {
   "cell_type": "markdown",
   "metadata": {},
   "source": [
    "Our goal by checking this correlation was to see if any variable was correlated with age enough, that we could use in a predictive model to predict age. Since the highest correlated variable is 25% correlation, we discarded this idea, and just assumed to input median."
   ]
  },
  {
   "cell_type": "code",
   "execution_count": 50,
   "metadata": {},
   "outputs": [
    {
     "name": "stdout",
     "output_type": "stream",
     "text": [
      "There are 6 cases where age is negative\n"
     ]
    },
    {
     "data": {
      "text/html": [
       "<div>\n",
       "<style scoped>\n",
       "    .dataframe tbody tr th:only-of-type {\n",
       "        vertical-align: middle;\n",
       "    }\n",
       "\n",
       "    .dataframe tbody tr th {\n",
       "        vertical-align: top;\n",
       "    }\n",
       "\n",
       "    .dataframe thead th {\n",
       "        text-align: right;\n",
       "    }\n",
       "</style>\n",
       "<table border=\"1\" class=\"dataframe\">\n",
       "  <thead>\n",
       "    <tr style=\"text-align: right;\">\n",
       "      <th></th>\n",
       "      <th>Nationality</th>\n",
       "      <th>Age</th>\n",
       "      <th>DaysSinceCreation</th>\n",
       "      <th>AverageLeadTime</th>\n",
       "      <th>LodgingRevenue</th>\n",
       "      <th>OtherRevenue</th>\n",
       "      <th>BookingsCanceled</th>\n",
       "      <th>BookingsNoShowed</th>\n",
       "      <th>BookingsCheckedIn</th>\n",
       "      <th>PersonsNights</th>\n",
       "      <th>RoomNights</th>\n",
       "      <th>DistributionChannel</th>\n",
       "      <th>SRHighFloor</th>\n",
       "      <th>SRLowFloor</th>\n",
       "      <th>SRAccessibleRoom</th>\n",
       "      <th>SRMediumFloor</th>\n",
       "      <th>SRBathtub</th>\n",
       "      <th>SRShower</th>\n",
       "      <th>SRCrib</th>\n",
       "      <th>SRKingSizeBed</th>\n",
       "      <th>SRTwinBed</th>\n",
       "      <th>SRNearElevator</th>\n",
       "      <th>SRAwayFromElevator</th>\n",
       "      <th>SRNoAlcoholInMiniBar</th>\n",
       "      <th>SRQuietRoom</th>\n",
       "      <th>TotalRevenue</th>\n",
       "    </tr>\n",
       "    <tr>\n",
       "      <th>ID</th>\n",
       "      <th></th>\n",
       "      <th></th>\n",
       "      <th></th>\n",
       "      <th></th>\n",
       "      <th></th>\n",
       "      <th></th>\n",
       "      <th></th>\n",
       "      <th></th>\n",
       "      <th></th>\n",
       "      <th></th>\n",
       "      <th></th>\n",
       "      <th></th>\n",
       "      <th></th>\n",
       "      <th></th>\n",
       "      <th></th>\n",
       "      <th></th>\n",
       "      <th></th>\n",
       "      <th></th>\n",
       "      <th></th>\n",
       "      <th></th>\n",
       "      <th></th>\n",
       "      <th></th>\n",
       "      <th></th>\n",
       "      <th></th>\n",
       "      <th></th>\n",
       "      <th></th>\n",
       "    </tr>\n",
       "  </thead>\n",
       "  <tbody>\n",
       "    <tr>\n",
       "      <th>5128</th>\n",
       "      <td>FRA</td>\n",
       "      <td>-8.0</td>\n",
       "      <td>1271</td>\n",
       "      <td>66</td>\n",
       "      <td>93.30</td>\n",
       "      <td>14.0</td>\n",
       "      <td>0</td>\n",
       "      <td>0</td>\n",
       "      <td>1</td>\n",
       "      <td>2</td>\n",
       "      <td>1</td>\n",
       "      <td>Travel Agent/Operator</td>\n",
       "      <td>0</td>\n",
       "      <td>0</td>\n",
       "      <td>0</td>\n",
       "      <td>0</td>\n",
       "      <td>0</td>\n",
       "      <td>0</td>\n",
       "      <td>0</td>\n",
       "      <td>1</td>\n",
       "      <td>0</td>\n",
       "      <td>0</td>\n",
       "      <td>0</td>\n",
       "      <td>0</td>\n",
       "      <td>0</td>\n",
       "      <td>107.30</td>\n",
       "    </tr>\n",
       "    <tr>\n",
       "      <th>8361</th>\n",
       "      <td>DEU</td>\n",
       "      <td>-6.0</td>\n",
       "      <td>1217</td>\n",
       "      <td>256</td>\n",
       "      <td>126.00</td>\n",
       "      <td>109.0</td>\n",
       "      <td>0</td>\n",
       "      <td>0</td>\n",
       "      <td>1</td>\n",
       "      <td>4</td>\n",
       "      <td>2</td>\n",
       "      <td>Travel Agent/Operator</td>\n",
       "      <td>0</td>\n",
       "      <td>0</td>\n",
       "      <td>0</td>\n",
       "      <td>0</td>\n",
       "      <td>0</td>\n",
       "      <td>0</td>\n",
       "      <td>0</td>\n",
       "      <td>0</td>\n",
       "      <td>1</td>\n",
       "      <td>0</td>\n",
       "      <td>0</td>\n",
       "      <td>0</td>\n",
       "      <td>0</td>\n",
       "      <td>235.00</td>\n",
       "    </tr>\n",
       "    <tr>\n",
       "      <th>9920</th>\n",
       "      <td>DZA</td>\n",
       "      <td>-5.0</td>\n",
       "      <td>1193</td>\n",
       "      <td>54</td>\n",
       "      <td>138.93</td>\n",
       "      <td>29.5</td>\n",
       "      <td>0</td>\n",
       "      <td>0</td>\n",
       "      <td>1</td>\n",
       "      <td>4</td>\n",
       "      <td>1</td>\n",
       "      <td>Travel Agent/Operator</td>\n",
       "      <td>0</td>\n",
       "      <td>0</td>\n",
       "      <td>0</td>\n",
       "      <td>0</td>\n",
       "      <td>0</td>\n",
       "      <td>0</td>\n",
       "      <td>0</td>\n",
       "      <td>1</td>\n",
       "      <td>0</td>\n",
       "      <td>0</td>\n",
       "      <td>0</td>\n",
       "      <td>0</td>\n",
       "      <td>0</td>\n",
       "      <td>168.43</td>\n",
       "    </tr>\n",
       "    <tr>\n",
       "      <th>10663</th>\n",
       "      <td>DEU</td>\n",
       "      <td>-9.0</td>\n",
       "      <td>1181</td>\n",
       "      <td>292</td>\n",
       "      <td>126.00</td>\n",
       "      <td>113.0</td>\n",
       "      <td>0</td>\n",
       "      <td>0</td>\n",
       "      <td>1</td>\n",
       "      <td>4</td>\n",
       "      <td>2</td>\n",
       "      <td>Travel Agent/Operator</td>\n",
       "      <td>0</td>\n",
       "      <td>0</td>\n",
       "      <td>0</td>\n",
       "      <td>0</td>\n",
       "      <td>0</td>\n",
       "      <td>0</td>\n",
       "      <td>0</td>\n",
       "      <td>0</td>\n",
       "      <td>0</td>\n",
       "      <td>0</td>\n",
       "      <td>0</td>\n",
       "      <td>0</td>\n",
       "      <td>0</td>\n",
       "      <td>239.00</td>\n",
       "    </tr>\n",
       "    <tr>\n",
       "      <th>20407</th>\n",
       "      <td>USA</td>\n",
       "      <td>-8.0</td>\n",
       "      <td>1022</td>\n",
       "      <td>163</td>\n",
       "      <td>939.60</td>\n",
       "      <td>303.3</td>\n",
       "      <td>0</td>\n",
       "      <td>0</td>\n",
       "      <td>1</td>\n",
       "      <td>9</td>\n",
       "      <td>3</td>\n",
       "      <td>Travel Agent/Operator</td>\n",
       "      <td>0</td>\n",
       "      <td>0</td>\n",
       "      <td>0</td>\n",
       "      <td>0</td>\n",
       "      <td>0</td>\n",
       "      <td>0</td>\n",
       "      <td>0</td>\n",
       "      <td>0</td>\n",
       "      <td>1</td>\n",
       "      <td>0</td>\n",
       "      <td>0</td>\n",
       "      <td>0</td>\n",
       "      <td>0</td>\n",
       "      <td>1242.90</td>\n",
       "    </tr>\n",
       "    <tr>\n",
       "      <th>57358</th>\n",
       "      <td>PRT</td>\n",
       "      <td>-5.0</td>\n",
       "      <td>510</td>\n",
       "      <td>130</td>\n",
       "      <td>388.80</td>\n",
       "      <td>47.2</td>\n",
       "      <td>0</td>\n",
       "      <td>0</td>\n",
       "      <td>1</td>\n",
       "      <td>8</td>\n",
       "      <td>4</td>\n",
       "      <td>Travel Agent/Operator</td>\n",
       "      <td>0</td>\n",
       "      <td>0</td>\n",
       "      <td>0</td>\n",
       "      <td>0</td>\n",
       "      <td>0</td>\n",
       "      <td>0</td>\n",
       "      <td>0</td>\n",
       "      <td>0</td>\n",
       "      <td>0</td>\n",
       "      <td>0</td>\n",
       "      <td>0</td>\n",
       "      <td>0</td>\n",
       "      <td>0</td>\n",
       "      <td>436.00</td>\n",
       "    </tr>\n",
       "  </tbody>\n",
       "</table>\n",
       "</div>"
      ],
      "text/plain": [
       "      Nationality  Age  DaysSinceCreation  AverageLeadTime  LodgingRevenue  \\\n",
       "ID                                                                           \n",
       "5128          FRA -8.0               1271               66           93.30   \n",
       "8361          DEU -6.0               1217              256          126.00   \n",
       "9920          DZA -5.0               1193               54          138.93   \n",
       "10663         DEU -9.0               1181              292          126.00   \n",
       "20407         USA -8.0               1022              163          939.60   \n",
       "57358         PRT -5.0                510              130          388.80   \n",
       "\n",
       "       OtherRevenue  BookingsCanceled  BookingsNoShowed  BookingsCheckedIn  \\\n",
       "ID                                                                           \n",
       "5128           14.0                 0                 0                  1   \n",
       "8361          109.0                 0                 0                  1   \n",
       "9920           29.5                 0                 0                  1   \n",
       "10663         113.0                 0                 0                  1   \n",
       "20407         303.3                 0                 0                  1   \n",
       "57358          47.2                 0                 0                  1   \n",
       "\n",
       "       PersonsNights  RoomNights    DistributionChannel  SRHighFloor  \\\n",
       "ID                                                                     \n",
       "5128               2           1  Travel Agent/Operator            0   \n",
       "8361               4           2  Travel Agent/Operator            0   \n",
       "9920               4           1  Travel Agent/Operator            0   \n",
       "10663              4           2  Travel Agent/Operator            0   \n",
       "20407              9           3  Travel Agent/Operator            0   \n",
       "57358              8           4  Travel Agent/Operator            0   \n",
       "\n",
       "       SRLowFloor  SRAccessibleRoom  SRMediumFloor  SRBathtub  SRShower  \\\n",
       "ID                                                                        \n",
       "5128            0                 0              0          0         0   \n",
       "8361            0                 0              0          0         0   \n",
       "9920            0                 0              0          0         0   \n",
       "10663           0                 0              0          0         0   \n",
       "20407           0                 0              0          0         0   \n",
       "57358           0                 0              0          0         0   \n",
       "\n",
       "       SRCrib  SRKingSizeBed  SRTwinBed  SRNearElevator  SRAwayFromElevator  \\\n",
       "ID                                                                            \n",
       "5128        0              1          0               0                   0   \n",
       "8361        0              0          1               0                   0   \n",
       "9920        0              1          0               0                   0   \n",
       "10663       0              0          0               0                   0   \n",
       "20407       0              0          1               0                   0   \n",
       "57358       0              0          0               0                   0   \n",
       "\n",
       "       SRNoAlcoholInMiniBar  SRQuietRoom  TotalRevenue  \n",
       "ID                                                      \n",
       "5128                      0            0        107.30  \n",
       "8361                      0            0        235.00  \n",
       "9920                      0            0        168.43  \n",
       "10663                     0            0        239.00  \n",
       "20407                     0            0       1242.90  \n",
       "57358                     0            0        436.00  "
      ]
     },
     "execution_count": 50,
     "metadata": {},
     "output_type": "execute_result"
    }
   ],
   "source": [
    "# Check cases where age is negative\n",
    "print(f'There are {len(customers[customers['Age'] < 0])} cases where age is negative')\n",
    "customers[customers['Age'] < 0]"
   ]
  },
  {
   "cell_type": "code",
   "execution_count": 51,
   "metadata": {},
   "outputs": [
    {
     "name": "stdout",
     "output_type": "stream",
     "text": [
      "There are 8 cases where age is above 90 years old, which corresponds to 0.01% of the data.\n"
     ]
    },
    {
     "data": {
      "text/html": [
       "<div>\n",
       "<style scoped>\n",
       "    .dataframe tbody tr th:only-of-type {\n",
       "        vertical-align: middle;\n",
       "    }\n",
       "\n",
       "    .dataframe tbody tr th {\n",
       "        vertical-align: top;\n",
       "    }\n",
       "\n",
       "    .dataframe thead th {\n",
       "        text-align: right;\n",
       "    }\n",
       "</style>\n",
       "<table border=\"1\" class=\"dataframe\">\n",
       "  <thead>\n",
       "    <tr style=\"text-align: right;\">\n",
       "      <th></th>\n",
       "      <th>Nationality</th>\n",
       "      <th>Age</th>\n",
       "      <th>DaysSinceCreation</th>\n",
       "      <th>AverageLeadTime</th>\n",
       "      <th>LodgingRevenue</th>\n",
       "      <th>OtherRevenue</th>\n",
       "      <th>BookingsCanceled</th>\n",
       "      <th>BookingsNoShowed</th>\n",
       "      <th>BookingsCheckedIn</th>\n",
       "      <th>PersonsNights</th>\n",
       "      <th>RoomNights</th>\n",
       "      <th>DistributionChannel</th>\n",
       "      <th>SRHighFloor</th>\n",
       "      <th>SRLowFloor</th>\n",
       "      <th>SRAccessibleRoom</th>\n",
       "      <th>SRMediumFloor</th>\n",
       "      <th>SRBathtub</th>\n",
       "      <th>SRShower</th>\n",
       "      <th>SRCrib</th>\n",
       "      <th>SRKingSizeBed</th>\n",
       "      <th>SRTwinBed</th>\n",
       "      <th>SRNearElevator</th>\n",
       "      <th>SRAwayFromElevator</th>\n",
       "      <th>SRNoAlcoholInMiniBar</th>\n",
       "      <th>SRQuietRoom</th>\n",
       "      <th>TotalRevenue</th>\n",
       "    </tr>\n",
       "    <tr>\n",
       "      <th>ID</th>\n",
       "      <th></th>\n",
       "      <th></th>\n",
       "      <th></th>\n",
       "      <th></th>\n",
       "      <th></th>\n",
       "      <th></th>\n",
       "      <th></th>\n",
       "      <th></th>\n",
       "      <th></th>\n",
       "      <th></th>\n",
       "      <th></th>\n",
       "      <th></th>\n",
       "      <th></th>\n",
       "      <th></th>\n",
       "      <th></th>\n",
       "      <th></th>\n",
       "      <th></th>\n",
       "      <th></th>\n",
       "      <th></th>\n",
       "      <th></th>\n",
       "      <th></th>\n",
       "      <th></th>\n",
       "      <th></th>\n",
       "      <th></th>\n",
       "      <th></th>\n",
       "      <th></th>\n",
       "    </tr>\n",
       "  </thead>\n",
       "  <tbody>\n",
       "    <tr>\n",
       "      <th>3282</th>\n",
       "      <td>PRT</td>\n",
       "      <td>115.0</td>\n",
       "      <td>1305</td>\n",
       "      <td>22</td>\n",
       "      <td>79.00</td>\n",
       "      <td>25.5</td>\n",
       "      <td>0</td>\n",
       "      <td>0</td>\n",
       "      <td>1</td>\n",
       "      <td>2</td>\n",
       "      <td>1</td>\n",
       "      <td>Travel Agent/Operator</td>\n",
       "      <td>0</td>\n",
       "      <td>0</td>\n",
       "      <td>0</td>\n",
       "      <td>0</td>\n",
       "      <td>0</td>\n",
       "      <td>0</td>\n",
       "      <td>0</td>\n",
       "      <td>1</td>\n",
       "      <td>0</td>\n",
       "      <td>0</td>\n",
       "      <td>0</td>\n",
       "      <td>0</td>\n",
       "      <td>0</td>\n",
       "      <td>104.50</td>\n",
       "    </tr>\n",
       "    <tr>\n",
       "      <th>7425</th>\n",
       "      <td>DEU</td>\n",
       "      <td>92.0</td>\n",
       "      <td>1231</td>\n",
       "      <td>0</td>\n",
       "      <td>535.00</td>\n",
       "      <td>170.0</td>\n",
       "      <td>0</td>\n",
       "      <td>0</td>\n",
       "      <td>1</td>\n",
       "      <td>2</td>\n",
       "      <td>1</td>\n",
       "      <td>Travel Agent/Operator</td>\n",
       "      <td>0</td>\n",
       "      <td>0</td>\n",
       "      <td>0</td>\n",
       "      <td>0</td>\n",
       "      <td>0</td>\n",
       "      <td>0</td>\n",
       "      <td>0</td>\n",
       "      <td>0</td>\n",
       "      <td>0</td>\n",
       "      <td>0</td>\n",
       "      <td>0</td>\n",
       "      <td>0</td>\n",
       "      <td>0</td>\n",
       "      <td>705.00</td>\n",
       "    </tr>\n",
       "    <tr>\n",
       "      <th>19867</th>\n",
       "      <td>PRT</td>\n",
       "      <td>93.0</td>\n",
       "      <td>1039</td>\n",
       "      <td>18</td>\n",
       "      <td>68.00</td>\n",
       "      <td>14.0</td>\n",
       "      <td>0</td>\n",
       "      <td>0</td>\n",
       "      <td>1</td>\n",
       "      <td>2</td>\n",
       "      <td>1</td>\n",
       "      <td>Travel Agent/Operator</td>\n",
       "      <td>0</td>\n",
       "      <td>0</td>\n",
       "      <td>0</td>\n",
       "      <td>0</td>\n",
       "      <td>0</td>\n",
       "      <td>0</td>\n",
       "      <td>0</td>\n",
       "      <td>0</td>\n",
       "      <td>0</td>\n",
       "      <td>0</td>\n",
       "      <td>0</td>\n",
       "      <td>0</td>\n",
       "      <td>0</td>\n",
       "      <td>82.00</td>\n",
       "    </tr>\n",
       "    <tr>\n",
       "      <th>44525</th>\n",
       "      <td>DEU</td>\n",
       "      <td>114.0</td>\n",
       "      <td>627</td>\n",
       "      <td>7</td>\n",
       "      <td>234.00</td>\n",
       "      <td>34.5</td>\n",
       "      <td>0</td>\n",
       "      <td>0</td>\n",
       "      <td>1</td>\n",
       "      <td>4</td>\n",
       "      <td>2</td>\n",
       "      <td>Travel Agent/Operator</td>\n",
       "      <td>0</td>\n",
       "      <td>0</td>\n",
       "      <td>0</td>\n",
       "      <td>0</td>\n",
       "      <td>0</td>\n",
       "      <td>0</td>\n",
       "      <td>0</td>\n",
       "      <td>1</td>\n",
       "      <td>0</td>\n",
       "      <td>0</td>\n",
       "      <td>0</td>\n",
       "      <td>0</td>\n",
       "      <td>0</td>\n",
       "      <td>268.50</td>\n",
       "    </tr>\n",
       "    <tr>\n",
       "      <th>62694</th>\n",
       "      <td>NOR</td>\n",
       "      <td>97.0</td>\n",
       "      <td>467</td>\n",
       "      <td>87</td>\n",
       "      <td>734.00</td>\n",
       "      <td>24.0</td>\n",
       "      <td>0</td>\n",
       "      <td>0</td>\n",
       "      <td>1</td>\n",
       "      <td>12</td>\n",
       "      <td>6</td>\n",
       "      <td>Travel Agent/Operator</td>\n",
       "      <td>0</td>\n",
       "      <td>0</td>\n",
       "      <td>0</td>\n",
       "      <td>0</td>\n",
       "      <td>0</td>\n",
       "      <td>0</td>\n",
       "      <td>0</td>\n",
       "      <td>0</td>\n",
       "      <td>1</td>\n",
       "      <td>0</td>\n",
       "      <td>0</td>\n",
       "      <td>0</td>\n",
       "      <td>0</td>\n",
       "      <td>758.00</td>\n",
       "    </tr>\n",
       "    <tr>\n",
       "      <th>72434</th>\n",
       "      <td>PRT</td>\n",
       "      <td>91.0</td>\n",
       "      <td>396</td>\n",
       "      <td>254</td>\n",
       "      <td>226.00</td>\n",
       "      <td>28.0</td>\n",
       "      <td>0</td>\n",
       "      <td>0</td>\n",
       "      <td>1</td>\n",
       "      <td>4</td>\n",
       "      <td>2</td>\n",
       "      <td>Travel Agent/Operator</td>\n",
       "      <td>0</td>\n",
       "      <td>0</td>\n",
       "      <td>0</td>\n",
       "      <td>0</td>\n",
       "      <td>0</td>\n",
       "      <td>0</td>\n",
       "      <td>0</td>\n",
       "      <td>1</td>\n",
       "      <td>0</td>\n",
       "      <td>0</td>\n",
       "      <td>0</td>\n",
       "      <td>0</td>\n",
       "      <td>0</td>\n",
       "      <td>254.00</td>\n",
       "    </tr>\n",
       "    <tr>\n",
       "      <th>87089</th>\n",
       "      <td>PRT</td>\n",
       "      <td>111.0</td>\n",
       "      <td>244</td>\n",
       "      <td>18</td>\n",
       "      <td>210.00</td>\n",
       "      <td>52.0</td>\n",
       "      <td>0</td>\n",
       "      <td>0</td>\n",
       "      <td>1</td>\n",
       "      <td>4</td>\n",
       "      <td>2</td>\n",
       "      <td>Direct</td>\n",
       "      <td>1</td>\n",
       "      <td>0</td>\n",
       "      <td>0</td>\n",
       "      <td>0</td>\n",
       "      <td>0</td>\n",
       "      <td>0</td>\n",
       "      <td>0</td>\n",
       "      <td>1</td>\n",
       "      <td>0</td>\n",
       "      <td>0</td>\n",
       "      <td>0</td>\n",
       "      <td>0</td>\n",
       "      <td>0</td>\n",
       "      <td>262.00</td>\n",
       "    </tr>\n",
       "    <tr>\n",
       "      <th>99523</th>\n",
       "      <td>ITA</td>\n",
       "      <td>93.0</td>\n",
       "      <td>136</td>\n",
       "      <td>6</td>\n",
       "      <td>210.48</td>\n",
       "      <td>16.0</td>\n",
       "      <td>0</td>\n",
       "      <td>0</td>\n",
       "      <td>1</td>\n",
       "      <td>2</td>\n",
       "      <td>1</td>\n",
       "      <td>Travel Agent/Operator</td>\n",
       "      <td>0</td>\n",
       "      <td>0</td>\n",
       "      <td>0</td>\n",
       "      <td>0</td>\n",
       "      <td>0</td>\n",
       "      <td>1</td>\n",
       "      <td>0</td>\n",
       "      <td>1</td>\n",
       "      <td>0</td>\n",
       "      <td>1</td>\n",
       "      <td>0</td>\n",
       "      <td>0</td>\n",
       "      <td>0</td>\n",
       "      <td>226.48</td>\n",
       "    </tr>\n",
       "  </tbody>\n",
       "</table>\n",
       "</div>"
      ],
      "text/plain": [
       "      Nationality    Age  DaysSinceCreation  AverageLeadTime  LodgingRevenue  \\\n",
       "ID                                                                             \n",
       "3282          PRT  115.0               1305               22           79.00   \n",
       "7425          DEU   92.0               1231                0          535.00   \n",
       "19867         PRT   93.0               1039               18           68.00   \n",
       "44525         DEU  114.0                627                7          234.00   \n",
       "62694         NOR   97.0                467               87          734.00   \n",
       "72434         PRT   91.0                396              254          226.00   \n",
       "87089         PRT  111.0                244               18          210.00   \n",
       "99523         ITA   93.0                136                6          210.48   \n",
       "\n",
       "       OtherRevenue  BookingsCanceled  BookingsNoShowed  BookingsCheckedIn  \\\n",
       "ID                                                                           \n",
       "3282           25.5                 0                 0                  1   \n",
       "7425          170.0                 0                 0                  1   \n",
       "19867          14.0                 0                 0                  1   \n",
       "44525          34.5                 0                 0                  1   \n",
       "62694          24.0                 0                 0                  1   \n",
       "72434          28.0                 0                 0                  1   \n",
       "87089          52.0                 0                 0                  1   \n",
       "99523          16.0                 0                 0                  1   \n",
       "\n",
       "       PersonsNights  RoomNights    DistributionChannel  SRHighFloor  \\\n",
       "ID                                                                     \n",
       "3282               2           1  Travel Agent/Operator            0   \n",
       "7425               2           1  Travel Agent/Operator            0   \n",
       "19867              2           1  Travel Agent/Operator            0   \n",
       "44525              4           2  Travel Agent/Operator            0   \n",
       "62694             12           6  Travel Agent/Operator            0   \n",
       "72434              4           2  Travel Agent/Operator            0   \n",
       "87089              4           2                 Direct            1   \n",
       "99523              2           1  Travel Agent/Operator            0   \n",
       "\n",
       "       SRLowFloor  SRAccessibleRoom  SRMediumFloor  SRBathtub  SRShower  \\\n",
       "ID                                                                        \n",
       "3282            0                 0              0          0         0   \n",
       "7425            0                 0              0          0         0   \n",
       "19867           0                 0              0          0         0   \n",
       "44525           0                 0              0          0         0   \n",
       "62694           0                 0              0          0         0   \n",
       "72434           0                 0              0          0         0   \n",
       "87089           0                 0              0          0         0   \n",
       "99523           0                 0              0          0         1   \n",
       "\n",
       "       SRCrib  SRKingSizeBed  SRTwinBed  SRNearElevator  SRAwayFromElevator  \\\n",
       "ID                                                                            \n",
       "3282        0              1          0               0                   0   \n",
       "7425        0              0          0               0                   0   \n",
       "19867       0              0          0               0                   0   \n",
       "44525       0              1          0               0                   0   \n",
       "62694       0              0          1               0                   0   \n",
       "72434       0              1          0               0                   0   \n",
       "87089       0              1          0               0                   0   \n",
       "99523       0              1          0               1                   0   \n",
       "\n",
       "       SRNoAlcoholInMiniBar  SRQuietRoom  TotalRevenue  \n",
       "ID                                                      \n",
       "3282                      0            0        104.50  \n",
       "7425                      0            0        705.00  \n",
       "19867                     0            0         82.00  \n",
       "44525                     0            0        268.50  \n",
       "62694                     0            0        758.00  \n",
       "72434                     0            0        254.00  \n",
       "87089                     0            0        262.00  \n",
       "99523                     0            0        226.48  "
      ]
     },
     "execution_count": 51,
     "metadata": {},
     "output_type": "execute_result"
    }
   ],
   "source": [
    "# Check cases where age is above 100\n",
    "print(f'There are {len(customers[customers['Age'] > 90])} cases where age is above 90 years old, which corresponds to {len(customers[customers[\"Age\"] > 90])/len(customers)*100:.2f}% of the data.')\n",
    "customers[customers['Age'] > 90]"
   ]
  },
  {
   "cell_type": "code",
   "execution_count": 52,
   "metadata": {},
   "outputs": [],
   "source": [
    "# Drop rows where age is above 90\n",
    "customers = customers[customers['Age'] <= 90]"
   ]
  },
  {
   "cell_type": "code",
   "execution_count": 53,
   "metadata": {},
   "outputs": [],
   "source": [
    "# Turn the rows with age below 0 to NaN\n",
    "customers.loc[customers['Age'] < 0, 'Age'] = np.nan"
   ]
  },
  {
   "cell_type": "code",
   "execution_count": 54,
   "metadata": {},
   "outputs": [],
   "source": [
    "# Drop rows with Age<18\n",
    "customers = customers[customers['Age'] >= 18]"
   ]
  },
  {
   "cell_type": "code",
   "execution_count": 55,
   "metadata": {},
   "outputs": [],
   "source": [
    "from sklearn.impute import KNNImputer\n",
    "\n",
    "# Initialize KNNImputer with k neighbors\n",
    "imputer = KNNImputer(n_neighbors=5)  \n",
    "\n",
    "# Apply KNN imputation only to the 'Age' column\n",
    "customers[['Age']] = imputer.fit_transform(customers[['Age']])\n"
   ]
  },
  {
   "cell_type": "code",
   "execution_count": 56,
   "metadata": {},
   "outputs": [],
   "source": [
    "# Fill missing values with median\n",
    "# customers['Age'].fillna(customers['Age'].median(), inplace=True)"
   ]
  },
  {
   "cell_type": "code",
   "execution_count": 57,
   "metadata": {},
   "outputs": [
    {
     "name": "stdout",
     "output_type": "stream",
     "text": [
      "There are 0 missing values left in Age column.\n"
     ]
    }
   ],
   "source": [
    "# check for missing values in age\n",
    "print(f'There are {customers[\"Age\"].isnull().sum()} missing values left in Age column.')"
   ]
  },
  {
   "cell_type": "code",
   "execution_count": 58,
   "metadata": {},
   "outputs": [
    {
     "data": {
      "image/png": "[encoded data removed]",
      "text/plain": [
       "<Figure size 1200x600 with 1 Axes>"
      ]
     },
     "metadata": {},
     "output_type": "display_data"
    }
   ],
   "source": [
    "# Check the distribution of Age\n",
    "plt.figure(figsize=(12, 6))\n",
    "sns.histplot(customers['Age'])\n",
    "plt.title('Age Distribution')\n",
    "plt.show()\n"
   ]
  },
  {
   "cell_type": "code",
   "execution_count": 59,
   "metadata": {},
   "outputs": [
    {
     "name": "stdout",
     "output_type": "stream",
     "text": [
      "The average age is 48.75 and the median age is 49.0.\n"
     ]
    }
   ],
   "source": [
    "customers['Age'].agg(['mean', 'median'])\n",
    "print(f'The average age is {customers[\"Age\"].mean():.2f} and the median age is {customers[\"Age\"].median()}.')"
   ]
  },
  {
   "cell_type": "markdown",
   "metadata": {},
   "source": [
    "#### 1.5.2.2 DaysSinceCreation"
   ]
  },
  {
   "cell_type": "code",
   "execution_count": 60,
   "metadata": {},
   "outputs": [
    {
     "data": {
      "image/png": "[encoded data removed]",
      "text/plain": [
       "<Figure size 1000x600 with 1 Axes>"
      ]
     },
     "metadata": {},
     "output_type": "display_data"
    }
   ],
   "source": [
    "# Plot the histogram\n",
    "plt.figure(figsize=(10, 6))\n",
    "plt.hist(customers[\"DaysSinceCreation\"], bins=40, edgecolor=\"black\")\n",
    "\n",
    "plt.title(\"Days Since Creation\", fontsize=16)\n",
    "plt.xlabel(\"Days Since Creation\", fontsize=12)\n",
    "plt.ylabel(\"Number of Customers\", fontsize=12)\n",
    "\n",
    "plt.tight_layout()  \n",
    "plt.show()"
   ]
  },
  {
   "cell_type": "markdown",
   "metadata": {},
   "source": [
    "Can distinguish peaks - high peak recently\n",
    "\n",
    "Groups \n",
    "* group < 365 (less than a year)\n",
    "* 365 < group < 730 (1-2 years)\n",
    "* 730 < group < 1095 (2-3 years)\n",
    "* 1095 < group (more than 3 years)"
   ]
  },
  {
   "cell_type": "code",
   "execution_count": 61,
   "metadata": {},
   "outputs": [
    {
     "data": {
      "image/png": "[encoded data removed]",
      "text/plain": [
       "<Figure size 1200x600 with 1 Axes>"
      ]
     },
     "metadata": {},
     "output_type": "display_data"
    }
   ],
   "source": [
    "# Define age ranges and their respective labels\n",
    "creation_date_bins = [0, 365, 730, 1095, float('inf')]\n",
    "creation_date_labels = [\"Less than 1 year\", \"1-2 years\", \"2-3 years\", \"More than 3 years\"]\n",
    "\n",
    "# .cut() segments into the bins and assigns to corresponding labels\n",
    "customers_numerical[\"YearsSinceCreation\"] = pd.cut(customers_numerical[\"DaysSinceCreation\"], bins=creation_date_bins, labels=creation_date_labels)\n",
    "\n",
    "# Plot a bar chart \n",
    "plt.figure(figsize=(12, 6))\n",
    "\n",
    "years_since_creation = customers_numerical[\"YearsSinceCreation\"].value_counts()\n",
    "\n",
    "years_since_creation.plot(kind=\"bar\", edgecolor=\"black\")\n",
    "\n",
    "plt.title(\"Years Since Creation\", fontsize=16)\n",
    "plt.ylabel(\"Customer Count\", fontsize=12)\n",
    "plt.xticks(rotation=45)\n",
    "plt.show()"
   ]
  },
  {
   "cell_type": "markdown",
   "metadata": {},
   "source": [
    "* Most customers are recent ones, i.e. within their first 2 years since joining\n",
    "* But there is a large spread (std = 374)"
   ]
  },
  {
   "cell_type": "markdown",
   "metadata": {},
   "source": [
    "#### Lodging Revenue"
   ]
  },
  {
   "cell_type": "code",
   "execution_count": 62,
   "metadata": {},
   "outputs": [
    {
     "data": {
      "image/png": "[encoded data removed]",
      "text/plain": [
       "<Figure size 1200x800 with 1 Axes>"
      ]
     },
     "metadata": {},
     "output_type": "display_data"
    }
   ],
   "source": [
    "plt.figure(figsize=(12, 8))\n",
    "sns.boxplot(x=customers['LodgingRevenue'], color='blue')\n",
    "plt.title('Lodging Revenue')\n",
    "plt.show()"
   ]
  },
  {
   "cell_type": "markdown",
   "metadata": {},
   "source": [
    "#### Other Revenue"
   ]
  },
  {
   "cell_type": "code",
   "execution_count": 63,
   "metadata": {},
   "outputs": [
    {
     "data": {
      "image/png": "[encoded data removed]",
      "text/plain": [
       "<Figure size 1200x800 with 1 Axes>"
      ]
     },
     "metadata": {},
     "output_type": "display_data"
    }
   ],
   "source": [
    "plt.figure(figsize=(12, 8))\n",
    "sns.boxplot(x=customers['OtherRevenue'], color='blue')\n",
    "plt.title('Other Revenue')\n",
    "plt.show()"
   ]
  },
  {
   "cell_type": "markdown",
   "metadata": {},
   "source": [
    "#### Bookings Canceled"
   ]
  },
  {
   "cell_type": "code",
   "execution_count": 64,
   "metadata": {},
   "outputs": [
    {
     "data": {
      "text/plain": [
       "BookingsCanceled\n",
       "0     55623\n",
       "1        25\n",
       "3         4\n",
       "15        1\n",
       "2         1\n",
       "Name: count, dtype: int64"
      ]
     },
     "execution_count": 64,
     "metadata": {},
     "output_type": "execute_result"
    }
   ],
   "source": [
    "customers['BookingsCanceled'].value_counts()"
   ]
  },
  {
   "cell_type": "code",
   "execution_count": 65,
   "metadata": {},
   "outputs": [
    {
     "data": {
      "text/plain": [
       "Text(0, 0.5, 'Frequency')"
      ]
     },
     "execution_count": 65,
     "metadata": {},
     "output_type": "execute_result"
    },
    {
     "data": {
      "image/png": "[encoded data removed]",
      "text/plain": [
       "<Figure size 1200x800 with 1 Axes>"
      ]
     },
     "metadata": {},
     "output_type": "display_data"
    }
   ],
   "source": [
    "plt.figure(figsize=(12, 8))\n",
    "plt.hist(customers['BookingsCanceled'], bins=np.arange(-0.5,15.5,1), color='blue', edgecolor='black')\n",
    "plt.title('Bookings Canceled')\n",
    "plt.xlabel('Bookings')\n",
    "plt.ylabel('Frequency')"
   ]
  },
  {
   "cell_type": "markdown",
   "metadata": {},
   "source": [
    "#### Bookings No Showed"
   ]
  },
  {
   "cell_type": "code",
   "execution_count": 66,
   "metadata": {},
   "outputs": [
    {
     "data": {
      "text/plain": [
       "BookingsNoShowed\n",
       "0    55643\n",
       "1       11\n",
       "Name: count, dtype: int64"
      ]
     },
     "execution_count": 66,
     "metadata": {},
     "output_type": "execute_result"
    }
   ],
   "source": [
    "customers['BookingsNoShowed'].value_counts()"
   ]
  },
  {
   "cell_type": "code",
   "execution_count": 67,
   "metadata": {},
   "outputs": [
    {
     "data": {
      "text/plain": [
       "Text(0, 0.5, 'Frequency')"
      ]
     },
     "execution_count": 67,
     "metadata": {},
     "output_type": "execute_result"
    },
    {
     "data": {
      "image/png": "[encoded data removed]",
      "text/plain": [
       "<Figure size 1200x800 with 1 Axes>"
      ]
     },
     "metadata": {},
     "output_type": "display_data"
    }
   ],
   "source": [
    "plt.figure(figsize=(12, 8))\n",
    "plt.hist(customers['BookingsNoShowed'], bins=np.arange(-0.5,3.5,1), color='blue', edgecolor='black')\n",
    "plt.title('Bookings No Showed')\n",
    "plt.xticks(range(5))\n",
    "plt.xlabel('Bookings')\n",
    "plt.ylabel('Frequency')"
   ]
  },
  {
   "cell_type": "markdown",
   "metadata": {},
   "source": [
    "Like in the lst feature our customers are good people"
   ]
  },
  {
   "cell_type": "markdown",
   "metadata": {},
   "source": [
    "#### Bookings Checked In "
   ]
  },
  {
   "cell_type": "code",
   "execution_count": 68,
   "metadata": {},
   "outputs": [
    {
     "data": {
      "text/plain": [
       "BookingsCheckedIn\n",
       "1     54644\n",
       "2       891\n",
       "3        65\n",
       "4        16\n",
       "5         8\n",
       "7         5\n",
       "9         4\n",
       "11        4\n",
       "8         3\n",
       "13        2\n",
       "15        2\n",
       "6         2\n",
       "10        2\n",
       "22        1\n",
       "17        1\n",
       "18        1\n",
       "76        1\n",
       "12        1\n",
       "35        1\n",
       "Name: count, dtype: int64"
      ]
     },
     "execution_count": 68,
     "metadata": {},
     "output_type": "execute_result"
    }
   ],
   "source": [
    "customers['BookingsCheckedIn'].value_counts()"
   ]
  },
  {
   "cell_type": "code",
   "execution_count": 69,
   "metadata": {},
   "outputs": [
    {
     "data": {
      "image/png": "[encoded data removed]",
      "text/plain": [
       "<Figure size 1200x800 with 1 Axes>"
      ]
     },
     "metadata": {},
     "output_type": "display_data"
    }
   ],
   "source": [
    "plt.figure(figsize=(12, 8))\n",
    "plt.hist(customers['BookingsCheckedIn'], bins=np.arange(-0.5,15.5,1), color='blue', edgecolor='black')\n",
    "plt.title('Bookings Checked In')\n",
    "plt.xlabel('Bookings')\n",
    "plt.ylabel('Frequency')\n",
    "plt.show()"
   ]
  },
  {
   "cell_type": "code",
   "execution_count": 70,
   "metadata": {},
   "outputs": [
    {
     "data": {
      "image/png": "[encoded data removed]",
      "text/plain": [
       "<Figure size 1200x800 with 1 Axes>"
      ]
     },
     "metadata": {},
     "output_type": "display_data"
    }
   ],
   "source": [
    "plt.figure(figsize=(12, 8))\n",
    "sns.boxplot(x=customers['BookingsCheckedIn'], color='blue')\n",
    "plt.title('Bookings Checked In')\n",
    "plt.show()"
   ]
  },
  {
   "cell_type": "markdown",
   "metadata": {},
   "source": [
    "two thirds of our customers have been in our hotel only once"
   ]
  },
  {
   "cell_type": "markdown",
   "metadata": {},
   "source": [
    "#### Persons Night\n",
    "(adults + children)*number of nights "
   ]
  },
  {
   "cell_type": "code",
   "execution_count": 71,
   "metadata": {},
   "outputs": [
    {
     "data": {
      "text/plain": [
       "PersonsNights\n",
       "6     14993\n",
       "4      9899\n",
       "8      9627\n",
       "2      5530\n",
       "10     4026\n",
       "12     3658\n",
       "9      2033\n",
       "14     1738\n",
       "3      1051\n",
       "15      783\n",
       "16      615\n",
       "18      450\n",
       "21      383\n",
       "20      257\n",
       "24      150\n",
       "28       82\n",
       "5        56\n",
       "22       46\n",
       "30       45\n",
       "27       35\n",
       "7        31\n",
       "32       22\n",
       "33       19\n",
       "36       19\n",
       "26       16\n",
       "11       12\n",
       "25       11\n",
       "17        8\n",
       "13        6\n",
       "23        6\n",
       "35        6\n",
       "40        5\n",
       "42        5\n",
       "39        4\n",
       "44        4\n",
       "34        4\n",
       "68        2\n",
       "48        2\n",
       "19        2\n",
       "38        2\n",
       "45        2\n",
       "56        1\n",
       "49        1\n",
       "99        1\n",
       "52        1\n",
       "91        1\n",
       "29        1\n",
       "80        1\n",
       "57        1\n",
       "60        1\n",
       "Name: count, dtype: int64"
      ]
     },
     "execution_count": 71,
     "metadata": {},
     "output_type": "execute_result"
    }
   ],
   "source": [
    "customers['PersonsNights'].value_counts()"
   ]
  },
  {
   "cell_type": "code",
   "execution_count": 72,
   "metadata": {},
   "outputs": [
    {
     "data": {
      "image/png": "[encoded data removed]",
      "text/plain": [
       "<Figure size 1200x800 with 1 Axes>"
      ]
     },
     "metadata": {},
     "output_type": "display_data"
    }
   ],
   "source": [
    "plt.figure(figsize=(12, 8))\n",
    "plt.hist(customers['PersonsNights'], bins=20, color='blue', edgecolor='black')\n",
    "plt.title('Persons Nights')\n",
    "plt.xlabel('Persons Days')\n",
    "plt.ylabel('Frequency')\n",
    "plt.show()"
   ]
  },
  {
   "cell_type": "code",
   "execution_count": 73,
   "metadata": {},
   "outputs": [
    {
     "data": {
      "image/png": "[encoded data removed]",
      "text/plain": [
       "<Figure size 1200x800 with 1 Axes>"
      ]
     },
     "metadata": {},
     "output_type": "display_data"
    }
   ],
   "source": [
    "plt.figure(figsize=(12, 8))\n",
    "sns.boxplot(x=customers['PersonsNights'], color='blue')\n",
    "plt.title('Persons Nights')\n",
    "plt.show()"
   ]
  },
  {
   "cell_type": "code",
   "execution_count": 74,
   "metadata": {},
   "outputs": [
    {
     "data": {
      "text/plain": [
       "Index(['Age', 'DaysSinceCreation', 'AverageLeadTime', 'LodgingRevenue',\n",
       "       'OtherRevenue', 'BookingsCanceled', 'BookingsNoShowed',\n",
       "       'BookingsCheckedIn', 'PersonsNights', 'RoomNights', 'SRHighFloor',\n",
       "       'SRLowFloor', 'SRAccessibleRoom', 'SRMediumFloor', 'SRBathtub',\n",
       "       'SRShower', 'SRCrib', 'SRKingSizeBed', 'SRTwinBed', 'SRNearElevator',\n",
       "       'SRAwayFromElevator', 'SRNoAlcoholInMiniBar', 'SRQuietRoom',\n",
       "       'TotalRevenue', 'YearsSinceCreation'],\n",
       "      dtype='object')"
      ]
     },
     "execution_count": 74,
     "metadata": {},
     "output_type": "execute_result"
    }
   ],
   "source": [
    "customers_numerical.columns"
   ]
  },
  {
   "cell_type": "markdown",
   "metadata": {},
   "source": [
    "### 1.5.3 Binary Variables\n",
    "\n"
   ]
  },
  {
   "cell_type": "markdown",
   "metadata": {},
   "source": [
    "#### SRFloor\n",
    "Making a fusion with the low-high floor \n",
    "\n",
    "    If the client has no preference then 0\n",
    "    If its on a low floor then 1 \n",
    "    If its on a medium floor then 2\n",
    "    If its on a high floor then 3\n",
    "    If asked for more than 1 type of floor then 4"
   ]
  },
  {
   "cell_type": "code",
   "execution_count": 75,
   "metadata": {},
   "outputs": [
    {
     "data": {
      "text/html": [
       "<div>\n",
       "<style scoped>\n",
       "    .dataframe tbody tr th:only-of-type {\n",
       "        vertical-align: middle;\n",
       "    }\n",
       "\n",
       "    .dataframe tbody tr th {\n",
       "        vertical-align: top;\n",
       "    }\n",
       "\n",
       "    .dataframe thead th {\n",
       "        text-align: right;\n",
       "    }\n",
       "</style>\n",
       "<table border=\"1\" class=\"dataframe\">\n",
       "  <thead>\n",
       "    <tr style=\"text-align: right;\">\n",
       "      <th></th>\n",
       "      <th>Nationality</th>\n",
       "      <th>Age</th>\n",
       "      <th>DaysSinceCreation</th>\n",
       "      <th>AverageLeadTime</th>\n",
       "      <th>LodgingRevenue</th>\n",
       "      <th>OtherRevenue</th>\n",
       "      <th>BookingsCanceled</th>\n",
       "      <th>BookingsNoShowed</th>\n",
       "      <th>BookingsCheckedIn</th>\n",
       "      <th>PersonsNights</th>\n",
       "      <th>RoomNights</th>\n",
       "      <th>DistributionChannel</th>\n",
       "      <th>SRHighFloor</th>\n",
       "      <th>SRLowFloor</th>\n",
       "      <th>SRAccessibleRoom</th>\n",
       "      <th>SRMediumFloor</th>\n",
       "      <th>SRBathtub</th>\n",
       "      <th>SRShower</th>\n",
       "      <th>SRCrib</th>\n",
       "      <th>SRKingSizeBed</th>\n",
       "      <th>SRTwinBed</th>\n",
       "      <th>SRNearElevator</th>\n",
       "      <th>SRAwayFromElevator</th>\n",
       "      <th>SRNoAlcoholInMiniBar</th>\n",
       "      <th>SRQuietRoom</th>\n",
       "      <th>TotalRevenue</th>\n",
       "    </tr>\n",
       "    <tr>\n",
       "      <th>ID</th>\n",
       "      <th></th>\n",
       "      <th></th>\n",
       "      <th></th>\n",
       "      <th></th>\n",
       "      <th></th>\n",
       "      <th></th>\n",
       "      <th></th>\n",
       "      <th></th>\n",
       "      <th></th>\n",
       "      <th></th>\n",
       "      <th></th>\n",
       "      <th></th>\n",
       "      <th></th>\n",
       "      <th></th>\n",
       "      <th></th>\n",
       "      <th></th>\n",
       "      <th></th>\n",
       "      <th></th>\n",
       "      <th></th>\n",
       "      <th></th>\n",
       "      <th></th>\n",
       "      <th></th>\n",
       "      <th></th>\n",
       "      <th></th>\n",
       "      <th></th>\n",
       "      <th></th>\n",
       "    </tr>\n",
       "  </thead>\n",
       "  <tbody>\n",
       "  </tbody>\n",
       "</table>\n",
       "</div>"
      ],
      "text/plain": [
       "Empty DataFrame\n",
       "Columns: [Nationality, Age, DaysSinceCreation, AverageLeadTime, LodgingRevenue, OtherRevenue, BookingsCanceled, BookingsNoShowed, BookingsCheckedIn, PersonsNights, RoomNights, DistributionChannel, SRHighFloor, SRLowFloor, SRAccessibleRoom, SRMediumFloor, SRBathtub, SRShower, SRCrib, SRKingSizeBed, SRTwinBed, SRNearElevator, SRAwayFromElevator, SRNoAlcoholInMiniBar, SRQuietRoom, TotalRevenue]\n",
       "Index: []"
      ]
     },
     "execution_count": 75,
     "metadata": {},
     "output_type": "execute_result"
    }
   ],
   "source": [
    "Check0 = customers[(customers['SRHighFloor'] == 1) & (customers['SRLowFloor'] == 1) & (customers['SRMediumFloor'] == 1)]\n",
    "Check0"
   ]
  },
  {
   "cell_type": "code",
   "execution_count": 76,
   "metadata": {},
   "outputs": [
    {
     "data": {
      "text/html": [
       "<div>\n",
       "<style scoped>\n",
       "    .dataframe tbody tr th:only-of-type {\n",
       "        vertical-align: middle;\n",
       "    }\n",
       "\n",
       "    .dataframe tbody tr th {\n",
       "        vertical-align: top;\n",
       "    }\n",
       "\n",
       "    .dataframe thead th {\n",
       "        text-align: right;\n",
       "    }\n",
       "</style>\n",
       "<table border=\"1\" class=\"dataframe\">\n",
       "  <thead>\n",
       "    <tr style=\"text-align: right;\">\n",
       "      <th></th>\n",
       "      <th>Nationality</th>\n",
       "      <th>Age</th>\n",
       "      <th>DaysSinceCreation</th>\n",
       "      <th>AverageLeadTime</th>\n",
       "      <th>LodgingRevenue</th>\n",
       "      <th>OtherRevenue</th>\n",
       "      <th>BookingsCanceled</th>\n",
       "      <th>BookingsNoShowed</th>\n",
       "      <th>BookingsCheckedIn</th>\n",
       "      <th>PersonsNights</th>\n",
       "      <th>RoomNights</th>\n",
       "      <th>DistributionChannel</th>\n",
       "      <th>SRHighFloor</th>\n",
       "      <th>SRLowFloor</th>\n",
       "      <th>SRAccessibleRoom</th>\n",
       "      <th>SRMediumFloor</th>\n",
       "      <th>SRBathtub</th>\n",
       "      <th>SRShower</th>\n",
       "      <th>SRCrib</th>\n",
       "      <th>SRKingSizeBed</th>\n",
       "      <th>SRTwinBed</th>\n",
       "      <th>SRNearElevator</th>\n",
       "      <th>SRAwayFromElevator</th>\n",
       "      <th>SRNoAlcoholInMiniBar</th>\n",
       "      <th>SRQuietRoom</th>\n",
       "      <th>TotalRevenue</th>\n",
       "    </tr>\n",
       "    <tr>\n",
       "      <th>ID</th>\n",
       "      <th></th>\n",
       "      <th></th>\n",
       "      <th></th>\n",
       "      <th></th>\n",
       "      <th></th>\n",
       "      <th></th>\n",
       "      <th></th>\n",
       "      <th></th>\n",
       "      <th></th>\n",
       "      <th></th>\n",
       "      <th></th>\n",
       "      <th></th>\n",
       "      <th></th>\n",
       "      <th></th>\n",
       "      <th></th>\n",
       "      <th></th>\n",
       "      <th></th>\n",
       "      <th></th>\n",
       "      <th></th>\n",
       "      <th></th>\n",
       "      <th></th>\n",
       "      <th></th>\n",
       "      <th></th>\n",
       "      <th></th>\n",
       "      <th></th>\n",
       "      <th></th>\n",
       "    </tr>\n",
       "  </thead>\n",
       "  <tbody>\n",
       "  </tbody>\n",
       "</table>\n",
       "</div>"
      ],
      "text/plain": [
       "Empty DataFrame\n",
       "Columns: [Nationality, Age, DaysSinceCreation, AverageLeadTime, LodgingRevenue, OtherRevenue, BookingsCanceled, BookingsNoShowed, BookingsCheckedIn, PersonsNights, RoomNights, DistributionChannel, SRHighFloor, SRLowFloor, SRAccessibleRoom, SRMediumFloor, SRBathtub, SRShower, SRCrib, SRKingSizeBed, SRTwinBed, SRNearElevator, SRAwayFromElevator, SRNoAlcoholInMiniBar, SRQuietRoom, TotalRevenue]\n",
       "Index: []"
      ]
     },
     "execution_count": 76,
     "metadata": {},
     "output_type": "execute_result"
    }
   ],
   "source": [
    "# We have 1 customer that usually asks fot a high and low floor but not medium and the same for the cases bellow\n",
    "Check1 = customers[(customers['SRHighFloor'] == 1) & (customers['SRLowFloor'] == 1) & (customers['SRMediumFloor'] == 0)]\n",
    "Check1"
   ]
  },
  {
   "cell_type": "code",
   "execution_count": 77,
   "metadata": {},
   "outputs": [
    {
     "data": {
      "text/html": [
       "<div>\n",
       "<style scoped>\n",
       "    .dataframe tbody tr th:only-of-type {\n",
       "        vertical-align: middle;\n",
       "    }\n",
       "\n",
       "    .dataframe tbody tr th {\n",
       "        vertical-align: top;\n",
       "    }\n",
       "\n",
       "    .dataframe thead th {\n",
       "        text-align: right;\n",
       "    }\n",
       "</style>\n",
       "<table border=\"1\" class=\"dataframe\">\n",
       "  <thead>\n",
       "    <tr style=\"text-align: right;\">\n",
       "      <th></th>\n",
       "      <th>Nationality</th>\n",
       "      <th>Age</th>\n",
       "      <th>DaysSinceCreation</th>\n",
       "      <th>AverageLeadTime</th>\n",
       "      <th>LodgingRevenue</th>\n",
       "      <th>OtherRevenue</th>\n",
       "      <th>BookingsCanceled</th>\n",
       "      <th>BookingsNoShowed</th>\n",
       "      <th>BookingsCheckedIn</th>\n",
       "      <th>PersonsNights</th>\n",
       "      <th>RoomNights</th>\n",
       "      <th>DistributionChannel</th>\n",
       "      <th>SRHighFloor</th>\n",
       "      <th>SRLowFloor</th>\n",
       "      <th>SRAccessibleRoom</th>\n",
       "      <th>SRMediumFloor</th>\n",
       "      <th>SRBathtub</th>\n",
       "      <th>SRShower</th>\n",
       "      <th>SRCrib</th>\n",
       "      <th>SRKingSizeBed</th>\n",
       "      <th>SRTwinBed</th>\n",
       "      <th>SRNearElevator</th>\n",
       "      <th>SRAwayFromElevator</th>\n",
       "      <th>SRNoAlcoholInMiniBar</th>\n",
       "      <th>SRQuietRoom</th>\n",
       "      <th>TotalRevenue</th>\n",
       "    </tr>\n",
       "    <tr>\n",
       "      <th>ID</th>\n",
       "      <th></th>\n",
       "      <th></th>\n",
       "      <th></th>\n",
       "      <th></th>\n",
       "      <th></th>\n",
       "      <th></th>\n",
       "      <th></th>\n",
       "      <th></th>\n",
       "      <th></th>\n",
       "      <th></th>\n",
       "      <th></th>\n",
       "      <th></th>\n",
       "      <th></th>\n",
       "      <th></th>\n",
       "      <th></th>\n",
       "      <th></th>\n",
       "      <th></th>\n",
       "      <th></th>\n",
       "      <th></th>\n",
       "      <th></th>\n",
       "      <th></th>\n",
       "      <th></th>\n",
       "      <th></th>\n",
       "      <th></th>\n",
       "      <th></th>\n",
       "      <th></th>\n",
       "    </tr>\n",
       "  </thead>\n",
       "  <tbody>\n",
       "    <tr>\n",
       "      <th>25859</th>\n",
       "      <td>SWE</td>\n",
       "      <td>51.0</td>\n",
       "      <td>921</td>\n",
       "      <td>127</td>\n",
       "      <td>2020.0</td>\n",
       "      <td>220.0</td>\n",
       "      <td>0</td>\n",
       "      <td>0</td>\n",
       "      <td>1</td>\n",
       "      <td>8</td>\n",
       "      <td>2</td>\n",
       "      <td>Travel Agent/Operator</td>\n",
       "      <td>1</td>\n",
       "      <td>0</td>\n",
       "      <td>0</td>\n",
       "      <td>1</td>\n",
       "      <td>0</td>\n",
       "      <td>0</td>\n",
       "      <td>0</td>\n",
       "      <td>1</td>\n",
       "      <td>0</td>\n",
       "      <td>0</td>\n",
       "      <td>0</td>\n",
       "      <td>0</td>\n",
       "      <td>0</td>\n",
       "      <td>2240.0</td>\n",
       "    </tr>\n",
       "  </tbody>\n",
       "</table>\n",
       "</div>"
      ],
      "text/plain": [
       "      Nationality   Age  DaysSinceCreation  AverageLeadTime  LodgingRevenue  \\\n",
       "ID                                                                            \n",
       "25859         SWE  51.0                921              127          2020.0   \n",
       "\n",
       "       OtherRevenue  BookingsCanceled  BookingsNoShowed  BookingsCheckedIn  \\\n",
       "ID                                                                           \n",
       "25859         220.0                 0                 0                  1   \n",
       "\n",
       "       PersonsNights  RoomNights    DistributionChannel  SRHighFloor  \\\n",
       "ID                                                                     \n",
       "25859              8           2  Travel Agent/Operator            1   \n",
       "\n",
       "       SRLowFloor  SRAccessibleRoom  SRMediumFloor  SRBathtub  SRShower  \\\n",
       "ID                                                                        \n",
       "25859           0                 0              1          0         0   \n",
       "\n",
       "       SRCrib  SRKingSizeBed  SRTwinBed  SRNearElevator  SRAwayFromElevator  \\\n",
       "ID                                                                            \n",
       "25859       0              1          0               0                   0   \n",
       "\n",
       "       SRNoAlcoholInMiniBar  SRQuietRoom  TotalRevenue  \n",
       "ID                                                      \n",
       "25859                     0            0        2240.0  "
      ]
     },
     "execution_count": 77,
     "metadata": {},
     "output_type": "execute_result"
    }
   ],
   "source": [
    "Check2 = customers[(customers['SRHighFloor'] == 1) & (customers['SRLowFloor'] == 0) & (customers['SRMediumFloor'] == 1)]\n",
    "Check2"
   ]
  },
  {
   "cell_type": "code",
   "execution_count": 78,
   "metadata": {},
   "outputs": [
    {
     "data": {
      "text/html": [
       "<div>\n",
       "<style scoped>\n",
       "    .dataframe tbody tr th:only-of-type {\n",
       "        vertical-align: middle;\n",
       "    }\n",
       "\n",
       "    .dataframe tbody tr th {\n",
       "        vertical-align: top;\n",
       "    }\n",
       "\n",
       "    .dataframe thead th {\n",
       "        text-align: right;\n",
       "    }\n",
       "</style>\n",
       "<table border=\"1\" class=\"dataframe\">\n",
       "  <thead>\n",
       "    <tr style=\"text-align: right;\">\n",
       "      <th></th>\n",
       "      <th>Nationality</th>\n",
       "      <th>Age</th>\n",
       "      <th>DaysSinceCreation</th>\n",
       "      <th>AverageLeadTime</th>\n",
       "      <th>LodgingRevenue</th>\n",
       "      <th>OtherRevenue</th>\n",
       "      <th>BookingsCanceled</th>\n",
       "      <th>BookingsNoShowed</th>\n",
       "      <th>BookingsCheckedIn</th>\n",
       "      <th>PersonsNights</th>\n",
       "      <th>RoomNights</th>\n",
       "      <th>DistributionChannel</th>\n",
       "      <th>SRHighFloor</th>\n",
       "      <th>SRLowFloor</th>\n",
       "      <th>SRAccessibleRoom</th>\n",
       "      <th>SRMediumFloor</th>\n",
       "      <th>SRBathtub</th>\n",
       "      <th>SRShower</th>\n",
       "      <th>SRCrib</th>\n",
       "      <th>SRKingSizeBed</th>\n",
       "      <th>SRTwinBed</th>\n",
       "      <th>SRNearElevator</th>\n",
       "      <th>SRAwayFromElevator</th>\n",
       "      <th>SRNoAlcoholInMiniBar</th>\n",
       "      <th>SRQuietRoom</th>\n",
       "      <th>TotalRevenue</th>\n",
       "    </tr>\n",
       "    <tr>\n",
       "      <th>ID</th>\n",
       "      <th></th>\n",
       "      <th></th>\n",
       "      <th></th>\n",
       "      <th></th>\n",
       "      <th></th>\n",
       "      <th></th>\n",
       "      <th></th>\n",
       "      <th></th>\n",
       "      <th></th>\n",
       "      <th></th>\n",
       "      <th></th>\n",
       "      <th></th>\n",
       "      <th></th>\n",
       "      <th></th>\n",
       "      <th></th>\n",
       "      <th></th>\n",
       "      <th></th>\n",
       "      <th></th>\n",
       "      <th></th>\n",
       "      <th></th>\n",
       "      <th></th>\n",
       "      <th></th>\n",
       "      <th></th>\n",
       "      <th></th>\n",
       "      <th></th>\n",
       "      <th></th>\n",
       "    </tr>\n",
       "  </thead>\n",
       "  <tbody>\n",
       "    <tr>\n",
       "      <th>27802</th>\n",
       "      <td>GBR</td>\n",
       "      <td>45.0</td>\n",
       "      <td>891</td>\n",
       "      <td>90</td>\n",
       "      <td>114.0</td>\n",
       "      <td>14.0</td>\n",
       "      <td>0</td>\n",
       "      <td>0</td>\n",
       "      <td>1</td>\n",
       "      <td>2</td>\n",
       "      <td>1</td>\n",
       "      <td>Travel Agent/Operator</td>\n",
       "      <td>0</td>\n",
       "      <td>1</td>\n",
       "      <td>0</td>\n",
       "      <td>1</td>\n",
       "      <td>0</td>\n",
       "      <td>0</td>\n",
       "      <td>0</td>\n",
       "      <td>0</td>\n",
       "      <td>0</td>\n",
       "      <td>0</td>\n",
       "      <td>0</td>\n",
       "      <td>0</td>\n",
       "      <td>1</td>\n",
       "      <td>128.0</td>\n",
       "    </tr>\n",
       "  </tbody>\n",
       "</table>\n",
       "</div>"
      ],
      "text/plain": [
       "      Nationality   Age  DaysSinceCreation  AverageLeadTime  LodgingRevenue  \\\n",
       "ID                                                                            \n",
       "27802         GBR  45.0                891               90           114.0   \n",
       "\n",
       "       OtherRevenue  BookingsCanceled  BookingsNoShowed  BookingsCheckedIn  \\\n",
       "ID                                                                           \n",
       "27802          14.0                 0                 0                  1   \n",
       "\n",
       "       PersonsNights  RoomNights    DistributionChannel  SRHighFloor  \\\n",
       "ID                                                                     \n",
       "27802              2           1  Travel Agent/Operator            0   \n",
       "\n",
       "       SRLowFloor  SRAccessibleRoom  SRMediumFloor  SRBathtub  SRShower  \\\n",
       "ID                                                                        \n",
       "27802           1                 0              1          0         0   \n",
       "\n",
       "       SRCrib  SRKingSizeBed  SRTwinBed  SRNearElevator  SRAwayFromElevator  \\\n",
       "ID                                                                            \n",
       "27802       0              0          0               0                   0   \n",
       "\n",
       "       SRNoAlcoholInMiniBar  SRQuietRoom  TotalRevenue  \n",
       "ID                                                      \n",
       "27802                     0            1         128.0  "
      ]
     },
     "execution_count": 78,
     "metadata": {},
     "output_type": "execute_result"
    }
   ],
   "source": [
    "Check3 = customers[(customers['SRHighFloor'] == 0) & (customers['SRLowFloor'] == 1) & (customers['SRMediumFloor'] == 1)]\n",
    "Check3"
   ]
  },
  {
   "cell_type": "code",
   "execution_count": 79,
   "metadata": {},
   "outputs": [],
   "source": [
    "# This just means that the customer does not ask for a specific floor\n",
    "# Check4 = customers[(customers['SRHighFloor'] == 0) & (customers['SRLowFloor'] == 0) & (customers['SRMediumFloor'] == 0)]\n",
    "# Check4"
   ]
  },
  {
   "cell_type": "markdown",
   "metadata": {},
   "source": [
    "Uncomment the code after we dealt with the costumers above and if everyone agrees"
   ]
  },
  {
   "cell_type": "code",
   "execution_count": 80,
   "metadata": {},
   "outputs": [],
   "source": [
    "def type_of_floor(row):\n",
    "     if row['SRMediumFloor'] == 1 and row['SRHighFloor'] == 1:\n",
    "         return 4\n",
    "     elif row['SRLowFloor'] == 1 and row['SRMediumFloor'] == 1:\n",
    "         return 4\n",
    "     elif row['SRLowFloor'] == 1:     # preference for lower floors\n",
    "         return 1\n",
    "     elif row['SRMediumFloor'] == 1: # preference for medium floors\n",
    "         return 2\n",
    "     elif row['SRHighFloor'] == 1:    # preference for higher floors\n",
    "         return 3\n",
    "     else:                           # no preference\n",
    "         return 0 \n",
    "\n",
    "\n",
    "\n",
    "customers['SRFloor'] = customers.apply(type_of_floor, axis=1)"
   ]
  },
  {
   "cell_type": "code",
   "execution_count": 81,
   "metadata": {},
   "outputs": [
    {
     "data": {
      "text/plain": [
       "SRFloor\n",
       "0    52818\n",
       "3     2712\n",
       "1       82\n",
       "2       40\n",
       "4        2\n",
       "Name: count, dtype: int64"
      ]
     },
     "execution_count": 81,
     "metadata": {},
     "output_type": "execute_result"
    }
   ],
   "source": [
    "customers['SRFloor'].value_counts()"
   ]
  },
  {
   "cell_type": "code",
   "execution_count": 82,
   "metadata": {},
   "outputs": [
    {
     "data": {
      "text/plain": [
       "SRFloor\n",
       "0    0.949042\n",
       "3    0.048730\n",
       "1    0.001473\n",
       "2    0.000719\n",
       "4    0.000036\n",
       "Name: proportion, dtype: float64"
      ]
     },
     "execution_count": 82,
     "metadata": {},
     "output_type": "execute_result"
    }
   ],
   "source": [
    "# Getting the percentage of every number in SRFloor\n",
    "customers['SRFloor'].value_counts(normalize=True)"
   ]
  },
  {
   "cell_type": "code",
   "execution_count": 83,
   "metadata": {},
   "outputs": [
    {
     "data": {
      "image/png": "[encoded data removed]",
      "text/plain": [
       "<Figure size 800x600 with 1 Axes>"
      ]
     },
     "metadata": {},
     "output_type": "display_data"
    }
   ],
   "source": [
    "# Plot of types of floors preference \n",
    "# This plot could get some improvements \n",
    "\n",
    "plt.figure(figsize=(8, 6))\n",
    "plt.hist(customers['SRFloor'], bins=np.arange(-0.5,5.5,1), weights=[1 / len(customers['SRFloor'])] * len(customers['SRFloor']))\n",
    "plt.title('Types of Floor Preference')\n",
    "plt.xticks(range(5))\n",
    "plt.xlabel('Type of Floor')\n",
    "plt.ylabel('%')\n",
    "plt.show()"
   ]
  },
  {
   "cell_type": "markdown",
   "metadata": {},
   "source": [
    "#### SRBathtubShower\n",
    "\n",
    "We are going to join these two features where:\n",
    "\n",
    "    If the client has no preference then its 0\n",
    "    If the client usually asks for a room with a bathtub then 1\n",
    "    If the client usually asks for a room with a shower then 2"
   ]
  },
  {
   "cell_type": "code",
   "execution_count": 84,
   "metadata": {},
   "outputs": [
    {
     "data": {
      "text/plain": [
       "SRBathtub\n",
       "0    55462\n",
       "1      192\n",
       "Name: count, dtype: int64"
      ]
     },
     "execution_count": 84,
     "metadata": {},
     "output_type": "execute_result"
    }
   ],
   "source": [
    "customers['SRBathtub'].value_counts()"
   ]
  },
  {
   "cell_type": "code",
   "execution_count": 85,
   "metadata": {},
   "outputs": [
    {
     "data": {
      "text/html": [
       "<div>\n",
       "<style scoped>\n",
       "    .dataframe tbody tr th:only-of-type {\n",
       "        vertical-align: middle;\n",
       "    }\n",
       "\n",
       "    .dataframe tbody tr th {\n",
       "        vertical-align: top;\n",
       "    }\n",
       "\n",
       "    .dataframe thead th {\n",
       "        text-align: right;\n",
       "    }\n",
       "</style>\n",
       "<table border=\"1\" class=\"dataframe\">\n",
       "  <thead>\n",
       "    <tr style=\"text-align: right;\">\n",
       "      <th></th>\n",
       "      <th>Nationality</th>\n",
       "      <th>Age</th>\n",
       "      <th>DaysSinceCreation</th>\n",
       "      <th>AverageLeadTime</th>\n",
       "      <th>LodgingRevenue</th>\n",
       "      <th>OtherRevenue</th>\n",
       "      <th>BookingsCanceled</th>\n",
       "      <th>BookingsNoShowed</th>\n",
       "      <th>BookingsCheckedIn</th>\n",
       "      <th>PersonsNights</th>\n",
       "      <th>RoomNights</th>\n",
       "      <th>DistributionChannel</th>\n",
       "      <th>SRHighFloor</th>\n",
       "      <th>SRLowFloor</th>\n",
       "      <th>SRAccessibleRoom</th>\n",
       "      <th>SRMediumFloor</th>\n",
       "      <th>SRBathtub</th>\n",
       "      <th>SRShower</th>\n",
       "      <th>SRCrib</th>\n",
       "      <th>SRKingSizeBed</th>\n",
       "      <th>SRTwinBed</th>\n",
       "      <th>SRNearElevator</th>\n",
       "      <th>SRAwayFromElevator</th>\n",
       "      <th>SRNoAlcoholInMiniBar</th>\n",
       "      <th>SRQuietRoom</th>\n",
       "      <th>TotalRevenue</th>\n",
       "      <th>SRFloor</th>\n",
       "    </tr>\n",
       "    <tr>\n",
       "      <th>ID</th>\n",
       "      <th></th>\n",
       "      <th></th>\n",
       "      <th></th>\n",
       "      <th></th>\n",
       "      <th></th>\n",
       "      <th></th>\n",
       "      <th></th>\n",
       "      <th></th>\n",
       "      <th></th>\n",
       "      <th></th>\n",
       "      <th></th>\n",
       "      <th></th>\n",
       "      <th></th>\n",
       "      <th></th>\n",
       "      <th></th>\n",
       "      <th></th>\n",
       "      <th></th>\n",
       "      <th></th>\n",
       "      <th></th>\n",
       "      <th></th>\n",
       "      <th></th>\n",
       "      <th></th>\n",
       "      <th></th>\n",
       "      <th></th>\n",
       "      <th></th>\n",
       "      <th></th>\n",
       "      <th></th>\n",
       "    </tr>\n",
       "  </thead>\n",
       "  <tbody>\n",
       "  </tbody>\n",
       "</table>\n",
       "</div>"
      ],
      "text/plain": [
       "Empty DataFrame\n",
       "Columns: [Nationality, Age, DaysSinceCreation, AverageLeadTime, LodgingRevenue, OtherRevenue, BookingsCanceled, BookingsNoShowed, BookingsCheckedIn, PersonsNights, RoomNights, DistributionChannel, SRHighFloor, SRLowFloor, SRAccessibleRoom, SRMediumFloor, SRBathtub, SRShower, SRCrib, SRKingSizeBed, SRTwinBed, SRNearElevator, SRAwayFromElevator, SRNoAlcoholInMiniBar, SRQuietRoom, TotalRevenue, SRFloor]\n",
       "Index: []"
      ]
     },
     "execution_count": 85,
     "metadata": {},
     "output_type": "execute_result"
    }
   ],
   "source": [
    "check1 = customers[(customers['SRBathtub'] == 1) & (customers['SRShower'] == 1)]\n",
    "check1"
   ]
  },
  {
   "cell_type": "code",
   "execution_count": 86,
   "metadata": {},
   "outputs": [],
   "source": [
    "def bathroom(row):\n",
    "    if row['SRBathtub'] == 0 and row['SRShower'] == 0:\n",
    "        return 0\n",
    "    elif row['SRBathtub'] == 1:\n",
    "        return 1\n",
    "    elif row['SRShower'] == 1:\n",
    "        return 2\n",
    "    else:\n",
    "        return 0\n",
    "    \n",
    "customers['SRBathroom'] = customers.apply(bathroom, axis=1)"
   ]
  },
  {
   "cell_type": "code",
   "execution_count": 87,
   "metadata": {},
   "outputs": [
    {
     "data": {
      "text/plain": [
       "SRBathroom\n",
       "0    55350\n",
       "1      192\n",
       "2      112\n",
       "Name: count, dtype: int64"
      ]
     },
     "execution_count": 87,
     "metadata": {},
     "output_type": "execute_result"
    }
   ],
   "source": [
    "customers['SRBathroom'].value_counts()"
   ]
  },
  {
   "cell_type": "code",
   "execution_count": 88,
   "metadata": {},
   "outputs": [
    {
     "data": {
      "image/png": "[encoded data removed]",
      "text/plain": [
       "<Figure size 1200x800 with 1 Axes>"
      ]
     },
     "metadata": {},
     "output_type": "display_data"
    },
    {
     "name": "stdout",
     "output_type": "stream",
     "text": [
      "99.45% of our costumers have no preference\n",
      "0.34% of our costumers ask for a bathtub\n",
      "0.34% of our costumers ask for a shower\n"
     ]
    }
   ],
   "source": [
    "plt.figure(figsize=(12, 8))\n",
    "plt.hist(customers['SRBathroom'], bins=[-0.5,0.5,1.5,2.5], color='blue', weights=[1 / len(customers['SRBathroom'])] * len(customers['SRBathroom']), edgecolor='black')\n",
    "plt.title('SRBathroom')\n",
    "plt.xlabel('SRBathroom')\n",
    "plt.ylabel('%')\n",
    "plt.xticks(range(3))\n",
    "plt.yticks([i/10 for i in range(11)])\n",
    "plt.xlim([-1, 3])\n",
    "plt.show()\n",
    "\n",
    "print(f'{len(customers[customers[\"SRBathroom\"]==0])/len(customers['SRBathroom'])*100:.2f}% of our costumers have no preference')\n",
    "print(f'{len(customers[customers[\"SRBathroom\"]==1])/len(customers['SRBathroom'])*100:.2f}% of our costumers ask for a bathtub')\n",
    "print(f'{len(customers[customers[\"SRBathroom\"]==1])/len(customers['SRBathroom'])*100:.2f}% of our costumers ask for a shower')"
   ]
  },
  {
   "cell_type": "markdown",
   "metadata": {},
   "source": [
    "#### SRCrib"
   ]
  },
  {
   "cell_type": "code",
   "execution_count": 89,
   "metadata": {},
   "outputs": [
    {
     "data": {
      "text/plain": [
       "SRCrib\n",
       "0    54930\n",
       "1      724\n",
       "Name: count, dtype: int64"
      ]
     },
     "execution_count": 89,
     "metadata": {},
     "output_type": "execute_result"
    }
   ],
   "source": [
    "customers['SRCrib'].value_counts()"
   ]
  },
  {
   "cell_type": "code",
   "execution_count": 90,
   "metadata": {},
   "outputs": [
    {
     "data": {
      "image/png": "[encoded data removed]",
      "text/plain": [
       "<Figure size 1200x800 with 1 Axes>"
      ]
     },
     "metadata": {},
     "output_type": "display_data"
    },
    {
     "name": "stdout",
     "output_type": "stream",
     "text": [
      "98.70% of our costumers do not ask for a crib\n",
      "1.30% of our costumers ask for a crib\n"
     ]
    }
   ],
   "source": [
    "plt.figure(figsize=(12, 8))\n",
    "plt.hist(customers['SRCrib'], bins=[-0.5, 0.5, 1.5], color='blue', weights=[1 / len(customers['SRCrib'])] * len(customers['SRCrib']), edgecolor='black')\n",
    "plt.title('SRCrib')\n",
    "plt.xlabel('SRCrib')\n",
    "plt.ylabel('%')\n",
    "plt.xticks(range(2))\n",
    "plt.yticks([i/10 for i in range(11)])\n",
    "plt.xlim([-1, 2])\n",
    "plt.show()\n",
    "\n",
    "print(f'{len(customers[customers[\"SRCrib\"]==0])/len(customers['SRCrib'])*100:.2f}% of our costumers do not ask for a crib')\n",
    "print(f'{len(customers[customers[\"SRCrib\"]==1])/len(customers['SRCrib'])*100:.2f}% of our costumers ask for a crib')"
   ]
  },
  {
   "cell_type": "markdown",
   "metadata": {},
   "source": [
    "#### Elevator\n",
    "\n",
    "We are going to join these two features where:\n",
    "\n",
    "    If the client has no preference then its 0\n",
    "    If the client usually asks for a room near the elevator then 1\n",
    "    If the client usually asks for a room away from the elevator then 2"
   ]
  },
  {
   "cell_type": "code",
   "execution_count": 91,
   "metadata": {},
   "outputs": [
    {
     "data": {
      "text/html": [
       "<div>\n",
       "<style scoped>\n",
       "    .dataframe tbody tr th:only-of-type {\n",
       "        vertical-align: middle;\n",
       "    }\n",
       "\n",
       "    .dataframe tbody tr th {\n",
       "        vertical-align: top;\n",
       "    }\n",
       "\n",
       "    .dataframe thead th {\n",
       "        text-align: right;\n",
       "    }\n",
       "</style>\n",
       "<table border=\"1\" class=\"dataframe\">\n",
       "  <thead>\n",
       "    <tr style=\"text-align: right;\">\n",
       "      <th></th>\n",
       "      <th>Nationality</th>\n",
       "      <th>Age</th>\n",
       "      <th>DaysSinceCreation</th>\n",
       "      <th>AverageLeadTime</th>\n",
       "      <th>LodgingRevenue</th>\n",
       "      <th>OtherRevenue</th>\n",
       "      <th>BookingsCanceled</th>\n",
       "      <th>BookingsNoShowed</th>\n",
       "      <th>BookingsCheckedIn</th>\n",
       "      <th>PersonsNights</th>\n",
       "      <th>RoomNights</th>\n",
       "      <th>DistributionChannel</th>\n",
       "      <th>SRHighFloor</th>\n",
       "      <th>SRLowFloor</th>\n",
       "      <th>SRAccessibleRoom</th>\n",
       "      <th>SRMediumFloor</th>\n",
       "      <th>SRBathtub</th>\n",
       "      <th>SRShower</th>\n",
       "      <th>SRCrib</th>\n",
       "      <th>SRKingSizeBed</th>\n",
       "      <th>SRTwinBed</th>\n",
       "      <th>SRNearElevator</th>\n",
       "      <th>SRAwayFromElevator</th>\n",
       "      <th>SRNoAlcoholInMiniBar</th>\n",
       "      <th>SRQuietRoom</th>\n",
       "      <th>TotalRevenue</th>\n",
       "      <th>SRFloor</th>\n",
       "      <th>SRBathroom</th>\n",
       "    </tr>\n",
       "    <tr>\n",
       "      <th>ID</th>\n",
       "      <th></th>\n",
       "      <th></th>\n",
       "      <th></th>\n",
       "      <th></th>\n",
       "      <th></th>\n",
       "      <th></th>\n",
       "      <th></th>\n",
       "      <th></th>\n",
       "      <th></th>\n",
       "      <th></th>\n",
       "      <th></th>\n",
       "      <th></th>\n",
       "      <th></th>\n",
       "      <th></th>\n",
       "      <th></th>\n",
       "      <th></th>\n",
       "      <th></th>\n",
       "      <th></th>\n",
       "      <th></th>\n",
       "      <th></th>\n",
       "      <th></th>\n",
       "      <th></th>\n",
       "      <th></th>\n",
       "      <th></th>\n",
       "      <th></th>\n",
       "      <th></th>\n",
       "      <th></th>\n",
       "      <th></th>\n",
       "    </tr>\n",
       "  </thead>\n",
       "  <tbody>\n",
       "  </tbody>\n",
       "</table>\n",
       "</div>"
      ],
      "text/plain": [
       "Empty DataFrame\n",
       "Columns: [Nationality, Age, DaysSinceCreation, AverageLeadTime, LodgingRevenue, OtherRevenue, BookingsCanceled, BookingsNoShowed, BookingsCheckedIn, PersonsNights, RoomNights, DistributionChannel, SRHighFloor, SRLowFloor, SRAccessibleRoom, SRMediumFloor, SRBathtub, SRShower, SRCrib, SRKingSizeBed, SRTwinBed, SRNearElevator, SRAwayFromElevator, SRNoAlcoholInMiniBar, SRQuietRoom, TotalRevenue, SRFloor, SRBathroom]\n",
       "Index: []"
      ]
     },
     "execution_count": 91,
     "metadata": {},
     "output_type": "execute_result"
    }
   ],
   "source": [
    "check1 = customers[(customers['SRNearElevator'] == 1) & (customers['SRAwayFromElevator'] == 1)]\n",
    "check1"
   ]
  },
  {
   "cell_type": "code",
   "execution_count": 92,
   "metadata": {},
   "outputs": [],
   "source": [
    "def elevator(row):\n",
    "    if row['SRNearElevator'] == 0 and row['SRAwayFromElevator'] == 0:\n",
    "        return 0\n",
    "    elif row['SRNearElevator'] == 1:\n",
    "        return 1\n",
    "    elif row['SRAwayFromElevator'] == 1:\n",
    "        return 2\n",
    "    else:\n",
    "        return 0"
   ]
  },
  {
   "cell_type": "code",
   "execution_count": 93,
   "metadata": {},
   "outputs": [],
   "source": [
    "customers['SRElevator'] = customers.apply(elevator, axis=1)"
   ]
  },
  {
   "cell_type": "code",
   "execution_count": 94,
   "metadata": {},
   "outputs": [
    {
     "data": {
      "text/plain": [
       "SRElevator\n",
       "0    55413\n",
       "2      225\n",
       "1       16\n",
       "Name: count, dtype: int64"
      ]
     },
     "execution_count": 94,
     "metadata": {},
     "output_type": "execute_result"
    }
   ],
   "source": [
    "customers['SRElevator'].value_counts()"
   ]
  },
  {
   "cell_type": "code",
   "execution_count": 95,
   "metadata": {},
   "outputs": [
    {
     "data": {
      "image/png": "[encoded data removed]",
      "text/plain": [
       "<Figure size 800x600 with 1 Axes>"
      ]
     },
     "metadata": {},
     "output_type": "display_data"
    },
    {
     "name": "stdout",
     "output_type": "stream",
     "text": [
      "99.57% of our costumers have no preference\n",
      "0.03% of our costumers prefere to have a elevator near\n",
      "0.40% of our costumers prefere to have a elevator away\n"
     ]
    }
   ],
   "source": [
    "plt.figure(figsize=(8, 6))\n",
    "plt.hist(customers['SRElevator'], bins=[-0.5,0.5,1.5,2.5], weights=[1 / len(customers['SRElevator'])] * len(customers['SRElevator']))\n",
    "plt.title('Elevator Preference')\n",
    "plt.xticks(range(3))\n",
    "plt.yticks([i/10 for i in range(11)])\n",
    "plt.xlabel('Preference')\n",
    "plt.ylabel('%')\n",
    "plt.show()\n",
    "\n",
    "print(f'{len(customers[customers['SRElevator']==0])/len(customers['SRElevator'])*100:.2f}% of our costumers have no preference')\n",
    "print(f'{len(customers[customers['SRElevator']==1])/len(customers['SRElevator'])*100:.2f}% of our costumers prefere to have a elevator near')\n",
    "print(f'{len(customers[customers['SRElevator']==2])/len(customers['SRElevator'])*100:.2f}% of our costumers prefere to have a elevator away')"
   ]
  },
  {
   "cell_type": "markdown",
   "metadata": {},
   "source": [
    "#### SRBed\n",
    "\n",
    "We are going to join these two features where:\n",
    "\n",
    "    If the client has no preference then its 0\n",
    "    If the client usually asks for a room with a King size bed then 1\n",
    "    If the client usually asks for a room with a twin bed then 2"
   ]
  },
  {
   "cell_type": "code",
   "execution_count": 96,
   "metadata": {},
   "outputs": [
    {
     "data": {
      "text/html": [
       "<div>\n",
       "<style scoped>\n",
       "    .dataframe tbody tr th:only-of-type {\n",
       "        vertical-align: middle;\n",
       "    }\n",
       "\n",
       "    .dataframe tbody tr th {\n",
       "        vertical-align: top;\n",
       "    }\n",
       "\n",
       "    .dataframe thead th {\n",
       "        text-align: right;\n",
       "    }\n",
       "</style>\n",
       "<table border=\"1\" class=\"dataframe\">\n",
       "  <thead>\n",
       "    <tr style=\"text-align: right;\">\n",
       "      <th></th>\n",
       "      <th>Nationality</th>\n",
       "      <th>Age</th>\n",
       "      <th>DaysSinceCreation</th>\n",
       "      <th>AverageLeadTime</th>\n",
       "      <th>LodgingRevenue</th>\n",
       "      <th>OtherRevenue</th>\n",
       "      <th>BookingsCanceled</th>\n",
       "      <th>BookingsNoShowed</th>\n",
       "      <th>BookingsCheckedIn</th>\n",
       "      <th>PersonsNights</th>\n",
       "      <th>RoomNights</th>\n",
       "      <th>DistributionChannel</th>\n",
       "      <th>SRHighFloor</th>\n",
       "      <th>SRLowFloor</th>\n",
       "      <th>SRAccessibleRoom</th>\n",
       "      <th>SRMediumFloor</th>\n",
       "      <th>SRBathtub</th>\n",
       "      <th>SRShower</th>\n",
       "      <th>SRCrib</th>\n",
       "      <th>SRKingSizeBed</th>\n",
       "      <th>SRTwinBed</th>\n",
       "      <th>SRNearElevator</th>\n",
       "      <th>SRAwayFromElevator</th>\n",
       "      <th>SRNoAlcoholInMiniBar</th>\n",
       "      <th>SRQuietRoom</th>\n",
       "      <th>TotalRevenue</th>\n",
       "      <th>SRFloor</th>\n",
       "      <th>SRBathroom</th>\n",
       "      <th>SRElevator</th>\n",
       "    </tr>\n",
       "    <tr>\n",
       "      <th>ID</th>\n",
       "      <th></th>\n",
       "      <th></th>\n",
       "      <th></th>\n",
       "      <th></th>\n",
       "      <th></th>\n",
       "      <th></th>\n",
       "      <th></th>\n",
       "      <th></th>\n",
       "      <th></th>\n",
       "      <th></th>\n",
       "      <th></th>\n",
       "      <th></th>\n",
       "      <th></th>\n",
       "      <th></th>\n",
       "      <th></th>\n",
       "      <th></th>\n",
       "      <th></th>\n",
       "      <th></th>\n",
       "      <th></th>\n",
       "      <th></th>\n",
       "      <th></th>\n",
       "      <th></th>\n",
       "      <th></th>\n",
       "      <th></th>\n",
       "      <th></th>\n",
       "      <th></th>\n",
       "      <th></th>\n",
       "      <th></th>\n",
       "      <th></th>\n",
       "    </tr>\n",
       "  </thead>\n",
       "  <tbody>\n",
       "    <tr>\n",
       "      <th>64653</th>\n",
       "      <td>AUT</td>\n",
       "      <td>64.0</td>\n",
       "      <td>453</td>\n",
       "      <td>171</td>\n",
       "      <td>282.00</td>\n",
       "      <td>70.5</td>\n",
       "      <td>0</td>\n",
       "      <td>0</td>\n",
       "      <td>1</td>\n",
       "      <td>4</td>\n",
       "      <td>2</td>\n",
       "      <td>Travel Agent/Operator</td>\n",
       "      <td>0</td>\n",
       "      <td>0</td>\n",
       "      <td>0</td>\n",
       "      <td>0</td>\n",
       "      <td>0</td>\n",
       "      <td>0</td>\n",
       "      <td>0</td>\n",
       "      <td>1</td>\n",
       "      <td>1</td>\n",
       "      <td>0</td>\n",
       "      <td>0</td>\n",
       "      <td>0</td>\n",
       "      <td>0</td>\n",
       "      <td>352.50</td>\n",
       "      <td>0</td>\n",
       "      <td>0</td>\n",
       "      <td>0</td>\n",
       "    </tr>\n",
       "    <tr>\n",
       "      <th>43778</th>\n",
       "      <td>PRT</td>\n",
       "      <td>63.0</td>\n",
       "      <td>639</td>\n",
       "      <td>3</td>\n",
       "      <td>2811.80</td>\n",
       "      <td>42.0</td>\n",
       "      <td>0</td>\n",
       "      <td>0</td>\n",
       "      <td>1</td>\n",
       "      <td>16</td>\n",
       "      <td>8</td>\n",
       "      <td>Travel Agent/Operator</td>\n",
       "      <td>0</td>\n",
       "      <td>0</td>\n",
       "      <td>0</td>\n",
       "      <td>0</td>\n",
       "      <td>0</td>\n",
       "      <td>0</td>\n",
       "      <td>0</td>\n",
       "      <td>1</td>\n",
       "      <td>1</td>\n",
       "      <td>0</td>\n",
       "      <td>0</td>\n",
       "      <td>0</td>\n",
       "      <td>0</td>\n",
       "      <td>2853.80</td>\n",
       "      <td>0</td>\n",
       "      <td>0</td>\n",
       "      <td>0</td>\n",
       "    </tr>\n",
       "    <tr>\n",
       "      <th>64642</th>\n",
       "      <td>DEU</td>\n",
       "      <td>54.0</td>\n",
       "      <td>453</td>\n",
       "      <td>171</td>\n",
       "      <td>282.00</td>\n",
       "      <td>48.0</td>\n",
       "      <td>0</td>\n",
       "      <td>0</td>\n",
       "      <td>1</td>\n",
       "      <td>4</td>\n",
       "      <td>2</td>\n",
       "      <td>Travel Agent/Operator</td>\n",
       "      <td>0</td>\n",
       "      <td>0</td>\n",
       "      <td>0</td>\n",
       "      <td>0</td>\n",
       "      <td>0</td>\n",
       "      <td>0</td>\n",
       "      <td>0</td>\n",
       "      <td>1</td>\n",
       "      <td>1</td>\n",
       "      <td>0</td>\n",
       "      <td>0</td>\n",
       "      <td>0</td>\n",
       "      <td>0</td>\n",
       "      <td>330.00</td>\n",
       "      <td>0</td>\n",
       "      <td>0</td>\n",
       "      <td>0</td>\n",
       "    </tr>\n",
       "    <tr>\n",
       "      <th>34445</th>\n",
       "      <td>ESP</td>\n",
       "      <td>59.0</td>\n",
       "      <td>794</td>\n",
       "      <td>138</td>\n",
       "      <td>1125.00</td>\n",
       "      <td>18.0</td>\n",
       "      <td>0</td>\n",
       "      <td>0</td>\n",
       "      <td>1</td>\n",
       "      <td>6</td>\n",
       "      <td>3</td>\n",
       "      <td>Travel Agent/Operator</td>\n",
       "      <td>0</td>\n",
       "      <td>0</td>\n",
       "      <td>0</td>\n",
       "      <td>0</td>\n",
       "      <td>0</td>\n",
       "      <td>0</td>\n",
       "      <td>0</td>\n",
       "      <td>1</td>\n",
       "      <td>1</td>\n",
       "      <td>0</td>\n",
       "      <td>0</td>\n",
       "      <td>0</td>\n",
       "      <td>0</td>\n",
       "      <td>1143.00</td>\n",
       "      <td>0</td>\n",
       "      <td>0</td>\n",
       "      <td>0</td>\n",
       "    </tr>\n",
       "    <tr>\n",
       "      <th>34377</th>\n",
       "      <td>MAR</td>\n",
       "      <td>23.0</td>\n",
       "      <td>795</td>\n",
       "      <td>7</td>\n",
       "      <td>1572.00</td>\n",
       "      <td>198.0</td>\n",
       "      <td>0</td>\n",
       "      <td>0</td>\n",
       "      <td>1</td>\n",
       "      <td>6</td>\n",
       "      <td>3</td>\n",
       "      <td>Travel Agent/Operator</td>\n",
       "      <td>0</td>\n",
       "      <td>0</td>\n",
       "      <td>0</td>\n",
       "      <td>0</td>\n",
       "      <td>0</td>\n",
       "      <td>0</td>\n",
       "      <td>0</td>\n",
       "      <td>1</td>\n",
       "      <td>1</td>\n",
       "      <td>0</td>\n",
       "      <td>0</td>\n",
       "      <td>0</td>\n",
       "      <td>0</td>\n",
       "      <td>1770.00</td>\n",
       "      <td>0</td>\n",
       "      <td>0</td>\n",
       "      <td>0</td>\n",
       "    </tr>\n",
       "    <tr>\n",
       "      <th>42093</th>\n",
       "      <td>NLD</td>\n",
       "      <td>34.0</td>\n",
       "      <td>679</td>\n",
       "      <td>28</td>\n",
       "      <td>600.00</td>\n",
       "      <td>56.0</td>\n",
       "      <td>0</td>\n",
       "      <td>0</td>\n",
       "      <td>2</td>\n",
       "      <td>7</td>\n",
       "      <td>5</td>\n",
       "      <td>Travel Agent/Operator</td>\n",
       "      <td>0</td>\n",
       "      <td>0</td>\n",
       "      <td>0</td>\n",
       "      <td>0</td>\n",
       "      <td>0</td>\n",
       "      <td>0</td>\n",
       "      <td>0</td>\n",
       "      <td>1</td>\n",
       "      <td>1</td>\n",
       "      <td>0</td>\n",
       "      <td>0</td>\n",
       "      <td>0</td>\n",
       "      <td>1</td>\n",
       "      <td>656.00</td>\n",
       "      <td>0</td>\n",
       "      <td>0</td>\n",
       "      <td>0</td>\n",
       "    </tr>\n",
       "    <tr>\n",
       "      <th>42698</th>\n",
       "      <td>DEU</td>\n",
       "      <td>28.0</td>\n",
       "      <td>660</td>\n",
       "      <td>54</td>\n",
       "      <td>683.55</td>\n",
       "      <td>102.5</td>\n",
       "      <td>0</td>\n",
       "      <td>0</td>\n",
       "      <td>1</td>\n",
       "      <td>14</td>\n",
       "      <td>7</td>\n",
       "      <td>Travel Agent/Operator</td>\n",
       "      <td>0</td>\n",
       "      <td>0</td>\n",
       "      <td>0</td>\n",
       "      <td>0</td>\n",
       "      <td>0</td>\n",
       "      <td>0</td>\n",
       "      <td>0</td>\n",
       "      <td>1</td>\n",
       "      <td>1</td>\n",
       "      <td>0</td>\n",
       "      <td>0</td>\n",
       "      <td>0</td>\n",
       "      <td>0</td>\n",
       "      <td>786.05</td>\n",
       "      <td>0</td>\n",
       "      <td>0</td>\n",
       "      <td>0</td>\n",
       "    </tr>\n",
       "    <tr>\n",
       "      <th>40220</th>\n",
       "      <td>HUN</td>\n",
       "      <td>38.0</td>\n",
       "      <td>713</td>\n",
       "      <td>79</td>\n",
       "      <td>285.30</td>\n",
       "      <td>119.0</td>\n",
       "      <td>0</td>\n",
       "      <td>0</td>\n",
       "      <td>1</td>\n",
       "      <td>6</td>\n",
       "      <td>3</td>\n",
       "      <td>Travel Agent/Operator</td>\n",
       "      <td>0</td>\n",
       "      <td>0</td>\n",
       "      <td>0</td>\n",
       "      <td>0</td>\n",
       "      <td>0</td>\n",
       "      <td>0</td>\n",
       "      <td>0</td>\n",
       "      <td>1</td>\n",
       "      <td>1</td>\n",
       "      <td>0</td>\n",
       "      <td>0</td>\n",
       "      <td>0</td>\n",
       "      <td>0</td>\n",
       "      <td>404.30</td>\n",
       "      <td>0</td>\n",
       "      <td>0</td>\n",
       "      <td>0</td>\n",
       "    </tr>\n",
       "    <tr>\n",
       "      <th>34507</th>\n",
       "      <td>DEU</td>\n",
       "      <td>51.0</td>\n",
       "      <td>793</td>\n",
       "      <td>87</td>\n",
       "      <td>444.00</td>\n",
       "      <td>42.0</td>\n",
       "      <td>0</td>\n",
       "      <td>0</td>\n",
       "      <td>1</td>\n",
       "      <td>6</td>\n",
       "      <td>3</td>\n",
       "      <td>Travel Agent/Operator</td>\n",
       "      <td>0</td>\n",
       "      <td>0</td>\n",
       "      <td>0</td>\n",
       "      <td>0</td>\n",
       "      <td>0</td>\n",
       "      <td>0</td>\n",
       "      <td>0</td>\n",
       "      <td>1</td>\n",
       "      <td>1</td>\n",
       "      <td>0</td>\n",
       "      <td>0</td>\n",
       "      <td>0</td>\n",
       "      <td>0</td>\n",
       "      <td>486.00</td>\n",
       "      <td>0</td>\n",
       "      <td>0</td>\n",
       "      <td>0</td>\n",
       "    </tr>\n",
       "    <tr>\n",
       "      <th>44977</th>\n",
       "      <td>ESP</td>\n",
       "      <td>51.0</td>\n",
       "      <td>621</td>\n",
       "      <td>16</td>\n",
       "      <td>218.00</td>\n",
       "      <td>21.0</td>\n",
       "      <td>0</td>\n",
       "      <td>0</td>\n",
       "      <td>1</td>\n",
       "      <td>4</td>\n",
       "      <td>2</td>\n",
       "      <td>Travel Agent/Operator</td>\n",
       "      <td>0</td>\n",
       "      <td>0</td>\n",
       "      <td>0</td>\n",
       "      <td>0</td>\n",
       "      <td>0</td>\n",
       "      <td>0</td>\n",
       "      <td>0</td>\n",
       "      <td>1</td>\n",
       "      <td>1</td>\n",
       "      <td>0</td>\n",
       "      <td>0</td>\n",
       "      <td>0</td>\n",
       "      <td>0</td>\n",
       "      <td>239.00</td>\n",
       "      <td>0</td>\n",
       "      <td>0</td>\n",
       "      <td>0</td>\n",
       "    </tr>\n",
       "  </tbody>\n",
       "</table>\n",
       "</div>"
      ],
      "text/plain": [
       "      Nationality   Age  DaysSinceCreation  AverageLeadTime  LodgingRevenue  \\\n",
       "ID                                                                            \n",
       "64653         AUT  64.0                453              171          282.00   \n",
       "43778         PRT  63.0                639                3         2811.80   \n",
       "64642         DEU  54.0                453              171          282.00   \n",
       "34445         ESP  59.0                794              138         1125.00   \n",
       "34377         MAR  23.0                795                7         1572.00   \n",
       "42093         NLD  34.0                679               28          600.00   \n",
       "42698         DEU  28.0                660               54          683.55   \n",
       "40220         HUN  38.0                713               79          285.30   \n",
       "34507         DEU  51.0                793               87          444.00   \n",
       "44977         ESP  51.0                621               16          218.00   \n",
       "\n",
       "       OtherRevenue  BookingsCanceled  BookingsNoShowed  BookingsCheckedIn  \\\n",
       "ID                                                                           \n",
       "64653          70.5                 0                 0                  1   \n",
       "43778          42.0                 0                 0                  1   \n",
       "64642          48.0                 0                 0                  1   \n",
       "34445          18.0                 0                 0                  1   \n",
       "34377         198.0                 0                 0                  1   \n",
       "42093          56.0                 0                 0                  2   \n",
       "42698         102.5                 0                 0                  1   \n",
       "40220         119.0                 0                 0                  1   \n",
       "34507          42.0                 0                 0                  1   \n",
       "44977          21.0                 0                 0                  1   \n",
       "\n",
       "       PersonsNights  RoomNights    DistributionChannel  SRHighFloor  \\\n",
       "ID                                                                     \n",
       "64653              4           2  Travel Agent/Operator            0   \n",
       "43778             16           8  Travel Agent/Operator            0   \n",
       "64642              4           2  Travel Agent/Operator            0   \n",
       "34445              6           3  Travel Agent/Operator            0   \n",
       "34377              6           3  Travel Agent/Operator            0   \n",
       "42093              7           5  Travel Agent/Operator            0   \n",
       "42698             14           7  Travel Agent/Operator            0   \n",
       "40220              6           3  Travel Agent/Operator            0   \n",
       "34507              6           3  Travel Agent/Operator            0   \n",
       "44977              4           2  Travel Agent/Operator            0   \n",
       "\n",
       "       SRLowFloor  SRAccessibleRoom  SRMediumFloor  SRBathtub  SRShower  \\\n",
       "ID                                                                        \n",
       "64653           0                 0              0          0         0   \n",
       "43778           0                 0              0          0         0   \n",
       "64642           0                 0              0          0         0   \n",
       "34445           0                 0              0          0         0   \n",
       "34377           0                 0              0          0         0   \n",
       "42093           0                 0              0          0         0   \n",
       "42698           0                 0              0          0         0   \n",
       "40220           0                 0              0          0         0   \n",
       "34507           0                 0              0          0         0   \n",
       "44977           0                 0              0          0         0   \n",
       "\n",
       "       SRCrib  SRKingSizeBed  SRTwinBed  SRNearElevator  SRAwayFromElevator  \\\n",
       "ID                                                                            \n",
       "64653       0              1          1               0                   0   \n",
       "43778       0              1          1               0                   0   \n",
       "64642       0              1          1               0                   0   \n",
       "34445       0              1          1               0                   0   \n",
       "34377       0              1          1               0                   0   \n",
       "42093       0              1          1               0                   0   \n",
       "42698       0              1          1               0                   0   \n",
       "40220       0              1          1               0                   0   \n",
       "34507       0              1          1               0                   0   \n",
       "44977       0              1          1               0                   0   \n",
       "\n",
       "       SRNoAlcoholInMiniBar  SRQuietRoom  TotalRevenue  SRFloor  SRBathroom  \\\n",
       "ID                                                                            \n",
       "64653                     0            0        352.50        0           0   \n",
       "43778                     0            0       2853.80        0           0   \n",
       "64642                     0            0        330.00        0           0   \n",
       "34445                     0            0       1143.00        0           0   \n",
       "34377                     0            0       1770.00        0           0   \n",
       "42093                     0            1        656.00        0           0   \n",
       "42698                     0            0        786.05        0           0   \n",
       "40220                     0            0        404.30        0           0   \n",
       "34507                     0            0        486.00        0           0   \n",
       "44977                     0            0        239.00        0           0   \n",
       "\n",
       "       SRElevator  \n",
       "ID                 \n",
       "64653           0  \n",
       "43778           0  \n",
       "64642           0  \n",
       "34445           0  \n",
       "34377           0  \n",
       "42093           0  \n",
       "42698           0  \n",
       "40220           0  \n",
       "34507           0  \n",
       "44977           0  "
      ]
     },
     "execution_count": 96,
     "metadata": {},
     "output_type": "execute_result"
    }
   ],
   "source": [
    "check1 = customers[(customers['SRKingSizeBed'] == 1) & (customers['SRTwinBed'] == 1)]\n",
    "check1.sample(10)"
   ]
  },
  {
   "cell_type": "markdown",
   "metadata": {},
   "source": [
    "Not sure what to do with this maybe create 3 category"
   ]
  },
  {
   "cell_type": "code",
   "execution_count": 97,
   "metadata": {},
   "outputs": [
    {
     "data": {
      "text/plain": [
       "Index(['Nationality', 'Age', 'DaysSinceCreation', 'AverageLeadTime',\n",
       "       'LodgingRevenue', 'OtherRevenue', 'BookingsCanceled',\n",
       "       'BookingsNoShowed', 'BookingsCheckedIn', 'PersonsNights', 'RoomNights',\n",
       "       'DistributionChannel', 'SRHighFloor', 'SRLowFloor', 'SRAccessibleRoom',\n",
       "       'SRMediumFloor', 'SRBathtub', 'SRShower', 'SRCrib', 'SRKingSizeBed',\n",
       "       'SRTwinBed', 'SRNearElevator', 'SRAwayFromElevator',\n",
       "       'SRNoAlcoholInMiniBar', 'SRQuietRoom', 'TotalRevenue', 'SRFloor',\n",
       "       'SRBathroom', 'SRElevator'],\n",
       "      dtype='object')"
      ]
     },
     "execution_count": 97,
     "metadata": {},
     "output_type": "execute_result"
    }
   ],
   "source": [
    "customers.columns"
   ]
  },
  {
   "cell_type": "markdown",
   "metadata": {},
   "source": []
  },
  {
   "cell_type": "markdown",
   "metadata": {},
   "source": [
    "#### No Alcohol in MiniBar"
   ]
  },
  {
   "cell_type": "code",
   "execution_count": 98,
   "metadata": {},
   "outputs": [
    {
     "data": {
      "text/plain": [
       "SRNoAlcoholInMiniBar\n",
       "0    55645\n",
       "1        9\n",
       "Name: count, dtype: int64"
      ]
     },
     "execution_count": 98,
     "metadata": {},
     "output_type": "execute_result"
    }
   ],
   "source": [
    "customers['SRNoAlcoholInMiniBar'].value_counts()"
   ]
  },
  {
   "cell_type": "code",
   "execution_count": 99,
   "metadata": {},
   "outputs": [
    {
     "data": {
      "image/png": "[encoded data removed]",
      "text/plain": [
       "<Figure size 1200x800 with 1 Axes>"
      ]
     },
     "metadata": {},
     "output_type": "display_data"
    },
    {
     "name": "stdout",
     "output_type": "stream",
     "text": [
      "99.98% of our costumers don't ask for no alcohol in the mini bar\n",
      "0.02% of our costumers ask for no Alcohol in Mini Bar\n"
     ]
    }
   ],
   "source": [
    "plt.figure(figsize=(12, 8))\n",
    "plt.hist(customers['SRNoAlcoholInMiniBar'], bins=[-0.5, 0.5, 1.5], color='blue', weights=[1 / len(customers['SRNoAlcoholInMiniBar'])] * len(customers['SRNoAlcoholInMiniBar']), edgecolor='black')\n",
    "plt.title('Alcohol in Mini Bar')\n",
    "plt.xlabel('Alcohol in Mini Bar')\n",
    "plt.ylabel('%')\n",
    "plt.xticks(range(2))\n",
    "plt.yticks([i/10 for i in range(11)])\n",
    "plt.xlim([-1, 2])\n",
    "plt.show()\n",
    "\n",
    "print(f\"{len(customers[customers[\"SRNoAlcoholInMiniBar\"]==0])/len(customers['SRNoAlcoholInMiniBar'])*100:.2f}% of our costumers don't ask for no alcohol in the mini bar\")\n",
    "print(f'{len(customers[customers[\"SRNoAlcoholInMiniBar\"]==1])/len(customers['SRNoAlcoholInMiniBar'])*100:.2f}% of our costumers ask for no Alcohol in Mini Bar')"
   ]
  },
  {
   "cell_type": "markdown",
   "metadata": {},
   "source": [
    "#### Quiet Room"
   ]
  },
  {
   "cell_type": "code",
   "execution_count": 100,
   "metadata": {},
   "outputs": [
    {
     "data": {
      "text/plain": [
       "SRQuietRoom\n",
       "0    50374\n",
       "1     5280\n",
       "Name: count, dtype: int64"
      ]
     },
     "execution_count": 100,
     "metadata": {},
     "output_type": "execute_result"
    }
   ],
   "source": [
    "customers['SRQuietRoom'].value_counts()"
   ]
  },
  {
   "cell_type": "code",
   "execution_count": 101,
   "metadata": {},
   "outputs": [
    {
     "data": {
      "image/png": "[encoded data removed]",
      "text/plain": [
       "<Figure size 1200x800 with 1 Axes>"
      ]
     },
     "metadata": {},
     "output_type": "display_data"
    },
    {
     "name": "stdout",
     "output_type": "stream",
     "text": [
      "90.51% of our costumers don't ask for a quieet room\n",
      "9.49% of our costumers ask for a quiet room\n"
     ]
    }
   ],
   "source": [
    "plt.figure(figsize=(12, 8))\n",
    "plt.hist(customers['SRQuietRoom'], bins=[-0.5, 0.5, 1.5], color='blue', weights=[1 / len(customers['SRQuietRoom'])] * len(customers['SRQuietRoom']), edgecolor='black')\n",
    "plt.title('Quiet Room')\n",
    "plt.xlabel('Quiet Room')\n",
    "plt.ylabel('%')\n",
    "plt.xticks(range(2))\n",
    "plt.yticks([i/10 for i in range(11)])\n",
    "plt.xlim([-1, 2])\n",
    "plt.show()\n",
    "\n",
    "print(f\"{len(customers[customers[\"SRQuietRoom\"]==0])/len(customers['SRQuietRoom'])*100:.2f}% of our costumers don't ask for a quieet room\")\n",
    "print(f'{len(customers[customers[\"SRQuietRoom\"]==1])/len(customers['SRQuietRoom'])*100:.2f}% of our costumers ask for a quiet room')"
   ]
  },
  {
   "cell_type": "markdown",
   "metadata": {},
   "source": [
    "# 2. Feature Engineering"
   ]
  },
  {
   "cell_type": "markdown",
   "metadata": {},
   "source": [
    "### 1.6.1 TotalSR"
   ]
  },
  {
   "cell_type": "code",
   "execution_count": 102,
   "metadata": {},
   "outputs": [
    {
     "data": {
      "text/html": [
       "<div>\n",
       "<style scoped>\n",
       "    .dataframe tbody tr th:only-of-type {\n",
       "        vertical-align: middle;\n",
       "    }\n",
       "\n",
       "    .dataframe tbody tr th {\n",
       "        vertical-align: top;\n",
       "    }\n",
       "\n",
       "    .dataframe thead th {\n",
       "        text-align: right;\n",
       "    }\n",
       "</style>\n",
       "<table border=\"1\" class=\"dataframe\">\n",
       "  <thead>\n",
       "    <tr style=\"text-align: right;\">\n",
       "      <th></th>\n",
       "      <th>Nationality</th>\n",
       "      <th>Age</th>\n",
       "      <th>DaysSinceCreation</th>\n",
       "      <th>AverageLeadTime</th>\n",
       "      <th>LodgingRevenue</th>\n",
       "      <th>OtherRevenue</th>\n",
       "      <th>BookingsCanceled</th>\n",
       "      <th>BookingsNoShowed</th>\n",
       "      <th>BookingsCheckedIn</th>\n",
       "      <th>PersonsNights</th>\n",
       "      <th>RoomNights</th>\n",
       "      <th>DistributionChannel</th>\n",
       "      <th>SRHighFloor</th>\n",
       "      <th>SRLowFloor</th>\n",
       "      <th>SRAccessibleRoom</th>\n",
       "      <th>SRMediumFloor</th>\n",
       "      <th>SRBathtub</th>\n",
       "      <th>SRShower</th>\n",
       "      <th>SRCrib</th>\n",
       "      <th>SRKingSizeBed</th>\n",
       "      <th>SRTwinBed</th>\n",
       "      <th>SRNearElevator</th>\n",
       "      <th>SRAwayFromElevator</th>\n",
       "      <th>SRNoAlcoholInMiniBar</th>\n",
       "      <th>SRQuietRoom</th>\n",
       "      <th>TotalRevenue</th>\n",
       "      <th>SRFloor</th>\n",
       "      <th>SRBathroom</th>\n",
       "      <th>SRElevator</th>\n",
       "    </tr>\n",
       "    <tr>\n",
       "      <th>ID</th>\n",
       "      <th></th>\n",
       "      <th></th>\n",
       "      <th></th>\n",
       "      <th></th>\n",
       "      <th></th>\n",
       "      <th></th>\n",
       "      <th></th>\n",
       "      <th></th>\n",
       "      <th></th>\n",
       "      <th></th>\n",
       "      <th></th>\n",
       "      <th></th>\n",
       "      <th></th>\n",
       "      <th></th>\n",
       "      <th></th>\n",
       "      <th></th>\n",
       "      <th></th>\n",
       "      <th></th>\n",
       "      <th></th>\n",
       "      <th></th>\n",
       "      <th></th>\n",
       "      <th></th>\n",
       "      <th></th>\n",
       "      <th></th>\n",
       "      <th></th>\n",
       "      <th></th>\n",
       "      <th></th>\n",
       "      <th></th>\n",
       "      <th></th>\n",
       "    </tr>\n",
       "  </thead>\n",
       "  <tbody>\n",
       "    <tr>\n",
       "      <th>1</th>\n",
       "      <td>PRT</td>\n",
       "      <td>52.0</td>\n",
       "      <td>440</td>\n",
       "      <td>59</td>\n",
       "      <td>292.0</td>\n",
       "      <td>82.3</td>\n",
       "      <td>1</td>\n",
       "      <td>0</td>\n",
       "      <td>2</td>\n",
       "      <td>6</td>\n",
       "      <td>4</td>\n",
       "      <td>Corporate</td>\n",
       "      <td>0</td>\n",
       "      <td>0</td>\n",
       "      <td>0</td>\n",
       "      <td>0</td>\n",
       "      <td>0</td>\n",
       "      <td>0</td>\n",
       "      <td>0</td>\n",
       "      <td>0</td>\n",
       "      <td>0</td>\n",
       "      <td>0</td>\n",
       "      <td>0</td>\n",
       "      <td>0</td>\n",
       "      <td>0</td>\n",
       "      <td>374.3</td>\n",
       "      <td>0</td>\n",
       "      <td>0</td>\n",
       "      <td>0</td>\n",
       "    </tr>\n",
       "    <tr>\n",
       "      <th>4</th>\n",
       "      <td>FRA</td>\n",
       "      <td>61.0</td>\n",
       "      <td>1385</td>\n",
       "      <td>93</td>\n",
       "      <td>240.0</td>\n",
       "      <td>60.0</td>\n",
       "      <td>0</td>\n",
       "      <td>0</td>\n",
       "      <td>1</td>\n",
       "      <td>10</td>\n",
       "      <td>5</td>\n",
       "      <td>Travel Agent/Operator</td>\n",
       "      <td>0</td>\n",
       "      <td>0</td>\n",
       "      <td>0</td>\n",
       "      <td>0</td>\n",
       "      <td>0</td>\n",
       "      <td>0</td>\n",
       "      <td>0</td>\n",
       "      <td>0</td>\n",
       "      <td>0</td>\n",
       "      <td>0</td>\n",
       "      <td>0</td>\n",
       "      <td>0</td>\n",
       "      <td>0</td>\n",
       "      <td>300.0</td>\n",
       "      <td>0</td>\n",
       "      <td>0</td>\n",
       "      <td>0</td>\n",
       "    </tr>\n",
       "    <tr>\n",
       "      <th>6</th>\n",
       "      <td>JPN</td>\n",
       "      <td>55.0</td>\n",
       "      <td>1385</td>\n",
       "      <td>58</td>\n",
       "      <td>230.0</td>\n",
       "      <td>24.0</td>\n",
       "      <td>0</td>\n",
       "      <td>0</td>\n",
       "      <td>1</td>\n",
       "      <td>4</td>\n",
       "      <td>2</td>\n",
       "      <td>Travel Agent/Operator</td>\n",
       "      <td>0</td>\n",
       "      <td>0</td>\n",
       "      <td>0</td>\n",
       "      <td>0</td>\n",
       "      <td>0</td>\n",
       "      <td>0</td>\n",
       "      <td>0</td>\n",
       "      <td>0</td>\n",
       "      <td>0</td>\n",
       "      <td>0</td>\n",
       "      <td>0</td>\n",
       "      <td>0</td>\n",
       "      <td>0</td>\n",
       "      <td>254.0</td>\n",
       "      <td>0</td>\n",
       "      <td>0</td>\n",
       "      <td>0</td>\n",
       "    </tr>\n",
       "    <tr>\n",
       "      <th>8</th>\n",
       "      <td>FRA</td>\n",
       "      <td>33.0</td>\n",
       "      <td>1385</td>\n",
       "      <td>38</td>\n",
       "      <td>535.0</td>\n",
       "      <td>94.0</td>\n",
       "      <td>0</td>\n",
       "      <td>0</td>\n",
       "      <td>1</td>\n",
       "      <td>10</td>\n",
       "      <td>5</td>\n",
       "      <td>Travel Agent/Operator</td>\n",
       "      <td>0</td>\n",
       "      <td>0</td>\n",
       "      <td>0</td>\n",
       "      <td>0</td>\n",
       "      <td>0</td>\n",
       "      <td>0</td>\n",
       "      <td>0</td>\n",
       "      <td>1</td>\n",
       "      <td>0</td>\n",
       "      <td>0</td>\n",
       "      <td>0</td>\n",
       "      <td>0</td>\n",
       "      <td>0</td>\n",
       "      <td>629.0</td>\n",
       "      <td>0</td>\n",
       "      <td>0</td>\n",
       "      <td>0</td>\n",
       "    </tr>\n",
       "    <tr>\n",
       "      <th>10</th>\n",
       "      <td>IRL</td>\n",
       "      <td>26.0</td>\n",
       "      <td>1385</td>\n",
       "      <td>96</td>\n",
       "      <td>174.0</td>\n",
       "      <td>69.0</td>\n",
       "      <td>0</td>\n",
       "      <td>0</td>\n",
       "      <td>1</td>\n",
       "      <td>6</td>\n",
       "      <td>3</td>\n",
       "      <td>Travel Agent/Operator</td>\n",
       "      <td>0</td>\n",
       "      <td>0</td>\n",
       "      <td>0</td>\n",
       "      <td>0</td>\n",
       "      <td>0</td>\n",
       "      <td>0</td>\n",
       "      <td>0</td>\n",
       "      <td>0</td>\n",
       "      <td>0</td>\n",
       "      <td>0</td>\n",
       "      <td>0</td>\n",
       "      <td>0</td>\n",
       "      <td>0</td>\n",
       "      <td>243.0</td>\n",
       "      <td>0</td>\n",
       "      <td>0</td>\n",
       "      <td>0</td>\n",
       "    </tr>\n",
       "  </tbody>\n",
       "</table>\n",
       "</div>"
      ],
      "text/plain": [
       "   Nationality   Age  DaysSinceCreation  AverageLeadTime  LodgingRevenue  \\\n",
       "ID                                                                         \n",
       "1          PRT  52.0                440               59           292.0   \n",
       "4          FRA  61.0               1385               93           240.0   \n",
       "6          JPN  55.0               1385               58           230.0   \n",
       "8          FRA  33.0               1385               38           535.0   \n",
       "10         IRL  26.0               1385               96           174.0   \n",
       "\n",
       "    OtherRevenue  BookingsCanceled  BookingsNoShowed  BookingsCheckedIn  \\\n",
       "ID                                                                        \n",
       "1           82.3                 1                 0                  2   \n",
       "4           60.0                 0                 0                  1   \n",
       "6           24.0                 0                 0                  1   \n",
       "8           94.0                 0                 0                  1   \n",
       "10          69.0                 0                 0                  1   \n",
       "\n",
       "    PersonsNights  RoomNights    DistributionChannel  SRHighFloor  SRLowFloor  \\\n",
       "ID                                                                              \n",
       "1               6           4              Corporate            0           0   \n",
       "4              10           5  Travel Agent/Operator            0           0   \n",
       "6               4           2  Travel Agent/Operator            0           0   \n",
       "8              10           5  Travel Agent/Operator            0           0   \n",
       "10              6           3  Travel Agent/Operator            0           0   \n",
       "\n",
       "    SRAccessibleRoom  SRMediumFloor  SRBathtub  SRShower  SRCrib  \\\n",
       "ID                                                                 \n",
       "1                  0              0          0         0       0   \n",
       "4                  0              0          0         0       0   \n",
       "6                  0              0          0         0       0   \n",
       "8                  0              0          0         0       0   \n",
       "10                 0              0          0         0       0   \n",
       "\n",
       "    SRKingSizeBed  SRTwinBed  SRNearElevator  SRAwayFromElevator  \\\n",
       "ID                                                                 \n",
       "1               0          0               0                   0   \n",
       "4               0          0               0                   0   \n",
       "6               0          0               0                   0   \n",
       "8               1          0               0                   0   \n",
       "10              0          0               0                   0   \n",
       "\n",
       "    SRNoAlcoholInMiniBar  SRQuietRoom  TotalRevenue  SRFloor  SRBathroom  \\\n",
       "ID                                                                         \n",
       "1                      0            0         374.3        0           0   \n",
       "4                      0            0         300.0        0           0   \n",
       "6                      0            0         254.0        0           0   \n",
       "8                      0            0         629.0        0           0   \n",
       "10                     0            0         243.0        0           0   \n",
       "\n",
       "    SRElevator  \n",
       "ID              \n",
       "1            0  \n",
       "4            0  \n",
       "6            0  \n",
       "8            0  \n",
       "10           0  "
      ]
     },
     "execution_count": 102,
     "metadata": {},
     "output_type": "execute_result"
    }
   ],
   "source": [
    "customers.head()"
   ]
  },
  {
   "cell_type": "code",
   "execution_count": 103,
   "metadata": {},
   "outputs": [
    {
     "data": {
      "text/plain": [
       "TotalSR\n",
       "1    27391\n",
       "0    21886\n",
       "2     5805\n",
       "3      535\n",
       "4       37\n",
       "Name: count, dtype: int64"
      ]
     },
     "execution_count": 103,
     "metadata": {},
     "output_type": "execute_result"
    }
   ],
   "source": [
    "# List of columns to exclude\n",
    "exclude_columns = ['SRFloor', 'SRBathroom', 'SRElevator']\n",
    "\n",
    "# Filter columns that start with 'SR' and are not in the exclude list\n",
    "sr_columns_to_sum = [col for col in customers.columns if col.startswith('SR') and col not in exclude_columns]\n",
    "\n",
    "# Create the TotalSR column by summing the filtered SR columns\n",
    "customers['TotalSR'] = customers[sr_columns_to_sum].sum(axis=1)\n",
    "\n",
    "customers['TotalSR'].value_counts()"
   ]
  },
  {
   "cell_type": "code",
   "execution_count": 104,
   "metadata": {},
   "outputs": [
    {
     "data": {
      "text/plain": [
       "count    55654.000000\n",
       "mean         0.732274\n",
       "std          0.685801\n",
       "min          0.000000\n",
       "25%          0.000000\n",
       "50%          1.000000\n",
       "75%          1.000000\n",
       "max          4.000000\n",
       "Name: TotalSR, dtype: float64"
      ]
     },
     "execution_count": 104,
     "metadata": {},
     "output_type": "execute_result"
    }
   ],
   "source": [
    "customers['TotalSR'].describe()"
   ]
  },
  {
   "cell_type": "code",
   "execution_count": 105,
   "metadata": {},
   "outputs": [
    {
     "data": {
      "image/png": "[encoded data removed]",
      "text/plain": [
       "<Figure size 1200x400 with 1 Axes>"
      ]
     },
     "metadata": {},
     "output_type": "display_data"
    }
   ],
   "source": [
    "# Make a bar plot of the TotalSR\n",
    "plt.figure(figsize=(12, 4))\n",
    "plt.hist(customers['TotalSR'], bins=np.arange(-0.5, 7.5, 1), color='green', edgecolor='black')\n",
    "plt.title('Total Special Requests')\n",
    "plt.xlabel('Total Special Requests')\n",
    "plt.ylabel('Frequency')\n",
    "plt.xticks(range(8))\n",
    "plt.show()"
   ]
  },
  {
   "cell_type": "markdown",
   "metadata": {},
   "source": [
    "### 1.6.2 CancelationRate"
   ]
  },
  {
   "cell_type": "code",
   "execution_count": 106,
   "metadata": {},
   "outputs": [
    {
     "data": {
      "text/plain": [
       "['BookingsCanceled', 'BookingsNoShowed', 'BookingsCheckedIn']"
      ]
     },
     "execution_count": 106,
     "metadata": {},
     "output_type": "execute_result"
    }
   ],
   "source": [
    "# get variables starting with Booking\n",
    "booking_columns = [col for col in customers.columns if col.startswith('Booking')]\n",
    "booking_columns"
   ]
  },
  {
   "cell_type": "code",
   "execution_count": 107,
   "metadata": {},
   "outputs": [],
   "source": [
    "# Create a new column called cancelation rate which is the ratio of bookings canceled to total bookings\n",
    "customers['CancelationRate'] = customers['BookingsCanceled'] / (customers['BookingsCanceled'] + customers['BookingsCheckedIn'] + customers['BookingsNoShowed'])"
   ]
  },
  {
   "cell_type": "code",
   "execution_count": 108,
   "metadata": {},
   "outputs": [
    {
     "data": {
      "text/plain": [
       "count    55654.000000\n",
       "mean         0.000163\n",
       "std          0.007926\n",
       "min          0.000000\n",
       "25%          0.000000\n",
       "50%          0.000000\n",
       "75%          0.000000\n",
       "max          0.500000\n",
       "Name: CancelationRate, dtype: float64"
      ]
     },
     "execution_count": 108,
     "metadata": {},
     "output_type": "execute_result"
    }
   ],
   "source": [
    "customers['CancelationRate'].describe()"
   ]
  },
  {
   "cell_type": "markdown",
   "metadata": {},
   "source": [
    "### 1.6.3 RevenuePerNight"
   ]
  },
  {
   "cell_type": "code",
   "execution_count": 109,
   "metadata": {},
   "outputs": [],
   "source": [
    "#CREATE VARIABLE REVENUE PER NIGHT\n",
    "customers['RevenuePerNight'] = (customers['LodgingRevenue'] + customers['OtherRevenue']) / customers['RoomNights']"
   ]
  },
  {
   "cell_type": "code",
   "execution_count": 110,
   "metadata": {},
   "outputs": [
    {
     "data": {
      "text/plain": [
       "count    55654.000000\n",
       "mean       162.823637\n",
       "std        101.356187\n",
       "min          0.666667\n",
       "25%        109.378333\n",
       "50%        137.866667\n",
       "75%        178.333333\n",
       "max       2386.132000\n",
       "Name: RevenuePerNight, dtype: float64"
      ]
     },
     "execution_count": 110,
     "metadata": {},
     "output_type": "execute_result"
    }
   ],
   "source": [
    "customers['RevenuePerNight'].describe()"
   ]
  },
  {
   "cell_type": "markdown",
   "metadata": {},
   "source": [
    "### 1.6.4 Location"
   ]
  },
  {
   "cell_type": "code",
   "execution_count": 111,
   "metadata": {},
   "outputs": [
    {
     "data": {
      "text/plain": [
       "Location\n",
       "Europe            15282\n",
       "FRA                9445\n",
       "RestOfTheWorld     9267\n",
       "DEU                7905\n",
       "GBR                6310\n",
       "PRT                4416\n",
       "ESP                3029\n",
       "Name: count, dtype: int64"
      ]
     },
     "execution_count": 111,
     "metadata": {},
     "output_type": "execute_result"
    }
   ],
   "source": [
    "#CREATE VARIABLE CONTINENT TO GROUP THE DIFFERENT NATIONALITIES, KEEPING THE MOST COMMON NATIONALITIES\n",
    "#GENERATED WITH CHATGPT\n",
    "\n",
    "excluded_countries = {'FRA', 'DEU', 'PRT', 'GBR', 'ESP'}\n",
    "\n",
    "def get_continent(alpha3_code):\n",
    "    try:\n",
    "        if alpha3_code in excluded_countries:\n",
    "            return alpha3_code\n",
    "        country = pc.country_alpha3_to_country_alpha2(alpha3_code)\n",
    "        continent_code = pc.country_alpha2_to_continent_code(country)\n",
    "        if continent_code == 'EU':\n",
    "            return 'Europe'\n",
    "        return 'RestOfTheWorld'\n",
    "    except KeyError:\n",
    "        return 'RestOfTheWorld'\n",
    "\n",
    "customers['Location'] = customers['Nationality'].apply(lambda x: get_continent(x))\n",
    "\n",
    "customers['Location'].value_counts()"
   ]
  },
  {
   "cell_type": "code",
   "execution_count": 112,
   "metadata": {},
   "outputs": [
    {
     "data": {
      "image/png": "[encoded data removed]",
      "text/plain": [
       "<Figure size 800x800 with 1 Axes>"
      ]
     },
     "metadata": {},
     "output_type": "display_data"
    }
   ],
   "source": [
    "\n",
    "#SEE THE DISTRIBUITION WITH A PIE CHART\n",
    "plt.figure(figsize=(8, 8))\n",
    "plt.pie(customers['Location'].value_counts(), labels=customers['Location'].value_counts().index, autopct='%1.1f%%', startangle=140)\n",
    "plt.title('Location Distribution')\n",
    "plt.show()"
   ]
  },
  {
   "cell_type": "code",
   "execution_count": 113,
   "metadata": {},
   "outputs": [
    {
     "data": {
      "image/png": "[encoded data removed]",
      "text/plain": [
       "<Figure size 640x480 with 1 Axes>"
      ]
     },
     "metadata": {},
     "output_type": "display_data"
    }
   ],
   "source": [
    "#SEE THE DISTRIBUTION OF THE VARIABLE\n",
    "plt.hist(customers['Location'], bins=30, edgecolor='black')\n",
    "plt.title('Distribution of Location')\n",
    "plt.xlabel('Location')\n",
    "plt.ylabel('Frequency')\n",
    "plt.show()"
   ]
  },
  {
   "cell_type": "code",
   "execution_count": 123,
   "metadata": {},
   "outputs": [
    {
     "name": "stdout",
     "output_type": "stream",
     "text": [
      "Q4 for Age: 59.0\n",
      "Q3 for Age: 49.0\n",
      "Q2 for Age: 37.0\n",
      "Q1 for Age: 18.0\n"
     ]
    }
   ],
   "source": [
    "# Create a variable called Age_Group based on quartiles\n",
    "customers['Age_Group'] = pd.qcut(customers['Age'], q=4, labels=['Q1', 'Q2', 'Q3', 'Q4'])\n",
    "\n",
    "#get Q1,Q2,Q3,Q4 FOR AGE\n",
    "customers['Age_Group'].value_counts()\n",
    "\n",
    "# print Q4 for age\n",
    "print(f\"Q4 for Age: {customers['Age'].quantile(0.75)}\")\n",
    "print(f\"Q3 for Age: {customers['Age'].quantile(0.5)}\")\n",
    "print(f\"Q2 for Age: {customers['Age'].quantile(0.25)}\")\n",
    "print(f\"Q1 for Age: {customers['Age'].min()}\")\n"
   ]
  },
  {
   "cell_type": "code",
   "execution_count": 126,
   "metadata": {},
   "outputs": [
    {
     "data": {
      "text/html": [
       "<div>\n",
       "<style scoped>\n",
       "    .dataframe tbody tr th:only-of-type {\n",
       "        vertical-align: middle;\n",
       "    }\n",
       "\n",
       "    .dataframe tbody tr th {\n",
       "        vertical-align: top;\n",
       "    }\n",
       "\n",
       "    .dataframe thead th {\n",
       "        text-align: right;\n",
       "    }\n",
       "</style>\n",
       "<table border=\"1\" class=\"dataframe\">\n",
       "  <thead>\n",
       "    <tr style=\"text-align: right;\">\n",
       "      <th></th>\n",
       "      <th>Age</th>\n",
       "      <th>Age_Group</th>\n",
       "    </tr>\n",
       "    <tr>\n",
       "      <th>ID</th>\n",
       "      <th></th>\n",
       "      <th></th>\n",
       "    </tr>\n",
       "  </thead>\n",
       "  <tbody>\n",
       "    <tr>\n",
       "      <th>56288</th>\n",
       "      <td>41.0</td>\n",
       "      <td>Q2</td>\n",
       "    </tr>\n",
       "    <tr>\n",
       "      <th>38316</th>\n",
       "      <td>78.0</td>\n",
       "      <td>Q4</td>\n",
       "    </tr>\n",
       "    <tr>\n",
       "      <th>46955</th>\n",
       "      <td>49.0</td>\n",
       "      <td>Q2</td>\n",
       "    </tr>\n",
       "    <tr>\n",
       "      <th>19436</th>\n",
       "      <td>31.0</td>\n",
       "      <td>Q1</td>\n",
       "    </tr>\n",
       "    <tr>\n",
       "      <th>110676</th>\n",
       "      <td>35.0</td>\n",
       "      <td>Q1</td>\n",
       "    </tr>\n",
       "  </tbody>\n",
       "</table>\n",
       "</div>"
      ],
      "text/plain": [
       "         Age Age_Group\n",
       "ID                    \n",
       "56288   41.0        Q2\n",
       "38316   78.0        Q4\n",
       "46955   49.0        Q2\n",
       "19436   31.0        Q1\n",
       "110676  35.0        Q1"
      ]
     },
     "execution_count": 126,
     "metadata": {},
     "output_type": "execute_result"
    }
   ],
   "source": [
    "customers[['Age', 'Age_Group']].sample(5)"
   ]
  },
  {
   "cell_type": "code",
   "execution_count": 132,
   "metadata": {},
   "outputs": [],
   "source": [
    "# Make a copy of the dataset before one-hot-encoding\n",
    "X = customers.copy()"
   ]
  },
  {
   "cell_type": "code",
   "execution_count": 133,
   "metadata": {},
   "outputs": [],
   "source": [
    "# One-hot-encode Age_Group, Location and Distribution Channel\n",
    "X = pd.get_dummies(X, columns=['Age_Group', 'Location', 'DistributionChannel'])\n"
   ]
  },
  {
   "cell_type": "code",
   "execution_count": 134,
   "metadata": {},
   "outputs": [
    {
     "data": {
      "text/plain": [
       "Index(['Nationality', 'Age', 'DaysSinceCreation', 'AverageLeadTime',\n",
       "       'LodgingRevenue', 'OtherRevenue', 'BookingsCanceled',\n",
       "       'BookingsNoShowed', 'BookingsCheckedIn', 'PersonsNights', 'RoomNights',\n",
       "       'SRHighFloor', 'SRLowFloor', 'SRAccessibleRoom', 'SRMediumFloor',\n",
       "       'SRBathtub', 'SRShower', 'SRCrib', 'SRKingSizeBed', 'SRTwinBed',\n",
       "       'SRNearElevator', 'SRAwayFromElevator', 'SRNoAlcoholInMiniBar',\n",
       "       'SRQuietRoom', 'TotalRevenue', 'SRFloor', 'SRBathroom', 'SRElevator',\n",
       "       'TotalSR', 'CancelationRate', 'RevenuePerNight', 'Age_Group_Q1',\n",
       "       'Age_Group_Q2', 'Age_Group_Q3', 'Age_Group_Q4', 'Location_DEU',\n",
       "       'Location_ESP', 'Location_Europe', 'Location_FRA', 'Location_GBR',\n",
       "       'Location_PRT', 'Location_RestOfTheWorld',\n",
       "       'DistributionChannel_Corporate', 'DistributionChannel_Direct',\n",
       "       'DistributionChannel_GDS Systems',\n",
       "       'DistributionChannel_Travel Agent/Operator'],\n",
       "      dtype='object')"
      ]
     },
     "execution_count": 134,
     "metadata": {},
     "output_type": "execute_result"
    }
   ],
   "source": [
    "X.columns"
   ]
  },
  {
   "cell_type": "code",
   "execution_count": 135,
   "metadata": {},
   "outputs": [],
   "source": [
    "# Drop the columns that are not needed for clustering\n",
    "X = X[['DaysSinceCreation', 'AverageLeadTime', 'RevenuePerNight', 'Location_DEU',\n",
    "       'Location_ESP', 'Location_Europe', 'Location_FRA', 'Location_GBR',\n",
    "       'Location_PRT', 'Location_RestOfTheWorld','DistributionChannel_Corporate', 'DistributionChannel_Direct',\n",
    "       'DistributionChannel_GDS Systems',\n",
    "       'DistributionChannel_Travel Agent/Operator']]"
   ]
  },
  {
   "cell_type": "code",
   "execution_count": 139,
   "metadata": {},
   "outputs": [
    {
     "name": "stdout",
     "output_type": "stream",
     "text": [
      "<class 'pandas.core.frame.DataFrame'>\n",
      "Index: 55654 entries, 1 to 111732\n",
      "Data columns (total 14 columns):\n",
      " #   Column                                     Non-Null Count  Dtype  \n",
      "---  ------                                     --------------  -----  \n",
      " 0   DaysSinceCreation                          55654 non-null  int64  \n",
      " 1   AverageLeadTime                            55654 non-null  int64  \n",
      " 2   RevenuePerNight                            55654 non-null  float64\n",
      " 3   Location_DEU                               55654 non-null  bool   \n",
      " 4   Location_ESP                               55654 non-null  bool   \n",
      " 5   Location_Europe                            55654 non-null  bool   \n",
      " 6   Location_FRA                               55654 non-null  bool   \n",
      " 7   Location_GBR                               55654 non-null  bool   \n",
      " 8   Location_PRT                               55654 non-null  bool   \n",
      " 9   Location_RestOfTheWorld                    55654 non-null  bool   \n",
      " 10  DistributionChannel_Corporate              55654 non-null  bool   \n",
      " 11  DistributionChannel_Direct                 55654 non-null  bool   \n",
      " 12  DistributionChannel_GDS Systems            55654 non-null  bool   \n",
      " 13  DistributionChannel_Travel Agent/Operator  55654 non-null  bool   \n",
      "dtypes: bool(11), float64(1), int64(2)\n",
      "memory usage: 2.3 MB\n"
     ]
    }
   ],
   "source": [
    "X.info()"
   ]
  },
  {
   "cell_type": "markdown",
   "metadata": {},
   "source": [
    "# 3. Clustering"
   ]
  },
  {
   "cell_type": "markdown",
   "metadata": {},
   "source": [
    "Variables to consider for clustering:\n",
    "\n",
    "- DaysSinceCreation (Customer loyalty) float64\n",
    "- AverageLeadTime (Behaviour-type of traveller) float64\n",
    "- RevenuePerNight (Customer value) float64\n",
    "- Location (OneHotEncode) 6 variables total\n",
    "- DistributionChannel (OneHotEncode) 4 variables total\n",
    "- Age_Group (we can bin them for q1,q2,q3,q4, and one-hot-encode based on the bins) 4 variables total\n"
   ]
  },
  {
   "cell_type": "code",
   "execution_count": 141,
   "metadata": {},
   "outputs": [],
   "source": [
    "# Apply MinMaxScaler to the dataset\n",
    "\n",
    "\n",
    "scaler = MinMaxScaler()\n",
    "X_scaled = scaler.fit_transform(X)"
   ]
  },
  {
   "cell_type": "code",
   "execution_count": 142,
   "metadata": {},
   "outputs": [],
   "source": [
    "X_scaled = pd.DataFrame(X_scaled, columns=X.columns)"
   ]
  },
  {
   "cell_type": "code",
   "execution_count": 148,
   "metadata": {},
   "outputs": [
    {
     "data": {
      "text/html": [
       "<div>\n",
       "<style scoped>\n",
       "    .dataframe tbody tr th:only-of-type {\n",
       "        vertical-align: middle;\n",
       "    }\n",
       "\n",
       "    .dataframe tbody tr th {\n",
       "        vertical-align: top;\n",
       "    }\n",
       "\n",
       "    .dataframe thead th {\n",
       "        text-align: right;\n",
       "    }\n",
       "</style>\n",
       "<table border=\"1\" class=\"dataframe\">\n",
       "  <thead>\n",
       "    <tr style=\"text-align: right;\">\n",
       "      <th></th>\n",
       "      <th>count</th>\n",
       "      <th>mean</th>\n",
       "      <th>std</th>\n",
       "      <th>min</th>\n",
       "      <th>25%</th>\n",
       "      <th>50%</th>\n",
       "      <th>75%</th>\n",
       "      <th>max</th>\n",
       "    </tr>\n",
       "  </thead>\n",
       "  <tbody>\n",
       "    <tr>\n",
       "      <th>DaysSinceCreation</th>\n",
       "      <td>55654.0</td>\n",
       "      <td>0.490546</td>\n",
       "      <td>0.278578</td>\n",
       "      <td>0.0</td>\n",
       "      <td>0.263158</td>\n",
       "      <td>0.514455</td>\n",
       "      <td>0.730170</td>\n",
       "      <td>1.0</td>\n",
       "    </tr>\n",
       "    <tr>\n",
       "      <th>AverageLeadTime</th>\n",
       "      <td>55654.0</td>\n",
       "      <td>0.166860</td>\n",
       "      <td>0.155055</td>\n",
       "      <td>0.0</td>\n",
       "      <td>0.045840</td>\n",
       "      <td>0.122241</td>\n",
       "      <td>0.249576</td>\n",
       "      <td>1.0</td>\n",
       "    </tr>\n",
       "    <tr>\n",
       "      <th>RevenuePerNight</th>\n",
       "      <td>55654.0</td>\n",
       "      <td>0.067977</td>\n",
       "      <td>0.042489</td>\n",
       "      <td>0.0</td>\n",
       "      <td>0.045573</td>\n",
       "      <td>0.057515</td>\n",
       "      <td>0.074479</td>\n",
       "      <td>1.0</td>\n",
       "    </tr>\n",
       "    <tr>\n",
       "      <th>Location_DEU</th>\n",
       "      <td>55654.0</td>\n",
       "      <td>0.142038</td>\n",
       "      <td>0.349093</td>\n",
       "      <td>0.0</td>\n",
       "      <td>0.000000</td>\n",
       "      <td>0.000000</td>\n",
       "      <td>0.000000</td>\n",
       "      <td>1.0</td>\n",
       "    </tr>\n",
       "    <tr>\n",
       "      <th>Location_ESP</th>\n",
       "      <td>55654.0</td>\n",
       "      <td>0.054426</td>\n",
       "      <td>0.226858</td>\n",
       "      <td>0.0</td>\n",
       "      <td>0.000000</td>\n",
       "      <td>0.000000</td>\n",
       "      <td>0.000000</td>\n",
       "      <td>1.0</td>\n",
       "    </tr>\n",
       "    <tr>\n",
       "      <th>Location_Europe</th>\n",
       "      <td>55654.0</td>\n",
       "      <td>0.274589</td>\n",
       "      <td>0.446311</td>\n",
       "      <td>0.0</td>\n",
       "      <td>0.000000</td>\n",
       "      <td>0.000000</td>\n",
       "      <td>1.000000</td>\n",
       "      <td>1.0</td>\n",
       "    </tr>\n",
       "    <tr>\n",
       "      <th>Location_FRA</th>\n",
       "      <td>55654.0</td>\n",
       "      <td>0.169709</td>\n",
       "      <td>0.375381</td>\n",
       "      <td>0.0</td>\n",
       "      <td>0.000000</td>\n",
       "      <td>0.000000</td>\n",
       "      <td>0.000000</td>\n",
       "      <td>1.0</td>\n",
       "    </tr>\n",
       "    <tr>\n",
       "      <th>Location_GBR</th>\n",
       "      <td>55654.0</td>\n",
       "      <td>0.113379</td>\n",
       "      <td>0.317058</td>\n",
       "      <td>0.0</td>\n",
       "      <td>0.000000</td>\n",
       "      <td>0.000000</td>\n",
       "      <td>0.000000</td>\n",
       "      <td>1.0</td>\n",
       "    </tr>\n",
       "    <tr>\n",
       "      <th>Location_PRT</th>\n",
       "      <td>55654.0</td>\n",
       "      <td>0.079347</td>\n",
       "      <td>0.270283</td>\n",
       "      <td>0.0</td>\n",
       "      <td>0.000000</td>\n",
       "      <td>0.000000</td>\n",
       "      <td>0.000000</td>\n",
       "      <td>1.0</td>\n",
       "    </tr>\n",
       "    <tr>\n",
       "      <th>Location_RestOfTheWorld</th>\n",
       "      <td>55654.0</td>\n",
       "      <td>0.166511</td>\n",
       "      <td>0.372542</td>\n",
       "      <td>0.0</td>\n",
       "      <td>0.000000</td>\n",
       "      <td>0.000000</td>\n",
       "      <td>0.000000</td>\n",
       "      <td>1.0</td>\n",
       "    </tr>\n",
       "    <tr>\n",
       "      <th>DistributionChannel_Corporate</th>\n",
       "      <td>55654.0</td>\n",
       "      <td>0.009092</td>\n",
       "      <td>0.094918</td>\n",
       "      <td>0.0</td>\n",
       "      <td>0.000000</td>\n",
       "      <td>0.000000</td>\n",
       "      <td>0.000000</td>\n",
       "      <td>1.0</td>\n",
       "    </tr>\n",
       "    <tr>\n",
       "      <th>DistributionChannel_Direct</th>\n",
       "      <td>55654.0</td>\n",
       "      <td>0.131419</td>\n",
       "      <td>0.337861</td>\n",
       "      <td>0.0</td>\n",
       "      <td>0.000000</td>\n",
       "      <td>0.000000</td>\n",
       "      <td>0.000000</td>\n",
       "      <td>1.0</td>\n",
       "    </tr>\n",
       "    <tr>\n",
       "      <th>DistributionChannel_GDS Systems</th>\n",
       "      <td>55654.0</td>\n",
       "      <td>0.000827</td>\n",
       "      <td>0.028738</td>\n",
       "      <td>0.0</td>\n",
       "      <td>0.000000</td>\n",
       "      <td>0.000000</td>\n",
       "      <td>0.000000</td>\n",
       "      <td>1.0</td>\n",
       "    </tr>\n",
       "    <tr>\n",
       "      <th>DistributionChannel_Travel Agent/Operator</th>\n",
       "      <td>55654.0</td>\n",
       "      <td>0.858662</td>\n",
       "      <td>0.348373</td>\n",
       "      <td>0.0</td>\n",
       "      <td>1.000000</td>\n",
       "      <td>1.000000</td>\n",
       "      <td>1.000000</td>\n",
       "      <td>1.0</td>\n",
       "    </tr>\n",
       "  </tbody>\n",
       "</table>\n",
       "</div>"
      ],
      "text/plain": [
       "                                             count      mean       std  min  \\\n",
       "DaysSinceCreation                          55654.0  0.490546  0.278578  0.0   \n",
       "AverageLeadTime                            55654.0  0.166860  0.155055  0.0   \n",
       "RevenuePerNight                            55654.0  0.067977  0.042489  0.0   \n",
       "Location_DEU                               55654.0  0.142038  0.349093  0.0   \n",
       "Location_ESP                               55654.0  0.054426  0.226858  0.0   \n",
       "Location_Europe                            55654.0  0.274589  0.446311  0.0   \n",
       "Location_FRA                               55654.0  0.169709  0.375381  0.0   \n",
       "Location_GBR                               55654.0  0.113379  0.317058  0.0   \n",
       "Location_PRT                               55654.0  0.079347  0.270283  0.0   \n",
       "Location_RestOfTheWorld                    55654.0  0.166511  0.372542  0.0   \n",
       "DistributionChannel_Corporate              55654.0  0.009092  0.094918  0.0   \n",
       "DistributionChannel_Direct                 55654.0  0.131419  0.337861  0.0   \n",
       "DistributionChannel_GDS Systems            55654.0  0.000827  0.028738  0.0   \n",
       "DistributionChannel_Travel Agent/Operator  55654.0  0.858662  0.348373  0.0   \n",
       "\n",
       "                                                25%       50%       75%  max  \n",
       "DaysSinceCreation                          0.263158  0.514455  0.730170  1.0  \n",
       "AverageLeadTime                            0.045840  0.122241  0.249576  1.0  \n",
       "RevenuePerNight                            0.045573  0.057515  0.074479  1.0  \n",
       "Location_DEU                               0.000000  0.000000  0.000000  1.0  \n",
       "Location_ESP                               0.000000  0.000000  0.000000  1.0  \n",
       "Location_Europe                            0.000000  0.000000  1.000000  1.0  \n",
       "Location_FRA                               0.000000  0.000000  0.000000  1.0  \n",
       "Location_GBR                               0.000000  0.000000  0.000000  1.0  \n",
       "Location_PRT                               0.000000  0.000000  0.000000  1.0  \n",
       "Location_RestOfTheWorld                    0.000000  0.000000  0.000000  1.0  \n",
       "DistributionChannel_Corporate              0.000000  0.000000  0.000000  1.0  \n",
       "DistributionChannel_Direct                 0.000000  0.000000  0.000000  1.0  \n",
       "DistributionChannel_GDS Systems            0.000000  0.000000  0.000000  1.0  \n",
       "DistributionChannel_Travel Agent/Operator  1.000000  1.000000  1.000000  1.0  "
      ]
     },
     "execution_count": 148,
     "metadata": {},
     "output_type": "execute_result"
    }
   ],
   "source": [
    "# Verify the min and max values of the scaled dataset\n",
    "X_scaled.describe().T"
   ]
  },
  {
   "cell_type": "code",
   "execution_count": 149,
   "metadata": {},
   "outputs": [],
   "source": [
    "# Y will be the scaled dataset\n",
    "Y = X_scaled.copy()"
   ]
  },
  {
   "cell_type": "code",
   "execution_count": 153,
   "metadata": {},
   "outputs": [
    {
     "name": "stdout",
     "output_type": "stream",
     "text": [
      "The explained variance ratio is [0.20415029 0.19970489]\n"
     ]
    }
   ],
   "source": [
    "#APPLY THE PCA TO THE Y DATAFRAME WITH 2 COMPONENTS\n",
    "pca = PCA(n_components=2)\n",
    "principal_components = pca.fit_transform(Y)\n",
    "\n",
    "# Create a DataFrame with the principal components\n",
    "pca_df = pd.DataFrame(data=principal_components, columns=['PC1', 'PC2'])\n",
    "\n",
    "# Display the explained variance ratio\n",
    "explained_variance_ratio = pca.explained_variance_ratio_\n",
    "print(f'The explained variance ratio is {explained_variance_ratio}')"
   ]
  },
  {
   "cell_type": "code",
   "execution_count": 154,
   "metadata": {},
   "outputs": [
    {
     "data": {
      "text/html": [
       "<div>\n",
       "<style scoped>\n",
       "    .dataframe tbody tr th:only-of-type {\n",
       "        vertical-align: middle;\n",
       "    }\n",
       "\n",
       "    .dataframe tbody tr th {\n",
       "        vertical-align: top;\n",
       "    }\n",
       "\n",
       "    .dataframe thead th {\n",
       "        text-align: right;\n",
       "    }\n",
       "</style>\n",
       "<table border=\"1\" class=\"dataframe\">\n",
       "  <thead>\n",
       "    <tr style=\"text-align: right;\">\n",
       "      <th></th>\n",
       "      <th>Component</th>\n",
       "      <th>Variance explained</th>\n",
       "      <th>Cumulative variance explained</th>\n",
       "    </tr>\n",
       "  </thead>\n",
       "  <tbody>\n",
       "    <tr>\n",
       "      <th>0</th>\n",
       "      <td>1</td>\n",
       "      <td>0.204150</td>\n",
       "      <td>0.204150</td>\n",
       "    </tr>\n",
       "    <tr>\n",
       "      <th>1</th>\n",
       "      <td>2</td>\n",
       "      <td>0.199705</td>\n",
       "      <td>0.403855</td>\n",
       "    </tr>\n",
       "    <tr>\n",
       "      <th>2</th>\n",
       "      <td>3</td>\n",
       "      <td>0.144035</td>\n",
       "      <td>0.547891</td>\n",
       "    </tr>\n",
       "    <tr>\n",
       "      <th>3</th>\n",
       "      <td>4</td>\n",
       "      <td>0.128590</td>\n",
       "      <td>0.676481</td>\n",
       "    </tr>\n",
       "    <tr>\n",
       "      <th>4</th>\n",
       "      <td>5</td>\n",
       "      <td>0.103544</td>\n",
       "      <td>0.780024</td>\n",
       "    </tr>\n",
       "    <tr>\n",
       "      <th>5</th>\n",
       "      <td>6</td>\n",
       "      <td>0.076789</td>\n",
       "      <td>0.856813</td>\n",
       "    </tr>\n",
       "    <tr>\n",
       "      <th>6</th>\n",
       "      <td>7</td>\n",
       "      <td>0.061241</td>\n",
       "      <td>0.918054</td>\n",
       "    </tr>\n",
       "    <tr>\n",
       "      <th>7</th>\n",
       "      <td>8</td>\n",
       "      <td>0.050046</td>\n",
       "      <td>0.968100</td>\n",
       "    </tr>\n",
       "    <tr>\n",
       "      <th>8</th>\n",
       "      <td>9</td>\n",
       "      <td>0.018151</td>\n",
       "      <td>0.986251</td>\n",
       "    </tr>\n",
       "    <tr>\n",
       "      <th>9</th>\n",
       "      <td>10</td>\n",
       "      <td>0.011330</td>\n",
       "      <td>0.997581</td>\n",
       "    </tr>\n",
       "    <tr>\n",
       "      <th>10</th>\n",
       "      <td>11</td>\n",
       "      <td>0.001493</td>\n",
       "      <td>0.999074</td>\n",
       "    </tr>\n",
       "    <tr>\n",
       "      <th>11</th>\n",
       "      <td>12</td>\n",
       "      <td>0.000926</td>\n",
       "      <td>1.000000</td>\n",
       "    </tr>\n",
       "    <tr>\n",
       "      <th>12</th>\n",
       "      <td>13</td>\n",
       "      <td>0.000000</td>\n",
       "      <td>1.000000</td>\n",
       "    </tr>\n",
       "    <tr>\n",
       "      <th>13</th>\n",
       "      <td>14</td>\n",
       "      <td>0.000000</td>\n",
       "      <td>1.000000</td>\n",
       "    </tr>\n",
       "  </tbody>\n",
       "</table>\n",
       "</div>"
      ],
      "text/plain": [
       "    Component Variance explained  Cumulative variance explained\n",
       "0           1           0.204150                       0.204150\n",
       "1           2           0.199705                       0.403855\n",
       "2           3           0.144035                       0.547891\n",
       "3           4           0.128590                       0.676481\n",
       "4           5           0.103544                       0.780024\n",
       "5           6           0.076789                       0.856813\n",
       "6           7           0.061241                       0.918054\n",
       "7           8           0.050046                       0.968100\n",
       "8           9           0.018151                       0.986251\n",
       "9          10           0.011330                       0.997581\n",
       "10         11           0.001493                       0.999074\n",
       "11         12           0.000926                       1.000000\n",
       "12         13           0.000000                       1.000000\n",
       "13         14           0.000000                       1.000000"
      ]
     },
     "execution_count": 154,
     "metadata": {},
     "output_type": "execute_result"
    }
   ],
   "source": [
    "# Fit the PCA algorithm to data \n",
    "pca = PCA().fit(Y)\n",
    "\n",
    "# Show the variance per component\n",
    "pcaevr = ['{:f}'.format(item) for item in pca.explained_variance_ratio_]\n",
    "pcaDF = pd.DataFrame({'Component': range(1, len(X_scaled.columns)+1),\n",
    "                      'Variance explained': pcaevr,\n",
    "                      'Cumulative variance explained': np.cumsum(pca.explained_variance_ratio_)})\n",
    "pcaDF"
   ]
  },
  {
   "cell_type": "code",
   "execution_count": 156,
   "metadata": {},
   "outputs": [
    {
     "data": {
      "text/plain": [
       "Text(0.5, 1.0, 'Explained variance by components')"
      ]
     },
     "execution_count": 156,
     "metadata": {},
     "output_type": "execute_result"
    },
    {
     "data": {
      "image/png": "[encoded data removed]",
      "text/plain": [
       "<Figure size 500x400 with 1 Axes>"
      ]
     },
     "metadata": {},
     "output_type": "display_data"
    }
   ],
   "source": [
    "#Draw\n",
    "fig , ax = plt.subplots(figsize=(5, 4))\n",
    "plt.plot(np.cumsum(pca.explained_variance_ratio_))\n",
    "\n",
    "# Decoration\n",
    "sns.despine()\n",
    "plt.xlabel('Number of components/dimensions')\n",
    "plt.ylabel('Variance explained')\n",
    "plt.rc('axes')\n",
    "plt.title('Explained variance by components')"
   ]
  },
  {
   "cell_type": "markdown",
   "metadata": {},
   "source": [
    "7 components explain most of the variance in the dataset"
   ]
  },
  {
   "cell_type": "markdown",
   "metadata": {},
   "source": []
  },
  {
   "cell_type": "code",
   "execution_count": 166,
   "metadata": {},
   "outputs": [
    {
     "name": "stdout",
     "output_type": "stream",
     "text": [
      "(55654, 7)\n"
     ]
    }
   ],
   "source": [
    "#APPLY THE ELBOW METHOD TO SEE THE OPTIMAL NUMBER OF CLUSTERS FOR PCA WITH 7 COMPONENTS\n",
    "pca_reduced = PCA(n_components = 7)\n",
    "pca_reduced.fit(Y)\n",
    "X_pca_reduced = pca_reduced.transform(Y) \n",
    "print(X_pca_reduced.shape)"
   ]
  },
  {
   "cell_type": "code",
   "execution_count": 167,
   "metadata": {},
   "outputs": [
    {
     "data": {
      "image/png": "[encoded data removed]",
      "text/plain": [
       "<Figure size 1000x600 with 1 Axes>"
      ]
     },
     "metadata": {},
     "output_type": "display_data"
    }
   ],
   "source": [
    "# Apply the elbow method to select K\n",
    "\n",
    "# Create a list to store the inertia values\n",
    "inertia = []\n",
    "\n",
    "# Create a range of K values to test\n",
    "k_values = range(1, 11)\n",
    "\n",
    "# Fit the KMeans algorithm to the data for each value of K\n",
    "for k in k_values:\n",
    "    kmeans = KMeans(n_clusters=k, random_state=1)\n",
    "    kmeans.fit(X_pca_reduced)\n",
    "    inertia.append(kmeans.inertia_)\n",
    "\n",
    "# Plot the inertia values\n",
    "plt.figure(figsize=(10, 6))\n",
    "plt.plot(k_values, inertia, marker='o', color='blue')\n",
    "plt.title('Elbow Method')\n",
    "plt.xlabel('Number of Clusters')\n",
    "plt.ylabel('Inertia')\n",
    "plt.xticks(k_values)\n",
    "plt.grid(True)\n",
    "plt.show()"
   ]
  },
  {
   "cell_type": "code",
   "execution_count": 168,
   "metadata": {},
   "outputs": [
    {
     "data": {
      "text/html": [
       "<div>\n",
       "<style scoped>\n",
       "    .dataframe tbody tr th:only-of-type {\n",
       "        vertical-align: middle;\n",
       "    }\n",
       "\n",
       "    .dataframe tbody tr th {\n",
       "        vertical-align: top;\n",
       "    }\n",
       "\n",
       "    .dataframe thead th {\n",
       "        text-align: right;\n",
       "    }\n",
       "</style>\n",
       "<table border=\"1\" class=\"dataframe\">\n",
       "  <thead>\n",
       "    <tr style=\"text-align: right;\">\n",
       "      <th></th>\n",
       "      <th>Number of Clusters</th>\n",
       "      <th>Davies Bouldin Score</th>\n",
       "    </tr>\n",
       "  </thead>\n",
       "  <tbody>\n",
       "    <tr>\n",
       "      <th>0</th>\n",
       "      <td>1</td>\n",
       "      <td>60013.318898</td>\n",
       "    </tr>\n",
       "    <tr>\n",
       "      <th>1</th>\n",
       "      <td>2</td>\n",
       "      <td>49404.146963</td>\n",
       "    </tr>\n",
       "    <tr>\n",
       "      <th>2</th>\n",
       "      <td>3</td>\n",
       "      <td>38486.105849</td>\n",
       "    </tr>\n",
       "    <tr>\n",
       "      <th>3</th>\n",
       "      <td>4</td>\n",
       "      <td>31507.060122</td>\n",
       "    </tr>\n",
       "    <tr>\n",
       "      <th>4</th>\n",
       "      <td>5</td>\n",
       "      <td>23647.423375</td>\n",
       "    </tr>\n",
       "    <tr>\n",
       "      <th>5</th>\n",
       "      <td>6</td>\n",
       "      <td>17968.811482</td>\n",
       "    </tr>\n",
       "    <tr>\n",
       "      <th>6</th>\n",
       "      <td>7</td>\n",
       "      <td>10900.078889</td>\n",
       "    </tr>\n",
       "    <tr>\n",
       "      <th>7</th>\n",
       "      <td>8</td>\n",
       "      <td>9219.110959</td>\n",
       "    </tr>\n",
       "    <tr>\n",
       "      <th>8</th>\n",
       "      <td>9</td>\n",
       "      <td>8329.549011</td>\n",
       "    </tr>\n",
       "    <tr>\n",
       "      <th>9</th>\n",
       "      <td>10</td>\n",
       "      <td>7273.688359</td>\n",
       "    </tr>\n",
       "  </tbody>\n",
       "</table>\n",
       "</div>"
      ],
      "text/plain": [
       "   Number of Clusters  Davies Bouldin Score\n",
       "0                   1          60013.318898\n",
       "1                   2          49404.146963\n",
       "2                   3          38486.105849\n",
       "3                   4          31507.060122\n",
       "4                   5          23647.423375\n",
       "5                   6          17968.811482\n",
       "6                   7          10900.078889\n",
       "7                   8           9219.110959\n",
       "8                   9           8329.549011\n",
       "9                  10           7273.688359"
      ]
     },
     "execution_count": 168,
     "metadata": {},
     "output_type": "execute_result"
    }
   ],
   "source": [
    "#Show a dataframe with the scores per number of clusters\n",
    "scores_df = pd.DataFrame({'Number of Clusters': k_values, 'Davies Bouldin Score': inertia})\n",
    "scores_df\n"
   ]
  },
  {
   "cell_type": "code",
   "execution_count": 171,
   "metadata": {},
   "outputs": [
    {
     "name": "stdout",
     "output_type": "stream",
     "text": [
      "[5 3 1 ... 2 1 2]\n"
     ]
    }
   ],
   "source": [
    "kmeans = KMeans(n_clusters=7, random_state=1, init='k-means++', algorithm='lloyd')\n",
    "allDistances = kmeans.fit_transform(X_pca_reduced)\n",
    "y_kmeans = kmeans.predict(X_pca_reduced)"
   ]
  }
 ],
 "metadata": {
  "kernelspec": {
   "display_name": "DM2425",
   "language": "python",
   "name": "python3"
  },
  "language_info": {
   "codemirror_mode": {
    "name": "ipython",
    "version": 3
   },
   "file_extension": ".py",
   "mimetype": "text/x-python",
   "name": "python",
   "nbconvert_exporter": "python",
   "pygments_lexer": "ipython3",
   "version": "3.12.2"
  }
 },
 "nbformat": 4,
 "nbformat_minor": 2
}
