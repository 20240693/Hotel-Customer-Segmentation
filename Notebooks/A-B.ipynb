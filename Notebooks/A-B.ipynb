{
 "cells": [
  {
   "cell_type": "markdown",
   "metadata": {},
   "source": [
    "**<h1 align=\"center\" > Business Cases with Data Science - Case 1</h1>**\n"
   ]
  },
  {
   "cell_type": "markdown",
   "metadata": {},
   "source": [
    "**Group members:**<br> \n",
    "Chloé Deschanel - 20240693 <br>\n",
    "Diogo Carvalho - 20240694 <br>\n",
    "Ingrid Lopez - 20240692 <br>\n",
    "Ruben Marques- 20240352"
   ]
  },
  {
   "cell_type": "markdown",
   "metadata": {},
   "source": [
    "# Introduction"
   ]
  },
  {
   "cell_type": "markdown",
   "metadata": {},
   "source": [
    "Lisbon, Portugal, has experienced remarkable growth in its tourism and hospitality sector over the past decade. As one of Europe’s most sought-after travel destinations, Lisbon attracts a diverse mix of travelers, including leisure tourists, business professionals, digital nomads, and event attendees. The rise of online booking platforms, changing customer expectations, and an increasing emphasis on personalized experiences has significantly impacted the way hotels operate and strategize their market positioning.\n",
    "\n",
    "Traditional segmentation methods—often based on distribution channels (e.g., direct, OTA, corporate bookings)—fail to capture the complexity of modern traveler behaviors. The evolving landscape of hospitality requires a more data-driven approach to customer segmentation, allowing hotels to tailor their services, optimize pricing strategies, and improve customer retention.\n",
    "\n",
    "By leveraging the data provided, we can redefine customer segmentation beyond just how a booking was made. Instead, we can incorporate demographic, behavioral, and spending characteristics to classify customers in a way that aligns with modern hospitality needs, ultimately enhancing revenue management, marketing effectiveness, and guest satisfaction."
   ]
  },
  {
   "cell_type": "markdown",
   "metadata": {},
   "source": [
    "# Table of Contents\n",
    "\n",
    "* [1. Data Exploration](#chapter1)\n",
    "    * [1.1. Imports](#sub-section-1_1)\n",
    "    * [1.2. Loading Data](#sub-section-1_2)\n",
    "    * [1.3. Initial Analysis](#sub-section-1_3)\n",
    "        * [1.3.1. Types](#sub-section-1_3_1)\n",
    "        * [1.3.2. Duplicates](#sub-section-1_3_2)\n",
    "        * [1.3.3. Missing Values](#sub-section-1_3_3)\n",
    "        * [1.3.4. Data Statistics](#sub-section-1_3_4)\n",
    "    * [1.4. Individual Variable Analysis](#sub-section-1_4)\n",
    "        * [1.4.1. Numerical Variables](#sub-section-1_4_1)\n",
    "            * [1.4.1.1. Overview](#sub-section-1_4_1_1)\n",
    "        * [1.4.2. Categorical Variables](#sub-section-1_4_2)\n",
    "        * [1.4.3. Binary Variables](#sub-section-1_4_3)"
   ]
  },
  {
   "cell_type": "markdown",
   "metadata": {},
   "source": [
    "<a class=\"anchor\" id=\"chapter1\"></a>\n",
    "\n",
    "# 1. Data Exploration\n",
    "\n",
    "</a>"
   ]
  },
  {
   "cell_type": "markdown",
   "metadata": {},
   "source": [
    "<a class=\"anchor\" id=\"sub-section-1_1\"></a>\n",
    "\n",
    "## 1.1. Imports\n",
    "\n",
    "</a>"
   ]
  },
  {
   "cell_type": "code",
   "execution_count": 1,
   "metadata": {},
   "outputs": [],
   "source": [
    "import numpy as np\n",
    "import pandas as pd\n",
    "import matplotlib.pyplot as plt\n",
    "import seaborn as sns\n",
    "import geopandas as gpd\n",
    "import folium\n",
    "import geodatasets\n",
    "import mapclassify\n",
    "import pycountry_convert as pc\n",
    "from sklearn.preprocessing import MinMaxScaler\n",
    "from sklearn.decomposition import PCA\n",
    "from sklearn.cluster import KMeans\n",
    "from sklearn.metrics import silhouette_score\n",
    "\n",
    "# Set display options to show all rows\n",
    "pd.set_option('display.max_rows', None)\n",
    "\n",
    "# Set display options to show all columns\n",
    "pd.set_option('display.max_columns', None)"
   ]
  },
  {
   "cell_type": "markdown",
   "metadata": {},
   "source": [
    "<a class=\"anchor\" id=\"sub-section-1_2\"></a>\n",
    "\n",
    "## 1.2. Loading Data\n",
    "\n",
    "</a>"
   ]
  },
  {
   "cell_type": "code",
   "execution_count": 2,
   "metadata": {},
   "outputs": [],
   "source": [
    "data = pd.read_csv(\"../Data/Case1_HotelCustomerSegmentation.csv\", sep=\";\")"
   ]
  },
  {
   "cell_type": "code",
   "execution_count": 3,
   "metadata": {},
   "outputs": [
    {
     "data": {
      "text/html": [
       "<div>\n",
       "<style scoped>\n",
       "    .dataframe tbody tr th:only-of-type {\n",
       "        vertical-align: middle;\n",
       "    }\n",
       "\n",
       "    .dataframe tbody tr th {\n",
       "        vertical-align: top;\n",
       "    }\n",
       "\n",
       "    .dataframe thead th {\n",
       "        text-align: right;\n",
       "    }\n",
       "</style>\n",
       "<table border=\"1\" class=\"dataframe\">\n",
       "  <thead>\n",
       "    <tr style=\"text-align: right;\">\n",
       "      <th></th>\n",
       "      <th>ID</th>\n",
       "      <th>Nationality</th>\n",
       "      <th>Age</th>\n",
       "      <th>DaysSinceCreation</th>\n",
       "      <th>NameHash</th>\n",
       "      <th>DocIDHash</th>\n",
       "      <th>AverageLeadTime</th>\n",
       "      <th>LodgingRevenue</th>\n",
       "      <th>OtherRevenue</th>\n",
       "      <th>BookingsCanceled</th>\n",
       "      <th>BookingsNoShowed</th>\n",
       "      <th>BookingsCheckedIn</th>\n",
       "      <th>PersonsNights</th>\n",
       "      <th>RoomNights</th>\n",
       "      <th>DistributionChannel</th>\n",
       "      <th>MarketSegment</th>\n",
       "      <th>SRHighFloor</th>\n",
       "      <th>SRLowFloor</th>\n",
       "      <th>SRAccessibleRoom</th>\n",
       "      <th>SRMediumFloor</th>\n",
       "      <th>SRBathtub</th>\n",
       "      <th>SRShower</th>\n",
       "      <th>SRCrib</th>\n",
       "      <th>SRKingSizeBed</th>\n",
       "      <th>SRTwinBed</th>\n",
       "      <th>SRNearElevator</th>\n",
       "      <th>SRAwayFromElevator</th>\n",
       "      <th>SRNoAlcoholInMiniBar</th>\n",
       "      <th>SRQuietRoom</th>\n",
       "    </tr>\n",
       "  </thead>\n",
       "  <tbody>\n",
       "    <tr>\n",
       "      <th>24370</th>\n",
       "      <td>24371</td>\n",
       "      <td>PRT</td>\n",
       "      <td>51.0</td>\n",
       "      <td>943</td>\n",
       "      <td>0xAB1CBED54F5AEFD43FC7807C7DE3D423D8ABA7B0BF03...</td>\n",
       "      <td>0x9EB1980AB2E7D5909A1BB8A1C524BFF5C3108A268B88...</td>\n",
       "      <td>53</td>\n",
       "      <td>300.00</td>\n",
       "      <td>30.0</td>\n",
       "      <td>0</td>\n",
       "      <td>0</td>\n",
       "      <td>1</td>\n",
       "      <td>5</td>\n",
       "      <td>5</td>\n",
       "      <td>Travel Agent/Operator</td>\n",
       "      <td>Travel Agent/Operator</td>\n",
       "      <td>0</td>\n",
       "      <td>0</td>\n",
       "      <td>0</td>\n",
       "      <td>0</td>\n",
       "      <td>0</td>\n",
       "      <td>0</td>\n",
       "      <td>0</td>\n",
       "      <td>0</td>\n",
       "      <td>0</td>\n",
       "      <td>0</td>\n",
       "      <td>0</td>\n",
       "      <td>0</td>\n",
       "      <td>0</td>\n",
       "    </tr>\n",
       "    <tr>\n",
       "      <th>24350</th>\n",
       "      <td>24351</td>\n",
       "      <td>GBR</td>\n",
       "      <td>55.0</td>\n",
       "      <td>943</td>\n",
       "      <td>0x71E6E2D0EE999740DF684C3D6C2DDFFE4A7ED5E1F3E2...</td>\n",
       "      <td>0xE7C11A893D3FEC94C0D7A8ED885BF11E36A728523705...</td>\n",
       "      <td>8</td>\n",
       "      <td>102.00</td>\n",
       "      <td>14.5</td>\n",
       "      <td>0</td>\n",
       "      <td>0</td>\n",
       "      <td>1</td>\n",
       "      <td>1</td>\n",
       "      <td>1</td>\n",
       "      <td>Travel Agent/Operator</td>\n",
       "      <td>Other</td>\n",
       "      <td>1</td>\n",
       "      <td>0</td>\n",
       "      <td>0</td>\n",
       "      <td>0</td>\n",
       "      <td>0</td>\n",
       "      <td>0</td>\n",
       "      <td>0</td>\n",
       "      <td>1</td>\n",
       "      <td>0</td>\n",
       "      <td>0</td>\n",
       "      <td>0</td>\n",
       "      <td>0</td>\n",
       "      <td>0</td>\n",
       "    </tr>\n",
       "    <tr>\n",
       "      <th>5468</th>\n",
       "      <td>5469</td>\n",
       "      <td>DEU</td>\n",
       "      <td>54.0</td>\n",
       "      <td>1266</td>\n",
       "      <td>0x12EF573AAFC52D131C63F26A49A44884A6DCDD49B22C...</td>\n",
       "      <td>0x7C87F4D59F51712D1BF43F86E7AFB2DC3E7E24E1436D...</td>\n",
       "      <td>80</td>\n",
       "      <td>414.20</td>\n",
       "      <td>110.0</td>\n",
       "      <td>0</td>\n",
       "      <td>0</td>\n",
       "      <td>1</td>\n",
       "      <td>12</td>\n",
       "      <td>4</td>\n",
       "      <td>Travel Agent/Operator</td>\n",
       "      <td>Other</td>\n",
       "      <td>1</td>\n",
       "      <td>0</td>\n",
       "      <td>0</td>\n",
       "      <td>0</td>\n",
       "      <td>0</td>\n",
       "      <td>0</td>\n",
       "      <td>0</td>\n",
       "      <td>0</td>\n",
       "      <td>1</td>\n",
       "      <td>0</td>\n",
       "      <td>0</td>\n",
       "      <td>0</td>\n",
       "      <td>0</td>\n",
       "    </tr>\n",
       "    <tr>\n",
       "      <th>21069</th>\n",
       "      <td>21070</td>\n",
       "      <td>ESP</td>\n",
       "      <td>54.0</td>\n",
       "      <td>1008</td>\n",
       "      <td>0x50398CF6385071955828CBEF31977AE982610144C2CE...</td>\n",
       "      <td>0xBB9E70F26BDCB5D6B1D51C27F0344EF2F9E6E064417E...</td>\n",
       "      <td>4</td>\n",
       "      <td>128.00</td>\n",
       "      <td>16.5</td>\n",
       "      <td>0</td>\n",
       "      <td>0</td>\n",
       "      <td>1</td>\n",
       "      <td>2</td>\n",
       "      <td>2</td>\n",
       "      <td>Travel Agent/Operator</td>\n",
       "      <td>Groups</td>\n",
       "      <td>0</td>\n",
       "      <td>0</td>\n",
       "      <td>0</td>\n",
       "      <td>0</td>\n",
       "      <td>0</td>\n",
       "      <td>0</td>\n",
       "      <td>0</td>\n",
       "      <td>0</td>\n",
       "      <td>0</td>\n",
       "      <td>0</td>\n",
       "      <td>0</td>\n",
       "      <td>0</td>\n",
       "      <td>0</td>\n",
       "    </tr>\n",
       "    <tr>\n",
       "      <th>1247</th>\n",
       "      <td>1248</td>\n",
       "      <td>NLD</td>\n",
       "      <td>50.0</td>\n",
       "      <td>1343</td>\n",
       "      <td>0x5C184FB84584DAEE772F5C779893F11DAF0559E75781...</td>\n",
       "      <td>0xA3D7C129A944AC6EB8E62742EEA13C03DAD31CD5C764...</td>\n",
       "      <td>3</td>\n",
       "      <td>60.22</td>\n",
       "      <td>7.0</td>\n",
       "      <td>0</td>\n",
       "      <td>0</td>\n",
       "      <td>1</td>\n",
       "      <td>1</td>\n",
       "      <td>1</td>\n",
       "      <td>Travel Agent/Operator</td>\n",
       "      <td>Other</td>\n",
       "      <td>0</td>\n",
       "      <td>0</td>\n",
       "      <td>0</td>\n",
       "      <td>0</td>\n",
       "      <td>0</td>\n",
       "      <td>0</td>\n",
       "      <td>0</td>\n",
       "      <td>1</td>\n",
       "      <td>0</td>\n",
       "      <td>0</td>\n",
       "      <td>0</td>\n",
       "      <td>0</td>\n",
       "      <td>0</td>\n",
       "    </tr>\n",
       "  </tbody>\n",
       "</table>\n",
       "</div>"
      ],
      "text/plain": [
       "          ID Nationality   Age  DaysSinceCreation  \\\n",
       "24370  24371         PRT  51.0                943   \n",
       "24350  24351         GBR  55.0                943   \n",
       "5468    5469         DEU  54.0               1266   \n",
       "21069  21070         ESP  54.0               1008   \n",
       "1247    1248         NLD  50.0               1343   \n",
       "\n",
       "                                                NameHash  \\\n",
       "24370  0xAB1CBED54F5AEFD43FC7807C7DE3D423D8ABA7B0BF03...   \n",
       "24350  0x71E6E2D0EE999740DF684C3D6C2DDFFE4A7ED5E1F3E2...   \n",
       "5468   0x12EF573AAFC52D131C63F26A49A44884A6DCDD49B22C...   \n",
       "21069  0x50398CF6385071955828CBEF31977AE982610144C2CE...   \n",
       "1247   0x5C184FB84584DAEE772F5C779893F11DAF0559E75781...   \n",
       "\n",
       "                                               DocIDHash  AverageLeadTime  \\\n",
       "24370  0x9EB1980AB2E7D5909A1BB8A1C524BFF5C3108A268B88...               53   \n",
       "24350  0xE7C11A893D3FEC94C0D7A8ED885BF11E36A728523705...                8   \n",
       "5468   0x7C87F4D59F51712D1BF43F86E7AFB2DC3E7E24E1436D...               80   \n",
       "21069  0xBB9E70F26BDCB5D6B1D51C27F0344EF2F9E6E064417E...                4   \n",
       "1247   0xA3D7C129A944AC6EB8E62742EEA13C03DAD31CD5C764...                3   \n",
       "\n",
       "       LodgingRevenue  OtherRevenue  BookingsCanceled  BookingsNoShowed  \\\n",
       "24370          300.00          30.0                 0                 0   \n",
       "24350          102.00          14.5                 0                 0   \n",
       "5468           414.20         110.0                 0                 0   \n",
       "21069          128.00          16.5                 0                 0   \n",
       "1247            60.22           7.0                 0                 0   \n",
       "\n",
       "       BookingsCheckedIn  PersonsNights  RoomNights    DistributionChannel  \\\n",
       "24370                  1              5           5  Travel Agent/Operator   \n",
       "24350                  1              1           1  Travel Agent/Operator   \n",
       "5468                   1             12           4  Travel Agent/Operator   \n",
       "21069                  1              2           2  Travel Agent/Operator   \n",
       "1247                   1              1           1  Travel Agent/Operator   \n",
       "\n",
       "               MarketSegment  SRHighFloor  SRLowFloor  SRAccessibleRoom  \\\n",
       "24370  Travel Agent/Operator            0           0                 0   \n",
       "24350                  Other            1           0                 0   \n",
       "5468                   Other            1           0                 0   \n",
       "21069                 Groups            0           0                 0   \n",
       "1247                   Other            0           0                 0   \n",
       "\n",
       "       SRMediumFloor  SRBathtub  SRShower  SRCrib  SRKingSizeBed  SRTwinBed  \\\n",
       "24370              0          0         0       0              0          0   \n",
       "24350              0          0         0       0              1          0   \n",
       "5468               0          0         0       0              0          1   \n",
       "21069              0          0         0       0              0          0   \n",
       "1247               0          0         0       0              1          0   \n",
       "\n",
       "       SRNearElevator  SRAwayFromElevator  SRNoAlcoholInMiniBar  SRQuietRoom  \n",
       "24370               0                   0                     0            0  \n",
       "24350               0                   0                     0            0  \n",
       "5468                0                   0                     0            0  \n",
       "21069               0                   0                     0            0  \n",
       "1247                0                   0                     0            0  "
      ]
     },
     "execution_count": 3,
     "metadata": {},
     "output_type": "execute_result"
    }
   ],
   "source": [
    "# Display a sample of the dataset\n",
    "data.sample(5)"
   ]
  },
  {
   "cell_type": "code",
   "execution_count": 4,
   "metadata": {},
   "outputs": [],
   "source": [
    "# Set ID as index\n",
    "data.set_index('ID', inplace=True)"
   ]
  },
  {
   "cell_type": "markdown",
   "metadata": {},
   "source": [
    "| #   | Column Name        | Description                                                                                       |\n",
    "|:----|:-------------------|:--------------------------------------------------------------------------------------------------|\n",
    "| 1   | ID        | Customer ID customer. |\n",
    "| 2   | Nationality    | Nationality of the customer in ISO 3166-1 (Alpha 3) format. |\n",
    "| 3   | Age       | Age of the customer. |\n",
    "| 4   | DaysSinceCreation       | Number of elapsed days since the customer was created. |\n",
    "| 5   | NameHash | Hash of the customer's name. |\n",
    "| 6   | DocIDHash | Hash of the customer’s personal document identification number (usually a passport or ID card). |\n",
    "| 7   | AverageLeadTime | Average number of days before arrival date the customer makes bookings. |\n",
    "| 8   | LodgingRevenue | Total amount of lodging revenue paid by the customer so far. |\n",
    "| 9   | OtherRevenue | Total amount of other revenue (e.g., food & beverage, spa, etc.) paid by the customer so far. |\n",
    "| 10  | BookingsCanceled | Number of bookings the customer made but subsequently canceled. |\n",
    "| 11  | BookingsNoShowed | Number of bookings the customer made but subsequently made a \"no-show\". |\n",
    "| 12  | BookingsCheckedin | Number of bookings the customer made, which actually ended up staying. |\n",
    "| 13  | PersonNights | Total person/nights the customer has stayed at the hotel so far. Persons/Nights are the sum of Adults and Children in each booking, multiplied by the number of Nights (Length-of-stay) of the booking. |\n",
    "| 14  | RoomNights | Total of room/nights the customer has stayed at the hotel so far. Room/Nights are the multiplication of the number of rooms of each booking by the the number of Nights (Length-of- stay) of the booking. |\n",
    "| 15  | DistributionChannel | Distribution channel normally used by the customer to make bookings at the hotel. |\n",
    "| 16  | MarketSegment | Current market segment of the customer. |\n",
    "| 17  | SRHighFloor | Indication if the customer usually asks for a room in a higher floor (0: No, 1: Yes). |\n",
    "| 18  | RLowFloor  | Indication if the customer usually asks for a room in a lower floor (0: No, 1: Yes).  | \n",
    "| 19  | SRAccessibleRoom | Indication if the customer usually asks for an accessible room (0: No, 1: Yes). |\n",
    "| 20  | SRMediumFloor | Indication if the customer usually asks for a room in a middle floor (0: No, 1: Yes). |\n",
    "| 21  | SRBathtub | Indication if the customer usually asks for a room with a bathtub (0: No, 1: Yes). |\n",
    "| 22  | SRShower | Indication if the customer usually asks for a room with a shower (0: No, 1: Yes). |\n",
    "| 23  | SRCrib  | Indication if the customer usually asks for a crib (0: No, 1: Yes). |\n",
    "| 24  | SRKingSizeBed | Indication if the customer usually asks for a room with a king size bed (0: No, 1: Yes). |\n",
    "| 25  | SRTwinBed | Indication if the customer usually asks for a room with a twin bed (0: No, 1: Yes). |\n",
    "| 26  | SRNearElevator | Indication if the customer usually asks for a room near the elevator (0: No, 1: Yes). |\n",
    "| 27  | SRAwayFromElevator | Indication if the customer usually asks for a room away from the elevator (0: No, 1: Yes). |\n",
    "| 28  | SRNoAlcoholInMiniBar | Indication if the customer usually asks for a room with no alcohol in the mini bar (0: No, 1: Yes). |\n",
    "| 29  | SRQuietRoom | Indication if the customer usually asks for a room away from the noise (0: No, 1: Yes). |\n"
   ]
  },
  {
   "cell_type": "markdown",
   "metadata": {},
   "source": [
    "<a class=\"anchor\" id=\"sub-section-1_3\">\n",
    "\n",
    "## 1.3. Initial Analysis\n",
    "    \n",
    "</a>"
   ]
  },
  {
   "cell_type": "markdown",
   "metadata": {},
   "source": [
    "**Insights:**\n",
    "\n",
    "- There were 111 duplicated rows that have been removed.\n",
    "- There are two rows with missing values: Age(4092), DocIDHash(932)\n",
    "- The categorical columns are: Nationality, NameHash, DocIDHash, DistributionChannel, MarketSegment\n",
    "- There are 5 categorical columns: Nationality, NameHash, DocIDHash, DistributionChannel, MarketSegment \n",
    "- The remaining 23 columns are numerical."
   ]
  },
  {
   "cell_type": "markdown",
   "metadata": {},
   "source": [
    "<a class=\"anchor\" id=\"sub-section-1_3_1\">\n",
    "\n",
    "### 1.3.1. Types\n",
    "    \n",
    "</a>"
   ]
  },
  {
   "cell_type": "code",
   "execution_count": 5,
   "metadata": {},
   "outputs": [
    {
     "name": "stdout",
     "output_type": "stream",
     "text": [
      "<class 'pandas.core.frame.DataFrame'>\n",
      "Index: 111733 entries, 1 to 111733\n",
      "Data columns (total 28 columns):\n",
      " #   Column                Non-Null Count   Dtype  \n",
      "---  ------                --------------   -----  \n",
      " 0   Nationality           111733 non-null  object \n",
      " 1   Age                   107561 non-null  float64\n",
      " 2   DaysSinceCreation     111733 non-null  int64  \n",
      " 3   NameHash              111733 non-null  object \n",
      " 4   DocIDHash             110732 non-null  object \n",
      " 5   AverageLeadTime       111733 non-null  int64  \n",
      " 6   LodgingRevenue        111733 non-null  float64\n",
      " 7   OtherRevenue          111733 non-null  float64\n",
      " 8   BookingsCanceled      111733 non-null  int64  \n",
      " 9   BookingsNoShowed      111733 non-null  int64  \n",
      " 10  BookingsCheckedIn     111733 non-null  int64  \n",
      " 11  PersonsNights         111733 non-null  int64  \n",
      " 12  RoomNights            111733 non-null  int64  \n",
      " 13  DistributionChannel   111733 non-null  object \n",
      " 14  MarketSegment         111733 non-null  object \n",
      " 15  SRHighFloor           111733 non-null  int64  \n",
      " 16  SRLowFloor            111733 non-null  int64  \n",
      " 17  SRAccessibleRoom      111733 non-null  int64  \n",
      " 18  SRMediumFloor         111733 non-null  int64  \n",
      " 19  SRBathtub             111733 non-null  int64  \n",
      " 20  SRShower              111733 non-null  int64  \n",
      " 21  SRCrib                111733 non-null  int64  \n",
      " 22  SRKingSizeBed         111733 non-null  int64  \n",
      " 23  SRTwinBed             111733 non-null  int64  \n",
      " 24  SRNearElevator        111733 non-null  int64  \n",
      " 25  SRAwayFromElevator    111733 non-null  int64  \n",
      " 26  SRNoAlcoholInMiniBar  111733 non-null  int64  \n",
      " 27  SRQuietRoom           111733 non-null  int64  \n",
      "dtypes: float64(3), int64(20), object(5)\n",
      "memory usage: 24.7+ MB\n"
     ]
    }
   ],
   "source": [
    "data.info()"
   ]
  },
  {
   "cell_type": "markdown",
   "metadata": {},
   "source": [
    "<a class=\"anchor\" id=\"sub-section-1_3_2\">\n",
    "\n",
    "### 1.3.2. Duplicates    \n",
    "</a>"
   ]
  },
  {
   "cell_type": "code",
   "execution_count": 6,
   "metadata": {},
   "outputs": [
    {
     "name": "stdout",
     "output_type": "stream",
     "text": [
      "Number of duplicates: 111\n"
     ]
    },
    {
     "data": {
      "text/html": [
       "<div>\n",
       "<style scoped>\n",
       "    .dataframe tbody tr th:only-of-type {\n",
       "        vertical-align: middle;\n",
       "    }\n",
       "\n",
       "    .dataframe tbody tr th {\n",
       "        vertical-align: top;\n",
       "    }\n",
       "\n",
       "    .dataframe thead th {\n",
       "        text-align: right;\n",
       "    }\n",
       "</style>\n",
       "<table border=\"1\" class=\"dataframe\">\n",
       "  <thead>\n",
       "    <tr style=\"text-align: right;\">\n",
       "      <th></th>\n",
       "      <th>Nationality</th>\n",
       "      <th>Age</th>\n",
       "      <th>DaysSinceCreation</th>\n",
       "      <th>NameHash</th>\n",
       "      <th>DocIDHash</th>\n",
       "      <th>AverageLeadTime</th>\n",
       "      <th>LodgingRevenue</th>\n",
       "      <th>OtherRevenue</th>\n",
       "      <th>BookingsCanceled</th>\n",
       "      <th>BookingsNoShowed</th>\n",
       "      <th>BookingsCheckedIn</th>\n",
       "      <th>PersonsNights</th>\n",
       "      <th>RoomNights</th>\n",
       "      <th>DistributionChannel</th>\n",
       "      <th>MarketSegment</th>\n",
       "      <th>SRHighFloor</th>\n",
       "      <th>SRLowFloor</th>\n",
       "      <th>SRAccessibleRoom</th>\n",
       "      <th>SRMediumFloor</th>\n",
       "      <th>SRBathtub</th>\n",
       "      <th>SRShower</th>\n",
       "      <th>SRCrib</th>\n",
       "      <th>SRKingSizeBed</th>\n",
       "      <th>SRTwinBed</th>\n",
       "      <th>SRNearElevator</th>\n",
       "      <th>SRAwayFromElevator</th>\n",
       "      <th>SRNoAlcoholInMiniBar</th>\n",
       "      <th>SRQuietRoom</th>\n",
       "    </tr>\n",
       "    <tr>\n",
       "      <th>ID</th>\n",
       "      <th></th>\n",
       "      <th></th>\n",
       "      <th></th>\n",
       "      <th></th>\n",
       "      <th></th>\n",
       "      <th></th>\n",
       "      <th></th>\n",
       "      <th></th>\n",
       "      <th></th>\n",
       "      <th></th>\n",
       "      <th></th>\n",
       "      <th></th>\n",
       "      <th></th>\n",
       "      <th></th>\n",
       "      <th></th>\n",
       "      <th></th>\n",
       "      <th></th>\n",
       "      <th></th>\n",
       "      <th></th>\n",
       "      <th></th>\n",
       "      <th></th>\n",
       "      <th></th>\n",
       "      <th></th>\n",
       "      <th></th>\n",
       "      <th></th>\n",
       "      <th></th>\n",
       "      <th></th>\n",
       "      <th></th>\n",
       "    </tr>\n",
       "  </thead>\n",
       "  <tbody>\n",
       "    <tr>\n",
       "      <th>57523</th>\n",
       "      <td>PRT</td>\n",
       "      <td>NaN</td>\n",
       "      <td>508</td>\n",
       "      <td>0xD32FF3D74C193EF22762853A9F3DFAE05172A9537CCA...</td>\n",
       "      <td>NaN</td>\n",
       "      <td>0</td>\n",
       "      <td>0.0</td>\n",
       "      <td>0.0</td>\n",
       "      <td>0</td>\n",
       "      <td>0</td>\n",
       "      <td>0</td>\n",
       "      <td>0</td>\n",
       "      <td>0</td>\n",
       "      <td>Travel Agent/Operator</td>\n",
       "      <td>Other</td>\n",
       "      <td>0</td>\n",
       "      <td>0</td>\n",
       "      <td>0</td>\n",
       "      <td>0</td>\n",
       "      <td>0</td>\n",
       "      <td>0</td>\n",
       "      <td>0</td>\n",
       "      <td>0</td>\n",
       "      <td>0</td>\n",
       "      <td>0</td>\n",
       "      <td>0</td>\n",
       "      <td>0</td>\n",
       "      <td>0</td>\n",
       "    </tr>\n",
       "    <tr>\n",
       "      <th>104081</th>\n",
       "      <td>PRT</td>\n",
       "      <td>NaN</td>\n",
       "      <td>97</td>\n",
       "      <td>0x15A713CE687991691A18F6CDC56ABE24979C73CF5D51...</td>\n",
       "      <td>NaN</td>\n",
       "      <td>0</td>\n",
       "      <td>0.0</td>\n",
       "      <td>0.0</td>\n",
       "      <td>0</td>\n",
       "      <td>0</td>\n",
       "      <td>0</td>\n",
       "      <td>0</td>\n",
       "      <td>0</td>\n",
       "      <td>Travel Agent/Operator</td>\n",
       "      <td>Other</td>\n",
       "      <td>0</td>\n",
       "      <td>0</td>\n",
       "      <td>0</td>\n",
       "      <td>0</td>\n",
       "      <td>0</td>\n",
       "      <td>0</td>\n",
       "      <td>0</td>\n",
       "      <td>0</td>\n",
       "      <td>0</td>\n",
       "      <td>0</td>\n",
       "      <td>0</td>\n",
       "      <td>0</td>\n",
       "      <td>0</td>\n",
       "    </tr>\n",
       "    <tr>\n",
       "      <th>102154</th>\n",
       "      <td>PRT</td>\n",
       "      <td>NaN</td>\n",
       "      <td>114</td>\n",
       "      <td>0x9D60AA2E4E7C611654D4DF0827B16EAEA9222E638698...</td>\n",
       "      <td>NaN</td>\n",
       "      <td>0</td>\n",
       "      <td>0.0</td>\n",
       "      <td>0.0</td>\n",
       "      <td>0</td>\n",
       "      <td>0</td>\n",
       "      <td>0</td>\n",
       "      <td>0</td>\n",
       "      <td>0</td>\n",
       "      <td>Travel Agent/Operator</td>\n",
       "      <td>Other</td>\n",
       "      <td>0</td>\n",
       "      <td>0</td>\n",
       "      <td>0</td>\n",
       "      <td>0</td>\n",
       "      <td>0</td>\n",
       "      <td>0</td>\n",
       "      <td>0</td>\n",
       "      <td>0</td>\n",
       "      <td>0</td>\n",
       "      <td>0</td>\n",
       "      <td>0</td>\n",
       "      <td>0</td>\n",
       "      <td>0</td>\n",
       "    </tr>\n",
       "    <tr>\n",
       "      <th>59136</th>\n",
       "      <td>PRT</td>\n",
       "      <td>NaN</td>\n",
       "      <td>496</td>\n",
       "      <td>0x8E9081D82F83E9659476AC5023BC6355491ADE885AB3...</td>\n",
       "      <td>NaN</td>\n",
       "      <td>0</td>\n",
       "      <td>0.0</td>\n",
       "      <td>0.0</td>\n",
       "      <td>0</td>\n",
       "      <td>0</td>\n",
       "      <td>0</td>\n",
       "      <td>0</td>\n",
       "      <td>0</td>\n",
       "      <td>Travel Agent/Operator</td>\n",
       "      <td>Other</td>\n",
       "      <td>0</td>\n",
       "      <td>0</td>\n",
       "      <td>0</td>\n",
       "      <td>0</td>\n",
       "      <td>0</td>\n",
       "      <td>0</td>\n",
       "      <td>0</td>\n",
       "      <td>0</td>\n",
       "      <td>0</td>\n",
       "      <td>0</td>\n",
       "      <td>0</td>\n",
       "      <td>0</td>\n",
       "      <td>0</td>\n",
       "    </tr>\n",
       "    <tr>\n",
       "      <th>55289</th>\n",
       "      <td>PRT</td>\n",
       "      <td>NaN</td>\n",
       "      <td>527</td>\n",
       "      <td>0xA2104DCAAE0E4887A004645149C8520148527130C411...</td>\n",
       "      <td>NaN</td>\n",
       "      <td>0</td>\n",
       "      <td>0.0</td>\n",
       "      <td>0.0</td>\n",
       "      <td>0</td>\n",
       "      <td>0</td>\n",
       "      <td>0</td>\n",
       "      <td>0</td>\n",
       "      <td>0</td>\n",
       "      <td>Travel Agent/Operator</td>\n",
       "      <td>Other</td>\n",
       "      <td>0</td>\n",
       "      <td>0</td>\n",
       "      <td>0</td>\n",
       "      <td>0</td>\n",
       "      <td>0</td>\n",
       "      <td>0</td>\n",
       "      <td>0</td>\n",
       "      <td>0</td>\n",
       "      <td>0</td>\n",
       "      <td>0</td>\n",
       "      <td>0</td>\n",
       "      <td>0</td>\n",
       "      <td>0</td>\n",
       "    </tr>\n",
       "  </tbody>\n",
       "</table>\n",
       "</div>"
      ],
      "text/plain": [
       "       Nationality  Age  DaysSinceCreation  \\\n",
       "ID                                           \n",
       "57523          PRT  NaN                508   \n",
       "104081         PRT  NaN                 97   \n",
       "102154         PRT  NaN                114   \n",
       "59136          PRT  NaN                496   \n",
       "55289          PRT  NaN                527   \n",
       "\n",
       "                                                 NameHash DocIDHash  \\\n",
       "ID                                                                    \n",
       "57523   0xD32FF3D74C193EF22762853A9F3DFAE05172A9537CCA...       NaN   \n",
       "104081  0x15A713CE687991691A18F6CDC56ABE24979C73CF5D51...       NaN   \n",
       "102154  0x9D60AA2E4E7C611654D4DF0827B16EAEA9222E638698...       NaN   \n",
       "59136   0x8E9081D82F83E9659476AC5023BC6355491ADE885AB3...       NaN   \n",
       "55289   0xA2104DCAAE0E4887A004645149C8520148527130C411...       NaN   \n",
       "\n",
       "        AverageLeadTime  LodgingRevenue  OtherRevenue  BookingsCanceled  \\\n",
       "ID                                                                        \n",
       "57523                 0             0.0           0.0                 0   \n",
       "104081                0             0.0           0.0                 0   \n",
       "102154                0             0.0           0.0                 0   \n",
       "59136                 0             0.0           0.0                 0   \n",
       "55289                 0             0.0           0.0                 0   \n",
       "\n",
       "        BookingsNoShowed  BookingsCheckedIn  PersonsNights  RoomNights  \\\n",
       "ID                                                                       \n",
       "57523                  0                  0              0           0   \n",
       "104081                 0                  0              0           0   \n",
       "102154                 0                  0              0           0   \n",
       "59136                  0                  0              0           0   \n",
       "55289                  0                  0              0           0   \n",
       "\n",
       "          DistributionChannel MarketSegment  SRHighFloor  SRLowFloor  \\\n",
       "ID                                                                     \n",
       "57523   Travel Agent/Operator         Other            0           0   \n",
       "104081  Travel Agent/Operator         Other            0           0   \n",
       "102154  Travel Agent/Operator         Other            0           0   \n",
       "59136   Travel Agent/Operator         Other            0           0   \n",
       "55289   Travel Agent/Operator         Other            0           0   \n",
       "\n",
       "        SRAccessibleRoom  SRMediumFloor  SRBathtub  SRShower  SRCrib  \\\n",
       "ID                                                                     \n",
       "57523                  0              0          0         0       0   \n",
       "104081                 0              0          0         0       0   \n",
       "102154                 0              0          0         0       0   \n",
       "59136                  0              0          0         0       0   \n",
       "55289                  0              0          0         0       0   \n",
       "\n",
       "        SRKingSizeBed  SRTwinBed  SRNearElevator  SRAwayFromElevator  \\\n",
       "ID                                                                     \n",
       "57523               0          0               0                   0   \n",
       "104081              0          0               0                   0   \n",
       "102154              0          0               0                   0   \n",
       "59136               0          0               0                   0   \n",
       "55289               0          0               0                   0   \n",
       "\n",
       "        SRNoAlcoholInMiniBar  SRQuietRoom  \n",
       "ID                                         \n",
       "57523                      0            0  \n",
       "104081                     0            0  \n",
       "102154                     0            0  \n",
       "59136                      0            0  \n",
       "55289                      0            0  "
      ]
     },
     "execution_count": 6,
     "metadata": {},
     "output_type": "execute_result"
    }
   ],
   "source": [
    "# Check for duplicates\n",
    "duplicates = data.duplicated()\n",
    "print(f\"Number of duplicates: {duplicates.sum()}\")\n",
    "data[duplicates].sample(5)"
   ]
  },
  {
   "cell_type": "code",
   "execution_count": 7,
   "metadata": {},
   "outputs": [
    {
     "name": "stdout",
     "output_type": "stream",
     "text": [
      "There are 0 duplicates left in the dataset.\n"
     ]
    }
   ],
   "source": [
    "# Drop duplicates\n",
    "data.drop_duplicates(inplace=True)\n",
    "print(f'There are {data.duplicated().sum()} duplicates left in the dataset.')"
   ]
  },
  {
   "cell_type": "markdown",
   "metadata": {},
   "source": [
    "<a class=\"anchor\" id=\"sub-section-1_3_3\">\n",
    "\n",
    "### 1.3.3. Missing Values\n",
    "    \n",
    "</a>"
   ]
  },
  {
   "cell_type": "code",
   "execution_count": 8,
   "metadata": {},
   "outputs": [
    {
     "data": {
      "text/plain": [
       "Age          4092\n",
       "DocIDHash     932\n",
       "dtype: int64"
      ]
     },
     "execution_count": 8,
     "metadata": {},
     "output_type": "execute_result"
    }
   ],
   "source": [
    "# Check missing values per columns\n",
    "missing_values = data.isnull().sum()\n",
    "missing_values = missing_values[missing_values > 0]\n",
    "missing_values"
   ]
  },
  {
   "cell_type": "markdown",
   "metadata": {},
   "source": [
    "<a class=\"anchor\" id=\"sub-section-1_3_4\">\n",
    "\n",
    "### 1.3.4. Data Statistics \n",
    "    \n",
    "</a>"
   ]
  },
  {
   "cell_type": "code",
   "execution_count": 9,
   "metadata": {},
   "outputs": [],
   "source": [
    "# Separate numerical and categorical columns\n",
    "numerical_columns = data.select_dtypes(include=np.number).columns.tolist()\n",
    "categorical_columns = data.select_dtypes(include='object').columns.tolist()"
   ]
  },
  {
   "cell_type": "code",
   "execution_count": 10,
   "metadata": {},
   "outputs": [
    {
     "name": "stdout",
     "output_type": "stream",
     "text": [
      "There are 5 categorical columns: Nationality, NameHash, DocIDHash, DistributionChannel, MarketSegment\n"
     ]
    }
   ],
   "source": [
    "# print the categorical columns\n",
    "print(f'There are {len(categorical_columns)} categorical columns: {\", \".join(map(str, categorical_columns))}')"
   ]
  },
  {
   "cell_type": "code",
   "execution_count": 11,
   "metadata": {},
   "outputs": [
    {
     "name": "stdout",
     "output_type": "stream",
     "text": [
      "There are 23 numerical columns: Age, DaysSinceCreation, AverageLeadTime, LodgingRevenue, OtherRevenue, BookingsCanceled, BookingsNoShowed, BookingsCheckedIn, PersonsNights, RoomNights, SRHighFloor, SRLowFloor, SRAccessibleRoom, SRMediumFloor, SRBathtub, SRShower, SRCrib, SRKingSizeBed, SRTwinBed, SRNearElevator, SRAwayFromElevator, SRNoAlcoholInMiniBar, SRQuietRoom\n"
     ]
    }
   ],
   "source": [
    "# print the numerical columns\n",
    "print(f'There are {len(numerical_columns)} numerical columns: {\", \".join(map(str, numerical_columns))}')"
   ]
  },
  {
   "cell_type": "markdown",
   "metadata": {},
   "source": [
    "<a class=\"anchor\" id=\"sub-section-1_4\">\n",
    "\n",
    "## 1.4. Dataset cleaning\n",
    "    \n",
    "</a>"
   ]
  },
  {
   "cell_type": "markdown",
   "metadata": {},
   "source": [
    "<a class=\"anchor\" id=\"sub-section-1_4_1\">\n",
    "\n",
    "### 1.4.1. Market Segment\n",
    "    \n",
    "</a>"
   ]
  },
  {
   "cell_type": "code",
   "execution_count": 12,
   "metadata": {},
   "outputs": [
    {
     "name": "stdout",
     "output_type": "stream",
     "text": [
      "The 7 unique market segments are: Corporate, Travel Agent/Operator, Other, Direct, Complementary, Groups, Aviation.\n"
     ]
    }
   ],
   "source": [
    "# Check the unique market segments\n",
    "marketsegments = data['MarketSegment'].unique()\n",
    "print(f'The {len(marketsegments)} unique market segments are: {\", \".join(map(str, marketsegments))}.')"
   ]
  },
  {
   "cell_type": "markdown",
   "metadata": {},
   "source": [
    "After getting the initial segments into a list, the MarketSegment feature will be dropped, as we aim to develop a new customer segmentation model. Retaining this feature would not contribute to our analysis."
   ]
  },
  {
   "cell_type": "code",
   "execution_count": 13,
   "metadata": {},
   "outputs": [],
   "source": [
    "# Dropping the MarketSegment feature\n",
    "data.drop('MarketSegment', axis=1, inplace=True)"
   ]
  },
  {
   "cell_type": "markdown",
   "metadata": {},
   "source": [
    "<a class=\"anchor\" id=\"sub-section-1_4_2\">\n",
    "\n",
    "### 1.4.2. DocIDHash Duplicates\n",
    "    \n",
    "</a>"
   ]
  },
  {
   "cell_type": "code",
   "execution_count": 14,
   "metadata": {},
   "outputs": [
    {
     "name": "stdout",
     "output_type": "stream",
     "text": [
      "There are 8141 duplicates in the DocIDHash column.\n"
     ]
    }
   ],
   "source": [
    "# Check the number of duplicates in DocIDHash\n",
    "data['DocIDHash'].duplicated().sum()\n",
    "print(f'There are {data[\"DocIDHash\"].duplicated().sum()} duplicates in the DocIDHash column.')"
   ]
  },
  {
   "cell_type": "code",
   "execution_count": 15,
   "metadata": {},
   "outputs": [],
   "source": [
    "# Drop features where DocIDHash is duplicated\n",
    "data.drop_duplicates(subset='DocIDHash',\n",
    "                     keep='first',\n",
    "                     inplace=True) # Keep the first occurrence of the duplicated value  "
   ]
  },
  {
   "cell_type": "markdown",
   "metadata": {},
   "source": [
    "<a class=\"anchor\" id=\"sub-section-1_4_3\">\n",
    "\n",
    "### 1.4.3. Drop DocIDHash and NameHash\n",
    "    \n",
    "</a>"
   ]
  },
  {
   "cell_type": "markdown",
   "metadata": {},
   "source": [
    "After removing duplicates based on DocIDHash, we will drop both NameHash and DocIDHash, as these are solely identification features and do not contribute to the segmentation."
   ]
  },
  {
   "cell_type": "code",
   "execution_count": 16,
   "metadata": {},
   "outputs": [],
   "source": [
    "# Drop columns relative to identification (NameHash, DocIDHash)\n",
    "data.drop(['NameHash', 'DocIDHash'], axis=1, inplace=True)"
   ]
  },
  {
   "cell_type": "markdown",
   "metadata": {},
   "source": [
    "<a class=\"anchor\" id=\"sub-section-1_4_4\">\n",
    "\n",
    "### 1.4.4. Total Revenue\n",
    "    \n",
    "</a>"
   ]
  },
  {
   "cell_type": "markdown",
   "metadata": {},
   "source": [
    "We will create a new feature, TotalRevenue, to distinguish customers (those who have spent) from registered accounts (those who have not). <br>\n",
    "This will allow us to filter the dataset accordingly and focus our efforts on the customers."
   ]
  },
  {
   "cell_type": "code",
   "execution_count": 17,
   "metadata": {},
   "outputs": [],
   "source": [
    "# Create a feature called TotalRevenue which is the sum of LodgingRevenue and OtherRevenue\n",
    "data['TotalRevenue'] = data['LodgingRevenue'] + data['OtherRevenue']"
   ]
  },
  {
   "cell_type": "code",
   "execution_count": 18,
   "metadata": {},
   "outputs": [
    {
     "name": "stdout",
     "output_type": "stream",
     "text": [
      "There are 31349 customers with no spending data, which is 30.29% of the dataset.\n"
     ]
    }
   ],
   "source": [
    "# Check how many customers have a TotalRevenue of 0 and how many have bigger than zero\n",
    "nospendingdata = data[data['TotalRevenue']==0].shape[0]\n",
    "print(f'There are {nospendingdata} customers with no spending data, which is {nospendingdata/data.shape[0]*100:.2f}% of the dataset.')"
   ]
  },
  {
   "cell_type": "markdown",
   "metadata": {},
   "source": [
    "Approximately 30% of the dataset comprises accounts with zero spending. To focus solely on actual customers, we will filter the dataset using TotalRevenue, retaining only accounts that have made transactions at the hotel. This refined dataset will be used for all subsequent analyses."
   ]
  },
  {
   "cell_type": "markdown",
   "metadata": {},
   "source": [
    "<a class=\"anchor\" id=\"sub-section-1_4_5\">\n",
    "\n",
    "### 1.4.5. Coherence Check\n",
    "    \n",
    "</a>"
   ]
  },
  {
   "cell_type": "code",
   "execution_count": 19,
   "metadata": {},
   "outputs": [
    {
     "name": "stdout",
     "output_type": "stream",
     "text": [
      "(4, 26)\n"
     ]
    }
   ],
   "source": [
    "print(data[data['BookingsCheckedIn']>data['PersonsNights']].shape)"
   ]
  },
  {
   "cell_type": "markdown",
   "metadata": {},
   "source": [
    "There's 4 rows where this happens"
   ]
  },
  {
   "cell_type": "code",
   "execution_count": 20,
   "metadata": {},
   "outputs": [],
   "source": [
    "data = data[data['BookingsCheckedIn']<data['PersonsNights']]"
   ]
  },
  {
   "cell_type": "code",
   "execution_count": 21,
   "metadata": {},
   "outputs": [
    {
     "name": "stdout",
     "output_type": "stream",
     "text": [
      "(10, 26)\n"
     ]
    }
   ],
   "source": [
    "print(data[data['RoomNights']>data['PersonsNights']].shape)"
   ]
  },
  {
   "cell_type": "markdown",
   "metadata": {},
   "source": [
    "There's 18 rows where this happen"
   ]
  },
  {
   "cell_type": "code",
   "execution_count": 22,
   "metadata": {},
   "outputs": [],
   "source": [
    "data = data[data['RoomNights']<data['PersonsNights']]"
   ]
  },
  {
   "cell_type": "markdown",
   "metadata": {},
   "source": [
    "<a class=\"anchor\" id=\"sub-section-1_4_6\">\n",
    "\n",
    "### 1.4.6. Filtered Dataframe\n",
    "    \n",
    "</a>"
   ]
  },
  {
   "cell_type": "code",
   "execution_count": 23,
   "metadata": {},
   "outputs": [],
   "source": [
    "# Create a dataframe with only customers who have spent\n",
    "customers = data[data['TotalRevenue']>0]"
   ]
  },
  {
   "cell_type": "code",
   "execution_count": 24,
   "metadata": {},
   "outputs": [],
   "source": [
    "# Separate numerical and categorical columns\n",
    "customers_numerical = customers.select_dtypes(exclude = 'object')\n",
    "customers_categorical = customers.select_dtypes(include='object')"
   ]
  },
  {
   "cell_type": "code",
   "execution_count": 25,
   "metadata": {},
   "outputs": [
    {
     "data": {
      "text/html": [
       "<div>\n",
       "<style scoped>\n",
       "    .dataframe tbody tr th:only-of-type {\n",
       "        vertical-align: middle;\n",
       "    }\n",
       "\n",
       "    .dataframe tbody tr th {\n",
       "        vertical-align: top;\n",
       "    }\n",
       "\n",
       "    .dataframe thead th {\n",
       "        text-align: right;\n",
       "    }\n",
       "</style>\n",
       "<table border=\"1\" class=\"dataframe\">\n",
       "  <thead>\n",
       "    <tr style=\"text-align: right;\">\n",
       "      <th></th>\n",
       "      <th>count</th>\n",
       "      <th>mean</th>\n",
       "      <th>std</th>\n",
       "      <th>min</th>\n",
       "      <th>25%</th>\n",
       "      <th>50%</th>\n",
       "      <th>75%</th>\n",
       "      <th>max</th>\n",
       "    </tr>\n",
       "  </thead>\n",
       "  <tbody>\n",
       "    <tr>\n",
       "      <th>Age</th>\n",
       "      <td>56616.0</td>\n",
       "      <td>48.154038</td>\n",
       "      <td>15.703972</td>\n",
       "      <td>-9.0</td>\n",
       "      <td>36.00</td>\n",
       "      <td>49.0</td>\n",
       "      <td>59.00</td>\n",
       "      <td>115.00</td>\n",
       "    </tr>\n",
       "    <tr>\n",
       "      <th>DaysSinceCreation</th>\n",
       "      <td>56761.0</td>\n",
       "      <td>697.629869</td>\n",
       "      <td>376.213488</td>\n",
       "      <td>36.0</td>\n",
       "      <td>391.00</td>\n",
       "      <td>730.0</td>\n",
       "      <td>1021.00</td>\n",
       "      <td>1385.00</td>\n",
       "    </tr>\n",
       "    <tr>\n",
       "      <th>AverageLeadTime</th>\n",
       "      <td>56761.0</td>\n",
       "      <td>97.265852</td>\n",
       "      <td>91.196560</td>\n",
       "      <td>-1.0</td>\n",
       "      <td>26.00</td>\n",
       "      <td>71.0</td>\n",
       "      <td>147.00</td>\n",
       "      <td>588.00</td>\n",
       "    </tr>\n",
       "    <tr>\n",
       "      <th>LodgingRevenue</th>\n",
       "      <td>56761.0</td>\n",
       "      <td>425.367468</td>\n",
       "      <td>375.631247</td>\n",
       "      <td>0.0</td>\n",
       "      <td>217.08</td>\n",
       "      <td>332.0</td>\n",
       "      <td>506.96</td>\n",
       "      <td>14044.80</td>\n",
       "    </tr>\n",
       "    <tr>\n",
       "      <th>OtherRevenue</th>\n",
       "      <td>56761.0</td>\n",
       "      <td>105.826474</td>\n",
       "      <td>131.688573</td>\n",
       "      <td>0.0</td>\n",
       "      <td>42.00</td>\n",
       "      <td>71.5</td>\n",
       "      <td>131.00</td>\n",
       "      <td>8859.25</td>\n",
       "    </tr>\n",
       "    <tr>\n",
       "      <th>BookingsCanceled</th>\n",
       "      <td>56761.0</td>\n",
       "      <td>0.000969</td>\n",
       "      <td>0.071595</td>\n",
       "      <td>0.0</td>\n",
       "      <td>0.00</td>\n",
       "      <td>0.0</td>\n",
       "      <td>0.00</td>\n",
       "      <td>15.00</td>\n",
       "    </tr>\n",
       "    <tr>\n",
       "      <th>BookingsNoShowed</th>\n",
       "      <td>56761.0</td>\n",
       "      <td>0.000194</td>\n",
       "      <td>0.013920</td>\n",
       "      <td>0.0</td>\n",
       "      <td>0.00</td>\n",
       "      <td>0.0</td>\n",
       "      <td>0.00</td>\n",
       "      <td>1.00</td>\n",
       "    </tr>\n",
       "    <tr>\n",
       "      <th>BookingsCheckedIn</th>\n",
       "      <td>56761.0</td>\n",
       "      <td>1.026286</td>\n",
       "      <td>0.443471</td>\n",
       "      <td>1.0</td>\n",
       "      <td>1.00</td>\n",
       "      <td>1.0</td>\n",
       "      <td>1.00</td>\n",
       "      <td>76.00</td>\n",
       "    </tr>\n",
       "    <tr>\n",
       "      <th>PersonsNights</th>\n",
       "      <td>56761.0</td>\n",
       "      <td>7.295678</td>\n",
       "      <td>4.284033</td>\n",
       "      <td>2.0</td>\n",
       "      <td>4.00</td>\n",
       "      <td>6.0</td>\n",
       "      <td>9.00</td>\n",
       "      <td>99.00</td>\n",
       "    </tr>\n",
       "    <tr>\n",
       "      <th>RoomNights</th>\n",
       "      <td>56761.0</td>\n",
       "      <td>3.303483</td>\n",
       "      <td>1.791739</td>\n",
       "      <td>1.0</td>\n",
       "      <td>2.00</td>\n",
       "      <td>3.0</td>\n",
       "      <td>4.00</td>\n",
       "      <td>88.00</td>\n",
       "    </tr>\n",
       "    <tr>\n",
       "      <th>SRHighFloor</th>\n",
       "      <td>56761.0</td>\n",
       "      <td>0.048431</td>\n",
       "      <td>0.214677</td>\n",
       "      <td>0.0</td>\n",
       "      <td>0.00</td>\n",
       "      <td>0.0</td>\n",
       "      <td>0.00</td>\n",
       "      <td>1.00</td>\n",
       "    </tr>\n",
       "    <tr>\n",
       "      <th>SRLowFloor</th>\n",
       "      <td>56761.0</td>\n",
       "      <td>0.001480</td>\n",
       "      <td>0.038441</td>\n",
       "      <td>0.0</td>\n",
       "      <td>0.00</td>\n",
       "      <td>0.0</td>\n",
       "      <td>0.00</td>\n",
       "      <td>1.00</td>\n",
       "    </tr>\n",
       "    <tr>\n",
       "      <th>SRAccessibleRoom</th>\n",
       "      <td>56761.0</td>\n",
       "      <td>0.000282</td>\n",
       "      <td>0.016787</td>\n",
       "      <td>0.0</td>\n",
       "      <td>0.00</td>\n",
       "      <td>0.0</td>\n",
       "      <td>0.00</td>\n",
       "      <td>1.00</td>\n",
       "    </tr>\n",
       "    <tr>\n",
       "      <th>SRMediumFloor</th>\n",
       "      <td>56761.0</td>\n",
       "      <td>0.000758</td>\n",
       "      <td>0.027514</td>\n",
       "      <td>0.0</td>\n",
       "      <td>0.00</td>\n",
       "      <td>0.0</td>\n",
       "      <td>0.00</td>\n",
       "      <td>1.00</td>\n",
       "    </tr>\n",
       "    <tr>\n",
       "      <th>SRBathtub</th>\n",
       "      <td>56761.0</td>\n",
       "      <td>0.003400</td>\n",
       "      <td>0.058213</td>\n",
       "      <td>0.0</td>\n",
       "      <td>0.00</td>\n",
       "      <td>0.0</td>\n",
       "      <td>0.00</td>\n",
       "      <td>1.00</td>\n",
       "    </tr>\n",
       "    <tr>\n",
       "      <th>SRShower</th>\n",
       "      <td>56761.0</td>\n",
       "      <td>0.002026</td>\n",
       "      <td>0.044966</td>\n",
       "      <td>0.0</td>\n",
       "      <td>0.00</td>\n",
       "      <td>0.0</td>\n",
       "      <td>0.00</td>\n",
       "      <td>1.00</td>\n",
       "    </tr>\n",
       "    <tr>\n",
       "      <th>SRCrib</th>\n",
       "      <td>56761.0</td>\n",
       "      <td>0.013266</td>\n",
       "      <td>0.114413</td>\n",
       "      <td>0.0</td>\n",
       "      <td>0.00</td>\n",
       "      <td>0.0</td>\n",
       "      <td>0.00</td>\n",
       "      <td>1.00</td>\n",
       "    </tr>\n",
       "    <tr>\n",
       "      <th>SRKingSizeBed</th>\n",
       "      <td>56761.0</td>\n",
       "      <td>0.380543</td>\n",
       "      <td>0.485525</td>\n",
       "      <td>0.0</td>\n",
       "      <td>0.00</td>\n",
       "      <td>0.0</td>\n",
       "      <td>1.00</td>\n",
       "      <td>1.00</td>\n",
       "    </tr>\n",
       "    <tr>\n",
       "      <th>SRTwinBed</th>\n",
       "      <td>56761.0</td>\n",
       "      <td>0.182308</td>\n",
       "      <td>0.386102</td>\n",
       "      <td>0.0</td>\n",
       "      <td>0.00</td>\n",
       "      <td>0.0</td>\n",
       "      <td>0.00</td>\n",
       "      <td>1.00</td>\n",
       "    </tr>\n",
       "    <tr>\n",
       "      <th>SRNearElevator</th>\n",
       "      <td>56761.0</td>\n",
       "      <td>0.000300</td>\n",
       "      <td>0.017304</td>\n",
       "      <td>0.0</td>\n",
       "      <td>0.00</td>\n",
       "      <td>0.0</td>\n",
       "      <td>0.00</td>\n",
       "      <td>1.00</td>\n",
       "    </tr>\n",
       "    <tr>\n",
       "      <th>SRAwayFromElevator</th>\n",
       "      <td>56761.0</td>\n",
       "      <td>0.003999</td>\n",
       "      <td>0.063113</td>\n",
       "      <td>0.0</td>\n",
       "      <td>0.00</td>\n",
       "      <td>0.0</td>\n",
       "      <td>0.00</td>\n",
       "      <td>1.00</td>\n",
       "    </tr>\n",
       "    <tr>\n",
       "      <th>SRNoAlcoholInMiniBar</th>\n",
       "      <td>56761.0</td>\n",
       "      <td>0.000159</td>\n",
       "      <td>0.012591</td>\n",
       "      <td>0.0</td>\n",
       "      <td>0.00</td>\n",
       "      <td>0.0</td>\n",
       "      <td>0.00</td>\n",
       "      <td>1.00</td>\n",
       "    </tr>\n",
       "    <tr>\n",
       "      <th>SRQuietRoom</th>\n",
       "      <td>56761.0</td>\n",
       "      <td>0.094836</td>\n",
       "      <td>0.292991</td>\n",
       "      <td>0.0</td>\n",
       "      <td>0.00</td>\n",
       "      <td>0.0</td>\n",
       "      <td>0.00</td>\n",
       "      <td>1.00</td>\n",
       "    </tr>\n",
       "    <tr>\n",
       "      <th>TotalRevenue</th>\n",
       "      <td>56761.0</td>\n",
       "      <td>531.193942</td>\n",
       "      <td>454.529883</td>\n",
       "      <td>2.0</td>\n",
       "      <td>282.00</td>\n",
       "      <td>418.0</td>\n",
       "      <td>632.65</td>\n",
       "      <td>16936.30</td>\n",
       "    </tr>\n",
       "  </tbody>\n",
       "</table>\n",
       "</div>"
      ],
      "text/plain": [
       "                        count        mean         std   min     25%    50%  \\\n",
       "Age                   56616.0   48.154038   15.703972  -9.0   36.00   49.0   \n",
       "DaysSinceCreation     56761.0  697.629869  376.213488  36.0  391.00  730.0   \n",
       "AverageLeadTime       56761.0   97.265852   91.196560  -1.0   26.00   71.0   \n",
       "LodgingRevenue        56761.0  425.367468  375.631247   0.0  217.08  332.0   \n",
       "OtherRevenue          56761.0  105.826474  131.688573   0.0   42.00   71.5   \n",
       "BookingsCanceled      56761.0    0.000969    0.071595   0.0    0.00    0.0   \n",
       "BookingsNoShowed      56761.0    0.000194    0.013920   0.0    0.00    0.0   \n",
       "BookingsCheckedIn     56761.0    1.026286    0.443471   1.0    1.00    1.0   \n",
       "PersonsNights         56761.0    7.295678    4.284033   2.0    4.00    6.0   \n",
       "RoomNights            56761.0    3.303483    1.791739   1.0    2.00    3.0   \n",
       "SRHighFloor           56761.0    0.048431    0.214677   0.0    0.00    0.0   \n",
       "SRLowFloor            56761.0    0.001480    0.038441   0.0    0.00    0.0   \n",
       "SRAccessibleRoom      56761.0    0.000282    0.016787   0.0    0.00    0.0   \n",
       "SRMediumFloor         56761.0    0.000758    0.027514   0.0    0.00    0.0   \n",
       "SRBathtub             56761.0    0.003400    0.058213   0.0    0.00    0.0   \n",
       "SRShower              56761.0    0.002026    0.044966   0.0    0.00    0.0   \n",
       "SRCrib                56761.0    0.013266    0.114413   0.0    0.00    0.0   \n",
       "SRKingSizeBed         56761.0    0.380543    0.485525   0.0    0.00    0.0   \n",
       "SRTwinBed             56761.0    0.182308    0.386102   0.0    0.00    0.0   \n",
       "SRNearElevator        56761.0    0.000300    0.017304   0.0    0.00    0.0   \n",
       "SRAwayFromElevator    56761.0    0.003999    0.063113   0.0    0.00    0.0   \n",
       "SRNoAlcoholInMiniBar  56761.0    0.000159    0.012591   0.0    0.00    0.0   \n",
       "SRQuietRoom           56761.0    0.094836    0.292991   0.0    0.00    0.0   \n",
       "TotalRevenue          56761.0  531.193942  454.529883   2.0  282.00  418.0   \n",
       "\n",
       "                          75%       max  \n",
       "Age                     59.00    115.00  \n",
       "DaysSinceCreation     1021.00   1385.00  \n",
       "AverageLeadTime        147.00    588.00  \n",
       "LodgingRevenue         506.96  14044.80  \n",
       "OtherRevenue           131.00   8859.25  \n",
       "BookingsCanceled         0.00     15.00  \n",
       "BookingsNoShowed         0.00      1.00  \n",
       "BookingsCheckedIn        1.00     76.00  \n",
       "PersonsNights            9.00     99.00  \n",
       "RoomNights               4.00     88.00  \n",
       "SRHighFloor              0.00      1.00  \n",
       "SRLowFloor               0.00      1.00  \n",
       "SRAccessibleRoom         0.00      1.00  \n",
       "SRMediumFloor            0.00      1.00  \n",
       "SRBathtub                0.00      1.00  \n",
       "SRShower                 0.00      1.00  \n",
       "SRCrib                   0.00      1.00  \n",
       "SRKingSizeBed            1.00      1.00  \n",
       "SRTwinBed                0.00      1.00  \n",
       "SRNearElevator           0.00      1.00  \n",
       "SRAwayFromElevator       0.00      1.00  \n",
       "SRNoAlcoholInMiniBar     0.00      1.00  \n",
       "SRQuietRoom              0.00      1.00  \n",
       "TotalRevenue           632.65  16936.30  "
      ]
     },
     "execution_count": 25,
     "metadata": {},
     "output_type": "execute_result"
    }
   ],
   "source": [
    "customers_numerical.describe().T"
   ]
  },
  {
   "cell_type": "code",
   "execution_count": 26,
   "metadata": {},
   "outputs": [
    {
     "data": {
      "text/html": [
       "<div>\n",
       "<style scoped>\n",
       "    .dataframe tbody tr th:only-of-type {\n",
       "        vertical-align: middle;\n",
       "    }\n",
       "\n",
       "    .dataframe tbody tr th {\n",
       "        vertical-align: top;\n",
       "    }\n",
       "\n",
       "    .dataframe thead th {\n",
       "        text-align: right;\n",
       "    }\n",
       "</style>\n",
       "<table border=\"1\" class=\"dataframe\">\n",
       "  <thead>\n",
       "    <tr style=\"text-align: right;\">\n",
       "      <th></th>\n",
       "      <th>count</th>\n",
       "      <th>unique</th>\n",
       "      <th>top</th>\n",
       "      <th>freq</th>\n",
       "    </tr>\n",
       "  </thead>\n",
       "  <tbody>\n",
       "    <tr>\n",
       "      <th>Nationality</th>\n",
       "      <td>56761</td>\n",
       "      <td>173</td>\n",
       "      <td>FRA</td>\n",
       "      <td>9627</td>\n",
       "    </tr>\n",
       "    <tr>\n",
       "      <th>DistributionChannel</th>\n",
       "      <td>56761</td>\n",
       "      <td>4</td>\n",
       "      <td>Travel Agent/Operator</td>\n",
       "      <td>48664</td>\n",
       "    </tr>\n",
       "  </tbody>\n",
       "</table>\n",
       "</div>"
      ],
      "text/plain": [
       "                     count unique                    top   freq\n",
       "Nationality          56761    173                    FRA   9627\n",
       "DistributionChannel  56761      4  Travel Agent/Operator  48664"
      ]
     },
     "execution_count": 26,
     "metadata": {},
     "output_type": "execute_result"
    }
   ],
   "source": [
    "customers_categorical.describe().T"
   ]
  },
  {
   "cell_type": "markdown",
   "metadata": {},
   "source": [
    "<a class=\"anchor\" id=\"sub-section-1_5\">\n",
    "\n",
    "## 1.5. Individual Variable Analysis\n",
    "    \n",
    "</a>"
   ]
  },
  {
   "cell_type": "markdown",
   "metadata": {},
   "source": [
    "<a class=\"anchor\" id=\"sub-section-1_5_1\">\n",
    "\n",
    "### 1.5.1. Categorical Variables\n",
    "    \n",
    "</a>"
   ]
  },
  {
   "cell_type": "markdown",
   "metadata": {},
   "source": [
    "<a class=\"anchor\" id=\"sub-section-1_5_1_1\">\n",
    "\n",
    "#### 1.5.1.1. Nationality\n",
    "    \n",
    "</a>"
   ]
  },
  {
   "cell_type": "markdown",
   "metadata": {},
   "source": [
    "Key take aways:\n",
    "- Nationality is a categorical variables that has high cardinality, with 185 classes (185 different nationalities);\n",
    "- The top20 of those nationalities by frequency represent ~91% of the total customers;\n",
    "- The top nation is France, with 11228 customers, accounting for ~16% of total customers;\n",
    "- There are 96 nationalities with less than 10 occurrences; <br>\n",
    "`Nationality has a correlation with LodgingRevenue of 0.96`"
   ]
  },
  {
   "cell_type": "code",
   "execution_count": 27,
   "metadata": {},
   "outputs": [
    {
     "name": "stdout",
     "output_type": "stream",
     "text": [
      "There are 173 unique nationalities.\n"
     ]
    }
   ],
   "source": [
    "# Print count of unique values in Nationality\n",
    "customers['Nationality'].nunique()\n",
    "print(f'There are {customers[\"Nationality\"].nunique()} unique nationalities.')"
   ]
  },
  {
   "cell_type": "code",
   "execution_count": 28,
   "metadata": {},
   "outputs": [
    {
     "name": "stdout",
     "output_type": "stream",
     "text": [
      "The top 20 nationalities are ['FRA', 'DEU', 'GBR', 'PRT', 'ESP', 'USA', 'BEL', 'ITA', 'BRA', 'NLD', 'IRL', 'CHE', 'CAN', 'AUT', 'SWE', 'ISR', 'CHN', 'AUS', 'NOR', 'POL'].\n"
     ]
    }
   ],
   "source": [
    "# Put the top20 nationalities in a list\n",
    "top20_nationalities = customers['Nationality'].value_counts().head(20).index.tolist()\n",
    "print(f'The top 20 nationalities are {top20_nationalities}.')"
   ]
  },
  {
   "cell_type": "code",
   "execution_count": 29,
   "metadata": {},
   "outputs": [
    {
     "data": {
      "text/html": [
       "<div>\n",
       "<style scoped>\n",
       "    .dataframe tbody tr th:only-of-type {\n",
       "        vertical-align: middle;\n",
       "    }\n",
       "\n",
       "    .dataframe tbody tr th {\n",
       "        vertical-align: top;\n",
       "    }\n",
       "\n",
       "    .dataframe thead th {\n",
       "        text-align: right;\n",
       "    }\n",
       "</style>\n",
       "<table border=\"1\" class=\"dataframe\">\n",
       "  <thead>\n",
       "    <tr style=\"text-align: right;\">\n",
       "      <th></th>\n",
       "      <th>Nationality</th>\n",
       "      <th>Percentage</th>\n",
       "    </tr>\n",
       "  </thead>\n",
       "  <tbody>\n",
       "    <tr>\n",
       "      <th>0</th>\n",
       "      <td>FRA</td>\n",
       "      <td>16.96</td>\n",
       "    </tr>\n",
       "    <tr>\n",
       "      <th>1</th>\n",
       "      <td>DEU</td>\n",
       "      <td>14.13</td>\n",
       "    </tr>\n",
       "    <tr>\n",
       "      <th>2</th>\n",
       "      <td>GBR</td>\n",
       "      <td>11.26</td>\n",
       "    </tr>\n",
       "    <tr>\n",
       "      <th>3</th>\n",
       "      <td>PRT</td>\n",
       "      <td>8.14</td>\n",
       "    </tr>\n",
       "    <tr>\n",
       "      <th>4</th>\n",
       "      <td>ESP</td>\n",
       "      <td>5.46</td>\n",
       "    </tr>\n",
       "    <tr>\n",
       "      <th>5</th>\n",
       "      <td>USA</td>\n",
       "      <td>4.49</td>\n",
       "    </tr>\n",
       "    <tr>\n",
       "      <th>6</th>\n",
       "      <td>BEL</td>\n",
       "      <td>4.14</td>\n",
       "    </tr>\n",
       "    <tr>\n",
       "      <th>7</th>\n",
       "      <td>ITA</td>\n",
       "      <td>4.13</td>\n",
       "    </tr>\n",
       "    <tr>\n",
       "      <th>8</th>\n",
       "      <td>BRA</td>\n",
       "      <td>3.59</td>\n",
       "    </tr>\n",
       "    <tr>\n",
       "      <th>9</th>\n",
       "      <td>NLD</td>\n",
       "      <td>3.57</td>\n",
       "    </tr>\n",
       "    <tr>\n",
       "      <th>10</th>\n",
       "      <td>IRL</td>\n",
       "      <td>2.84</td>\n",
       "    </tr>\n",
       "    <tr>\n",
       "      <th>11</th>\n",
       "      <td>CHE</td>\n",
       "      <td>2.68</td>\n",
       "    </tr>\n",
       "    <tr>\n",
       "      <th>12</th>\n",
       "      <td>CAN</td>\n",
       "      <td>1.97</td>\n",
       "    </tr>\n",
       "    <tr>\n",
       "      <th>13</th>\n",
       "      <td>AUT</td>\n",
       "      <td>1.88</td>\n",
       "    </tr>\n",
       "    <tr>\n",
       "      <th>14</th>\n",
       "      <td>SWE</td>\n",
       "      <td>1.43</td>\n",
       "    </tr>\n",
       "    <tr>\n",
       "      <th>15</th>\n",
       "      <td>ISR</td>\n",
       "      <td>1.05</td>\n",
       "    </tr>\n",
       "    <tr>\n",
       "      <th>16</th>\n",
       "      <td>CHN</td>\n",
       "      <td>1.02</td>\n",
       "    </tr>\n",
       "    <tr>\n",
       "      <th>17</th>\n",
       "      <td>AUS</td>\n",
       "      <td>0.97</td>\n",
       "    </tr>\n",
       "    <tr>\n",
       "      <th>18</th>\n",
       "      <td>NOR</td>\n",
       "      <td>0.92</td>\n",
       "    </tr>\n",
       "    <tr>\n",
       "      <th>19</th>\n",
       "      <td>POL</td>\n",
       "      <td>0.89</td>\n",
       "    </tr>\n",
       "  </tbody>\n",
       "</table>\n",
       "</div>"
      ],
      "text/plain": [
       "   Nationality  Percentage\n",
       "0          FRA       16.96\n",
       "1          DEU       14.13\n",
       "2          GBR       11.26\n",
       "3          PRT        8.14\n",
       "4          ESP        5.46\n",
       "5          USA        4.49\n",
       "6          BEL        4.14\n",
       "7          ITA        4.13\n",
       "8          BRA        3.59\n",
       "9          NLD        3.57\n",
       "10         IRL        2.84\n",
       "11         CHE        2.68\n",
       "12         CAN        1.97\n",
       "13         AUT        1.88\n",
       "14         SWE        1.43\n",
       "15         ISR        1.05\n",
       "16         CHN        1.02\n",
       "17         AUS        0.97\n",
       "18         NOR        0.92\n",
       "19         POL        0.89"
      ]
     },
     "execution_count": 29,
     "metadata": {},
     "output_type": "execute_result"
    }
   ],
   "source": [
    "# Get the value counts for each nationality\n",
    "nationality_counts = customers['Nationality'].value_counts()\n",
    "\n",
    "# Get the total count of all nationalities\n",
    "total_count = nationality_counts.sum()\n",
    "\n",
    "# Compute the percentage representation of the top 20 nationalities\n",
    "top20_percentages = round((nationality_counts.loc[top20_nationalities] / total_count) * 100,2)\n",
    "\n",
    "# Display the results in a DataFrame\n",
    "top20_df = pd.DataFrame({'Nationality': top20_nationalities, 'Percentage': top20_percentages.values})\n",
    "\n",
    "top20_df"
   ]
  },
  {
   "cell_type": "code",
   "execution_count": 30,
   "metadata": {},
   "outputs": [
    {
     "data": {
      "text/plain": [
       "Nationality\n",
       "FRA    9627\n",
       "DEU    8021\n",
       "GBR    6389\n",
       "PRT    4620\n",
       "ESP    3097\n",
       "USA    2550\n",
       "BEL    2352\n",
       "ITA    2347\n",
       "BRA    2040\n",
       "NLD    2026\n",
       "IRL    1612\n",
       "CHE    1519\n",
       "CAN    1117\n",
       "AUT    1068\n",
       "SWE     811\n",
       "ISR     597\n",
       "CHN     581\n",
       "AUS     552\n",
       "NOR     524\n",
       "POL     506\n",
       "Name: count, dtype: int64"
      ]
     },
     "execution_count": 30,
     "metadata": {},
     "output_type": "execute_result"
    }
   ],
   "source": [
    "nationality_counts.loc[top20_nationalities]"
   ]
  },
  {
   "cell_type": "code",
   "execution_count": 31,
   "metadata": {},
   "outputs": [
    {
     "name": "stdout",
     "output_type": "stream",
     "text": [
      "The top 20 nationalities represent 91.52% of the total market share\n"
     ]
    }
   ],
   "source": [
    "# Sum the percentages in the top 10 nationalities\n",
    "top20_marketshare = top20_df['Percentage'].sum()\n",
    "print(f'The top 20 nationalities represent {round(top20_marketshare,2)}% of the total market share')"
   ]
  },
  {
   "cell_type": "code",
   "execution_count": 32,
   "metadata": {},
   "outputs": [
    {
     "data": {
      "image/png": "[encoded data removed]",
      "text/plain": [
       "<Figure size 1200x600 with 1 Axes>"
      ]
     },
     "metadata": {},
     "output_type": "display_data"
    }
   ],
   "source": [
    "# Plot the top20 nationalities\n",
    "plt.figure(figsize=(12, 6))\n",
    "sns.countplot(data=customers, y='Nationality', order=top20_nationalities)\n",
    "plt.title('Top 20 Nationalities')\n",
    "plt.show()"
   ]
  },
  {
   "cell_type": "code",
   "execution_count": 33,
   "metadata": {},
   "outputs": [
    {
     "name": "stdout",
     "output_type": "stream",
     "text": [
      "There are 95 nationalities with less than 10 occurrences\n"
     ]
    }
   ],
   "source": [
    "# check how many nationalities have less than 10 occurrences\n",
    "nationalities_less_than_10 = nationality_counts[nationality_counts < 10].index\n",
    "print(f'There are {nationalities_less_than_10.shape[0]} nationalities with less than 10 occurrences')"
   ]
  },
  {
   "cell_type": "code",
   "execution_count": 34,
   "metadata": {},
   "outputs": [
    {
     "data": {
      "text/plain": [
       "TotalRevenue            1.000000\n",
       "LodgingRevenue          0.967444\n",
       "OtherRevenue            0.691993\n",
       "PersonsNights           0.606386\n",
       "RoomNights              0.569899\n",
       "BookingsCheckedIn       0.101141\n",
       "SRQuietRoom             0.070483\n",
       "AverageLeadTime         0.049221\n",
       "SRCrib                  0.025102\n",
       "SRKingSizeBed           0.025080\n",
       "SRHighFloor             0.019162\n",
       "BookingsCanceled        0.018797\n",
       "SRShower                0.013557\n",
       "SRAwayFromElevator      0.012933\n",
       "SRLowFloor              0.008240\n",
       "SRMediumFloor           0.006323\n",
       "SRNoAlcoholInMiniBar    0.006271\n",
       "SRBathtub               0.005020\n",
       "BookingsNoShowed        0.004315\n",
       "SRTwinBed               0.003790\n",
       "SRNearElevator          0.000294\n",
       "SRAccessibleRoom       -0.002693\n",
       "Age                    -0.047708\n",
       "DaysSinceCreation      -0.132445\n",
       "Name: TotalRevenue, dtype: float64"
      ]
     },
     "execution_count": 34,
     "metadata": {},
     "output_type": "execute_result"
    }
   ],
   "source": [
    "# check for correlation between nationality and other columns\n",
    "customers.select_dtypes(include=[np.number]).corr()['TotalRevenue'].sort_values(ascending=False)"
   ]
  },
  {
   "cell_type": "code",
   "execution_count": 35,
   "metadata": {},
   "outputs": [],
   "source": [
    "# # Revenue per country\n",
    "# list_of_countries_revenue = customers.groupby('Nationality')['TotalRevenue'].sum().reset_index()\n",
    "# list_of_countries_revenue.set_index('Nationality', inplace=True)\n",
    "\n",
    "# number_of_clients = data['Nationality'].value_counts().reset_index()\n",
    "# number_of_clients.set_index('Nationality', inplace=True)"
   ]
  },
  {
   "cell_type": "code",
   "execution_count": 36,
   "metadata": {},
   "outputs": [],
   "source": [
    "\n",
    "# country_counts = customers['Nationality'].value_counts().reset_index()\n",
    "# country_counts.columns = ['ISO_A3', 'clients']\n",
    "\n",
    "# world = gpd.read_file(\"../ne_10m_admin_0_countries/ne_10m_admin_0_countries.shp\")"
   ]
  },
  {
   "cell_type": "code",
   "execution_count": 37,
   "metadata": {},
   "outputs": [],
   "source": [
    "# Merge the world map with client data\n",
    "# world = world.merge(country_counts, how=\"left\", left_on=\"ISO_A3_EH\", right_on=\"ISO_A3\")\n",
    "\n",
    "# Fill missing values with 0 (countries with no clients)\n",
    "# world[\"clients\"] = world[\"clients\"].apply(lambda x: 0 if x < 1 else x)"
   ]
  },
  {
   "cell_type": "code",
   "execution_count": 38,
   "metadata": {},
   "outputs": [],
   "source": [
    "# world = world.dropna(subset='clients')"
   ]
  },
  {
   "cell_type": "code",
   "execution_count": 39,
   "metadata": {},
   "outputs": [],
   "source": [
    "#country_counts"
   ]
  },
  {
   "cell_type": "code",
   "execution_count": 40,
   "metadata": {},
   "outputs": [],
   "source": [
    "#country_counts['ISO_A3'].value_counts()"
   ]
  },
  {
   "cell_type": "code",
   "execution_count": 41,
   "metadata": {},
   "outputs": [],
   "source": [
    "# columns_to_keep_worldviz = ['ISO_A3_EH', 'clients', 'geometry', 'NAME']\n",
    "# more_collumns_to_keep = ['TotalRevenue']\n",
    "# world_viz= world[columns_to_keep_worldviz]\n",
    "# world_viz.set_index('ISO_A3_EH', inplace=True)\n",
    "# world_viz[more_collumns_to_keep] = list_of_countries_revenue[more_collumns_to_keep]\n",
    "# world_viz.reset_index(inplace=True)"
   ]
  },
  {
   "cell_type": "code",
   "execution_count": 42,
   "metadata": {},
   "outputs": [],
   "source": [
    "# Please choose a better set of colours\n",
    "\n",
    "# m = world_viz.explore(column='clients', cmap='hot', legend=False, edgecolor='black', linewidth=0.8, legend_name='Number of Clients')"
   ]
  },
  {
   "cell_type": "code",
   "execution_count": 43,
   "metadata": {},
   "outputs": [],
   "source": [
    "#m"
   ]
  },
  {
   "cell_type": "markdown",
   "metadata": {},
   "source": [
    "<a class=\"anchor\" id=\"sub-section-1_5_1_2\">\n",
    "\n",
    "#### 1.5.1.2. Distribution Channel\n",
    "    \n",
    "</a>"
   ]
  },
  {
   "cell_type": "markdown",
   "metadata": {},
   "source": [
    "**Insights:**\n",
    "\n",
    "- Most bookings are made through a Travel Agent/Operator (~84%)\n",
    "- Only 13% of the bookings are made directly with the hotel."
   ]
  },
  {
   "cell_type": "code",
   "execution_count": 44,
   "metadata": {},
   "outputs": [
    {
     "data": {
      "text/plain": [
       "DistributionChannel\n",
       "Travel Agent/Operator    48664\n",
       "Direct                    7537\n",
       "Corporate                  513\n",
       "GDS Systems                 47\n",
       "Name: count, dtype: int64"
      ]
     },
     "execution_count": 44,
     "metadata": {},
     "output_type": "execute_result"
    }
   ],
   "source": [
    "# Check the distribution of DistributionChannel\n",
    "distribution_channel = customers[\"DistributionChannel\"].value_counts()\n",
    "distribution_channel"
   ]
  },
  {
   "cell_type": "code",
   "execution_count": 45,
   "metadata": {},
   "outputs": [
    {
     "data": {
      "text/plain": [
       "DistributionChannel\n",
       "Travel Agent/Operator    85.73\n",
       "Direct                   13.28\n",
       "Corporate                 0.90\n",
       "GDS Systems               0.08\n",
       "Name: count, dtype: float64"
      ]
     },
     "execution_count": 45,
     "metadata": {},
     "output_type": "execute_result"
    }
   ],
   "source": [
    "# Compute the percentages of each distribution channel\n",
    "distribution_channel_percentages = round(distribution_channel/customers.shape[0]*100,2)\n",
    "distribution_channel_percentages"
   ]
  },
  {
   "cell_type": "code",
   "execution_count": 46,
   "metadata": {},
   "outputs": [
    {
     "data": {
      "image/png": "[encoded data removed]",
      "text/plain": [
       "<Figure size 1200x600 with 1 Axes>"
      ]
     },
     "metadata": {},
     "output_type": "display_data"
    }
   ],
   "source": [
    "# Plot a bar chart \n",
    "plt.figure(figsize=(12, 6))\n",
    "distribution_channel.plot(kind=\"bar\", edgecolor=\"black\")\n",
    "plt.title(\"Distribution Channel\", fontsize=16)\n",
    "plt.ylabel(\"Customer Count\", fontsize=12)\n",
    "plt.xticks(rotation=0)\n",
    "plt.show()"
   ]
  },
  {
   "cell_type": "markdown",
   "metadata": {},
   "source": [
    "<a class=\"anchor\" id=\"sub-section-1_5_2\">\n",
    "\n",
    "### 1.5.2. Numerical Variables\n",
    "    \n",
    "</a>"
   ]
  },
  {
   "cell_type": "markdown",
   "metadata": {},
   "source": [
    "<a class=\"anchor\" id=\"sub-section-1_5_2_1\">\n",
    "\n",
    "#### 1.5.2.1. Age\n",
    "    \n",
    "</a>"
   ]
  },
  {
   "cell_type": "markdown",
   "metadata": {},
   "source": [
    "**Insights:**\n",
    "\n",
    "- There were 218 missing values;\n",
    "- Only 0.01% (10) of customers are above 90 years old. We decided to drop them, as we considered them outliers.\n",
    "- Cases where age was negative were turn into NaN.\n",
    "- Missing values were filled using KNN Imputer for the 5 nearners neighbors. <br>\n",
    "\n",
    "`The average age is 48.53 and the median age is 48.0.`"
   ]
  },
  {
   "cell_type": "code",
   "execution_count": 47,
   "metadata": {},
   "outputs": [
    {
     "name": "stdout",
     "output_type": "stream",
     "text": [
      "There are 145 missing values in the Age column.\n"
     ]
    }
   ],
   "source": [
    "# Check missing values in age column\n",
    "missing_age = customers['Age'].isnull().sum()\n",
    "print(f'There are {missing_age} missing values in the Age column.')"
   ]
  },
  {
   "cell_type": "code",
   "execution_count": 48,
   "metadata": {},
   "outputs": [
    {
     "name": "stdout",
     "output_type": "stream",
     "text": [
      "The minimum age is -9.0 and the maximum age is 115.0.\n"
     ]
    }
   ],
   "source": [
    "# Check the min and max values of Age\n",
    "min_age = customers['Age'].min()\n",
    "max_age = customers['Age'].max()\n",
    "print(f'The minimum age is {min_age} and the maximum age is {max_age}.')"
   ]
  },
  {
   "cell_type": "code",
   "execution_count": 49,
   "metadata": {},
   "outputs": [
    {
     "data": {
      "text/plain": [
       "Age                     1.000000\n",
       "AverageLeadTime         0.244571\n",
       "OtherRevenue            0.067943\n",
       "SRTwinBed               0.052724\n",
       "DaysSinceCreation       0.047497\n",
       "SRLowFloor              0.016834\n",
       "SRNearElevator          0.015930\n",
       "SRQuietRoom             0.013793\n",
       "BookingsCheckedIn       0.013550\n",
       "SRMediumFloor           0.008957\n",
       "SRAwayFromElevator      0.008704\n",
       "BookingsNoShowed        0.006561\n",
       "BookingsCanceled        0.005543\n",
       "SRShower                0.004729\n",
       "SRAccessibleRoom        0.002779\n",
       "RoomNights             -0.003115\n",
       "SRNoAlcoholInMiniBar   -0.006547\n",
       "SRKingSizeBed          -0.022162\n",
       "SRBathtub              -0.022302\n",
       "SRHighFloor            -0.031224\n",
       "PersonsNights          -0.033966\n",
       "TotalRevenue           -0.047708\n",
       "SRCrib                 -0.080374\n",
       "LodgingRevenue         -0.081543\n",
       "Name: Age, dtype: float64"
      ]
     },
     "execution_count": 49,
     "metadata": {},
     "output_type": "execute_result"
    }
   ],
   "source": [
    "# Check age correlation with other columns \n",
    "customers.select_dtypes(include=[np.number]).corr()['Age'].sort_values(ascending=False)"
   ]
  },
  {
   "cell_type": "markdown",
   "metadata": {},
   "source": [
    "Our goal by checking this correlation was to see if any variable was correlated with age enough, that we could use in a predictive model to predict age. Since the highest correlated variable is 25% correlation, we discarded this idea, and just assumed to input with KNNimputer."
   ]
  },
  {
   "cell_type": "code",
   "execution_count": 50,
   "metadata": {},
   "outputs": [
    {
     "name": "stdout",
     "output_type": "stream",
     "text": [
      "There are 6 cases where age is negative\n"
     ]
    },
    {
     "data": {
      "text/html": [
       "<div>\n",
       "<style scoped>\n",
       "    .dataframe tbody tr th:only-of-type {\n",
       "        vertical-align: middle;\n",
       "    }\n",
       "\n",
       "    .dataframe tbody tr th {\n",
       "        vertical-align: top;\n",
       "    }\n",
       "\n",
       "    .dataframe thead th {\n",
       "        text-align: right;\n",
       "    }\n",
       "</style>\n",
       "<table border=\"1\" class=\"dataframe\">\n",
       "  <thead>\n",
       "    <tr style=\"text-align: right;\">\n",
       "      <th></th>\n",
       "      <th>Nationality</th>\n",
       "      <th>Age</th>\n",
       "      <th>DaysSinceCreation</th>\n",
       "      <th>AverageLeadTime</th>\n",
       "      <th>LodgingRevenue</th>\n",
       "      <th>OtherRevenue</th>\n",
       "      <th>BookingsCanceled</th>\n",
       "      <th>BookingsNoShowed</th>\n",
       "      <th>BookingsCheckedIn</th>\n",
       "      <th>PersonsNights</th>\n",
       "      <th>RoomNights</th>\n",
       "      <th>DistributionChannel</th>\n",
       "      <th>SRHighFloor</th>\n",
       "      <th>SRLowFloor</th>\n",
       "      <th>SRAccessibleRoom</th>\n",
       "      <th>SRMediumFloor</th>\n",
       "      <th>SRBathtub</th>\n",
       "      <th>SRShower</th>\n",
       "      <th>SRCrib</th>\n",
       "      <th>SRKingSizeBed</th>\n",
       "      <th>SRTwinBed</th>\n",
       "      <th>SRNearElevator</th>\n",
       "      <th>SRAwayFromElevator</th>\n",
       "      <th>SRNoAlcoholInMiniBar</th>\n",
       "      <th>SRQuietRoom</th>\n",
       "      <th>TotalRevenue</th>\n",
       "    </tr>\n",
       "    <tr>\n",
       "      <th>ID</th>\n",
       "      <th></th>\n",
       "      <th></th>\n",
       "      <th></th>\n",
       "      <th></th>\n",
       "      <th></th>\n",
       "      <th></th>\n",
       "      <th></th>\n",
       "      <th></th>\n",
       "      <th></th>\n",
       "      <th></th>\n",
       "      <th></th>\n",
       "      <th></th>\n",
       "      <th></th>\n",
       "      <th></th>\n",
       "      <th></th>\n",
       "      <th></th>\n",
       "      <th></th>\n",
       "      <th></th>\n",
       "      <th></th>\n",
       "      <th></th>\n",
       "      <th></th>\n",
       "      <th></th>\n",
       "      <th></th>\n",
       "      <th></th>\n",
       "      <th></th>\n",
       "      <th></th>\n",
       "    </tr>\n",
       "  </thead>\n",
       "  <tbody>\n",
       "    <tr>\n",
       "      <th>5128</th>\n",
       "      <td>FRA</td>\n",
       "      <td>-8.0</td>\n",
       "      <td>1271</td>\n",
       "      <td>66</td>\n",
       "      <td>93.30</td>\n",
       "      <td>14.0</td>\n",
       "      <td>0</td>\n",
       "      <td>0</td>\n",
       "      <td>1</td>\n",
       "      <td>2</td>\n",
       "      <td>1</td>\n",
       "      <td>Travel Agent/Operator</td>\n",
       "      <td>0</td>\n",
       "      <td>0</td>\n",
       "      <td>0</td>\n",
       "      <td>0</td>\n",
       "      <td>0</td>\n",
       "      <td>0</td>\n",
       "      <td>0</td>\n",
       "      <td>1</td>\n",
       "      <td>0</td>\n",
       "      <td>0</td>\n",
       "      <td>0</td>\n",
       "      <td>0</td>\n",
       "      <td>0</td>\n",
       "      <td>107.30</td>\n",
       "    </tr>\n",
       "    <tr>\n",
       "      <th>8361</th>\n",
       "      <td>DEU</td>\n",
       "      <td>-6.0</td>\n",
       "      <td>1217</td>\n",
       "      <td>256</td>\n",
       "      <td>126.00</td>\n",
       "      <td>109.0</td>\n",
       "      <td>0</td>\n",
       "      <td>0</td>\n",
       "      <td>1</td>\n",
       "      <td>4</td>\n",
       "      <td>2</td>\n",
       "      <td>Travel Agent/Operator</td>\n",
       "      <td>0</td>\n",
       "      <td>0</td>\n",
       "      <td>0</td>\n",
       "      <td>0</td>\n",
       "      <td>0</td>\n",
       "      <td>0</td>\n",
       "      <td>0</td>\n",
       "      <td>0</td>\n",
       "      <td>1</td>\n",
       "      <td>0</td>\n",
       "      <td>0</td>\n",
       "      <td>0</td>\n",
       "      <td>0</td>\n",
       "      <td>235.00</td>\n",
       "    </tr>\n",
       "    <tr>\n",
       "      <th>9920</th>\n",
       "      <td>DZA</td>\n",
       "      <td>-5.0</td>\n",
       "      <td>1193</td>\n",
       "      <td>54</td>\n",
       "      <td>138.93</td>\n",
       "      <td>29.5</td>\n",
       "      <td>0</td>\n",
       "      <td>0</td>\n",
       "      <td>1</td>\n",
       "      <td>4</td>\n",
       "      <td>1</td>\n",
       "      <td>Travel Agent/Operator</td>\n",
       "      <td>0</td>\n",
       "      <td>0</td>\n",
       "      <td>0</td>\n",
       "      <td>0</td>\n",
       "      <td>0</td>\n",
       "      <td>0</td>\n",
       "      <td>0</td>\n",
       "      <td>1</td>\n",
       "      <td>0</td>\n",
       "      <td>0</td>\n",
       "      <td>0</td>\n",
       "      <td>0</td>\n",
       "      <td>0</td>\n",
       "      <td>168.43</td>\n",
       "    </tr>\n",
       "    <tr>\n",
       "      <th>10663</th>\n",
       "      <td>DEU</td>\n",
       "      <td>-9.0</td>\n",
       "      <td>1181</td>\n",
       "      <td>292</td>\n",
       "      <td>126.00</td>\n",
       "      <td>113.0</td>\n",
       "      <td>0</td>\n",
       "      <td>0</td>\n",
       "      <td>1</td>\n",
       "      <td>4</td>\n",
       "      <td>2</td>\n",
       "      <td>Travel Agent/Operator</td>\n",
       "      <td>0</td>\n",
       "      <td>0</td>\n",
       "      <td>0</td>\n",
       "      <td>0</td>\n",
       "      <td>0</td>\n",
       "      <td>0</td>\n",
       "      <td>0</td>\n",
       "      <td>0</td>\n",
       "      <td>0</td>\n",
       "      <td>0</td>\n",
       "      <td>0</td>\n",
       "      <td>0</td>\n",
       "      <td>0</td>\n",
       "      <td>239.00</td>\n",
       "    </tr>\n",
       "    <tr>\n",
       "      <th>20407</th>\n",
       "      <td>USA</td>\n",
       "      <td>-8.0</td>\n",
       "      <td>1022</td>\n",
       "      <td>163</td>\n",
       "      <td>939.60</td>\n",
       "      <td>303.3</td>\n",
       "      <td>0</td>\n",
       "      <td>0</td>\n",
       "      <td>1</td>\n",
       "      <td>9</td>\n",
       "      <td>3</td>\n",
       "      <td>Travel Agent/Operator</td>\n",
       "      <td>0</td>\n",
       "      <td>0</td>\n",
       "      <td>0</td>\n",
       "      <td>0</td>\n",
       "      <td>0</td>\n",
       "      <td>0</td>\n",
       "      <td>0</td>\n",
       "      <td>0</td>\n",
       "      <td>1</td>\n",
       "      <td>0</td>\n",
       "      <td>0</td>\n",
       "      <td>0</td>\n",
       "      <td>0</td>\n",
       "      <td>1242.90</td>\n",
       "    </tr>\n",
       "    <tr>\n",
       "      <th>57358</th>\n",
       "      <td>PRT</td>\n",
       "      <td>-5.0</td>\n",
       "      <td>510</td>\n",
       "      <td>130</td>\n",
       "      <td>388.80</td>\n",
       "      <td>47.2</td>\n",
       "      <td>0</td>\n",
       "      <td>0</td>\n",
       "      <td>1</td>\n",
       "      <td>8</td>\n",
       "      <td>4</td>\n",
       "      <td>Travel Agent/Operator</td>\n",
       "      <td>0</td>\n",
       "      <td>0</td>\n",
       "      <td>0</td>\n",
       "      <td>0</td>\n",
       "      <td>0</td>\n",
       "      <td>0</td>\n",
       "      <td>0</td>\n",
       "      <td>0</td>\n",
       "      <td>0</td>\n",
       "      <td>0</td>\n",
       "      <td>0</td>\n",
       "      <td>0</td>\n",
       "      <td>0</td>\n",
       "      <td>436.00</td>\n",
       "    </tr>\n",
       "  </tbody>\n",
       "</table>\n",
       "</div>"
      ],
      "text/plain": [
       "      Nationality  Age  DaysSinceCreation  AverageLeadTime  LodgingRevenue  \\\n",
       "ID                                                                           \n",
       "5128          FRA -8.0               1271               66           93.30   \n",
       "8361          DEU -6.0               1217              256          126.00   \n",
       "9920          DZA -5.0               1193               54          138.93   \n",
       "10663         DEU -9.0               1181              292          126.00   \n",
       "20407         USA -8.0               1022              163          939.60   \n",
       "57358         PRT -5.0                510              130          388.80   \n",
       "\n",
       "       OtherRevenue  BookingsCanceled  BookingsNoShowed  BookingsCheckedIn  \\\n",
       "ID                                                                           \n",
       "5128           14.0                 0                 0                  1   \n",
       "8361          109.0                 0                 0                  1   \n",
       "9920           29.5                 0                 0                  1   \n",
       "10663         113.0                 0                 0                  1   \n",
       "20407         303.3                 0                 0                  1   \n",
       "57358          47.2                 0                 0                  1   \n",
       "\n",
       "       PersonsNights  RoomNights    DistributionChannel  SRHighFloor  \\\n",
       "ID                                                                     \n",
       "5128               2           1  Travel Agent/Operator            0   \n",
       "8361               4           2  Travel Agent/Operator            0   \n",
       "9920               4           1  Travel Agent/Operator            0   \n",
       "10663              4           2  Travel Agent/Operator            0   \n",
       "20407              9           3  Travel Agent/Operator            0   \n",
       "57358              8           4  Travel Agent/Operator            0   \n",
       "\n",
       "       SRLowFloor  SRAccessibleRoom  SRMediumFloor  SRBathtub  SRShower  \\\n",
       "ID                                                                        \n",
       "5128            0                 0              0          0         0   \n",
       "8361            0                 0              0          0         0   \n",
       "9920            0                 0              0          0         0   \n",
       "10663           0                 0              0          0         0   \n",
       "20407           0                 0              0          0         0   \n",
       "57358           0                 0              0          0         0   \n",
       "\n",
       "       SRCrib  SRKingSizeBed  SRTwinBed  SRNearElevator  SRAwayFromElevator  \\\n",
       "ID                                                                            \n",
       "5128        0              1          0               0                   0   \n",
       "8361        0              0          1               0                   0   \n",
       "9920        0              1          0               0                   0   \n",
       "10663       0              0          0               0                   0   \n",
       "20407       0              0          1               0                   0   \n",
       "57358       0              0          0               0                   0   \n",
       "\n",
       "       SRNoAlcoholInMiniBar  SRQuietRoom  TotalRevenue  \n",
       "ID                                                      \n",
       "5128                      0            0        107.30  \n",
       "8361                      0            0        235.00  \n",
       "9920                      0            0        168.43  \n",
       "10663                     0            0        239.00  \n",
       "20407                     0            0       1242.90  \n",
       "57358                     0            0        436.00  "
      ]
     },
     "execution_count": 50,
     "metadata": {},
     "output_type": "execute_result"
    }
   ],
   "source": [
    "# Check cases where age is negative\n",
    "print(f'There are {len(customers[customers['Age'] < 0])} cases where age is negative')\n",
    "customers[customers['Age'] < 0]"
   ]
  },
  {
   "cell_type": "code",
   "execution_count": 51,
   "metadata": {},
   "outputs": [
    {
     "name": "stdout",
     "output_type": "stream",
     "text": [
      "There are 8 cases where age is above 90 years old, which corresponds to 0.01% of the data.\n"
     ]
    },
    {
     "data": {
      "text/html": [
       "<div>\n",
       "<style scoped>\n",
       "    .dataframe tbody tr th:only-of-type {\n",
       "        vertical-align: middle;\n",
       "    }\n",
       "\n",
       "    .dataframe tbody tr th {\n",
       "        vertical-align: top;\n",
       "    }\n",
       "\n",
       "    .dataframe thead th {\n",
       "        text-align: right;\n",
       "    }\n",
       "</style>\n",
       "<table border=\"1\" class=\"dataframe\">\n",
       "  <thead>\n",
       "    <tr style=\"text-align: right;\">\n",
       "      <th></th>\n",
       "      <th>Nationality</th>\n",
       "      <th>Age</th>\n",
       "      <th>DaysSinceCreation</th>\n",
       "      <th>AverageLeadTime</th>\n",
       "      <th>LodgingRevenue</th>\n",
       "      <th>OtherRevenue</th>\n",
       "      <th>BookingsCanceled</th>\n",
       "      <th>BookingsNoShowed</th>\n",
       "      <th>BookingsCheckedIn</th>\n",
       "      <th>PersonsNights</th>\n",
       "      <th>RoomNights</th>\n",
       "      <th>DistributionChannel</th>\n",
       "      <th>SRHighFloor</th>\n",
       "      <th>SRLowFloor</th>\n",
       "      <th>SRAccessibleRoom</th>\n",
       "      <th>SRMediumFloor</th>\n",
       "      <th>SRBathtub</th>\n",
       "      <th>SRShower</th>\n",
       "      <th>SRCrib</th>\n",
       "      <th>SRKingSizeBed</th>\n",
       "      <th>SRTwinBed</th>\n",
       "      <th>SRNearElevator</th>\n",
       "      <th>SRAwayFromElevator</th>\n",
       "      <th>SRNoAlcoholInMiniBar</th>\n",
       "      <th>SRQuietRoom</th>\n",
       "      <th>TotalRevenue</th>\n",
       "    </tr>\n",
       "    <tr>\n",
       "      <th>ID</th>\n",
       "      <th></th>\n",
       "      <th></th>\n",
       "      <th></th>\n",
       "      <th></th>\n",
       "      <th></th>\n",
       "      <th></th>\n",
       "      <th></th>\n",
       "      <th></th>\n",
       "      <th></th>\n",
       "      <th></th>\n",
       "      <th></th>\n",
       "      <th></th>\n",
       "      <th></th>\n",
       "      <th></th>\n",
       "      <th></th>\n",
       "      <th></th>\n",
       "      <th></th>\n",
       "      <th></th>\n",
       "      <th></th>\n",
       "      <th></th>\n",
       "      <th></th>\n",
       "      <th></th>\n",
       "      <th></th>\n",
       "      <th></th>\n",
       "      <th></th>\n",
       "      <th></th>\n",
       "    </tr>\n",
       "  </thead>\n",
       "  <tbody>\n",
       "    <tr>\n",
       "      <th>3282</th>\n",
       "      <td>PRT</td>\n",
       "      <td>115.0</td>\n",
       "      <td>1305</td>\n",
       "      <td>22</td>\n",
       "      <td>79.00</td>\n",
       "      <td>25.5</td>\n",
       "      <td>0</td>\n",
       "      <td>0</td>\n",
       "      <td>1</td>\n",
       "      <td>2</td>\n",
       "      <td>1</td>\n",
       "      <td>Travel Agent/Operator</td>\n",
       "      <td>0</td>\n",
       "      <td>0</td>\n",
       "      <td>0</td>\n",
       "      <td>0</td>\n",
       "      <td>0</td>\n",
       "      <td>0</td>\n",
       "      <td>0</td>\n",
       "      <td>1</td>\n",
       "      <td>0</td>\n",
       "      <td>0</td>\n",
       "      <td>0</td>\n",
       "      <td>0</td>\n",
       "      <td>0</td>\n",
       "      <td>104.50</td>\n",
       "    </tr>\n",
       "    <tr>\n",
       "      <th>7425</th>\n",
       "      <td>DEU</td>\n",
       "      <td>92.0</td>\n",
       "      <td>1231</td>\n",
       "      <td>0</td>\n",
       "      <td>535.00</td>\n",
       "      <td>170.0</td>\n",
       "      <td>0</td>\n",
       "      <td>0</td>\n",
       "      <td>1</td>\n",
       "      <td>2</td>\n",
       "      <td>1</td>\n",
       "      <td>Travel Agent/Operator</td>\n",
       "      <td>0</td>\n",
       "      <td>0</td>\n",
       "      <td>0</td>\n",
       "      <td>0</td>\n",
       "      <td>0</td>\n",
       "      <td>0</td>\n",
       "      <td>0</td>\n",
       "      <td>0</td>\n",
       "      <td>0</td>\n",
       "      <td>0</td>\n",
       "      <td>0</td>\n",
       "      <td>0</td>\n",
       "      <td>0</td>\n",
       "      <td>705.00</td>\n",
       "    </tr>\n",
       "    <tr>\n",
       "      <th>19867</th>\n",
       "      <td>PRT</td>\n",
       "      <td>93.0</td>\n",
       "      <td>1039</td>\n",
       "      <td>18</td>\n",
       "      <td>68.00</td>\n",
       "      <td>14.0</td>\n",
       "      <td>0</td>\n",
       "      <td>0</td>\n",
       "      <td>1</td>\n",
       "      <td>2</td>\n",
       "      <td>1</td>\n",
       "      <td>Travel Agent/Operator</td>\n",
       "      <td>0</td>\n",
       "      <td>0</td>\n",
       "      <td>0</td>\n",
       "      <td>0</td>\n",
       "      <td>0</td>\n",
       "      <td>0</td>\n",
       "      <td>0</td>\n",
       "      <td>0</td>\n",
       "      <td>0</td>\n",
       "      <td>0</td>\n",
       "      <td>0</td>\n",
       "      <td>0</td>\n",
       "      <td>0</td>\n",
       "      <td>82.00</td>\n",
       "    </tr>\n",
       "    <tr>\n",
       "      <th>44525</th>\n",
       "      <td>DEU</td>\n",
       "      <td>114.0</td>\n",
       "      <td>627</td>\n",
       "      <td>7</td>\n",
       "      <td>234.00</td>\n",
       "      <td>34.5</td>\n",
       "      <td>0</td>\n",
       "      <td>0</td>\n",
       "      <td>1</td>\n",
       "      <td>4</td>\n",
       "      <td>2</td>\n",
       "      <td>Travel Agent/Operator</td>\n",
       "      <td>0</td>\n",
       "      <td>0</td>\n",
       "      <td>0</td>\n",
       "      <td>0</td>\n",
       "      <td>0</td>\n",
       "      <td>0</td>\n",
       "      <td>0</td>\n",
       "      <td>1</td>\n",
       "      <td>0</td>\n",
       "      <td>0</td>\n",
       "      <td>0</td>\n",
       "      <td>0</td>\n",
       "      <td>0</td>\n",
       "      <td>268.50</td>\n",
       "    </tr>\n",
       "    <tr>\n",
       "      <th>62694</th>\n",
       "      <td>NOR</td>\n",
       "      <td>97.0</td>\n",
       "      <td>467</td>\n",
       "      <td>87</td>\n",
       "      <td>734.00</td>\n",
       "      <td>24.0</td>\n",
       "      <td>0</td>\n",
       "      <td>0</td>\n",
       "      <td>1</td>\n",
       "      <td>12</td>\n",
       "      <td>6</td>\n",
       "      <td>Travel Agent/Operator</td>\n",
       "      <td>0</td>\n",
       "      <td>0</td>\n",
       "      <td>0</td>\n",
       "      <td>0</td>\n",
       "      <td>0</td>\n",
       "      <td>0</td>\n",
       "      <td>0</td>\n",
       "      <td>0</td>\n",
       "      <td>1</td>\n",
       "      <td>0</td>\n",
       "      <td>0</td>\n",
       "      <td>0</td>\n",
       "      <td>0</td>\n",
       "      <td>758.00</td>\n",
       "    </tr>\n",
       "    <tr>\n",
       "      <th>72434</th>\n",
       "      <td>PRT</td>\n",
       "      <td>91.0</td>\n",
       "      <td>396</td>\n",
       "      <td>254</td>\n",
       "      <td>226.00</td>\n",
       "      <td>28.0</td>\n",
       "      <td>0</td>\n",
       "      <td>0</td>\n",
       "      <td>1</td>\n",
       "      <td>4</td>\n",
       "      <td>2</td>\n",
       "      <td>Travel Agent/Operator</td>\n",
       "      <td>0</td>\n",
       "      <td>0</td>\n",
       "      <td>0</td>\n",
       "      <td>0</td>\n",
       "      <td>0</td>\n",
       "      <td>0</td>\n",
       "      <td>0</td>\n",
       "      <td>1</td>\n",
       "      <td>0</td>\n",
       "      <td>0</td>\n",
       "      <td>0</td>\n",
       "      <td>0</td>\n",
       "      <td>0</td>\n",
       "      <td>254.00</td>\n",
       "    </tr>\n",
       "    <tr>\n",
       "      <th>87089</th>\n",
       "      <td>PRT</td>\n",
       "      <td>111.0</td>\n",
       "      <td>244</td>\n",
       "      <td>18</td>\n",
       "      <td>210.00</td>\n",
       "      <td>52.0</td>\n",
       "      <td>0</td>\n",
       "      <td>0</td>\n",
       "      <td>1</td>\n",
       "      <td>4</td>\n",
       "      <td>2</td>\n",
       "      <td>Direct</td>\n",
       "      <td>1</td>\n",
       "      <td>0</td>\n",
       "      <td>0</td>\n",
       "      <td>0</td>\n",
       "      <td>0</td>\n",
       "      <td>0</td>\n",
       "      <td>0</td>\n",
       "      <td>1</td>\n",
       "      <td>0</td>\n",
       "      <td>0</td>\n",
       "      <td>0</td>\n",
       "      <td>0</td>\n",
       "      <td>0</td>\n",
       "      <td>262.00</td>\n",
       "    </tr>\n",
       "    <tr>\n",
       "      <th>99523</th>\n",
       "      <td>ITA</td>\n",
       "      <td>93.0</td>\n",
       "      <td>136</td>\n",
       "      <td>6</td>\n",
       "      <td>210.48</td>\n",
       "      <td>16.0</td>\n",
       "      <td>0</td>\n",
       "      <td>0</td>\n",
       "      <td>1</td>\n",
       "      <td>2</td>\n",
       "      <td>1</td>\n",
       "      <td>Travel Agent/Operator</td>\n",
       "      <td>0</td>\n",
       "      <td>0</td>\n",
       "      <td>0</td>\n",
       "      <td>0</td>\n",
       "      <td>0</td>\n",
       "      <td>1</td>\n",
       "      <td>0</td>\n",
       "      <td>1</td>\n",
       "      <td>0</td>\n",
       "      <td>1</td>\n",
       "      <td>0</td>\n",
       "      <td>0</td>\n",
       "      <td>0</td>\n",
       "      <td>226.48</td>\n",
       "    </tr>\n",
       "  </tbody>\n",
       "</table>\n",
       "</div>"
      ],
      "text/plain": [
       "      Nationality    Age  DaysSinceCreation  AverageLeadTime  LodgingRevenue  \\\n",
       "ID                                                                             \n",
       "3282          PRT  115.0               1305               22           79.00   \n",
       "7425          DEU   92.0               1231                0          535.00   \n",
       "19867         PRT   93.0               1039               18           68.00   \n",
       "44525         DEU  114.0                627                7          234.00   \n",
       "62694         NOR   97.0                467               87          734.00   \n",
       "72434         PRT   91.0                396              254          226.00   \n",
       "87089         PRT  111.0                244               18          210.00   \n",
       "99523         ITA   93.0                136                6          210.48   \n",
       "\n",
       "       OtherRevenue  BookingsCanceled  BookingsNoShowed  BookingsCheckedIn  \\\n",
       "ID                                                                           \n",
       "3282           25.5                 0                 0                  1   \n",
       "7425          170.0                 0                 0                  1   \n",
       "19867          14.0                 0                 0                  1   \n",
       "44525          34.5                 0                 0                  1   \n",
       "62694          24.0                 0                 0                  1   \n",
       "72434          28.0                 0                 0                  1   \n",
       "87089          52.0                 0                 0                  1   \n",
       "99523          16.0                 0                 0                  1   \n",
       "\n",
       "       PersonsNights  RoomNights    DistributionChannel  SRHighFloor  \\\n",
       "ID                                                                     \n",
       "3282               2           1  Travel Agent/Operator            0   \n",
       "7425               2           1  Travel Agent/Operator            0   \n",
       "19867              2           1  Travel Agent/Operator            0   \n",
       "44525              4           2  Travel Agent/Operator            0   \n",
       "62694             12           6  Travel Agent/Operator            0   \n",
       "72434              4           2  Travel Agent/Operator            0   \n",
       "87089              4           2                 Direct            1   \n",
       "99523              2           1  Travel Agent/Operator            0   \n",
       "\n",
       "       SRLowFloor  SRAccessibleRoom  SRMediumFloor  SRBathtub  SRShower  \\\n",
       "ID                                                                        \n",
       "3282            0                 0              0          0         0   \n",
       "7425            0                 0              0          0         0   \n",
       "19867           0                 0              0          0         0   \n",
       "44525           0                 0              0          0         0   \n",
       "62694           0                 0              0          0         0   \n",
       "72434           0                 0              0          0         0   \n",
       "87089           0                 0              0          0         0   \n",
       "99523           0                 0              0          0         1   \n",
       "\n",
       "       SRCrib  SRKingSizeBed  SRTwinBed  SRNearElevator  SRAwayFromElevator  \\\n",
       "ID                                                                            \n",
       "3282        0              1          0               0                   0   \n",
       "7425        0              0          0               0                   0   \n",
       "19867       0              0          0               0                   0   \n",
       "44525       0              1          0               0                   0   \n",
       "62694       0              0          1               0                   0   \n",
       "72434       0              1          0               0                   0   \n",
       "87089       0              1          0               0                   0   \n",
       "99523       0              1          0               1                   0   \n",
       "\n",
       "       SRNoAlcoholInMiniBar  SRQuietRoom  TotalRevenue  \n",
       "ID                                                      \n",
       "3282                      0            0        104.50  \n",
       "7425                      0            0        705.00  \n",
       "19867                     0            0         82.00  \n",
       "44525                     0            0        268.50  \n",
       "62694                     0            0        758.00  \n",
       "72434                     0            0        254.00  \n",
       "87089                     0            0        262.00  \n",
       "99523                     0            0        226.48  "
      ]
     },
     "execution_count": 51,
     "metadata": {},
     "output_type": "execute_result"
    }
   ],
   "source": [
    "# Check cases where age is above 100\n",
    "print(f'There are {len(customers[customers['Age'] > 90])} cases where age is above 90 years old, which corresponds to {len(customers[customers[\"Age\"] > 90])/len(customers)*100:.2f}% of the data.')\n",
    "customers[customers['Age'] > 90]"
   ]
  },
  {
   "cell_type": "code",
   "execution_count": 52,
   "metadata": {},
   "outputs": [],
   "source": [
    "# Drop rows where age is above 90\n",
    "customers = customers[customers['Age'] <= 90]"
   ]
  },
  {
   "cell_type": "code",
   "execution_count": 53,
   "metadata": {},
   "outputs": [],
   "source": [
    "# Turn the rows with age below 0 to NaN\n",
    "customers.loc[customers['Age'] < 0, 'Age'] = np.nan"
   ]
  },
  {
   "cell_type": "code",
   "execution_count": 54,
   "metadata": {},
   "outputs": [],
   "source": [
    "# Drop rows with Age<18\n",
    "customers = customers[customers['Age'] >= 18]"
   ]
  },
  {
   "cell_type": "code",
   "execution_count": 55,
   "metadata": {},
   "outputs": [],
   "source": [
    "from sklearn.impute import KNNImputer\n",
    "\n",
    "# Initialize KNNImputer with k neighbors\n",
    "imputer = KNNImputer(n_neighbors=5)  \n",
    "\n",
    "# Apply KNN imputation only to the 'Age' column\n",
    "customers[['Age']] = imputer.fit_transform(customers[['Age']])\n"
   ]
  },
  {
   "cell_type": "code",
   "execution_count": 56,
   "metadata": {},
   "outputs": [],
   "source": [
    "# Fill missing values with median\n",
    "# customers['Age'].fillna(customers['Age'].median(), inplace=True)"
   ]
  },
  {
   "cell_type": "code",
   "execution_count": 57,
   "metadata": {},
   "outputs": [
    {
     "name": "stdout",
     "output_type": "stream",
     "text": [
      "There are 0 missing values left in Age column.\n"
     ]
    }
   ],
   "source": [
    "# check for missing values in age\n",
    "print(f'There are {customers[\"Age\"].isnull().sum()} missing values left in Age column.')"
   ]
  },
  {
   "cell_type": "code",
   "execution_count": 58,
   "metadata": {},
   "outputs": [
    {
     "data": {
      "image/png": "[encoded data removed]",
      "text/plain": [
       "<Figure size 1200x600 with 1 Axes>"
      ]
     },
     "metadata": {},
     "output_type": "display_data"
    }
   ],
   "source": [
    "# Check the distribution of Age\n",
    "plt.figure(figsize=(12, 6))\n",
    "sns.histplot(customers['Age'])\n",
    "plt.title('Age Distribution')\n",
    "plt.show()\n"
   ]
  },
  {
   "cell_type": "code",
   "execution_count": 59,
   "metadata": {},
   "outputs": [
    {
     "name": "stdout",
     "output_type": "stream",
     "text": [
      "The average age is 48.75 and the median age is 49.0.\n"
     ]
    }
   ],
   "source": [
    "customers['Age'].agg(['mean', 'median'])\n",
    "print(f'The average age is {customers[\"Age\"].mean():.2f} and the median age is {customers[\"Age\"].median()}.')"
   ]
  },
  {
   "cell_type": "markdown",
   "metadata": {},
   "source": [
    "<a class=\"anchor\" id=\"sub-section-1_5_2_2\">\n",
    "\n",
    "#### 1.5.2.2. Days Since Creation\n",
    "    \n",
    "</a>"
   ]
  },
  {
   "cell_type": "code",
   "execution_count": 60,
   "metadata": {},
   "outputs": [
    {
     "data": {
      "image/png": "[encoded data removed]",
      "text/plain": [
       "<Figure size 1000x600 with 1 Axes>"
      ]
     },
     "metadata": {},
     "output_type": "display_data"
    }
   ],
   "source": [
    "# Plot the histogram\n",
    "plt.figure(figsize=(10, 6))\n",
    "plt.hist(customers[\"DaysSinceCreation\"], bins=40, edgecolor=\"black\")\n",
    "\n",
    "plt.title(\"Days Since Creation\", fontsize=16)\n",
    "plt.xlabel(\"Days Since Creation\", fontsize=12)\n",
    "plt.ylabel(\"Number of Customers\", fontsize=12)\n",
    "\n",
    "plt.tight_layout()  \n",
    "plt.show()"
   ]
  },
  {
   "cell_type": "markdown",
   "metadata": {},
   "source": [
    "Can distinguish peaks - high peak recently\n",
    "\n",
    "Groups \n",
    "* group < 365 (less than a year)\n",
    "* 365 < group < 730 (1-2 years)\n",
    "* 730 < group < 1095 (2-3 years)\n",
    "* 1095 < group (more than 3 years)"
   ]
  },
  {
   "cell_type": "code",
   "execution_count": 61,
   "metadata": {},
   "outputs": [
    {
     "data": {
      "image/png": "[encoded data removed]",
      "text/plain": [
       "<Figure size 1200x600 with 1 Axes>"
      ]
     },
     "metadata": {},
     "output_type": "display_data"
    }
   ],
   "source": [
    "# Define age ranges and their respective labels\n",
    "creation_date_bins = [0, 365, 730, 1095, float('inf')]\n",
    "creation_date_labels = [\"Less than 1 year\", \"1-2 years\", \"2-3 years\", \"More than 3 years\"]\n",
    "\n",
    "# .cut() segments into the bins and assigns to corresponding labels\n",
    "customers_numerical[\"YearsSinceCreation\"] = pd.cut(customers_numerical[\"DaysSinceCreation\"], bins=creation_date_bins, labels=creation_date_labels)\n",
    "\n",
    "# Plot a bar chart \n",
    "plt.figure(figsize=(12, 6))\n",
    "\n",
    "years_since_creation = customers_numerical[\"YearsSinceCreation\"].value_counts()\n",
    "\n",
    "years_since_creation.plot(kind=\"bar\", edgecolor=\"black\")\n",
    "\n",
    "plt.title(\"Years Since Creation\", fontsize=16)\n",
    "plt.ylabel(\"Customer Count\", fontsize=12)\n",
    "plt.xticks(rotation=45)\n",
    "plt.show()"
   ]
  },
  {
   "cell_type": "markdown",
   "metadata": {},
   "source": [
    "* Most customers are recent ones, i.e. within their first 2 years since joining\n",
    "* But there is a large spread (std = 374)"
   ]
  },
  {
   "cell_type": "markdown",
   "metadata": {},
   "source": [
    "<a class=\"anchor\" id=\"sub-section-1_5_2_3\">\n",
    "\n",
    "#### 1.5.2.3. Average Lead Time\n",
    "    \n",
    "</a>"
   ]
  },
  {
   "cell_type": "markdown",
   "metadata": {},
   "source": [
    "We found rows where AverageLeadTime was negative, so we dropped them."
   ]
  },
  {
   "cell_type": "code",
   "execution_count": 62,
   "metadata": {},
   "outputs": [
    {
     "name": "stdout",
     "output_type": "stream",
     "text": [
      "There are 0 missing values in the AverageLeadTime column.\n"
     ]
    }
   ],
   "source": [
    "# Check for missing values in AverageLeadTime\n",
    "missing_leadtime = customers['AverageLeadTime'].isnull().sum()\n",
    "print(f'There are {missing_leadtime} missing values in the AverageLeadTime column.')"
   ]
  },
  {
   "cell_type": "code",
   "execution_count": 63,
   "metadata": {},
   "outputs": [
    {
     "data": {
      "text/plain": [
       "Index(['Nationality', 'Age', 'DaysSinceCreation', 'AverageLeadTime',\n",
       "       'LodgingRevenue', 'OtherRevenue', 'BookingsCanceled',\n",
       "       'BookingsNoShowed', 'BookingsCheckedIn', 'PersonsNights', 'RoomNights',\n",
       "       'DistributionChannel', 'SRHighFloor', 'SRLowFloor', 'SRAccessibleRoom',\n",
       "       'SRMediumFloor', 'SRBathtub', 'SRShower', 'SRCrib', 'SRKingSizeBed',\n",
       "       'SRTwinBed', 'SRNearElevator', 'SRAwayFromElevator',\n",
       "       'SRNoAlcoholInMiniBar', 'SRQuietRoom', 'TotalRevenue'],\n",
       "      dtype='object')"
      ]
     },
     "execution_count": 63,
     "metadata": {},
     "output_type": "execute_result"
    }
   ],
   "source": [
    "customers.columns"
   ]
  },
  {
   "cell_type": "code",
   "execution_count": 64,
   "metadata": {},
   "outputs": [
    {
     "name": "stdout",
     "output_type": "stream",
     "text": [
      "The minimum lead time is -1 and the maximum lead time is 588.\n"
     ]
    }
   ],
   "source": [
    "# Check for min and max values in AverageLeadTime\n",
    "min_leadtime = customers['AverageLeadTime'].min()\n",
    "max_leadtime = customers['AverageLeadTime'].max()\n",
    "print(f'The minimum lead time is {min_leadtime} and the maximum lead time is {max_leadtime}.')"
   ]
  },
  {
   "cell_type": "code",
   "execution_count": 65,
   "metadata": {},
   "outputs": [
    {
     "name": "stdout",
     "output_type": "stream",
     "text": [
      "There are 12 cases where AverageLeadTime is negative.\n"
     ]
    }
   ],
   "source": [
    "# Check values where AverageLeadTime is negative\n",
    "negative_leadtime = customers[customers['AverageLeadTime'] < 0]\n",
    "print(f'There are {len(negative_leadtime)} cases where AverageLeadTime is negative.')"
   ]
  },
  {
   "cell_type": "code",
   "execution_count": 66,
   "metadata": {},
   "outputs": [],
   "source": [
    "# Drop rows where AverageLeadTime is negative\n",
    "customers = customers[customers['AverageLeadTime'] >= 0]"
   ]
  },
  {
   "cell_type": "markdown",
   "metadata": {},
   "source": [
    "<a class=\"anchor\" id=\"sub-section-1_5_2_4\">\n",
    "\n",
    "#### 1.5.2.4. Lodging Revenue\n",
    "    \n",
    "</a>"
   ]
  },
  {
   "cell_type": "markdown",
   "metadata": {},
   "source": [
    "We separated customers with lodging spending over 8k into a richcustomers dataframe, because they were outliers for the normal analysis."
   ]
  },
  {
   "cell_type": "code",
   "execution_count": 67,
   "metadata": {},
   "outputs": [
    {
     "name": "stdout",
     "output_type": "stream",
     "text": [
      "There are 0 missing values in the LodgingRevenue column.\n"
     ]
    }
   ],
   "source": [
    "# Check for missing values in LodgingRevenue\n",
    "missing_revenue = customers['LodgingRevenue'].isnull().sum()\n",
    "print(f'There are {missing_revenue} missing values in the LodgingRevenue column.')"
   ]
  },
  {
   "cell_type": "code",
   "execution_count": 68,
   "metadata": {},
   "outputs": [
    {
     "data": {
      "text/plain": [
       "count    55642.000000\n",
       "mean       421.335050\n",
       "std        368.063448\n",
       "min          0.000000\n",
       "25%        216.750000\n",
       "50%        331.000000\n",
       "75%        504.000000\n",
       "max      14044.800000\n",
       "Name: LodgingRevenue, dtype: float64"
      ]
     },
     "execution_count": 68,
     "metadata": {},
     "output_type": "execute_result"
    }
   ],
   "source": [
    "customers['LodgingRevenue'].describe().T"
   ]
  },
  {
   "cell_type": "code",
   "execution_count": 69,
   "metadata": {},
   "outputs": [
    {
     "data": {
      "image/png": "[encoded data removed]",
      "text/plain": [
       "<Figure size 1200x800 with 1 Axes>"
      ]
     },
     "metadata": {},
     "output_type": "display_data"
    }
   ],
   "source": [
    "plt.figure(figsize=(12, 8))\n",
    "sns.boxplot(x=customers['LodgingRevenue'], color='blue')\n",
    "plt.title('Lodging Revenue')\n",
    "plt.show()"
   ]
  },
  {
   "cell_type": "code",
   "execution_count": 70,
   "metadata": {},
   "outputs": [
    {
     "data": {
      "text/html": [
       "<div>\n",
       "<style scoped>\n",
       "    .dataframe tbody tr th:only-of-type {\n",
       "        vertical-align: middle;\n",
       "    }\n",
       "\n",
       "    .dataframe tbody tr th {\n",
       "        vertical-align: top;\n",
       "    }\n",
       "\n",
       "    .dataframe thead th {\n",
       "        text-align: right;\n",
       "    }\n",
       "</style>\n",
       "<table border=\"1\" class=\"dataframe\">\n",
       "  <thead>\n",
       "    <tr style=\"text-align: right;\">\n",
       "      <th></th>\n",
       "      <th>Nationality</th>\n",
       "      <th>Age</th>\n",
       "      <th>DaysSinceCreation</th>\n",
       "      <th>AverageLeadTime</th>\n",
       "      <th>LodgingRevenue</th>\n",
       "      <th>OtherRevenue</th>\n",
       "      <th>BookingsCanceled</th>\n",
       "      <th>BookingsNoShowed</th>\n",
       "      <th>BookingsCheckedIn</th>\n",
       "      <th>PersonsNights</th>\n",
       "      <th>RoomNights</th>\n",
       "      <th>DistributionChannel</th>\n",
       "      <th>SRHighFloor</th>\n",
       "      <th>SRLowFloor</th>\n",
       "      <th>SRAccessibleRoom</th>\n",
       "      <th>SRMediumFloor</th>\n",
       "      <th>SRBathtub</th>\n",
       "      <th>SRShower</th>\n",
       "      <th>SRCrib</th>\n",
       "      <th>SRKingSizeBed</th>\n",
       "      <th>SRTwinBed</th>\n",
       "      <th>SRNearElevator</th>\n",
       "      <th>SRAwayFromElevator</th>\n",
       "      <th>SRNoAlcoholInMiniBar</th>\n",
       "      <th>SRQuietRoom</th>\n",
       "      <th>TotalRevenue</th>\n",
       "    </tr>\n",
       "    <tr>\n",
       "      <th>ID</th>\n",
       "      <th></th>\n",
       "      <th></th>\n",
       "      <th></th>\n",
       "      <th></th>\n",
       "      <th></th>\n",
       "      <th></th>\n",
       "      <th></th>\n",
       "      <th></th>\n",
       "      <th></th>\n",
       "      <th></th>\n",
       "      <th></th>\n",
       "      <th></th>\n",
       "      <th></th>\n",
       "      <th></th>\n",
       "      <th></th>\n",
       "      <th></th>\n",
       "      <th></th>\n",
       "      <th></th>\n",
       "      <th></th>\n",
       "      <th></th>\n",
       "      <th></th>\n",
       "      <th></th>\n",
       "      <th></th>\n",
       "      <th></th>\n",
       "      <th></th>\n",
       "      <th></th>\n",
       "    </tr>\n",
       "  </thead>\n",
       "  <tbody>\n",
       "    <tr>\n",
       "      <th>23967</th>\n",
       "      <td>USA</td>\n",
       "      <td>24.0</td>\n",
       "      <td>949</td>\n",
       "      <td>7</td>\n",
       "      <td>9682.40</td>\n",
       "      <td>1300.0</td>\n",
       "      <td>0</td>\n",
       "      <td>0</td>\n",
       "      <td>1</td>\n",
       "      <td>12</td>\n",
       "      <td>6</td>\n",
       "      <td>Travel Agent/Operator</td>\n",
       "      <td>0</td>\n",
       "      <td>0</td>\n",
       "      <td>0</td>\n",
       "      <td>0</td>\n",
       "      <td>0</td>\n",
       "      <td>0</td>\n",
       "      <td>0</td>\n",
       "      <td>0</td>\n",
       "      <td>0</td>\n",
       "      <td>0</td>\n",
       "      <td>0</td>\n",
       "      <td>0</td>\n",
       "      <td>0</td>\n",
       "      <td>10982.40</td>\n",
       "    </tr>\n",
       "    <tr>\n",
       "      <th>38718</th>\n",
       "      <td>NAM</td>\n",
       "      <td>63.0</td>\n",
       "      <td>734</td>\n",
       "      <td>2</td>\n",
       "      <td>9180.00</td>\n",
       "      <td>1144.5</td>\n",
       "      <td>1</td>\n",
       "      <td>0</td>\n",
       "      <td>2</td>\n",
       "      <td>16</td>\n",
       "      <td>8</td>\n",
       "      <td>Direct</td>\n",
       "      <td>0</td>\n",
       "      <td>0</td>\n",
       "      <td>0</td>\n",
       "      <td>0</td>\n",
       "      <td>0</td>\n",
       "      <td>0</td>\n",
       "      <td>0</td>\n",
       "      <td>0</td>\n",
       "      <td>0</td>\n",
       "      <td>0</td>\n",
       "      <td>0</td>\n",
       "      <td>0</td>\n",
       "      <td>0</td>\n",
       "      <td>10324.50</td>\n",
       "    </tr>\n",
       "    <tr>\n",
       "      <th>42504</th>\n",
       "      <td>DEU</td>\n",
       "      <td>52.0</td>\n",
       "      <td>669</td>\n",
       "      <td>65</td>\n",
       "      <td>9665.66</td>\n",
       "      <td>2265.0</td>\n",
       "      <td>0</td>\n",
       "      <td>0</td>\n",
       "      <td>1</td>\n",
       "      <td>10</td>\n",
       "      <td>5</td>\n",
       "      <td>Travel Agent/Operator</td>\n",
       "      <td>0</td>\n",
       "      <td>0</td>\n",
       "      <td>0</td>\n",
       "      <td>0</td>\n",
       "      <td>0</td>\n",
       "      <td>0</td>\n",
       "      <td>0</td>\n",
       "      <td>0</td>\n",
       "      <td>0</td>\n",
       "      <td>0</td>\n",
       "      <td>0</td>\n",
       "      <td>0</td>\n",
       "      <td>0</td>\n",
       "      <td>11930.66</td>\n",
       "    </tr>\n",
       "    <tr>\n",
       "      <th>105702</th>\n",
       "      <td>DNK</td>\n",
       "      <td>51.0</td>\n",
       "      <td>83</td>\n",
       "      <td>160</td>\n",
       "      <td>14044.80</td>\n",
       "      <td>2891.5</td>\n",
       "      <td>0</td>\n",
       "      <td>0</td>\n",
       "      <td>1</td>\n",
       "      <td>24</td>\n",
       "      <td>12</td>\n",
       "      <td>Travel Agent/Operator</td>\n",
       "      <td>0</td>\n",
       "      <td>0</td>\n",
       "      <td>0</td>\n",
       "      <td>0</td>\n",
       "      <td>0</td>\n",
       "      <td>0</td>\n",
       "      <td>0</td>\n",
       "      <td>0</td>\n",
       "      <td>0</td>\n",
       "      <td>0</td>\n",
       "      <td>0</td>\n",
       "      <td>0</td>\n",
       "      <td>0</td>\n",
       "      <td>16936.30</td>\n",
       "    </tr>\n",
       "  </tbody>\n",
       "</table>\n",
       "</div>"
      ],
      "text/plain": [
       "       Nationality   Age  DaysSinceCreation  AverageLeadTime  LodgingRevenue  \\\n",
       "ID                                                                             \n",
       "23967          USA  24.0                949                7         9682.40   \n",
       "38718          NAM  63.0                734                2         9180.00   \n",
       "42504          DEU  52.0                669               65         9665.66   \n",
       "105702         DNK  51.0                 83              160        14044.80   \n",
       "\n",
       "        OtherRevenue  BookingsCanceled  BookingsNoShowed  BookingsCheckedIn  \\\n",
       "ID                                                                            \n",
       "23967         1300.0                 0                 0                  1   \n",
       "38718         1144.5                 1                 0                  2   \n",
       "42504         2265.0                 0                 0                  1   \n",
       "105702        2891.5                 0                 0                  1   \n",
       "\n",
       "        PersonsNights  RoomNights    DistributionChannel  SRHighFloor  \\\n",
       "ID                                                                      \n",
       "23967              12           6  Travel Agent/Operator            0   \n",
       "38718              16           8                 Direct            0   \n",
       "42504              10           5  Travel Agent/Operator            0   \n",
       "105702             24          12  Travel Agent/Operator            0   \n",
       "\n",
       "        SRLowFloor  SRAccessibleRoom  SRMediumFloor  SRBathtub  SRShower  \\\n",
       "ID                                                                         \n",
       "23967            0                 0              0          0         0   \n",
       "38718            0                 0              0          0         0   \n",
       "42504            0                 0              0          0         0   \n",
       "105702           0                 0              0          0         0   \n",
       "\n",
       "        SRCrib  SRKingSizeBed  SRTwinBed  SRNearElevator  SRAwayFromElevator  \\\n",
       "ID                                                                             \n",
       "23967        0              0          0               0                   0   \n",
       "38718        0              0          0               0                   0   \n",
       "42504        0              0          0               0                   0   \n",
       "105702       0              0          0               0                   0   \n",
       "\n",
       "        SRNoAlcoholInMiniBar  SRQuietRoom  TotalRevenue  \n",
       "ID                                                       \n",
       "23967                      0            0      10982.40  \n",
       "38718                      0            0      10324.50  \n",
       "42504                      0            0      11930.66  \n",
       "105702                     0            0      16936.30  "
      ]
     },
     "execution_count": 70,
     "metadata": {},
     "output_type": "execute_result"
    }
   ],
   "source": [
    "# Check row with LodgingRevenue above 8000\n",
    "customers[customers['LodgingRevenue'] > 8000]"
   ]
  },
  {
   "cell_type": "code",
   "execution_count": 71,
   "metadata": {},
   "outputs": [],
   "source": [
    "# Keep only customers with LodgingRevenue below 8000\n",
    "rich_customers = customers[customers['LodgingRevenue'] > 8000]\n",
    "customers = customers[customers['LodgingRevenue'] <= 8000]"
   ]
  },
  {
   "cell_type": "markdown",
   "metadata": {},
   "source": [
    "<a class=\"anchor\" id=\"sub-section-1_5_2_5\">\n",
    "\n",
    "#### 1.5.2.5. Other Revenue\n",
    "    \n",
    "</a>"
   ]
  },
  {
   "cell_type": "code",
   "execution_count": 72,
   "metadata": {},
   "outputs": [
    {
     "name": "stdout",
     "output_type": "stream",
     "text": [
      "There are 0 missing values in the OtherRevenue column.\n"
     ]
    }
   ],
   "source": [
    "# Check for missing values in LodgingRevenue\n",
    "missing_revenue = customers['OtherRevenue'].isnull().sum()\n",
    "print(f'There are {missing_revenue} missing values in the OtherRevenue column.')"
   ]
  },
  {
   "cell_type": "code",
   "execution_count": 73,
   "metadata": {},
   "outputs": [
    {
     "data": {
      "text/plain": [
       "count    55638.000000\n",
       "mean       105.075114\n",
       "std        129.630660\n",
       "min          0.000000\n",
       "25%         42.000000\n",
       "50%         71.000000\n",
       "75%        130.000000\n",
       "max       8859.250000\n",
       "Name: OtherRevenue, dtype: float64"
      ]
     },
     "execution_count": 73,
     "metadata": {},
     "output_type": "execute_result"
    }
   ],
   "source": [
    "customers['OtherRevenue'].describe().T"
   ]
  },
  {
   "cell_type": "code",
   "execution_count": 74,
   "metadata": {},
   "outputs": [
    {
     "data": {
      "image/png": "[encoded data removed]",
      "text/plain": [
       "<Figure size 1200x800 with 1 Axes>"
      ]
     },
     "metadata": {},
     "output_type": "display_data"
    }
   ],
   "source": [
    "plt.figure(figsize=(12, 8))\n",
    "sns.boxplot(x=customers['OtherRevenue'], color='blue')\n",
    "plt.title('Other Revenue')\n",
    "plt.show()"
   ]
  },
  {
   "cell_type": "code",
   "execution_count": 75,
   "metadata": {},
   "outputs": [
    {
     "data": {
      "text/html": [
       "<div>\n",
       "<style scoped>\n",
       "    .dataframe tbody tr th:only-of-type {\n",
       "        vertical-align: middle;\n",
       "    }\n",
       "\n",
       "    .dataframe tbody tr th {\n",
       "        vertical-align: top;\n",
       "    }\n",
       "\n",
       "    .dataframe thead th {\n",
       "        text-align: right;\n",
       "    }\n",
       "</style>\n",
       "<table border=\"1\" class=\"dataframe\">\n",
       "  <thead>\n",
       "    <tr style=\"text-align: right;\">\n",
       "      <th></th>\n",
       "      <th>Nationality</th>\n",
       "      <th>Age</th>\n",
       "      <th>DaysSinceCreation</th>\n",
       "      <th>AverageLeadTime</th>\n",
       "      <th>LodgingRevenue</th>\n",
       "      <th>OtherRevenue</th>\n",
       "      <th>BookingsCanceled</th>\n",
       "      <th>BookingsNoShowed</th>\n",
       "      <th>BookingsCheckedIn</th>\n",
       "      <th>PersonsNights</th>\n",
       "      <th>RoomNights</th>\n",
       "      <th>DistributionChannel</th>\n",
       "      <th>SRHighFloor</th>\n",
       "      <th>SRLowFloor</th>\n",
       "      <th>SRAccessibleRoom</th>\n",
       "      <th>SRMediumFloor</th>\n",
       "      <th>SRBathtub</th>\n",
       "      <th>SRShower</th>\n",
       "      <th>SRCrib</th>\n",
       "      <th>SRKingSizeBed</th>\n",
       "      <th>SRTwinBed</th>\n",
       "      <th>SRNearElevator</th>\n",
       "      <th>SRAwayFromElevator</th>\n",
       "      <th>SRNoAlcoholInMiniBar</th>\n",
       "      <th>SRQuietRoom</th>\n",
       "      <th>TotalRevenue</th>\n",
       "    </tr>\n",
       "    <tr>\n",
       "      <th>ID</th>\n",
       "      <th></th>\n",
       "      <th></th>\n",
       "      <th></th>\n",
       "      <th></th>\n",
       "      <th></th>\n",
       "      <th></th>\n",
       "      <th></th>\n",
       "      <th></th>\n",
       "      <th></th>\n",
       "      <th></th>\n",
       "      <th></th>\n",
       "      <th></th>\n",
       "      <th></th>\n",
       "      <th></th>\n",
       "      <th></th>\n",
       "      <th></th>\n",
       "      <th></th>\n",
       "      <th></th>\n",
       "      <th></th>\n",
       "      <th></th>\n",
       "      <th></th>\n",
       "      <th></th>\n",
       "      <th></th>\n",
       "      <th></th>\n",
       "      <th></th>\n",
       "      <th></th>\n",
       "    </tr>\n",
       "  </thead>\n",
       "  <tbody>\n",
       "    <tr>\n",
       "      <th>49184</th>\n",
       "      <td>PRT</td>\n",
       "      <td>45.0</td>\n",
       "      <td>577</td>\n",
       "      <td>14</td>\n",
       "      <td>1649.5</td>\n",
       "      <td>8859.25</td>\n",
       "      <td>0</td>\n",
       "      <td>0</td>\n",
       "      <td>11</td>\n",
       "      <td>29</td>\n",
       "      <td>15</td>\n",
       "      <td>Corporate</td>\n",
       "      <td>0</td>\n",
       "      <td>0</td>\n",
       "      <td>0</td>\n",
       "      <td>0</td>\n",
       "      <td>0</td>\n",
       "      <td>0</td>\n",
       "      <td>0</td>\n",
       "      <td>1</td>\n",
       "      <td>0</td>\n",
       "      <td>0</td>\n",
       "      <td>0</td>\n",
       "      <td>0</td>\n",
       "      <td>0</td>\n",
       "      <td>10508.75</td>\n",
       "    </tr>\n",
       "  </tbody>\n",
       "</table>\n",
       "</div>"
      ],
      "text/plain": [
       "      Nationality   Age  DaysSinceCreation  AverageLeadTime  LodgingRevenue  \\\n",
       "ID                                                                            \n",
       "49184         PRT  45.0                577               14          1649.5   \n",
       "\n",
       "       OtherRevenue  BookingsCanceled  BookingsNoShowed  BookingsCheckedIn  \\\n",
       "ID                                                                           \n",
       "49184       8859.25                 0                 0                 11   \n",
       "\n",
       "       PersonsNights  RoomNights DistributionChannel  SRHighFloor  SRLowFloor  \\\n",
       "ID                                                                              \n",
       "49184             29          15           Corporate            0           0   \n",
       "\n",
       "       SRAccessibleRoom  SRMediumFloor  SRBathtub  SRShower  SRCrib  \\\n",
       "ID                                                                    \n",
       "49184                 0              0          0         0       0   \n",
       "\n",
       "       SRKingSizeBed  SRTwinBed  SRNearElevator  SRAwayFromElevator  \\\n",
       "ID                                                                    \n",
       "49184              1          0               0                   0   \n",
       "\n",
       "       SRNoAlcoholInMiniBar  SRQuietRoom  TotalRevenue  \n",
       "ID                                                      \n",
       "49184                     0            0      10508.75  "
      ]
     },
     "execution_count": 75,
     "metadata": {},
     "output_type": "execute_result"
    }
   ],
   "source": [
    "# Check row with OtherRevenue above 4000\n",
    "customers[customers['OtherRevenue'] > 4000]"
   ]
  },
  {
   "cell_type": "code",
   "execution_count": 76,
   "metadata": {},
   "outputs": [],
   "source": [
    "# Delete customers with OtherRevenue above 4000\n",
    "customers = customers[customers['OtherRevenue'] <= 4000]"
   ]
  },
  {
   "cell_type": "code",
   "execution_count": 77,
   "metadata": {},
   "outputs": [
    {
     "data": {
      "text/plain": [
       "count    55637.000000\n",
       "mean       104.917769\n",
       "std        124.205232\n",
       "min          0.000000\n",
       "25%         42.000000\n",
       "50%         71.000000\n",
       "75%        130.000000\n",
       "max       3692.400000\n",
       "Name: OtherRevenue, dtype: float64"
      ]
     },
     "execution_count": 77,
     "metadata": {},
     "output_type": "execute_result"
    }
   ],
   "source": [
    "customers['OtherRevenue'].describe().T"
   ]
  },
  {
   "cell_type": "markdown",
   "metadata": {},
   "source": [
    "<a class=\"anchor\" id=\"sub-section-1_5_2_6\">\n",
    "\n",
    "#### 1.5.2.6. Bookings Canceled\n",
    "    \n",
    "</a>"
   ]
  },
  {
   "cell_type": "code",
   "execution_count": 78,
   "metadata": {},
   "outputs": [
    {
     "data": {
      "text/plain": [
       "BookingsCanceled\n",
       "0     55607\n",
       "1        24\n",
       "3         4\n",
       "15        1\n",
       "2         1\n",
       "Name: count, dtype: int64"
      ]
     },
     "execution_count": 78,
     "metadata": {},
     "output_type": "execute_result"
    }
   ],
   "source": [
    "customers['BookingsCanceled'].value_counts()"
   ]
  },
  {
   "cell_type": "code",
   "execution_count": 79,
   "metadata": {},
   "outputs": [
    {
     "data": {
      "text/plain": [
       "Text(0, 0.5, 'Frequency')"
      ]
     },
     "execution_count": 79,
     "metadata": {},
     "output_type": "execute_result"
    },
    {
     "data": {
      "image/png": "[encoded data removed]",
      "text/plain": [
       "<Figure size 1200x800 with 1 Axes>"
      ]
     },
     "metadata": {},
     "output_type": "display_data"
    }
   ],
   "source": [
    "plt.figure(figsize=(12, 8))\n",
    "plt.hist(customers['BookingsCanceled'], bins=np.arange(-0.5,15.5,1), color='blue', edgecolor='black')\n",
    "plt.title('Bookings Canceled')\n",
    "plt.xlabel('Bookings')\n",
    "plt.ylabel('Frequency')"
   ]
  },
  {
   "cell_type": "markdown",
   "metadata": {},
   "source": [
    "<a class=\"anchor\" id=\"sub-section-1_5_2_7\">\n",
    "\n",
    "#### 1.5.2.7. Bookings No Showed\n",
    "    \n",
    "</a>"
   ]
  },
  {
   "cell_type": "code",
   "execution_count": 80,
   "metadata": {},
   "outputs": [
    {
     "data": {
      "text/plain": [
       "BookingsNoShowed\n",
       "0    55626\n",
       "1       11\n",
       "Name: count, dtype: int64"
      ]
     },
     "execution_count": 80,
     "metadata": {},
     "output_type": "execute_result"
    }
   ],
   "source": [
    "customers['BookingsNoShowed'].value_counts()"
   ]
  },
  {
   "cell_type": "code",
   "execution_count": 81,
   "metadata": {},
   "outputs": [
    {
     "data": {
      "text/plain": [
       "Text(0, 0.5, 'Frequency')"
      ]
     },
     "execution_count": 81,
     "metadata": {},
     "output_type": "execute_result"
    },
    {
     "data": {
      "image/png": "[encoded data removed]",
      "text/plain": [
       "<Figure size 1200x800 with 1 Axes>"
      ]
     },
     "metadata": {},
     "output_type": "display_data"
    }
   ],
   "source": [
    "plt.figure(figsize=(12, 8))\n",
    "plt.hist(customers['BookingsNoShowed'], bins=np.arange(-0.5,3.5,1), color='blue', edgecolor='black')\n",
    "plt.title('Bookings No Showed')\n",
    "plt.xticks(range(5))\n",
    "plt.xlabel('Bookings')\n",
    "plt.ylabel('Frequency')"
   ]
  },
  {
   "cell_type": "markdown",
   "metadata": {},
   "source": [
    "Like in the lst feature our customers are good people"
   ]
  },
  {
   "cell_type": "markdown",
   "metadata": {},
   "source": [
    "<a class=\"anchor\" id=\"sub-section-1_5_2_8\">\n",
    "\n",
    "#### 1.5.2.8. Bookings Checked In\n",
    "    \n",
    "</a>"
   ]
  },
  {
   "cell_type": "code",
   "execution_count": 82,
   "metadata": {},
   "outputs": [
    {
     "data": {
      "text/plain": [
       "BookingsCheckedIn\n",
       "1     54629\n",
       "2       890\n",
       "3        65\n",
       "4        16\n",
       "5         8\n",
       "7         5\n",
       "9         4\n",
       "11        3\n",
       "8         3\n",
       "13        2\n",
       "15        2\n",
       "6         2\n",
       "10        2\n",
       "22        1\n",
       "17        1\n",
       "18        1\n",
       "76        1\n",
       "12        1\n",
       "35        1\n",
       "Name: count, dtype: int64"
      ]
     },
     "execution_count": 82,
     "metadata": {},
     "output_type": "execute_result"
    }
   ],
   "source": [
    "customers['BookingsCheckedIn'].value_counts()"
   ]
  },
  {
   "cell_type": "code",
   "execution_count": 83,
   "metadata": {},
   "outputs": [
    {
     "data": {
      "image/png": "[encoded data removed]",
      "text/plain": [
       "<Figure size 1200x800 with 1 Axes>"
      ]
     },
     "metadata": {},
     "output_type": "display_data"
    }
   ],
   "source": [
    "plt.figure(figsize=(12, 8))\n",
    "plt.hist(customers['BookingsCheckedIn'], bins=np.arange(-0.5,15.5,1), color='blue', edgecolor='black')\n",
    "plt.title('Bookings Checked In')\n",
    "plt.xlabel('Bookings')\n",
    "plt.ylabel('Frequency')\n",
    "plt.show()"
   ]
  },
  {
   "cell_type": "code",
   "execution_count": 84,
   "metadata": {},
   "outputs": [
    {
     "data": {
      "image/png": "[encoded data removed]",
      "text/plain": [
       "<Figure size 1200x800 with 1 Axes>"
      ]
     },
     "metadata": {},
     "output_type": "display_data"
    }
   ],
   "source": [
    "plt.figure(figsize=(12, 8))\n",
    "sns.boxplot(x=customers['BookingsCheckedIn'], color='blue')\n",
    "plt.title('Bookings Checked In')\n",
    "plt.show()"
   ]
  },
  {
   "cell_type": "markdown",
   "metadata": {},
   "source": [
    "two thirds of our customers have been in our hotel only once"
   ]
  },
  {
   "cell_type": "markdown",
   "metadata": {},
   "source": [
    "<a class=\"anchor\" id=\"sub-section-1_5_2_9\">\n",
    "\n",
    "#### 1.5.2.9. Persons Nights\n",
    "    \n",
    "</a>"
   ]
  },
  {
   "cell_type": "markdown",
   "metadata": {},
   "source": [
    "(adults + children)*number of nights "
   ]
  },
  {
   "cell_type": "code",
   "execution_count": 85,
   "metadata": {},
   "outputs": [
    {
     "data": {
      "text/plain": [
       "PersonsNights\n",
       "6     14993\n",
       "4      9898\n",
       "8      9627\n",
       "2      5520\n",
       "10     4025\n",
       "12     3657\n",
       "9      2033\n",
       "14     1738\n",
       "3      1050\n",
       "15      783\n",
       "16      614\n",
       "18      450\n",
       "21      383\n",
       "20      257\n",
       "24      149\n",
       "28       82\n",
       "5        56\n",
       "22       46\n",
       "30       45\n",
       "27       35\n",
       "7        31\n",
       "32       22\n",
       "33       19\n",
       "36       19\n",
       "26       16\n",
       "11       12\n",
       "25       11\n",
       "17        8\n",
       "13        6\n",
       "35        6\n",
       "23        6\n",
       "40        5\n",
       "42        5\n",
       "34        4\n",
       "39        4\n",
       "44        4\n",
       "45        2\n",
       "19        2\n",
       "38        2\n",
       "68        2\n",
       "48        2\n",
       "52        1\n",
       "49        1\n",
       "56        1\n",
       "91        1\n",
       "99        1\n",
       "80        1\n",
       "57        1\n",
       "60        1\n",
       "Name: count, dtype: int64"
      ]
     },
     "execution_count": 85,
     "metadata": {},
     "output_type": "execute_result"
    }
   ],
   "source": [
    "customers['PersonsNights'].value_counts()"
   ]
  },
  {
   "cell_type": "code",
   "execution_count": 86,
   "metadata": {},
   "outputs": [
    {
     "data": {
      "image/png": "[encoded data removed]",
      "text/plain": [
       "<Figure size 1200x800 with 1 Axes>"
      ]
     },
     "metadata": {},
     "output_type": "display_data"
    }
   ],
   "source": [
    "plt.figure(figsize=(12, 8))\n",
    "plt.hist(customers['PersonsNights'], bins=20, color='blue', edgecolor='black')\n",
    "plt.title('Persons Nights')\n",
    "plt.xlabel('Persons Days')\n",
    "plt.ylabel('Frequency')\n",
    "plt.show()"
   ]
  },
  {
   "cell_type": "code",
   "execution_count": 87,
   "metadata": {},
   "outputs": [
    {
     "data": {
      "image/png": "[encoded data removed]",
      "text/plain": [
       "<Figure size 1200x800 with 1 Axes>"
      ]
     },
     "metadata": {},
     "output_type": "display_data"
    }
   ],
   "source": [
    "plt.figure(figsize=(12, 8))\n",
    "sns.boxplot(x=customers['PersonsNights'], color='blue')\n",
    "plt.title('Persons Nights')\n",
    "plt.show()"
   ]
  },
  {
   "cell_type": "code",
   "execution_count": 88,
   "metadata": {},
   "outputs": [
    {
     "data": {
      "text/plain": [
       "Index(['Age', 'DaysSinceCreation', 'AverageLeadTime', 'LodgingRevenue',\n",
       "       'OtherRevenue', 'BookingsCanceled', 'BookingsNoShowed',\n",
       "       'BookingsCheckedIn', 'PersonsNights', 'RoomNights', 'SRHighFloor',\n",
       "       'SRLowFloor', 'SRAccessibleRoom', 'SRMediumFloor', 'SRBathtub',\n",
       "       'SRShower', 'SRCrib', 'SRKingSizeBed', 'SRTwinBed', 'SRNearElevator',\n",
       "       'SRAwayFromElevator', 'SRNoAlcoholInMiniBar', 'SRQuietRoom',\n",
       "       'TotalRevenue', 'YearsSinceCreation'],\n",
       "      dtype='object')"
      ]
     },
     "execution_count": 88,
     "metadata": {},
     "output_type": "execute_result"
    }
   ],
   "source": [
    "customers_numerical.columns"
   ]
  },
  {
   "cell_type": "markdown",
   "metadata": {},
   "source": [
    "<a class=\"anchor\" id=\"sub-section-1_5_3\">\n",
    "\n",
    "### 1.5.3. Binary Variables\n",
    "    \n",
    "</a>"
   ]
  },
  {
   "cell_type": "markdown",
   "metadata": {},
   "source": [
    "<a class=\"anchor\" id=\"sub-section-1_5_3_1\">\n",
    "\n",
    "#### 1.5.3.1. SRFloor\n",
    "    \n",
    "</a>"
   ]
  },
  {
   "cell_type": "markdown",
   "metadata": {},
   "source": [
    "Making a fusion with the low-high floor \n",
    "\n",
    "    If the client has no preference then 0\n",
    "    If its on a low floor then 1 \n",
    "    If its on a medium floor then 2\n",
    "    If its on a high floor then 3\n",
    "    If asked for more than 1 type of floor then 4"
   ]
  },
  {
   "cell_type": "code",
   "execution_count": 89,
   "metadata": {},
   "outputs": [
    {
     "data": {
      "text/html": [
       "<div>\n",
       "<style scoped>\n",
       "    .dataframe tbody tr th:only-of-type {\n",
       "        vertical-align: middle;\n",
       "    }\n",
       "\n",
       "    .dataframe tbody tr th {\n",
       "        vertical-align: top;\n",
       "    }\n",
       "\n",
       "    .dataframe thead th {\n",
       "        text-align: right;\n",
       "    }\n",
       "</style>\n",
       "<table border=\"1\" class=\"dataframe\">\n",
       "  <thead>\n",
       "    <tr style=\"text-align: right;\">\n",
       "      <th></th>\n",
       "      <th>Nationality</th>\n",
       "      <th>Age</th>\n",
       "      <th>DaysSinceCreation</th>\n",
       "      <th>AverageLeadTime</th>\n",
       "      <th>LodgingRevenue</th>\n",
       "      <th>OtherRevenue</th>\n",
       "      <th>BookingsCanceled</th>\n",
       "      <th>BookingsNoShowed</th>\n",
       "      <th>BookingsCheckedIn</th>\n",
       "      <th>PersonsNights</th>\n",
       "      <th>RoomNights</th>\n",
       "      <th>DistributionChannel</th>\n",
       "      <th>SRHighFloor</th>\n",
       "      <th>SRLowFloor</th>\n",
       "      <th>SRAccessibleRoom</th>\n",
       "      <th>SRMediumFloor</th>\n",
       "      <th>SRBathtub</th>\n",
       "      <th>SRShower</th>\n",
       "      <th>SRCrib</th>\n",
       "      <th>SRKingSizeBed</th>\n",
       "      <th>SRTwinBed</th>\n",
       "      <th>SRNearElevator</th>\n",
       "      <th>SRAwayFromElevator</th>\n",
       "      <th>SRNoAlcoholInMiniBar</th>\n",
       "      <th>SRQuietRoom</th>\n",
       "      <th>TotalRevenue</th>\n",
       "    </tr>\n",
       "    <tr>\n",
       "      <th>ID</th>\n",
       "      <th></th>\n",
       "      <th></th>\n",
       "      <th></th>\n",
       "      <th></th>\n",
       "      <th></th>\n",
       "      <th></th>\n",
       "      <th></th>\n",
       "      <th></th>\n",
       "      <th></th>\n",
       "      <th></th>\n",
       "      <th></th>\n",
       "      <th></th>\n",
       "      <th></th>\n",
       "      <th></th>\n",
       "      <th></th>\n",
       "      <th></th>\n",
       "      <th></th>\n",
       "      <th></th>\n",
       "      <th></th>\n",
       "      <th></th>\n",
       "      <th></th>\n",
       "      <th></th>\n",
       "      <th></th>\n",
       "      <th></th>\n",
       "      <th></th>\n",
       "      <th></th>\n",
       "    </tr>\n",
       "  </thead>\n",
       "  <tbody>\n",
       "  </tbody>\n",
       "</table>\n",
       "</div>"
      ],
      "text/plain": [
       "Empty DataFrame\n",
       "Columns: [Nationality, Age, DaysSinceCreation, AverageLeadTime, LodgingRevenue, OtherRevenue, BookingsCanceled, BookingsNoShowed, BookingsCheckedIn, PersonsNights, RoomNights, DistributionChannel, SRHighFloor, SRLowFloor, SRAccessibleRoom, SRMediumFloor, SRBathtub, SRShower, SRCrib, SRKingSizeBed, SRTwinBed, SRNearElevator, SRAwayFromElevator, SRNoAlcoholInMiniBar, SRQuietRoom, TotalRevenue]\n",
       "Index: []"
      ]
     },
     "execution_count": 89,
     "metadata": {},
     "output_type": "execute_result"
    }
   ],
   "source": [
    "Check0 = customers[(customers['SRHighFloor'] == 1) & (customers['SRLowFloor'] == 1) & (customers['SRMediumFloor'] == 1)]\n",
    "Check0"
   ]
  },
  {
   "cell_type": "code",
   "execution_count": 90,
   "metadata": {},
   "outputs": [
    {
     "data": {
      "text/html": [
       "<div>\n",
       "<style scoped>\n",
       "    .dataframe tbody tr th:only-of-type {\n",
       "        vertical-align: middle;\n",
       "    }\n",
       "\n",
       "    .dataframe tbody tr th {\n",
       "        vertical-align: top;\n",
       "    }\n",
       "\n",
       "    .dataframe thead th {\n",
       "        text-align: right;\n",
       "    }\n",
       "</style>\n",
       "<table border=\"1\" class=\"dataframe\">\n",
       "  <thead>\n",
       "    <tr style=\"text-align: right;\">\n",
       "      <th></th>\n",
       "      <th>Nationality</th>\n",
       "      <th>Age</th>\n",
       "      <th>DaysSinceCreation</th>\n",
       "      <th>AverageLeadTime</th>\n",
       "      <th>LodgingRevenue</th>\n",
       "      <th>OtherRevenue</th>\n",
       "      <th>BookingsCanceled</th>\n",
       "      <th>BookingsNoShowed</th>\n",
       "      <th>BookingsCheckedIn</th>\n",
       "      <th>PersonsNights</th>\n",
       "      <th>RoomNights</th>\n",
       "      <th>DistributionChannel</th>\n",
       "      <th>SRHighFloor</th>\n",
       "      <th>SRLowFloor</th>\n",
       "      <th>SRAccessibleRoom</th>\n",
       "      <th>SRMediumFloor</th>\n",
       "      <th>SRBathtub</th>\n",
       "      <th>SRShower</th>\n",
       "      <th>SRCrib</th>\n",
       "      <th>SRKingSizeBed</th>\n",
       "      <th>SRTwinBed</th>\n",
       "      <th>SRNearElevator</th>\n",
       "      <th>SRAwayFromElevator</th>\n",
       "      <th>SRNoAlcoholInMiniBar</th>\n",
       "      <th>SRQuietRoom</th>\n",
       "      <th>TotalRevenue</th>\n",
       "    </tr>\n",
       "    <tr>\n",
       "      <th>ID</th>\n",
       "      <th></th>\n",
       "      <th></th>\n",
       "      <th></th>\n",
       "      <th></th>\n",
       "      <th></th>\n",
       "      <th></th>\n",
       "      <th></th>\n",
       "      <th></th>\n",
       "      <th></th>\n",
       "      <th></th>\n",
       "      <th></th>\n",
       "      <th></th>\n",
       "      <th></th>\n",
       "      <th></th>\n",
       "      <th></th>\n",
       "      <th></th>\n",
       "      <th></th>\n",
       "      <th></th>\n",
       "      <th></th>\n",
       "      <th></th>\n",
       "      <th></th>\n",
       "      <th></th>\n",
       "      <th></th>\n",
       "      <th></th>\n",
       "      <th></th>\n",
       "      <th></th>\n",
       "    </tr>\n",
       "  </thead>\n",
       "  <tbody>\n",
       "  </tbody>\n",
       "</table>\n",
       "</div>"
      ],
      "text/plain": [
       "Empty DataFrame\n",
       "Columns: [Nationality, Age, DaysSinceCreation, AverageLeadTime, LodgingRevenue, OtherRevenue, BookingsCanceled, BookingsNoShowed, BookingsCheckedIn, PersonsNights, RoomNights, DistributionChannel, SRHighFloor, SRLowFloor, SRAccessibleRoom, SRMediumFloor, SRBathtub, SRShower, SRCrib, SRKingSizeBed, SRTwinBed, SRNearElevator, SRAwayFromElevator, SRNoAlcoholInMiniBar, SRQuietRoom, TotalRevenue]\n",
       "Index: []"
      ]
     },
     "execution_count": 90,
     "metadata": {},
     "output_type": "execute_result"
    }
   ],
   "source": [
    "# We have 1 customer that usually asks fot a high and low floor but not medium and the same for the cases bellow\n",
    "Check1 = customers[(customers['SRHighFloor'] == 1) & (customers['SRLowFloor'] == 1) & (customers['SRMediumFloor'] == 0)]\n",
    "Check1"
   ]
  },
  {
   "cell_type": "code",
   "execution_count": 91,
   "metadata": {},
   "outputs": [
    {
     "data": {
      "text/html": [
       "<div>\n",
       "<style scoped>\n",
       "    .dataframe tbody tr th:only-of-type {\n",
       "        vertical-align: middle;\n",
       "    }\n",
       "\n",
       "    .dataframe tbody tr th {\n",
       "        vertical-align: top;\n",
       "    }\n",
       "\n",
       "    .dataframe thead th {\n",
       "        text-align: right;\n",
       "    }\n",
       "</style>\n",
       "<table border=\"1\" class=\"dataframe\">\n",
       "  <thead>\n",
       "    <tr style=\"text-align: right;\">\n",
       "      <th></th>\n",
       "      <th>Nationality</th>\n",
       "      <th>Age</th>\n",
       "      <th>DaysSinceCreation</th>\n",
       "      <th>AverageLeadTime</th>\n",
       "      <th>LodgingRevenue</th>\n",
       "      <th>OtherRevenue</th>\n",
       "      <th>BookingsCanceled</th>\n",
       "      <th>BookingsNoShowed</th>\n",
       "      <th>BookingsCheckedIn</th>\n",
       "      <th>PersonsNights</th>\n",
       "      <th>RoomNights</th>\n",
       "      <th>DistributionChannel</th>\n",
       "      <th>SRHighFloor</th>\n",
       "      <th>SRLowFloor</th>\n",
       "      <th>SRAccessibleRoom</th>\n",
       "      <th>SRMediumFloor</th>\n",
       "      <th>SRBathtub</th>\n",
       "      <th>SRShower</th>\n",
       "      <th>SRCrib</th>\n",
       "      <th>SRKingSizeBed</th>\n",
       "      <th>SRTwinBed</th>\n",
       "      <th>SRNearElevator</th>\n",
       "      <th>SRAwayFromElevator</th>\n",
       "      <th>SRNoAlcoholInMiniBar</th>\n",
       "      <th>SRQuietRoom</th>\n",
       "      <th>TotalRevenue</th>\n",
       "    </tr>\n",
       "    <tr>\n",
       "      <th>ID</th>\n",
       "      <th></th>\n",
       "      <th></th>\n",
       "      <th></th>\n",
       "      <th></th>\n",
       "      <th></th>\n",
       "      <th></th>\n",
       "      <th></th>\n",
       "      <th></th>\n",
       "      <th></th>\n",
       "      <th></th>\n",
       "      <th></th>\n",
       "      <th></th>\n",
       "      <th></th>\n",
       "      <th></th>\n",
       "      <th></th>\n",
       "      <th></th>\n",
       "      <th></th>\n",
       "      <th></th>\n",
       "      <th></th>\n",
       "      <th></th>\n",
       "      <th></th>\n",
       "      <th></th>\n",
       "      <th></th>\n",
       "      <th></th>\n",
       "      <th></th>\n",
       "      <th></th>\n",
       "    </tr>\n",
       "  </thead>\n",
       "  <tbody>\n",
       "    <tr>\n",
       "      <th>25859</th>\n",
       "      <td>SWE</td>\n",
       "      <td>51.0</td>\n",
       "      <td>921</td>\n",
       "      <td>127</td>\n",
       "      <td>2020.0</td>\n",
       "      <td>220.0</td>\n",
       "      <td>0</td>\n",
       "      <td>0</td>\n",
       "      <td>1</td>\n",
       "      <td>8</td>\n",
       "      <td>2</td>\n",
       "      <td>Travel Agent/Operator</td>\n",
       "      <td>1</td>\n",
       "      <td>0</td>\n",
       "      <td>0</td>\n",
       "      <td>1</td>\n",
       "      <td>0</td>\n",
       "      <td>0</td>\n",
       "      <td>0</td>\n",
       "      <td>1</td>\n",
       "      <td>0</td>\n",
       "      <td>0</td>\n",
       "      <td>0</td>\n",
       "      <td>0</td>\n",
       "      <td>0</td>\n",
       "      <td>2240.0</td>\n",
       "    </tr>\n",
       "  </tbody>\n",
       "</table>\n",
       "</div>"
      ],
      "text/plain": [
       "      Nationality   Age  DaysSinceCreation  AverageLeadTime  LodgingRevenue  \\\n",
       "ID                                                                            \n",
       "25859         SWE  51.0                921              127          2020.0   \n",
       "\n",
       "       OtherRevenue  BookingsCanceled  BookingsNoShowed  BookingsCheckedIn  \\\n",
       "ID                                                                           \n",
       "25859         220.0                 0                 0                  1   \n",
       "\n",
       "       PersonsNights  RoomNights    DistributionChannel  SRHighFloor  \\\n",
       "ID                                                                     \n",
       "25859              8           2  Travel Agent/Operator            1   \n",
       "\n",
       "       SRLowFloor  SRAccessibleRoom  SRMediumFloor  SRBathtub  SRShower  \\\n",
       "ID                                                                        \n",
       "25859           0                 0              1          0         0   \n",
       "\n",
       "       SRCrib  SRKingSizeBed  SRTwinBed  SRNearElevator  SRAwayFromElevator  \\\n",
       "ID                                                                            \n",
       "25859       0              1          0               0                   0   \n",
       "\n",
       "       SRNoAlcoholInMiniBar  SRQuietRoom  TotalRevenue  \n",
       "ID                                                      \n",
       "25859                     0            0        2240.0  "
      ]
     },
     "execution_count": 91,
     "metadata": {},
     "output_type": "execute_result"
    }
   ],
   "source": [
    "Check2 = customers[(customers['SRHighFloor'] == 1) & (customers['SRLowFloor'] == 0) & (customers['SRMediumFloor'] == 1)]\n",
    "Check2"
   ]
  },
  {
   "cell_type": "code",
   "execution_count": 92,
   "metadata": {},
   "outputs": [
    {
     "data": {
      "text/html": [
       "<div>\n",
       "<style scoped>\n",
       "    .dataframe tbody tr th:only-of-type {\n",
       "        vertical-align: middle;\n",
       "    }\n",
       "\n",
       "    .dataframe tbody tr th {\n",
       "        vertical-align: top;\n",
       "    }\n",
       "\n",
       "    .dataframe thead th {\n",
       "        text-align: right;\n",
       "    }\n",
       "</style>\n",
       "<table border=\"1\" class=\"dataframe\">\n",
       "  <thead>\n",
       "    <tr style=\"text-align: right;\">\n",
       "      <th></th>\n",
       "      <th>Nationality</th>\n",
       "      <th>Age</th>\n",
       "      <th>DaysSinceCreation</th>\n",
       "      <th>AverageLeadTime</th>\n",
       "      <th>LodgingRevenue</th>\n",
       "      <th>OtherRevenue</th>\n",
       "      <th>BookingsCanceled</th>\n",
       "      <th>BookingsNoShowed</th>\n",
       "      <th>BookingsCheckedIn</th>\n",
       "      <th>PersonsNights</th>\n",
       "      <th>RoomNights</th>\n",
       "      <th>DistributionChannel</th>\n",
       "      <th>SRHighFloor</th>\n",
       "      <th>SRLowFloor</th>\n",
       "      <th>SRAccessibleRoom</th>\n",
       "      <th>SRMediumFloor</th>\n",
       "      <th>SRBathtub</th>\n",
       "      <th>SRShower</th>\n",
       "      <th>SRCrib</th>\n",
       "      <th>SRKingSizeBed</th>\n",
       "      <th>SRTwinBed</th>\n",
       "      <th>SRNearElevator</th>\n",
       "      <th>SRAwayFromElevator</th>\n",
       "      <th>SRNoAlcoholInMiniBar</th>\n",
       "      <th>SRQuietRoom</th>\n",
       "      <th>TotalRevenue</th>\n",
       "    </tr>\n",
       "    <tr>\n",
       "      <th>ID</th>\n",
       "      <th></th>\n",
       "      <th></th>\n",
       "      <th></th>\n",
       "      <th></th>\n",
       "      <th></th>\n",
       "      <th></th>\n",
       "      <th></th>\n",
       "      <th></th>\n",
       "      <th></th>\n",
       "      <th></th>\n",
       "      <th></th>\n",
       "      <th></th>\n",
       "      <th></th>\n",
       "      <th></th>\n",
       "      <th></th>\n",
       "      <th></th>\n",
       "      <th></th>\n",
       "      <th></th>\n",
       "      <th></th>\n",
       "      <th></th>\n",
       "      <th></th>\n",
       "      <th></th>\n",
       "      <th></th>\n",
       "      <th></th>\n",
       "      <th></th>\n",
       "      <th></th>\n",
       "    </tr>\n",
       "  </thead>\n",
       "  <tbody>\n",
       "    <tr>\n",
       "      <th>27802</th>\n",
       "      <td>GBR</td>\n",
       "      <td>45.0</td>\n",
       "      <td>891</td>\n",
       "      <td>90</td>\n",
       "      <td>114.0</td>\n",
       "      <td>14.0</td>\n",
       "      <td>0</td>\n",
       "      <td>0</td>\n",
       "      <td>1</td>\n",
       "      <td>2</td>\n",
       "      <td>1</td>\n",
       "      <td>Travel Agent/Operator</td>\n",
       "      <td>0</td>\n",
       "      <td>1</td>\n",
       "      <td>0</td>\n",
       "      <td>1</td>\n",
       "      <td>0</td>\n",
       "      <td>0</td>\n",
       "      <td>0</td>\n",
       "      <td>0</td>\n",
       "      <td>0</td>\n",
       "      <td>0</td>\n",
       "      <td>0</td>\n",
       "      <td>0</td>\n",
       "      <td>1</td>\n",
       "      <td>128.0</td>\n",
       "    </tr>\n",
       "  </tbody>\n",
       "</table>\n",
       "</div>"
      ],
      "text/plain": [
       "      Nationality   Age  DaysSinceCreation  AverageLeadTime  LodgingRevenue  \\\n",
       "ID                                                                            \n",
       "27802         GBR  45.0                891               90           114.0   \n",
       "\n",
       "       OtherRevenue  BookingsCanceled  BookingsNoShowed  BookingsCheckedIn  \\\n",
       "ID                                                                           \n",
       "27802          14.0                 0                 0                  1   \n",
       "\n",
       "       PersonsNights  RoomNights    DistributionChannel  SRHighFloor  \\\n",
       "ID                                                                     \n",
       "27802              2           1  Travel Agent/Operator            0   \n",
       "\n",
       "       SRLowFloor  SRAccessibleRoom  SRMediumFloor  SRBathtub  SRShower  \\\n",
       "ID                                                                        \n",
       "27802           1                 0              1          0         0   \n",
       "\n",
       "       SRCrib  SRKingSizeBed  SRTwinBed  SRNearElevator  SRAwayFromElevator  \\\n",
       "ID                                                                            \n",
       "27802       0              0          0               0                   0   \n",
       "\n",
       "       SRNoAlcoholInMiniBar  SRQuietRoom  TotalRevenue  \n",
       "ID                                                      \n",
       "27802                     0            1         128.0  "
      ]
     },
     "execution_count": 92,
     "metadata": {},
     "output_type": "execute_result"
    }
   ],
   "source": [
    "Check3 = customers[(customers['SRHighFloor'] == 0) & (customers['SRLowFloor'] == 1) & (customers['SRMediumFloor'] == 1)]\n",
    "Check3"
   ]
  },
  {
   "cell_type": "code",
   "execution_count": 93,
   "metadata": {},
   "outputs": [],
   "source": [
    "# This just means that the customer does not ask for a specific floor\n",
    "# Check4 = customers[(customers['SRHighFloor'] == 0) & (customers['SRLowFloor'] == 0) & (customers['SRMediumFloor'] == 0)]\n",
    "# Check4"
   ]
  },
  {
   "cell_type": "markdown",
   "metadata": {},
   "source": [
    "Uncomment the code after we dealt with the costumers above and if everyone agrees"
   ]
  },
  {
   "cell_type": "code",
   "execution_count": 94,
   "metadata": {},
   "outputs": [],
   "source": [
    "def type_of_floor(row):\n",
    "     if row['SRMediumFloor'] == 1 and row['SRHighFloor'] == 1:\n",
    "         return 4\n",
    "     elif row['SRLowFloor'] == 1 and row['SRMediumFloor'] == 1:\n",
    "         return 4\n",
    "     elif row['SRLowFloor'] == 1:     # preference for lower floors\n",
    "         return 1\n",
    "     elif row['SRMediumFloor'] == 1: # preference for medium floors\n",
    "         return 2\n",
    "     elif row['SRHighFloor'] == 1:    # preference for higher floors\n",
    "         return 3\n",
    "     else:                           # no preference\n",
    "         return 0 \n",
    "\n",
    "\n",
    "\n",
    "customers['SRFloor'] = customers.apply(type_of_floor, axis=1)"
   ]
  },
  {
   "cell_type": "code",
   "execution_count": 95,
   "metadata": {},
   "outputs": [
    {
     "data": {
      "text/plain": [
       "SRFloor\n",
       "0    52801\n",
       "3     2712\n",
       "1       82\n",
       "2       40\n",
       "4        2\n",
       "Name: count, dtype: int64"
      ]
     },
     "execution_count": 95,
     "metadata": {},
     "output_type": "execute_result"
    }
   ],
   "source": [
    "customers['SRFloor'].value_counts()"
   ]
  },
  {
   "cell_type": "code",
   "execution_count": 96,
   "metadata": {},
   "outputs": [
    {
     "data": {
      "text/plain": [
       "SRFloor\n",
       "0    0.949027\n",
       "3    0.048745\n",
       "1    0.001474\n",
       "2    0.000719\n",
       "4    0.000036\n",
       "Name: proportion, dtype: float64"
      ]
     },
     "execution_count": 96,
     "metadata": {},
     "output_type": "execute_result"
    }
   ],
   "source": [
    "# Getting the percentage of every number in SRFloor\n",
    "customers['SRFloor'].value_counts(normalize=True)"
   ]
  },
  {
   "cell_type": "code",
   "execution_count": 97,
   "metadata": {},
   "outputs": [
    {
     "data": {
      "image/png": "[encoded data removed]",
      "text/plain": [
       "<Figure size 800x600 with 1 Axes>"
      ]
     },
     "metadata": {},
     "output_type": "display_data"
    }
   ],
   "source": [
    "# Plot of types of floors preference \n",
    "# This plot could get some improvements \n",
    "\n",
    "plt.figure(figsize=(8, 6))\n",
    "plt.hist(customers['SRFloor'], bins=np.arange(-0.5,5.5,1), weights=[1 / len(customers['SRFloor'])] * len(customers['SRFloor']))\n",
    "plt.title('Types of Floor Preference')\n",
    "plt.xticks(range(5))\n",
    "plt.xlabel('Type of Floor')\n",
    "plt.ylabel('%')\n",
    "plt.show()"
   ]
  },
  {
   "cell_type": "markdown",
   "metadata": {},
   "source": [
    "<a class=\"anchor\" id=\"sub-section-1_5_3_2\">\n",
    "\n",
    "#### 1.5.3.2. SRBathtub & SRShower\n",
    "    \n",
    "</a>"
   ]
  },
  {
   "cell_type": "markdown",
   "metadata": {},
   "source": [
    "We are going to join these two features where:\n",
    "\n",
    "    If the client has no preference then its 0\n",
    "    If the client usually asks for a room with a bathtub then 1\n",
    "    If the client usually asks for a room with a shower then 2"
   ]
  },
  {
   "cell_type": "code",
   "execution_count": 98,
   "metadata": {},
   "outputs": [
    {
     "data": {
      "text/plain": [
       "SRBathtub\n",
       "0    55445\n",
       "1      192\n",
       "Name: count, dtype: int64"
      ]
     },
     "execution_count": 98,
     "metadata": {},
     "output_type": "execute_result"
    }
   ],
   "source": [
    "customers['SRBathtub'].value_counts()"
   ]
  },
  {
   "cell_type": "code",
   "execution_count": 99,
   "metadata": {},
   "outputs": [
    {
     "data": {
      "text/html": [
       "<div>\n",
       "<style scoped>\n",
       "    .dataframe tbody tr th:only-of-type {\n",
       "        vertical-align: middle;\n",
       "    }\n",
       "\n",
       "    .dataframe tbody tr th {\n",
       "        vertical-align: top;\n",
       "    }\n",
       "\n",
       "    .dataframe thead th {\n",
       "        text-align: right;\n",
       "    }\n",
       "</style>\n",
       "<table border=\"1\" class=\"dataframe\">\n",
       "  <thead>\n",
       "    <tr style=\"text-align: right;\">\n",
       "      <th></th>\n",
       "      <th>Nationality</th>\n",
       "      <th>Age</th>\n",
       "      <th>DaysSinceCreation</th>\n",
       "      <th>AverageLeadTime</th>\n",
       "      <th>LodgingRevenue</th>\n",
       "      <th>OtherRevenue</th>\n",
       "      <th>BookingsCanceled</th>\n",
       "      <th>BookingsNoShowed</th>\n",
       "      <th>BookingsCheckedIn</th>\n",
       "      <th>PersonsNights</th>\n",
       "      <th>RoomNights</th>\n",
       "      <th>DistributionChannel</th>\n",
       "      <th>SRHighFloor</th>\n",
       "      <th>SRLowFloor</th>\n",
       "      <th>SRAccessibleRoom</th>\n",
       "      <th>SRMediumFloor</th>\n",
       "      <th>SRBathtub</th>\n",
       "      <th>SRShower</th>\n",
       "      <th>SRCrib</th>\n",
       "      <th>SRKingSizeBed</th>\n",
       "      <th>SRTwinBed</th>\n",
       "      <th>SRNearElevator</th>\n",
       "      <th>SRAwayFromElevator</th>\n",
       "      <th>SRNoAlcoholInMiniBar</th>\n",
       "      <th>SRQuietRoom</th>\n",
       "      <th>TotalRevenue</th>\n",
       "      <th>SRFloor</th>\n",
       "    </tr>\n",
       "    <tr>\n",
       "      <th>ID</th>\n",
       "      <th></th>\n",
       "      <th></th>\n",
       "      <th></th>\n",
       "      <th></th>\n",
       "      <th></th>\n",
       "      <th></th>\n",
       "      <th></th>\n",
       "      <th></th>\n",
       "      <th></th>\n",
       "      <th></th>\n",
       "      <th></th>\n",
       "      <th></th>\n",
       "      <th></th>\n",
       "      <th></th>\n",
       "      <th></th>\n",
       "      <th></th>\n",
       "      <th></th>\n",
       "      <th></th>\n",
       "      <th></th>\n",
       "      <th></th>\n",
       "      <th></th>\n",
       "      <th></th>\n",
       "      <th></th>\n",
       "      <th></th>\n",
       "      <th></th>\n",
       "      <th></th>\n",
       "      <th></th>\n",
       "    </tr>\n",
       "  </thead>\n",
       "  <tbody>\n",
       "  </tbody>\n",
       "</table>\n",
       "</div>"
      ],
      "text/plain": [
       "Empty DataFrame\n",
       "Columns: [Nationality, Age, DaysSinceCreation, AverageLeadTime, LodgingRevenue, OtherRevenue, BookingsCanceled, BookingsNoShowed, BookingsCheckedIn, PersonsNights, RoomNights, DistributionChannel, SRHighFloor, SRLowFloor, SRAccessibleRoom, SRMediumFloor, SRBathtub, SRShower, SRCrib, SRKingSizeBed, SRTwinBed, SRNearElevator, SRAwayFromElevator, SRNoAlcoholInMiniBar, SRQuietRoom, TotalRevenue, SRFloor]\n",
       "Index: []"
      ]
     },
     "execution_count": 99,
     "metadata": {},
     "output_type": "execute_result"
    }
   ],
   "source": [
    "check1 = customers[(customers['SRBathtub'] == 1) & (customers['SRShower'] == 1)]\n",
    "check1"
   ]
  },
  {
   "cell_type": "code",
   "execution_count": 100,
   "metadata": {},
   "outputs": [],
   "source": [
    "def bathroom(row):\n",
    "    if row['SRBathtub'] == 0 and row['SRShower'] == 0:\n",
    "        return 0\n",
    "    elif row['SRBathtub'] == 1:\n",
    "        return 1\n",
    "    elif row['SRShower'] == 1:\n",
    "        return 2\n",
    "    else:\n",
    "        return 0\n",
    "    \n",
    "customers['SRBathroom'] = customers.apply(bathroom, axis=1)"
   ]
  },
  {
   "cell_type": "code",
   "execution_count": 101,
   "metadata": {},
   "outputs": [
    {
     "data": {
      "text/plain": [
       "SRBathroom\n",
       "0    55333\n",
       "1      192\n",
       "2      112\n",
       "Name: count, dtype: int64"
      ]
     },
     "execution_count": 101,
     "metadata": {},
     "output_type": "execute_result"
    }
   ],
   "source": [
    "customers['SRBathroom'].value_counts()"
   ]
  },
  {
   "cell_type": "code",
   "execution_count": 102,
   "metadata": {},
   "outputs": [
    {
     "data": {
      "image/png": "[encoded data removed]",
      "text/plain": [
       "<Figure size 1200x800 with 1 Axes>"
      ]
     },
     "metadata": {},
     "output_type": "display_data"
    },
    {
     "name": "stdout",
     "output_type": "stream",
     "text": [
      "99.45% of our costumers have no preference\n",
      "0.35% of our costumers ask for a bathtub\n",
      "0.35% of our costumers ask for a shower\n"
     ]
    }
   ],
   "source": [
    "plt.figure(figsize=(12, 8))\n",
    "plt.hist(customers['SRBathroom'], bins=[-0.5,0.5,1.5,2.5], color='blue', weights=[1 / len(customers['SRBathroom'])] * len(customers['SRBathroom']), edgecolor='black')\n",
    "plt.title('SRBathroom')\n",
    "plt.xlabel('SRBathroom')\n",
    "plt.ylabel('%')\n",
    "plt.xticks(range(3))\n",
    "plt.yticks([i/10 for i in range(11)])\n",
    "plt.xlim([-1, 3])\n",
    "plt.show()\n",
    "\n",
    "print(f'{len(customers[customers[\"SRBathroom\"]==0])/len(customers['SRBathroom'])*100:.2f}% of our costumers have no preference')\n",
    "print(f'{len(customers[customers[\"SRBathroom\"]==1])/len(customers['SRBathroom'])*100:.2f}% of our costumers ask for a bathtub')\n",
    "print(f'{len(customers[customers[\"SRBathroom\"]==1])/len(customers['SRBathroom'])*100:.2f}% of our costumers ask for a shower')"
   ]
  },
  {
   "cell_type": "markdown",
   "metadata": {},
   "source": [
    "<a class=\"anchor\" id=\"sub-section-1_5_3_3\">\n",
    "\n",
    "#### 1.5.3.3. SRCrib\n",
    "    \n",
    "</a>"
   ]
  },
  {
   "cell_type": "code",
   "execution_count": 103,
   "metadata": {},
   "outputs": [
    {
     "data": {
      "text/plain": [
       "SRCrib\n",
       "0    54913\n",
       "1      724\n",
       "Name: count, dtype: int64"
      ]
     },
     "execution_count": 103,
     "metadata": {},
     "output_type": "execute_result"
    }
   ],
   "source": [
    "customers['SRCrib'].value_counts()"
   ]
  },
  {
   "cell_type": "code",
   "execution_count": 104,
   "metadata": {},
   "outputs": [
    {
     "data": {
      "image/png": "[encoded data removed]",
      "text/plain": [
       "<Figure size 1200x800 with 1 Axes>"
      ]
     },
     "metadata": {},
     "output_type": "display_data"
    },
    {
     "name": "stdout",
     "output_type": "stream",
     "text": [
      "98.70% of our costumers do not ask for a crib\n",
      "1.30% of our costumers ask for a crib\n"
     ]
    }
   ],
   "source": [
    "plt.figure(figsize=(12, 8))\n",
    "plt.hist(customers['SRCrib'], bins=[-0.5, 0.5, 1.5], color='blue', weights=[1 / len(customers['SRCrib'])] * len(customers['SRCrib']), edgecolor='black')\n",
    "plt.title('SRCrib')\n",
    "plt.xlabel('SRCrib')\n",
    "plt.ylabel('%')\n",
    "plt.xticks(range(2))\n",
    "plt.yticks([i/10 for i in range(11)])\n",
    "plt.xlim([-1, 2])\n",
    "plt.show()\n",
    "\n",
    "print(f'{len(customers[customers[\"SRCrib\"]==0])/len(customers['SRCrib'])*100:.2f}% of our costumers do not ask for a crib')\n",
    "print(f'{len(customers[customers[\"SRCrib\"]==1])/len(customers['SRCrib'])*100:.2f}% of our costumers ask for a crib')"
   ]
  },
  {
   "cell_type": "markdown",
   "metadata": {},
   "source": [
    "<a class=\"anchor\" id=\"sub-section-1_5_3_4\">\n",
    "\n",
    "#### 1.5.3.4. SRNearElevator & SRAwayFromElevator\n",
    "    \n",
    "</a>"
   ]
  },
  {
   "cell_type": "markdown",
   "metadata": {},
   "source": [
    "We are going to join these two features where:\n",
    "\n",
    "    If the client has no preference then its 0\n",
    "    If the client usually asks for a room near the elevator then 1\n",
    "    If the client usually asks for a room away from the elevator then 2"
   ]
  },
  {
   "cell_type": "code",
   "execution_count": 105,
   "metadata": {},
   "outputs": [
    {
     "data": {
      "text/html": [
       "<div>\n",
       "<style scoped>\n",
       "    .dataframe tbody tr th:only-of-type {\n",
       "        vertical-align: middle;\n",
       "    }\n",
       "\n",
       "    .dataframe tbody tr th {\n",
       "        vertical-align: top;\n",
       "    }\n",
       "\n",
       "    .dataframe thead th {\n",
       "        text-align: right;\n",
       "    }\n",
       "</style>\n",
       "<table border=\"1\" class=\"dataframe\">\n",
       "  <thead>\n",
       "    <tr style=\"text-align: right;\">\n",
       "      <th></th>\n",
       "      <th>Nationality</th>\n",
       "      <th>Age</th>\n",
       "      <th>DaysSinceCreation</th>\n",
       "      <th>AverageLeadTime</th>\n",
       "      <th>LodgingRevenue</th>\n",
       "      <th>OtherRevenue</th>\n",
       "      <th>BookingsCanceled</th>\n",
       "      <th>BookingsNoShowed</th>\n",
       "      <th>BookingsCheckedIn</th>\n",
       "      <th>PersonsNights</th>\n",
       "      <th>RoomNights</th>\n",
       "      <th>DistributionChannel</th>\n",
       "      <th>SRHighFloor</th>\n",
       "      <th>SRLowFloor</th>\n",
       "      <th>SRAccessibleRoom</th>\n",
       "      <th>SRMediumFloor</th>\n",
       "      <th>SRBathtub</th>\n",
       "      <th>SRShower</th>\n",
       "      <th>SRCrib</th>\n",
       "      <th>SRKingSizeBed</th>\n",
       "      <th>SRTwinBed</th>\n",
       "      <th>SRNearElevator</th>\n",
       "      <th>SRAwayFromElevator</th>\n",
       "      <th>SRNoAlcoholInMiniBar</th>\n",
       "      <th>SRQuietRoom</th>\n",
       "      <th>TotalRevenue</th>\n",
       "      <th>SRFloor</th>\n",
       "      <th>SRBathroom</th>\n",
       "    </tr>\n",
       "    <tr>\n",
       "      <th>ID</th>\n",
       "      <th></th>\n",
       "      <th></th>\n",
       "      <th></th>\n",
       "      <th></th>\n",
       "      <th></th>\n",
       "      <th></th>\n",
       "      <th></th>\n",
       "      <th></th>\n",
       "      <th></th>\n",
       "      <th></th>\n",
       "      <th></th>\n",
       "      <th></th>\n",
       "      <th></th>\n",
       "      <th></th>\n",
       "      <th></th>\n",
       "      <th></th>\n",
       "      <th></th>\n",
       "      <th></th>\n",
       "      <th></th>\n",
       "      <th></th>\n",
       "      <th></th>\n",
       "      <th></th>\n",
       "      <th></th>\n",
       "      <th></th>\n",
       "      <th></th>\n",
       "      <th></th>\n",
       "      <th></th>\n",
       "      <th></th>\n",
       "    </tr>\n",
       "  </thead>\n",
       "  <tbody>\n",
       "  </tbody>\n",
       "</table>\n",
       "</div>"
      ],
      "text/plain": [
       "Empty DataFrame\n",
       "Columns: [Nationality, Age, DaysSinceCreation, AverageLeadTime, LodgingRevenue, OtherRevenue, BookingsCanceled, BookingsNoShowed, BookingsCheckedIn, PersonsNights, RoomNights, DistributionChannel, SRHighFloor, SRLowFloor, SRAccessibleRoom, SRMediumFloor, SRBathtub, SRShower, SRCrib, SRKingSizeBed, SRTwinBed, SRNearElevator, SRAwayFromElevator, SRNoAlcoholInMiniBar, SRQuietRoom, TotalRevenue, SRFloor, SRBathroom]\n",
       "Index: []"
      ]
     },
     "execution_count": 105,
     "metadata": {},
     "output_type": "execute_result"
    }
   ],
   "source": [
    "check1 = customers[(customers['SRNearElevator'] == 1) & (customers['SRAwayFromElevator'] == 1)]\n",
    "check1"
   ]
  },
  {
   "cell_type": "code",
   "execution_count": 106,
   "metadata": {},
   "outputs": [],
   "source": [
    "def elevator(row):\n",
    "    if row['SRNearElevator'] == 0 and row['SRAwayFromElevator'] == 0:\n",
    "        return 0\n",
    "    elif row['SRNearElevator'] == 1:\n",
    "        return 1\n",
    "    elif row['SRAwayFromElevator'] == 1:\n",
    "        return 2\n",
    "    else:\n",
    "        return 0"
   ]
  },
  {
   "cell_type": "code",
   "execution_count": 107,
   "metadata": {},
   "outputs": [],
   "source": [
    "customers['SRElevator'] = customers.apply(elevator, axis=1)"
   ]
  },
  {
   "cell_type": "code",
   "execution_count": 108,
   "metadata": {},
   "outputs": [
    {
     "data": {
      "text/plain": [
       "SRElevator\n",
       "0    55396\n",
       "2      225\n",
       "1       16\n",
       "Name: count, dtype: int64"
      ]
     },
     "execution_count": 108,
     "metadata": {},
     "output_type": "execute_result"
    }
   ],
   "source": [
    "customers['SRElevator'].value_counts()"
   ]
  },
  {
   "cell_type": "code",
   "execution_count": 109,
   "metadata": {},
   "outputs": [
    {
     "data": {
      "image/png": "[encoded data removed]",
      "text/plain": [
       "<Figure size 800x600 with 1 Axes>"
      ]
     },
     "metadata": {},
     "output_type": "display_data"
    },
    {
     "name": "stdout",
     "output_type": "stream",
     "text": [
      "99.57% of our costumers have no preference\n",
      "0.03% of our costumers prefere to have a elevator near\n",
      "0.40% of our costumers prefere to have a elevator away\n"
     ]
    }
   ],
   "source": [
    "plt.figure(figsize=(8, 6))\n",
    "plt.hist(customers['SRElevator'], bins=[-0.5,0.5,1.5,2.5], weights=[1 / len(customers['SRElevator'])] * len(customers['SRElevator']))\n",
    "plt.title('Elevator Preference')\n",
    "plt.xticks(range(3))\n",
    "plt.yticks([i/10 for i in range(11)])\n",
    "plt.xlabel('Preference')\n",
    "plt.ylabel('%')\n",
    "plt.show()\n",
    "\n",
    "print(f'{len(customers[customers['SRElevator']==0])/len(customers['SRElevator'])*100:.2f}% of our costumers have no preference')\n",
    "print(f'{len(customers[customers['SRElevator']==1])/len(customers['SRElevator'])*100:.2f}% of our costumers prefere to have a elevator near')\n",
    "print(f'{len(customers[customers['SRElevator']==2])/len(customers['SRElevator'])*100:.2f}% of our costumers prefere to have a elevator away')"
   ]
  },
  {
   "cell_type": "markdown",
   "metadata": {},
   "source": [
    "<a class=\"anchor\" id=\"sub-section-1_5_3_5\">\n",
    "\n",
    "#### 1.5.3.5. SRKingSizedBed & SRTwinBed\n",
    "    \n",
    "</a>"
   ]
  },
  {
   "cell_type": "markdown",
   "metadata": {},
   "source": [
    "We are going to join these two features where:\n",
    "\n",
    "    If the client has no preference then its 0\n",
    "    If the client usually asks for a room with a King size bed then 1\n",
    "    If the client usually asks for a room with a twin bed then 2"
   ]
  },
  {
   "cell_type": "code",
   "execution_count": 110,
   "metadata": {},
   "outputs": [
    {
     "data": {
      "text/html": [
       "<div>\n",
       "<style scoped>\n",
       "    .dataframe tbody tr th:only-of-type {\n",
       "        vertical-align: middle;\n",
       "    }\n",
       "\n",
       "    .dataframe tbody tr th {\n",
       "        vertical-align: top;\n",
       "    }\n",
       "\n",
       "    .dataframe thead th {\n",
       "        text-align: right;\n",
       "    }\n",
       "</style>\n",
       "<table border=\"1\" class=\"dataframe\">\n",
       "  <thead>\n",
       "    <tr style=\"text-align: right;\">\n",
       "      <th></th>\n",
       "      <th>Nationality</th>\n",
       "      <th>Age</th>\n",
       "      <th>DaysSinceCreation</th>\n",
       "      <th>AverageLeadTime</th>\n",
       "      <th>LodgingRevenue</th>\n",
       "      <th>OtherRevenue</th>\n",
       "      <th>BookingsCanceled</th>\n",
       "      <th>BookingsNoShowed</th>\n",
       "      <th>BookingsCheckedIn</th>\n",
       "      <th>PersonsNights</th>\n",
       "      <th>RoomNights</th>\n",
       "      <th>DistributionChannel</th>\n",
       "      <th>SRHighFloor</th>\n",
       "      <th>SRLowFloor</th>\n",
       "      <th>SRAccessibleRoom</th>\n",
       "      <th>SRMediumFloor</th>\n",
       "      <th>SRBathtub</th>\n",
       "      <th>SRShower</th>\n",
       "      <th>SRCrib</th>\n",
       "      <th>SRKingSizeBed</th>\n",
       "      <th>SRTwinBed</th>\n",
       "      <th>SRNearElevator</th>\n",
       "      <th>SRAwayFromElevator</th>\n",
       "      <th>SRNoAlcoholInMiniBar</th>\n",
       "      <th>SRQuietRoom</th>\n",
       "      <th>TotalRevenue</th>\n",
       "      <th>SRFloor</th>\n",
       "      <th>SRBathroom</th>\n",
       "      <th>SRElevator</th>\n",
       "    </tr>\n",
       "    <tr>\n",
       "      <th>ID</th>\n",
       "      <th></th>\n",
       "      <th></th>\n",
       "      <th></th>\n",
       "      <th></th>\n",
       "      <th></th>\n",
       "      <th></th>\n",
       "      <th></th>\n",
       "      <th></th>\n",
       "      <th></th>\n",
       "      <th></th>\n",
       "      <th></th>\n",
       "      <th></th>\n",
       "      <th></th>\n",
       "      <th></th>\n",
       "      <th></th>\n",
       "      <th></th>\n",
       "      <th></th>\n",
       "      <th></th>\n",
       "      <th></th>\n",
       "      <th></th>\n",
       "      <th></th>\n",
       "      <th></th>\n",
       "      <th></th>\n",
       "      <th></th>\n",
       "      <th></th>\n",
       "      <th></th>\n",
       "      <th></th>\n",
       "      <th></th>\n",
       "      <th></th>\n",
       "    </tr>\n",
       "  </thead>\n",
       "  <tbody>\n",
       "    <tr>\n",
       "      <th>42714</th>\n",
       "      <td>CHN</td>\n",
       "      <td>46.0</td>\n",
       "      <td>659</td>\n",
       "      <td>24</td>\n",
       "      <td>981.0</td>\n",
       "      <td>150.0</td>\n",
       "      <td>0</td>\n",
       "      <td>0</td>\n",
       "      <td>1</td>\n",
       "      <td>6</td>\n",
       "      <td>3</td>\n",
       "      <td>Travel Agent/Operator</td>\n",
       "      <td>0</td>\n",
       "      <td>0</td>\n",
       "      <td>0</td>\n",
       "      <td>0</td>\n",
       "      <td>0</td>\n",
       "      <td>0</td>\n",
       "      <td>0</td>\n",
       "      <td>1</td>\n",
       "      <td>1</td>\n",
       "      <td>0</td>\n",
       "      <td>0</td>\n",
       "      <td>0</td>\n",
       "      <td>0</td>\n",
       "      <td>1131.0</td>\n",
       "      <td>0</td>\n",
       "      <td>0</td>\n",
       "      <td>0</td>\n",
       "    </tr>\n",
       "    <tr>\n",
       "      <th>42183</th>\n",
       "      <td>ESP</td>\n",
       "      <td>80.0</td>\n",
       "      <td>677</td>\n",
       "      <td>20</td>\n",
       "      <td>1143.0</td>\n",
       "      <td>215.0</td>\n",
       "      <td>0</td>\n",
       "      <td>0</td>\n",
       "      <td>1</td>\n",
       "      <td>6</td>\n",
       "      <td>3</td>\n",
       "      <td>Travel Agent/Operator</td>\n",
       "      <td>0</td>\n",
       "      <td>0</td>\n",
       "      <td>0</td>\n",
       "      <td>0</td>\n",
       "      <td>0</td>\n",
       "      <td>0</td>\n",
       "      <td>0</td>\n",
       "      <td>1</td>\n",
       "      <td>1</td>\n",
       "      <td>0</td>\n",
       "      <td>0</td>\n",
       "      <td>0</td>\n",
       "      <td>1</td>\n",
       "      <td>1358.0</td>\n",
       "      <td>0</td>\n",
       "      <td>0</td>\n",
       "      <td>0</td>\n",
       "    </tr>\n",
       "    <tr>\n",
       "      <th>82905</th>\n",
       "      <td>IND</td>\n",
       "      <td>36.0</td>\n",
       "      <td>296</td>\n",
       "      <td>64</td>\n",
       "      <td>533.2</td>\n",
       "      <td>143.0</td>\n",
       "      <td>0</td>\n",
       "      <td>0</td>\n",
       "      <td>1</td>\n",
       "      <td>20</td>\n",
       "      <td>5</td>\n",
       "      <td>Travel Agent/Operator</td>\n",
       "      <td>0</td>\n",
       "      <td>0</td>\n",
       "      <td>0</td>\n",
       "      <td>0</td>\n",
       "      <td>0</td>\n",
       "      <td>0</td>\n",
       "      <td>0</td>\n",
       "      <td>1</td>\n",
       "      <td>1</td>\n",
       "      <td>0</td>\n",
       "      <td>0</td>\n",
       "      <td>0</td>\n",
       "      <td>0</td>\n",
       "      <td>676.2</td>\n",
       "      <td>0</td>\n",
       "      <td>0</td>\n",
       "      <td>0</td>\n",
       "    </tr>\n",
       "    <tr>\n",
       "      <th>15318</th>\n",
       "      <td>GBR</td>\n",
       "      <td>54.0</td>\n",
       "      <td>1113</td>\n",
       "      <td>99</td>\n",
       "      <td>193.9</td>\n",
       "      <td>28.0</td>\n",
       "      <td>0</td>\n",
       "      <td>0</td>\n",
       "      <td>2</td>\n",
       "      <td>4</td>\n",
       "      <td>2</td>\n",
       "      <td>Travel Agent/Operator</td>\n",
       "      <td>0</td>\n",
       "      <td>0</td>\n",
       "      <td>0</td>\n",
       "      <td>0</td>\n",
       "      <td>0</td>\n",
       "      <td>0</td>\n",
       "      <td>0</td>\n",
       "      <td>1</td>\n",
       "      <td>1</td>\n",
       "      <td>0</td>\n",
       "      <td>0</td>\n",
       "      <td>0</td>\n",
       "      <td>1</td>\n",
       "      <td>221.9</td>\n",
       "      <td>0</td>\n",
       "      <td>0</td>\n",
       "      <td>0</td>\n",
       "    </tr>\n",
       "    <tr>\n",
       "      <th>26188</th>\n",
       "      <td>ITA</td>\n",
       "      <td>21.0</td>\n",
       "      <td>915</td>\n",
       "      <td>112</td>\n",
       "      <td>315.0</td>\n",
       "      <td>6.0</td>\n",
       "      <td>0</td>\n",
       "      <td>0</td>\n",
       "      <td>1</td>\n",
       "      <td>6</td>\n",
       "      <td>3</td>\n",
       "      <td>Travel Agent/Operator</td>\n",
       "      <td>0</td>\n",
       "      <td>0</td>\n",
       "      <td>0</td>\n",
       "      <td>0</td>\n",
       "      <td>0</td>\n",
       "      <td>0</td>\n",
       "      <td>0</td>\n",
       "      <td>1</td>\n",
       "      <td>1</td>\n",
       "      <td>0</td>\n",
       "      <td>0</td>\n",
       "      <td>0</td>\n",
       "      <td>0</td>\n",
       "      <td>321.0</td>\n",
       "      <td>0</td>\n",
       "      <td>0</td>\n",
       "      <td>0</td>\n",
       "    </tr>\n",
       "    <tr>\n",
       "      <th>30833</th>\n",
       "      <td>ITA</td>\n",
       "      <td>24.0</td>\n",
       "      <td>847</td>\n",
       "      <td>19</td>\n",
       "      <td>534.0</td>\n",
       "      <td>42.0</td>\n",
       "      <td>0</td>\n",
       "      <td>0</td>\n",
       "      <td>1</td>\n",
       "      <td>6</td>\n",
       "      <td>3</td>\n",
       "      <td>Travel Agent/Operator</td>\n",
       "      <td>0</td>\n",
       "      <td>0</td>\n",
       "      <td>0</td>\n",
       "      <td>0</td>\n",
       "      <td>0</td>\n",
       "      <td>0</td>\n",
       "      <td>0</td>\n",
       "      <td>1</td>\n",
       "      <td>1</td>\n",
       "      <td>0</td>\n",
       "      <td>0</td>\n",
       "      <td>0</td>\n",
       "      <td>0</td>\n",
       "      <td>576.0</td>\n",
       "      <td>0</td>\n",
       "      <td>0</td>\n",
       "      <td>0</td>\n",
       "    </tr>\n",
       "    <tr>\n",
       "      <th>43778</th>\n",
       "      <td>PRT</td>\n",
       "      <td>63.0</td>\n",
       "      <td>639</td>\n",
       "      <td>3</td>\n",
       "      <td>2811.8</td>\n",
       "      <td>42.0</td>\n",
       "      <td>0</td>\n",
       "      <td>0</td>\n",
       "      <td>1</td>\n",
       "      <td>16</td>\n",
       "      <td>8</td>\n",
       "      <td>Travel Agent/Operator</td>\n",
       "      <td>0</td>\n",
       "      <td>0</td>\n",
       "      <td>0</td>\n",
       "      <td>0</td>\n",
       "      <td>0</td>\n",
       "      <td>0</td>\n",
       "      <td>0</td>\n",
       "      <td>1</td>\n",
       "      <td>1</td>\n",
       "      <td>0</td>\n",
       "      <td>0</td>\n",
       "      <td>0</td>\n",
       "      <td>0</td>\n",
       "      <td>2853.8</td>\n",
       "      <td>0</td>\n",
       "      <td>0</td>\n",
       "      <td>0</td>\n",
       "    </tr>\n",
       "    <tr>\n",
       "      <th>39371</th>\n",
       "      <td>ESP</td>\n",
       "      <td>40.0</td>\n",
       "      <td>726</td>\n",
       "      <td>87</td>\n",
       "      <td>1032.0</td>\n",
       "      <td>165.0</td>\n",
       "      <td>0</td>\n",
       "      <td>0</td>\n",
       "      <td>2</td>\n",
       "      <td>7</td>\n",
       "      <td>5</td>\n",
       "      <td>Travel Agent/Operator</td>\n",
       "      <td>0</td>\n",
       "      <td>0</td>\n",
       "      <td>0</td>\n",
       "      <td>0</td>\n",
       "      <td>0</td>\n",
       "      <td>0</td>\n",
       "      <td>0</td>\n",
       "      <td>1</td>\n",
       "      <td>1</td>\n",
       "      <td>0</td>\n",
       "      <td>0</td>\n",
       "      <td>0</td>\n",
       "      <td>0</td>\n",
       "      <td>1197.0</td>\n",
       "      <td>0</td>\n",
       "      <td>0</td>\n",
       "      <td>0</td>\n",
       "    </tr>\n",
       "    <tr>\n",
       "      <th>34596</th>\n",
       "      <td>FRA</td>\n",
       "      <td>48.0</td>\n",
       "      <td>792</td>\n",
       "      <td>89</td>\n",
       "      <td>500.0</td>\n",
       "      <td>91.0</td>\n",
       "      <td>0</td>\n",
       "      <td>0</td>\n",
       "      <td>1</td>\n",
       "      <td>8</td>\n",
       "      <td>4</td>\n",
       "      <td>Travel Agent/Operator</td>\n",
       "      <td>0</td>\n",
       "      <td>0</td>\n",
       "      <td>0</td>\n",
       "      <td>0</td>\n",
       "      <td>0</td>\n",
       "      <td>0</td>\n",
       "      <td>0</td>\n",
       "      <td>1</td>\n",
       "      <td>1</td>\n",
       "      <td>0</td>\n",
       "      <td>0</td>\n",
       "      <td>0</td>\n",
       "      <td>0</td>\n",
       "      <td>591.0</td>\n",
       "      <td>0</td>\n",
       "      <td>0</td>\n",
       "      <td>0</td>\n",
       "    </tr>\n",
       "    <tr>\n",
       "      <th>111537</th>\n",
       "      <td>BEL</td>\n",
       "      <td>35.0</td>\n",
       "      <td>39</td>\n",
       "      <td>133</td>\n",
       "      <td>1000.5</td>\n",
       "      <td>128.0</td>\n",
       "      <td>0</td>\n",
       "      <td>0</td>\n",
       "      <td>1</td>\n",
       "      <td>14</td>\n",
       "      <td>7</td>\n",
       "      <td>Travel Agent/Operator</td>\n",
       "      <td>0</td>\n",
       "      <td>0</td>\n",
       "      <td>0</td>\n",
       "      <td>0</td>\n",
       "      <td>0</td>\n",
       "      <td>0</td>\n",
       "      <td>0</td>\n",
       "      <td>1</td>\n",
       "      <td>1</td>\n",
       "      <td>0</td>\n",
       "      <td>0</td>\n",
       "      <td>0</td>\n",
       "      <td>1</td>\n",
       "      <td>1128.5</td>\n",
       "      <td>0</td>\n",
       "      <td>0</td>\n",
       "      <td>0</td>\n",
       "    </tr>\n",
       "  </tbody>\n",
       "</table>\n",
       "</div>"
      ],
      "text/plain": [
       "       Nationality   Age  DaysSinceCreation  AverageLeadTime  LodgingRevenue  \\\n",
       "ID                                                                             \n",
       "42714          CHN  46.0                659               24           981.0   \n",
       "42183          ESP  80.0                677               20          1143.0   \n",
       "82905          IND  36.0                296               64           533.2   \n",
       "15318          GBR  54.0               1113               99           193.9   \n",
       "26188          ITA  21.0                915              112           315.0   \n",
       "30833          ITA  24.0                847               19           534.0   \n",
       "43778          PRT  63.0                639                3          2811.8   \n",
       "39371          ESP  40.0                726               87          1032.0   \n",
       "34596          FRA  48.0                792               89           500.0   \n",
       "111537         BEL  35.0                 39              133          1000.5   \n",
       "\n",
       "        OtherRevenue  BookingsCanceled  BookingsNoShowed  BookingsCheckedIn  \\\n",
       "ID                                                                            \n",
       "42714          150.0                 0                 0                  1   \n",
       "42183          215.0                 0                 0                  1   \n",
       "82905          143.0                 0                 0                  1   \n",
       "15318           28.0                 0                 0                  2   \n",
       "26188            6.0                 0                 0                  1   \n",
       "30833           42.0                 0                 0                  1   \n",
       "43778           42.0                 0                 0                  1   \n",
       "39371          165.0                 0                 0                  2   \n",
       "34596           91.0                 0                 0                  1   \n",
       "111537         128.0                 0                 0                  1   \n",
       "\n",
       "        PersonsNights  RoomNights    DistributionChannel  SRHighFloor  \\\n",
       "ID                                                                      \n",
       "42714               6           3  Travel Agent/Operator            0   \n",
       "42183               6           3  Travel Agent/Operator            0   \n",
       "82905              20           5  Travel Agent/Operator            0   \n",
       "15318               4           2  Travel Agent/Operator            0   \n",
       "26188               6           3  Travel Agent/Operator            0   \n",
       "30833               6           3  Travel Agent/Operator            0   \n",
       "43778              16           8  Travel Agent/Operator            0   \n",
       "39371               7           5  Travel Agent/Operator            0   \n",
       "34596               8           4  Travel Agent/Operator            0   \n",
       "111537             14           7  Travel Agent/Operator            0   \n",
       "\n",
       "        SRLowFloor  SRAccessibleRoom  SRMediumFloor  SRBathtub  SRShower  \\\n",
       "ID                                                                         \n",
       "42714            0                 0              0          0         0   \n",
       "42183            0                 0              0          0         0   \n",
       "82905            0                 0              0          0         0   \n",
       "15318            0                 0              0          0         0   \n",
       "26188            0                 0              0          0         0   \n",
       "30833            0                 0              0          0         0   \n",
       "43778            0                 0              0          0         0   \n",
       "39371            0                 0              0          0         0   \n",
       "34596            0                 0              0          0         0   \n",
       "111537           0                 0              0          0         0   \n",
       "\n",
       "        SRCrib  SRKingSizeBed  SRTwinBed  SRNearElevator  SRAwayFromElevator  \\\n",
       "ID                                                                             \n",
       "42714        0              1          1               0                   0   \n",
       "42183        0              1          1               0                   0   \n",
       "82905        0              1          1               0                   0   \n",
       "15318        0              1          1               0                   0   \n",
       "26188        0              1          1               0                   0   \n",
       "30833        0              1          1               0                   0   \n",
       "43778        0              1          1               0                   0   \n",
       "39371        0              1          1               0                   0   \n",
       "34596        0              1          1               0                   0   \n",
       "111537       0              1          1               0                   0   \n",
       "\n",
       "        SRNoAlcoholInMiniBar  SRQuietRoom  TotalRevenue  SRFloor  SRBathroom  \\\n",
       "ID                                                                             \n",
       "42714                      0            0        1131.0        0           0   \n",
       "42183                      0            1        1358.0        0           0   \n",
       "82905                      0            0         676.2        0           0   \n",
       "15318                      0            1         221.9        0           0   \n",
       "26188                      0            0         321.0        0           0   \n",
       "30833                      0            0         576.0        0           0   \n",
       "43778                      0            0        2853.8        0           0   \n",
       "39371                      0            0        1197.0        0           0   \n",
       "34596                      0            0         591.0        0           0   \n",
       "111537                     0            1        1128.5        0           0   \n",
       "\n",
       "        SRElevator  \n",
       "ID                  \n",
       "42714            0  \n",
       "42183            0  \n",
       "82905            0  \n",
       "15318            0  \n",
       "26188            0  \n",
       "30833            0  \n",
       "43778            0  \n",
       "39371            0  \n",
       "34596            0  \n",
       "111537           0  "
      ]
     },
     "execution_count": 110,
     "metadata": {},
     "output_type": "execute_result"
    }
   ],
   "source": [
    "check1 = customers[(customers['SRKingSizeBed'] == 1) & (customers['SRTwinBed'] == 1)]\n",
    "check1.sample(10)"
   ]
  },
  {
   "cell_type": "markdown",
   "metadata": {},
   "source": [
    "Not sure what to do with this maybe create 3 category"
   ]
  },
  {
   "cell_type": "code",
   "execution_count": 111,
   "metadata": {},
   "outputs": [
    {
     "data": {
      "text/plain": [
       "Index(['Nationality', 'Age', 'DaysSinceCreation', 'AverageLeadTime',\n",
       "       'LodgingRevenue', 'OtherRevenue', 'BookingsCanceled',\n",
       "       'BookingsNoShowed', 'BookingsCheckedIn', 'PersonsNights', 'RoomNights',\n",
       "       'DistributionChannel', 'SRHighFloor', 'SRLowFloor', 'SRAccessibleRoom',\n",
       "       'SRMediumFloor', 'SRBathtub', 'SRShower', 'SRCrib', 'SRKingSizeBed',\n",
       "       'SRTwinBed', 'SRNearElevator', 'SRAwayFromElevator',\n",
       "       'SRNoAlcoholInMiniBar', 'SRQuietRoom', 'TotalRevenue', 'SRFloor',\n",
       "       'SRBathroom', 'SRElevator'],\n",
       "      dtype='object')"
      ]
     },
     "execution_count": 111,
     "metadata": {},
     "output_type": "execute_result"
    }
   ],
   "source": [
    "customers.columns"
   ]
  },
  {
   "cell_type": "markdown",
   "metadata": {},
   "source": [
    "<a class=\"anchor\" id=\"sub-section-1_5_3_6\">\n",
    "\n",
    "#### 1.5.3.6. SRNoAlcoholInMiniBar\n",
    "    \n",
    "</a>"
   ]
  },
  {
   "cell_type": "code",
   "execution_count": 112,
   "metadata": {},
   "outputs": [
    {
     "data": {
      "text/plain": [
       "SRNoAlcoholInMiniBar\n",
       "0    55628\n",
       "1        9\n",
       "Name: count, dtype: int64"
      ]
     },
     "execution_count": 112,
     "metadata": {},
     "output_type": "execute_result"
    }
   ],
   "source": [
    "customers['SRNoAlcoholInMiniBar'].value_counts()"
   ]
  },
  {
   "cell_type": "code",
   "execution_count": 113,
   "metadata": {},
   "outputs": [
    {
     "data": {
      "image/png": "[encoded data removed]",
      "text/plain": [
       "<Figure size 1200x800 with 1 Axes>"
      ]
     },
     "metadata": {},
     "output_type": "display_data"
    },
    {
     "name": "stdout",
     "output_type": "stream",
     "text": [
      "99.98% of our costumers don't ask for no alcohol in the mini bar\n",
      "0.02% of our costumers ask for no Alcohol in Mini Bar\n"
     ]
    }
   ],
   "source": [
    "plt.figure(figsize=(12, 8))\n",
    "plt.hist(customers['SRNoAlcoholInMiniBar'], bins=[-0.5, 0.5, 1.5], color='blue', weights=[1 / len(customers['SRNoAlcoholInMiniBar'])] * len(customers['SRNoAlcoholInMiniBar']), edgecolor='black')\n",
    "plt.title('Alcohol in Mini Bar')\n",
    "plt.xlabel('Alcohol in Mini Bar')\n",
    "plt.ylabel('%')\n",
    "plt.xticks(range(2))\n",
    "plt.yticks([i/10 for i in range(11)])\n",
    "plt.xlim([-1, 2])\n",
    "plt.show()\n",
    "\n",
    "print(f\"{len(customers[customers[\"SRNoAlcoholInMiniBar\"]==0])/len(customers['SRNoAlcoholInMiniBar'])*100:.2f}% of our costumers don't ask for no alcohol in the mini bar\")\n",
    "print(f'{len(customers[customers[\"SRNoAlcoholInMiniBar\"]==1])/len(customers['SRNoAlcoholInMiniBar'])*100:.2f}% of our costumers ask for no Alcohol in Mini Bar')"
   ]
  },
  {
   "cell_type": "markdown",
   "metadata": {},
   "source": [
    "<a class=\"anchor\" id=\"sub-section-1_5_3_7\">\n",
    "\n",
    "#### 1.5.3.7. SRQuietRoom\n",
    "    \n",
    "</a>"
   ]
  },
  {
   "cell_type": "code",
   "execution_count": 114,
   "metadata": {},
   "outputs": [
    {
     "data": {
      "text/plain": [
       "SRQuietRoom\n",
       "0    50357\n",
       "1     5280\n",
       "Name: count, dtype: int64"
      ]
     },
     "execution_count": 114,
     "metadata": {},
     "output_type": "execute_result"
    }
   ],
   "source": [
    "customers['SRQuietRoom'].value_counts()"
   ]
  },
  {
   "cell_type": "code",
   "execution_count": 115,
   "metadata": {},
   "outputs": [
    {
     "data": {
      "image/png": "[encoded data removed]",
      "text/plain": [
       "<Figure size 1200x800 with 1 Axes>"
      ]
     },
     "metadata": {},
     "output_type": "display_data"
    },
    {
     "name": "stdout",
     "output_type": "stream",
     "text": [
      "90.51% of our costumers don't ask for a quieet room\n",
      "9.49% of our costumers ask for a quiet room\n"
     ]
    }
   ],
   "source": [
    "plt.figure(figsize=(12, 8))\n",
    "plt.hist(customers['SRQuietRoom'], bins=[-0.5, 0.5, 1.5], color='blue', weights=[1 / len(customers['SRQuietRoom'])] * len(customers['SRQuietRoom']), edgecolor='black')\n",
    "plt.title('Quiet Room')\n",
    "plt.xlabel('Quiet Room')\n",
    "plt.ylabel('%')\n",
    "plt.xticks(range(2))\n",
    "plt.yticks([i/10 for i in range(11)])\n",
    "plt.xlim([-1, 2])\n",
    "plt.show()\n",
    "\n",
    "print(f\"{len(customers[customers[\"SRQuietRoom\"]==0])/len(customers['SRQuietRoom'])*100:.2f}% of our costumers don't ask for a quieet room\")\n",
    "print(f'{len(customers[customers[\"SRQuietRoom\"]==1])/len(customers['SRQuietRoom'])*100:.2f}% of our costumers ask for a quiet room')"
   ]
  },
  {
   "cell_type": "markdown",
   "metadata": {},
   "source": [
    "<a class=\"anchor\" id=\"chapter2\"></a>\n",
    "\n",
    "# 2. Data Preprocessing\n",
    "\n",
    "</a>"
   ]
  },
  {
   "cell_type": "markdown",
   "metadata": {},
   "source": [
    "<a class=\"anchor\" id=\"sub-section-2_1\"></a>\n",
    "\n",
    "## 2.1. Feature Engineering\n",
    "\n",
    "</a>"
   ]
  },
  {
   "cell_type": "markdown",
   "metadata": {},
   "source": [
    "<a class=\"anchor\" id=\"sub-section-2_1_1\">\n",
    "\n",
    "### 2.1.1. TotalSR\n",
    "    \n",
    "</a>"
   ]
  },
  {
   "cell_type": "code",
   "execution_count": 116,
   "metadata": {},
   "outputs": [
    {
     "data": {
      "text/html": [
       "<div>\n",
       "<style scoped>\n",
       "    .dataframe tbody tr th:only-of-type {\n",
       "        vertical-align: middle;\n",
       "    }\n",
       "\n",
       "    .dataframe tbody tr th {\n",
       "        vertical-align: top;\n",
       "    }\n",
       "\n",
       "    .dataframe thead th {\n",
       "        text-align: right;\n",
       "    }\n",
       "</style>\n",
       "<table border=\"1\" class=\"dataframe\">\n",
       "  <thead>\n",
       "    <tr style=\"text-align: right;\">\n",
       "      <th></th>\n",
       "      <th>Nationality</th>\n",
       "      <th>Age</th>\n",
       "      <th>DaysSinceCreation</th>\n",
       "      <th>AverageLeadTime</th>\n",
       "      <th>LodgingRevenue</th>\n",
       "      <th>OtherRevenue</th>\n",
       "      <th>BookingsCanceled</th>\n",
       "      <th>BookingsNoShowed</th>\n",
       "      <th>BookingsCheckedIn</th>\n",
       "      <th>PersonsNights</th>\n",
       "      <th>RoomNights</th>\n",
       "      <th>DistributionChannel</th>\n",
       "      <th>SRHighFloor</th>\n",
       "      <th>SRLowFloor</th>\n",
       "      <th>SRAccessibleRoom</th>\n",
       "      <th>SRMediumFloor</th>\n",
       "      <th>SRBathtub</th>\n",
       "      <th>SRShower</th>\n",
       "      <th>SRCrib</th>\n",
       "      <th>SRKingSizeBed</th>\n",
       "      <th>SRTwinBed</th>\n",
       "      <th>SRNearElevator</th>\n",
       "      <th>SRAwayFromElevator</th>\n",
       "      <th>SRNoAlcoholInMiniBar</th>\n",
       "      <th>SRQuietRoom</th>\n",
       "      <th>TotalRevenue</th>\n",
       "      <th>SRFloor</th>\n",
       "      <th>SRBathroom</th>\n",
       "      <th>SRElevator</th>\n",
       "    </tr>\n",
       "    <tr>\n",
       "      <th>ID</th>\n",
       "      <th></th>\n",
       "      <th></th>\n",
       "      <th></th>\n",
       "      <th></th>\n",
       "      <th></th>\n",
       "      <th></th>\n",
       "      <th></th>\n",
       "      <th></th>\n",
       "      <th></th>\n",
       "      <th></th>\n",
       "      <th></th>\n",
       "      <th></th>\n",
       "      <th></th>\n",
       "      <th></th>\n",
       "      <th></th>\n",
       "      <th></th>\n",
       "      <th></th>\n",
       "      <th></th>\n",
       "      <th></th>\n",
       "      <th></th>\n",
       "      <th></th>\n",
       "      <th></th>\n",
       "      <th></th>\n",
       "      <th></th>\n",
       "      <th></th>\n",
       "      <th></th>\n",
       "      <th></th>\n",
       "      <th></th>\n",
       "      <th></th>\n",
       "    </tr>\n",
       "  </thead>\n",
       "  <tbody>\n",
       "    <tr>\n",
       "      <th>1</th>\n",
       "      <td>PRT</td>\n",
       "      <td>52.0</td>\n",
       "      <td>440</td>\n",
       "      <td>59</td>\n",
       "      <td>292.0</td>\n",
       "      <td>82.3</td>\n",
       "      <td>1</td>\n",
       "      <td>0</td>\n",
       "      <td>2</td>\n",
       "      <td>6</td>\n",
       "      <td>4</td>\n",
       "      <td>Corporate</td>\n",
       "      <td>0</td>\n",
       "      <td>0</td>\n",
       "      <td>0</td>\n",
       "      <td>0</td>\n",
       "      <td>0</td>\n",
       "      <td>0</td>\n",
       "      <td>0</td>\n",
       "      <td>0</td>\n",
       "      <td>0</td>\n",
       "      <td>0</td>\n",
       "      <td>0</td>\n",
       "      <td>0</td>\n",
       "      <td>0</td>\n",
       "      <td>374.3</td>\n",
       "      <td>0</td>\n",
       "      <td>0</td>\n",
       "      <td>0</td>\n",
       "    </tr>\n",
       "    <tr>\n",
       "      <th>4</th>\n",
       "      <td>FRA</td>\n",
       "      <td>61.0</td>\n",
       "      <td>1385</td>\n",
       "      <td>93</td>\n",
       "      <td>240.0</td>\n",
       "      <td>60.0</td>\n",
       "      <td>0</td>\n",
       "      <td>0</td>\n",
       "      <td>1</td>\n",
       "      <td>10</td>\n",
       "      <td>5</td>\n",
       "      <td>Travel Agent/Operator</td>\n",
       "      <td>0</td>\n",
       "      <td>0</td>\n",
       "      <td>0</td>\n",
       "      <td>0</td>\n",
       "      <td>0</td>\n",
       "      <td>0</td>\n",
       "      <td>0</td>\n",
       "      <td>0</td>\n",
       "      <td>0</td>\n",
       "      <td>0</td>\n",
       "      <td>0</td>\n",
       "      <td>0</td>\n",
       "      <td>0</td>\n",
       "      <td>300.0</td>\n",
       "      <td>0</td>\n",
       "      <td>0</td>\n",
       "      <td>0</td>\n",
       "    </tr>\n",
       "    <tr>\n",
       "      <th>6</th>\n",
       "      <td>JPN</td>\n",
       "      <td>55.0</td>\n",
       "      <td>1385</td>\n",
       "      <td>58</td>\n",
       "      <td>230.0</td>\n",
       "      <td>24.0</td>\n",
       "      <td>0</td>\n",
       "      <td>0</td>\n",
       "      <td>1</td>\n",
       "      <td>4</td>\n",
       "      <td>2</td>\n",
       "      <td>Travel Agent/Operator</td>\n",
       "      <td>0</td>\n",
       "      <td>0</td>\n",
       "      <td>0</td>\n",
       "      <td>0</td>\n",
       "      <td>0</td>\n",
       "      <td>0</td>\n",
       "      <td>0</td>\n",
       "      <td>0</td>\n",
       "      <td>0</td>\n",
       "      <td>0</td>\n",
       "      <td>0</td>\n",
       "      <td>0</td>\n",
       "      <td>0</td>\n",
       "      <td>254.0</td>\n",
       "      <td>0</td>\n",
       "      <td>0</td>\n",
       "      <td>0</td>\n",
       "    </tr>\n",
       "    <tr>\n",
       "      <th>8</th>\n",
       "      <td>FRA</td>\n",
       "      <td>33.0</td>\n",
       "      <td>1385</td>\n",
       "      <td>38</td>\n",
       "      <td>535.0</td>\n",
       "      <td>94.0</td>\n",
       "      <td>0</td>\n",
       "      <td>0</td>\n",
       "      <td>1</td>\n",
       "      <td>10</td>\n",
       "      <td>5</td>\n",
       "      <td>Travel Agent/Operator</td>\n",
       "      <td>0</td>\n",
       "      <td>0</td>\n",
       "      <td>0</td>\n",
       "      <td>0</td>\n",
       "      <td>0</td>\n",
       "      <td>0</td>\n",
       "      <td>0</td>\n",
       "      <td>1</td>\n",
       "      <td>0</td>\n",
       "      <td>0</td>\n",
       "      <td>0</td>\n",
       "      <td>0</td>\n",
       "      <td>0</td>\n",
       "      <td>629.0</td>\n",
       "      <td>0</td>\n",
       "      <td>0</td>\n",
       "      <td>0</td>\n",
       "    </tr>\n",
       "    <tr>\n",
       "      <th>10</th>\n",
       "      <td>IRL</td>\n",
       "      <td>26.0</td>\n",
       "      <td>1385</td>\n",
       "      <td>96</td>\n",
       "      <td>174.0</td>\n",
       "      <td>69.0</td>\n",
       "      <td>0</td>\n",
       "      <td>0</td>\n",
       "      <td>1</td>\n",
       "      <td>6</td>\n",
       "      <td>3</td>\n",
       "      <td>Travel Agent/Operator</td>\n",
       "      <td>0</td>\n",
       "      <td>0</td>\n",
       "      <td>0</td>\n",
       "      <td>0</td>\n",
       "      <td>0</td>\n",
       "      <td>0</td>\n",
       "      <td>0</td>\n",
       "      <td>0</td>\n",
       "      <td>0</td>\n",
       "      <td>0</td>\n",
       "      <td>0</td>\n",
       "      <td>0</td>\n",
       "      <td>0</td>\n",
       "      <td>243.0</td>\n",
       "      <td>0</td>\n",
       "      <td>0</td>\n",
       "      <td>0</td>\n",
       "    </tr>\n",
       "  </tbody>\n",
       "</table>\n",
       "</div>"
      ],
      "text/plain": [
       "   Nationality   Age  DaysSinceCreation  AverageLeadTime  LodgingRevenue  \\\n",
       "ID                                                                         \n",
       "1          PRT  52.0                440               59           292.0   \n",
       "4          FRA  61.0               1385               93           240.0   \n",
       "6          JPN  55.0               1385               58           230.0   \n",
       "8          FRA  33.0               1385               38           535.0   \n",
       "10         IRL  26.0               1385               96           174.0   \n",
       "\n",
       "    OtherRevenue  BookingsCanceled  BookingsNoShowed  BookingsCheckedIn  \\\n",
       "ID                                                                        \n",
       "1           82.3                 1                 0                  2   \n",
       "4           60.0                 0                 0                  1   \n",
       "6           24.0                 0                 0                  1   \n",
       "8           94.0                 0                 0                  1   \n",
       "10          69.0                 0                 0                  1   \n",
       "\n",
       "    PersonsNights  RoomNights    DistributionChannel  SRHighFloor  SRLowFloor  \\\n",
       "ID                                                                              \n",
       "1               6           4              Corporate            0           0   \n",
       "4              10           5  Travel Agent/Operator            0           0   \n",
       "6               4           2  Travel Agent/Operator            0           0   \n",
       "8              10           5  Travel Agent/Operator            0           0   \n",
       "10              6           3  Travel Agent/Operator            0           0   \n",
       "\n",
       "    SRAccessibleRoom  SRMediumFloor  SRBathtub  SRShower  SRCrib  \\\n",
       "ID                                                                 \n",
       "1                  0              0          0         0       0   \n",
       "4                  0              0          0         0       0   \n",
       "6                  0              0          0         0       0   \n",
       "8                  0              0          0         0       0   \n",
       "10                 0              0          0         0       0   \n",
       "\n",
       "    SRKingSizeBed  SRTwinBed  SRNearElevator  SRAwayFromElevator  \\\n",
       "ID                                                                 \n",
       "1               0          0               0                   0   \n",
       "4               0          0               0                   0   \n",
       "6               0          0               0                   0   \n",
       "8               1          0               0                   0   \n",
       "10              0          0               0                   0   \n",
       "\n",
       "    SRNoAlcoholInMiniBar  SRQuietRoom  TotalRevenue  SRFloor  SRBathroom  \\\n",
       "ID                                                                         \n",
       "1                      0            0         374.3        0           0   \n",
       "4                      0            0         300.0        0           0   \n",
       "6                      0            0         254.0        0           0   \n",
       "8                      0            0         629.0        0           0   \n",
       "10                     0            0         243.0        0           0   \n",
       "\n",
       "    SRElevator  \n",
       "ID              \n",
       "1            0  \n",
       "4            0  \n",
       "6            0  \n",
       "8            0  \n",
       "10           0  "
      ]
     },
     "execution_count": 116,
     "metadata": {},
     "output_type": "execute_result"
    }
   ],
   "source": [
    "customers.head()"
   ]
  },
  {
   "cell_type": "code",
   "execution_count": 117,
   "metadata": {},
   "outputs": [
    {
     "data": {
      "text/plain": [
       "TotalSR\n",
       "1    27389\n",
       "0    21871\n",
       "2     5805\n",
       "3      535\n",
       "4       37\n",
       "Name: count, dtype: int64"
      ]
     },
     "execution_count": 117,
     "metadata": {},
     "output_type": "execute_result"
    }
   ],
   "source": [
    "# List of columns to exclude\n",
    "exclude_columns = ['SRFloor', 'SRBathroom', 'SRElevator']\n",
    "\n",
    "# Filter columns that start with 'SR' and are not in the exclude list\n",
    "sr_columns_to_sum = [col for col in customers.columns if col.startswith('SR') and col not in exclude_columns]\n",
    "\n",
    "# Create the TotalSR column by summing the filtered SR columns\n",
    "customers['TotalSR'] = customers[sr_columns_to_sum].sum(axis=1)\n",
    "\n",
    "customers['TotalSR'].value_counts()"
   ]
  },
  {
   "cell_type": "code",
   "execution_count": 118,
   "metadata": {},
   "outputs": [
    {
     "data": {
      "text/plain": [
       "count    55637.000000\n",
       "mean         0.732462\n",
       "std          0.685798\n",
       "min          0.000000\n",
       "25%          0.000000\n",
       "50%          1.000000\n",
       "75%          1.000000\n",
       "max          4.000000\n",
       "Name: TotalSR, dtype: float64"
      ]
     },
     "execution_count": 118,
     "metadata": {},
     "output_type": "execute_result"
    }
   ],
   "source": [
    "customers['TotalSR'].describe()"
   ]
  },
  {
   "cell_type": "code",
   "execution_count": 119,
   "metadata": {},
   "outputs": [
    {
     "data": {
      "image/png": "[encoded data removed]",
      "text/plain": [
       "<Figure size 1200x400 with 1 Axes>"
      ]
     },
     "metadata": {},
     "output_type": "display_data"
    }
   ],
   "source": [
    "# Make a bar plot of the TotalSR\n",
    "plt.figure(figsize=(12, 4))\n",
    "plt.hist(customers['TotalSR'], bins=np.arange(-0.5, 7.5, 1), color='green', edgecolor='black')\n",
    "plt.title('Total Special Requests')\n",
    "plt.xlabel('Total Special Requests')\n",
    "plt.ylabel('Frequency')\n",
    "plt.xticks(range(8))\n",
    "plt.show()"
   ]
  },
  {
   "cell_type": "markdown",
   "metadata": {},
   "source": [
    "<a class=\"anchor\" id=\"sub-section-2_1_2\">\n",
    "\n",
    "### 2.1.2. Cancelation Rate\n",
    "    \n",
    "</a>"
   ]
  },
  {
   "cell_type": "code",
   "execution_count": 120,
   "metadata": {},
   "outputs": [
    {
     "data": {
      "text/plain": [
       "['BookingsCanceled', 'BookingsNoShowed', 'BookingsCheckedIn']"
      ]
     },
     "execution_count": 120,
     "metadata": {},
     "output_type": "execute_result"
    }
   ],
   "source": [
    "# get variables starting with Booking\n",
    "booking_columns = [col for col in customers.columns if col.startswith('Booking')]\n",
    "booking_columns"
   ]
  },
  {
   "cell_type": "code",
   "execution_count": 121,
   "metadata": {},
   "outputs": [],
   "source": [
    "# Create a new column called cancelation rate which is the ratio of bookings canceled to total bookings\n",
    "customers['CancelationRate'] = customers['BookingsCanceled'] / (customers['BookingsCanceled'] + customers['BookingsCheckedIn'] + customers['BookingsNoShowed'])"
   ]
  },
  {
   "cell_type": "code",
   "execution_count": 122,
   "metadata": {},
   "outputs": [
    {
     "data": {
      "text/plain": [
       "count    55637.000000\n",
       "mean         0.000157\n",
       "std          0.007800\n",
       "min          0.000000\n",
       "25%          0.000000\n",
       "50%          0.000000\n",
       "75%          0.000000\n",
       "max          0.500000\n",
       "Name: CancelationRate, dtype: float64"
      ]
     },
     "execution_count": 122,
     "metadata": {},
     "output_type": "execute_result"
    }
   ],
   "source": [
    "customers['CancelationRate'].describe()"
   ]
  },
  {
   "cell_type": "code",
   "execution_count": 123,
   "metadata": {},
   "outputs": [
    {
     "data": {
      "text/plain": [
       "BookingsCanceled\n",
       "0     55607\n",
       "1        24\n",
       "3         4\n",
       "15        1\n",
       "2         1\n",
       "Name: count, dtype: int64"
      ]
     },
     "execution_count": 123,
     "metadata": {},
     "output_type": "execute_result"
    }
   ],
   "source": [
    "customers['BookingsCanceled'].value_counts()"
   ]
  },
  {
   "cell_type": "markdown",
   "metadata": {},
   "source": [
    "<a class=\"anchor\" id=\"sub-section-2_1_3\">\n",
    "\n",
    "### 2.1.3. Revenue per Night\n",
    "    \n",
    "</a>"
   ]
  },
  {
   "cell_type": "code",
   "execution_count": 124,
   "metadata": {},
   "outputs": [],
   "source": [
    "#CREATE VARIABLE REVENUE PER NIGHT\n",
    "customers['RevenuePerNight'] = (customers['LodgingRevenue'] + customers['OtherRevenue']) / customers['RoomNights']"
   ]
  },
  {
   "cell_type": "code",
   "execution_count": 125,
   "metadata": {},
   "outputs": [
    {
     "data": {
      "text/plain": [
       "count    55637.000000\n",
       "mean       162.703488\n",
       "std        100.400555\n",
       "min          0.666667\n",
       "25%        109.373333\n",
       "50%        137.850000\n",
       "75%        178.325000\n",
       "max       2068.500000\n",
       "Name: RevenuePerNight, dtype: float64"
      ]
     },
     "execution_count": 125,
     "metadata": {},
     "output_type": "execute_result"
    }
   ],
   "source": [
    "customers['RevenuePerNight'].describe()"
   ]
  },
  {
   "cell_type": "markdown",
   "metadata": {},
   "source": [
    "<a class=\"anchor\" id=\"sub-section-2_1_4\">\n",
    "\n",
    "### 2.1.4. Location\n",
    "    \n",
    "</a>"
   ]
  },
  {
   "cell_type": "code",
   "execution_count": 126,
   "metadata": {},
   "outputs": [
    {
     "data": {
      "text/plain": [
       "Location\n",
       "Europe            15279\n",
       "FRA                9442\n",
       "RestOfTheWorld     9261\n",
       "DEU                7903\n",
       "GBR                6309\n",
       "PRT                4415\n",
       "ESP                3028\n",
       "Name: count, dtype: int64"
      ]
     },
     "execution_count": 126,
     "metadata": {},
     "output_type": "execute_result"
    }
   ],
   "source": [
    "#CREATE VARIABLE CONTINENT TO GROUP THE DIFFERENT NATIONALITIES, KEEPING THE MOST COMMON NATIONALITIES\n",
    "#GENERATED WITH CHATGPT\n",
    "\n",
    "excluded_countries = {'FRA', 'DEU', 'PRT', 'GBR', 'ESP'}\n",
    "\n",
    "def get_continent(alpha3_code):\n",
    "    try:\n",
    "        if alpha3_code in excluded_countries:\n",
    "            return alpha3_code\n",
    "        country = pc.country_alpha3_to_country_alpha2(alpha3_code)\n",
    "        continent_code = pc.country_alpha2_to_continent_code(country)\n",
    "        if continent_code == 'EU':\n",
    "            return 'Europe'\n",
    "        return 'RestOfTheWorld'\n",
    "    except KeyError:\n",
    "        return 'RestOfTheWorld'\n",
    "\n",
    "customers['Location'] = customers['Nationality'].apply(lambda x: get_continent(x))\n",
    "\n",
    "customers['Location'].value_counts()"
   ]
  },
  {
   "cell_type": "code",
   "execution_count": 127,
   "metadata": {},
   "outputs": [
    {
     "data": {
      "image/png": "[encoded data removed]",
      "text/plain": [
       "<Figure size 800x800 with 1 Axes>"
      ]
     },
     "metadata": {},
     "output_type": "display_data"
    }
   ],
   "source": [
    "\n",
    "#SEE THE DISTRIBUITION WITH A PIE CHART\n",
    "plt.figure(figsize=(8, 8))\n",
    "plt.pie(customers['Location'].value_counts(), labels=customers['Location'].value_counts().index, autopct='%1.1f%%', startangle=140)\n",
    "plt.title('Location Distribution')\n",
    "plt.show()"
   ]
  },
  {
   "cell_type": "code",
   "execution_count": 128,
   "metadata": {},
   "outputs": [
    {
     "data": {
      "image/png": "[encoded data removed]",
      "text/plain": [
       "<Figure size 640x480 with 1 Axes>"
      ]
     },
     "metadata": {},
     "output_type": "display_data"
    }
   ],
   "source": [
    "#SEE THE DISTRIBUTION OF THE VARIABLE\n",
    "plt.hist(customers['Location'], bins=30, edgecolor='black')\n",
    "plt.title('Distribution of Location')\n",
    "plt.xlabel('Location')\n",
    "plt.ylabel('Frequency')\n",
    "plt.show()"
   ]
  },
  {
   "cell_type": "markdown",
   "metadata": {},
   "source": [
    "<a class=\"anchor\" id=\"sub-section-2_1_5\">\n",
    "\n",
    "### 2.1.5. Occupancy Rate\n",
    "    \n",
    "</a>"
   ]
  },
  {
   "cell_type": "code",
   "execution_count": 130,
   "metadata": {},
   "outputs": [],
   "source": [
    "# Create a new collumn called Occupancy Rate = PersonsNights/RoomNights\n",
    "customers['OccupancyRate'] = customers['PersonsNights'] / customers['RoomNights']"
   ]
  },
  {
   "cell_type": "code",
   "execution_count": 131,
   "metadata": {},
   "outputs": [
    {
     "data": {
      "text/plain": [
       "count    55637.000000\n",
       "mean         2.206943\n",
       "std          0.492799\n",
       "min          1.058824\n",
       "25%          2.000000\n",
       "50%          2.000000\n",
       "75%          2.000000\n",
       "max          6.000000\n",
       "Name: OccupancyRate, dtype: float64"
      ]
     },
     "execution_count": 131,
     "metadata": {},
     "output_type": "execute_result"
    }
   ],
   "source": [
    "customers['OccupancyRate'].describe()"
   ]
  },
  {
   "cell_type": "markdown",
   "metadata": {},
   "source": [
    "<a class=\"anchor\" id=\"sub-section-2_1_6\">\n",
    "\n",
    "### 2.1.6. Length of Stay Per Booking (AvgStayLength)\n",
    "    \n",
    "</a>"
   ]
  },
  {
   "cell_type": "markdown",
   "metadata": {},
   "source": [
    "We dropped rows where AvgStayLength was below 1, because it's not possible to have less rooms per night than bookings checkedIn.\n",
    "And also dropped row where AvgStayLength was above 30, as it was an outlier."
   ]
  },
  {
   "cell_type": "code",
   "execution_count": 132,
   "metadata": {},
   "outputs": [],
   "source": [
    "customers['AvgStayLength'] = customers['RoomNights'] / customers['BookingsCheckedIn']"
   ]
  },
  {
   "cell_type": "code",
   "execution_count": 133,
   "metadata": {},
   "outputs": [
    {
     "data": {
      "text/plain": [
       "count    55637.000000\n",
       "mean         3.251762\n",
       "std          1.678685\n",
       "min          0.500000\n",
       "25%          2.000000\n",
       "50%          3.000000\n",
       "75%          4.000000\n",
       "max         34.000000\n",
       "Name: AvgStayLength, dtype: float64"
      ]
     },
     "execution_count": 133,
     "metadata": {},
     "output_type": "execute_result"
    }
   ],
   "source": [
    "customers['AvgStayLength'].describe()"
   ]
  },
  {
   "cell_type": "code",
   "execution_count": 134,
   "metadata": {},
   "outputs": [
    {
     "data": {
      "text/html": [
       "<div>\n",
       "<style scoped>\n",
       "    .dataframe tbody tr th:only-of-type {\n",
       "        vertical-align: middle;\n",
       "    }\n",
       "\n",
       "    .dataframe tbody tr th {\n",
       "        vertical-align: top;\n",
       "    }\n",
       "\n",
       "    .dataframe thead th {\n",
       "        text-align: right;\n",
       "    }\n",
       "</style>\n",
       "<table border=\"1\" class=\"dataframe\">\n",
       "  <thead>\n",
       "    <tr style=\"text-align: right;\">\n",
       "      <th></th>\n",
       "      <th>Nationality</th>\n",
       "      <th>Age</th>\n",
       "      <th>DaysSinceCreation</th>\n",
       "      <th>AverageLeadTime</th>\n",
       "      <th>LodgingRevenue</th>\n",
       "      <th>OtherRevenue</th>\n",
       "      <th>BookingsCanceled</th>\n",
       "      <th>BookingsNoShowed</th>\n",
       "      <th>BookingsCheckedIn</th>\n",
       "      <th>PersonsNights</th>\n",
       "      <th>RoomNights</th>\n",
       "      <th>DistributionChannel</th>\n",
       "      <th>SRHighFloor</th>\n",
       "      <th>SRLowFloor</th>\n",
       "      <th>SRAccessibleRoom</th>\n",
       "      <th>SRMediumFloor</th>\n",
       "      <th>SRBathtub</th>\n",
       "      <th>SRShower</th>\n",
       "      <th>SRCrib</th>\n",
       "      <th>SRKingSizeBed</th>\n",
       "      <th>SRTwinBed</th>\n",
       "      <th>SRNearElevator</th>\n",
       "      <th>SRAwayFromElevator</th>\n",
       "      <th>SRNoAlcoholInMiniBar</th>\n",
       "      <th>SRQuietRoom</th>\n",
       "      <th>TotalRevenue</th>\n",
       "      <th>SRFloor</th>\n",
       "      <th>SRBathroom</th>\n",
       "      <th>SRElevator</th>\n",
       "      <th>TotalSR</th>\n",
       "      <th>CancelationRate</th>\n",
       "      <th>RevenuePerNight</th>\n",
       "      <th>Location</th>\n",
       "      <th>OccupancyRate</th>\n",
       "      <th>AvgStayLength</th>\n",
       "    </tr>\n",
       "    <tr>\n",
       "      <th>ID</th>\n",
       "      <th></th>\n",
       "      <th></th>\n",
       "      <th></th>\n",
       "      <th></th>\n",
       "      <th></th>\n",
       "      <th></th>\n",
       "      <th></th>\n",
       "      <th></th>\n",
       "      <th></th>\n",
       "      <th></th>\n",
       "      <th></th>\n",
       "      <th></th>\n",
       "      <th></th>\n",
       "      <th></th>\n",
       "      <th></th>\n",
       "      <th></th>\n",
       "      <th></th>\n",
       "      <th></th>\n",
       "      <th></th>\n",
       "      <th></th>\n",
       "      <th></th>\n",
       "      <th></th>\n",
       "      <th></th>\n",
       "      <th></th>\n",
       "      <th></th>\n",
       "      <th></th>\n",
       "      <th></th>\n",
       "      <th></th>\n",
       "      <th></th>\n",
       "      <th></th>\n",
       "      <th></th>\n",
       "      <th></th>\n",
       "      <th></th>\n",
       "      <th></th>\n",
       "      <th></th>\n",
       "    </tr>\n",
       "  </thead>\n",
       "  <tbody>\n",
       "    <tr>\n",
       "      <th>1367</th>\n",
       "      <td>BRA</td>\n",
       "      <td>44.0</td>\n",
       "      <td>1340</td>\n",
       "      <td>10</td>\n",
       "      <td>594.0</td>\n",
       "      <td>366.50</td>\n",
       "      <td>0</td>\n",
       "      <td>0</td>\n",
       "      <td>2</td>\n",
       "      <td>4</td>\n",
       "      <td>1</td>\n",
       "      <td>Direct</td>\n",
       "      <td>0</td>\n",
       "      <td>0</td>\n",
       "      <td>0</td>\n",
       "      <td>0</td>\n",
       "      <td>0</td>\n",
       "      <td>0</td>\n",
       "      <td>0</td>\n",
       "      <td>1</td>\n",
       "      <td>0</td>\n",
       "      <td>0</td>\n",
       "      <td>0</td>\n",
       "      <td>0</td>\n",
       "      <td>0</td>\n",
       "      <td>960.50</td>\n",
       "      <td>0</td>\n",
       "      <td>0</td>\n",
       "      <td>0</td>\n",
       "      <td>1</td>\n",
       "      <td>0.000000</td>\n",
       "      <td>960.5000</td>\n",
       "      <td>RestOfTheWorld</td>\n",
       "      <td>4.00</td>\n",
       "      <td>0.500000</td>\n",
       "    </tr>\n",
       "    <tr>\n",
       "      <th>48703</th>\n",
       "      <td>PRT</td>\n",
       "      <td>47.0</td>\n",
       "      <td>582</td>\n",
       "      <td>7</td>\n",
       "      <td>2687.0</td>\n",
       "      <td>3050.85</td>\n",
       "      <td>1</td>\n",
       "      <td>0</td>\n",
       "      <td>22</td>\n",
       "      <td>33</td>\n",
       "      <td>20</td>\n",
       "      <td>Corporate</td>\n",
       "      <td>0</td>\n",
       "      <td>0</td>\n",
       "      <td>0</td>\n",
       "      <td>0</td>\n",
       "      <td>0</td>\n",
       "      <td>0</td>\n",
       "      <td>0</td>\n",
       "      <td>0</td>\n",
       "      <td>0</td>\n",
       "      <td>0</td>\n",
       "      <td>0</td>\n",
       "      <td>0</td>\n",
       "      <td>0</td>\n",
       "      <td>5737.85</td>\n",
       "      <td>0</td>\n",
       "      <td>0</td>\n",
       "      <td>0</td>\n",
       "      <td>0</td>\n",
       "      <td>0.043478</td>\n",
       "      <td>286.8925</td>\n",
       "      <td>PRT</td>\n",
       "      <td>1.65</td>\n",
       "      <td>0.909091</td>\n",
       "    </tr>\n",
       "  </tbody>\n",
       "</table>\n",
       "</div>"
      ],
      "text/plain": [
       "      Nationality   Age  DaysSinceCreation  AverageLeadTime  LodgingRevenue  \\\n",
       "ID                                                                            \n",
       "1367          BRA  44.0               1340               10           594.0   \n",
       "48703         PRT  47.0                582                7          2687.0   \n",
       "\n",
       "       OtherRevenue  BookingsCanceled  BookingsNoShowed  BookingsCheckedIn  \\\n",
       "ID                                                                           \n",
       "1367         366.50                 0                 0                  2   \n",
       "48703       3050.85                 1                 0                 22   \n",
       "\n",
       "       PersonsNights  RoomNights DistributionChannel  SRHighFloor  SRLowFloor  \\\n",
       "ID                                                                              \n",
       "1367               4           1              Direct            0           0   \n",
       "48703             33          20           Corporate            0           0   \n",
       "\n",
       "       SRAccessibleRoom  SRMediumFloor  SRBathtub  SRShower  SRCrib  \\\n",
       "ID                                                                    \n",
       "1367                  0              0          0         0       0   \n",
       "48703                 0              0          0         0       0   \n",
       "\n",
       "       SRKingSizeBed  SRTwinBed  SRNearElevator  SRAwayFromElevator  \\\n",
       "ID                                                                    \n",
       "1367               1          0               0                   0   \n",
       "48703              0          0               0                   0   \n",
       "\n",
       "       SRNoAlcoholInMiniBar  SRQuietRoom  TotalRevenue  SRFloor  SRBathroom  \\\n",
       "ID                                                                            \n",
       "1367                      0            0        960.50        0           0   \n",
       "48703                     0            0       5737.85        0           0   \n",
       "\n",
       "       SRElevator  TotalSR  CancelationRate  RevenuePerNight        Location  \\\n",
       "ID                                                                             \n",
       "1367            0        1         0.000000         960.5000  RestOfTheWorld   \n",
       "48703           0        0         0.043478         286.8925             PRT   \n",
       "\n",
       "       OccupancyRate  AvgStayLength  \n",
       "ID                                   \n",
       "1367            4.00       0.500000  \n",
       "48703           1.65       0.909091  "
      ]
     },
     "execution_count": 134,
     "metadata": {},
     "output_type": "execute_result"
    }
   ],
   "source": [
    "#Check customers where avg stay length is bellow 1\n",
    "customers[customers['AvgStayLength'] < 1]"
   ]
  },
  {
   "cell_type": "code",
   "execution_count": 135,
   "metadata": {},
   "outputs": [],
   "source": [
    "# Drop rows where AvgStayLength is below 1\n",
    "customers = customers[customers['AvgStayLength'] >= 1]"
   ]
  },
  {
   "cell_type": "code",
   "execution_count": 167,
   "metadata": {},
   "outputs": [
    {
     "data": {
      "text/plain": [
       "count    55635.000000\n",
       "mean         3.251854\n",
       "std          1.678645\n",
       "min          1.000000\n",
       "25%          2.000000\n",
       "50%          3.000000\n",
       "75%          4.000000\n",
       "max         34.000000\n",
       "Name: AvgStayLength, dtype: float64"
      ]
     },
     "execution_count": 167,
     "metadata": {},
     "output_type": "execute_result"
    }
   ],
   "source": [
    "customers['AvgStayLength'].describe()"
   ]
  },
  {
   "cell_type": "code",
   "execution_count": 173,
   "metadata": {},
   "outputs": [
    {
     "data": {
      "image/png": "[encoded data removed]",
      "text/plain": [
       "<Figure size 1200x600 with 1 Axes>"
      ]
     },
     "metadata": {},
     "output_type": "display_data"
    }
   ],
   "source": [
    "# make a boxplot of AvgStayLength\n",
    "plt.figure(figsize=(12, 6))\n",
    "sns.boxplot(x=customers['AvgStayLength'], color='blue')\n",
    "plt.title('Average Stay Length')\n",
    "plt.show()"
   ]
  },
  {
   "cell_type": "code",
   "execution_count": 172,
   "metadata": {},
   "outputs": [],
   "source": [
    "# Drop rows that have AvgStayLength above 30\n",
    "customers = customers[customers['AvgStayLength'] <= 30]"
   ]
  },
  {
   "cell_type": "code",
   "execution_count": 178,
   "metadata": {},
   "outputs": [
    {
     "data": {
      "text/plain": [
       "AvgStayLength\n",
       "3.000000     15978\n",
       "2.000000     11440\n",
       "4.000000     11128\n",
       "1.000000      7070\n",
       "5.000000      4768\n",
       "7.000000      2125\n",
       "6.000000      1785\n",
       "8.000000       366\n",
       "1.500000       212\n",
       "9.000000       183\n",
       "2.500000       134\n",
       "10.000000      129\n",
       "11.000000       57\n",
       "3.500000        53\n",
       "12.000000       33\n",
       "14.000000       30\n",
       "13.000000       15\n",
       "1.666667        13\n",
       "4.500000        11\n",
       "15.000000       10\n",
       "1.333333        10\n",
       "2.333333         7\n",
       "7.500000         6\n",
       "16.000000        5\n",
       "1.250000         4\n",
       "2.666667         4\n",
       "1.200000         4\n",
       "5.500000         3\n",
       "6.500000         3\n",
       "18.000000        3\n",
       "22.000000        2\n",
       "17.000000        2\n",
       "1.375000         2\n",
       "3.250000         2\n",
       "1.750000         2\n",
       "1.571429         2\n",
       "19.000000        2\n",
       "1.272727         2\n",
       "8.500000         2\n",
       "1.714286         1\n",
       "2.600000         1\n",
       "4.666667         1\n",
       "3.800000         1\n",
       "1.700000         1\n",
       "2.750000         1\n",
       "1.114286         1\n",
       "2.153846         1\n",
       "5.444444         1\n",
       "2.800000         1\n",
       "3.333333         1\n",
       "2.625000         1\n",
       "2.200000         1\n",
       "3.076923         1\n",
       "3.666667         1\n",
       "1.800000         1\n",
       "1.722222         1\n",
       "1.157895         1\n",
       "1.555556         1\n",
       "1.636364         1\n",
       "1.111111         1\n",
       "1.400000         1\n",
       "1.166667         1\n",
       "1.117647         1\n",
       "1.142857         1\n",
       "4.200000         1\n",
       "21.000000        1\n",
       "Name: count, dtype: int64"
      ]
     },
     "execution_count": 178,
     "metadata": {},
     "output_type": "execute_result"
    }
   ],
   "source": [
    "customers['AvgStayLength'].value_counts()"
   ]
  },
  {
   "cell_type": "code",
   "execution_count": 187,
   "metadata": {},
   "outputs": [
    {
     "data": {
      "text/plain": [
       "Nationality            170\n",
       "DistributionChannel      4\n",
       "Location                 7\n",
       "dtype: int64"
      ]
     },
     "execution_count": 187,
     "metadata": {},
     "output_type": "execute_result"
    }
   ],
   "source": [
    "# check each variable cardinality\n",
    "customers.select_dtypes(include='object').nunique()"
   ]
  },
  {
   "cell_type": "markdown",
   "metadata": {},
   "source": [
    "<a class=\"anchor\" id=\"chapter3\"></a>\n",
    "\n",
    "# 3. Clustering\n",
    "\n",
    "</a>"
   ]
  },
  {
   "cell_type": "markdown",
   "metadata": {},
   "source": [
    "Behaviour clustering:\n",
    "\n",
    "- DaysSinceCreation (Customer loyalty loyal vs new customer) float64\n",
    "- AverageLeadTime (Customer preparation high vs low) float64\n",
    "- AvgStayLength (Long stays vs short stays) [ratio of RoomNights/BookingsCheckedIn]\n",
    "\n",
    "Variables to consider for profilling:\n",
    "- Location (where u come from?)\n",
    "- DistributionChannel (how do you book?)\n",
    "- Age (young/old)\n",
    "- TotalSR (Are you very demanding or flexible?)\n",
    "- TotalSpent (How much do you spend?)"
   ]
  },
  {
   "cell_type": "code",
   "execution_count": 136,
   "metadata": {},
   "outputs": [
    {
     "data": {
      "text/plain": [
       "Index(['Nationality', 'Age', 'DaysSinceCreation', 'AverageLeadTime',\n",
       "       'LodgingRevenue', 'OtherRevenue', 'BookingsCanceled',\n",
       "       'BookingsNoShowed', 'BookingsCheckedIn', 'PersonsNights', 'RoomNights',\n",
       "       'DistributionChannel', 'SRHighFloor', 'SRLowFloor', 'SRAccessibleRoom',\n",
       "       'SRMediumFloor', 'SRBathtub', 'SRShower', 'SRCrib', 'SRKingSizeBed',\n",
       "       'SRTwinBed', 'SRNearElevator', 'SRAwayFromElevator',\n",
       "       'SRNoAlcoholInMiniBar', 'SRQuietRoom', 'TotalRevenue', 'SRFloor',\n",
       "       'SRBathroom', 'SRElevator', 'TotalSR', 'CancelationRate',\n",
       "       'RevenuePerNight', 'Location', 'OccupancyRate', 'AvgStayLength'],\n",
       "      dtype='object')"
      ]
     },
     "execution_count": 136,
     "metadata": {},
     "output_type": "execute_result"
    }
   ],
   "source": [
    "customers.columns"
   ]
  },
  {
   "cell_type": "code",
   "execution_count": 196,
   "metadata": {},
   "outputs": [],
   "source": [
    "# Define clustering features\n",
    "features = ['DaysSinceCreation', 'AverageLeadTime', 'PersonsNights', 'RoomNights', 'LodgingRevenue','OtherRevenue' , 'BookingsCheckedIn']\n",
    "X = customers[features].copy()"
   ]
  },
  {
   "cell_type": "code",
   "execution_count": 197,
   "metadata": {},
   "outputs": [
    {
     "data": {
      "text/html": [
       "<div>\n",
       "<style scoped>\n",
       "    .dataframe tbody tr th:only-of-type {\n",
       "        vertical-align: middle;\n",
       "    }\n",
       "\n",
       "    .dataframe tbody tr th {\n",
       "        vertical-align: top;\n",
       "    }\n",
       "\n",
       "    .dataframe thead th {\n",
       "        text-align: right;\n",
       "    }\n",
       "</style>\n",
       "<table border=\"1\" class=\"dataframe\">\n",
       "  <thead>\n",
       "    <tr style=\"text-align: right;\">\n",
       "      <th></th>\n",
       "      <th>count</th>\n",
       "      <th>mean</th>\n",
       "      <th>std</th>\n",
       "      <th>min</th>\n",
       "      <th>25%</th>\n",
       "      <th>50%</th>\n",
       "      <th>75%</th>\n",
       "      <th>max</th>\n",
       "    </tr>\n",
       "  </thead>\n",
       "  <tbody>\n",
       "    <tr>\n",
       "      <th>DaysSinceCreation</th>\n",
       "      <td>55634.0</td>\n",
       "      <td>697.803340</td>\n",
       "      <td>375.804260</td>\n",
       "      <td>36.0</td>\n",
       "      <td>391.00</td>\n",
       "      <td>730.0</td>\n",
       "      <td>1021.0000</td>\n",
       "      <td>1385.00</td>\n",
       "    </tr>\n",
       "    <tr>\n",
       "      <th>AverageLeadTime</th>\n",
       "      <td>55634.0</td>\n",
       "      <td>97.311015</td>\n",
       "      <td>91.327053</td>\n",
       "      <td>0.0</td>\n",
       "      <td>26.00</td>\n",
       "      <td>71.0</td>\n",
       "      <td>146.0000</td>\n",
       "      <td>588.00</td>\n",
       "    </tr>\n",
       "    <tr>\n",
       "      <th>PersonsNights</th>\n",
       "      <td>55634.0</td>\n",
       "      <td>7.283316</td>\n",
       "      <td>4.266402</td>\n",
       "      <td>2.0</td>\n",
       "      <td>4.00</td>\n",
       "      <td>6.0</td>\n",
       "      <td>9.0000</td>\n",
       "      <td>99.00</td>\n",
       "    </tr>\n",
       "    <tr>\n",
       "      <th>RoomNights</th>\n",
       "      <td>55634.0</td>\n",
       "      <td>3.303178</td>\n",
       "      <td>1.784597</td>\n",
       "      <td>1.0</td>\n",
       "      <td>2.00</td>\n",
       "      <td>3.0</td>\n",
       "      <td>4.0000</td>\n",
       "      <td>88.00</td>\n",
       "    </tr>\n",
       "    <tr>\n",
       "      <th>LodgingRevenue</th>\n",
       "      <td>55634.0</td>\n",
       "      <td>420.492280</td>\n",
       "      <td>357.041913</td>\n",
       "      <td>0.0</td>\n",
       "      <td>216.75</td>\n",
       "      <td>330.9</td>\n",
       "      <td>503.3925</td>\n",
       "      <td>7083.88</td>\n",
       "    </tr>\n",
       "    <tr>\n",
       "      <th>OtherRevenue</th>\n",
       "      <td>55634.0</td>\n",
       "      <td>104.835111</td>\n",
       "      <td>123.433202</td>\n",
       "      <td>0.0</td>\n",
       "      <td>42.00</td>\n",
       "      <td>71.0</td>\n",
       "      <td>130.0000</td>\n",
       "      <td>3692.40</td>\n",
       "    </tr>\n",
       "    <tr>\n",
       "      <th>BookingsCheckedIn</th>\n",
       "      <td>55634.0</td>\n",
       "      <td>1.025973</td>\n",
       "      <td>0.436615</td>\n",
       "      <td>1.0</td>\n",
       "      <td>1.00</td>\n",
       "      <td>1.0</td>\n",
       "      <td>1.0000</td>\n",
       "      <td>76.00</td>\n",
       "    </tr>\n",
       "  </tbody>\n",
       "</table>\n",
       "</div>"
      ],
      "text/plain": [
       "                     count        mean         std   min     25%    50%  \\\n",
       "DaysSinceCreation  55634.0  697.803340  375.804260  36.0  391.00  730.0   \n",
       "AverageLeadTime    55634.0   97.311015   91.327053   0.0   26.00   71.0   \n",
       "PersonsNights      55634.0    7.283316    4.266402   2.0    4.00    6.0   \n",
       "RoomNights         55634.0    3.303178    1.784597   1.0    2.00    3.0   \n",
       "LodgingRevenue     55634.0  420.492280  357.041913   0.0  216.75  330.9   \n",
       "OtherRevenue       55634.0  104.835111  123.433202   0.0   42.00   71.0   \n",
       "BookingsCheckedIn  55634.0    1.025973    0.436615   1.0    1.00    1.0   \n",
       "\n",
       "                         75%      max  \n",
       "DaysSinceCreation  1021.0000  1385.00  \n",
       "AverageLeadTime     146.0000   588.00  \n",
       "PersonsNights         9.0000    99.00  \n",
       "RoomNights            4.0000    88.00  \n",
       "LodgingRevenue      503.3925  7083.88  \n",
       "OtherRevenue        130.0000  3692.40  \n",
       "BookingsCheckedIn     1.0000    76.00  "
      ]
     },
     "execution_count": 197,
     "metadata": {},
     "output_type": "execute_result"
    }
   ],
   "source": [
    "X.describe().T"
   ]
  },
  {
   "cell_type": "code",
   "execution_count": 198,
   "metadata": {},
   "outputs": [],
   "source": [
    "# Apply MinMaxScaler (scales values between 0 and 1)\n",
    "scaler = MinMaxScaler()\n",
    "X_scaled = scaler.fit_transform(X)"
   ]
  },
  {
   "cell_type": "code",
   "execution_count": 199,
   "metadata": {},
   "outputs": [],
   "source": [
    "X_scaled = pd.DataFrame(X_scaled, columns=features)"
   ]
  },
  {
   "cell_type": "code",
   "execution_count": 200,
   "metadata": {},
   "outputs": [
    {
     "data": {
      "text/html": [
       "<div>\n",
       "<style scoped>\n",
       "    .dataframe tbody tr th:only-of-type {\n",
       "        vertical-align: middle;\n",
       "    }\n",
       "\n",
       "    .dataframe tbody tr th {\n",
       "        vertical-align: top;\n",
       "    }\n",
       "\n",
       "    .dataframe thead th {\n",
       "        text-align: right;\n",
       "    }\n",
       "</style>\n",
       "<table border=\"1\" class=\"dataframe\">\n",
       "  <thead>\n",
       "    <tr style=\"text-align: right;\">\n",
       "      <th></th>\n",
       "      <th>count</th>\n",
       "      <th>mean</th>\n",
       "      <th>std</th>\n",
       "      <th>min</th>\n",
       "      <th>25%</th>\n",
       "      <th>50%</th>\n",
       "      <th>75%</th>\n",
       "      <th>max</th>\n",
       "    </tr>\n",
       "  </thead>\n",
       "  <tbody>\n",
       "    <tr>\n",
       "      <th>DaysSinceCreation</th>\n",
       "      <td>55634.0</td>\n",
       "      <td>0.490588</td>\n",
       "      <td>0.278580</td>\n",
       "      <td>0.0</td>\n",
       "      <td>0.263158</td>\n",
       "      <td>0.514455</td>\n",
       "      <td>0.730170</td>\n",
       "      <td>1.0</td>\n",
       "    </tr>\n",
       "    <tr>\n",
       "      <th>AverageLeadTime</th>\n",
       "      <td>55634.0</td>\n",
       "      <td>0.165495</td>\n",
       "      <td>0.155318</td>\n",
       "      <td>0.0</td>\n",
       "      <td>0.044218</td>\n",
       "      <td>0.120748</td>\n",
       "      <td>0.248299</td>\n",
       "      <td>1.0</td>\n",
       "    </tr>\n",
       "    <tr>\n",
       "      <th>PersonsNights</th>\n",
       "      <td>55634.0</td>\n",
       "      <td>0.054467</td>\n",
       "      <td>0.043984</td>\n",
       "      <td>0.0</td>\n",
       "      <td>0.020619</td>\n",
       "      <td>0.041237</td>\n",
       "      <td>0.072165</td>\n",
       "      <td>1.0</td>\n",
       "    </tr>\n",
       "    <tr>\n",
       "      <th>RoomNights</th>\n",
       "      <td>55634.0</td>\n",
       "      <td>0.026473</td>\n",
       "      <td>0.020513</td>\n",
       "      <td>0.0</td>\n",
       "      <td>0.011494</td>\n",
       "      <td>0.022989</td>\n",
       "      <td>0.034483</td>\n",
       "      <td>1.0</td>\n",
       "    </tr>\n",
       "    <tr>\n",
       "      <th>LodgingRevenue</th>\n",
       "      <td>55634.0</td>\n",
       "      <td>0.059359</td>\n",
       "      <td>0.050402</td>\n",
       "      <td>0.0</td>\n",
       "      <td>0.030598</td>\n",
       "      <td>0.046712</td>\n",
       "      <td>0.071062</td>\n",
       "      <td>1.0</td>\n",
       "    </tr>\n",
       "    <tr>\n",
       "      <th>OtherRevenue</th>\n",
       "      <td>55634.0</td>\n",
       "      <td>0.028392</td>\n",
       "      <td>0.033429</td>\n",
       "      <td>0.0</td>\n",
       "      <td>0.011375</td>\n",
       "      <td>0.019229</td>\n",
       "      <td>0.035207</td>\n",
       "      <td>1.0</td>\n",
       "    </tr>\n",
       "    <tr>\n",
       "      <th>BookingsCheckedIn</th>\n",
       "      <td>55634.0</td>\n",
       "      <td>0.000346</td>\n",
       "      <td>0.005822</td>\n",
       "      <td>0.0</td>\n",
       "      <td>0.000000</td>\n",
       "      <td>0.000000</td>\n",
       "      <td>0.000000</td>\n",
       "      <td>1.0</td>\n",
       "    </tr>\n",
       "  </tbody>\n",
       "</table>\n",
       "</div>"
      ],
      "text/plain": [
       "                     count      mean       std  min       25%       50%  \\\n",
       "DaysSinceCreation  55634.0  0.490588  0.278580  0.0  0.263158  0.514455   \n",
       "AverageLeadTime    55634.0  0.165495  0.155318  0.0  0.044218  0.120748   \n",
       "PersonsNights      55634.0  0.054467  0.043984  0.0  0.020619  0.041237   \n",
       "RoomNights         55634.0  0.026473  0.020513  0.0  0.011494  0.022989   \n",
       "LodgingRevenue     55634.0  0.059359  0.050402  0.0  0.030598  0.046712   \n",
       "OtherRevenue       55634.0  0.028392  0.033429  0.0  0.011375  0.019229   \n",
       "BookingsCheckedIn  55634.0  0.000346  0.005822  0.0  0.000000  0.000000   \n",
       "\n",
       "                        75%  max  \n",
       "DaysSinceCreation  0.730170  1.0  \n",
       "AverageLeadTime    0.248299  1.0  \n",
       "PersonsNights      0.072165  1.0  \n",
       "RoomNights         0.034483  1.0  \n",
       "LodgingRevenue     0.071062  1.0  \n",
       "OtherRevenue       0.035207  1.0  \n",
       "BookingsCheckedIn  0.000000  1.0  "
      ]
     },
     "execution_count": 200,
     "metadata": {},
     "output_type": "execute_result"
    }
   ],
   "source": [
    "X_scaled.describe().T"
   ]
  },
  {
   "cell_type": "code",
   "execution_count": 201,
   "metadata": {},
   "outputs": [],
   "source": [
    "# Determine the optimal number of clusters (Elbow Method)\n",
    "wcss = []  # Within-cluster sum of squares\n",
    "silhouette_scores = []  # Silhouette scores for evaluation\n",
    "K_range = range(2, 11)  # Checking K from 2 to 10\n",
    "\n",
    "for k in K_range:\n",
    "    kmeans = KMeans(n_clusters=k, random_state=42, n_init=10)\n",
    "    kmeans.fit(X_scaled)\n",
    "    wcss.append(kmeans.inertia_)  # Append WCSS value\n",
    "\n",
    "    # Calculate silhouette score for each k\n",
    "    silhouette_avg = silhouette_score(X_scaled, kmeans.labels_)\n",
    "    silhouette_scores.append(silhouette_avg)"
   ]
  },
  {
   "cell_type": "code",
   "execution_count": 202,
   "metadata": {},
   "outputs": [
    {
     "data": {
      "image/png": "[encoded data removed]",
      "text/plain": [
       "<Figure size 800x400 with 1 Axes>"
      ]
     },
     "metadata": {},
     "output_type": "display_data"
    }
   ],
   "source": [
    "# Plot the Elbow Method\n",
    "plt.figure(figsize=(8, 4))\n",
    "plt.plot(K_range, wcss, marker='o', linestyle='-', label=\"WCSS\")\n",
    "plt.xlabel('Number of Clusters (K)')\n",
    "plt.ylabel('Within-Cluster Sum of Squares (WCSS)')\n",
    "plt.title('Elbow Method for Optimal K')\n",
    "plt.legend()\n",
    "plt.show()"
   ]
  },
  {
   "cell_type": "code",
   "execution_count": 203,
   "metadata": {},
   "outputs": [
    {
     "data": {
      "image/png": "[encoded data removed]",
      "text/plain": [
       "<Figure size 800x400 with 1 Axes>"
      ]
     },
     "metadata": {},
     "output_type": "display_data"
    }
   ],
   "source": [
    "# Plot Silhouette Scores\n",
    "plt.figure(figsize=(8, 4))\n",
    "plt.plot(K_range, silhouette_scores, marker='s', linestyle='-', color='red', label=\"Silhouette Score\")\n",
    "plt.xlabel('Number of Clusters (K)')\n",
    "plt.ylabel('Silhouette Score')\n",
    "plt.title('Silhouette Score for Different K')\n",
    "plt.legend()\n",
    "plt.show()"
   ]
  },
  {
   "cell_type": "markdown",
   "metadata": {},
   "source": [
    "We will go with K=4"
   ]
  },
  {
   "cell_type": "code",
   "execution_count": 223,
   "metadata": {},
   "outputs": [
    {
     "name": "stdout",
     "output_type": "stream",
     "text": [
      "    DaysSinceCreation  AverageLeadTime  TotalRevenue  PersonsNights  Cluster\n",
      "ID                                                                          \n",
      "1                 440               59         374.3              6        1\n",
      "4                1385               93         300.0             10        0\n",
      "6                1385               58         254.0              4        0\n",
      "8                1385               38         629.0             10        0\n",
      "10               1385               96         243.0              6        0\n"
     ]
    }
   ],
   "source": [
    "# Define the optimal number of clusters based on the elbow method and silhouette score\n",
    "optimal_k = 4\n",
    "\n",
    "# Apply K-Means\n",
    "kmeans = KMeans(n_clusters=optimal_k, random_state=42, n_init=10)\n",
    "customers['Cluster'] = kmeans.fit_predict(X_scaled)\n",
    "\n",
    "# Show some sample results\n",
    "print(customers[['DaysSinceCreation', 'AverageLeadTime', 'TotalRevenue', 'PersonsNights', 'Cluster']].head())"
   ]
  },
  {
   "cell_type": "code",
   "execution_count": 225,
   "metadata": {},
   "outputs": [],
   "source": [
    "# Get the average for each variable for each cluster\n",
    "cluster_summary = customers.groupby('Cluster').agg({'DaysSinceCreation': 'mean',\n",
    "                                                    'AverageLeadTime': 'mean',\n",
    "                                                    'AvgStayLength': 'mean',\n",
    "                                                    'TotalRevenue': 'mean',\n",
    "                                                    'Age': 'mean',\n",
    "                                                    'TotalSR': 'mean',\n",
    "                                                    }).reset_index()"
   ]
  },
  {
   "cell_type": "code",
   "execution_count": 226,
   "metadata": {},
   "outputs": [
    {
     "data": {
      "text/html": [
       "<div>\n",
       "<style scoped>\n",
       "    .dataframe tbody tr th:only-of-type {\n",
       "        vertical-align: middle;\n",
       "    }\n",
       "\n",
       "    .dataframe tbody tr th {\n",
       "        vertical-align: top;\n",
       "    }\n",
       "\n",
       "    .dataframe thead th {\n",
       "        text-align: right;\n",
       "    }\n",
       "</style>\n",
       "<table border=\"1\" class=\"dataframe\">\n",
       "  <thead>\n",
       "    <tr style=\"text-align: right;\">\n",
       "      <th></th>\n",
       "      <th>Cluster</th>\n",
       "      <th>DaysSinceCreation</th>\n",
       "      <th>AverageLeadTime</th>\n",
       "      <th>AvgStayLength</th>\n",
       "      <th>TotalRevenue</th>\n",
       "      <th>Age</th>\n",
       "      <th>TotalSR</th>\n",
       "    </tr>\n",
       "  </thead>\n",
       "  <tbody>\n",
       "    <tr>\n",
       "      <th>0</th>\n",
       "      <td>0</td>\n",
       "      <td>1140.820419</td>\n",
       "      <td>61.219586</td>\n",
       "      <td>3.197702</td>\n",
       "      <td>453.210553</td>\n",
       "      <td>48.175416</td>\n",
       "      <td>0.683115</td>\n",
       "    </tr>\n",
       "    <tr>\n",
       "      <th>1</th>\n",
       "      <td>1</td>\n",
       "      <td>262.711343</td>\n",
       "      <td>102.099769</td>\n",
       "      <td>3.378399</td>\n",
       "      <td>593.137286</td>\n",
       "      <td>47.743129</td>\n",
       "      <td>0.770989</td>\n",
       "    </tr>\n",
       "    <tr>\n",
       "      <th>2</th>\n",
       "      <td>2</td>\n",
       "      <td>707.840021</td>\n",
       "      <td>60.826556</td>\n",
       "      <td>3.123494</td>\n",
       "      <td>530.212678</td>\n",
       "      <td>47.704839</td>\n",
       "      <td>0.729036</td>\n",
       "    </tr>\n",
       "    <tr>\n",
       "      <th>3</th>\n",
       "      <td>3</td>\n",
       "      <td>846.109029</td>\n",
       "      <td>263.726700</td>\n",
       "      <td>3.316508</td>\n",
       "      <td>494.448566</td>\n",
       "      <td>55.740268</td>\n",
       "      <td>0.751575</td>\n",
       "    </tr>\n",
       "  </tbody>\n",
       "</table>\n",
       "</div>"
      ],
      "text/plain": [
       "   Cluster  DaysSinceCreation  AverageLeadTime  AvgStayLength  TotalRevenue  \\\n",
       "0        0        1140.820419        61.219586       3.197702    453.210553   \n",
       "1        1         262.711343       102.099769       3.378399    593.137286   \n",
       "2        2         707.840021        60.826556       3.123494    530.212678   \n",
       "3        3         846.109029       263.726700       3.316508    494.448566   \n",
       "\n",
       "         Age   TotalSR  \n",
       "0  48.175416  0.683115  \n",
       "1  47.743129  0.770989  \n",
       "2  47.704839  0.729036  \n",
       "3  55.740268  0.751575  "
      ]
     },
     "execution_count": 226,
     "metadata": {},
     "output_type": "execute_result"
    }
   ],
   "source": [
    "cluster_summary"
   ]
  },
  {
   "cell_type": "code",
   "execution_count": 227,
   "metadata": {},
   "outputs": [
    {
     "data": {
      "text/html": [
       "<div>\n",
       "<style scoped>\n",
       "    .dataframe tbody tr th:only-of-type {\n",
       "        vertical-align: middle;\n",
       "    }\n",
       "\n",
       "    .dataframe tbody tr th {\n",
       "        vertical-align: top;\n",
       "    }\n",
       "\n",
       "    .dataframe thead tr th {\n",
       "        text-align: left;\n",
       "    }\n",
       "\n",
       "    .dataframe thead tr:last-of-type th {\n",
       "        text-align: right;\n",
       "    }\n",
       "</style>\n",
       "<table border=\"1\" class=\"dataframe\">\n",
       "  <thead>\n",
       "    <tr>\n",
       "      <th></th>\n",
       "      <th colspan=\"3\" halign=\"left\">DaysSinceCreation</th>\n",
       "      <th colspan=\"3\" halign=\"left\">AverageLeadTime</th>\n",
       "      <th colspan=\"3\" halign=\"left\">AvgStayLength</th>\n",
       "      <th colspan=\"3\" halign=\"left\">TotalRevenue</th>\n",
       "      <th colspan=\"3\" halign=\"left\">Age</th>\n",
       "    </tr>\n",
       "    <tr>\n",
       "      <th></th>\n",
       "      <th>min</th>\n",
       "      <th>max</th>\n",
       "      <th>mean</th>\n",
       "      <th>min</th>\n",
       "      <th>max</th>\n",
       "      <th>mean</th>\n",
       "      <th>min</th>\n",
       "      <th>max</th>\n",
       "      <th>mean</th>\n",
       "      <th>min</th>\n",
       "      <th>max</th>\n",
       "      <th>mean</th>\n",
       "      <th>min</th>\n",
       "      <th>max</th>\n",
       "      <th>mean</th>\n",
       "    </tr>\n",
       "    <tr>\n",
       "      <th>Cluster</th>\n",
       "      <th></th>\n",
       "      <th></th>\n",
       "      <th></th>\n",
       "      <th></th>\n",
       "      <th></th>\n",
       "      <th></th>\n",
       "      <th></th>\n",
       "      <th></th>\n",
       "      <th></th>\n",
       "      <th></th>\n",
       "      <th></th>\n",
       "      <th></th>\n",
       "      <th></th>\n",
       "      <th></th>\n",
       "      <th></th>\n",
       "    </tr>\n",
       "  </thead>\n",
       "  <tbody>\n",
       "    <tr>\n",
       "      <th>0</th>\n",
       "      <td>924</td>\n",
       "      <td>1385</td>\n",
       "      <td>1140.820419</td>\n",
       "      <td>0</td>\n",
       "      <td>230</td>\n",
       "      <td>61.219586</td>\n",
       "      <td>1.0</td>\n",
       "      <td>22.0</td>\n",
       "      <td>3.197702</td>\n",
       "      <td>2.0</td>\n",
       "      <td>5548.30</td>\n",
       "      <td>453.210553</td>\n",
       "      <td>18.0</td>\n",
       "      <td>89.0</td>\n",
       "      <td>48.175416</td>\n",
       "    </tr>\n",
       "    <tr>\n",
       "      <th>1</th>\n",
       "      <td>36</td>\n",
       "      <td>537</td>\n",
       "      <td>262.711343</td>\n",
       "      <td>0</td>\n",
       "      <td>380</td>\n",
       "      <td>102.099769</td>\n",
       "      <td>1.0</td>\n",
       "      <td>21.0</td>\n",
       "      <td>3.378399</td>\n",
       "      <td>4.0</td>\n",
       "      <td>8607.00</td>\n",
       "      <td>593.137286</td>\n",
       "      <td>18.0</td>\n",
       "      <td>90.0</td>\n",
       "      <td>47.743129</td>\n",
       "    </tr>\n",
       "    <tr>\n",
       "      <th>2</th>\n",
       "      <td>444</td>\n",
       "      <td>928</td>\n",
       "      <td>707.840021</td>\n",
       "      <td>0</td>\n",
       "      <td>189</td>\n",
       "      <td>60.826556</td>\n",
       "      <td>1.0</td>\n",
       "      <td>15.0</td>\n",
       "      <td>3.123494</td>\n",
       "      <td>3.0</td>\n",
       "      <td>7973.38</td>\n",
       "      <td>530.212678</td>\n",
       "      <td>18.0</td>\n",
       "      <td>89.0</td>\n",
       "      <td>47.704839</td>\n",
       "    </tr>\n",
       "    <tr>\n",
       "      <th>3</th>\n",
       "      <td>328</td>\n",
       "      <td>1237</td>\n",
       "      <td>846.109029</td>\n",
       "      <td>145</td>\n",
       "      <td>588</td>\n",
       "      <td>263.726700</td>\n",
       "      <td>1.0</td>\n",
       "      <td>16.0</td>\n",
       "      <td>3.316508</td>\n",
       "      <td>7.0</td>\n",
       "      <td>5176.80</td>\n",
       "      <td>494.448566</td>\n",
       "      <td>18.0</td>\n",
       "      <td>89.0</td>\n",
       "      <td>55.740268</td>\n",
       "    </tr>\n",
       "  </tbody>\n",
       "</table>\n",
       "</div>"
      ],
      "text/plain": [
       "        DaysSinceCreation                    AverageLeadTime                   \\\n",
       "                      min   max         mean             min  max        mean   \n",
       "Cluster                                                                         \n",
       "0                     924  1385  1140.820419               0  230   61.219586   \n",
       "1                      36   537   262.711343               0  380  102.099769   \n",
       "2                     444   928   707.840021               0  189   60.826556   \n",
       "3                     328  1237   846.109029             145  588  263.726700   \n",
       "\n",
       "        AvgStayLength                 TotalRevenue                        Age  \\\n",
       "                  min   max      mean          min      max        mean   min   \n",
       "Cluster                                                                         \n",
       "0                 1.0  22.0  3.197702          2.0  5548.30  453.210553  18.0   \n",
       "1                 1.0  21.0  3.378399          4.0  8607.00  593.137286  18.0   \n",
       "2                 1.0  15.0  3.123494          3.0  7973.38  530.212678  18.0   \n",
       "3                 1.0  16.0  3.316508          7.0  5176.80  494.448566  18.0   \n",
       "\n",
       "                          \n",
       "          max       mean  \n",
       "Cluster                   \n",
       "0        89.0  48.175416  \n",
       "1        90.0  47.743129  \n",
       "2        89.0  47.704839  \n",
       "3        89.0  55.740268  "
      ]
     },
     "execution_count": 227,
     "metadata": {},
     "output_type": "execute_result"
    }
   ],
   "source": [
    "# Check min,max and mean values for each cluster\n",
    "customers.groupby('Cluster').agg({'DaysSinceCreation': ['min', 'max', 'mean'],\n",
    "                                  'AverageLeadTime': ['min', 'max', 'mean'],\n",
    "                                  'AvgStayLength': ['min', 'max', 'mean'],\n",
    "                                  'TotalRevenue': ['min', 'max', 'mean'],\n",
    "                                  'Age': ['min', 'max', 'mean'],\n",
    "                                  })"
   ]
  },
  {
   "cell_type": "code",
   "execution_count": 228,
   "metadata": {},
   "outputs": [
    {
     "data": {
      "text/html": [
       "<div>\n",
       "<style scoped>\n",
       "    .dataframe tbody tr th:only-of-type {\n",
       "        vertical-align: middle;\n",
       "    }\n",
       "\n",
       "    .dataframe tbody tr th {\n",
       "        vertical-align: top;\n",
       "    }\n",
       "\n",
       "    .dataframe thead th {\n",
       "        text-align: right;\n",
       "    }\n",
       "</style>\n",
       "<table border=\"1\" class=\"dataframe\">\n",
       "  <thead>\n",
       "    <tr style=\"text-align: right;\">\n",
       "      <th></th>\n",
       "      <th>Cluster</th>\n",
       "      <th>Location</th>\n",
       "    </tr>\n",
       "  </thead>\n",
       "  <tbody>\n",
       "    <tr>\n",
       "      <th>0</th>\n",
       "      <td>0</td>\n",
       "      <td>Europe</td>\n",
       "    </tr>\n",
       "    <tr>\n",
       "      <th>1</th>\n",
       "      <td>1</td>\n",
       "      <td>Europe</td>\n",
       "    </tr>\n",
       "    <tr>\n",
       "      <th>2</th>\n",
       "      <td>2</td>\n",
       "      <td>Europe</td>\n",
       "    </tr>\n",
       "    <tr>\n",
       "      <th>3</th>\n",
       "      <td>3</td>\n",
       "      <td>DEU</td>\n",
       "    </tr>\n",
       "  </tbody>\n",
       "</table>\n",
       "</div>"
      ],
      "text/plain": [
       "   Cluster Location\n",
       "0        0   Europe\n",
       "1        1   Europe\n",
       "2        2   Europe\n",
       "3        3      DEU"
      ]
     },
     "execution_count": 228,
     "metadata": {},
     "output_type": "execute_result"
    }
   ],
   "source": [
    "# Get the Location mode for each cluster\n",
    "location_mode = customers.groupby('Cluster')['Location'].agg(pd.Series.mode).reset_index()\n",
    "location_mode"
   ]
  },
  {
   "cell_type": "code",
   "execution_count": 229,
   "metadata": {},
   "outputs": [
    {
     "data": {
      "text/html": [
       "<div>\n",
       "<style scoped>\n",
       "    .dataframe tbody tr th:only-of-type {\n",
       "        vertical-align: middle;\n",
       "    }\n",
       "\n",
       "    .dataframe tbody tr th {\n",
       "        vertical-align: top;\n",
       "    }\n",
       "\n",
       "    .dataframe thead th {\n",
       "        text-align: right;\n",
       "    }\n",
       "</style>\n",
       "<table border=\"1\" class=\"dataframe\">\n",
       "  <thead>\n",
       "    <tr style=\"text-align: right;\">\n",
       "      <th>Location</th>\n",
       "      <th>Cluster</th>\n",
       "      <th>DEU</th>\n",
       "      <th>ESP</th>\n",
       "      <th>Europe</th>\n",
       "      <th>FRA</th>\n",
       "      <th>GBR</th>\n",
       "      <th>PRT</th>\n",
       "      <th>RestOfTheWorld</th>\n",
       "    </tr>\n",
       "  </thead>\n",
       "  <tbody>\n",
       "    <tr>\n",
       "      <th>0</th>\n",
       "      <td>0</td>\n",
       "      <td>1594</td>\n",
       "      <td>1187</td>\n",
       "      <td>4208</td>\n",
       "      <td>3394</td>\n",
       "      <td>1477</td>\n",
       "      <td>1832</td>\n",
       "      <td>2156</td>\n",
       "    </tr>\n",
       "    <tr>\n",
       "      <th>1</th>\n",
       "      <td>1</td>\n",
       "      <td>2813</td>\n",
       "      <td>779</td>\n",
       "      <td>5225</td>\n",
       "      <td>2787</td>\n",
       "      <td>2136</td>\n",
       "      <td>1138</td>\n",
       "      <td>3715</td>\n",
       "    </tr>\n",
       "    <tr>\n",
       "      <th>2</th>\n",
       "      <td>2</td>\n",
       "      <td>1691</td>\n",
       "      <td>897</td>\n",
       "      <td>4362</td>\n",
       "      <td>2533</td>\n",
       "      <td>1662</td>\n",
       "      <td>1154</td>\n",
       "      <td>2703</td>\n",
       "    </tr>\n",
       "    <tr>\n",
       "      <th>3</th>\n",
       "      <td>3</td>\n",
       "      <td>1805</td>\n",
       "      <td>165</td>\n",
       "      <td>1484</td>\n",
       "      <td>728</td>\n",
       "      <td>1034</td>\n",
       "      <td>289</td>\n",
       "      <td>686</td>\n",
       "    </tr>\n",
       "  </tbody>\n",
       "</table>\n",
       "</div>"
      ],
      "text/plain": [
       "Location  Cluster   DEU   ESP  Europe   FRA   GBR   PRT  RestOfTheWorld\n",
       "0               0  1594  1187    4208  3394  1477  1832            2156\n",
       "1               1  2813   779    5225  2787  2136  1138            3715\n",
       "2               2  1691   897    4362  2533  1662  1154            2703\n",
       "3               3  1805   165    1484   728  1034   289             686"
      ]
     },
     "execution_count": 229,
     "metadata": {},
     "output_type": "execute_result"
    }
   ],
   "source": [
    "# get the location value counts for each cluster\n",
    "location_counts = customers.groupby('Cluster')['Location'].value_counts().unstack().reset_index()\n",
    "location_counts"
   ]
  },
  {
   "cell_type": "code",
   "execution_count": 232,
   "metadata": {},
   "outputs": [
    {
     "data": {
      "text/html": [
       "<div>\n",
       "<style scoped>\n",
       "    .dataframe tbody tr th:only-of-type {\n",
       "        vertical-align: middle;\n",
       "    }\n",
       "\n",
       "    .dataframe tbody tr th {\n",
       "        vertical-align: top;\n",
       "    }\n",
       "\n",
       "    .dataframe thead th {\n",
       "        text-align: right;\n",
       "    }\n",
       "</style>\n",
       "<table border=\"1\" class=\"dataframe\">\n",
       "  <thead>\n",
       "    <tr style=\"text-align: right;\">\n",
       "      <th></th>\n",
       "      <th>Cluster</th>\n",
       "      <th>DistributionChannel</th>\n",
       "    </tr>\n",
       "  </thead>\n",
       "  <tbody>\n",
       "    <tr>\n",
       "      <th>0</th>\n",
       "      <td>0</td>\n",
       "      <td>Travel Agent/Operator</td>\n",
       "    </tr>\n",
       "    <tr>\n",
       "      <th>1</th>\n",
       "      <td>1</td>\n",
       "      <td>Travel Agent/Operator</td>\n",
       "    </tr>\n",
       "    <tr>\n",
       "      <th>2</th>\n",
       "      <td>2</td>\n",
       "      <td>Travel Agent/Operator</td>\n",
       "    </tr>\n",
       "    <tr>\n",
       "      <th>3</th>\n",
       "      <td>3</td>\n",
       "      <td>Travel Agent/Operator</td>\n",
       "    </tr>\n",
       "  </tbody>\n",
       "</table>\n",
       "</div>"
      ],
      "text/plain": [
       "   Cluster    DistributionChannel\n",
       "0        0  Travel Agent/Operator\n",
       "1        1  Travel Agent/Operator\n",
       "2        2  Travel Agent/Operator\n",
       "3        3  Travel Agent/Operator"
      ]
     },
     "execution_count": 232,
     "metadata": {},
     "output_type": "execute_result"
    }
   ],
   "source": [
    "# get the DistributionChanel mode for each cluster\n",
    "distribution_mode = customers.groupby('Cluster')['DistributionChannel'].agg(pd.Series.mode).reset_index()\n",
    "distribution_mode"
   ]
  },
  {
   "cell_type": "code",
   "execution_count": 233,
   "metadata": {},
   "outputs": [
    {
     "data": {
      "text/html": [
       "<div>\n",
       "<style scoped>\n",
       "    .dataframe tbody tr th:only-of-type {\n",
       "        vertical-align: middle;\n",
       "    }\n",
       "\n",
       "    .dataframe tbody tr th {\n",
       "        vertical-align: top;\n",
       "    }\n",
       "\n",
       "    .dataframe thead th {\n",
       "        text-align: right;\n",
       "    }\n",
       "</style>\n",
       "<table border=\"1\" class=\"dataframe\">\n",
       "  <thead>\n",
       "    <tr style=\"text-align: right;\">\n",
       "      <th>DistributionChannel</th>\n",
       "      <th>Cluster</th>\n",
       "      <th>Corporate</th>\n",
       "      <th>Direct</th>\n",
       "      <th>GDS Systems</th>\n",
       "      <th>Travel Agent/Operator</th>\n",
       "    </tr>\n",
       "  </thead>\n",
       "  <tbody>\n",
       "    <tr>\n",
       "      <th>0</th>\n",
       "      <td>0</td>\n",
       "      <td>219.0</td>\n",
       "      <td>1721.0</td>\n",
       "      <td>6.0</td>\n",
       "      <td>13902.0</td>\n",
       "    </tr>\n",
       "    <tr>\n",
       "      <th>1</th>\n",
       "      <td>1</td>\n",
       "      <td>84.0</td>\n",
       "      <td>3004.0</td>\n",
       "      <td>26.0</td>\n",
       "      <td>15479.0</td>\n",
       "    </tr>\n",
       "    <tr>\n",
       "      <th>2</th>\n",
       "      <td>2</td>\n",
       "      <td>179.0</td>\n",
       "      <td>2172.0</td>\n",
       "      <td>14.0</td>\n",
       "      <td>12637.0</td>\n",
       "    </tr>\n",
       "    <tr>\n",
       "      <th>3</th>\n",
       "      <td>3</td>\n",
       "      <td>21.0</td>\n",
       "      <td>415.0</td>\n",
       "      <td>NaN</td>\n",
       "      <td>5755.0</td>\n",
       "    </tr>\n",
       "  </tbody>\n",
       "</table>\n",
       "</div>"
      ],
      "text/plain": [
       "DistributionChannel  Cluster  Corporate  Direct  GDS Systems  \\\n",
       "0                          0      219.0  1721.0          6.0   \n",
       "1                          1       84.0  3004.0         26.0   \n",
       "2                          2      179.0  2172.0         14.0   \n",
       "3                          3       21.0   415.0          NaN   \n",
       "\n",
       "DistributionChannel  Travel Agent/Operator  \n",
       "0                                  13902.0  \n",
       "1                                  15479.0  \n",
       "2                                  12637.0  \n",
       "3                                   5755.0  "
      ]
     },
     "execution_count": 233,
     "metadata": {},
     "output_type": "execute_result"
    }
   ],
   "source": [
    "# get the DistributionChanel value counts for each cluster\n",
    "distribution_counts = customers.groupby('Cluster')['DistributionChannel'].value_counts().unstack().reset_index()\n",
    "distribution_counts"
   ]
  },
  {
   "cell_type": "markdown",
   "metadata": {},
   "source": [
    "# LEFT TO DO\n",
    "\n",
    "Profilling is left.\n",
    "\n",
    "We have found 4 clusters."
   ]
  },
  {
   "cell_type": "code",
   "execution_count": null,
   "metadata": {},
   "outputs": [],
   "source": []
  },
  {
   "cell_type": "code",
   "execution_count": null,
   "metadata": {},
   "outputs": [],
   "source": []
  }
 ],
 "metadata": {
  "kernelspec": {
   "display_name": "DM2425",
   "language": "python",
   "name": "python3"
  },
  "language_info": {
   "codemirror_mode": {
    "name": "ipython",
    "version": 3
   },
   "file_extension": ".py",
   "mimetype": "text/x-python",
   "name": "python",
   "nbconvert_exporter": "python",
   "pygments_lexer": "ipython3",
   "version": "3.12.2"
  }
 },
 "nbformat": 4,
 "nbformat_minor": 2
}
