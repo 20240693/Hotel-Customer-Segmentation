{
 "cells": [
  {
   "cell_type": "markdown",
   "metadata": {},
   "source": [
    "**<h1 align=\"center\" > Business Cases with Data Science - Case 1</h1>**\n"
   ]
  },
  {
   "cell_type": "markdown",
   "metadata": {},
   "source": [
    "**Group members:**<br> \n",
    "Chloé Deschanel - 20240693 <br>\n",
    "Diogo Carvalho - 20240694 <br>\n",
    "Ingrid Lopez - 20240692 <br>\n",
    "Ruben Marques- 20240352"
   ]
  },
  {
   "cell_type": "markdown",
   "metadata": {},
   "source": [
    "# Introduction"
   ]
  },
  {
   "cell_type": "markdown",
   "metadata": {},
   "source": [
    "Lisbon, Portugal, has experienced remarkable growth in its tourism and hospitality sector over the past decade. As one of Europe’s most sought-after travel destinations, Lisbon attracts a diverse mix of travelers, including leisure tourists, business professionals, digital nomads, and event attendees. The rise of online booking platforms, changing customer expectations, and an increasing emphasis on personalized experiences has significantly impacted the way hotels operate and strategize their market positioning.\n",
    "\n",
    "Traditional segmentation methods—often based on distribution channels (e.g., direct, OTA, corporate bookings)—fail to capture the complexity of modern traveler behaviors. The evolving landscape of hospitality requires a more data-driven approach to customer segmentation, allowing hotels to tailor their services, optimize pricing strategies, and improve customer retention.\n",
    "\n",
    "By leveraging the data provided, we can redefine customer segmentation beyond just how a booking was made. Instead, we can incorporate demographic, behavioral, and spending characteristics to classify customers in a way that aligns with modern hospitality needs, ultimately enhancing revenue management, marketing effectiveness, and guest satisfaction."
   ]
  },
  {
   "cell_type": "markdown",
   "metadata": {},
   "source": [
    "# EDA"
   ]
  },
  {
   "cell_type": "markdown",
   "metadata": {},
   "source": [
    "## 1.1. Imports"
   ]
  },
  {
   "cell_type": "code",
   "execution_count": 1,
   "metadata": {},
   "outputs": [],
   "source": [
    "import numpy as np\n",
    "import pandas as pd\n",
    "import matplotlib.pyplot as plt\n",
    "import seaborn as sns\n",
    "\n",
    "# Set display options to show all rows\n",
    "pd.set_option('display.max_rows', None)\n",
    "\n",
    "# Set display options to show all columns\n",
    "pd.set_option('display.max_columns', None)"
   ]
  },
  {
   "cell_type": "code",
   "execution_count": 2,
   "metadata": {},
   "outputs": [],
   "source": [
    "import geopandas as gpd\n",
    "import folium\n",
    "import geodatasets\n",
    "import mapclassify"
   ]
  },
  {
   "cell_type": "markdown",
   "metadata": {},
   "source": [
    "## 1.2 Loading Data"
   ]
  },
  {
   "cell_type": "code",
   "execution_count": 3,
   "metadata": {},
   "outputs": [],
   "source": [
    "data = pd.read_csv(\"../Data/Case1_HotelCustomerSegmentation.csv\", sep=\";\")"
   ]
  },
  {
   "cell_type": "code",
   "execution_count": 4,
   "metadata": {},
   "outputs": [
    {
     "data": {
      "text/html": [
       "<div>\n",
       "<style scoped>\n",
       "    .dataframe tbody tr th:only-of-type {\n",
       "        vertical-align: middle;\n",
       "    }\n",
       "\n",
       "    .dataframe tbody tr th {\n",
       "        vertical-align: top;\n",
       "    }\n",
       "\n",
       "    .dataframe thead th {\n",
       "        text-align: right;\n",
       "    }\n",
       "</style>\n",
       "<table border=\"1\" class=\"dataframe\">\n",
       "  <thead>\n",
       "    <tr style=\"text-align: right;\">\n",
       "      <th></th>\n",
       "      <th>ID</th>\n",
       "      <th>Nationality</th>\n",
       "      <th>Age</th>\n",
       "      <th>DaysSinceCreation</th>\n",
       "      <th>NameHash</th>\n",
       "      <th>DocIDHash</th>\n",
       "      <th>AverageLeadTime</th>\n",
       "      <th>LodgingRevenue</th>\n",
       "      <th>OtherRevenue</th>\n",
       "      <th>BookingsCanceled</th>\n",
       "      <th>BookingsNoShowed</th>\n",
       "      <th>BookingsCheckedIn</th>\n",
       "      <th>PersonsNights</th>\n",
       "      <th>RoomNights</th>\n",
       "      <th>DistributionChannel</th>\n",
       "      <th>MarketSegment</th>\n",
       "      <th>SRHighFloor</th>\n",
       "      <th>SRLowFloor</th>\n",
       "      <th>SRAccessibleRoom</th>\n",
       "      <th>SRMediumFloor</th>\n",
       "      <th>SRBathtub</th>\n",
       "      <th>SRShower</th>\n",
       "      <th>SRCrib</th>\n",
       "      <th>SRKingSizeBed</th>\n",
       "      <th>SRTwinBed</th>\n",
       "      <th>SRNearElevator</th>\n",
       "      <th>SRAwayFromElevator</th>\n",
       "      <th>SRNoAlcoholInMiniBar</th>\n",
       "      <th>SRQuietRoom</th>\n",
       "    </tr>\n",
       "  </thead>\n",
       "  <tbody>\n",
       "    <tr>\n",
       "      <th>35130</th>\n",
       "      <td>35131</td>\n",
       "      <td>BEL</td>\n",
       "      <td>55.0</td>\n",
       "      <td>783</td>\n",
       "      <td>0xB420AA720A5C130B17FFEFBF62D7F75794B4CEEEFF16...</td>\n",
       "      <td>0x6D5AC702D65884A5241B211BA7F55332A4646E2704BD...</td>\n",
       "      <td>2</td>\n",
       "      <td>101.1</td>\n",
       "      <td>51.0</td>\n",
       "      <td>0</td>\n",
       "      <td>0</td>\n",
       "      <td>1</td>\n",
       "      <td>1</td>\n",
       "      <td>1</td>\n",
       "      <td>Direct</td>\n",
       "      <td>Direct</td>\n",
       "      <td>0</td>\n",
       "      <td>0</td>\n",
       "      <td>0</td>\n",
       "      <td>0</td>\n",
       "      <td>0</td>\n",
       "      <td>0</td>\n",
       "      <td>0</td>\n",
       "      <td>0</td>\n",
       "      <td>0</td>\n",
       "      <td>0</td>\n",
       "      <td>0</td>\n",
       "      <td>0</td>\n",
       "      <td>0</td>\n",
       "    </tr>\n",
       "    <tr>\n",
       "      <th>87654</th>\n",
       "      <td>87655</td>\n",
       "      <td>IRL</td>\n",
       "      <td>35.0</td>\n",
       "      <td>239</td>\n",
       "      <td>0xBDC6D48FB6FF35C1E3C8729355773CB3FCC81B47130E...</td>\n",
       "      <td>0xD590CE3F41A50E480A8FED4BBB7C162A3C52CFB45A86...</td>\n",
       "      <td>0</td>\n",
       "      <td>0.0</td>\n",
       "      <td>0.0</td>\n",
       "      <td>0</td>\n",
       "      <td>0</td>\n",
       "      <td>0</td>\n",
       "      <td>0</td>\n",
       "      <td>0</td>\n",
       "      <td>Travel Agent/Operator</td>\n",
       "      <td>Other</td>\n",
       "      <td>0</td>\n",
       "      <td>0</td>\n",
       "      <td>0</td>\n",
       "      <td>0</td>\n",
       "      <td>0</td>\n",
       "      <td>0</td>\n",
       "      <td>0</td>\n",
       "      <td>0</td>\n",
       "      <td>0</td>\n",
       "      <td>0</td>\n",
       "      <td>0</td>\n",
       "      <td>0</td>\n",
       "      <td>0</td>\n",
       "    </tr>\n",
       "    <tr>\n",
       "      <th>48161</th>\n",
       "      <td>48162</td>\n",
       "      <td>FRA</td>\n",
       "      <td>43.0</td>\n",
       "      <td>587</td>\n",
       "      <td>0x6C6DEC0D697AB283F07B5526F6597B51481724BCFDA3...</td>\n",
       "      <td>0x5BD86A5D859932804020B772A0940C5DED9F471A6CE0...</td>\n",
       "      <td>23</td>\n",
       "      <td>168.0</td>\n",
       "      <td>14.0</td>\n",
       "      <td>0</td>\n",
       "      <td>0</td>\n",
       "      <td>1</td>\n",
       "      <td>2</td>\n",
       "      <td>2</td>\n",
       "      <td>Travel Agent/Operator</td>\n",
       "      <td>Groups</td>\n",
       "      <td>0</td>\n",
       "      <td>0</td>\n",
       "      <td>0</td>\n",
       "      <td>0</td>\n",
       "      <td>0</td>\n",
       "      <td>0</td>\n",
       "      <td>0</td>\n",
       "      <td>0</td>\n",
       "      <td>0</td>\n",
       "      <td>0</td>\n",
       "      <td>0</td>\n",
       "      <td>0</td>\n",
       "      <td>0</td>\n",
       "    </tr>\n",
       "    <tr>\n",
       "      <th>98553</th>\n",
       "      <td>98554</td>\n",
       "      <td>AUT</td>\n",
       "      <td>68.0</td>\n",
       "      <td>144</td>\n",
       "      <td>0x1544A329922AAAC88EB7AF2F57E1F399CD683BB35D9B...</td>\n",
       "      <td>0x79A387D6E5A0F393322DEA398ED91ADC1EF91CE73553...</td>\n",
       "      <td>0</td>\n",
       "      <td>0.0</td>\n",
       "      <td>0.0</td>\n",
       "      <td>0</td>\n",
       "      <td>0</td>\n",
       "      <td>0</td>\n",
       "      <td>0</td>\n",
       "      <td>0</td>\n",
       "      <td>Travel Agent/Operator</td>\n",
       "      <td>Travel Agent/Operator</td>\n",
       "      <td>0</td>\n",
       "      <td>0</td>\n",
       "      <td>0</td>\n",
       "      <td>0</td>\n",
       "      <td>0</td>\n",
       "      <td>0</td>\n",
       "      <td>0</td>\n",
       "      <td>0</td>\n",
       "      <td>1</td>\n",
       "      <td>0</td>\n",
       "      <td>0</td>\n",
       "      <td>0</td>\n",
       "      <td>0</td>\n",
       "    </tr>\n",
       "    <tr>\n",
       "      <th>25104</th>\n",
       "      <td>25105</td>\n",
       "      <td>ISR</td>\n",
       "      <td>33.0</td>\n",
       "      <td>932</td>\n",
       "      <td>0x78EA8F591C5A8329A8BB96BDFE70D5B61D1678B284BE...</td>\n",
       "      <td>0xBE542661D58B944E79C428EC423BD9BC49E50B3A0578...</td>\n",
       "      <td>158</td>\n",
       "      <td>166.0</td>\n",
       "      <td>32.0</td>\n",
       "      <td>0</td>\n",
       "      <td>0</td>\n",
       "      <td>1</td>\n",
       "      <td>4</td>\n",
       "      <td>2</td>\n",
       "      <td>Travel Agent/Operator</td>\n",
       "      <td>Groups</td>\n",
       "      <td>0</td>\n",
       "      <td>0</td>\n",
       "      <td>0</td>\n",
       "      <td>0</td>\n",
       "      <td>0</td>\n",
       "      <td>0</td>\n",
       "      <td>0</td>\n",
       "      <td>0</td>\n",
       "      <td>1</td>\n",
       "      <td>0</td>\n",
       "      <td>0</td>\n",
       "      <td>0</td>\n",
       "      <td>0</td>\n",
       "    </tr>\n",
       "  </tbody>\n",
       "</table>\n",
       "</div>"
      ],
      "text/plain": [
       "          ID Nationality   Age  DaysSinceCreation  \\\n",
       "35130  35131         BEL  55.0                783   \n",
       "87654  87655         IRL  35.0                239   \n",
       "48161  48162         FRA  43.0                587   \n",
       "98553  98554         AUT  68.0                144   \n",
       "25104  25105         ISR  33.0                932   \n",
       "\n",
       "                                                NameHash  \\\n",
       "35130  0xB420AA720A5C130B17FFEFBF62D7F75794B4CEEEFF16...   \n",
       "87654  0xBDC6D48FB6FF35C1E3C8729355773CB3FCC81B47130E...   \n",
       "48161  0x6C6DEC0D697AB283F07B5526F6597B51481724BCFDA3...   \n",
       "98553  0x1544A329922AAAC88EB7AF2F57E1F399CD683BB35D9B...   \n",
       "25104  0x78EA8F591C5A8329A8BB96BDFE70D5B61D1678B284BE...   \n",
       "\n",
       "                                               DocIDHash  AverageLeadTime  \\\n",
       "35130  0x6D5AC702D65884A5241B211BA7F55332A4646E2704BD...                2   \n",
       "87654  0xD590CE3F41A50E480A8FED4BBB7C162A3C52CFB45A86...                0   \n",
       "48161  0x5BD86A5D859932804020B772A0940C5DED9F471A6CE0...               23   \n",
       "98553  0x79A387D6E5A0F393322DEA398ED91ADC1EF91CE73553...                0   \n",
       "25104  0xBE542661D58B944E79C428EC423BD9BC49E50B3A0578...              158   \n",
       "\n",
       "       LodgingRevenue  OtherRevenue  BookingsCanceled  BookingsNoShowed  \\\n",
       "35130           101.1          51.0                 0                 0   \n",
       "87654             0.0           0.0                 0                 0   \n",
       "48161           168.0          14.0                 0                 0   \n",
       "98553             0.0           0.0                 0                 0   \n",
       "25104           166.0          32.0                 0                 0   \n",
       "\n",
       "       BookingsCheckedIn  PersonsNights  RoomNights    DistributionChannel  \\\n",
       "35130                  1              1           1                 Direct   \n",
       "87654                  0              0           0  Travel Agent/Operator   \n",
       "48161                  1              2           2  Travel Agent/Operator   \n",
       "98553                  0              0           0  Travel Agent/Operator   \n",
       "25104                  1              4           2  Travel Agent/Operator   \n",
       "\n",
       "               MarketSegment  SRHighFloor  SRLowFloor  SRAccessibleRoom  \\\n",
       "35130                 Direct            0           0                 0   \n",
       "87654                  Other            0           0                 0   \n",
       "48161                 Groups            0           0                 0   \n",
       "98553  Travel Agent/Operator            0           0                 0   \n",
       "25104                 Groups            0           0                 0   \n",
       "\n",
       "       SRMediumFloor  SRBathtub  SRShower  SRCrib  SRKingSizeBed  SRTwinBed  \\\n",
       "35130              0          0         0       0              0          0   \n",
       "87654              0          0         0       0              0          0   \n",
       "48161              0          0         0       0              0          0   \n",
       "98553              0          0         0       0              0          1   \n",
       "25104              0          0         0       0              0          1   \n",
       "\n",
       "       SRNearElevator  SRAwayFromElevator  SRNoAlcoholInMiniBar  SRQuietRoom  \n",
       "35130               0                   0                     0            0  \n",
       "87654               0                   0                     0            0  \n",
       "48161               0                   0                     0            0  \n",
       "98553               0                   0                     0            0  \n",
       "25104               0                   0                     0            0  "
      ]
     },
     "execution_count": 4,
     "metadata": {},
     "output_type": "execute_result"
    }
   ],
   "source": [
    "# Display a sample of the dataset\n",
    "data.sample(5)"
   ]
  },
  {
   "cell_type": "code",
   "execution_count": 5,
   "metadata": {},
   "outputs": [],
   "source": [
    "# Set ID as index\n",
    "data.set_index('ID', inplace=True)"
   ]
  },
  {
   "cell_type": "markdown",
   "metadata": {},
   "source": [
    "| #   | Column Name        | Description                                                                                       |\n",
    "|:----|:-------------------|:--------------------------------------------------------------------------------------------------|\n",
    "| 1   | ID        | Customer ID customer. |\n",
    "| 2   | Nationality    | Nationality of the customer in ISO 3166-1 (Alpha 3) format. |\n",
    "| 3   | Age       | Age of the customer. |\n",
    "| 4   | DaysSinceCreation       | Number of elapsed days since the customer was created. |\n",
    "| 5   | NameHash | Hash of the customer's name. |\n",
    "| 6   | DocIDHash | Hash of the customer’s personal document identification number (usually a passport or ID card). |\n",
    "| 7   | AverageLeadTime | Average number of days before arrival date the customer makes bookings. |\n",
    "| 8   | LodgingRevenue | Total amount of lodging revenue paid by the customer so far. |\n",
    "| 9   | OtherRevenue | Total amount of other revenue (e.g., food & beverage, spa, etc.) paid by the customer so far. |\n",
    "| 10  | BookingsCanceled | Number of bookings the customer made but subsequently canceled. |\n",
    "| 11  | BookingsNoShowed | Number of bookings the customer made but subsequently made a \"no-show\". |\n",
    "| 12  | BookingsCheckedin | Number of bookings the customer made, which actually ended up staying. |\n",
    "| 13  | PersonNights | Total person/nights the customer has stayed at the hotel so far. Persons/Nights are the sum of Adults and Children in each booking, multiplied by the number of Nights (Length-of-stay) of the booking. |\n",
    "| 14  | RoomNights | Total of room/nights the customer has stayed at the hotel so far. Room/Nights are the multiplication of the number of rooms of each booking by the the number of Nights (Length-of- stay) of the booking. |\n",
    "| 15  | DistributionChannel | Distribution channel normally used by the customer to make bookings at the hotel. |\n",
    "| 16  | MarketSegment | Current market segment of the customer. |\n",
    "| 17  | SRHighFloor | Indication if the customer usually asks for a room in a higher floor (0: No, 1: Yes). |\n",
    "| 18  | RLowFloor  | Indication if the customer usually asks for a room in a lower floor (0: No, 1: Yes).  | \n",
    "| 19  | SRAccessibleRoom | Indication if the customer usually asks for an accessible room (0: No, 1: Yes). |\n",
    "| 20  | SRMediumFloor | Indication if the customer usually asks for a room in a middle floor (0: No, 1: Yes). |\n",
    "| 21  | SRBathtub | Indication if the customer usually asks for a room with a bathtub (0: No, 1: Yes). |\n",
    "| 22  | SRShower | Indication if the customer usually asks for a room with a shower (0: No, 1: Yes). |\n",
    "| 23  | SRCrib  | Indication if the customer usually asks for a crib (0: No, 1: Yes). |\n",
    "| 24  | SRKingSizeBed | Indication if the customer usually asks for a room with a king size bed (0: No, 1: Yes). |\n",
    "| 25  | SRTwinBed | Indication if the customer usually asks for a room with a twin bed (0: No, 1: Yes). |\n",
    "| 26  | SRNearElevator | Indication if the customer usually asks for a room near the elevator (0: No, 1: Yes). |\n",
    "| 27  | SRAwayFromElevator | Indication if the customer usually asks for a room away from the elevator (0: No, 1: Yes). |\n",
    "| 28  | SRNoAlcoholInMiniBar | Indication if the customer usually asks for a room with no alcohol in the mini bar (0: No, 1: Yes). |\n",
    "| 29  | SRQuietRoom | Indication if the customer usually asks for a room away from the noise (0: No, 1: Yes). |\n"
   ]
  },
  {
   "cell_type": "markdown",
   "metadata": {},
   "source": [
    "## 1.3 Initial analysis\n",
    "\n",
    "**Insights:**\n",
    "\n",
    "- There were 111 duplicated rows that have been removed.\n",
    "- There are two rows with missing values: Age(4092), DocIDHash(932)\n",
    "- The categorical columns are: Nationality, NameHash, DocIDHash, DistributionChannel, MarketSegment\n",
    "- There are 5 categorical columns: Nationality, NameHash, DocIDHash, DistributionChannel, MarketSegment \n",
    "- The remaining 23 columns are numerical."
   ]
  },
  {
   "cell_type": "markdown",
   "metadata": {},
   "source": [
    "### 1.3.1 Types"
   ]
  },
  {
   "cell_type": "code",
   "execution_count": 6,
   "metadata": {},
   "outputs": [
    {
     "name": "stdout",
     "output_type": "stream",
     "text": [
      "<class 'pandas.core.frame.DataFrame'>\n",
      "Index: 111733 entries, 1 to 111733\n",
      "Data columns (total 28 columns):\n",
      " #   Column                Non-Null Count   Dtype  \n",
      "---  ------                --------------   -----  \n",
      " 0   Nationality           111733 non-null  object \n",
      " 1   Age                   107561 non-null  float64\n",
      " 2   DaysSinceCreation     111733 non-null  int64  \n",
      " 3   NameHash              111733 non-null  object \n",
      " 4   DocIDHash             110732 non-null  object \n",
      " 5   AverageLeadTime       111733 non-null  int64  \n",
      " 6   LodgingRevenue        111733 non-null  float64\n",
      " 7   OtherRevenue          111733 non-null  float64\n",
      " 8   BookingsCanceled      111733 non-null  int64  \n",
      " 9   BookingsNoShowed      111733 non-null  int64  \n",
      " 10  BookingsCheckedIn     111733 non-null  int64  \n",
      " 11  PersonsNights         111733 non-null  int64  \n",
      " 12  RoomNights            111733 non-null  int64  \n",
      " 13  DistributionChannel   111733 non-null  object \n",
      " 14  MarketSegment         111733 non-null  object \n",
      " 15  SRHighFloor           111733 non-null  int64  \n",
      " 16  SRLowFloor            111733 non-null  int64  \n",
      " 17  SRAccessibleRoom      111733 non-null  int64  \n",
      " 18  SRMediumFloor         111733 non-null  int64  \n",
      " 19  SRBathtub             111733 non-null  int64  \n",
      " 20  SRShower              111733 non-null  int64  \n",
      " 21  SRCrib                111733 non-null  int64  \n",
      " 22  SRKingSizeBed         111733 non-null  int64  \n",
      " 23  SRTwinBed             111733 non-null  int64  \n",
      " 24  SRNearElevator        111733 non-null  int64  \n",
      " 25  SRAwayFromElevator    111733 non-null  int64  \n",
      " 26  SRNoAlcoholInMiniBar  111733 non-null  int64  \n",
      " 27  SRQuietRoom           111733 non-null  int64  \n",
      "dtypes: float64(3), int64(20), object(5)\n",
      "memory usage: 24.7+ MB\n"
     ]
    }
   ],
   "source": [
    "data.info()"
   ]
  },
  {
   "cell_type": "markdown",
   "metadata": {},
   "source": [
    "### 1.3.2 Duplicates"
   ]
  },
  {
   "cell_type": "code",
   "execution_count": 7,
   "metadata": {},
   "outputs": [
    {
     "name": "stdout",
     "output_type": "stream",
     "text": [
      "Number of duplicates: 111\n"
     ]
    },
    {
     "data": {
      "text/html": [
       "<div>\n",
       "<style scoped>\n",
       "    .dataframe tbody tr th:only-of-type {\n",
       "        vertical-align: middle;\n",
       "    }\n",
       "\n",
       "    .dataframe tbody tr th {\n",
       "        vertical-align: top;\n",
       "    }\n",
       "\n",
       "    .dataframe thead th {\n",
       "        text-align: right;\n",
       "    }\n",
       "</style>\n",
       "<table border=\"1\" class=\"dataframe\">\n",
       "  <thead>\n",
       "    <tr style=\"text-align: right;\">\n",
       "      <th></th>\n",
       "      <th>Nationality</th>\n",
       "      <th>Age</th>\n",
       "      <th>DaysSinceCreation</th>\n",
       "      <th>NameHash</th>\n",
       "      <th>DocIDHash</th>\n",
       "      <th>AverageLeadTime</th>\n",
       "      <th>LodgingRevenue</th>\n",
       "      <th>OtherRevenue</th>\n",
       "      <th>BookingsCanceled</th>\n",
       "      <th>BookingsNoShowed</th>\n",
       "      <th>BookingsCheckedIn</th>\n",
       "      <th>PersonsNights</th>\n",
       "      <th>RoomNights</th>\n",
       "      <th>DistributionChannel</th>\n",
       "      <th>MarketSegment</th>\n",
       "      <th>SRHighFloor</th>\n",
       "      <th>SRLowFloor</th>\n",
       "      <th>SRAccessibleRoom</th>\n",
       "      <th>SRMediumFloor</th>\n",
       "      <th>SRBathtub</th>\n",
       "      <th>SRShower</th>\n",
       "      <th>SRCrib</th>\n",
       "      <th>SRKingSizeBed</th>\n",
       "      <th>SRTwinBed</th>\n",
       "      <th>SRNearElevator</th>\n",
       "      <th>SRAwayFromElevator</th>\n",
       "      <th>SRNoAlcoholInMiniBar</th>\n",
       "      <th>SRQuietRoom</th>\n",
       "    </tr>\n",
       "    <tr>\n",
       "      <th>ID</th>\n",
       "      <th></th>\n",
       "      <th></th>\n",
       "      <th></th>\n",
       "      <th></th>\n",
       "      <th></th>\n",
       "      <th></th>\n",
       "      <th></th>\n",
       "      <th></th>\n",
       "      <th></th>\n",
       "      <th></th>\n",
       "      <th></th>\n",
       "      <th></th>\n",
       "      <th></th>\n",
       "      <th></th>\n",
       "      <th></th>\n",
       "      <th></th>\n",
       "      <th></th>\n",
       "      <th></th>\n",
       "      <th></th>\n",
       "      <th></th>\n",
       "      <th></th>\n",
       "      <th></th>\n",
       "      <th></th>\n",
       "      <th></th>\n",
       "      <th></th>\n",
       "      <th></th>\n",
       "      <th></th>\n",
       "      <th></th>\n",
       "    </tr>\n",
       "  </thead>\n",
       "  <tbody>\n",
       "    <tr>\n",
       "      <th>36398</th>\n",
       "      <td>PRT</td>\n",
       "      <td>NaN</td>\n",
       "      <td>766</td>\n",
       "      <td>0x980FA177B3D2F00420A96C437ED2EB8AC43B2037D086...</td>\n",
       "      <td>0xE3B0C44298FC1C149AFBF4C8996FB92427AE41E4649B...</td>\n",
       "      <td>4</td>\n",
       "      <td>134.0</td>\n",
       "      <td>8.0</td>\n",
       "      <td>0</td>\n",
       "      <td>0</td>\n",
       "      <td>1</td>\n",
       "      <td>1</td>\n",
       "      <td>1</td>\n",
       "      <td>Travel Agent/Operator</td>\n",
       "      <td>Groups</td>\n",
       "      <td>0</td>\n",
       "      <td>0</td>\n",
       "      <td>0</td>\n",
       "      <td>0</td>\n",
       "      <td>0</td>\n",
       "      <td>0</td>\n",
       "      <td>0</td>\n",
       "      <td>0</td>\n",
       "      <td>0</td>\n",
       "      <td>0</td>\n",
       "      <td>0</td>\n",
       "      <td>0</td>\n",
       "      <td>0</td>\n",
       "    </tr>\n",
       "    <tr>\n",
       "      <th>104298</th>\n",
       "      <td>PRT</td>\n",
       "      <td>NaN</td>\n",
       "      <td>95</td>\n",
       "      <td>0xF1465EC9E2D0027094B7C3D72772A862A635E461FFFC...</td>\n",
       "      <td>NaN</td>\n",
       "      <td>0</td>\n",
       "      <td>0.0</td>\n",
       "      <td>0.0</td>\n",
       "      <td>0</td>\n",
       "      <td>0</td>\n",
       "      <td>0</td>\n",
       "      <td>0</td>\n",
       "      <td>0</td>\n",
       "      <td>Travel Agent/Operator</td>\n",
       "      <td>Other</td>\n",
       "      <td>0</td>\n",
       "      <td>0</td>\n",
       "      <td>0</td>\n",
       "      <td>0</td>\n",
       "      <td>0</td>\n",
       "      <td>0</td>\n",
       "      <td>0</td>\n",
       "      <td>0</td>\n",
       "      <td>0</td>\n",
       "      <td>0</td>\n",
       "      <td>0</td>\n",
       "      <td>0</td>\n",
       "      <td>0</td>\n",
       "    </tr>\n",
       "    <tr>\n",
       "      <th>69909</th>\n",
       "      <td>PRT</td>\n",
       "      <td>NaN</td>\n",
       "      <td>414</td>\n",
       "      <td>0x15A713CE687991691A18F6CDC56ABE24979C73CF5D51...</td>\n",
       "      <td>NaN</td>\n",
       "      <td>0</td>\n",
       "      <td>0.0</td>\n",
       "      <td>0.0</td>\n",
       "      <td>0</td>\n",
       "      <td>0</td>\n",
       "      <td>0</td>\n",
       "      <td>0</td>\n",
       "      <td>0</td>\n",
       "      <td>Travel Agent/Operator</td>\n",
       "      <td>Other</td>\n",
       "      <td>0</td>\n",
       "      <td>0</td>\n",
       "      <td>0</td>\n",
       "      <td>0</td>\n",
       "      <td>0</td>\n",
       "      <td>0</td>\n",
       "      <td>0</td>\n",
       "      <td>0</td>\n",
       "      <td>0</td>\n",
       "      <td>0</td>\n",
       "      <td>0</td>\n",
       "      <td>0</td>\n",
       "      <td>0</td>\n",
       "    </tr>\n",
       "    <tr>\n",
       "      <th>50449</th>\n",
       "      <td>IRL</td>\n",
       "      <td>68.0</td>\n",
       "      <td>566</td>\n",
       "      <td>0x5736570F61EA6B721BBDE2E79A83BF005E7BDDC96003...</td>\n",
       "      <td>0x3257A1BC44ED42DFBC85CA0A903B96865D7F1653AC5C...</td>\n",
       "      <td>0</td>\n",
       "      <td>0.0</td>\n",
       "      <td>0.0</td>\n",
       "      <td>0</td>\n",
       "      <td>0</td>\n",
       "      <td>0</td>\n",
       "      <td>0</td>\n",
       "      <td>0</td>\n",
       "      <td>Travel Agent/Operator</td>\n",
       "      <td>Other</td>\n",
       "      <td>0</td>\n",
       "      <td>0</td>\n",
       "      <td>0</td>\n",
       "      <td>0</td>\n",
       "      <td>0</td>\n",
       "      <td>0</td>\n",
       "      <td>0</td>\n",
       "      <td>1</td>\n",
       "      <td>0</td>\n",
       "      <td>0</td>\n",
       "      <td>0</td>\n",
       "      <td>0</td>\n",
       "      <td>0</td>\n",
       "    </tr>\n",
       "    <tr>\n",
       "      <th>108605</th>\n",
       "      <td>PRT</td>\n",
       "      <td>NaN</td>\n",
       "      <td>61</td>\n",
       "      <td>0x15A713CE687991691A18F6CDC56ABE24979C73CF5D51...</td>\n",
       "      <td>NaN</td>\n",
       "      <td>0</td>\n",
       "      <td>0.0</td>\n",
       "      <td>0.0</td>\n",
       "      <td>0</td>\n",
       "      <td>0</td>\n",
       "      <td>0</td>\n",
       "      <td>0</td>\n",
       "      <td>0</td>\n",
       "      <td>Travel Agent/Operator</td>\n",
       "      <td>Other</td>\n",
       "      <td>0</td>\n",
       "      <td>0</td>\n",
       "      <td>0</td>\n",
       "      <td>0</td>\n",
       "      <td>0</td>\n",
       "      <td>0</td>\n",
       "      <td>0</td>\n",
       "      <td>0</td>\n",
       "      <td>0</td>\n",
       "      <td>0</td>\n",
       "      <td>0</td>\n",
       "      <td>0</td>\n",
       "      <td>0</td>\n",
       "    </tr>\n",
       "  </tbody>\n",
       "</table>\n",
       "</div>"
      ],
      "text/plain": [
       "       Nationality   Age  DaysSinceCreation  \\\n",
       "ID                                            \n",
       "36398          PRT   NaN                766   \n",
       "104298         PRT   NaN                 95   \n",
       "69909          PRT   NaN                414   \n",
       "50449          IRL  68.0                566   \n",
       "108605         PRT   NaN                 61   \n",
       "\n",
       "                                                 NameHash  \\\n",
       "ID                                                          \n",
       "36398   0x980FA177B3D2F00420A96C437ED2EB8AC43B2037D086...   \n",
       "104298  0xF1465EC9E2D0027094B7C3D72772A862A635E461FFFC...   \n",
       "69909   0x15A713CE687991691A18F6CDC56ABE24979C73CF5D51...   \n",
       "50449   0x5736570F61EA6B721BBDE2E79A83BF005E7BDDC96003...   \n",
       "108605  0x15A713CE687991691A18F6CDC56ABE24979C73CF5D51...   \n",
       "\n",
       "                                                DocIDHash  AverageLeadTime  \\\n",
       "ID                                                                           \n",
       "36398   0xE3B0C44298FC1C149AFBF4C8996FB92427AE41E4649B...                4   \n",
       "104298                                                NaN                0   \n",
       "69909                                                 NaN                0   \n",
       "50449   0x3257A1BC44ED42DFBC85CA0A903B96865D7F1653AC5C...                0   \n",
       "108605                                                NaN                0   \n",
       "\n",
       "        LodgingRevenue  OtherRevenue  BookingsCanceled  BookingsNoShowed  \\\n",
       "ID                                                                         \n",
       "36398            134.0           8.0                 0                 0   \n",
       "104298             0.0           0.0                 0                 0   \n",
       "69909              0.0           0.0                 0                 0   \n",
       "50449              0.0           0.0                 0                 0   \n",
       "108605             0.0           0.0                 0                 0   \n",
       "\n",
       "        BookingsCheckedIn  PersonsNights  RoomNights    DistributionChannel  \\\n",
       "ID                                                                            \n",
       "36398                   1              1           1  Travel Agent/Operator   \n",
       "104298                  0              0           0  Travel Agent/Operator   \n",
       "69909                   0              0           0  Travel Agent/Operator   \n",
       "50449                   0              0           0  Travel Agent/Operator   \n",
       "108605                  0              0           0  Travel Agent/Operator   \n",
       "\n",
       "       MarketSegment  SRHighFloor  SRLowFloor  SRAccessibleRoom  \\\n",
       "ID                                                                \n",
       "36398         Groups            0           0                 0   \n",
       "104298         Other            0           0                 0   \n",
       "69909          Other            0           0                 0   \n",
       "50449          Other            0           0                 0   \n",
       "108605         Other            0           0                 0   \n",
       "\n",
       "        SRMediumFloor  SRBathtub  SRShower  SRCrib  SRKingSizeBed  SRTwinBed  \\\n",
       "ID                                                                             \n",
       "36398               0          0         0       0              0          0   \n",
       "104298              0          0         0       0              0          0   \n",
       "69909               0          0         0       0              0          0   \n",
       "50449               0          0         0       0              1          0   \n",
       "108605              0          0         0       0              0          0   \n",
       "\n",
       "        SRNearElevator  SRAwayFromElevator  SRNoAlcoholInMiniBar  SRQuietRoom  \n",
       "ID                                                                             \n",
       "36398                0                   0                     0            0  \n",
       "104298               0                   0                     0            0  \n",
       "69909                0                   0                     0            0  \n",
       "50449                0                   0                     0            0  \n",
       "108605               0                   0                     0            0  "
      ]
     },
     "execution_count": 7,
     "metadata": {},
     "output_type": "execute_result"
    }
   ],
   "source": [
    "# Check for duplicates\n",
    "duplicates = data.duplicated()\n",
    "print(f\"Number of duplicates: {duplicates.sum()}\")\n",
    "data[duplicates].sample(5)"
   ]
  },
  {
   "cell_type": "code",
   "execution_count": 8,
   "metadata": {},
   "outputs": [
    {
     "name": "stdout",
     "output_type": "stream",
     "text": [
      "There are 0 duplicates left in the dataset.\n"
     ]
    }
   ],
   "source": [
    "# Drop duplicates\n",
    "data.drop_duplicates(inplace=True)\n",
    "print(f'There are {data.duplicated().sum()} duplicates left in the dataset.')"
   ]
  },
  {
   "cell_type": "markdown",
   "metadata": {},
   "source": [
    "### 1.3.3 Missing Values"
   ]
  },
  {
   "cell_type": "code",
   "execution_count": 9,
   "metadata": {},
   "outputs": [
    {
     "data": {
      "text/plain": [
       "Age          4092\n",
       "DocIDHash     932\n",
       "dtype: int64"
      ]
     },
     "execution_count": 9,
     "metadata": {},
     "output_type": "execute_result"
    }
   ],
   "source": [
    "# Check missing values per columns\n",
    "missing_values = data.isnull().sum()\n",
    "missing_values = missing_values[missing_values > 0]\n",
    "missing_values"
   ]
  },
  {
   "cell_type": "markdown",
   "metadata": {},
   "source": [
    "### 1.3.4 Statistics"
   ]
  },
  {
   "cell_type": "code",
   "execution_count": 10,
   "metadata": {},
   "outputs": [],
   "source": [
    "# Separate numerical and categorical columns\n",
    "numerical_columns = data.select_dtypes(include=np.number).columns.tolist()\n",
    "categorical_columns = data.select_dtypes(include='object').columns.tolist()"
   ]
  },
  {
   "cell_type": "code",
   "execution_count": 11,
   "metadata": {},
   "outputs": [
    {
     "name": "stdout",
     "output_type": "stream",
     "text": [
      "There are 5 categorical columns: Nationality, NameHash, DocIDHash, DistributionChannel, MarketSegment\n"
     ]
    }
   ],
   "source": [
    "# print the categorical columns\n",
    "print(f'There are {len(categorical_columns)} categorical columns: {\", \".join(map(str, categorical_columns))}')"
   ]
  },
  {
   "cell_type": "code",
   "execution_count": 12,
   "metadata": {},
   "outputs": [
    {
     "name": "stdout",
     "output_type": "stream",
     "text": [
      "There are 23 numerical columns: Age, DaysSinceCreation, AverageLeadTime, LodgingRevenue, OtherRevenue, BookingsCanceled, BookingsNoShowed, BookingsCheckedIn, PersonsNights, RoomNights, SRHighFloor, SRLowFloor, SRAccessibleRoom, SRMediumFloor, SRBathtub, SRShower, SRCrib, SRKingSizeBed, SRTwinBed, SRNearElevator, SRAwayFromElevator, SRNoAlcoholInMiniBar, SRQuietRoom\n"
     ]
    }
   ],
   "source": [
    "# print the numerical columns\n",
    "print(f'There are {len(numerical_columns)} numerical columns: {\", \".join(map(str, numerical_columns))}')"
   ]
  },
  {
   "cell_type": "markdown",
   "metadata": {},
   "source": [
    "## 1.4 Dataset cleaning"
   ]
  },
  {
   "cell_type": "markdown",
   "metadata": {},
   "source": [
    "### 1.4.1 Drop MarketSegment"
   ]
  },
  {
   "cell_type": "code",
   "execution_count": 13,
   "metadata": {},
   "outputs": [
    {
     "name": "stdout",
     "output_type": "stream",
     "text": [
      "The 7 unique market segments are: Corporate, Travel Agent/Operator, Other, Direct, Complementary, Groups, Aviation.\n"
     ]
    }
   ],
   "source": [
    "# Check the unique market segments\n",
    "marketsegments = data['MarketSegment'].unique()\n",
    "print(f'The {len(marketsegments)} unique market segments are: {\", \".join(map(str, marketsegments))}.')"
   ]
  },
  {
   "cell_type": "markdown",
   "metadata": {},
   "source": [
    "After getting the initial segments into a list, the MarketSegment feature will be dropped, as we aim to develop a new customer segmentation model. Retaining this feature would not contribute to our analysis."
   ]
  },
  {
   "cell_type": "code",
   "execution_count": 14,
   "metadata": {},
   "outputs": [],
   "source": [
    "# Dropping the MarketSegment feature\n",
    "data.drop('MarketSegment', axis=1, inplace=True)"
   ]
  },
  {
   "cell_type": "markdown",
   "metadata": {},
   "source": [
    "### 1.4.2 Drop duplicates in DocIDHash"
   ]
  },
  {
   "cell_type": "code",
   "execution_count": 15,
   "metadata": {},
   "outputs": [
    {
     "name": "stdout",
     "output_type": "stream",
     "text": [
      "There are 8141 duplicates in the DocIDHash column.\n"
     ]
    }
   ],
   "source": [
    "# Check the number of duplicates in DocIDHash\n",
    "data['DocIDHash'].duplicated().sum()\n",
    "print(f'There are {data[\"DocIDHash\"].duplicated().sum()} duplicates in the DocIDHash column.')"
   ]
  },
  {
   "cell_type": "code",
   "execution_count": 16,
   "metadata": {},
   "outputs": [],
   "source": [
    "# Drop features where DocIDHash is duplicated\n",
    "data.drop_duplicates(subset='DocIDHash',\n",
    "                     keep='first',\n",
    "                     inplace=True) # Keep the first occurrence of the duplicated value  "
   ]
  },
  {
   "cell_type": "markdown",
   "metadata": {},
   "source": [
    "### 1.4.3 Drop features DocIDHash and NameHash"
   ]
  },
  {
   "cell_type": "markdown",
   "metadata": {},
   "source": [
    "After removing duplicates based on DocIDHash, we will drop both NameHash and DocIDHash, as these are solely identification features and do not contribute to the segmentation."
   ]
  },
  {
   "cell_type": "code",
   "execution_count": 17,
   "metadata": {},
   "outputs": [],
   "source": [
    "# Drop columns relative to identification (NameHash, DocIDHash)\n",
    "data.drop(['NameHash', 'DocIDHash'], axis=1, inplace=True)"
   ]
  },
  {
   "cell_type": "markdown",
   "metadata": {},
   "source": [
    "### 1.4.4 Create feature TotalRevenue"
   ]
  },
  {
   "cell_type": "markdown",
   "metadata": {},
   "source": [
    "We will create a new feature, TotalRevenue, to distinguish customers (those who have spent) from registered accounts (those who have not). <br>\n",
    "This will allow us to filter the dataset accordingly and focus our efforts on the customers."
   ]
  },
  {
   "cell_type": "code",
   "execution_count": 18,
   "metadata": {},
   "outputs": [],
   "source": [
    "# Create a feature called TotalRevenue which is the sum of LodgingRevenue and OtherRevenue\n",
    "data['TotalRevenue'] = data['LodgingRevenue'] + data['OtherRevenue']"
   ]
  },
  {
   "cell_type": "code",
   "execution_count": 19,
   "metadata": {},
   "outputs": [
    {
     "name": "stdout",
     "output_type": "stream",
     "text": [
      "There are 31349 customers with no spending data, which is 30.29% of the dataset.\n"
     ]
    }
   ],
   "source": [
    "# Check how many customers have a TotalRevenue of 0 and how many have bigger than zero\n",
    "nospendingdata = data[data['TotalRevenue']==0].shape[0]\n",
    "print(f'There are {nospendingdata} customers with no spending data, which is {nospendingdata/data.shape[0]*100:.2f}% of the dataset.')"
   ]
  },
  {
   "cell_type": "markdown",
   "metadata": {},
   "source": [
    "Approximately 30% of the dataset comprises accounts with zero spending. To focus solely on actual customers, we will filter the dataset using TotalRevenue, retaining only accounts that have made transactions at the hotel. This refined dataset will be used for all subsequent analyses."
   ]
  },
  {
   "cell_type": "markdown",
   "metadata": {},
   "source": [
    "### 1.4.5 Create dataframe customers"
   ]
  },
  {
   "cell_type": "code",
   "execution_count": 20,
   "metadata": {},
   "outputs": [],
   "source": [
    "# Create a dataframe with only customers who have spent\n",
    "customers = data[data['TotalRevenue']>0]"
   ]
  },
  {
   "cell_type": "code",
   "execution_count": 21,
   "metadata": {},
   "outputs": [],
   "source": [
    "# Separate numerical and categorical columns\n",
    "customers_numerical = customers.select_dtypes(exclude = 'object')\n",
    "customers_categorical = customers.select_dtypes(include='object')"
   ]
  },
  {
   "cell_type": "code",
   "execution_count": 22,
   "metadata": {},
   "outputs": [
    {
     "data": {
      "text/html": [
       "<div>\n",
       "<style scoped>\n",
       "    .dataframe tbody tr th:only-of-type {\n",
       "        vertical-align: middle;\n",
       "    }\n",
       "\n",
       "    .dataframe tbody tr th {\n",
       "        vertical-align: top;\n",
       "    }\n",
       "\n",
       "    .dataframe thead th {\n",
       "        text-align: right;\n",
       "    }\n",
       "</style>\n",
       "<table border=\"1\" class=\"dataframe\">\n",
       "  <thead>\n",
       "    <tr style=\"text-align: right;\">\n",
       "      <th></th>\n",
       "      <th>count</th>\n",
       "      <th>mean</th>\n",
       "      <th>std</th>\n",
       "      <th>min</th>\n",
       "      <th>25%</th>\n",
       "      <th>50%</th>\n",
       "      <th>75%</th>\n",
       "      <th>max</th>\n",
       "    </tr>\n",
       "  </thead>\n",
       "  <tbody>\n",
       "    <tr>\n",
       "      <th>Age</th>\n",
       "      <td>71914.0</td>\n",
       "      <td>48.039853</td>\n",
       "      <td>15.306212</td>\n",
       "      <td>-10.0</td>\n",
       "      <td>36.000</td>\n",
       "      <td>48.00</td>\n",
       "      <td>59.0</td>\n",
       "      <td>115.00</td>\n",
       "    </tr>\n",
       "    <tr>\n",
       "      <th>DaysSinceCreation</th>\n",
       "      <td>72132.0</td>\n",
       "      <td>687.123205</td>\n",
       "      <td>375.326269</td>\n",
       "      <td>36.0</td>\n",
       "      <td>376.000</td>\n",
       "      <td>709.00</td>\n",
       "      <td>1005.0</td>\n",
       "      <td>1385.00</td>\n",
       "    </tr>\n",
       "    <tr>\n",
       "      <th>AverageLeadTime</th>\n",
       "      <td>72132.0</td>\n",
       "      <td>89.341374</td>\n",
       "      <td>90.277544</td>\n",
       "      <td>-1.0</td>\n",
       "      <td>19.000</td>\n",
       "      <td>61.00</td>\n",
       "      <td>136.0</td>\n",
       "      <td>588.00</td>\n",
       "    </tr>\n",
       "    <tr>\n",
       "      <th>LodgingRevenue</th>\n",
       "      <td>72132.0</td>\n",
       "      <td>413.594993</td>\n",
       "      <td>396.424439</td>\n",
       "      <td>0.0</td>\n",
       "      <td>196.200</td>\n",
       "      <td>317.50</td>\n",
       "      <td>492.0</td>\n",
       "      <td>21781.00</td>\n",
       "    </tr>\n",
       "    <tr>\n",
       "      <th>OtherRevenue</th>\n",
       "      <td>72132.0</td>\n",
       "      <td>94.212131</td>\n",
       "      <td>138.821250</td>\n",
       "      <td>0.0</td>\n",
       "      <td>28.000</td>\n",
       "      <td>60.50</td>\n",
       "      <td>116.0</td>\n",
       "      <td>8859.25</td>\n",
       "    </tr>\n",
       "    <tr>\n",
       "      <th>BookingsCanceled</th>\n",
       "      <td>72132.0</td>\n",
       "      <td>0.001733</td>\n",
       "      <td>0.078526</td>\n",
       "      <td>0.0</td>\n",
       "      <td>0.000</td>\n",
       "      <td>0.00</td>\n",
       "      <td>0.0</td>\n",
       "      <td>15.00</td>\n",
       "    </tr>\n",
       "    <tr>\n",
       "      <th>BookingsNoShowed</th>\n",
       "      <td>72132.0</td>\n",
       "      <td>0.000416</td>\n",
       "      <td>0.022336</td>\n",
       "      <td>0.0</td>\n",
       "      <td>0.000</td>\n",
       "      <td>0.00</td>\n",
       "      <td>0.0</td>\n",
       "      <td>2.00</td>\n",
       "    </tr>\n",
       "    <tr>\n",
       "      <th>BookingsCheckedIn</th>\n",
       "      <td>72132.0</td>\n",
       "      <td>1.037293</td>\n",
       "      <td>0.587137</td>\n",
       "      <td>1.0</td>\n",
       "      <td>1.000</td>\n",
       "      <td>1.00</td>\n",
       "      <td>1.0</td>\n",
       "      <td>76.00</td>\n",
       "    </tr>\n",
       "    <tr>\n",
       "      <th>PersonsNights</th>\n",
       "      <td>72132.0</td>\n",
       "      <td>6.325556</td>\n",
       "      <td>4.372742</td>\n",
       "      <td>0.0</td>\n",
       "      <td>3.000</td>\n",
       "      <td>6.00</td>\n",
       "      <td>8.0</td>\n",
       "      <td>116.00</td>\n",
       "    </tr>\n",
       "    <tr>\n",
       "      <th>RoomNights</th>\n",
       "      <td>72132.0</td>\n",
       "      <td>3.188294</td>\n",
       "      <td>2.088139</td>\n",
       "      <td>1.0</td>\n",
       "      <td>2.000</td>\n",
       "      <td>3.00</td>\n",
       "      <td>4.0</td>\n",
       "      <td>185.00</td>\n",
       "    </tr>\n",
       "    <tr>\n",
       "      <th>SRHighFloor</th>\n",
       "      <td>72132.0</td>\n",
       "      <td>0.042367</td>\n",
       "      <td>0.201426</td>\n",
       "      <td>0.0</td>\n",
       "      <td>0.000</td>\n",
       "      <td>0.00</td>\n",
       "      <td>0.0</td>\n",
       "      <td>1.00</td>\n",
       "    </tr>\n",
       "    <tr>\n",
       "      <th>SRLowFloor</th>\n",
       "      <td>72132.0</td>\n",
       "      <td>0.001234</td>\n",
       "      <td>0.035105</td>\n",
       "      <td>0.0</td>\n",
       "      <td>0.000</td>\n",
       "      <td>0.00</td>\n",
       "      <td>0.0</td>\n",
       "      <td>1.00</td>\n",
       "    </tr>\n",
       "    <tr>\n",
       "      <th>SRAccessibleRoom</th>\n",
       "      <td>72132.0</td>\n",
       "      <td>0.000250</td>\n",
       "      <td>0.015795</td>\n",
       "      <td>0.0</td>\n",
       "      <td>0.000</td>\n",
       "      <td>0.00</td>\n",
       "      <td>0.0</td>\n",
       "      <td>1.00</td>\n",
       "    </tr>\n",
       "    <tr>\n",
       "      <th>SRMediumFloor</th>\n",
       "      <td>72132.0</td>\n",
       "      <td>0.000665</td>\n",
       "      <td>0.025788</td>\n",
       "      <td>0.0</td>\n",
       "      <td>0.000</td>\n",
       "      <td>0.00</td>\n",
       "      <td>0.0</td>\n",
       "      <td>1.00</td>\n",
       "    </tr>\n",
       "    <tr>\n",
       "      <th>SRBathtub</th>\n",
       "      <td>72132.0</td>\n",
       "      <td>0.002981</td>\n",
       "      <td>0.054514</td>\n",
       "      <td>0.0</td>\n",
       "      <td>0.000</td>\n",
       "      <td>0.00</td>\n",
       "      <td>0.0</td>\n",
       "      <td>1.00</td>\n",
       "    </tr>\n",
       "    <tr>\n",
       "      <th>SRShower</th>\n",
       "      <td>72132.0</td>\n",
       "      <td>0.001733</td>\n",
       "      <td>0.041593</td>\n",
       "      <td>0.0</td>\n",
       "      <td>0.000</td>\n",
       "      <td>0.00</td>\n",
       "      <td>0.0</td>\n",
       "      <td>1.00</td>\n",
       "    </tr>\n",
       "    <tr>\n",
       "      <th>SRCrib</th>\n",
       "      <td>72132.0</td>\n",
       "      <td>0.010661</td>\n",
       "      <td>0.102701</td>\n",
       "      <td>0.0</td>\n",
       "      <td>0.000</td>\n",
       "      <td>0.00</td>\n",
       "      <td>0.0</td>\n",
       "      <td>1.00</td>\n",
       "    </tr>\n",
       "    <tr>\n",
       "      <th>SRKingSizeBed</th>\n",
       "      <td>72132.0</td>\n",
       "      <td>0.357054</td>\n",
       "      <td>0.479134</td>\n",
       "      <td>0.0</td>\n",
       "      <td>0.000</td>\n",
       "      <td>0.00</td>\n",
       "      <td>1.0</td>\n",
       "      <td>1.00</td>\n",
       "    </tr>\n",
       "    <tr>\n",
       "      <th>SRTwinBed</th>\n",
       "      <td>72132.0</td>\n",
       "      <td>0.150100</td>\n",
       "      <td>0.357172</td>\n",
       "      <td>0.0</td>\n",
       "      <td>0.000</td>\n",
       "      <td>0.00</td>\n",
       "      <td>0.0</td>\n",
       "      <td>1.00</td>\n",
       "    </tr>\n",
       "    <tr>\n",
       "      <th>SRNearElevator</th>\n",
       "      <td>72132.0</td>\n",
       "      <td>0.000347</td>\n",
       "      <td>0.018614</td>\n",
       "      <td>0.0</td>\n",
       "      <td>0.000</td>\n",
       "      <td>0.00</td>\n",
       "      <td>0.0</td>\n",
       "      <td>1.00</td>\n",
       "    </tr>\n",
       "    <tr>\n",
       "      <th>SRAwayFromElevator</th>\n",
       "      <td>72132.0</td>\n",
       "      <td>0.003674</td>\n",
       "      <td>0.060501</td>\n",
       "      <td>0.0</td>\n",
       "      <td>0.000</td>\n",
       "      <td>0.00</td>\n",
       "      <td>0.0</td>\n",
       "      <td>1.00</td>\n",
       "    </tr>\n",
       "    <tr>\n",
       "      <th>SRNoAlcoholInMiniBar</th>\n",
       "      <td>72132.0</td>\n",
       "      <td>0.000139</td>\n",
       "      <td>0.011774</td>\n",
       "      <td>0.0</td>\n",
       "      <td>0.000</td>\n",
       "      <td>0.00</td>\n",
       "      <td>0.0</td>\n",
       "      <td>1.00</td>\n",
       "    </tr>\n",
       "    <tr>\n",
       "      <th>SRQuietRoom</th>\n",
       "      <td>72132.0</td>\n",
       "      <td>0.088685</td>\n",
       "      <td>0.284290</td>\n",
       "      <td>0.0</td>\n",
       "      <td>0.000</td>\n",
       "      <td>0.00</td>\n",
       "      <td>0.0</td>\n",
       "      <td>1.00</td>\n",
       "    </tr>\n",
       "    <tr>\n",
       "      <th>TotalRevenue</th>\n",
       "      <td>72132.0</td>\n",
       "      <td>507.807124</td>\n",
       "      <td>471.830200</td>\n",
       "      <td>1.0</td>\n",
       "      <td>251.675</td>\n",
       "      <td>394.95</td>\n",
       "      <td>606.0</td>\n",
       "      <td>23365.00</td>\n",
       "    </tr>\n",
       "  </tbody>\n",
       "</table>\n",
       "</div>"
      ],
      "text/plain": [
       "                        count        mean         std   min      25%     50%  \\\n",
       "Age                   71914.0   48.039853   15.306212 -10.0   36.000   48.00   \n",
       "DaysSinceCreation     72132.0  687.123205  375.326269  36.0  376.000  709.00   \n",
       "AverageLeadTime       72132.0   89.341374   90.277544  -1.0   19.000   61.00   \n",
       "LodgingRevenue        72132.0  413.594993  396.424439   0.0  196.200  317.50   \n",
       "OtherRevenue          72132.0   94.212131  138.821250   0.0   28.000   60.50   \n",
       "BookingsCanceled      72132.0    0.001733    0.078526   0.0    0.000    0.00   \n",
       "BookingsNoShowed      72132.0    0.000416    0.022336   0.0    0.000    0.00   \n",
       "BookingsCheckedIn     72132.0    1.037293    0.587137   1.0    1.000    1.00   \n",
       "PersonsNights         72132.0    6.325556    4.372742   0.0    3.000    6.00   \n",
       "RoomNights            72132.0    3.188294    2.088139   1.0    2.000    3.00   \n",
       "SRHighFloor           72132.0    0.042367    0.201426   0.0    0.000    0.00   \n",
       "SRLowFloor            72132.0    0.001234    0.035105   0.0    0.000    0.00   \n",
       "SRAccessibleRoom      72132.0    0.000250    0.015795   0.0    0.000    0.00   \n",
       "SRMediumFloor         72132.0    0.000665    0.025788   0.0    0.000    0.00   \n",
       "SRBathtub             72132.0    0.002981    0.054514   0.0    0.000    0.00   \n",
       "SRShower              72132.0    0.001733    0.041593   0.0    0.000    0.00   \n",
       "SRCrib                72132.0    0.010661    0.102701   0.0    0.000    0.00   \n",
       "SRKingSizeBed         72132.0    0.357054    0.479134   0.0    0.000    0.00   \n",
       "SRTwinBed             72132.0    0.150100    0.357172   0.0    0.000    0.00   \n",
       "SRNearElevator        72132.0    0.000347    0.018614   0.0    0.000    0.00   \n",
       "SRAwayFromElevator    72132.0    0.003674    0.060501   0.0    0.000    0.00   \n",
       "SRNoAlcoholInMiniBar  72132.0    0.000139    0.011774   0.0    0.000    0.00   \n",
       "SRQuietRoom           72132.0    0.088685    0.284290   0.0    0.000    0.00   \n",
       "TotalRevenue          72132.0  507.807124  471.830200   1.0  251.675  394.95   \n",
       "\n",
       "                         75%       max  \n",
       "Age                     59.0    115.00  \n",
       "DaysSinceCreation     1005.0   1385.00  \n",
       "AverageLeadTime        136.0    588.00  \n",
       "LodgingRevenue         492.0  21781.00  \n",
       "OtherRevenue           116.0   8859.25  \n",
       "BookingsCanceled         0.0     15.00  \n",
       "BookingsNoShowed         0.0      2.00  \n",
       "BookingsCheckedIn        1.0     76.00  \n",
       "PersonsNights            8.0    116.00  \n",
       "RoomNights               4.0    185.00  \n",
       "SRHighFloor              0.0      1.00  \n",
       "SRLowFloor               0.0      1.00  \n",
       "SRAccessibleRoom         0.0      1.00  \n",
       "SRMediumFloor            0.0      1.00  \n",
       "SRBathtub                0.0      1.00  \n",
       "SRShower                 0.0      1.00  \n",
       "SRCrib                   0.0      1.00  \n",
       "SRKingSizeBed            1.0      1.00  \n",
       "SRTwinBed                0.0      1.00  \n",
       "SRNearElevator           0.0      1.00  \n",
       "SRAwayFromElevator       0.0      1.00  \n",
       "SRNoAlcoholInMiniBar     0.0      1.00  \n",
       "SRQuietRoom              0.0      1.00  \n",
       "TotalRevenue           606.0  23365.00  "
      ]
     },
     "execution_count": 22,
     "metadata": {},
     "output_type": "execute_result"
    }
   ],
   "source": [
    "customers_numerical.describe().T"
   ]
  },
  {
   "cell_type": "code",
   "execution_count": 23,
   "metadata": {},
   "outputs": [
    {
     "data": {
      "text/html": [
       "<div>\n",
       "<style scoped>\n",
       "    .dataframe tbody tr th:only-of-type {\n",
       "        vertical-align: middle;\n",
       "    }\n",
       "\n",
       "    .dataframe tbody tr th {\n",
       "        vertical-align: top;\n",
       "    }\n",
       "\n",
       "    .dataframe thead th {\n",
       "        text-align: right;\n",
       "    }\n",
       "</style>\n",
       "<table border=\"1\" class=\"dataframe\">\n",
       "  <thead>\n",
       "    <tr style=\"text-align: right;\">\n",
       "      <th></th>\n",
       "      <th>count</th>\n",
       "      <th>unique</th>\n",
       "      <th>top</th>\n",
       "      <th>freq</th>\n",
       "    </tr>\n",
       "  </thead>\n",
       "  <tbody>\n",
       "    <tr>\n",
       "      <th>Nationality</th>\n",
       "      <td>72132</td>\n",
       "      <td>185</td>\n",
       "      <td>FRA</td>\n",
       "      <td>11228</td>\n",
       "    </tr>\n",
       "    <tr>\n",
       "      <th>DistributionChannel</th>\n",
       "      <td>72132</td>\n",
       "      <td>4</td>\n",
       "      <td>Travel Agent/Operator</td>\n",
       "      <td>60193</td>\n",
       "    </tr>\n",
       "  </tbody>\n",
       "</table>\n",
       "</div>"
      ],
      "text/plain": [
       "                     count unique                    top   freq\n",
       "Nationality          72132    185                    FRA  11228\n",
       "DistributionChannel  72132      4  Travel Agent/Operator  60193"
      ]
     },
     "execution_count": 23,
     "metadata": {},
     "output_type": "execute_result"
    }
   ],
   "source": [
    "customers_categorical.describe().T"
   ]
  },
  {
   "cell_type": "markdown",
   "metadata": {},
   "source": [
    "## 1.5 Individual Variable Analysis"
   ]
  },
  {
   "cell_type": "markdown",
   "metadata": {},
   "source": [
    "### 1.5.1 Categorical Variables"
   ]
  },
  {
   "cell_type": "markdown",
   "metadata": {},
   "source": [
    "#### 1.5.1.1 Nationality\n",
    "\n",
    "Key take aways:\n",
    "- Nationality is a categorical variables that has high cardinality, with 185 classes (185 different nationalities);\n",
    "- The top20 of those nationalities by frequency represent ~91% of the total customers;\n",
    "- The top nation is France, with 11228 customers, accounting for ~16% of total customers;\n",
    "- There are 96 nationalities with less than 10 occurrences; <br>\n",
    "`Nationality has a correlation with LodgingRevenue of 0.96`"
   ]
  },
  {
   "cell_type": "code",
   "execution_count": 24,
   "metadata": {},
   "outputs": [
    {
     "name": "stdout",
     "output_type": "stream",
     "text": [
      "There are 185 unique nationalities.\n"
     ]
    }
   ],
   "source": [
    "# Print count of unique values in Nationality\n",
    "customers['Nationality'].nunique()\n",
    "print(f'There are {customers[\"Nationality\"].nunique()} unique nationalities.')"
   ]
  },
  {
   "cell_type": "code",
   "execution_count": 25,
   "metadata": {},
   "outputs": [
    {
     "name": "stdout",
     "output_type": "stream",
     "text": [
      "The top 20 nationalities are ['FRA', 'DEU', 'GBR', 'PRT', 'ESP', 'USA', 'ITA', 'BEL', 'NLD', 'BRA', 'IRL', 'CHE', 'AUT', 'CAN', 'SWE', 'CHN', 'ISR', 'NOR', 'POL', 'AUS'].\n"
     ]
    }
   ],
   "source": [
    "# Put the top20 nationalities in a list\n",
    "top20_nationalities = customers['Nationality'].value_counts().head(20).index.tolist()\n",
    "print(f'The top 20 nationalities are {top20_nationalities}.')"
   ]
  },
  {
   "cell_type": "code",
   "execution_count": 26,
   "metadata": {},
   "outputs": [
    {
     "data": {
      "text/html": [
       "<div>\n",
       "<style scoped>\n",
       "    .dataframe tbody tr th:only-of-type {\n",
       "        vertical-align: middle;\n",
       "    }\n",
       "\n",
       "    .dataframe tbody tr th {\n",
       "        vertical-align: top;\n",
       "    }\n",
       "\n",
       "    .dataframe thead th {\n",
       "        text-align: right;\n",
       "    }\n",
       "</style>\n",
       "<table border=\"1\" class=\"dataframe\">\n",
       "  <thead>\n",
       "    <tr style=\"text-align: right;\">\n",
       "      <th></th>\n",
       "      <th>Nationality</th>\n",
       "      <th>Percentage</th>\n",
       "    </tr>\n",
       "  </thead>\n",
       "  <tbody>\n",
       "    <tr>\n",
       "      <th>0</th>\n",
       "      <td>FRA</td>\n",
       "      <td>15.57</td>\n",
       "    </tr>\n",
       "    <tr>\n",
       "      <th>1</th>\n",
       "      <td>DEU</td>\n",
       "      <td>14.13</td>\n",
       "    </tr>\n",
       "    <tr>\n",
       "      <th>2</th>\n",
       "      <td>GBR</td>\n",
       "      <td>10.83</td>\n",
       "    </tr>\n",
       "    <tr>\n",
       "      <th>3</th>\n",
       "      <td>PRT</td>\n",
       "      <td>9.49</td>\n",
       "    </tr>\n",
       "    <tr>\n",
       "      <th>4</th>\n",
       "      <td>ESP</td>\n",
       "      <td>6.02</td>\n",
       "    </tr>\n",
       "    <tr>\n",
       "      <th>5</th>\n",
       "      <td>USA</td>\n",
       "      <td>4.60</td>\n",
       "    </tr>\n",
       "    <tr>\n",
       "      <th>6</th>\n",
       "      <td>ITA</td>\n",
       "      <td>4.11</td>\n",
       "    </tr>\n",
       "    <tr>\n",
       "      <th>7</th>\n",
       "      <td>BEL</td>\n",
       "      <td>3.80</td>\n",
       "    </tr>\n",
       "    <tr>\n",
       "      <th>8</th>\n",
       "      <td>NLD</td>\n",
       "      <td>3.52</td>\n",
       "    </tr>\n",
       "    <tr>\n",
       "      <th>9</th>\n",
       "      <td>BRA</td>\n",
       "      <td>3.23</td>\n",
       "    </tr>\n",
       "    <tr>\n",
       "      <th>10</th>\n",
       "      <td>IRL</td>\n",
       "      <td>2.65</td>\n",
       "    </tr>\n",
       "    <tr>\n",
       "      <th>11</th>\n",
       "      <td>CHE</td>\n",
       "      <td>2.56</td>\n",
       "    </tr>\n",
       "    <tr>\n",
       "      <th>12</th>\n",
       "      <td>AUT</td>\n",
       "      <td>1.80</td>\n",
       "    </tr>\n",
       "    <tr>\n",
       "      <th>13</th>\n",
       "      <td>CAN</td>\n",
       "      <td>1.73</td>\n",
       "    </tr>\n",
       "    <tr>\n",
       "      <th>14</th>\n",
       "      <td>SWE</td>\n",
       "      <td>1.52</td>\n",
       "    </tr>\n",
       "    <tr>\n",
       "      <th>15</th>\n",
       "      <td>CHN</td>\n",
       "      <td>1.07</td>\n",
       "    </tr>\n",
       "    <tr>\n",
       "      <th>16</th>\n",
       "      <td>ISR</td>\n",
       "      <td>1.07</td>\n",
       "    </tr>\n",
       "    <tr>\n",
       "      <th>17</th>\n",
       "      <td>NOR</td>\n",
       "      <td>0.97</td>\n",
       "    </tr>\n",
       "    <tr>\n",
       "      <th>18</th>\n",
       "      <td>POL</td>\n",
       "      <td>0.96</td>\n",
       "    </tr>\n",
       "    <tr>\n",
       "      <th>19</th>\n",
       "      <td>AUS</td>\n",
       "      <td>0.91</td>\n",
       "    </tr>\n",
       "  </tbody>\n",
       "</table>\n",
       "</div>"
      ],
      "text/plain": [
       "   Nationality  Percentage\n",
       "0          FRA       15.57\n",
       "1          DEU       14.13\n",
       "2          GBR       10.83\n",
       "3          PRT        9.49\n",
       "4          ESP        6.02\n",
       "5          USA        4.60\n",
       "6          ITA        4.11\n",
       "7          BEL        3.80\n",
       "8          NLD        3.52\n",
       "9          BRA        3.23\n",
       "10         IRL        2.65\n",
       "11         CHE        2.56\n",
       "12         AUT        1.80\n",
       "13         CAN        1.73\n",
       "14         SWE        1.52\n",
       "15         CHN        1.07\n",
       "16         ISR        1.07\n",
       "17         NOR        0.97\n",
       "18         POL        0.96\n",
       "19         AUS        0.91"
      ]
     },
     "execution_count": 26,
     "metadata": {},
     "output_type": "execute_result"
    }
   ],
   "source": [
    "# Get the value counts for each nationality\n",
    "nationality_counts = customers['Nationality'].value_counts()\n",
    "\n",
    "# Get the total count of all nationalities\n",
    "total_count = nationality_counts.sum()\n",
    "\n",
    "# Compute the percentage representation of the top 20 nationalities\n",
    "top20_percentages = round((nationality_counts.loc[top20_nationalities] / total_count) * 100,2)\n",
    "\n",
    "# Display the results in a DataFrame\n",
    "top20_df = pd.DataFrame({'Nationality': top20_nationalities, 'Percentage': top20_percentages.values})\n",
    "\n",
    "top20_df"
   ]
  },
  {
   "cell_type": "code",
   "execution_count": 27,
   "metadata": {},
   "outputs": [
    {
     "data": {
      "text/plain": [
       "Nationality\n",
       "FRA    11228\n",
       "DEU    10190\n",
       "GBR     7809\n",
       "PRT     6848\n",
       "ESP     4344\n",
       "USA     3315\n",
       "ITA     2967\n",
       "BEL     2743\n",
       "NLD     2540\n",
       "BRA     2331\n",
       "IRL     1910\n",
       "CHE     1848\n",
       "AUT     1298\n",
       "CAN     1246\n",
       "SWE     1099\n",
       "CHN      770\n",
       "ISR      770\n",
       "NOR      701\n",
       "POL      695\n",
       "AUS      660\n",
       "Name: count, dtype: int64"
      ]
     },
     "execution_count": 27,
     "metadata": {},
     "output_type": "execute_result"
    }
   ],
   "source": [
    "nationality_counts.loc[top20_nationalities]"
   ]
  },
  {
   "cell_type": "code",
   "execution_count": 28,
   "metadata": {},
   "outputs": [
    {
     "name": "stdout",
     "output_type": "stream",
     "text": [
      "The top 20 nationalities represent 90.54% of the total market share\n"
     ]
    }
   ],
   "source": [
    "# Sum the percentages in the top 10 nationalities\n",
    "top20_marketshare = top20_df['Percentage'].sum()\n",
    "print(f'The top 20 nationalities represent {round(top20_marketshare,2)}% of the total market share')"
   ]
  },
  {
   "cell_type": "code",
   "execution_count": 29,
   "metadata": {},
   "outputs": [
    {
     "data": {
      "image/png": "[encoded data removed]",
      "text/plain": [
       "<Figure size 1200x600 with 1 Axes>"
      ]
     },
     "metadata": {},
     "output_type": "display_data"
    }
   ],
   "source": [
    "# Plot the top20 nationalities\n",
    "plt.figure(figsize=(12, 6))\n",
    "sns.countplot(data=customers, y='Nationality', order=top20_nationalities)\n",
    "plt.title('Top 20 Nationalities')\n",
    "plt.show()"
   ]
  },
  {
   "cell_type": "code",
   "execution_count": 30,
   "metadata": {},
   "outputs": [
    {
     "name": "stdout",
     "output_type": "stream",
     "text": [
      "There are 96 nationalities with less than 10 occurrences\n"
     ]
    }
   ],
   "source": [
    "# check how many nationalities have less than 10 occurrences\n",
    "nationalities_less_than_10 = nationality_counts[nationality_counts < 10].index\n",
    "print(f'There are {nationalities_less_than_10.shape[0]} nationalities with less than 10 occurrences')"
   ]
  },
  {
   "cell_type": "code",
   "execution_count": 31,
   "metadata": {},
   "outputs": [
    {
     "data": {
      "text/plain": [
       "TotalRevenue            1.000000\n",
       "LodgingRevenue          0.963684\n",
       "OtherRevenue            0.646891\n",
       "RoomNights              0.592649\n",
       "PersonsNights           0.571622\n",
       "BookingsCheckedIn       0.183822\n",
       "SRQuietRoom             0.068936\n",
       "AverageLeadTime         0.058688\n",
       "BookingsCanceled        0.054589\n",
       "BookingsNoShowed        0.047389\n",
       "SRKingSizeBed           0.034574\n",
       "SRCrib                  0.025796\n",
       "SRHighFloor             0.025118\n",
       "SRTwinBed               0.020694\n",
       "SRAwayFromElevator      0.014768\n",
       "SRShower                0.013184\n",
       "SRBathtub               0.008819\n",
       "SRLowFloor              0.007693\n",
       "SRNoAlcoholInMiniBar    0.004903\n",
       "SRMediumFloor           0.004654\n",
       "SRNearElevator          0.002045\n",
       "SRAccessibleRoom       -0.001953\n",
       "Age                    -0.042690\n",
       "DaysSinceCreation      -0.117454\n",
       "Name: TotalRevenue, dtype: float64"
      ]
     },
     "execution_count": 31,
     "metadata": {},
     "output_type": "execute_result"
    }
   ],
   "source": [
    "# check for correlation between nationality and other columns\n",
    "customers.select_dtypes(include=[np.number]).corr()['TotalRevenue'].sort_values(ascending=False)"
   ]
  },
  {
   "cell_type": "code",
   "execution_count": 32,
   "metadata": {},
   "outputs": [],
   "source": [
    "# # Revenue per country\n",
    "# list_of_countries_revenue = customers.groupby('Nationality')['TotalRevenue'].sum().reset_index()\n",
    "# list_of_countries_revenue.set_index('Nationality', inplace=True)\n",
    "\n",
    "# number_of_clients = data['Nationality'].value_counts().reset_index()\n",
    "# number_of_clients.set_index('Nationality', inplace=True)"
   ]
  },
  {
   "cell_type": "code",
   "execution_count": 33,
   "metadata": {},
   "outputs": [],
   "source": [
    "\n",
    "# country_counts = customers['Nationality'].value_counts().reset_index()\n",
    "# country_counts.columns = ['ISO_A3', 'clients']\n",
    "\n",
    "# world = gpd.read_file(\"../ne_10m_admin_0_countries/ne_10m_admin_0_countries.shp\")"
   ]
  },
  {
   "cell_type": "code",
   "execution_count": 34,
   "metadata": {},
   "outputs": [],
   "source": [
    "# Merge the world map with client data\n",
    "# world = world.merge(country_counts, how=\"left\", left_on=\"ISO_A3_EH\", right_on=\"ISO_A3\")\n",
    "\n",
    "# Fill missing values with 0 (countries with no clients)\n",
    "# world[\"clients\"] = world[\"clients\"].apply(lambda x: 0 if x < 1 else x)"
   ]
  },
  {
   "cell_type": "code",
   "execution_count": 35,
   "metadata": {},
   "outputs": [],
   "source": [
    "# world = world.dropna(subset='clients')"
   ]
  },
  {
   "cell_type": "code",
   "execution_count": 36,
   "metadata": {},
   "outputs": [],
   "source": [
    "#country_counts"
   ]
  },
  {
   "cell_type": "code",
   "execution_count": 37,
   "metadata": {},
   "outputs": [],
   "source": [
    "#country_counts['ISO_A3'].value_counts()"
   ]
  },
  {
   "cell_type": "code",
   "execution_count": 38,
   "metadata": {},
   "outputs": [],
   "source": [
    "# columns_to_keep_worldviz = ['ISO_A3_EH', 'clients', 'geometry', 'NAME']\n",
    "# more_collumns_to_keep = ['TotalRevenue']\n",
    "# world_viz= world[columns_to_keep_worldviz]\n",
    "# world_viz.set_index('ISO_A3_EH', inplace=True)\n",
    "# world_viz[more_collumns_to_keep] = list_of_countries_revenue[more_collumns_to_keep]\n",
    "# world_viz.reset_index(inplace=True)"
   ]
  },
  {
   "cell_type": "code",
   "execution_count": 39,
   "metadata": {},
   "outputs": [],
   "source": [
    "# Please choose a better set of colours\n",
    "\n",
    "# m = world_viz.explore(column='clients', cmap='hot', legend=False, edgecolor='black', linewidth=0.8, legend_name='Number of Clients')"
   ]
  },
  {
   "cell_type": "code",
   "execution_count": 40,
   "metadata": {},
   "outputs": [],
   "source": [
    "#m"
   ]
  },
  {
   "cell_type": "markdown",
   "metadata": {},
   "source": [
    "#### 1.5.1.2 DistributionChannel"
   ]
  },
  {
   "cell_type": "markdown",
   "metadata": {},
   "source": [
    "**Insights:**\n",
    "\n",
    "- Most bookings are made through a Travel Agent/Operator (~84%)\n",
    "- Only 13% of the bookings are made directly with the hotel."
   ]
  },
  {
   "cell_type": "code",
   "execution_count": 41,
   "metadata": {},
   "outputs": [
    {
     "data": {
      "text/plain": [
       "DistributionChannel\n",
       "Travel Agent/Operator    60193\n",
       "Direct                    9469\n",
       "Corporate                 1937\n",
       "GDS Systems                533\n",
       "Name: count, dtype: int64"
      ]
     },
     "execution_count": 41,
     "metadata": {},
     "output_type": "execute_result"
    }
   ],
   "source": [
    "# Check the distribution of DistributionChannel\n",
    "distribution_channel = customers[\"DistributionChannel\"].value_counts()\n",
    "distribution_channel"
   ]
  },
  {
   "cell_type": "code",
   "execution_count": 42,
   "metadata": {},
   "outputs": [
    {
     "data": {
      "text/plain": [
       "DistributionChannel\n",
       "Travel Agent/Operator    83.45\n",
       "Direct                   13.13\n",
       "Corporate                 2.69\n",
       "GDS Systems               0.74\n",
       "Name: count, dtype: float64"
      ]
     },
     "execution_count": 42,
     "metadata": {},
     "output_type": "execute_result"
    }
   ],
   "source": [
    "# Compute the percentages of each distribution channel\n",
    "distribution_channel_percentages = round(distribution_channel/customers.shape[0]*100,2)\n",
    "distribution_channel_percentages"
   ]
  },
  {
   "cell_type": "code",
   "execution_count": 43,
   "metadata": {},
   "outputs": [
    {
     "data": {
      "image/png": "[encoded data removed]",
      "text/plain": [
       "<Figure size 1200x600 with 1 Axes>"
      ]
     },
     "metadata": {},
     "output_type": "display_data"
    }
   ],
   "source": [
    "# Plot a bar chart \n",
    "plt.figure(figsize=(12, 6))\n",
    "distribution_channel.plot(kind=\"bar\", edgecolor=\"black\")\n",
    "plt.title(\"Distribution Channel\", fontsize=16)\n",
    "plt.ylabel(\"Customer Count\", fontsize=12)\n",
    "plt.xticks(rotation=0)\n",
    "plt.show()"
   ]
  },
  {
   "cell_type": "markdown",
   "metadata": {},
   "source": [
    "### 1.5.2 Numerical Variables"
   ]
  },
  {
   "cell_type": "markdown",
   "metadata": {},
   "source": [
    "#### 1.5.2.1 Age"
   ]
  },
  {
   "cell_type": "markdown",
   "metadata": {},
   "source": [
    "**Insights:**\n",
    "\n",
    "- There were 218 missing values;\n",
    "- Only 0.01% (10) of customers are above 90 years old. We decided to drop them, as we considered them outliers.\n",
    "- Cases where age was negative were turn into NaN.\n",
    "- Missing values were filled using KNN Imputer for the 5 nearners neighbors. <br>\n",
    "\n",
    "`The average age is 48.53 and the median age is 48.0.`"
   ]
  },
  {
   "cell_type": "code",
   "execution_count": 44,
   "metadata": {},
   "outputs": [
    {
     "name": "stdout",
     "output_type": "stream",
     "text": [
      "There are 218 missing values in the Age column.\n"
     ]
    }
   ],
   "source": [
    "# Check missing values in age column\n",
    "missing_age = customers['Age'].isnull().sum()\n",
    "print(f'There are {missing_age} missing values in the Age column.')"
   ]
  },
  {
   "cell_type": "code",
   "execution_count": 45,
   "metadata": {},
   "outputs": [
    {
     "name": "stdout",
     "output_type": "stream",
     "text": [
      "The minimum age is -10.0 and the maximum age is 115.0.\n"
     ]
    }
   ],
   "source": [
    "# Check the min and max values of Age\n",
    "min_age = customers['Age'].min()\n",
    "max_age = customers['Age'].max()\n",
    "print(f'The minimum age is {min_age} and the maximum age is {max_age}.')"
   ]
  },
  {
   "cell_type": "code",
   "execution_count": 46,
   "metadata": {},
   "outputs": [
    {
     "data": {
      "text/plain": [
       "Age                     1.000000\n",
       "AverageLeadTime         0.251928\n",
       "OtherRevenue            0.065292\n",
       "DaysSinceCreation       0.054238\n",
       "SRTwinBed               0.046665\n",
       "SRLowFloor              0.015800\n",
       "SRNearElevator          0.013889\n",
       "SRQuietRoom             0.012411\n",
       "BookingsCheckedIn       0.011285\n",
       "SRAwayFromElevator      0.008628\n",
       "BookingsCanceled        0.007127\n",
       "SRMediumFloor           0.007038\n",
       "SRShower                0.006936\n",
       "BookingsNoShowed        0.006913\n",
       "SRAccessibleRoom        0.002658\n",
       "RoomNights              0.001424\n",
       "SRNoAlcoholInMiniBar   -0.006426\n",
       "PersonsNights          -0.019733\n",
       "SRBathtub              -0.021258\n",
       "SRKingSizeBed          -0.024277\n",
       "SRHighFloor            -0.025744\n",
       "TotalRevenue           -0.042690\n",
       "SRCrib                 -0.072649\n",
       "LodgingRevenue         -0.074331\n",
       "Name: Age, dtype: float64"
      ]
     },
     "execution_count": 46,
     "metadata": {},
     "output_type": "execute_result"
    }
   ],
   "source": [
    "# Check age correlation with other columns \n",
    "customers.select_dtypes(include=[np.number]).corr()['Age'].sort_values(ascending=False)"
   ]
  },
  {
   "cell_type": "markdown",
   "metadata": {},
   "source": [
    "Our goal by checking this correlation was to see if any variable was correlated with age enough, that we could use in a predictive model to predict age. Since the highest correlated variable is 25% correlation, we discarded this idea, and just assumed to input median."
   ]
  },
  {
   "cell_type": "code",
   "execution_count": 47,
   "metadata": {},
   "outputs": [
    {
     "name": "stdout",
     "output_type": "stream",
     "text": [
      "There are 12 cases where age is negative\n"
     ]
    },
    {
     "data": {
      "text/html": [
       "<div>\n",
       "<style scoped>\n",
       "    .dataframe tbody tr th:only-of-type {\n",
       "        vertical-align: middle;\n",
       "    }\n",
       "\n",
       "    .dataframe tbody tr th {\n",
       "        vertical-align: top;\n",
       "    }\n",
       "\n",
       "    .dataframe thead th {\n",
       "        text-align: right;\n",
       "    }\n",
       "</style>\n",
       "<table border=\"1\" class=\"dataframe\">\n",
       "  <thead>\n",
       "    <tr style=\"text-align: right;\">\n",
       "      <th></th>\n",
       "      <th>Nationality</th>\n",
       "      <th>Age</th>\n",
       "      <th>DaysSinceCreation</th>\n",
       "      <th>AverageLeadTime</th>\n",
       "      <th>LodgingRevenue</th>\n",
       "      <th>OtherRevenue</th>\n",
       "      <th>BookingsCanceled</th>\n",
       "      <th>BookingsNoShowed</th>\n",
       "      <th>BookingsCheckedIn</th>\n",
       "      <th>PersonsNights</th>\n",
       "      <th>RoomNights</th>\n",
       "      <th>DistributionChannel</th>\n",
       "      <th>SRHighFloor</th>\n",
       "      <th>SRLowFloor</th>\n",
       "      <th>SRAccessibleRoom</th>\n",
       "      <th>SRMediumFloor</th>\n",
       "      <th>SRBathtub</th>\n",
       "      <th>SRShower</th>\n",
       "      <th>SRCrib</th>\n",
       "      <th>SRKingSizeBed</th>\n",
       "      <th>SRTwinBed</th>\n",
       "      <th>SRNearElevator</th>\n",
       "      <th>SRAwayFromElevator</th>\n",
       "      <th>SRNoAlcoholInMiniBar</th>\n",
       "      <th>SRQuietRoom</th>\n",
       "      <th>TotalRevenue</th>\n",
       "    </tr>\n",
       "    <tr>\n",
       "      <th>ID</th>\n",
       "      <th></th>\n",
       "      <th></th>\n",
       "      <th></th>\n",
       "      <th></th>\n",
       "      <th></th>\n",
       "      <th></th>\n",
       "      <th></th>\n",
       "      <th></th>\n",
       "      <th></th>\n",
       "      <th></th>\n",
       "      <th></th>\n",
       "      <th></th>\n",
       "      <th></th>\n",
       "      <th></th>\n",
       "      <th></th>\n",
       "      <th></th>\n",
       "      <th></th>\n",
       "      <th></th>\n",
       "      <th></th>\n",
       "      <th></th>\n",
       "      <th></th>\n",
       "      <th></th>\n",
       "      <th></th>\n",
       "      <th></th>\n",
       "      <th></th>\n",
       "      <th></th>\n",
       "    </tr>\n",
       "  </thead>\n",
       "  <tbody>\n",
       "    <tr>\n",
       "      <th>5128</th>\n",
       "      <td>FRA</td>\n",
       "      <td>-8.0</td>\n",
       "      <td>1271</td>\n",
       "      <td>66</td>\n",
       "      <td>93.30</td>\n",
       "      <td>14.00</td>\n",
       "      <td>0</td>\n",
       "      <td>0</td>\n",
       "      <td>1</td>\n",
       "      <td>2</td>\n",
       "      <td>1</td>\n",
       "      <td>Travel Agent/Operator</td>\n",
       "      <td>0</td>\n",
       "      <td>0</td>\n",
       "      <td>0</td>\n",
       "      <td>0</td>\n",
       "      <td>0</td>\n",
       "      <td>0</td>\n",
       "      <td>0</td>\n",
       "      <td>1</td>\n",
       "      <td>0</td>\n",
       "      <td>0</td>\n",
       "      <td>0</td>\n",
       "      <td>0</td>\n",
       "      <td>0</td>\n",
       "      <td>107.30</td>\n",
       "    </tr>\n",
       "    <tr>\n",
       "      <th>6752</th>\n",
       "      <td>GBR</td>\n",
       "      <td>-10.0</td>\n",
       "      <td>1243</td>\n",
       "      <td>22</td>\n",
       "      <td>450.00</td>\n",
       "      <td>18.00</td>\n",
       "      <td>0</td>\n",
       "      <td>0</td>\n",
       "      <td>1</td>\n",
       "      <td>1</td>\n",
       "      <td>1</td>\n",
       "      <td>Travel Agent/Operator</td>\n",
       "      <td>0</td>\n",
       "      <td>0</td>\n",
       "      <td>0</td>\n",
       "      <td>0</td>\n",
       "      <td>0</td>\n",
       "      <td>0</td>\n",
       "      <td>0</td>\n",
       "      <td>1</td>\n",
       "      <td>0</td>\n",
       "      <td>0</td>\n",
       "      <td>0</td>\n",
       "      <td>0</td>\n",
       "      <td>0</td>\n",
       "      <td>468.00</td>\n",
       "    </tr>\n",
       "    <tr>\n",
       "      <th>8361</th>\n",
       "      <td>DEU</td>\n",
       "      <td>-6.0</td>\n",
       "      <td>1217</td>\n",
       "      <td>256</td>\n",
       "      <td>126.00</td>\n",
       "      <td>109.00</td>\n",
       "      <td>0</td>\n",
       "      <td>0</td>\n",
       "      <td>1</td>\n",
       "      <td>4</td>\n",
       "      <td>2</td>\n",
       "      <td>Travel Agent/Operator</td>\n",
       "      <td>0</td>\n",
       "      <td>0</td>\n",
       "      <td>0</td>\n",
       "      <td>0</td>\n",
       "      <td>0</td>\n",
       "      <td>0</td>\n",
       "      <td>0</td>\n",
       "      <td>0</td>\n",
       "      <td>1</td>\n",
       "      <td>0</td>\n",
       "      <td>0</td>\n",
       "      <td>0</td>\n",
       "      <td>0</td>\n",
       "      <td>235.00</td>\n",
       "    </tr>\n",
       "    <tr>\n",
       "      <th>8629</th>\n",
       "      <td>NLD</td>\n",
       "      <td>-9.0</td>\n",
       "      <td>1213</td>\n",
       "      <td>111</td>\n",
       "      <td>414.60</td>\n",
       "      <td>34.00</td>\n",
       "      <td>0</td>\n",
       "      <td>0</td>\n",
       "      <td>1</td>\n",
       "      <td>4</td>\n",
       "      <td>4</td>\n",
       "      <td>Travel Agent/Operator</td>\n",
       "      <td>0</td>\n",
       "      <td>0</td>\n",
       "      <td>0</td>\n",
       "      <td>0</td>\n",
       "      <td>0</td>\n",
       "      <td>0</td>\n",
       "      <td>0</td>\n",
       "      <td>1</td>\n",
       "      <td>0</td>\n",
       "      <td>0</td>\n",
       "      <td>0</td>\n",
       "      <td>0</td>\n",
       "      <td>0</td>\n",
       "      <td>448.60</td>\n",
       "    </tr>\n",
       "    <tr>\n",
       "      <th>9920</th>\n",
       "      <td>DZA</td>\n",
       "      <td>-5.0</td>\n",
       "      <td>1193</td>\n",
       "      <td>54</td>\n",
       "      <td>138.93</td>\n",
       "      <td>29.50</td>\n",
       "      <td>0</td>\n",
       "      <td>0</td>\n",
       "      <td>1</td>\n",
       "      <td>4</td>\n",
       "      <td>1</td>\n",
       "      <td>Travel Agent/Operator</td>\n",
       "      <td>0</td>\n",
       "      <td>0</td>\n",
       "      <td>0</td>\n",
       "      <td>0</td>\n",
       "      <td>0</td>\n",
       "      <td>0</td>\n",
       "      <td>0</td>\n",
       "      <td>1</td>\n",
       "      <td>0</td>\n",
       "      <td>0</td>\n",
       "      <td>0</td>\n",
       "      <td>0</td>\n",
       "      <td>0</td>\n",
       "      <td>168.43</td>\n",
       "    </tr>\n",
       "    <tr>\n",
       "      <th>10663</th>\n",
       "      <td>DEU</td>\n",
       "      <td>-9.0</td>\n",
       "      <td>1181</td>\n",
       "      <td>292</td>\n",
       "      <td>126.00</td>\n",
       "      <td>113.00</td>\n",
       "      <td>0</td>\n",
       "      <td>0</td>\n",
       "      <td>1</td>\n",
       "      <td>4</td>\n",
       "      <td>2</td>\n",
       "      <td>Travel Agent/Operator</td>\n",
       "      <td>0</td>\n",
       "      <td>0</td>\n",
       "      <td>0</td>\n",
       "      <td>0</td>\n",
       "      <td>0</td>\n",
       "      <td>0</td>\n",
       "      <td>0</td>\n",
       "      <td>0</td>\n",
       "      <td>0</td>\n",
       "      <td>0</td>\n",
       "      <td>0</td>\n",
       "      <td>0</td>\n",
       "      <td>0</td>\n",
       "      <td>239.00</td>\n",
       "    </tr>\n",
       "    <tr>\n",
       "      <th>10695</th>\n",
       "      <td>DEU</td>\n",
       "      <td>-9.0</td>\n",
       "      <td>1181</td>\n",
       "      <td>292</td>\n",
       "      <td>128.00</td>\n",
       "      <td>57.50</td>\n",
       "      <td>0</td>\n",
       "      <td>0</td>\n",
       "      <td>1</td>\n",
       "      <td>2</td>\n",
       "      <td>2</td>\n",
       "      <td>Travel Agent/Operator</td>\n",
       "      <td>0</td>\n",
       "      <td>0</td>\n",
       "      <td>0</td>\n",
       "      <td>0</td>\n",
       "      <td>0</td>\n",
       "      <td>0</td>\n",
       "      <td>0</td>\n",
       "      <td>0</td>\n",
       "      <td>0</td>\n",
       "      <td>0</td>\n",
       "      <td>0</td>\n",
       "      <td>0</td>\n",
       "      <td>0</td>\n",
       "      <td>185.50</td>\n",
       "    </tr>\n",
       "    <tr>\n",
       "      <th>10756</th>\n",
       "      <td>PRT</td>\n",
       "      <td>-5.0</td>\n",
       "      <td>1181</td>\n",
       "      <td>292</td>\n",
       "      <td>128.00</td>\n",
       "      <td>55.00</td>\n",
       "      <td>0</td>\n",
       "      <td>0</td>\n",
       "      <td>1</td>\n",
       "      <td>2</td>\n",
       "      <td>2</td>\n",
       "      <td>Travel Agent/Operator</td>\n",
       "      <td>0</td>\n",
       "      <td>0</td>\n",
       "      <td>0</td>\n",
       "      <td>0</td>\n",
       "      <td>0</td>\n",
       "      <td>0</td>\n",
       "      <td>0</td>\n",
       "      <td>0</td>\n",
       "      <td>0</td>\n",
       "      <td>0</td>\n",
       "      <td>0</td>\n",
       "      <td>0</td>\n",
       "      <td>0</td>\n",
       "      <td>183.00</td>\n",
       "    </tr>\n",
       "    <tr>\n",
       "      <th>14322</th>\n",
       "      <td>PRT</td>\n",
       "      <td>-9.0</td>\n",
       "      <td>1127</td>\n",
       "      <td>346</td>\n",
       "      <td>128.00</td>\n",
       "      <td>53.00</td>\n",
       "      <td>0</td>\n",
       "      <td>0</td>\n",
       "      <td>1</td>\n",
       "      <td>2</td>\n",
       "      <td>2</td>\n",
       "      <td>Travel Agent/Operator</td>\n",
       "      <td>0</td>\n",
       "      <td>0</td>\n",
       "      <td>0</td>\n",
       "      <td>0</td>\n",
       "      <td>0</td>\n",
       "      <td>0</td>\n",
       "      <td>0</td>\n",
       "      <td>0</td>\n",
       "      <td>0</td>\n",
       "      <td>0</td>\n",
       "      <td>0</td>\n",
       "      <td>0</td>\n",
       "      <td>0</td>\n",
       "      <td>181.00</td>\n",
       "    </tr>\n",
       "    <tr>\n",
       "      <th>15105</th>\n",
       "      <td>DEU</td>\n",
       "      <td>-10.0</td>\n",
       "      <td>1117</td>\n",
       "      <td>276</td>\n",
       "      <td>240.00</td>\n",
       "      <td>61.25</td>\n",
       "      <td>0</td>\n",
       "      <td>0</td>\n",
       "      <td>1</td>\n",
       "      <td>3</td>\n",
       "      <td>3</td>\n",
       "      <td>Travel Agent/Operator</td>\n",
       "      <td>0</td>\n",
       "      <td>0</td>\n",
       "      <td>0</td>\n",
       "      <td>0</td>\n",
       "      <td>0</td>\n",
       "      <td>0</td>\n",
       "      <td>0</td>\n",
       "      <td>0</td>\n",
       "      <td>0</td>\n",
       "      <td>0</td>\n",
       "      <td>0</td>\n",
       "      <td>0</td>\n",
       "      <td>0</td>\n",
       "      <td>301.25</td>\n",
       "    </tr>\n",
       "    <tr>\n",
       "      <th>20407</th>\n",
       "      <td>USA</td>\n",
       "      <td>-8.0</td>\n",
       "      <td>1022</td>\n",
       "      <td>163</td>\n",
       "      <td>939.60</td>\n",
       "      <td>303.30</td>\n",
       "      <td>0</td>\n",
       "      <td>0</td>\n",
       "      <td>1</td>\n",
       "      <td>9</td>\n",
       "      <td>3</td>\n",
       "      <td>Travel Agent/Operator</td>\n",
       "      <td>0</td>\n",
       "      <td>0</td>\n",
       "      <td>0</td>\n",
       "      <td>0</td>\n",
       "      <td>0</td>\n",
       "      <td>0</td>\n",
       "      <td>0</td>\n",
       "      <td>0</td>\n",
       "      <td>1</td>\n",
       "      <td>0</td>\n",
       "      <td>0</td>\n",
       "      <td>0</td>\n",
       "      <td>0</td>\n",
       "      <td>1242.90</td>\n",
       "    </tr>\n",
       "    <tr>\n",
       "      <th>57358</th>\n",
       "      <td>PRT</td>\n",
       "      <td>-5.0</td>\n",
       "      <td>510</td>\n",
       "      <td>130</td>\n",
       "      <td>388.80</td>\n",
       "      <td>47.20</td>\n",
       "      <td>0</td>\n",
       "      <td>0</td>\n",
       "      <td>1</td>\n",
       "      <td>8</td>\n",
       "      <td>4</td>\n",
       "      <td>Travel Agent/Operator</td>\n",
       "      <td>0</td>\n",
       "      <td>0</td>\n",
       "      <td>0</td>\n",
       "      <td>0</td>\n",
       "      <td>0</td>\n",
       "      <td>0</td>\n",
       "      <td>0</td>\n",
       "      <td>0</td>\n",
       "      <td>0</td>\n",
       "      <td>0</td>\n",
       "      <td>0</td>\n",
       "      <td>0</td>\n",
       "      <td>0</td>\n",
       "      <td>436.00</td>\n",
       "    </tr>\n",
       "  </tbody>\n",
       "</table>\n",
       "</div>"
      ],
      "text/plain": [
       "      Nationality   Age  DaysSinceCreation  AverageLeadTime  LodgingRevenue  \\\n",
       "ID                                                                            \n",
       "5128          FRA  -8.0               1271               66           93.30   \n",
       "6752          GBR -10.0               1243               22          450.00   \n",
       "8361          DEU  -6.0               1217              256          126.00   \n",
       "8629          NLD  -9.0               1213              111          414.60   \n",
       "9920          DZA  -5.0               1193               54          138.93   \n",
       "10663         DEU  -9.0               1181              292          126.00   \n",
       "10695         DEU  -9.0               1181              292          128.00   \n",
       "10756         PRT  -5.0               1181              292          128.00   \n",
       "14322         PRT  -9.0               1127              346          128.00   \n",
       "15105         DEU -10.0               1117              276          240.00   \n",
       "20407         USA  -8.0               1022              163          939.60   \n",
       "57358         PRT  -5.0                510              130          388.80   \n",
       "\n",
       "       OtherRevenue  BookingsCanceled  BookingsNoShowed  BookingsCheckedIn  \\\n",
       "ID                                                                           \n",
       "5128          14.00                 0                 0                  1   \n",
       "6752          18.00                 0                 0                  1   \n",
       "8361         109.00                 0                 0                  1   \n",
       "8629          34.00                 0                 0                  1   \n",
       "9920          29.50                 0                 0                  1   \n",
       "10663        113.00                 0                 0                  1   \n",
       "10695         57.50                 0                 0                  1   \n",
       "10756         55.00                 0                 0                  1   \n",
       "14322         53.00                 0                 0                  1   \n",
       "15105         61.25                 0                 0                  1   \n",
       "20407        303.30                 0                 0                  1   \n",
       "57358         47.20                 0                 0                  1   \n",
       "\n",
       "       PersonsNights  RoomNights    DistributionChannel  SRHighFloor  \\\n",
       "ID                                                                     \n",
       "5128               2           1  Travel Agent/Operator            0   \n",
       "6752               1           1  Travel Agent/Operator            0   \n",
       "8361               4           2  Travel Agent/Operator            0   \n",
       "8629               4           4  Travel Agent/Operator            0   \n",
       "9920               4           1  Travel Agent/Operator            0   \n",
       "10663              4           2  Travel Agent/Operator            0   \n",
       "10695              2           2  Travel Agent/Operator            0   \n",
       "10756              2           2  Travel Agent/Operator            0   \n",
       "14322              2           2  Travel Agent/Operator            0   \n",
       "15105              3           3  Travel Agent/Operator            0   \n",
       "20407              9           3  Travel Agent/Operator            0   \n",
       "57358              8           4  Travel Agent/Operator            0   \n",
       "\n",
       "       SRLowFloor  SRAccessibleRoom  SRMediumFloor  SRBathtub  SRShower  \\\n",
       "ID                                                                        \n",
       "5128            0                 0              0          0         0   \n",
       "6752            0                 0              0          0         0   \n",
       "8361            0                 0              0          0         0   \n",
       "8629            0                 0              0          0         0   \n",
       "9920            0                 0              0          0         0   \n",
       "10663           0                 0              0          0         0   \n",
       "10695           0                 0              0          0         0   \n",
       "10756           0                 0              0          0         0   \n",
       "14322           0                 0              0          0         0   \n",
       "15105           0                 0              0          0         0   \n",
       "20407           0                 0              0          0         0   \n",
       "57358           0                 0              0          0         0   \n",
       "\n",
       "       SRCrib  SRKingSizeBed  SRTwinBed  SRNearElevator  SRAwayFromElevator  \\\n",
       "ID                                                                            \n",
       "5128        0              1          0               0                   0   \n",
       "6752        0              1          0               0                   0   \n",
       "8361        0              0          1               0                   0   \n",
       "8629        0              1          0               0                   0   \n",
       "9920        0              1          0               0                   0   \n",
       "10663       0              0          0               0                   0   \n",
       "10695       0              0          0               0                   0   \n",
       "10756       0              0          0               0                   0   \n",
       "14322       0              0          0               0                   0   \n",
       "15105       0              0          0               0                   0   \n",
       "20407       0              0          1               0                   0   \n",
       "57358       0              0          0               0                   0   \n",
       "\n",
       "       SRNoAlcoholInMiniBar  SRQuietRoom  TotalRevenue  \n",
       "ID                                                      \n",
       "5128                      0            0        107.30  \n",
       "6752                      0            0        468.00  \n",
       "8361                      0            0        235.00  \n",
       "8629                      0            0        448.60  \n",
       "9920                      0            0        168.43  \n",
       "10663                     0            0        239.00  \n",
       "10695                     0            0        185.50  \n",
       "10756                     0            0        183.00  \n",
       "14322                     0            0        181.00  \n",
       "15105                     0            0        301.25  \n",
       "20407                     0            0       1242.90  \n",
       "57358                     0            0        436.00  "
      ]
     },
     "execution_count": 47,
     "metadata": {},
     "output_type": "execute_result"
    }
   ],
   "source": [
    "# Check cases where age is negative\n",
    "print(f'There are {len(customers[customers['Age'] < 0])} cases where age is negative')\n",
    "customers[customers['Age'] < 0]"
   ]
  },
  {
   "cell_type": "code",
   "execution_count": 48,
   "metadata": {},
   "outputs": [
    {
     "name": "stdout",
     "output_type": "stream",
     "text": [
      "There are 10 cases where age is above 90 years old, which corresponds to 0.01% of the data.\n"
     ]
    },
    {
     "data": {
      "text/html": [
       "<div>\n",
       "<style scoped>\n",
       "    .dataframe tbody tr th:only-of-type {\n",
       "        vertical-align: middle;\n",
       "    }\n",
       "\n",
       "    .dataframe tbody tr th {\n",
       "        vertical-align: top;\n",
       "    }\n",
       "\n",
       "    .dataframe thead th {\n",
       "        text-align: right;\n",
       "    }\n",
       "</style>\n",
       "<table border=\"1\" class=\"dataframe\">\n",
       "  <thead>\n",
       "    <tr style=\"text-align: right;\">\n",
       "      <th></th>\n",
       "      <th>Nationality</th>\n",
       "      <th>Age</th>\n",
       "      <th>DaysSinceCreation</th>\n",
       "      <th>AverageLeadTime</th>\n",
       "      <th>LodgingRevenue</th>\n",
       "      <th>OtherRevenue</th>\n",
       "      <th>BookingsCanceled</th>\n",
       "      <th>BookingsNoShowed</th>\n",
       "      <th>BookingsCheckedIn</th>\n",
       "      <th>PersonsNights</th>\n",
       "      <th>RoomNights</th>\n",
       "      <th>DistributionChannel</th>\n",
       "      <th>SRHighFloor</th>\n",
       "      <th>SRLowFloor</th>\n",
       "      <th>SRAccessibleRoom</th>\n",
       "      <th>SRMediumFloor</th>\n",
       "      <th>SRBathtub</th>\n",
       "      <th>SRShower</th>\n",
       "      <th>SRCrib</th>\n",
       "      <th>SRKingSizeBed</th>\n",
       "      <th>SRTwinBed</th>\n",
       "      <th>SRNearElevator</th>\n",
       "      <th>SRAwayFromElevator</th>\n",
       "      <th>SRNoAlcoholInMiniBar</th>\n",
       "      <th>SRQuietRoom</th>\n",
       "      <th>TotalRevenue</th>\n",
       "    </tr>\n",
       "    <tr>\n",
       "      <th>ID</th>\n",
       "      <th></th>\n",
       "      <th></th>\n",
       "      <th></th>\n",
       "      <th></th>\n",
       "      <th></th>\n",
       "      <th></th>\n",
       "      <th></th>\n",
       "      <th></th>\n",
       "      <th></th>\n",
       "      <th></th>\n",
       "      <th></th>\n",
       "      <th></th>\n",
       "      <th></th>\n",
       "      <th></th>\n",
       "      <th></th>\n",
       "      <th></th>\n",
       "      <th></th>\n",
       "      <th></th>\n",
       "      <th></th>\n",
       "      <th></th>\n",
       "      <th></th>\n",
       "      <th></th>\n",
       "      <th></th>\n",
       "      <th></th>\n",
       "      <th></th>\n",
       "      <th></th>\n",
       "    </tr>\n",
       "  </thead>\n",
       "  <tbody>\n",
       "    <tr>\n",
       "      <th>3282</th>\n",
       "      <td>PRT</td>\n",
       "      <td>115.0</td>\n",
       "      <td>1305</td>\n",
       "      <td>22</td>\n",
       "      <td>79.00</td>\n",
       "      <td>25.5</td>\n",
       "      <td>0</td>\n",
       "      <td>0</td>\n",
       "      <td>1</td>\n",
       "      <td>2</td>\n",
       "      <td>1</td>\n",
       "      <td>Travel Agent/Operator</td>\n",
       "      <td>0</td>\n",
       "      <td>0</td>\n",
       "      <td>0</td>\n",
       "      <td>0</td>\n",
       "      <td>0</td>\n",
       "      <td>0</td>\n",
       "      <td>0</td>\n",
       "      <td>1</td>\n",
       "      <td>0</td>\n",
       "      <td>0</td>\n",
       "      <td>0</td>\n",
       "      <td>0</td>\n",
       "      <td>0</td>\n",
       "      <td>104.50</td>\n",
       "    </tr>\n",
       "    <tr>\n",
       "      <th>7425</th>\n",
       "      <td>DEU</td>\n",
       "      <td>92.0</td>\n",
       "      <td>1231</td>\n",
       "      <td>0</td>\n",
       "      <td>535.00</td>\n",
       "      <td>170.0</td>\n",
       "      <td>0</td>\n",
       "      <td>0</td>\n",
       "      <td>1</td>\n",
       "      <td>2</td>\n",
       "      <td>1</td>\n",
       "      <td>Travel Agent/Operator</td>\n",
       "      <td>0</td>\n",
       "      <td>0</td>\n",
       "      <td>0</td>\n",
       "      <td>0</td>\n",
       "      <td>0</td>\n",
       "      <td>0</td>\n",
       "      <td>0</td>\n",
       "      <td>0</td>\n",
       "      <td>0</td>\n",
       "      <td>0</td>\n",
       "      <td>0</td>\n",
       "      <td>0</td>\n",
       "      <td>0</td>\n",
       "      <td>705.00</td>\n",
       "    </tr>\n",
       "    <tr>\n",
       "      <th>19867</th>\n",
       "      <td>PRT</td>\n",
       "      <td>93.0</td>\n",
       "      <td>1039</td>\n",
       "      <td>18</td>\n",
       "      <td>68.00</td>\n",
       "      <td>14.0</td>\n",
       "      <td>0</td>\n",
       "      <td>0</td>\n",
       "      <td>1</td>\n",
       "      <td>2</td>\n",
       "      <td>1</td>\n",
       "      <td>Travel Agent/Operator</td>\n",
       "      <td>0</td>\n",
       "      <td>0</td>\n",
       "      <td>0</td>\n",
       "      <td>0</td>\n",
       "      <td>0</td>\n",
       "      <td>0</td>\n",
       "      <td>0</td>\n",
       "      <td>0</td>\n",
       "      <td>0</td>\n",
       "      <td>0</td>\n",
       "      <td>0</td>\n",
       "      <td>0</td>\n",
       "      <td>0</td>\n",
       "      <td>82.00</td>\n",
       "    </tr>\n",
       "    <tr>\n",
       "      <th>44525</th>\n",
       "      <td>DEU</td>\n",
       "      <td>114.0</td>\n",
       "      <td>627</td>\n",
       "      <td>7</td>\n",
       "      <td>234.00</td>\n",
       "      <td>34.5</td>\n",
       "      <td>0</td>\n",
       "      <td>0</td>\n",
       "      <td>1</td>\n",
       "      <td>4</td>\n",
       "      <td>2</td>\n",
       "      <td>Travel Agent/Operator</td>\n",
       "      <td>0</td>\n",
       "      <td>0</td>\n",
       "      <td>0</td>\n",
       "      <td>0</td>\n",
       "      <td>0</td>\n",
       "      <td>0</td>\n",
       "      <td>0</td>\n",
       "      <td>1</td>\n",
       "      <td>0</td>\n",
       "      <td>0</td>\n",
       "      <td>0</td>\n",
       "      <td>0</td>\n",
       "      <td>0</td>\n",
       "      <td>268.50</td>\n",
       "    </tr>\n",
       "    <tr>\n",
       "      <th>45089</th>\n",
       "      <td>PRT</td>\n",
       "      <td>115.0</td>\n",
       "      <td>620</td>\n",
       "      <td>2</td>\n",
       "      <td>266.00</td>\n",
       "      <td>43.0</td>\n",
       "      <td>0</td>\n",
       "      <td>0</td>\n",
       "      <td>1</td>\n",
       "      <td>2</td>\n",
       "      <td>2</td>\n",
       "      <td>Travel Agent/Operator</td>\n",
       "      <td>1</td>\n",
       "      <td>0</td>\n",
       "      <td>0</td>\n",
       "      <td>0</td>\n",
       "      <td>0</td>\n",
       "      <td>0</td>\n",
       "      <td>0</td>\n",
       "      <td>1</td>\n",
       "      <td>0</td>\n",
       "      <td>0</td>\n",
       "      <td>0</td>\n",
       "      <td>0</td>\n",
       "      <td>0</td>\n",
       "      <td>309.00</td>\n",
       "    </tr>\n",
       "    <tr>\n",
       "      <th>62694</th>\n",
       "      <td>NOR</td>\n",
       "      <td>97.0</td>\n",
       "      <td>467</td>\n",
       "      <td>87</td>\n",
       "      <td>734.00</td>\n",
       "      <td>24.0</td>\n",
       "      <td>0</td>\n",
       "      <td>0</td>\n",
       "      <td>1</td>\n",
       "      <td>12</td>\n",
       "      <td>6</td>\n",
       "      <td>Travel Agent/Operator</td>\n",
       "      <td>0</td>\n",
       "      <td>0</td>\n",
       "      <td>0</td>\n",
       "      <td>0</td>\n",
       "      <td>0</td>\n",
       "      <td>0</td>\n",
       "      <td>0</td>\n",
       "      <td>0</td>\n",
       "      <td>1</td>\n",
       "      <td>0</td>\n",
       "      <td>0</td>\n",
       "      <td>0</td>\n",
       "      <td>0</td>\n",
       "      <td>758.00</td>\n",
       "    </tr>\n",
       "    <tr>\n",
       "      <th>67362</th>\n",
       "      <td>GBR</td>\n",
       "      <td>93.0</td>\n",
       "      <td>432</td>\n",
       "      <td>78</td>\n",
       "      <td>237.00</td>\n",
       "      <td>55.0</td>\n",
       "      <td>0</td>\n",
       "      <td>0</td>\n",
       "      <td>1</td>\n",
       "      <td>3</td>\n",
       "      <td>3</td>\n",
       "      <td>Travel Agent/Operator</td>\n",
       "      <td>0</td>\n",
       "      <td>0</td>\n",
       "      <td>0</td>\n",
       "      <td>0</td>\n",
       "      <td>0</td>\n",
       "      <td>0</td>\n",
       "      <td>0</td>\n",
       "      <td>0</td>\n",
       "      <td>0</td>\n",
       "      <td>0</td>\n",
       "      <td>0</td>\n",
       "      <td>0</td>\n",
       "      <td>0</td>\n",
       "      <td>292.00</td>\n",
       "    </tr>\n",
       "    <tr>\n",
       "      <th>72434</th>\n",
       "      <td>PRT</td>\n",
       "      <td>91.0</td>\n",
       "      <td>396</td>\n",
       "      <td>254</td>\n",
       "      <td>226.00</td>\n",
       "      <td>28.0</td>\n",
       "      <td>0</td>\n",
       "      <td>0</td>\n",
       "      <td>1</td>\n",
       "      <td>4</td>\n",
       "      <td>2</td>\n",
       "      <td>Travel Agent/Operator</td>\n",
       "      <td>0</td>\n",
       "      <td>0</td>\n",
       "      <td>0</td>\n",
       "      <td>0</td>\n",
       "      <td>0</td>\n",
       "      <td>0</td>\n",
       "      <td>0</td>\n",
       "      <td>1</td>\n",
       "      <td>0</td>\n",
       "      <td>0</td>\n",
       "      <td>0</td>\n",
       "      <td>0</td>\n",
       "      <td>0</td>\n",
       "      <td>254.00</td>\n",
       "    </tr>\n",
       "    <tr>\n",
       "      <th>87089</th>\n",
       "      <td>PRT</td>\n",
       "      <td>111.0</td>\n",
       "      <td>244</td>\n",
       "      <td>18</td>\n",
       "      <td>210.00</td>\n",
       "      <td>52.0</td>\n",
       "      <td>0</td>\n",
       "      <td>0</td>\n",
       "      <td>1</td>\n",
       "      <td>4</td>\n",
       "      <td>2</td>\n",
       "      <td>Direct</td>\n",
       "      <td>1</td>\n",
       "      <td>0</td>\n",
       "      <td>0</td>\n",
       "      <td>0</td>\n",
       "      <td>0</td>\n",
       "      <td>0</td>\n",
       "      <td>0</td>\n",
       "      <td>1</td>\n",
       "      <td>0</td>\n",
       "      <td>0</td>\n",
       "      <td>0</td>\n",
       "      <td>0</td>\n",
       "      <td>0</td>\n",
       "      <td>262.00</td>\n",
       "    </tr>\n",
       "    <tr>\n",
       "      <th>99523</th>\n",
       "      <td>ITA</td>\n",
       "      <td>93.0</td>\n",
       "      <td>136</td>\n",
       "      <td>6</td>\n",
       "      <td>210.48</td>\n",
       "      <td>16.0</td>\n",
       "      <td>0</td>\n",
       "      <td>0</td>\n",
       "      <td>1</td>\n",
       "      <td>2</td>\n",
       "      <td>1</td>\n",
       "      <td>Travel Agent/Operator</td>\n",
       "      <td>0</td>\n",
       "      <td>0</td>\n",
       "      <td>0</td>\n",
       "      <td>0</td>\n",
       "      <td>0</td>\n",
       "      <td>1</td>\n",
       "      <td>0</td>\n",
       "      <td>1</td>\n",
       "      <td>0</td>\n",
       "      <td>1</td>\n",
       "      <td>0</td>\n",
       "      <td>0</td>\n",
       "      <td>0</td>\n",
       "      <td>226.48</td>\n",
       "    </tr>\n",
       "  </tbody>\n",
       "</table>\n",
       "</div>"
      ],
      "text/plain": [
       "      Nationality    Age  DaysSinceCreation  AverageLeadTime  LodgingRevenue  \\\n",
       "ID                                                                             \n",
       "3282          PRT  115.0               1305               22           79.00   \n",
       "7425          DEU   92.0               1231                0          535.00   \n",
       "19867         PRT   93.0               1039               18           68.00   \n",
       "44525         DEU  114.0                627                7          234.00   \n",
       "45089         PRT  115.0                620                2          266.00   \n",
       "62694         NOR   97.0                467               87          734.00   \n",
       "67362         GBR   93.0                432               78          237.00   \n",
       "72434         PRT   91.0                396              254          226.00   \n",
       "87089         PRT  111.0                244               18          210.00   \n",
       "99523         ITA   93.0                136                6          210.48   \n",
       "\n",
       "       OtherRevenue  BookingsCanceled  BookingsNoShowed  BookingsCheckedIn  \\\n",
       "ID                                                                           \n",
       "3282           25.5                 0                 0                  1   \n",
       "7425          170.0                 0                 0                  1   \n",
       "19867          14.0                 0                 0                  1   \n",
       "44525          34.5                 0                 0                  1   \n",
       "45089          43.0                 0                 0                  1   \n",
       "62694          24.0                 0                 0                  1   \n",
       "67362          55.0                 0                 0                  1   \n",
       "72434          28.0                 0                 0                  1   \n",
       "87089          52.0                 0                 0                  1   \n",
       "99523          16.0                 0                 0                  1   \n",
       "\n",
       "       PersonsNights  RoomNights    DistributionChannel  SRHighFloor  \\\n",
       "ID                                                                     \n",
       "3282               2           1  Travel Agent/Operator            0   \n",
       "7425               2           1  Travel Agent/Operator            0   \n",
       "19867              2           1  Travel Agent/Operator            0   \n",
       "44525              4           2  Travel Agent/Operator            0   \n",
       "45089              2           2  Travel Agent/Operator            1   \n",
       "62694             12           6  Travel Agent/Operator            0   \n",
       "67362              3           3  Travel Agent/Operator            0   \n",
       "72434              4           2  Travel Agent/Operator            0   \n",
       "87089              4           2                 Direct            1   \n",
       "99523              2           1  Travel Agent/Operator            0   \n",
       "\n",
       "       SRLowFloor  SRAccessibleRoom  SRMediumFloor  SRBathtub  SRShower  \\\n",
       "ID                                                                        \n",
       "3282            0                 0              0          0         0   \n",
       "7425            0                 0              0          0         0   \n",
       "19867           0                 0              0          0         0   \n",
       "44525           0                 0              0          0         0   \n",
       "45089           0                 0              0          0         0   \n",
       "62694           0                 0              0          0         0   \n",
       "67362           0                 0              0          0         0   \n",
       "72434           0                 0              0          0         0   \n",
       "87089           0                 0              0          0         0   \n",
       "99523           0                 0              0          0         1   \n",
       "\n",
       "       SRCrib  SRKingSizeBed  SRTwinBed  SRNearElevator  SRAwayFromElevator  \\\n",
       "ID                                                                            \n",
       "3282        0              1          0               0                   0   \n",
       "7425        0              0          0               0                   0   \n",
       "19867       0              0          0               0                   0   \n",
       "44525       0              1          0               0                   0   \n",
       "45089       0              1          0               0                   0   \n",
       "62694       0              0          1               0                   0   \n",
       "67362       0              0          0               0                   0   \n",
       "72434       0              1          0               0                   0   \n",
       "87089       0              1          0               0                   0   \n",
       "99523       0              1          0               1                   0   \n",
       "\n",
       "       SRNoAlcoholInMiniBar  SRQuietRoom  TotalRevenue  \n",
       "ID                                                      \n",
       "3282                      0            0        104.50  \n",
       "7425                      0            0        705.00  \n",
       "19867                     0            0         82.00  \n",
       "44525                     0            0        268.50  \n",
       "45089                     0            0        309.00  \n",
       "62694                     0            0        758.00  \n",
       "67362                     0            0        292.00  \n",
       "72434                     0            0        254.00  \n",
       "87089                     0            0        262.00  \n",
       "99523                     0            0        226.48  "
      ]
     },
     "execution_count": 48,
     "metadata": {},
     "output_type": "execute_result"
    }
   ],
   "source": [
    "# Check cases where age is above 100\n",
    "print(f'There are {len(customers[customers['Age'] > 90])} cases where age is above 90 years old, which corresponds to {len(customers[customers[\"Age\"] > 90])/len(customers)*100:.2f}% of the data.')\n",
    "customers[customers['Age'] > 90]"
   ]
  },
  {
   "cell_type": "code",
   "execution_count": 49,
   "metadata": {},
   "outputs": [],
   "source": [
    "# Drop rows where age is above 90\n",
    "customers = customers[customers['Age'] <= 90]"
   ]
  },
  {
   "cell_type": "code",
   "execution_count": 50,
   "metadata": {},
   "outputs": [],
   "source": [
    "# Turn the rows with age below 0 to NaN\n",
    "customers.loc[customers['Age'] < 0, 'Age'] = np.nan"
   ]
  },
  {
   "cell_type": "code",
   "execution_count": 51,
   "metadata": {},
   "outputs": [],
   "source": [
    "# Drop rows with Age<18\n",
    "customers = customers[customers['Age'] >= 18]"
   ]
  },
  {
   "cell_type": "code",
   "execution_count": 52,
   "metadata": {},
   "outputs": [],
   "source": [
    "from sklearn.impute import KNNImputer\n",
    "\n",
    "# Initialize KNNImputer with k neighbors\n",
    "imputer = KNNImputer(n_neighbors=5)  \n",
    "\n",
    "# Apply KNN imputation only to the 'Age' column\n",
    "customers[['Age']] = imputer.fit_transform(customers[['Age']])\n"
   ]
  },
  {
   "cell_type": "code",
   "execution_count": 53,
   "metadata": {},
   "outputs": [],
   "source": [
    "# Fill missing values with median\n",
    "# customers['Age'].fillna(customers['Age'].median(), inplace=True)"
   ]
  },
  {
   "cell_type": "code",
   "execution_count": 54,
   "metadata": {},
   "outputs": [
    {
     "name": "stdout",
     "output_type": "stream",
     "text": [
      "There are 0 missing values left in Age column.\n"
     ]
    }
   ],
   "source": [
    "# check for missing values in age\n",
    "print(f'There are {customers[\"Age\"].isnull().sum()} missing values left in Age column.')"
   ]
  },
  {
   "cell_type": "code",
   "execution_count": 55,
   "metadata": {},
   "outputs": [
    {
     "data": {
      "image/png": "[encoded data removed]",
      "text/plain": [
       "<Figure size 1200x600 with 1 Axes>"
      ]
     },
     "metadata": {},
     "output_type": "display_data"
    }
   ],
   "source": [
    "# Check the distribution of Age\n",
    "plt.figure(figsize=(12, 6))\n",
    "sns.histplot(customers['Age'])\n",
    "plt.title('Age Distribution')\n",
    "plt.show()\n"
   ]
  },
  {
   "cell_type": "code",
   "execution_count": 56,
   "metadata": {},
   "outputs": [
    {
     "name": "stdout",
     "output_type": "stream",
     "text": [
      "The average age is 48.53 and the median age is 48.0.\n"
     ]
    }
   ],
   "source": [
    "customers['Age'].agg(['mean', 'median'])\n",
    "print(f'The average age is {customers[\"Age\"].mean():.2f} and the median age is {customers[\"Age\"].median()}.')"
   ]
  },
  {
   "cell_type": "markdown",
   "metadata": {},
   "source": [
    "#### 1.5.2.2 DaysSinceCreation"
   ]
  },
  {
   "cell_type": "code",
   "execution_count": 57,
   "metadata": {},
   "outputs": [
    {
     "data": {
      "image/png": "[encoded data removed]",
      "text/plain": [
       "<Figure size 1000x600 with 1 Axes>"
      ]
     },
     "metadata": {},
     "output_type": "display_data"
    }
   ],
   "source": [
    "# Plot the histogram\n",
    "plt.figure(figsize=(10, 6))\n",
    "plt.hist(customers[\"DaysSinceCreation\"], bins=40, edgecolor=\"black\")\n",
    "\n",
    "plt.title(\"Days Since Creation\", fontsize=16)\n",
    "plt.xlabel(\"Days Since Creation\", fontsize=12)\n",
    "plt.ylabel(\"Number of Customers\", fontsize=12)\n",
    "\n",
    "plt.tight_layout()  \n",
    "plt.show()"
   ]
  },
  {
   "cell_type": "markdown",
   "metadata": {},
   "source": [
    "Can distinguish peaks - high peak recently\n",
    "\n",
    "Groups \n",
    "* group < 365 (less than a year)\n",
    "* 365 < group < 730 (1-2 years)\n",
    "* 730 < group < 1095 (2-3 years)\n",
    "* 1095 < group (more than 3 years)"
   ]
  },
  {
   "cell_type": "code",
   "execution_count": 58,
   "metadata": {},
   "outputs": [
    {
     "data": {
      "image/png": "[encoded data removed]",
      "text/plain": [
       "<Figure size 1200x600 with 1 Axes>"
      ]
     },
     "metadata": {},
     "output_type": "display_data"
    }
   ],
   "source": [
    "# Define age ranges and their respective labels\n",
    "creation_date_bins = [0, 365, 730, 1095, float('inf')]\n",
    "creation_date_labels = [\"Less than 1 year\", \"1-2 years\", \"2-3 years\", \"More than 3 years\"]\n",
    "\n",
    "# .cut() segments into the bins and assigns to corresponding labels\n",
    "customers_numerical[\"YearsSinceCreation\"] = pd.cut(customers_numerical[\"DaysSinceCreation\"], bins=creation_date_bins, labels=creation_date_labels)\n",
    "\n",
    "# Plot a bar chart \n",
    "plt.figure(figsize=(12, 6))\n",
    "\n",
    "years_since_creation = customers_numerical[\"YearsSinceCreation\"].value_counts()\n",
    "\n",
    "years_since_creation.plot(kind=\"bar\", edgecolor=\"black\")\n",
    "\n",
    "plt.title(\"Years Since Creation\", fontsize=16)\n",
    "plt.ylabel(\"Customer Count\", fontsize=12)\n",
    "plt.xticks(rotation=45)\n",
    "plt.show()"
   ]
  },
  {
   "cell_type": "markdown",
   "metadata": {},
   "source": [
    "* Most customers are recent ones, i.e. within their first 2 years since joining\n",
    "* But there is a large spread (std = 374)"
   ]
  },
  {
   "cell_type": "markdown",
   "metadata": {},
   "source": [
    "#### Lodging Revenue"
   ]
  },
  {
   "cell_type": "code",
   "execution_count": 59,
   "metadata": {},
   "outputs": [
    {
     "data": {
      "image/png": "[encoded data removed]",
      "text/plain": [
       "<Figure size 1200x800 with 1 Axes>"
      ]
     },
     "metadata": {},
     "output_type": "display_data"
    }
   ],
   "source": [
    "plt.figure(figsize=(12, 8))\n",
    "sns.boxplot(x=customers['LodgingRevenue'], color='blue')\n",
    "plt.title('Lodging Revenue')\n",
    "plt.show()"
   ]
  },
  {
   "cell_type": "markdown",
   "metadata": {},
   "source": [
    "#### Other Revenue"
   ]
  },
  {
   "cell_type": "code",
   "execution_count": 60,
   "metadata": {},
   "outputs": [
    {
     "data": {
      "image/png": "[encoded data removed]",
      "text/plain": [
       "<Figure size 1200x800 with 1 Axes>"
      ]
     },
     "metadata": {},
     "output_type": "display_data"
    }
   ],
   "source": [
    "plt.figure(figsize=(12, 8))\n",
    "sns.boxplot(x=customers['OtherRevenue'], color='blue')\n",
    "plt.title('Other Revenue')\n",
    "plt.show()"
   ]
  },
  {
   "cell_type": "markdown",
   "metadata": {},
   "source": [
    "#### Bookings Canceled"
   ]
  },
  {
   "cell_type": "code",
   "execution_count": 61,
   "metadata": {},
   "outputs": [
    {
     "data": {
      "text/plain": [
       "BookingsCanceled\n",
       "0     70807\n",
       "1        63\n",
       "3         8\n",
       "2         4\n",
       "4         1\n",
       "15        1\n",
       "7         1\n",
       "Name: count, dtype: int64"
      ]
     },
     "execution_count": 61,
     "metadata": {},
     "output_type": "execute_result"
    }
   ],
   "source": [
    "customers['BookingsCanceled'].value_counts()"
   ]
  },
  {
   "cell_type": "code",
   "execution_count": 62,
   "metadata": {},
   "outputs": [
    {
     "data": {
      "text/plain": [
       "Text(0, 0.5, 'Frequency')"
      ]
     },
     "execution_count": 62,
     "metadata": {},
     "output_type": "execute_result"
    },
    {
     "data": {
      "image/png": "[encoded data removed]",
      "text/plain": [
       "<Figure size 1200x800 with 1 Axes>"
      ]
     },
     "metadata": {},
     "output_type": "display_data"
    }
   ],
   "source": [
    "plt.figure(figsize=(12, 8))\n",
    "plt.hist(customers['BookingsCanceled'], bins=np.arange(-0.5,15.5,1), color='blue', edgecolor='black')\n",
    "plt.title('Bookings Canceled')\n",
    "plt.xlabel('Bookings')\n",
    "plt.ylabel('Frequency')"
   ]
  },
  {
   "cell_type": "markdown",
   "metadata": {},
   "source": [
    "#### Bookings No Showed"
   ]
  },
  {
   "cell_type": "code",
   "execution_count": 63,
   "metadata": {},
   "outputs": [
    {
     "data": {
      "text/plain": [
       "BookingsNoShowed\n",
       "0    70859\n",
       "1       23\n",
       "2        3\n",
       "Name: count, dtype: int64"
      ]
     },
     "execution_count": 63,
     "metadata": {},
     "output_type": "execute_result"
    }
   ],
   "source": [
    "customers['BookingsNoShowed'].value_counts()"
   ]
  },
  {
   "cell_type": "code",
   "execution_count": 64,
   "metadata": {},
   "outputs": [
    {
     "data": {
      "text/plain": [
       "Text(0, 0.5, 'Frequency')"
      ]
     },
     "execution_count": 64,
     "metadata": {},
     "output_type": "execute_result"
    },
    {
     "data": {
      "image/png": "[encoded data removed]",
      "text/plain": [
       "<Figure size 1200x800 with 1 Axes>"
      ]
     },
     "metadata": {},
     "output_type": "display_data"
    }
   ],
   "source": [
    "plt.figure(figsize=(12, 8))\n",
    "plt.hist(customers['BookingsNoShowed'], bins=np.arange(-0.5,3.5,1), color='blue', edgecolor='black')\n",
    "plt.title('Bookings No Showed')\n",
    "plt.xticks(range(5))\n",
    "plt.xlabel('Bookings')\n",
    "plt.ylabel('Frequency')"
   ]
  },
  {
   "cell_type": "markdown",
   "metadata": {},
   "source": [
    "Like in the lst feature our customers are good people"
   ]
  },
  {
   "cell_type": "markdown",
   "metadata": {},
   "source": [
    "#### Bookings Checked In "
   ]
  },
  {
   "cell_type": "code",
   "execution_count": 65,
   "metadata": {},
   "outputs": [
    {
     "data": {
      "text/plain": [
       "BookingsCheckedIn\n",
       "1     69299\n",
       "2      1338\n",
       "3       129\n",
       "4        29\n",
       "5        19\n",
       "7        15\n",
       "6        11\n",
       "11        6\n",
       "8         6\n",
       "9         5\n",
       "10        5\n",
       "13        4\n",
       "15        3\n",
       "12        2\n",
       "16        2\n",
       "26        2\n",
       "24        1\n",
       "18        1\n",
       "22        1\n",
       "40        1\n",
       "38        1\n",
       "76        1\n",
       "17        1\n",
       "29        1\n",
       "66        1\n",
       "35        1\n",
       "Name: count, dtype: int64"
      ]
     },
     "execution_count": 65,
     "metadata": {},
     "output_type": "execute_result"
    }
   ],
   "source": [
    "customers['BookingsCheckedIn'].value_counts()"
   ]
  },
  {
   "cell_type": "code",
   "execution_count": 66,
   "metadata": {},
   "outputs": [
    {
     "data": {
      "image/png": "[encoded data removed]",
      "text/plain": [
       "<Figure size 1200x800 with 1 Axes>"
      ]
     },
     "metadata": {},
     "output_type": "display_data"
    }
   ],
   "source": [
    "plt.figure(figsize=(12, 8))\n",
    "plt.hist(customers['BookingsCheckedIn'], bins=np.arange(-0.5,15.5,1), color='blue', edgecolor='black')\n",
    "plt.title('Bookings Checked In')\n",
    "plt.xlabel('Bookings')\n",
    "plt.ylabel('Frequency')\n",
    "plt.show()"
   ]
  },
  {
   "cell_type": "code",
   "execution_count": 67,
   "metadata": {},
   "outputs": [
    {
     "data": {
      "image/png": "[encoded data removed]",
      "text/plain": [
       "<Figure size 1200x800 with 1 Axes>"
      ]
     },
     "metadata": {},
     "output_type": "display_data"
    }
   ],
   "source": [
    "plt.figure(figsize=(12, 8))\n",
    "sns.boxplot(x=customers['BookingsCheckedIn'], color='blue')\n",
    "plt.title('Bookings Checked In')\n",
    "plt.show()"
   ]
  },
  {
   "cell_type": "markdown",
   "metadata": {},
   "source": [
    "two thirds of our customers have been in our hotel only once"
   ]
  },
  {
   "cell_type": "markdown",
   "metadata": {},
   "source": [
    "#### Persons Night\n",
    "(adults + children)*number of nights "
   ]
  },
  {
   "cell_type": "code",
   "execution_count": 68,
   "metadata": {},
   "outputs": [
    {
     "data": {
      "text/plain": [
       "PersonsNights\n",
       "6      15355\n",
       "4      11809\n",
       "2       9821\n",
       "8       9695\n",
       "3       4333\n",
       "10      4063\n",
       "1       3974\n",
       "12      3673\n",
       "9       2074\n",
       "14      1743\n",
       "5       1002\n",
       "15       793\n",
       "16       621\n",
       "18       452\n",
       "21       388\n",
       "20       258\n",
       "7        243\n",
       "24       150\n",
       "28        86\n",
       "22        48\n",
       "30        45\n",
       "27        35\n",
       "11        33\n",
       "32        23\n",
       "36        20\n",
       "33        20\n",
       "26        20\n",
       "13        15\n",
       "17        11\n",
       "25        11\n",
       "19        10\n",
       "42         7\n",
       "23         7\n",
       "35         7\n",
       "40         5\n",
       "44         4\n",
       "39         4\n",
       "34         4\n",
       "48         2\n",
       "45         2\n",
       "68         2\n",
       "0          2\n",
       "38         2\n",
       "91         1\n",
       "59         1\n",
       "29         1\n",
       "57         1\n",
       "80         1\n",
       "31         1\n",
       "52         1\n",
       "49         1\n",
       "116        1\n",
       "56         1\n",
       "99         1\n",
       "75         1\n",
       "60         1\n",
       "Name: count, dtype: int64"
      ]
     },
     "execution_count": 68,
     "metadata": {},
     "output_type": "execute_result"
    }
   ],
   "source": [
    "customers['PersonsNights'].value_counts()"
   ]
  },
  {
   "cell_type": "code",
   "execution_count": 69,
   "metadata": {},
   "outputs": [
    {
     "data": {
      "image/png": "[encoded data removed]",
      "text/plain": [
       "<Figure size 1200x800 with 1 Axes>"
      ]
     },
     "metadata": {},
     "output_type": "display_data"
    }
   ],
   "source": [
    "plt.figure(figsize=(12, 8))\n",
    "plt.hist(customers['PersonsNights'], bins=20, color='blue', edgecolor='black')\n",
    "plt.title('Persons Nights')\n",
    "plt.xlabel('Persons Days')\n",
    "plt.ylabel('Frequency')\n",
    "plt.show()"
   ]
  },
  {
   "cell_type": "code",
   "execution_count": 70,
   "metadata": {},
   "outputs": [
    {
     "data": {
      "image/png": "[encoded data removed]",
      "text/plain": [
       "<Figure size 1200x800 with 1 Axes>"
      ]
     },
     "metadata": {},
     "output_type": "display_data"
    }
   ],
   "source": [
    "plt.figure(figsize=(12, 8))\n",
    "sns.boxplot(x=customers['PersonsNights'], color='blue')\n",
    "plt.title('Persons Nights')\n",
    "plt.show()"
   ]
  },
  {
   "cell_type": "code",
   "execution_count": 71,
   "metadata": {},
   "outputs": [
    {
     "data": {
      "text/plain": [
       "Index(['Age', 'DaysSinceCreation', 'AverageLeadTime', 'LodgingRevenue',\n",
       "       'OtherRevenue', 'BookingsCanceled', 'BookingsNoShowed',\n",
       "       'BookingsCheckedIn', 'PersonsNights', 'RoomNights', 'SRHighFloor',\n",
       "       'SRLowFloor', 'SRAccessibleRoom', 'SRMediumFloor', 'SRBathtub',\n",
       "       'SRShower', 'SRCrib', 'SRKingSizeBed', 'SRTwinBed', 'SRNearElevator',\n",
       "       'SRAwayFromElevator', 'SRNoAlcoholInMiniBar', 'SRQuietRoom',\n",
       "       'TotalRevenue', 'YearsSinceCreation'],\n",
       "      dtype='object')"
      ]
     },
     "execution_count": 71,
     "metadata": {},
     "output_type": "execute_result"
    }
   ],
   "source": [
    "customers_numerical.columns"
   ]
  },
  {
   "cell_type": "markdown",
   "metadata": {},
   "source": [
    "### 1.5.3 Binary Variables\n",
    "\n"
   ]
  },
  {
   "cell_type": "markdown",
   "metadata": {},
   "source": [
    "#### SRFloor\n",
    "Making a fusion with the low-high floor \n",
    "\n",
    "    If the client has no preference then 0\n",
    "    If its on a low floor then 1 \n",
    "    If its on a medium floor then 2\n",
    "    If its on a high floor then 3\n",
    "    If asked for more than 1 type of floor then 4"
   ]
  },
  {
   "cell_type": "code",
   "execution_count": 72,
   "metadata": {},
   "outputs": [
    {
     "data": {
      "text/html": [
       "<div>\n",
       "<style scoped>\n",
       "    .dataframe tbody tr th:only-of-type {\n",
       "        vertical-align: middle;\n",
       "    }\n",
       "\n",
       "    .dataframe tbody tr th {\n",
       "        vertical-align: top;\n",
       "    }\n",
       "\n",
       "    .dataframe thead th {\n",
       "        text-align: right;\n",
       "    }\n",
       "</style>\n",
       "<table border=\"1\" class=\"dataframe\">\n",
       "  <thead>\n",
       "    <tr style=\"text-align: right;\">\n",
       "      <th></th>\n",
       "      <th>Nationality</th>\n",
       "      <th>Age</th>\n",
       "      <th>DaysSinceCreation</th>\n",
       "      <th>AverageLeadTime</th>\n",
       "      <th>LodgingRevenue</th>\n",
       "      <th>OtherRevenue</th>\n",
       "      <th>BookingsCanceled</th>\n",
       "      <th>BookingsNoShowed</th>\n",
       "      <th>BookingsCheckedIn</th>\n",
       "      <th>PersonsNights</th>\n",
       "      <th>RoomNights</th>\n",
       "      <th>DistributionChannel</th>\n",
       "      <th>SRHighFloor</th>\n",
       "      <th>SRLowFloor</th>\n",
       "      <th>SRAccessibleRoom</th>\n",
       "      <th>SRMediumFloor</th>\n",
       "      <th>SRBathtub</th>\n",
       "      <th>SRShower</th>\n",
       "      <th>SRCrib</th>\n",
       "      <th>SRKingSizeBed</th>\n",
       "      <th>SRTwinBed</th>\n",
       "      <th>SRNearElevator</th>\n",
       "      <th>SRAwayFromElevator</th>\n",
       "      <th>SRNoAlcoholInMiniBar</th>\n",
       "      <th>SRQuietRoom</th>\n",
       "      <th>TotalRevenue</th>\n",
       "    </tr>\n",
       "    <tr>\n",
       "      <th>ID</th>\n",
       "      <th></th>\n",
       "      <th></th>\n",
       "      <th></th>\n",
       "      <th></th>\n",
       "      <th></th>\n",
       "      <th></th>\n",
       "      <th></th>\n",
       "      <th></th>\n",
       "      <th></th>\n",
       "      <th></th>\n",
       "      <th></th>\n",
       "      <th></th>\n",
       "      <th></th>\n",
       "      <th></th>\n",
       "      <th></th>\n",
       "      <th></th>\n",
       "      <th></th>\n",
       "      <th></th>\n",
       "      <th></th>\n",
       "      <th></th>\n",
       "      <th></th>\n",
       "      <th></th>\n",
       "      <th></th>\n",
       "      <th></th>\n",
       "      <th></th>\n",
       "      <th></th>\n",
       "    </tr>\n",
       "  </thead>\n",
       "  <tbody>\n",
       "  </tbody>\n",
       "</table>\n",
       "</div>"
      ],
      "text/plain": [
       "Empty DataFrame\n",
       "Columns: [Nationality, Age, DaysSinceCreation, AverageLeadTime, LodgingRevenue, OtherRevenue, BookingsCanceled, BookingsNoShowed, BookingsCheckedIn, PersonsNights, RoomNights, DistributionChannel, SRHighFloor, SRLowFloor, SRAccessibleRoom, SRMediumFloor, SRBathtub, SRShower, SRCrib, SRKingSizeBed, SRTwinBed, SRNearElevator, SRAwayFromElevator, SRNoAlcoholInMiniBar, SRQuietRoom, TotalRevenue]\n",
       "Index: []"
      ]
     },
     "execution_count": 72,
     "metadata": {},
     "output_type": "execute_result"
    }
   ],
   "source": [
    "Check0 = customers[(customers['SRHighFloor'] == 1) & (customers['SRLowFloor'] == 1) & (customers['SRMediumFloor'] == 1)]\n",
    "Check0"
   ]
  },
  {
   "cell_type": "code",
   "execution_count": 73,
   "metadata": {},
   "outputs": [
    {
     "data": {
      "text/html": [
       "<div>\n",
       "<style scoped>\n",
       "    .dataframe tbody tr th:only-of-type {\n",
       "        vertical-align: middle;\n",
       "    }\n",
       "\n",
       "    .dataframe tbody tr th {\n",
       "        vertical-align: top;\n",
       "    }\n",
       "\n",
       "    .dataframe thead th {\n",
       "        text-align: right;\n",
       "    }\n",
       "</style>\n",
       "<table border=\"1\" class=\"dataframe\">\n",
       "  <thead>\n",
       "    <tr style=\"text-align: right;\">\n",
       "      <th></th>\n",
       "      <th>Nationality</th>\n",
       "      <th>Age</th>\n",
       "      <th>DaysSinceCreation</th>\n",
       "      <th>AverageLeadTime</th>\n",
       "      <th>LodgingRevenue</th>\n",
       "      <th>OtherRevenue</th>\n",
       "      <th>BookingsCanceled</th>\n",
       "      <th>BookingsNoShowed</th>\n",
       "      <th>BookingsCheckedIn</th>\n",
       "      <th>PersonsNights</th>\n",
       "      <th>RoomNights</th>\n",
       "      <th>DistributionChannel</th>\n",
       "      <th>SRHighFloor</th>\n",
       "      <th>SRLowFloor</th>\n",
       "      <th>SRAccessibleRoom</th>\n",
       "      <th>SRMediumFloor</th>\n",
       "      <th>SRBathtub</th>\n",
       "      <th>SRShower</th>\n",
       "      <th>SRCrib</th>\n",
       "      <th>SRKingSizeBed</th>\n",
       "      <th>SRTwinBed</th>\n",
       "      <th>SRNearElevator</th>\n",
       "      <th>SRAwayFromElevator</th>\n",
       "      <th>SRNoAlcoholInMiniBar</th>\n",
       "      <th>SRQuietRoom</th>\n",
       "      <th>TotalRevenue</th>\n",
       "    </tr>\n",
       "    <tr>\n",
       "      <th>ID</th>\n",
       "      <th></th>\n",
       "      <th></th>\n",
       "      <th></th>\n",
       "      <th></th>\n",
       "      <th></th>\n",
       "      <th></th>\n",
       "      <th></th>\n",
       "      <th></th>\n",
       "      <th></th>\n",
       "      <th></th>\n",
       "      <th></th>\n",
       "      <th></th>\n",
       "      <th></th>\n",
       "      <th></th>\n",
       "      <th></th>\n",
       "      <th></th>\n",
       "      <th></th>\n",
       "      <th></th>\n",
       "      <th></th>\n",
       "      <th></th>\n",
       "      <th></th>\n",
       "      <th></th>\n",
       "      <th></th>\n",
       "      <th></th>\n",
       "      <th></th>\n",
       "      <th></th>\n",
       "    </tr>\n",
       "  </thead>\n",
       "  <tbody>\n",
       "  </tbody>\n",
       "</table>\n",
       "</div>"
      ],
      "text/plain": [
       "Empty DataFrame\n",
       "Columns: [Nationality, Age, DaysSinceCreation, AverageLeadTime, LodgingRevenue, OtherRevenue, BookingsCanceled, BookingsNoShowed, BookingsCheckedIn, PersonsNights, RoomNights, DistributionChannel, SRHighFloor, SRLowFloor, SRAccessibleRoom, SRMediumFloor, SRBathtub, SRShower, SRCrib, SRKingSizeBed, SRTwinBed, SRNearElevator, SRAwayFromElevator, SRNoAlcoholInMiniBar, SRQuietRoom, TotalRevenue]\n",
       "Index: []"
      ]
     },
     "execution_count": 73,
     "metadata": {},
     "output_type": "execute_result"
    }
   ],
   "source": [
    "# We have 1 customer that usually asks fot a high and low floor but not medium and the same for the cases bellow\n",
    "Check1 = customers[(customers['SRHighFloor'] == 1) & (customers['SRLowFloor'] == 1) & (customers['SRMediumFloor'] == 0)]\n",
    "Check1"
   ]
  },
  {
   "cell_type": "code",
   "execution_count": 74,
   "metadata": {},
   "outputs": [
    {
     "data": {
      "text/html": [
       "<div>\n",
       "<style scoped>\n",
       "    .dataframe tbody tr th:only-of-type {\n",
       "        vertical-align: middle;\n",
       "    }\n",
       "\n",
       "    .dataframe tbody tr th {\n",
       "        vertical-align: top;\n",
       "    }\n",
       "\n",
       "    .dataframe thead th {\n",
       "        text-align: right;\n",
       "    }\n",
       "</style>\n",
       "<table border=\"1\" class=\"dataframe\">\n",
       "  <thead>\n",
       "    <tr style=\"text-align: right;\">\n",
       "      <th></th>\n",
       "      <th>Nationality</th>\n",
       "      <th>Age</th>\n",
       "      <th>DaysSinceCreation</th>\n",
       "      <th>AverageLeadTime</th>\n",
       "      <th>LodgingRevenue</th>\n",
       "      <th>OtherRevenue</th>\n",
       "      <th>BookingsCanceled</th>\n",
       "      <th>BookingsNoShowed</th>\n",
       "      <th>BookingsCheckedIn</th>\n",
       "      <th>PersonsNights</th>\n",
       "      <th>RoomNights</th>\n",
       "      <th>DistributionChannel</th>\n",
       "      <th>SRHighFloor</th>\n",
       "      <th>SRLowFloor</th>\n",
       "      <th>SRAccessibleRoom</th>\n",
       "      <th>SRMediumFloor</th>\n",
       "      <th>SRBathtub</th>\n",
       "      <th>SRShower</th>\n",
       "      <th>SRCrib</th>\n",
       "      <th>SRKingSizeBed</th>\n",
       "      <th>SRTwinBed</th>\n",
       "      <th>SRNearElevator</th>\n",
       "      <th>SRAwayFromElevator</th>\n",
       "      <th>SRNoAlcoholInMiniBar</th>\n",
       "      <th>SRQuietRoom</th>\n",
       "      <th>TotalRevenue</th>\n",
       "    </tr>\n",
       "    <tr>\n",
       "      <th>ID</th>\n",
       "      <th></th>\n",
       "      <th></th>\n",
       "      <th></th>\n",
       "      <th></th>\n",
       "      <th></th>\n",
       "      <th></th>\n",
       "      <th></th>\n",
       "      <th></th>\n",
       "      <th></th>\n",
       "      <th></th>\n",
       "      <th></th>\n",
       "      <th></th>\n",
       "      <th></th>\n",
       "      <th></th>\n",
       "      <th></th>\n",
       "      <th></th>\n",
       "      <th></th>\n",
       "      <th></th>\n",
       "      <th></th>\n",
       "      <th></th>\n",
       "      <th></th>\n",
       "      <th></th>\n",
       "      <th></th>\n",
       "      <th></th>\n",
       "      <th></th>\n",
       "      <th></th>\n",
       "    </tr>\n",
       "  </thead>\n",
       "  <tbody>\n",
       "    <tr>\n",
       "      <th>25859</th>\n",
       "      <td>SWE</td>\n",
       "      <td>51.0</td>\n",
       "      <td>921</td>\n",
       "      <td>127</td>\n",
       "      <td>2020.0</td>\n",
       "      <td>220.0</td>\n",
       "      <td>0</td>\n",
       "      <td>0</td>\n",
       "      <td>1</td>\n",
       "      <td>8</td>\n",
       "      <td>2</td>\n",
       "      <td>Travel Agent/Operator</td>\n",
       "      <td>1</td>\n",
       "      <td>0</td>\n",
       "      <td>0</td>\n",
       "      <td>1</td>\n",
       "      <td>0</td>\n",
       "      <td>0</td>\n",
       "      <td>0</td>\n",
       "      <td>1</td>\n",
       "      <td>0</td>\n",
       "      <td>0</td>\n",
       "      <td>0</td>\n",
       "      <td>0</td>\n",
       "      <td>0</td>\n",
       "      <td>2240.0</td>\n",
       "    </tr>\n",
       "  </tbody>\n",
       "</table>\n",
       "</div>"
      ],
      "text/plain": [
       "      Nationality   Age  DaysSinceCreation  AverageLeadTime  LodgingRevenue  \\\n",
       "ID                                                                            \n",
       "25859         SWE  51.0                921              127          2020.0   \n",
       "\n",
       "       OtherRevenue  BookingsCanceled  BookingsNoShowed  BookingsCheckedIn  \\\n",
       "ID                                                                           \n",
       "25859         220.0                 0                 0                  1   \n",
       "\n",
       "       PersonsNights  RoomNights    DistributionChannel  SRHighFloor  \\\n",
       "ID                                                                     \n",
       "25859              8           2  Travel Agent/Operator            1   \n",
       "\n",
       "       SRLowFloor  SRAccessibleRoom  SRMediumFloor  SRBathtub  SRShower  \\\n",
       "ID                                                                        \n",
       "25859           0                 0              1          0         0   \n",
       "\n",
       "       SRCrib  SRKingSizeBed  SRTwinBed  SRNearElevator  SRAwayFromElevator  \\\n",
       "ID                                                                            \n",
       "25859       0              1          0               0                   0   \n",
       "\n",
       "       SRNoAlcoholInMiniBar  SRQuietRoom  TotalRevenue  \n",
       "ID                                                      \n",
       "25859                     0            0        2240.0  "
      ]
     },
     "execution_count": 74,
     "metadata": {},
     "output_type": "execute_result"
    }
   ],
   "source": [
    "Check2 = customers[(customers['SRHighFloor'] == 1) & (customers['SRLowFloor'] == 0) & (customers['SRMediumFloor'] == 1)]\n",
    "Check2"
   ]
  },
  {
   "cell_type": "code",
   "execution_count": 75,
   "metadata": {},
   "outputs": [
    {
     "data": {
      "text/html": [
       "<div>\n",
       "<style scoped>\n",
       "    .dataframe tbody tr th:only-of-type {\n",
       "        vertical-align: middle;\n",
       "    }\n",
       "\n",
       "    .dataframe tbody tr th {\n",
       "        vertical-align: top;\n",
       "    }\n",
       "\n",
       "    .dataframe thead th {\n",
       "        text-align: right;\n",
       "    }\n",
       "</style>\n",
       "<table border=\"1\" class=\"dataframe\">\n",
       "  <thead>\n",
       "    <tr style=\"text-align: right;\">\n",
       "      <th></th>\n",
       "      <th>Nationality</th>\n",
       "      <th>Age</th>\n",
       "      <th>DaysSinceCreation</th>\n",
       "      <th>AverageLeadTime</th>\n",
       "      <th>LodgingRevenue</th>\n",
       "      <th>OtherRevenue</th>\n",
       "      <th>BookingsCanceled</th>\n",
       "      <th>BookingsNoShowed</th>\n",
       "      <th>BookingsCheckedIn</th>\n",
       "      <th>PersonsNights</th>\n",
       "      <th>RoomNights</th>\n",
       "      <th>DistributionChannel</th>\n",
       "      <th>SRHighFloor</th>\n",
       "      <th>SRLowFloor</th>\n",
       "      <th>SRAccessibleRoom</th>\n",
       "      <th>SRMediumFloor</th>\n",
       "      <th>SRBathtub</th>\n",
       "      <th>SRShower</th>\n",
       "      <th>SRCrib</th>\n",
       "      <th>SRKingSizeBed</th>\n",
       "      <th>SRTwinBed</th>\n",
       "      <th>SRNearElevator</th>\n",
       "      <th>SRAwayFromElevator</th>\n",
       "      <th>SRNoAlcoholInMiniBar</th>\n",
       "      <th>SRQuietRoom</th>\n",
       "      <th>TotalRevenue</th>\n",
       "    </tr>\n",
       "    <tr>\n",
       "      <th>ID</th>\n",
       "      <th></th>\n",
       "      <th></th>\n",
       "      <th></th>\n",
       "      <th></th>\n",
       "      <th></th>\n",
       "      <th></th>\n",
       "      <th></th>\n",
       "      <th></th>\n",
       "      <th></th>\n",
       "      <th></th>\n",
       "      <th></th>\n",
       "      <th></th>\n",
       "      <th></th>\n",
       "      <th></th>\n",
       "      <th></th>\n",
       "      <th></th>\n",
       "      <th></th>\n",
       "      <th></th>\n",
       "      <th></th>\n",
       "      <th></th>\n",
       "      <th></th>\n",
       "      <th></th>\n",
       "      <th></th>\n",
       "      <th></th>\n",
       "      <th></th>\n",
       "      <th></th>\n",
       "    </tr>\n",
       "  </thead>\n",
       "  <tbody>\n",
       "    <tr>\n",
       "      <th>27802</th>\n",
       "      <td>GBR</td>\n",
       "      <td>45.0</td>\n",
       "      <td>891</td>\n",
       "      <td>90</td>\n",
       "      <td>114.0</td>\n",
       "      <td>14.0</td>\n",
       "      <td>0</td>\n",
       "      <td>0</td>\n",
       "      <td>1</td>\n",
       "      <td>2</td>\n",
       "      <td>1</td>\n",
       "      <td>Travel Agent/Operator</td>\n",
       "      <td>0</td>\n",
       "      <td>1</td>\n",
       "      <td>0</td>\n",
       "      <td>1</td>\n",
       "      <td>0</td>\n",
       "      <td>0</td>\n",
       "      <td>0</td>\n",
       "      <td>0</td>\n",
       "      <td>0</td>\n",
       "      <td>0</td>\n",
       "      <td>0</td>\n",
       "      <td>0</td>\n",
       "      <td>1</td>\n",
       "      <td>128.0</td>\n",
       "    </tr>\n",
       "  </tbody>\n",
       "</table>\n",
       "</div>"
      ],
      "text/plain": [
       "      Nationality   Age  DaysSinceCreation  AverageLeadTime  LodgingRevenue  \\\n",
       "ID                                                                            \n",
       "27802         GBR  45.0                891               90           114.0   \n",
       "\n",
       "       OtherRevenue  BookingsCanceled  BookingsNoShowed  BookingsCheckedIn  \\\n",
       "ID                                                                           \n",
       "27802          14.0                 0                 0                  1   \n",
       "\n",
       "       PersonsNights  RoomNights    DistributionChannel  SRHighFloor  \\\n",
       "ID                                                                     \n",
       "27802              2           1  Travel Agent/Operator            0   \n",
       "\n",
       "       SRLowFloor  SRAccessibleRoom  SRMediumFloor  SRBathtub  SRShower  \\\n",
       "ID                                                                        \n",
       "27802           1                 0              1          0         0   \n",
       "\n",
       "       SRCrib  SRKingSizeBed  SRTwinBed  SRNearElevator  SRAwayFromElevator  \\\n",
       "ID                                                                            \n",
       "27802       0              0          0               0                   0   \n",
       "\n",
       "       SRNoAlcoholInMiniBar  SRQuietRoom  TotalRevenue  \n",
       "ID                                                      \n",
       "27802                     0            1         128.0  "
      ]
     },
     "execution_count": 75,
     "metadata": {},
     "output_type": "execute_result"
    }
   ],
   "source": [
    "Check3 = customers[(customers['SRHighFloor'] == 0) & (customers['SRLowFloor'] == 1) & (customers['SRMediumFloor'] == 1)]\n",
    "Check3"
   ]
  },
  {
   "cell_type": "code",
   "execution_count": 76,
   "metadata": {},
   "outputs": [],
   "source": [
    "# This just means that the customer does not ask for a specific floor\n",
    "# Check4 = customers[(customers['SRHighFloor'] == 0) & (customers['SRLowFloor'] == 0) & (customers['SRMediumFloor'] == 0)]\n",
    "# Check4"
   ]
  },
  {
   "cell_type": "markdown",
   "metadata": {},
   "source": [
    "Uncomment the code after we dealt with the costumers above and if everyone agrees"
   ]
  },
  {
   "cell_type": "code",
   "execution_count": 77,
   "metadata": {},
   "outputs": [],
   "source": [
    "def type_of_floor(row):\n",
    "     if row['SRMediumFloor'] == 1 and row['SRHighFloor'] == 1:\n",
    "         return 4\n",
    "     elif row['SRLowFloor'] == 1 and row['SRMediumFloor'] == 1:\n",
    "         return 4\n",
    "     elif row['SRLowFloor'] == 1:     # preference for lower floors\n",
    "         return 1\n",
    "     elif row['SRMediumFloor'] == 1: # preference for medium floors\n",
    "         return 2\n",
    "     elif row['SRHighFloor'] == 1:    # preference for higher floors\n",
    "         return 3\n",
    "     else:                           # no preference\n",
    "         return 0 \n",
    "\n",
    "\n",
    "\n",
    "customers['SRFloor'] = customers.apply(type_of_floor, axis=1)"
   ]
  },
  {
   "cell_type": "code",
   "execution_count": 78,
   "metadata": {},
   "outputs": [
    {
     "data": {
      "text/plain": [
       "SRFloor\n",
       "0    67735\n",
       "3     3016\n",
       "1       87\n",
       "2       45\n",
       "4        2\n",
       "Name: count, dtype: int64"
      ]
     },
     "execution_count": 78,
     "metadata": {},
     "output_type": "execute_result"
    }
   ],
   "source": [
    "customers['SRFloor'].value_counts()"
   ]
  },
  {
   "cell_type": "code",
   "execution_count": 79,
   "metadata": {},
   "outputs": [
    {
     "data": {
      "text/plain": [
       "SRFloor\n",
       "0    0.955562\n",
       "3    0.042548\n",
       "1    0.001227\n",
       "2    0.000635\n",
       "4    0.000028\n",
       "Name: proportion, dtype: float64"
      ]
     },
     "execution_count": 79,
     "metadata": {},
     "output_type": "execute_result"
    }
   ],
   "source": [
    "# Getting the percentage of every number in SRFloor\n",
    "customers['SRFloor'].value_counts(normalize=True)"
   ]
  },
  {
   "cell_type": "code",
   "execution_count": 80,
   "metadata": {},
   "outputs": [
    {
     "data": {
      "image/png": "[encoded data removed]",
      "text/plain": [
       "<Figure size 800x600 with 1 Axes>"
      ]
     },
     "metadata": {},
     "output_type": "display_data"
    }
   ],
   "source": [
    "# Plot of types of floors preference \n",
    "# This plot could get some improvements \n",
    "\n",
    "plt.figure(figsize=(8, 6))\n",
    "plt.hist(customers['SRFloor'], bins=np.arange(-0.5,5.5,1), weights=[1 / len(customers['SRFloor'])] * len(customers['SRFloor']))\n",
    "plt.title('Types of Floor Preference')\n",
    "plt.xticks(range(5))\n",
    "plt.xlabel('Type of Floor')\n",
    "plt.ylabel('%')\n",
    "plt.show()"
   ]
  },
  {
   "cell_type": "markdown",
   "metadata": {},
   "source": [
    "#### SRBathtubShower\n",
    "\n",
    "We are going to join these two features where:\n",
    "\n",
    "    If the client has no preference then its 0\n",
    "    If the client usually asks for a room with a bathtub then 1\n",
    "    If the client usually asks for a room with a shower then 2"
   ]
  },
  {
   "cell_type": "code",
   "execution_count": 81,
   "metadata": {},
   "outputs": [
    {
     "data": {
      "text/plain": [
       "SRBathtub\n",
       "0    70672\n",
       "1      213\n",
       "Name: count, dtype: int64"
      ]
     },
     "execution_count": 81,
     "metadata": {},
     "output_type": "execute_result"
    }
   ],
   "source": [
    "customers['SRBathtub'].value_counts()"
   ]
  },
  {
   "cell_type": "code",
   "execution_count": 82,
   "metadata": {},
   "outputs": [
    {
     "data": {
      "text/html": [
       "<div>\n",
       "<style scoped>\n",
       "    .dataframe tbody tr th:only-of-type {\n",
       "        vertical-align: middle;\n",
       "    }\n",
       "\n",
       "    .dataframe tbody tr th {\n",
       "        vertical-align: top;\n",
       "    }\n",
       "\n",
       "    .dataframe thead th {\n",
       "        text-align: right;\n",
       "    }\n",
       "</style>\n",
       "<table border=\"1\" class=\"dataframe\">\n",
       "  <thead>\n",
       "    <tr style=\"text-align: right;\">\n",
       "      <th></th>\n",
       "      <th>Nationality</th>\n",
       "      <th>Age</th>\n",
       "      <th>DaysSinceCreation</th>\n",
       "      <th>AverageLeadTime</th>\n",
       "      <th>LodgingRevenue</th>\n",
       "      <th>OtherRevenue</th>\n",
       "      <th>BookingsCanceled</th>\n",
       "      <th>BookingsNoShowed</th>\n",
       "      <th>BookingsCheckedIn</th>\n",
       "      <th>PersonsNights</th>\n",
       "      <th>RoomNights</th>\n",
       "      <th>DistributionChannel</th>\n",
       "      <th>SRHighFloor</th>\n",
       "      <th>SRLowFloor</th>\n",
       "      <th>SRAccessibleRoom</th>\n",
       "      <th>SRMediumFloor</th>\n",
       "      <th>SRBathtub</th>\n",
       "      <th>SRShower</th>\n",
       "      <th>SRCrib</th>\n",
       "      <th>SRKingSizeBed</th>\n",
       "      <th>SRTwinBed</th>\n",
       "      <th>SRNearElevator</th>\n",
       "      <th>SRAwayFromElevator</th>\n",
       "      <th>SRNoAlcoholInMiniBar</th>\n",
       "      <th>SRQuietRoom</th>\n",
       "      <th>TotalRevenue</th>\n",
       "      <th>SRFloor</th>\n",
       "    </tr>\n",
       "    <tr>\n",
       "      <th>ID</th>\n",
       "      <th></th>\n",
       "      <th></th>\n",
       "      <th></th>\n",
       "      <th></th>\n",
       "      <th></th>\n",
       "      <th></th>\n",
       "      <th></th>\n",
       "      <th></th>\n",
       "      <th></th>\n",
       "      <th></th>\n",
       "      <th></th>\n",
       "      <th></th>\n",
       "      <th></th>\n",
       "      <th></th>\n",
       "      <th></th>\n",
       "      <th></th>\n",
       "      <th></th>\n",
       "      <th></th>\n",
       "      <th></th>\n",
       "      <th></th>\n",
       "      <th></th>\n",
       "      <th></th>\n",
       "      <th></th>\n",
       "      <th></th>\n",
       "      <th></th>\n",
       "      <th></th>\n",
       "      <th></th>\n",
       "    </tr>\n",
       "  </thead>\n",
       "  <tbody>\n",
       "  </tbody>\n",
       "</table>\n",
       "</div>"
      ],
      "text/plain": [
       "Empty DataFrame\n",
       "Columns: [Nationality, Age, DaysSinceCreation, AverageLeadTime, LodgingRevenue, OtherRevenue, BookingsCanceled, BookingsNoShowed, BookingsCheckedIn, PersonsNights, RoomNights, DistributionChannel, SRHighFloor, SRLowFloor, SRAccessibleRoom, SRMediumFloor, SRBathtub, SRShower, SRCrib, SRKingSizeBed, SRTwinBed, SRNearElevator, SRAwayFromElevator, SRNoAlcoholInMiniBar, SRQuietRoom, TotalRevenue, SRFloor]\n",
       "Index: []"
      ]
     },
     "execution_count": 82,
     "metadata": {},
     "output_type": "execute_result"
    }
   ],
   "source": [
    "check1 = customers[(customers['SRBathtub'] == 1) & (customers['SRShower'] == 1)]\n",
    "check1"
   ]
  },
  {
   "cell_type": "code",
   "execution_count": 83,
   "metadata": {},
   "outputs": [],
   "source": [
    "def bathroom(row):\n",
    "    if row['SRBathtub'] == 0 and row['SRShower'] == 0:\n",
    "        return 0\n",
    "    elif row['SRBathtub'] == 1:\n",
    "        return 1\n",
    "    elif row['SRShower'] == 1:\n",
    "        return 2\n",
    "    else:\n",
    "        return 0\n",
    "    \n",
    "customers['SRBathroom'] = customers.apply(bathroom, axis=1)"
   ]
  },
  {
   "cell_type": "code",
   "execution_count": 84,
   "metadata": {},
   "outputs": [
    {
     "data": {
      "text/plain": [
       "SRBathroom\n",
       "0    70550\n",
       "1      213\n",
       "2      122\n",
       "Name: count, dtype: int64"
      ]
     },
     "execution_count": 84,
     "metadata": {},
     "output_type": "execute_result"
    }
   ],
   "source": [
    "customers['SRBathroom'].value_counts()"
   ]
  },
  {
   "cell_type": "code",
   "execution_count": 85,
   "metadata": {},
   "outputs": [
    {
     "data": {
      "image/png": "[encoded data removed]",
      "text/plain": [
       "<Figure size 1200x800 with 1 Axes>"
      ]
     },
     "metadata": {},
     "output_type": "display_data"
    },
    {
     "name": "stdout",
     "output_type": "stream",
     "text": [
      "99.53% of our costumers have no preference\n",
      "0.30% of our costumers ask for a bathtub\n",
      "0.30% of our costumers ask for a shower\n"
     ]
    }
   ],
   "source": [
    "plt.figure(figsize=(12, 8))\n",
    "plt.hist(customers['SRBathroom'], bins=[-0.5,0.5,1.5,2.5], color='blue', weights=[1 / len(customers['SRBathroom'])] * len(customers['SRBathroom']), edgecolor='black')\n",
    "plt.title('SRBathroom')\n",
    "plt.xlabel('SRBathroom')\n",
    "plt.ylabel('%')\n",
    "plt.xticks(range(3))\n",
    "plt.yticks([i/10 for i in range(11)])\n",
    "plt.xlim([-1, 3])\n",
    "plt.show()\n",
    "\n",
    "print(f'{len(customers[customers[\"SRBathroom\"]==0])/len(customers['SRBathroom'])*100:.2f}% of our costumers have no preference')\n",
    "print(f'{len(customers[customers[\"SRBathroom\"]==1])/len(customers['SRBathroom'])*100:.2f}% of our costumers ask for a bathtub')\n",
    "print(f'{len(customers[customers[\"SRBathroom\"]==1])/len(customers['SRBathroom'])*100:.2f}% of our costumers ask for a shower')"
   ]
  },
  {
   "cell_type": "markdown",
   "metadata": {},
   "source": [
    "#### SRCrib"
   ]
  },
  {
   "cell_type": "code",
   "execution_count": 86,
   "metadata": {},
   "outputs": [
    {
     "data": {
      "text/plain": [
       "SRCrib\n",
       "0    70146\n",
       "1      739\n",
       "Name: count, dtype: int64"
      ]
     },
     "execution_count": 86,
     "metadata": {},
     "output_type": "execute_result"
    }
   ],
   "source": [
    "customers['SRCrib'].value_counts()"
   ]
  },
  {
   "cell_type": "code",
   "execution_count": 87,
   "metadata": {},
   "outputs": [
    {
     "data": {
      "image/png": "[encoded data removed]",
      "text/plain": [
       "<Figure size 1200x800 with 1 Axes>"
      ]
     },
     "metadata": {},
     "output_type": "display_data"
    },
    {
     "name": "stdout",
     "output_type": "stream",
     "text": [
      "98.96% of our costumers do not ask for a crib\n",
      "1.04% of our costumers ask for a crib\n"
     ]
    }
   ],
   "source": [
    "plt.figure(figsize=(12, 8))\n",
    "plt.hist(customers['SRCrib'], bins=[-0.5, 0.5, 1.5], color='blue', weights=[1 / len(customers['SRCrib'])] * len(customers['SRCrib']), edgecolor='black')\n",
    "plt.title('SRCrib')\n",
    "plt.xlabel('SRCrib')\n",
    "plt.ylabel('%')\n",
    "plt.xticks(range(2))\n",
    "plt.yticks([i/10 for i in range(11)])\n",
    "plt.xlim([-1, 2])\n",
    "plt.show()\n",
    "\n",
    "print(f'{len(customers[customers[\"SRCrib\"]==0])/len(customers['SRCrib'])*100:.2f}% of our costumers do not ask for a crib')\n",
    "print(f'{len(customers[customers[\"SRCrib\"]==1])/len(customers['SRCrib'])*100:.2f}% of our costumers ask for a crib')"
   ]
  },
  {
   "cell_type": "markdown",
   "metadata": {},
   "source": [
    "#### Elevator\n",
    "\n",
    "We are going to join these two features where:\n",
    "\n",
    "    If the client has no preference then its 0\n",
    "    If the client usually asks for a room near the elevator then 1\n",
    "    If the client usually asks for a room away from the elevator then 2"
   ]
  },
  {
   "cell_type": "code",
   "execution_count": 88,
   "metadata": {},
   "outputs": [
    {
     "data": {
      "text/html": [
       "<div>\n",
       "<style scoped>\n",
       "    .dataframe tbody tr th:only-of-type {\n",
       "        vertical-align: middle;\n",
       "    }\n",
       "\n",
       "    .dataframe tbody tr th {\n",
       "        vertical-align: top;\n",
       "    }\n",
       "\n",
       "    .dataframe thead th {\n",
       "        text-align: right;\n",
       "    }\n",
       "</style>\n",
       "<table border=\"1\" class=\"dataframe\">\n",
       "  <thead>\n",
       "    <tr style=\"text-align: right;\">\n",
       "      <th></th>\n",
       "      <th>Nationality</th>\n",
       "      <th>Age</th>\n",
       "      <th>DaysSinceCreation</th>\n",
       "      <th>AverageLeadTime</th>\n",
       "      <th>LodgingRevenue</th>\n",
       "      <th>OtherRevenue</th>\n",
       "      <th>BookingsCanceled</th>\n",
       "      <th>BookingsNoShowed</th>\n",
       "      <th>BookingsCheckedIn</th>\n",
       "      <th>PersonsNights</th>\n",
       "      <th>RoomNights</th>\n",
       "      <th>DistributionChannel</th>\n",
       "      <th>SRHighFloor</th>\n",
       "      <th>SRLowFloor</th>\n",
       "      <th>SRAccessibleRoom</th>\n",
       "      <th>SRMediumFloor</th>\n",
       "      <th>SRBathtub</th>\n",
       "      <th>SRShower</th>\n",
       "      <th>SRCrib</th>\n",
       "      <th>SRKingSizeBed</th>\n",
       "      <th>SRTwinBed</th>\n",
       "      <th>SRNearElevator</th>\n",
       "      <th>SRAwayFromElevator</th>\n",
       "      <th>SRNoAlcoholInMiniBar</th>\n",
       "      <th>SRQuietRoom</th>\n",
       "      <th>TotalRevenue</th>\n",
       "      <th>SRFloor</th>\n",
       "      <th>SRBathroom</th>\n",
       "    </tr>\n",
       "    <tr>\n",
       "      <th>ID</th>\n",
       "      <th></th>\n",
       "      <th></th>\n",
       "      <th></th>\n",
       "      <th></th>\n",
       "      <th></th>\n",
       "      <th></th>\n",
       "      <th></th>\n",
       "      <th></th>\n",
       "      <th></th>\n",
       "      <th></th>\n",
       "      <th></th>\n",
       "      <th></th>\n",
       "      <th></th>\n",
       "      <th></th>\n",
       "      <th></th>\n",
       "      <th></th>\n",
       "      <th></th>\n",
       "      <th></th>\n",
       "      <th></th>\n",
       "      <th></th>\n",
       "      <th></th>\n",
       "      <th></th>\n",
       "      <th></th>\n",
       "      <th></th>\n",
       "      <th></th>\n",
       "      <th></th>\n",
       "      <th></th>\n",
       "      <th></th>\n",
       "    </tr>\n",
       "  </thead>\n",
       "  <tbody>\n",
       "  </tbody>\n",
       "</table>\n",
       "</div>"
      ],
      "text/plain": [
       "Empty DataFrame\n",
       "Columns: [Nationality, Age, DaysSinceCreation, AverageLeadTime, LodgingRevenue, OtherRevenue, BookingsCanceled, BookingsNoShowed, BookingsCheckedIn, PersonsNights, RoomNights, DistributionChannel, SRHighFloor, SRLowFloor, SRAccessibleRoom, SRMediumFloor, SRBathtub, SRShower, SRCrib, SRKingSizeBed, SRTwinBed, SRNearElevator, SRAwayFromElevator, SRNoAlcoholInMiniBar, SRQuietRoom, TotalRevenue, SRFloor, SRBathroom]\n",
       "Index: []"
      ]
     },
     "execution_count": 88,
     "metadata": {},
     "output_type": "execute_result"
    }
   ],
   "source": [
    "check1 = customers[(customers['SRNearElevator'] == 1) & (customers['SRAwayFromElevator'] == 1)]\n",
    "check1"
   ]
  },
  {
   "cell_type": "code",
   "execution_count": 89,
   "metadata": {},
   "outputs": [],
   "source": [
    "def elevator(row):\n",
    "    if row['SRNearElevator'] == 0 and row['SRAwayFromElevator'] == 0:\n",
    "        return 0\n",
    "    elif row['SRNearElevator'] == 1:\n",
    "        return 1\n",
    "    elif row['SRAwayFromElevator'] == 1:\n",
    "        return 2\n",
    "    else:\n",
    "        return 0"
   ]
  },
  {
   "cell_type": "code",
   "execution_count": 90,
   "metadata": {},
   "outputs": [],
   "source": [
    "customers['SRElevator'] = customers.apply(elevator, axis=1)"
   ]
  },
  {
   "cell_type": "code",
   "execution_count": 91,
   "metadata": {},
   "outputs": [
    {
     "data": {
      "text/plain": [
       "SRElevator\n",
       "0    70599\n",
       "2      262\n",
       "1       24\n",
       "Name: count, dtype: int64"
      ]
     },
     "execution_count": 91,
     "metadata": {},
     "output_type": "execute_result"
    }
   ],
   "source": [
    "customers['SRElevator'].value_counts()"
   ]
  },
  {
   "cell_type": "code",
   "execution_count": 92,
   "metadata": {},
   "outputs": [
    {
     "data": {
      "image/png": "[encoded data removed]",
      "text/plain": [
       "<Figure size 800x600 with 1 Axes>"
      ]
     },
     "metadata": {},
     "output_type": "display_data"
    },
    {
     "name": "stdout",
     "output_type": "stream",
     "text": [
      "99.60% of our costumers have no preference\n",
      "0.03% of our costumers prefere to have a elevator near\n",
      "0.37% of our costumers prefere to have a elevator away\n"
     ]
    }
   ],
   "source": [
    "plt.figure(figsize=(8, 6))\n",
    "plt.hist(customers['SRElevator'], bins=[-0.5,0.5,1.5,2.5], weights=[1 / len(customers['SRElevator'])] * len(customers['SRElevator']))\n",
    "plt.title('Elevator Preference')\n",
    "plt.xticks(range(3))\n",
    "plt.yticks([i/10 for i in range(11)])\n",
    "plt.xlabel('Preference')\n",
    "plt.ylabel('%')\n",
    "plt.show()\n",
    "\n",
    "print(f'{len(customers[customers['SRElevator']==0])/len(customers['SRElevator'])*100:.2f}% of our costumers have no preference')\n",
    "print(f'{len(customers[customers['SRElevator']==1])/len(customers['SRElevator'])*100:.2f}% of our costumers prefere to have a elevator near')\n",
    "print(f'{len(customers[customers['SRElevator']==2])/len(customers['SRElevator'])*100:.2f}% of our costumers prefere to have a elevator away')"
   ]
  },
  {
   "cell_type": "markdown",
   "metadata": {},
   "source": [
    "#### SRBed\n",
    "\n",
    "We are going to join these two features where:\n",
    "\n",
    "    If the client has no preference then its 0\n",
    "    If the client usually asks for a room with a King size bed then 1\n",
    "    If the client usually asks for a room with a twin bed then 2"
   ]
  },
  {
   "cell_type": "code",
   "execution_count": 93,
   "metadata": {},
   "outputs": [
    {
     "data": {
      "text/html": [
       "<div>\n",
       "<style scoped>\n",
       "    .dataframe tbody tr th:only-of-type {\n",
       "        vertical-align: middle;\n",
       "    }\n",
       "\n",
       "    .dataframe tbody tr th {\n",
       "        vertical-align: top;\n",
       "    }\n",
       "\n",
       "    .dataframe thead th {\n",
       "        text-align: right;\n",
       "    }\n",
       "</style>\n",
       "<table border=\"1\" class=\"dataframe\">\n",
       "  <thead>\n",
       "    <tr style=\"text-align: right;\">\n",
       "      <th></th>\n",
       "      <th>Nationality</th>\n",
       "      <th>Age</th>\n",
       "      <th>DaysSinceCreation</th>\n",
       "      <th>AverageLeadTime</th>\n",
       "      <th>LodgingRevenue</th>\n",
       "      <th>OtherRevenue</th>\n",
       "      <th>BookingsCanceled</th>\n",
       "      <th>BookingsNoShowed</th>\n",
       "      <th>BookingsCheckedIn</th>\n",
       "      <th>PersonsNights</th>\n",
       "      <th>RoomNights</th>\n",
       "      <th>DistributionChannel</th>\n",
       "      <th>SRHighFloor</th>\n",
       "      <th>SRLowFloor</th>\n",
       "      <th>SRAccessibleRoom</th>\n",
       "      <th>SRMediumFloor</th>\n",
       "      <th>SRBathtub</th>\n",
       "      <th>SRShower</th>\n",
       "      <th>SRCrib</th>\n",
       "      <th>SRKingSizeBed</th>\n",
       "      <th>SRTwinBed</th>\n",
       "      <th>SRNearElevator</th>\n",
       "      <th>SRAwayFromElevator</th>\n",
       "      <th>SRNoAlcoholInMiniBar</th>\n",
       "      <th>SRQuietRoom</th>\n",
       "      <th>TotalRevenue</th>\n",
       "      <th>SRFloor</th>\n",
       "      <th>SRBathroom</th>\n",
       "      <th>SRElevator</th>\n",
       "    </tr>\n",
       "    <tr>\n",
       "      <th>ID</th>\n",
       "      <th></th>\n",
       "      <th></th>\n",
       "      <th></th>\n",
       "      <th></th>\n",
       "      <th></th>\n",
       "      <th></th>\n",
       "      <th></th>\n",
       "      <th></th>\n",
       "      <th></th>\n",
       "      <th></th>\n",
       "      <th></th>\n",
       "      <th></th>\n",
       "      <th></th>\n",
       "      <th></th>\n",
       "      <th></th>\n",
       "      <th></th>\n",
       "      <th></th>\n",
       "      <th></th>\n",
       "      <th></th>\n",
       "      <th></th>\n",
       "      <th></th>\n",
       "      <th></th>\n",
       "      <th></th>\n",
       "      <th></th>\n",
       "      <th></th>\n",
       "      <th></th>\n",
       "      <th></th>\n",
       "      <th></th>\n",
       "      <th></th>\n",
       "    </tr>\n",
       "  </thead>\n",
       "  <tbody>\n",
       "    <tr>\n",
       "      <th>40214</th>\n",
       "      <td>DEU</td>\n",
       "      <td>64.0</td>\n",
       "      <td>713</td>\n",
       "      <td>79</td>\n",
       "      <td>285.30</td>\n",
       "      <td>162.5</td>\n",
       "      <td>0</td>\n",
       "      <td>0</td>\n",
       "      <td>1</td>\n",
       "      <td>6</td>\n",
       "      <td>3</td>\n",
       "      <td>Travel Agent/Operator</td>\n",
       "      <td>0</td>\n",
       "      <td>0</td>\n",
       "      <td>0</td>\n",
       "      <td>0</td>\n",
       "      <td>0</td>\n",
       "      <td>0</td>\n",
       "      <td>0</td>\n",
       "      <td>1</td>\n",
       "      <td>1</td>\n",
       "      <td>0</td>\n",
       "      <td>0</td>\n",
       "      <td>0</td>\n",
       "      <td>0</td>\n",
       "      <td>447.80</td>\n",
       "      <td>0</td>\n",
       "      <td>0</td>\n",
       "      <td>0</td>\n",
       "    </tr>\n",
       "    <tr>\n",
       "      <th>30341</th>\n",
       "      <td>DEU</td>\n",
       "      <td>50.0</td>\n",
       "      <td>855</td>\n",
       "      <td>28</td>\n",
       "      <td>109.00</td>\n",
       "      <td>523.5</td>\n",
       "      <td>0</td>\n",
       "      <td>0</td>\n",
       "      <td>1</td>\n",
       "      <td>2</td>\n",
       "      <td>1</td>\n",
       "      <td>Travel Agent/Operator</td>\n",
       "      <td>0</td>\n",
       "      <td>0</td>\n",
       "      <td>0</td>\n",
       "      <td>0</td>\n",
       "      <td>0</td>\n",
       "      <td>0</td>\n",
       "      <td>0</td>\n",
       "      <td>1</td>\n",
       "      <td>1</td>\n",
       "      <td>0</td>\n",
       "      <td>0</td>\n",
       "      <td>0</td>\n",
       "      <td>0</td>\n",
       "      <td>632.50</td>\n",
       "      <td>0</td>\n",
       "      <td>0</td>\n",
       "      <td>0</td>\n",
       "    </tr>\n",
       "    <tr>\n",
       "      <th>93777</th>\n",
       "      <td>BRA</td>\n",
       "      <td>64.0</td>\n",
       "      <td>182</td>\n",
       "      <td>183</td>\n",
       "      <td>1243.20</td>\n",
       "      <td>368.5</td>\n",
       "      <td>0</td>\n",
       "      <td>0</td>\n",
       "      <td>1</td>\n",
       "      <td>24</td>\n",
       "      <td>6</td>\n",
       "      <td>Travel Agent/Operator</td>\n",
       "      <td>0</td>\n",
       "      <td>0</td>\n",
       "      <td>0</td>\n",
       "      <td>0</td>\n",
       "      <td>0</td>\n",
       "      <td>0</td>\n",
       "      <td>0</td>\n",
       "      <td>1</td>\n",
       "      <td>1</td>\n",
       "      <td>0</td>\n",
       "      <td>0</td>\n",
       "      <td>0</td>\n",
       "      <td>0</td>\n",
       "      <td>1611.70</td>\n",
       "      <td>0</td>\n",
       "      <td>0</td>\n",
       "      <td>0</td>\n",
       "    </tr>\n",
       "    <tr>\n",
       "      <th>85947</th>\n",
       "      <td>CHN</td>\n",
       "      <td>53.0</td>\n",
       "      <td>257</td>\n",
       "      <td>11</td>\n",
       "      <td>205.83</td>\n",
       "      <td>48.0</td>\n",
       "      <td>0</td>\n",
       "      <td>0</td>\n",
       "      <td>1</td>\n",
       "      <td>6</td>\n",
       "      <td>2</td>\n",
       "      <td>Travel Agent/Operator</td>\n",
       "      <td>0</td>\n",
       "      <td>0</td>\n",
       "      <td>0</td>\n",
       "      <td>0</td>\n",
       "      <td>0</td>\n",
       "      <td>0</td>\n",
       "      <td>0</td>\n",
       "      <td>1</td>\n",
       "      <td>1</td>\n",
       "      <td>0</td>\n",
       "      <td>0</td>\n",
       "      <td>0</td>\n",
       "      <td>1</td>\n",
       "      <td>253.83</td>\n",
       "      <td>0</td>\n",
       "      <td>0</td>\n",
       "      <td>0</td>\n",
       "    </tr>\n",
       "    <tr>\n",
       "      <th>42661</th>\n",
       "      <td>BRA</td>\n",
       "      <td>57.0</td>\n",
       "      <td>661</td>\n",
       "      <td>41</td>\n",
       "      <td>1389.75</td>\n",
       "      <td>30.0</td>\n",
       "      <td>0</td>\n",
       "      <td>0</td>\n",
       "      <td>1</td>\n",
       "      <td>10</td>\n",
       "      <td>5</td>\n",
       "      <td>Travel Agent/Operator</td>\n",
       "      <td>0</td>\n",
       "      <td>0</td>\n",
       "      <td>0</td>\n",
       "      <td>0</td>\n",
       "      <td>0</td>\n",
       "      <td>0</td>\n",
       "      <td>0</td>\n",
       "      <td>1</td>\n",
       "      <td>1</td>\n",
       "      <td>0</td>\n",
       "      <td>0</td>\n",
       "      <td>0</td>\n",
       "      <td>0</td>\n",
       "      <td>1419.75</td>\n",
       "      <td>0</td>\n",
       "      <td>0</td>\n",
       "      <td>0</td>\n",
       "    </tr>\n",
       "    <tr>\n",
       "      <th>42714</th>\n",
       "      <td>CHN</td>\n",
       "      <td>46.0</td>\n",
       "      <td>659</td>\n",
       "      <td>24</td>\n",
       "      <td>981.00</td>\n",
       "      <td>150.0</td>\n",
       "      <td>0</td>\n",
       "      <td>0</td>\n",
       "      <td>1</td>\n",
       "      <td>6</td>\n",
       "      <td>3</td>\n",
       "      <td>Travel Agent/Operator</td>\n",
       "      <td>0</td>\n",
       "      <td>0</td>\n",
       "      <td>0</td>\n",
       "      <td>0</td>\n",
       "      <td>0</td>\n",
       "      <td>0</td>\n",
       "      <td>0</td>\n",
       "      <td>1</td>\n",
       "      <td>1</td>\n",
       "      <td>0</td>\n",
       "      <td>0</td>\n",
       "      <td>0</td>\n",
       "      <td>0</td>\n",
       "      <td>1131.00</td>\n",
       "      <td>0</td>\n",
       "      <td>0</td>\n",
       "      <td>0</td>\n",
       "    </tr>\n",
       "    <tr>\n",
       "      <th>17020</th>\n",
       "      <td>GBR</td>\n",
       "      <td>51.0</td>\n",
       "      <td>1088</td>\n",
       "      <td>18</td>\n",
       "      <td>564.00</td>\n",
       "      <td>43.0</td>\n",
       "      <td>0</td>\n",
       "      <td>0</td>\n",
       "      <td>1</td>\n",
       "      <td>8</td>\n",
       "      <td>2</td>\n",
       "      <td>Travel Agent/Operator</td>\n",
       "      <td>0</td>\n",
       "      <td>0</td>\n",
       "      <td>0</td>\n",
       "      <td>0</td>\n",
       "      <td>0</td>\n",
       "      <td>0</td>\n",
       "      <td>0</td>\n",
       "      <td>1</td>\n",
       "      <td>1</td>\n",
       "      <td>0</td>\n",
       "      <td>0</td>\n",
       "      <td>0</td>\n",
       "      <td>0</td>\n",
       "      <td>607.00</td>\n",
       "      <td>0</td>\n",
       "      <td>0</td>\n",
       "      <td>0</td>\n",
       "    </tr>\n",
       "    <tr>\n",
       "      <th>63382</th>\n",
       "      <td>BRA</td>\n",
       "      <td>51.0</td>\n",
       "      <td>463</td>\n",
       "      <td>101</td>\n",
       "      <td>238.00</td>\n",
       "      <td>4.0</td>\n",
       "      <td>0</td>\n",
       "      <td>0</td>\n",
       "      <td>1</td>\n",
       "      <td>4</td>\n",
       "      <td>2</td>\n",
       "      <td>Travel Agent/Operator</td>\n",
       "      <td>1</td>\n",
       "      <td>0</td>\n",
       "      <td>0</td>\n",
       "      <td>0</td>\n",
       "      <td>0</td>\n",
       "      <td>0</td>\n",
       "      <td>0</td>\n",
       "      <td>1</td>\n",
       "      <td>1</td>\n",
       "      <td>0</td>\n",
       "      <td>0</td>\n",
       "      <td>0</td>\n",
       "      <td>0</td>\n",
       "      <td>242.00</td>\n",
       "      <td>3</td>\n",
       "      <td>0</td>\n",
       "      <td>0</td>\n",
       "    </tr>\n",
       "    <tr>\n",
       "      <th>64642</th>\n",
       "      <td>DEU</td>\n",
       "      <td>54.0</td>\n",
       "      <td>453</td>\n",
       "      <td>171</td>\n",
       "      <td>282.00</td>\n",
       "      <td>48.0</td>\n",
       "      <td>0</td>\n",
       "      <td>0</td>\n",
       "      <td>1</td>\n",
       "      <td>4</td>\n",
       "      <td>2</td>\n",
       "      <td>Travel Agent/Operator</td>\n",
       "      <td>0</td>\n",
       "      <td>0</td>\n",
       "      <td>0</td>\n",
       "      <td>0</td>\n",
       "      <td>0</td>\n",
       "      <td>0</td>\n",
       "      <td>0</td>\n",
       "      <td>1</td>\n",
       "      <td>1</td>\n",
       "      <td>0</td>\n",
       "      <td>0</td>\n",
       "      <td>0</td>\n",
       "      <td>0</td>\n",
       "      <td>330.00</td>\n",
       "      <td>0</td>\n",
       "      <td>0</td>\n",
       "      <td>0</td>\n",
       "    </tr>\n",
       "    <tr>\n",
       "      <th>42185</th>\n",
       "      <td>ESP</td>\n",
       "      <td>54.0</td>\n",
       "      <td>677</td>\n",
       "      <td>20</td>\n",
       "      <td>1143.00</td>\n",
       "      <td>150.5</td>\n",
       "      <td>0</td>\n",
       "      <td>0</td>\n",
       "      <td>1</td>\n",
       "      <td>6</td>\n",
       "      <td>3</td>\n",
       "      <td>Travel Agent/Operator</td>\n",
       "      <td>0</td>\n",
       "      <td>0</td>\n",
       "      <td>0</td>\n",
       "      <td>0</td>\n",
       "      <td>0</td>\n",
       "      <td>0</td>\n",
       "      <td>0</td>\n",
       "      <td>1</td>\n",
       "      <td>1</td>\n",
       "      <td>0</td>\n",
       "      <td>0</td>\n",
       "      <td>0</td>\n",
       "      <td>1</td>\n",
       "      <td>1293.50</td>\n",
       "      <td>0</td>\n",
       "      <td>0</td>\n",
       "      <td>0</td>\n",
       "    </tr>\n",
       "  </tbody>\n",
       "</table>\n",
       "</div>"
      ],
      "text/plain": [
       "      Nationality   Age  DaysSinceCreation  AverageLeadTime  LodgingRevenue  \\\n",
       "ID                                                                            \n",
       "40214         DEU  64.0                713               79          285.30   \n",
       "30341         DEU  50.0                855               28          109.00   \n",
       "93777         BRA  64.0                182              183         1243.20   \n",
       "85947         CHN  53.0                257               11          205.83   \n",
       "42661         BRA  57.0                661               41         1389.75   \n",
       "42714         CHN  46.0                659               24          981.00   \n",
       "17020         GBR  51.0               1088               18          564.00   \n",
       "63382         BRA  51.0                463              101          238.00   \n",
       "64642         DEU  54.0                453              171          282.00   \n",
       "42185         ESP  54.0                677               20         1143.00   \n",
       "\n",
       "       OtherRevenue  BookingsCanceled  BookingsNoShowed  BookingsCheckedIn  \\\n",
       "ID                                                                           \n",
       "40214         162.5                 0                 0                  1   \n",
       "30341         523.5                 0                 0                  1   \n",
       "93777         368.5                 0                 0                  1   \n",
       "85947          48.0                 0                 0                  1   \n",
       "42661          30.0                 0                 0                  1   \n",
       "42714         150.0                 0                 0                  1   \n",
       "17020          43.0                 0                 0                  1   \n",
       "63382           4.0                 0                 0                  1   \n",
       "64642          48.0                 0                 0                  1   \n",
       "42185         150.5                 0                 0                  1   \n",
       "\n",
       "       PersonsNights  RoomNights    DistributionChannel  SRHighFloor  \\\n",
       "ID                                                                     \n",
       "40214              6           3  Travel Agent/Operator            0   \n",
       "30341              2           1  Travel Agent/Operator            0   \n",
       "93777             24           6  Travel Agent/Operator            0   \n",
       "85947              6           2  Travel Agent/Operator            0   \n",
       "42661             10           5  Travel Agent/Operator            0   \n",
       "42714              6           3  Travel Agent/Operator            0   \n",
       "17020              8           2  Travel Agent/Operator            0   \n",
       "63382              4           2  Travel Agent/Operator            1   \n",
       "64642              4           2  Travel Agent/Operator            0   \n",
       "42185              6           3  Travel Agent/Operator            0   \n",
       "\n",
       "       SRLowFloor  SRAccessibleRoom  SRMediumFloor  SRBathtub  SRShower  \\\n",
       "ID                                                                        \n",
       "40214           0                 0              0          0         0   \n",
       "30341           0                 0              0          0         0   \n",
       "93777           0                 0              0          0         0   \n",
       "85947           0                 0              0          0         0   \n",
       "42661           0                 0              0          0         0   \n",
       "42714           0                 0              0          0         0   \n",
       "17020           0                 0              0          0         0   \n",
       "63382           0                 0              0          0         0   \n",
       "64642           0                 0              0          0         0   \n",
       "42185           0                 0              0          0         0   \n",
       "\n",
       "       SRCrib  SRKingSizeBed  SRTwinBed  SRNearElevator  SRAwayFromElevator  \\\n",
       "ID                                                                            \n",
       "40214       0              1          1               0                   0   \n",
       "30341       0              1          1               0                   0   \n",
       "93777       0              1          1               0                   0   \n",
       "85947       0              1          1               0                   0   \n",
       "42661       0              1          1               0                   0   \n",
       "42714       0              1          1               0                   0   \n",
       "17020       0              1          1               0                   0   \n",
       "63382       0              1          1               0                   0   \n",
       "64642       0              1          1               0                   0   \n",
       "42185       0              1          1               0                   0   \n",
       "\n",
       "       SRNoAlcoholInMiniBar  SRQuietRoom  TotalRevenue  SRFloor  SRBathroom  \\\n",
       "ID                                                                            \n",
       "40214                     0            0        447.80        0           0   \n",
       "30341                     0            0        632.50        0           0   \n",
       "93777                     0            0       1611.70        0           0   \n",
       "85947                     0            1        253.83        0           0   \n",
       "42661                     0            0       1419.75        0           0   \n",
       "42714                     0            0       1131.00        0           0   \n",
       "17020                     0            0        607.00        0           0   \n",
       "63382                     0            0        242.00        3           0   \n",
       "64642                     0            0        330.00        0           0   \n",
       "42185                     0            1       1293.50        0           0   \n",
       "\n",
       "       SRElevator  \n",
       "ID                 \n",
       "40214           0  \n",
       "30341           0  \n",
       "93777           0  \n",
       "85947           0  \n",
       "42661           0  \n",
       "42714           0  \n",
       "17020           0  \n",
       "63382           0  \n",
       "64642           0  \n",
       "42185           0  "
      ]
     },
     "execution_count": 93,
     "metadata": {},
     "output_type": "execute_result"
    }
   ],
   "source": [
    "check1 = customers[(customers['SRKingSizeBed'] == 1) & (customers['SRTwinBed'] == 1)]\n",
    "check1.sample(10)"
   ]
  },
  {
   "cell_type": "markdown",
   "metadata": {},
   "source": [
    "Not sure what to do with this maybe create 3 category"
   ]
  },
  {
   "cell_type": "code",
   "execution_count": 94,
   "metadata": {},
   "outputs": [
    {
     "data": {
      "text/plain": [
       "Index(['Nationality', 'Age', 'DaysSinceCreation', 'AverageLeadTime',\n",
       "       'LodgingRevenue', 'OtherRevenue', 'BookingsCanceled',\n",
       "       'BookingsNoShowed', 'BookingsCheckedIn', 'PersonsNights', 'RoomNights',\n",
       "       'DistributionChannel', 'SRHighFloor', 'SRLowFloor', 'SRAccessibleRoom',\n",
       "       'SRMediumFloor', 'SRBathtub', 'SRShower', 'SRCrib', 'SRKingSizeBed',\n",
       "       'SRTwinBed', 'SRNearElevator', 'SRAwayFromElevator',\n",
       "       'SRNoAlcoholInMiniBar', 'SRQuietRoom', 'TotalRevenue', 'SRFloor',\n",
       "       'SRBathroom', 'SRElevator'],\n",
       "      dtype='object')"
      ]
     },
     "execution_count": 94,
     "metadata": {},
     "output_type": "execute_result"
    }
   ],
   "source": [
    "customers.columns"
   ]
  },
  {
   "cell_type": "markdown",
   "metadata": {},
   "source": []
  },
  {
   "cell_type": "markdown",
   "metadata": {},
   "source": [
    "#### No Alcohol in MiniBar"
   ]
  },
  {
   "cell_type": "code",
   "execution_count": 95,
   "metadata": {},
   "outputs": [
    {
     "data": {
      "text/plain": [
       "SRNoAlcoholInMiniBar\n",
       "0    70875\n",
       "1       10\n",
       "Name: count, dtype: int64"
      ]
     },
     "execution_count": 95,
     "metadata": {},
     "output_type": "execute_result"
    }
   ],
   "source": [
    "customers['SRNoAlcoholInMiniBar'].value_counts()"
   ]
  },
  {
   "cell_type": "code",
   "execution_count": 96,
   "metadata": {},
   "outputs": [
    {
     "data": {
      "image/png": "[encoded data removed]",
      "text/plain": [
       "<Figure size 1200x800 with 1 Axes>"
      ]
     },
     "metadata": {},
     "output_type": "display_data"
    },
    {
     "name": "stdout",
     "output_type": "stream",
     "text": [
      "99.99% of our costumers don't ask for no alcohol in the mini bar\n",
      "0.01% of our costumers ask for no Alcohol in Mini Bar\n"
     ]
    }
   ],
   "source": [
    "plt.figure(figsize=(12, 8))\n",
    "plt.hist(customers['SRNoAlcoholInMiniBar'], bins=[-0.5, 0.5, 1.5], color='blue', weights=[1 / len(customers['SRNoAlcoholInMiniBar'])] * len(customers['SRNoAlcoholInMiniBar']), edgecolor='black')\n",
    "plt.title('Alcohol in Mini Bar')\n",
    "plt.xlabel('Alcohol in Mini Bar')\n",
    "plt.ylabel('%')\n",
    "plt.xticks(range(2))\n",
    "plt.yticks([i/10 for i in range(11)])\n",
    "plt.xlim([-1, 2])\n",
    "plt.show()\n",
    "\n",
    "print(f\"{len(customers[customers[\"SRNoAlcoholInMiniBar\"]==0])/len(customers['SRNoAlcoholInMiniBar'])*100:.2f}% of our costumers don't ask for no alcohol in the mini bar\")\n",
    "print(f'{len(customers[customers[\"SRNoAlcoholInMiniBar\"]==1])/len(customers['SRNoAlcoholInMiniBar'])*100:.2f}% of our costumers ask for no Alcohol in Mini Bar')"
   ]
  },
  {
   "cell_type": "markdown",
   "metadata": {},
   "source": [
    "#### Quiet Room"
   ]
  },
  {
   "cell_type": "code",
   "execution_count": 97,
   "metadata": {},
   "outputs": [
    {
     "data": {
      "text/plain": [
       "SRQuietRoom\n",
       "0    64602\n",
       "1     6283\n",
       "Name: count, dtype: int64"
      ]
     },
     "execution_count": 97,
     "metadata": {},
     "output_type": "execute_result"
    }
   ],
   "source": [
    "customers['SRQuietRoom'].value_counts()"
   ]
  },
  {
   "cell_type": "code",
   "execution_count": 98,
   "metadata": {},
   "outputs": [
    {
     "data": {
      "image/png": "[encoded data removed]",
      "text/plain": [
       "<Figure size 1200x800 with 1 Axes>"
      ]
     },
     "metadata": {},
     "output_type": "display_data"
    },
    {
     "name": "stdout",
     "output_type": "stream",
     "text": [
      "91.14% of our costumers don't ask for a quieet room\n",
      "8.86% of our costumers ask for a quiet room\n"
     ]
    }
   ],
   "source": [
    "plt.figure(figsize=(12, 8))\n",
    "plt.hist(customers['SRQuietRoom'], bins=[-0.5, 0.5, 1.5], color='blue', weights=[1 / len(customers['SRQuietRoom'])] * len(customers['SRQuietRoom']), edgecolor='black')\n",
    "plt.title('Quiet Room')\n",
    "plt.xlabel('Quiet Room')\n",
    "plt.ylabel('%')\n",
    "plt.xticks(range(2))\n",
    "plt.yticks([i/10 for i in range(11)])\n",
    "plt.xlim([-1, 2])\n",
    "plt.show()\n",
    "\n",
    "print(f\"{len(customers[customers[\"SRQuietRoom\"]==0])/len(customers['SRQuietRoom'])*100:.2f}% of our costumers don't ask for a quieet room\")\n",
    "print(f'{len(customers[customers[\"SRQuietRoom\"]==1])/len(customers['SRQuietRoom'])*100:.2f}% of our costumers ask for a quiet room')"
   ]
  },
  {
   "cell_type": "markdown",
   "metadata": {},
   "source": [
    "# 1.6 Feature Engineering"
   ]
  },
  {
   "cell_type": "markdown",
   "metadata": {},
   "source": [
    "## 1.6.1 TotalSR"
   ]
  },
  {
   "cell_type": "code",
   "execution_count": 109,
   "metadata": {},
   "outputs": [
    {
     "data": {
      "text/html": [
       "<div>\n",
       "<style scoped>\n",
       "    .dataframe tbody tr th:only-of-type {\n",
       "        vertical-align: middle;\n",
       "    }\n",
       "\n",
       "    .dataframe tbody tr th {\n",
       "        vertical-align: top;\n",
       "    }\n",
       "\n",
       "    .dataframe thead th {\n",
       "        text-align: right;\n",
       "    }\n",
       "</style>\n",
       "<table border=\"1\" class=\"dataframe\">\n",
       "  <thead>\n",
       "    <tr style=\"text-align: right;\">\n",
       "      <th></th>\n",
       "      <th>Nationality</th>\n",
       "      <th>Age</th>\n",
       "      <th>DaysSinceCreation</th>\n",
       "      <th>AverageLeadTime</th>\n",
       "      <th>LodgingRevenue</th>\n",
       "      <th>OtherRevenue</th>\n",
       "      <th>BookingsCanceled</th>\n",
       "      <th>BookingsNoShowed</th>\n",
       "      <th>BookingsCheckedIn</th>\n",
       "      <th>PersonsNights</th>\n",
       "      <th>RoomNights</th>\n",
       "      <th>DistributionChannel</th>\n",
       "      <th>SRHighFloor</th>\n",
       "      <th>SRLowFloor</th>\n",
       "      <th>SRAccessibleRoom</th>\n",
       "      <th>SRMediumFloor</th>\n",
       "      <th>SRBathtub</th>\n",
       "      <th>SRShower</th>\n",
       "      <th>SRCrib</th>\n",
       "      <th>SRKingSizeBed</th>\n",
       "      <th>SRTwinBed</th>\n",
       "      <th>SRNearElevator</th>\n",
       "      <th>SRAwayFromElevator</th>\n",
       "      <th>SRNoAlcoholInMiniBar</th>\n",
       "      <th>SRQuietRoom</th>\n",
       "      <th>TotalRevenue</th>\n",
       "      <th>SRFloor</th>\n",
       "      <th>SRBathroom</th>\n",
       "      <th>SRElevator</th>\n",
       "      <th>TotalSR</th>\n",
       "    </tr>\n",
       "    <tr>\n",
       "      <th>ID</th>\n",
       "      <th></th>\n",
       "      <th></th>\n",
       "      <th></th>\n",
       "      <th></th>\n",
       "      <th></th>\n",
       "      <th></th>\n",
       "      <th></th>\n",
       "      <th></th>\n",
       "      <th></th>\n",
       "      <th></th>\n",
       "      <th></th>\n",
       "      <th></th>\n",
       "      <th></th>\n",
       "      <th></th>\n",
       "      <th></th>\n",
       "      <th></th>\n",
       "      <th></th>\n",
       "      <th></th>\n",
       "      <th></th>\n",
       "      <th></th>\n",
       "      <th></th>\n",
       "      <th></th>\n",
       "      <th></th>\n",
       "      <th></th>\n",
       "      <th></th>\n",
       "      <th></th>\n",
       "      <th></th>\n",
       "      <th></th>\n",
       "      <th></th>\n",
       "      <th></th>\n",
       "    </tr>\n",
       "  </thead>\n",
       "  <tbody>\n",
       "    <tr>\n",
       "      <th>1</th>\n",
       "      <td>PRT</td>\n",
       "      <td>52.0</td>\n",
       "      <td>440</td>\n",
       "      <td>59</td>\n",
       "      <td>292.0</td>\n",
       "      <td>82.3</td>\n",
       "      <td>1</td>\n",
       "      <td>0</td>\n",
       "      <td>2</td>\n",
       "      <td>6</td>\n",
       "      <td>4</td>\n",
       "      <td>Corporate</td>\n",
       "      <td>0</td>\n",
       "      <td>0</td>\n",
       "      <td>0</td>\n",
       "      <td>0</td>\n",
       "      <td>0</td>\n",
       "      <td>0</td>\n",
       "      <td>0</td>\n",
       "      <td>0</td>\n",
       "      <td>0</td>\n",
       "      <td>0</td>\n",
       "      <td>0</td>\n",
       "      <td>0</td>\n",
       "      <td>0</td>\n",
       "      <td>374.3</td>\n",
       "      <td>0</td>\n",
       "      <td>0</td>\n",
       "      <td>0</td>\n",
       "      <td>0</td>\n",
       "    </tr>\n",
       "    <tr>\n",
       "      <th>4</th>\n",
       "      <td>FRA</td>\n",
       "      <td>61.0</td>\n",
       "      <td>1385</td>\n",
       "      <td>93</td>\n",
       "      <td>240.0</td>\n",
       "      <td>60.0</td>\n",
       "      <td>0</td>\n",
       "      <td>0</td>\n",
       "      <td>1</td>\n",
       "      <td>10</td>\n",
       "      <td>5</td>\n",
       "      <td>Travel Agent/Operator</td>\n",
       "      <td>0</td>\n",
       "      <td>0</td>\n",
       "      <td>0</td>\n",
       "      <td>0</td>\n",
       "      <td>0</td>\n",
       "      <td>0</td>\n",
       "      <td>0</td>\n",
       "      <td>0</td>\n",
       "      <td>0</td>\n",
       "      <td>0</td>\n",
       "      <td>0</td>\n",
       "      <td>0</td>\n",
       "      <td>0</td>\n",
       "      <td>300.0</td>\n",
       "      <td>0</td>\n",
       "      <td>0</td>\n",
       "      <td>0</td>\n",
       "      <td>0</td>\n",
       "    </tr>\n",
       "    <tr>\n",
       "      <th>6</th>\n",
       "      <td>JPN</td>\n",
       "      <td>55.0</td>\n",
       "      <td>1385</td>\n",
       "      <td>58</td>\n",
       "      <td>230.0</td>\n",
       "      <td>24.0</td>\n",
       "      <td>0</td>\n",
       "      <td>0</td>\n",
       "      <td>1</td>\n",
       "      <td>4</td>\n",
       "      <td>2</td>\n",
       "      <td>Travel Agent/Operator</td>\n",
       "      <td>0</td>\n",
       "      <td>0</td>\n",
       "      <td>0</td>\n",
       "      <td>0</td>\n",
       "      <td>0</td>\n",
       "      <td>0</td>\n",
       "      <td>0</td>\n",
       "      <td>0</td>\n",
       "      <td>0</td>\n",
       "      <td>0</td>\n",
       "      <td>0</td>\n",
       "      <td>0</td>\n",
       "      <td>0</td>\n",
       "      <td>254.0</td>\n",
       "      <td>0</td>\n",
       "      <td>0</td>\n",
       "      <td>0</td>\n",
       "      <td>0</td>\n",
       "    </tr>\n",
       "    <tr>\n",
       "      <th>8</th>\n",
       "      <td>FRA</td>\n",
       "      <td>33.0</td>\n",
       "      <td>1385</td>\n",
       "      <td>38</td>\n",
       "      <td>535.0</td>\n",
       "      <td>94.0</td>\n",
       "      <td>0</td>\n",
       "      <td>0</td>\n",
       "      <td>1</td>\n",
       "      <td>10</td>\n",
       "      <td>5</td>\n",
       "      <td>Travel Agent/Operator</td>\n",
       "      <td>0</td>\n",
       "      <td>0</td>\n",
       "      <td>0</td>\n",
       "      <td>0</td>\n",
       "      <td>0</td>\n",
       "      <td>0</td>\n",
       "      <td>0</td>\n",
       "      <td>1</td>\n",
       "      <td>0</td>\n",
       "      <td>0</td>\n",
       "      <td>0</td>\n",
       "      <td>0</td>\n",
       "      <td>0</td>\n",
       "      <td>629.0</td>\n",
       "      <td>0</td>\n",
       "      <td>0</td>\n",
       "      <td>0</td>\n",
       "      <td>1</td>\n",
       "    </tr>\n",
       "    <tr>\n",
       "      <th>10</th>\n",
       "      <td>IRL</td>\n",
       "      <td>26.0</td>\n",
       "      <td>1385</td>\n",
       "      <td>96</td>\n",
       "      <td>174.0</td>\n",
       "      <td>69.0</td>\n",
       "      <td>0</td>\n",
       "      <td>0</td>\n",
       "      <td>1</td>\n",
       "      <td>6</td>\n",
       "      <td>3</td>\n",
       "      <td>Travel Agent/Operator</td>\n",
       "      <td>0</td>\n",
       "      <td>0</td>\n",
       "      <td>0</td>\n",
       "      <td>0</td>\n",
       "      <td>0</td>\n",
       "      <td>0</td>\n",
       "      <td>0</td>\n",
       "      <td>0</td>\n",
       "      <td>0</td>\n",
       "      <td>0</td>\n",
       "      <td>0</td>\n",
       "      <td>0</td>\n",
       "      <td>0</td>\n",
       "      <td>243.0</td>\n",
       "      <td>0</td>\n",
       "      <td>0</td>\n",
       "      <td>0</td>\n",
       "      <td>0</td>\n",
       "    </tr>\n",
       "  </tbody>\n",
       "</table>\n",
       "</div>"
      ],
      "text/plain": [
       "   Nationality   Age  DaysSinceCreation  AverageLeadTime  LodgingRevenue  \\\n",
       "ID                                                                         \n",
       "1          PRT  52.0                440               59           292.0   \n",
       "4          FRA  61.0               1385               93           240.0   \n",
       "6          JPN  55.0               1385               58           230.0   \n",
       "8          FRA  33.0               1385               38           535.0   \n",
       "10         IRL  26.0               1385               96           174.0   \n",
       "\n",
       "    OtherRevenue  BookingsCanceled  BookingsNoShowed  BookingsCheckedIn  \\\n",
       "ID                                                                        \n",
       "1           82.3                 1                 0                  2   \n",
       "4           60.0                 0                 0                  1   \n",
       "6           24.0                 0                 0                  1   \n",
       "8           94.0                 0                 0                  1   \n",
       "10          69.0                 0                 0                  1   \n",
       "\n",
       "    PersonsNights  RoomNights    DistributionChannel  SRHighFloor  SRLowFloor  \\\n",
       "ID                                                                              \n",
       "1               6           4              Corporate            0           0   \n",
       "4              10           5  Travel Agent/Operator            0           0   \n",
       "6               4           2  Travel Agent/Operator            0           0   \n",
       "8              10           5  Travel Agent/Operator            0           0   \n",
       "10              6           3  Travel Agent/Operator            0           0   \n",
       "\n",
       "    SRAccessibleRoom  SRMediumFloor  SRBathtub  SRShower  SRCrib  \\\n",
       "ID                                                                 \n",
       "1                  0              0          0         0       0   \n",
       "4                  0              0          0         0       0   \n",
       "6                  0              0          0         0       0   \n",
       "8                  0              0          0         0       0   \n",
       "10                 0              0          0         0       0   \n",
       "\n",
       "    SRKingSizeBed  SRTwinBed  SRNearElevator  SRAwayFromElevator  \\\n",
       "ID                                                                 \n",
       "1               0          0               0                   0   \n",
       "4               0          0               0                   0   \n",
       "6               0          0               0                   0   \n",
       "8               1          0               0                   0   \n",
       "10              0          0               0                   0   \n",
       "\n",
       "    SRNoAlcoholInMiniBar  SRQuietRoom  TotalRevenue  SRFloor  SRBathroom  \\\n",
       "ID                                                                         \n",
       "1                      0            0         374.3        0           0   \n",
       "4                      0            0         300.0        0           0   \n",
       "6                      0            0         254.0        0           0   \n",
       "8                      0            0         629.0        0           0   \n",
       "10                     0            0         243.0        0           0   \n",
       "\n",
       "    SRElevator  TotalSR  \n",
       "ID                       \n",
       "1            0        0  \n",
       "4            0        0  \n",
       "6            0        0  \n",
       "8            0        1  \n",
       "10           0        0  "
      ]
     },
     "execution_count": 109,
     "metadata": {},
     "output_type": "execute_result"
    }
   ],
   "source": [
    "customers.head()"
   ]
  },
  {
   "cell_type": "code",
   "execution_count": 112,
   "metadata": {},
   "outputs": [
    {
     "data": {
      "text/plain": [
       "TotalSR\n",
       "0    32083\n",
       "1    31525\n",
       "2     6622\n",
       "3      606\n",
       "4       43\n",
       "Name: count, dtype: int64"
      ]
     },
     "execution_count": 112,
     "metadata": {},
     "output_type": "execute_result"
    }
   ],
   "source": [
    "# List of columns to exclude\n",
    "exclude_columns = ['SRFloor', 'SRBathroom', 'SRElevator']\n",
    "\n",
    "# Filter columns that start with 'SR' and are not in the exclude list\n",
    "sr_columns_to_sum = [col for col in customers.columns if col.startswith('SR') and col not in exclude_columns]\n",
    "\n",
    "# Create the TotalSR column by summing the filtered SR columns\n",
    "customers['TotalSR'] = customers[sr_columns_to_sum].sum(axis=1)\n",
    "\n",
    "customers['TotalSR'].value_counts()"
   ]
  },
  {
   "cell_type": "code",
   "execution_count": 114,
   "metadata": {},
   "outputs": [
    {
     "data": {
      "text/plain": [
       "count    70879.000000\n",
       "mean         0.659702\n",
       "std          0.685518\n",
       "min          0.000000\n",
       "25%          0.000000\n",
       "50%          1.000000\n",
       "75%          1.000000\n",
       "max          4.000000\n",
       "Name: TotalSR, dtype: float64"
      ]
     },
     "execution_count": 114,
     "metadata": {},
     "output_type": "execute_result"
    }
   ],
   "source": [
    "customers['TotalSR'].describe()"
   ]
  },
  {
   "cell_type": "code",
   "execution_count": 117,
   "metadata": {},
   "outputs": [
    {
     "data": {
      "image/png": "[encoded data removed]",
      "text/plain": [
       "<Figure size 1200x400 with 1 Axes>"
      ]
     },
     "metadata": {},
     "output_type": "display_data"
    }
   ],
   "source": [
    "# Make a bar plot of the TotalSR\n",
    "plt.figure(figsize=(12, 4))\n",
    "plt.hist(customers['TotalSR'], bins=np.arange(-0.5, 7.5, 1), color='green', edgecolor='black')\n",
    "plt.title('Total Special Requests')\n",
    "plt.xlabel('Total Special Requests')\n",
    "plt.ylabel('Frequency')\n",
    "plt.xticks(range(8))\n",
    "plt.show()"
   ]
  },
  {
   "cell_type": "markdown",
   "metadata": {},
   "source": [
    "## 1.6.2 CancelationRate"
   ]
  },
  {
   "cell_type": "code",
   "execution_count": 118,
   "metadata": {},
   "outputs": [
    {
     "data": {
      "text/plain": [
       "['BookingsCanceled', 'BookingsNoShowed', 'BookingsCheckedIn']"
      ]
     },
     "execution_count": 118,
     "metadata": {},
     "output_type": "execute_result"
    }
   ],
   "source": [
    "# get variables starting with Booking\n",
    "booking_columns = [col for col in customers.columns if col.startswith('Booking')]\n",
    "booking_columns"
   ]
  },
  {
   "cell_type": "code",
   "execution_count": null,
   "metadata": {},
   "outputs": [],
   "source": [
    "# Create a new column called cancelation rate which is the ratio of bookings canceled to total bookings\n",
    "customers['CancelationRate'] = customers['BookingsCanceled'] / (customers['BookingsCanceled'] + customers['BookingsCheckedIn'] + customers['BookingsNoShowed'])"
   ]
  },
  {
   "cell_type": "code",
   "execution_count": 121,
   "metadata": {},
   "outputs": [
    {
     "data": {
      "text/plain": [
       "count    70879.000000\n",
       "mean         0.000317\n",
       "std          0.011186\n",
       "min          0.000000\n",
       "25%          0.000000\n",
       "50%          0.000000\n",
       "75%          0.000000\n",
       "max          0.666667\n",
       "Name: CancelationRate, dtype: float64"
      ]
     },
     "execution_count": 121,
     "metadata": {},
     "output_type": "execute_result"
    }
   ],
   "source": [
    "customers['CancelationRate'].describe()"
   ]
  },
  {
   "cell_type": "markdown",
   "metadata": {},
   "source": [
    "## 1.6.3 RevenuePerNight"
   ]
  },
  {
   "cell_type": "code",
   "execution_count": 122,
   "metadata": {},
   "outputs": [],
   "source": [
    "#CREATE VARIABLE REVENUE PER NIGHT\n",
    "customers['RevenuePerNight'] = (customers['LodgingRevenue'] + customers['OtherRevenue']) / customers['RoomNights']"
   ]
  },
  {
   "cell_type": "code",
   "execution_count": 123,
   "metadata": {},
   "outputs": [
    {
     "data": {
      "text/plain": [
       "count    70879.000000\n",
       "mean       160.627436\n",
       "std        103.551277\n",
       "min          0.333333\n",
       "25%        106.000000\n",
       "50%        135.000000\n",
       "75%        174.500000\n",
       "max       2394.200000\n",
       "Name: RevenuePerNight, dtype: float64"
      ]
     },
     "execution_count": 123,
     "metadata": {},
     "output_type": "execute_result"
    }
   ],
   "source": [
    "customers['RevenuePerNight'].describe()"
   ]
  },
  {
   "cell_type": "markdown",
   "metadata": {},
   "source": [
    "## 1.6.4 Location"
   ]
  },
  {
   "cell_type": "code",
   "execution_count": 146,
   "metadata": {},
   "outputs": [
    {
     "data": {
      "text/plain": [
       "Location\n",
       "Europe            19443\n",
       "RestOfTheWorld    11781\n",
       "FRA               11037\n",
       "DEU               10058\n",
       "GBR                7724\n",
       "PRT                6564\n",
       "ESP                4272\n",
       "Name: count, dtype: int64"
      ]
     },
     "execution_count": 146,
     "metadata": {},
     "output_type": "execute_result"
    }
   ],
   "source": [
    "#CREATE VARIABLE CONTINENT TO GROUP THE DIFFERENT NATIONALITIES, KEEPING THE MOST COMMON NATIONALITIES\n",
    "#GENERATED WITH CHATGPT\n",
    "import pycountry_convert as pc\n",
    "\n",
    "excluded_countries = {'FRA', 'DEU', 'PRT', 'GBR', 'ESP'}\n",
    "\n",
    "def get_continent(alpha3_code):\n",
    "    try:\n",
    "        if alpha3_code in excluded_countries:\n",
    "            return alpha3_code\n",
    "        country = pc.country_alpha3_to_country_alpha2(alpha3_code)\n",
    "        continent_code = pc.country_alpha2_to_continent_code(country)\n",
    "        if continent_code == 'EU':\n",
    "            return 'Europe'\n",
    "        return 'RestOfTheWorld'\n",
    "    except KeyError:\n",
    "        return 'RestOfTheWorld'\n",
    "\n",
    "customers['Location'] = customers['Nationality'].apply(lambda x: get_continent(x))\n",
    "\n",
    "customers['Location'].value_counts()"
   ]
  },
  {
   "cell_type": "code",
   "execution_count": 149,
   "metadata": {},
   "outputs": [
    {
     "data": {
      "image/png": "[encoded data removed]",
      "text/plain": [
       "<Figure size 800x800 with 1 Axes>"
      ]
     },
     "metadata": {},
     "output_type": "display_data"
    }
   ],
   "source": [
    "\n",
    "#SEE THE DISTRIBUITION WITH A PIE CHART\n",
    "plt.figure(figsize=(8, 8))\n",
    "plt.pie(customers['Location'].value_counts(), labels=customers['Location'].value_counts().index, autopct='%1.1f%%', startangle=140)\n",
    "plt.title('Location Distribution')\n",
    "plt.show()"
   ]
  },
  {
   "cell_type": "code",
   "execution_count": 150,
   "metadata": {},
   "outputs": [
    {
     "data": {
      "image/png": "[encoded data removed]",
      "text/plain": [
       "<Figure size 640x480 with 1 Axes>"
      ]
     },
     "metadata": {},
     "output_type": "display_data"
    }
   ],
   "source": [
    "#SEE THE DISTRIBUTION OF THE VARIABLE\n",
    "plt.hist(customers['Location'], bins=30, edgecolor='black')\n",
    "plt.title('Distribution of Location')\n",
    "plt.xlabel('Location')\n",
    "plt.ylabel('Frequency')\n",
    "plt.show()"
   ]
  },
  {
   "cell_type": "code",
   "execution_count": null,
   "metadata": {},
   "outputs": [],
   "source": []
  }
 ],
 "metadata": {
  "kernelspec": {
   "display_name": "DM2425",
   "language": "python",
   "name": "python3"
  },
  "language_info": {
   "codemirror_mode": {
    "name": "ipython",
    "version": 3
   },
   "file_extension": ".py",
   "mimetype": "text/x-python",
   "name": "python",
   "nbconvert_exporter": "python",
   "pygments_lexer": "ipython3",
   "version": "3.12.2"
  }
 },
 "nbformat": 4,
 "nbformat_minor": 2
}
