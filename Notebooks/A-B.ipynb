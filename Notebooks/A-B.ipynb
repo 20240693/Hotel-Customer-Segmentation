{
 "cells": [
  {
   "cell_type": "markdown",
   "metadata": {},
   "source": [
    "# 1. Data Exploration"
   ]
  },
  {
   "cell_type": "markdown",
   "metadata": {},
   "source": [
    " ## 1.1. Imports"
   ]
  },
  {
   "cell_type": "code",
   "execution_count": 8,
   "metadata": {},
   "outputs": [],
   "source": [
    "import numpy as np\n",
    "import pandas as pd\n",
    "import matplotlib.pyplot as plt\n",
    "import seaborn as sns\n",
    "\n",
    "# Set display options to show all rows\n",
    "pd.set_option('display.max_rows', None)\n",
    "\n",
    "# Set display options to show all columns\n",
    "pd.set_option('display.max_columns', None)"
   ]
  },
  {
   "cell_type": "markdown",
   "metadata": {},
   "source": [
    "## 1.2 Loading Data"
   ]
  },
  {
   "cell_type": "code",
   "execution_count": 9,
   "metadata": {},
   "outputs": [],
   "source": [
    "data = pd.read_csv(\"../Data/Case1_HotelCustomerSegmentation.csv\", sep=\";\")"
   ]
  },
  {
   "cell_type": "code",
   "execution_count": 10,
   "metadata": {},
   "outputs": [
    {
     "data": {
      "text/html": [
       "<div>\n",
       "<style scoped>\n",
       "    .dataframe tbody tr th:only-of-type {\n",
       "        vertical-align: middle;\n",
       "    }\n",
       "\n",
       "    .dataframe tbody tr th {\n",
       "        vertical-align: top;\n",
       "    }\n",
       "\n",
       "    .dataframe thead th {\n",
       "        text-align: right;\n",
       "    }\n",
       "</style>\n",
       "<table border=\"1\" class=\"dataframe\">\n",
       "  <thead>\n",
       "    <tr style=\"text-align: right;\">\n",
       "      <th></th>\n",
       "      <th>ID</th>\n",
       "      <th>Nationality</th>\n",
       "      <th>Age</th>\n",
       "      <th>DaysSinceCreation</th>\n",
       "      <th>NameHash</th>\n",
       "      <th>DocIDHash</th>\n",
       "      <th>AverageLeadTime</th>\n",
       "      <th>LodgingRevenue</th>\n",
       "      <th>OtherRevenue</th>\n",
       "      <th>BookingsCanceled</th>\n",
       "      <th>BookingsNoShowed</th>\n",
       "      <th>BookingsCheckedIn</th>\n",
       "      <th>PersonsNights</th>\n",
       "      <th>RoomNights</th>\n",
       "      <th>DistributionChannel</th>\n",
       "      <th>MarketSegment</th>\n",
       "      <th>SRHighFloor</th>\n",
       "      <th>SRLowFloor</th>\n",
       "      <th>SRAccessibleRoom</th>\n",
       "      <th>SRMediumFloor</th>\n",
       "      <th>SRBathtub</th>\n",
       "      <th>SRShower</th>\n",
       "      <th>SRCrib</th>\n",
       "      <th>SRKingSizeBed</th>\n",
       "      <th>SRTwinBed</th>\n",
       "      <th>SRNearElevator</th>\n",
       "      <th>SRAwayFromElevator</th>\n",
       "      <th>SRNoAlcoholInMiniBar</th>\n",
       "      <th>SRQuietRoom</th>\n",
       "    </tr>\n",
       "  </thead>\n",
       "  <tbody>\n",
       "    <tr>\n",
       "      <th>32960</th>\n",
       "      <td>32961</td>\n",
       "      <td>NOR</td>\n",
       "      <td>20.0</td>\n",
       "      <td>817</td>\n",
       "      <td>0x4CF7F7F0FA91B5EB16A8D1807C8C834F2D95D1021A94...</td>\n",
       "      <td>0x82C8ACC3313BA69B6F0BB695D676E83B0FF129771322...</td>\n",
       "      <td>189</td>\n",
       "      <td>295.2</td>\n",
       "      <td>164.0</td>\n",
       "      <td>0</td>\n",
       "      <td>0</td>\n",
       "      <td>1</td>\n",
       "      <td>8</td>\n",
       "      <td>2</td>\n",
       "      <td>Direct</td>\n",
       "      <td>Direct</td>\n",
       "      <td>0</td>\n",
       "      <td>0</td>\n",
       "      <td>0</td>\n",
       "      <td>0</td>\n",
       "      <td>0</td>\n",
       "      <td>0</td>\n",
       "      <td>0</td>\n",
       "      <td>0</td>\n",
       "      <td>0</td>\n",
       "      <td>0</td>\n",
       "      <td>0</td>\n",
       "      <td>0</td>\n",
       "      <td>0</td>\n",
       "    </tr>\n",
       "    <tr>\n",
       "      <th>32069</th>\n",
       "      <td>32070</td>\n",
       "      <td>DEU</td>\n",
       "      <td>59.0</td>\n",
       "      <td>830</td>\n",
       "      <td>0x59684A037D012B7F11B7EF023491B5B19C51A9052514...</td>\n",
       "      <td>0x337132AF46188EEDEEE019F0E53067841D1CB54617F8...</td>\n",
       "      <td>237</td>\n",
       "      <td>415.8</td>\n",
       "      <td>63.0</td>\n",
       "      <td>0</td>\n",
       "      <td>0</td>\n",
       "      <td>1</td>\n",
       "      <td>9</td>\n",
       "      <td>3</td>\n",
       "      <td>Travel Agent/Operator</td>\n",
       "      <td>Other</td>\n",
       "      <td>0</td>\n",
       "      <td>0</td>\n",
       "      <td>0</td>\n",
       "      <td>0</td>\n",
       "      <td>0</td>\n",
       "      <td>0</td>\n",
       "      <td>0</td>\n",
       "      <td>0</td>\n",
       "      <td>1</td>\n",
       "      <td>0</td>\n",
       "      <td>0</td>\n",
       "      <td>0</td>\n",
       "      <td>0</td>\n",
       "    </tr>\n",
       "    <tr>\n",
       "      <th>78422</th>\n",
       "      <td>78423</td>\n",
       "      <td>PRT</td>\n",
       "      <td>NaN</td>\n",
       "      <td>351</td>\n",
       "      <td>0xC2C334C26C9B93A82410CA44F6CA38FA54D55CF42D79...</td>\n",
       "      <td>0x9B4B6C94757081E096FCE48314EC722AEE1D64D9FB14...</td>\n",
       "      <td>0</td>\n",
       "      <td>0.0</td>\n",
       "      <td>0.0</td>\n",
       "      <td>0</td>\n",
       "      <td>0</td>\n",
       "      <td>0</td>\n",
       "      <td>0</td>\n",
       "      <td>0</td>\n",
       "      <td>Direct</td>\n",
       "      <td>Direct</td>\n",
       "      <td>0</td>\n",
       "      <td>0</td>\n",
       "      <td>0</td>\n",
       "      <td>0</td>\n",
       "      <td>0</td>\n",
       "      <td>0</td>\n",
       "      <td>0</td>\n",
       "      <td>0</td>\n",
       "      <td>0</td>\n",
       "      <td>0</td>\n",
       "      <td>0</td>\n",
       "      <td>0</td>\n",
       "      <td>0</td>\n",
       "    </tr>\n",
       "    <tr>\n",
       "      <th>104323</th>\n",
       "      <td>104324</td>\n",
       "      <td>BEL</td>\n",
       "      <td>45.0</td>\n",
       "      <td>95</td>\n",
       "      <td>0x78150342F2F44C14DA45033472165079A99A65B8A1E3...</td>\n",
       "      <td>0xD499EC6646448B7C8500B68B7F63B073D2E1177B24CA...</td>\n",
       "      <td>171</td>\n",
       "      <td>524.4</td>\n",
       "      <td>180.0</td>\n",
       "      <td>0</td>\n",
       "      <td>0</td>\n",
       "      <td>1</td>\n",
       "      <td>8</td>\n",
       "      <td>4</td>\n",
       "      <td>Travel Agent/Operator</td>\n",
       "      <td>Other</td>\n",
       "      <td>0</td>\n",
       "      <td>0</td>\n",
       "      <td>0</td>\n",
       "      <td>0</td>\n",
       "      <td>0</td>\n",
       "      <td>0</td>\n",
       "      <td>0</td>\n",
       "      <td>0</td>\n",
       "      <td>0</td>\n",
       "      <td>0</td>\n",
       "      <td>0</td>\n",
       "      <td>0</td>\n",
       "      <td>1</td>\n",
       "    </tr>\n",
       "    <tr>\n",
       "      <th>24414</th>\n",
       "      <td>24415</td>\n",
       "      <td>GBR</td>\n",
       "      <td>54.0</td>\n",
       "      <td>942</td>\n",
       "      <td>0xED9C240A5F010895B633851D48325E86E768092F6D06...</td>\n",
       "      <td>0x135811FC2AEA536A7ECFA2CB75A77EA8A44FBAFBEA29...</td>\n",
       "      <td>96</td>\n",
       "      <td>201.6</td>\n",
       "      <td>68.5</td>\n",
       "      <td>0</td>\n",
       "      <td>0</td>\n",
       "      <td>1</td>\n",
       "      <td>6</td>\n",
       "      <td>3</td>\n",
       "      <td>Direct</td>\n",
       "      <td>Direct</td>\n",
       "      <td>0</td>\n",
       "      <td>0</td>\n",
       "      <td>0</td>\n",
       "      <td>0</td>\n",
       "      <td>0</td>\n",
       "      <td>0</td>\n",
       "      <td>0</td>\n",
       "      <td>1</td>\n",
       "      <td>0</td>\n",
       "      <td>0</td>\n",
       "      <td>0</td>\n",
       "      <td>0</td>\n",
       "      <td>0</td>\n",
       "    </tr>\n",
       "  </tbody>\n",
       "</table>\n",
       "</div>"
      ],
      "text/plain": [
       "            ID Nationality   Age  DaysSinceCreation  \\\n",
       "32960    32961         NOR  20.0                817   \n",
       "32069    32070         DEU  59.0                830   \n",
       "78422    78423         PRT   NaN                351   \n",
       "104323  104324         BEL  45.0                 95   \n",
       "24414    24415         GBR  54.0                942   \n",
       "\n",
       "                                                 NameHash  \\\n",
       "32960   0x4CF7F7F0FA91B5EB16A8D1807C8C834F2D95D1021A94...   \n",
       "32069   0x59684A037D012B7F11B7EF023491B5B19C51A9052514...   \n",
       "78422   0xC2C334C26C9B93A82410CA44F6CA38FA54D55CF42D79...   \n",
       "104323  0x78150342F2F44C14DA45033472165079A99A65B8A1E3...   \n",
       "24414   0xED9C240A5F010895B633851D48325E86E768092F6D06...   \n",
       "\n",
       "                                                DocIDHash  AverageLeadTime  \\\n",
       "32960   0x82C8ACC3313BA69B6F0BB695D676E83B0FF129771322...              189   \n",
       "32069   0x337132AF46188EEDEEE019F0E53067841D1CB54617F8...              237   \n",
       "78422   0x9B4B6C94757081E096FCE48314EC722AEE1D64D9FB14...                0   \n",
       "104323  0xD499EC6646448B7C8500B68B7F63B073D2E1177B24CA...              171   \n",
       "24414   0x135811FC2AEA536A7ECFA2CB75A77EA8A44FBAFBEA29...               96   \n",
       "\n",
       "        LodgingRevenue  OtherRevenue  BookingsCanceled  BookingsNoShowed  \\\n",
       "32960            295.2         164.0                 0                 0   \n",
       "32069            415.8          63.0                 0                 0   \n",
       "78422              0.0           0.0                 0                 0   \n",
       "104323           524.4         180.0                 0                 0   \n",
       "24414            201.6          68.5                 0                 0   \n",
       "\n",
       "        BookingsCheckedIn  PersonsNights  RoomNights    DistributionChannel  \\\n",
       "32960                   1              8           2                 Direct   \n",
       "32069                   1              9           3  Travel Agent/Operator   \n",
       "78422                   0              0           0                 Direct   \n",
       "104323                  1              8           4  Travel Agent/Operator   \n",
       "24414                   1              6           3                 Direct   \n",
       "\n",
       "       MarketSegment  SRHighFloor  SRLowFloor  SRAccessibleRoom  \\\n",
       "32960         Direct            0           0                 0   \n",
       "32069          Other            0           0                 0   \n",
       "78422         Direct            0           0                 0   \n",
       "104323         Other            0           0                 0   \n",
       "24414         Direct            0           0                 0   \n",
       "\n",
       "        SRMediumFloor  SRBathtub  SRShower  SRCrib  SRKingSizeBed  SRTwinBed  \\\n",
       "32960               0          0         0       0              0          0   \n",
       "32069               0          0         0       0              0          1   \n",
       "78422               0          0         0       0              0          0   \n",
       "104323              0          0         0       0              0          0   \n",
       "24414               0          0         0       0              1          0   \n",
       "\n",
       "        SRNearElevator  SRAwayFromElevator  SRNoAlcoholInMiniBar  SRQuietRoom  \n",
       "32960                0                   0                     0            0  \n",
       "32069                0                   0                     0            0  \n",
       "78422                0                   0                     0            0  \n",
       "104323               0                   0                     0            1  \n",
       "24414                0                   0                     0            0  "
      ]
     },
     "execution_count": 10,
     "metadata": {},
     "output_type": "execute_result"
    }
   ],
   "source": [
    "# Display a sample of the dataset\n",
    "data.sample(5)"
   ]
  },
  {
   "cell_type": "code",
   "execution_count": 11,
   "metadata": {},
   "outputs": [],
   "source": [
    "# Set ID as index\n",
    "data.set_index('ID', inplace=True)"
   ]
  },
  {
   "cell_type": "markdown",
   "metadata": {},
   "source": [
    "| #   | Column Name        | Description                                                                                       |\n",
    "|:----|:-------------------|:--------------------------------------------------------------------------------------------------|\n",
    "| 1   | ID        | Customer ID customer. |\n",
    "| 2   | Nationality    | Nationality of the customer in ISO 3166-1 (Alpha 3) format. |\n",
    "| 3   | Age       | Age of the customer. |\n",
    "| 4   | DaysSinceCreation       | Number of elapsed days since the customer was created. |\n",
    "| 5   | NameHash | Hash of the customer's name. |\n",
    "| 6   | DocIDHash | Hash of the customer’s personal document identification number (usually a passport or ID card). |\n",
    "| 7   | AverageLeadTime | Average number of days before arrival date the customer makes bookings. |\n",
    "| 8   | LodgingRevenue | Total amount of lodging revenue paid by the customer so far. |\n",
    "| 9   | OtherRevenue | Total amount of other revenue (e.g., food & beverage, spa, etc.) paid by the customer so far. |\n",
    "| 10  | BookingsCanceled | Number of bookings the customer made but subsequently canceled. |\n",
    "| 11  | BookingsNoShowed | Number of bookings the customer made but subsequently made a \"no-show\". |\n",
    "| 12  | BookingsCheckedin | Number of bookings the customer made, which actually ended up staying. |\n",
    "| 13  | PersonNights | Total person/nights the customer has stayed at the hotel so far. Persons/Nights are the sum of Adults and Children in each booking, multiplied by the number of Nights (Length-of-stay) of the booking. |\n",
    "| 14  | RoomNights | Total of room/nights the customer has stayed at the hotel so far. Room/Nights are the multiplication of the number of rooms of each booking by the the number of Nights (Length-of- stay) of the booking. |\n",
    "| 15  | DistributionChannel | Distribution channel normally used by the customer to make bookings at the hotel. |\n",
    "| 16  | MarketSegment | Current market segment of the customer. |\n",
    "| 17  | SRHighFloor | Indication if the customer usually asks for a room in a higher floor (0: No, 1: Yes). |\n",
    "| 18  | RLowFloor  | Indication if the customer usually asks for a room in a lower floor (0: No, 1: Yes).  | \n",
    "| 19  | SRAccessibleRoom | Indication if the customer usually asks for an accessible room (0: No, 1: Yes). |\n",
    "| 20  | SRMediumFloor | Indication if the customer usually asks for a room in a middle floor (0: No, 1: Yes). |\n",
    "| 21  | SRBathtub | Indication if the customer usually asks for a room with a bathtub (0: No, 1: Yes). |\n",
    "| 22  | SRShower | Indication if the customer usually asks for a room with a shower (0: No, 1: Yes). |\n",
    "| 23  | SRCrib  | Indication if the customer usually asks for a crib (0: No, 1: Yes). |\n",
    "| 24  | SRKingSizeBed | Indication if the customer usually asks for a room with a king size bed (0: No, 1: Yes). |\n",
    "| 25  | SRTwinBed | Indication if the customer usually asks for a room with a twin bed (0: No, 1: Yes). |\n",
    "| 26  | SRNearElevator | Indication if the customer usually asks for a room near the elevator (0: No, 1: Yes). |\n",
    "| 27  | SRAwayFromElevator | Indication if the customer usually asks for a room away from the elevator (0: No, 1: Yes). |\n",
    "| 28  | SRNoAlcoholInMiniBar | Indication if the customer usually asks for a room with no alcohol in the mini bar (0: No, 1: Yes). |\n",
    "| 29  | SRQuietRoom | Indication if the customer usually asks for a room away from the noise (0: No, 1: Yes). |\n"
   ]
  },
  {
   "cell_type": "markdown",
   "metadata": {},
   "source": [
    "# EDA"
   ]
  },
  {
   "cell_type": "code",
   "execution_count": 12,
   "metadata": {},
   "outputs": [
    {
     "name": "stdout",
     "output_type": "stream",
     "text": [
      "The 7 unique market segments are: Corporate, Travel Agent/Operator, Other, Direct, Complementary, Groups, Aviation.\n"
     ]
    }
   ],
   "source": [
    "# Check the unique market segments\n",
    "marketsegments = data['MarketSegment'].unique()\n",
    "print(f'The {len(marketsegments)} unique market segments are: {\", \".join(map(str, marketsegments))}.')"
   ]
  },
  {
   "cell_type": "markdown",
   "metadata": {},
   "source": [
    "The MarketSegment feature will be dropped, as we aim to develop a new customer segmentation model. Retaining this feature would not contribute to our analysis."
   ]
  },
  {
   "cell_type": "code",
   "execution_count": 13,
   "metadata": {},
   "outputs": [],
   "source": [
    "# Dropping the MarketSegment feature\n",
    "data.drop('MarketSegment', axis=1, inplace=True)"
   ]
  },
  {
   "cell_type": "code",
   "execution_count": 14,
   "metadata": {},
   "outputs": [
    {
     "name": "stdout",
     "output_type": "stream",
     "text": [
      "There are 8252 duplicates in the DocIDHash column.\n"
     ]
    }
   ],
   "source": [
    "# Check the number of duplicates in DocIDHash\n",
    "data['DocIDHash'].duplicated().sum()\n",
    "print(f'There are {data[\"DocIDHash\"].duplicated().sum()} duplicates in the DocIDHash column.')"
   ]
  },
  {
   "cell_type": "code",
   "execution_count": 15,
   "metadata": {},
   "outputs": [],
   "source": [
    "# Drop features where DocIDHash is duplicated\n",
    "data.drop_duplicates(subset='DocIDHash',\n",
    "                     keep='first',\n",
    "                     inplace=True) # Keep the first occurrence of the duplicated value  "
   ]
  },
  {
   "cell_type": "markdown",
   "metadata": {},
   "source": [
    "After removing duplicates based on DocIDHash, we will drop both NameHash and DocIDHash, as these are solely identification features and do not contribute to the segmentation."
   ]
  },
  {
   "cell_type": "code",
   "execution_count": 16,
   "metadata": {},
   "outputs": [],
   "source": [
    "# Drop columns relative to identification (NameHash, DocIDHash)\n",
    "data.drop(['NameHash', 'DocIDHash'], axis=1, inplace=True)"
   ]
  },
  {
   "cell_type": "markdown",
   "metadata": {},
   "source": [
    "We will create a feature named TotalRevenue, so we can filter customers(people who have spent) from accounts registered(people who haven't spent)"
   ]
  },
  {
   "cell_type": "code",
   "execution_count": 17,
   "metadata": {},
   "outputs": [],
   "source": [
    "# Create a feature called TotalRevenue which is the sum of LodgingRevenue and OtherRevenue\n",
    "data['TotalRevenue'] = data['LodgingRevenue'] + data['OtherRevenue']"
   ]
  },
  {
   "cell_type": "code",
   "execution_count": 18,
   "metadata": {},
   "outputs": [
    {
     "name": "stdout",
     "output_type": "stream",
     "text": [
      "There are 31349 customers with no spending data, which is 30.29% of the dataset.\n"
     ]
    }
   ],
   "source": [
    "# Check how many customers have a TotalRevenue of 0 and how many have bigger than zero\n",
    "nospendingdata = data[data['TotalRevenue']==0].shape[0]\n",
    "print(f'There are {nospendingdata} customers with no spending data, which is {nospendingdata/data.shape[0]*100:.2f}% of the dataset.')"
   ]
  },
  {
   "cell_type": "markdown",
   "metadata": {},
   "source": [
    "Approximately 30% of the dataset comprises accounts with zero spending. To focus solely on actual customers, we will filter the dataset using TotalRevenue, retaining only accounts that have made transactions at the hotel. This refined dataset will be used for all subsequent analyses."
   ]
  },
  {
   "cell_type": "code",
   "execution_count": 19,
   "metadata": {},
   "outputs": [],
   "source": [
    "# Create a dataframe with only customers who have spent\n",
    "customers = data[data['TotalRevenue']>0]"
   ]
  },
  {
   "cell_type": "code",
   "execution_count": 20,
   "metadata": {},
   "outputs": [
    {
     "data": {
      "text/html": [
       "<div>\n",
       "<style scoped>\n",
       "    .dataframe tbody tr th:only-of-type {\n",
       "        vertical-align: middle;\n",
       "    }\n",
       "\n",
       "    .dataframe tbody tr th {\n",
       "        vertical-align: top;\n",
       "    }\n",
       "\n",
       "    .dataframe thead th {\n",
       "        text-align: right;\n",
       "    }\n",
       "</style>\n",
       "<table border=\"1\" class=\"dataframe\">\n",
       "  <thead>\n",
       "    <tr style=\"text-align: right;\">\n",
       "      <th></th>\n",
       "      <th>count</th>\n",
       "      <th>mean</th>\n",
       "      <th>std</th>\n",
       "      <th>min</th>\n",
       "      <th>25%</th>\n",
       "      <th>50%</th>\n",
       "      <th>75%</th>\n",
       "      <th>max</th>\n",
       "    </tr>\n",
       "  </thead>\n",
       "  <tbody>\n",
       "    <tr>\n",
       "      <th>Age</th>\n",
       "      <td>71914.0</td>\n",
       "      <td>48.039853</td>\n",
       "      <td>15.306212</td>\n",
       "      <td>-10.0</td>\n",
       "      <td>36.000</td>\n",
       "      <td>48.00</td>\n",
       "      <td>59.0</td>\n",
       "      <td>115.00</td>\n",
       "    </tr>\n",
       "    <tr>\n",
       "      <th>DaysSinceCreation</th>\n",
       "      <td>72132.0</td>\n",
       "      <td>687.123205</td>\n",
       "      <td>375.326269</td>\n",
       "      <td>36.0</td>\n",
       "      <td>376.000</td>\n",
       "      <td>709.00</td>\n",
       "      <td>1005.0</td>\n",
       "      <td>1385.00</td>\n",
       "    </tr>\n",
       "    <tr>\n",
       "      <th>AverageLeadTime</th>\n",
       "      <td>72132.0</td>\n",
       "      <td>89.341374</td>\n",
       "      <td>90.277544</td>\n",
       "      <td>-1.0</td>\n",
       "      <td>19.000</td>\n",
       "      <td>61.00</td>\n",
       "      <td>136.0</td>\n",
       "      <td>588.00</td>\n",
       "    </tr>\n",
       "    <tr>\n",
       "      <th>LodgingRevenue</th>\n",
       "      <td>72132.0</td>\n",
       "      <td>413.594993</td>\n",
       "      <td>396.424439</td>\n",
       "      <td>0.0</td>\n",
       "      <td>196.200</td>\n",
       "      <td>317.50</td>\n",
       "      <td>492.0</td>\n",
       "      <td>21781.00</td>\n",
       "    </tr>\n",
       "    <tr>\n",
       "      <th>OtherRevenue</th>\n",
       "      <td>72132.0</td>\n",
       "      <td>94.212131</td>\n",
       "      <td>138.821250</td>\n",
       "      <td>0.0</td>\n",
       "      <td>28.000</td>\n",
       "      <td>60.50</td>\n",
       "      <td>116.0</td>\n",
       "      <td>8859.25</td>\n",
       "    </tr>\n",
       "    <tr>\n",
       "      <th>BookingsCanceled</th>\n",
       "      <td>72132.0</td>\n",
       "      <td>0.001733</td>\n",
       "      <td>0.078526</td>\n",
       "      <td>0.0</td>\n",
       "      <td>0.000</td>\n",
       "      <td>0.00</td>\n",
       "      <td>0.0</td>\n",
       "      <td>15.00</td>\n",
       "    </tr>\n",
       "    <tr>\n",
       "      <th>BookingsNoShowed</th>\n",
       "      <td>72132.0</td>\n",
       "      <td>0.000416</td>\n",
       "      <td>0.022336</td>\n",
       "      <td>0.0</td>\n",
       "      <td>0.000</td>\n",
       "      <td>0.00</td>\n",
       "      <td>0.0</td>\n",
       "      <td>2.00</td>\n",
       "    </tr>\n",
       "    <tr>\n",
       "      <th>BookingsCheckedIn</th>\n",
       "      <td>72132.0</td>\n",
       "      <td>1.037293</td>\n",
       "      <td>0.587137</td>\n",
       "      <td>1.0</td>\n",
       "      <td>1.000</td>\n",
       "      <td>1.00</td>\n",
       "      <td>1.0</td>\n",
       "      <td>76.00</td>\n",
       "    </tr>\n",
       "    <tr>\n",
       "      <th>PersonsNights</th>\n",
       "      <td>72132.0</td>\n",
       "      <td>6.325556</td>\n",
       "      <td>4.372742</td>\n",
       "      <td>0.0</td>\n",
       "      <td>3.000</td>\n",
       "      <td>6.00</td>\n",
       "      <td>8.0</td>\n",
       "      <td>116.00</td>\n",
       "    </tr>\n",
       "    <tr>\n",
       "      <th>RoomNights</th>\n",
       "      <td>72132.0</td>\n",
       "      <td>3.188294</td>\n",
       "      <td>2.088139</td>\n",
       "      <td>1.0</td>\n",
       "      <td>2.000</td>\n",
       "      <td>3.00</td>\n",
       "      <td>4.0</td>\n",
       "      <td>185.00</td>\n",
       "    </tr>\n",
       "    <tr>\n",
       "      <th>SRHighFloor</th>\n",
       "      <td>72132.0</td>\n",
       "      <td>0.042367</td>\n",
       "      <td>0.201426</td>\n",
       "      <td>0.0</td>\n",
       "      <td>0.000</td>\n",
       "      <td>0.00</td>\n",
       "      <td>0.0</td>\n",
       "      <td>1.00</td>\n",
       "    </tr>\n",
       "    <tr>\n",
       "      <th>SRLowFloor</th>\n",
       "      <td>72132.0</td>\n",
       "      <td>0.001234</td>\n",
       "      <td>0.035105</td>\n",
       "      <td>0.0</td>\n",
       "      <td>0.000</td>\n",
       "      <td>0.00</td>\n",
       "      <td>0.0</td>\n",
       "      <td>1.00</td>\n",
       "    </tr>\n",
       "    <tr>\n",
       "      <th>SRAccessibleRoom</th>\n",
       "      <td>72132.0</td>\n",
       "      <td>0.000250</td>\n",
       "      <td>0.015795</td>\n",
       "      <td>0.0</td>\n",
       "      <td>0.000</td>\n",
       "      <td>0.00</td>\n",
       "      <td>0.0</td>\n",
       "      <td>1.00</td>\n",
       "    </tr>\n",
       "    <tr>\n",
       "      <th>SRMediumFloor</th>\n",
       "      <td>72132.0</td>\n",
       "      <td>0.000665</td>\n",
       "      <td>0.025788</td>\n",
       "      <td>0.0</td>\n",
       "      <td>0.000</td>\n",
       "      <td>0.00</td>\n",
       "      <td>0.0</td>\n",
       "      <td>1.00</td>\n",
       "    </tr>\n",
       "    <tr>\n",
       "      <th>SRBathtub</th>\n",
       "      <td>72132.0</td>\n",
       "      <td>0.002981</td>\n",
       "      <td>0.054514</td>\n",
       "      <td>0.0</td>\n",
       "      <td>0.000</td>\n",
       "      <td>0.00</td>\n",
       "      <td>0.0</td>\n",
       "      <td>1.00</td>\n",
       "    </tr>\n",
       "    <tr>\n",
       "      <th>SRShower</th>\n",
       "      <td>72132.0</td>\n",
       "      <td>0.001733</td>\n",
       "      <td>0.041593</td>\n",
       "      <td>0.0</td>\n",
       "      <td>0.000</td>\n",
       "      <td>0.00</td>\n",
       "      <td>0.0</td>\n",
       "      <td>1.00</td>\n",
       "    </tr>\n",
       "    <tr>\n",
       "      <th>SRCrib</th>\n",
       "      <td>72132.0</td>\n",
       "      <td>0.010661</td>\n",
       "      <td>0.102701</td>\n",
       "      <td>0.0</td>\n",
       "      <td>0.000</td>\n",
       "      <td>0.00</td>\n",
       "      <td>0.0</td>\n",
       "      <td>1.00</td>\n",
       "    </tr>\n",
       "    <tr>\n",
       "      <th>SRKingSizeBed</th>\n",
       "      <td>72132.0</td>\n",
       "      <td>0.357054</td>\n",
       "      <td>0.479134</td>\n",
       "      <td>0.0</td>\n",
       "      <td>0.000</td>\n",
       "      <td>0.00</td>\n",
       "      <td>1.0</td>\n",
       "      <td>1.00</td>\n",
       "    </tr>\n",
       "    <tr>\n",
       "      <th>SRTwinBed</th>\n",
       "      <td>72132.0</td>\n",
       "      <td>0.150100</td>\n",
       "      <td>0.357172</td>\n",
       "      <td>0.0</td>\n",
       "      <td>0.000</td>\n",
       "      <td>0.00</td>\n",
       "      <td>0.0</td>\n",
       "      <td>1.00</td>\n",
       "    </tr>\n",
       "    <tr>\n",
       "      <th>SRNearElevator</th>\n",
       "      <td>72132.0</td>\n",
       "      <td>0.000347</td>\n",
       "      <td>0.018614</td>\n",
       "      <td>0.0</td>\n",
       "      <td>0.000</td>\n",
       "      <td>0.00</td>\n",
       "      <td>0.0</td>\n",
       "      <td>1.00</td>\n",
       "    </tr>\n",
       "    <tr>\n",
       "      <th>SRAwayFromElevator</th>\n",
       "      <td>72132.0</td>\n",
       "      <td>0.003674</td>\n",
       "      <td>0.060501</td>\n",
       "      <td>0.0</td>\n",
       "      <td>0.000</td>\n",
       "      <td>0.00</td>\n",
       "      <td>0.0</td>\n",
       "      <td>1.00</td>\n",
       "    </tr>\n",
       "    <tr>\n",
       "      <th>SRNoAlcoholInMiniBar</th>\n",
       "      <td>72132.0</td>\n",
       "      <td>0.000139</td>\n",
       "      <td>0.011774</td>\n",
       "      <td>0.0</td>\n",
       "      <td>0.000</td>\n",
       "      <td>0.00</td>\n",
       "      <td>0.0</td>\n",
       "      <td>1.00</td>\n",
       "    </tr>\n",
       "    <tr>\n",
       "      <th>SRQuietRoom</th>\n",
       "      <td>72132.0</td>\n",
       "      <td>0.088685</td>\n",
       "      <td>0.284290</td>\n",
       "      <td>0.0</td>\n",
       "      <td>0.000</td>\n",
       "      <td>0.00</td>\n",
       "      <td>0.0</td>\n",
       "      <td>1.00</td>\n",
       "    </tr>\n",
       "    <tr>\n",
       "      <th>TotalRevenue</th>\n",
       "      <td>72132.0</td>\n",
       "      <td>507.807124</td>\n",
       "      <td>471.830200</td>\n",
       "      <td>1.0</td>\n",
       "      <td>251.675</td>\n",
       "      <td>394.95</td>\n",
       "      <td>606.0</td>\n",
       "      <td>23365.00</td>\n",
       "    </tr>\n",
       "  </tbody>\n",
       "</table>\n",
       "</div>"
      ],
      "text/plain": [
       "                        count        mean         std   min      25%     50%  \\\n",
       "Age                   71914.0   48.039853   15.306212 -10.0   36.000   48.00   \n",
       "DaysSinceCreation     72132.0  687.123205  375.326269  36.0  376.000  709.00   \n",
       "AverageLeadTime       72132.0   89.341374   90.277544  -1.0   19.000   61.00   \n",
       "LodgingRevenue        72132.0  413.594993  396.424439   0.0  196.200  317.50   \n",
       "OtherRevenue          72132.0   94.212131  138.821250   0.0   28.000   60.50   \n",
       "BookingsCanceled      72132.0    0.001733    0.078526   0.0    0.000    0.00   \n",
       "BookingsNoShowed      72132.0    0.000416    0.022336   0.0    0.000    0.00   \n",
       "BookingsCheckedIn     72132.0    1.037293    0.587137   1.0    1.000    1.00   \n",
       "PersonsNights         72132.0    6.325556    4.372742   0.0    3.000    6.00   \n",
       "RoomNights            72132.0    3.188294    2.088139   1.0    2.000    3.00   \n",
       "SRHighFloor           72132.0    0.042367    0.201426   0.0    0.000    0.00   \n",
       "SRLowFloor            72132.0    0.001234    0.035105   0.0    0.000    0.00   \n",
       "SRAccessibleRoom      72132.0    0.000250    0.015795   0.0    0.000    0.00   \n",
       "SRMediumFloor         72132.0    0.000665    0.025788   0.0    0.000    0.00   \n",
       "SRBathtub             72132.0    0.002981    0.054514   0.0    0.000    0.00   \n",
       "SRShower              72132.0    0.001733    0.041593   0.0    0.000    0.00   \n",
       "SRCrib                72132.0    0.010661    0.102701   0.0    0.000    0.00   \n",
       "SRKingSizeBed         72132.0    0.357054    0.479134   0.0    0.000    0.00   \n",
       "SRTwinBed             72132.0    0.150100    0.357172   0.0    0.000    0.00   \n",
       "SRNearElevator        72132.0    0.000347    0.018614   0.0    0.000    0.00   \n",
       "SRAwayFromElevator    72132.0    0.003674    0.060501   0.0    0.000    0.00   \n",
       "SRNoAlcoholInMiniBar  72132.0    0.000139    0.011774   0.0    0.000    0.00   \n",
       "SRQuietRoom           72132.0    0.088685    0.284290   0.0    0.000    0.00   \n",
       "TotalRevenue          72132.0  507.807124  471.830200   1.0  251.675  394.95   \n",
       "\n",
       "                         75%       max  \n",
       "Age                     59.0    115.00  \n",
       "DaysSinceCreation     1005.0   1385.00  \n",
       "AverageLeadTime        136.0    588.00  \n",
       "LodgingRevenue         492.0  21781.00  \n",
       "OtherRevenue           116.0   8859.25  \n",
       "BookingsCanceled         0.0     15.00  \n",
       "BookingsNoShowed         0.0      2.00  \n",
       "BookingsCheckedIn        1.0     76.00  \n",
       "PersonsNights            8.0    116.00  \n",
       "RoomNights               4.0    185.00  \n",
       "SRHighFloor              0.0      1.00  \n",
       "SRLowFloor               0.0      1.00  \n",
       "SRAccessibleRoom         0.0      1.00  \n",
       "SRMediumFloor            0.0      1.00  \n",
       "SRBathtub                0.0      1.00  \n",
       "SRShower                 0.0      1.00  \n",
       "SRCrib                   0.0      1.00  \n",
       "SRKingSizeBed            1.0      1.00  \n",
       "SRTwinBed                0.0      1.00  \n",
       "SRNearElevator           0.0      1.00  \n",
       "SRAwayFromElevator       0.0      1.00  \n",
       "SRNoAlcoholInMiniBar     0.0      1.00  \n",
       "SRQuietRoom              0.0      1.00  \n",
       "TotalRevenue           606.0  23365.00  "
      ]
     },
     "execution_count": 20,
     "metadata": {},
     "output_type": "execute_result"
    }
   ],
   "source": [
    "customers.describe().T"
   ]
  },
  {
   "cell_type": "markdown",
   "metadata": {},
   "source": [
    "## Age\n",
    "`Age:` <br>\n",
    "Has missing values; <br>\n",
    "Average age is 45 years; <br>\n",
    "Min is -10; <br>\n",
    "Max is 115.\n",
    "\n",
    "Actionables: Deal with missing values, plot age distribution, check cases where age is negative, check cases where age is above 100. <br>\n",
    "\n",
    "\n",
    "**TO DO: Create bins with age segments.**"
   ]
  },
  {
   "cell_type": "markdown",
   "metadata": {},
   "source": [
    "Age wil be feature 1 of demographic clustering and there will be three groups:\n",
    "- Minors: under 18;\n",
    "- Young: 18-40;\n",
    "- Old: <40"
   ]
  },
  {
   "cell_type": "code",
   "execution_count": null,
   "metadata": {},
   "outputs": [],
   "source": [
    "# Check number of missing values in age\n",
    "customers['Age'].isnull().sum()\n",
    "print(f'There are {customers[\"Age\"].isnull().sum()} missing values in the Age column, which correspond to {customers[\"Age\"].isnull().sum()/len(customers)*100:.2f}% of the data.')"
   ]
  },
  {
   "cell_type": "code",
   "execution_count": null,
   "metadata": {},
   "outputs": [],
   "source": [
    "# Check age correlation with other columns \n",
    "customers.select_dtypes(include=[np.number]).corr()['Age'].sort_values(ascending=False)"
   ]
  },
  {
   "cell_type": "markdown",
   "metadata": {},
   "source": [
    "Our goal by checking this correlation was to see if any variable was correlated with age enough, that we could use in a predictive model to predict age. Since the highest correlated variable is 26% correlation, we discarded this idea, and just assumed to input median."
   ]
  },
  {
   "cell_type": "code",
   "execution_count": null,
   "metadata": {},
   "outputs": [],
   "source": [
    "# Check cases where age is negative\n",
    "print(f'There are {len(customers[customers['Age'] < 0])} cases where age is negative')\n",
    "customers[customers['Age'] < 0]"
   ]
  },
  {
   "cell_type": "markdown",
   "metadata": {},
   "source": [
    "All rows with negative values for age have in common DistributionChannel = 'Travel Agent/Operator', and are between [-10, -5].\n"
   ]
  },
  {
   "cell_type": "code",
   "execution_count": null,
   "metadata": {},
   "outputs": [],
   "source": [
    "# Check cases where age is above 100\n",
    "print(f'There are {len(customers[customers['Age'] > 90])} cases where age is above 90 years old, which corresponds to {len(customers[customers[\"Age\"] > 90])/len(customers)*100:.2f}% of the data.')\n",
    "customers[customers['Age'] > 90]"
   ]
  },
  {
   "cell_type": "markdown",
   "metadata": {},
   "source": [
    "Since only 0.02% of the data is above 90 years of age, we will treat this customers as outliers, and drop them to keep the integrity of the statistics."
   ]
  },
  {
   "cell_type": "code",
   "execution_count": 16,
   "metadata": {},
   "outputs": [],
   "source": [
    "# Drop rows where age is above 90\n",
    "customers = customers[customers['Age'] <= 90]"
   ]
  },
  {
   "cell_type": "code",
   "execution_count": 17,
   "metadata": {},
   "outputs": [],
   "source": [
    "# Turn the rows with age below 0 to NaN\n",
    "customers.loc[customers['Age'] < 0, 'Age'] = np.nan"
   ]
  },
  {
   "cell_type": "code",
   "execution_count": null,
   "metadata": {},
   "outputs": [],
   "source": [
    "# Fill missing values with median\n",
    "customers['Age'].fillna(customers['Age'].median(), inplace=True)"
   ]
  },
  {
   "cell_type": "code",
   "execution_count": null,
   "metadata": {},
   "outputs": [],
   "source": [
    "# check for missing values in age\n",
    "print(f'There are {customers[\"Age\"].isnull().sum()} missing values left in Age column.')"
   ]
  },
  {
   "cell_type": "markdown",
   "metadata": {},
   "source": [
    "## TotalRevenue"
   ]
  },
  {
   "cell_type": "markdown",
   "metadata": {},
   "source": [
    "TotalRevenue wil be feature 2 of demographic clustering and there will be three groups:\n",
    "- Low Spenders: under the 33th quantile;\n",
    "- Spenders: from 33th quantile to the 66th;\n",
    "- Top spenders : more than the the 66th quantile"
   ]
  },
  {
   "cell_type": "code",
   "execution_count": null,
   "metadata": {},
   "outputs": [],
   "source": [
    "# check missing values in total revenue\n",
    "print(f'There are {customers[\"TotalRevenue\"].isnull().sum()} missing values in TotalRevenue column.')"
   ]
  },
  {
   "cell_type": "code",
   "execution_count": null,
   "metadata": {},
   "outputs": [],
   "source": [
    "# check outliers in total revenue with a horizontal boxplot\n",
    "plt.figure(figsize=(10,5))\n",
    "sns.boxplot(customers['TotalRevenue'], orient='h')\n",
    "plt.show()"
   ]
  },
  {
   "cell_type": "code",
   "execution_count": null,
   "metadata": {},
   "outputs": [],
   "source": [
    "# get the 99th percentile of TotalRevenue\n",
    "percentile_99 = customers['TotalRevenue'].quantile(0.99)\n",
    "print(f'Only 1% of customers spend more than {percentile_99:.2f}.')"
   ]
  },
  {
   "cell_type": "code",
   "execution_count": null,
   "metadata": {},
   "outputs": [],
   "source": [
    "# How many values are above 10000\n",
    "\n",
    "print(f'There are only {customers[customers[\"TotalRevenue\"] > 10000].shape[0]} values above 10000 in TotalRevenue column, which represent {round(customers[customers[\"TotalRevenue\"] > 10000].shape[0]/customers.shape[0]*100,2)}% of customers.')"
   ]
  },
  {
   "cell_type": "markdown",
   "metadata": {},
   "source": [
    "We will drop customers who have spent over 10.000, as they are considered outliers."
   ]
  },
  {
   "cell_type": "code",
   "execution_count": 24,
   "metadata": {},
   "outputs": [],
   "source": [
    "# Drop rows with TotalRevenue above 10000\n",
    "customers = customers[customers['TotalRevenue'] <= 10000]"
   ]
  },
  {
   "cell_type": "code",
   "execution_count": null,
   "metadata": {},
   "outputs": [],
   "source": [
    "#Get quantile 0.33 and 0.66\n",
    "\n",
    "quantile_33 = customers['TotalRevenue'].quantile(0.33)\n",
    "quantile_66 = customers['TotalRevenue'].quantile(0.66)\n",
    "print(f'The 33rd percentile is {quantile_33:.2f} and the 66th percentile is {quantile_66:.2f}.')"
   ]
  },
  {
   "cell_type": "markdown",
   "metadata": {},
   "source": [
    "## BookingsCheckedIn\n",
    "\n",
    "We will have three groups:\n",
    "People who used our services (bar, spa, etc) but didn't stay at the hotel (BookingsCheckedIn)=0 <br>\n",
    "One time travellers BookingsCheckedIn=1 <br>\n",
    "Recurrent travellers BookingsCheckedIn>1"
   ]
  },
  {
   "cell_type": "code",
   "execution_count": null,
   "metadata": {},
   "outputs": [],
   "source": [
    "# Check for custoemrs with BookingsCheckedIn=0\n",
    "print(f'There are {customers[customers[\"BookingsCheckedIn\"]==0].shape[0]} customers with BookingsCheckedIn=0, which is {customers[customers[\"BookingsCheckedIn\"]==0].shape[0]/customers.shape[0]*100:.2f}% of the data.')"
   ]
  },
  {
   "cell_type": "code",
   "execution_count": null,
   "metadata": {},
   "outputs": [],
   "source": [
    "# Check for duplicates in DocIDHash in the customers dataset that also have BookingsCheckedIn=0\n",
    "print(f'There are {customers[customers[\"BookingsCheckedIn\"]==0][\"DocIDHash\"].duplicated().sum()} duplicates in the DocIDHash column for customers with BookingsCheckedIn=0.')\n",
    "print(f'There are {customers[\"DocIDHash\"].duplicated().sum()} duplicates in the DocIDHash column.')"
   ]
  },
  {
   "cell_type": "markdown",
   "metadata": {},
   "source": [
    "### Features for demographic clustering\n",
    "\n",
    "Objective: Identify customer groups based on who they are (age, nationality, loyalty, and spending habits).\n",
    "\n",
    "Feature 1 groups (Age): Young(18-35), middle aged (36-55()) or old(over 56). <br>\n",
    "Feature 2 groups (TotalRevenue): Very high spender(the top 10%) , High spender(from average spent(50%) to the top 10%), budget traveler (below average spent (lowest 50%)). <br>\n",
    "Feature 3 groups (BookingsCheckedIn): one time stop(=1), infrequent(1-3), frequent (<3)  <br>\n",
    "Feature 4 groups (PeoplePerRoom = PersonsNights/RoomNights): solo traveler(1), small group(2-5), big group (<5)."
   ]
  }
 ],
 "metadata": {
  "kernelspec": {
   "display_name": "DM2425",
   "language": "python",
   "name": "python3"
  },
  "language_info": {
   "codemirror_mode": {
    "name": "ipython",
    "version": 3
   },
   "file_extension": ".py",
   "mimetype": "text/x-python",
   "name": "python",
   "nbconvert_exporter": "python",
   "pygments_lexer": "ipython3",
   "version": "3.12.2"
  }
 },
 "nbformat": 4,
 "nbformat_minor": 2
}
